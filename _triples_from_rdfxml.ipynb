{
 "cells": [
  {
   "cell_type": "code",
   "id": "initial_id",
   "metadata": {
    "collapsed": true,
    "ExecuteTime": {
     "end_time": "2025-07-02T09:29:11.832982Z",
     "start_time": "2025-07-02T09:29:11.818815Z"
    }
   },
   "source": [
    "from rdflib import Graph\n",
    "from tqdm import tqdm\n",
    "import json"
   ],
   "outputs": [],
   "execution_count": 7
  },
  {
   "metadata": {},
   "cell_type": "code",
   "outputs": [],
   "execution_count": null,
   "source": [
    "graph = \"starwars\"\n",
    "\n",
    "mappings_file = \"./_input/mappings/\" + graph + \".json\"\n",
    "dogtags_file = \"./_input/dogtags/\" + graph + \".json\"\n",
    "\n",
    "input_file = \"./_input/rdfxml/\" + graph + \".xml\"\n",
    "output_file = \"./_input/triples/\" + graph + \".triples\""
   ],
   "id": "102af7aefca8ca49"
  },
  {
   "metadata": {},
   "cell_type": "code",
   "outputs": [],
   "execution_count": null,
   "source": [
    "with open(mappings_file) as file:\n",
    "    mappings = json.load(file)\n",
    "\n",
    "with open(dogtags_file) as file:\n",
    "    dogtags = json.load(file)"
   ],
   "id": "20715f2b2d0a123b"
  },
  {
   "metadata": {
    "ExecuteTime": {
     "end_time": "2025-07-02T09:49:15.684596Z",
     "start_time": "2025-07-02T09:29:17.176559Z"
    }
   },
   "cell_type": "code",
   "source": [
    "g = Graph()\n",
    "g.parse(input_file, format=\"xml\")"
   ],
   "id": "b2aa48c9e0ac56a2",
   "outputs": [
    {
     "data": {
      "text/plain": [
       "<Graph identifier=Naa43fbab88694414b7b7e10320ab3ffa (<class 'rdflib.graph.Graph'>)>"
      ]
     },
     "execution_count": 10,
     "metadata": {},
     "output_type": "execute_result"
    }
   ],
   "execution_count": 10
  },
  {
   "metadata": {
    "ExecuteTime": {
     "end_time": "2025-07-02T09:49:19.817479Z",
     "start_time": "2025-07-02T09:49:19.812655Z"
    }
   },
   "cell_type": "code",
   "source": [
    "def in_dogtags(value):\n",
    "    return value in dogtags"
   ],
   "id": "480b92c2d3043d76",
   "outputs": [],
   "execution_count": 11
  },
  {
   "metadata": {
    "ExecuteTime": {
     "end_time": "2025-07-02T10:05:41.804867Z",
     "start_time": "2025-07-02T09:49:20.578482Z"
    }
   },
   "cell_type": "code",
   "source": [
    "with open(output_file, \"w\") as file:\n",
    "    for subj, pred, obj in tqdm(g):\n",
    "        if in_dogtags(str(subj)) and in_dogtags(str(obj)):\n",
    "            file.write(str(mappings[str(subj)]) + \"###\" + str(mappings[str(obj)]) + \"###\" + str(mappings[str(pred)]) + \"\\n\")"
   ],
   "id": "5271e7a1b396c88c",
   "outputs": [
    {
     "name": "stderr",
     "output_type": "stream",
     "text": [
      "100%|██████████| 8246033/8246033 [16:21<00:00, 8404.08it/s]  \n"
     ]
    }
   ],
   "execution_count": 12
  },
  {
   "metadata": {
    "ExecuteTime": {
     "end_time": "2025-07-02T10:05:45.017020Z",
     "start_time": "2025-07-02T10:05:45.001993Z"
    }
   },
   "cell_type": "code",
   "source": "",
   "id": "c7d05fb22db6b0ba",
   "outputs": [],
   "execution_count": null
  }
 ],
 "metadata": {
  "kernelspec": {
   "display_name": "Python 3",
   "language": "python",
   "name": "python3"
  },
  "language_info": {
   "codemirror_mode": {
    "name": "ipython",
    "version": 2
   },
   "file_extension": ".py",
   "mimetype": "text/x-python",
   "name": "python",
   "nbconvert_exporter": "python",
   "pygments_lexer": "ipython2",
   "version": "2.7.6"
  }
 },
 "nbformat": 4,
 "nbformat_minor": 5
}
