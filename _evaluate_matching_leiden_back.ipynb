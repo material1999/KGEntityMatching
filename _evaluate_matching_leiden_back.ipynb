{
 "cells": [
  {
   "metadata": {
    "ExecuteTime": {
     "end_time": "2025-03-23T17:48:34.622627Z",
     "start_time": "2025-03-23T17:48:34.612624Z"
    }
   },
   "cell_type": "code",
   "source": [
    "import json\n",
    "from tqdm import tqdm"
   ],
   "id": "9de0d155d2dd41c1",
   "outputs": [],
   "execution_count": 1
  },
  {
   "cell_type": "code",
   "id": "initial_id",
   "metadata": {
    "collapsed": true,
    "ExecuteTime": {
     "end_time": "2025-03-23T17:48:53.788968Z",
     "start_time": "2025-03-23T17:48:53.771832Z"
    }
   },
   "source": [
    "big = \"memoryalpha\"\n",
    "small = \"stexpanded\"\n",
    "top_k = 1\n",
    "\n",
    "gold_pairs_file = \"./data/gold_pairs/\" + big + \"-\" + small + \"_formatted.txt\"\n",
    "matched_communities_file = \"./results/_matched_communities_leiden/top_10_pairs/\" + small + \"-\" + big + \"_top_10_pairs.json\"\n",
    "\n",
    "exact_match_file = \"./data/exact_match/\" + big + \"-\" + small + \"-formatted.json\"\n",
    "\n",
    "communities_big_file = \"./results/communities_leiden/\" + big + \"/level_0.txt\"\n",
    "communities_small_file = \"./results/communities_leiden/\" + small + \"/level_0.txt\"\n",
    "\n",
    "small_communities = []\n",
    "big_communities = []\n",
    "gold_pairs = []\n",
    "matched_communities = []"
   ],
   "outputs": [],
   "execution_count": 8
  },
  {
   "metadata": {
    "ExecuteTime": {
     "end_time": "2025-03-23T17:48:54.257114Z",
     "start_time": "2025-03-23T17:48:54.226330Z"
    }
   },
   "cell_type": "code",
   "source": [
    "with (open(communities_big_file) as cbf, open(communities_small_file) as csf,\n",
    "      open(gold_pairs_file) as gpf, open(matched_communities_file) as mcf):\n",
    "    \n",
    "    for line in csf:\n",
    "        numbers_set = {int(num) for num in line.strip().split(\" \")}\n",
    "        small_communities.append(numbers_set)\n",
    "\n",
    "    for line in cbf:\n",
    "        numbers_set = {int(num) for num in line.strip().split(\" \")}\n",
    "        big_communities.append(numbers_set)\n",
    "    \n",
    "    for line in gpf:\n",
    "        numbers_list = [int(num) for num in line.strip().split(\";\")]\n",
    "        gold_pairs.append(numbers_list)\n",
    "\n",
    "    matched_communities_load = json.load(mcf)\n",
    "    matched_communities = [[int(key), [int(values[i][0]) for i in range(0, top_k)]] for key, values in matched_communities_load.items()]"
   ],
   "id": "b73e9d65362a03b5",
   "outputs": [],
   "execution_count": 9
  },
  {
   "metadata": {
    "ExecuteTime": {
     "end_time": "2025-03-23T17:48:54.575705Z",
     "start_time": "2025-03-23T17:48:54.571484Z"
    }
   },
   "cell_type": "code",
   "source": "matched_communities",
   "id": "1085b0e53ab883c0",
   "outputs": [
    {
     "data": {
      "text/plain": [
       "[[0, [0]],\n",
       " [1, [0]],\n",
       " [2, [6]],\n",
       " [3, [0]],\n",
       " [4, [6]],\n",
       " [5, [6]],\n",
       " [6, [10]],\n",
       " [7, [0]],\n",
       " [8, [0]],\n",
       " [9, [4]],\n",
       " [10, [6]],\n",
       " [11, [6]],\n",
       " [12, [0]],\n",
       " [13, [1]],\n",
       " [14, [0]],\n",
       " [15, [4]],\n",
       " [16, [0]],\n",
       " [17, [12]],\n",
       " [18, [5]],\n",
       " [19, [6]],\n",
       " [20, [4]],\n",
       " [21, [4]],\n",
       " [22, [0]],\n",
       " [23, [6]],\n",
       " [24, [5]],\n",
       " [25, [16]]]"
      ]
     },
     "execution_count": 10,
     "metadata": {},
     "output_type": "execute_result"
    }
   ],
   "execution_count": 10
  },
  {
   "metadata": {
    "ExecuteTime": {
     "end_time": "2025-03-23T17:48:55.083802Z",
     "start_time": "2025-03-23T17:48:55.026471Z"
    }
   },
   "cell_type": "code",
   "source": [
    "with open(exact_match_file) as file:\n",
    "    exact_match = json.load(file)\n",
    "\n",
    "gold_not_exact = list()\n",
    "for p in gold_pairs:\n",
    "    if [p[0], p[1]] not in exact_match:\n",
    "        gold_not_exact.append([p[0], p[1]])"
   ],
   "id": "673df3f50b0c8e0d",
   "outputs": [],
   "execution_count": 11
  },
  {
   "metadata": {
    "ExecuteTime": {
     "end_time": "2025-03-23T17:48:55.910384Z",
     "start_time": "2025-03-23T17:48:55.567065Z"
    }
   },
   "cell_type": "code",
   "source": [
    "found = 0\n",
    "# all_pairs = len(gold_pairs)\n",
    "all_pairs = len(gold_not_exact)\n",
    "\n",
    "# for gold_pair in tqdm(gold_pairs):\n",
    "for gold_pair in tqdm(gold_not_exact):\n",
    "    for matched_community in matched_communities:\n",
    "        community_1 = small_communities[matched_community[0]]\n",
    "        community_2 = set()\n",
    "        for i in range(0, top_k):\n",
    "            community_2.update(big_communities[matched_community[1][i]])\n",
    "        if gold_pair[1] in community_1 and gold_pair[0] in community_2:\n",
    "            found += 1\n",
    "            # print(matched_community[0], matched_community[1], gold_pair)\n",
    "            break\n",
    "            \n",
    "print(\"Gold pairs in matched communities top \" + str(top_k) + \": \" + str(found / all_pairs * 100) + \"%\")"
   ],
   "id": "d459c28adfd0baf2",
   "outputs": [
    {
     "name": "stderr",
     "output_type": "stream",
     "text": [
      "100%|██████████| 148/148 [00:00<00:00, 446.20it/s]"
     ]
    },
    {
     "name": "stdout",
     "output_type": "stream",
     "text": [
      "Gold pairs in matched communities top 1: 47.2972972972973%\n"
     ]
    },
    {
     "name": "stderr",
     "output_type": "stream",
     "text": [
      "\n"
     ]
    }
   ],
   "execution_count": 12
  },
  {
   "metadata": {
    "ExecuteTime": {
     "end_time": "2025-03-23T17:48:58.918873Z",
     "start_time": "2025-03-23T17:48:58.913593Z"
    }
   },
   "cell_type": "code",
   "source": [
    "found_big = 0\n",
    "found_small = 0\n",
    "for gold_pair in gold_not_exact:\n",
    "    for big_community in big_communities:\n",
    "        if gold_pair[0] in big_community:\n",
    "            found_big += 1\n",
    "            break\n",
    "    for small_community in small_communities:\n",
    "        if gold_pair[1] in small_community:\n",
    "            found_small += 1\n",
    "            break\n",
    "\n",
    "print(\"Big: \" + str(found_big / all_pairs * 100) + \"%\")\n",
    "print(\"Small: \" + str(found_small / all_pairs * 100) + \"%\")"
   ],
   "id": "af723e7006d17110",
   "outputs": [
    {
     "name": "stdout",
     "output_type": "stream",
     "text": [
      "Big: 100.0%\n",
      "Small: 100.0%\n"
     ]
    }
   ],
   "execution_count": 13
  },
  {
   "metadata": {
    "ExecuteTime": {
     "end_time": "2025-03-15T13:44:42.130229Z",
     "start_time": "2025-03-15T13:44:42.128788Z"
    }
   },
   "cell_type": "code",
   "source": "",
   "id": "3028060c5b5b736",
   "outputs": [],
   "execution_count": null
  }
 ],
 "metadata": {
  "kernelspec": {
   "display_name": "Python 3",
   "language": "python",
   "name": "python3"
  },
  "language_info": {
   "codemirror_mode": {
    "name": "ipython",
    "version": 2
   },
   "file_extension": ".py",
   "mimetype": "text/x-python",
   "name": "python",
   "nbconvert_exporter": "python",
   "pygments_lexer": "ipython2",
   "version": "2.7.6"
  }
 },
 "nbformat": 4,
 "nbformat_minor": 5
}
