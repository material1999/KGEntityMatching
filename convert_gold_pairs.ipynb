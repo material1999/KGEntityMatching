{
 "cells": [
  {
   "metadata": {
    "ExecuteTime": {
     "end_time": "2024-10-17T00:10:45.755479Z",
     "start_time": "2024-10-17T00:10:45.744526Z"
    }
   },
   "cell_type": "code",
   "source": [
    "import re\n",
    "import json"
   ],
   "id": "4ca1f518fd9bd233",
   "outputs": [],
   "execution_count": 1
  },
  {
   "metadata": {
    "ExecuteTime": {
     "end_time": "2024-10-17T00:10:46.902169Z",
     "start_time": "2024-10-17T00:10:46.897702Z"
    }
   },
   "cell_type": "code",
   "source": [
    "big = \"memoryalpha\"\n",
    "small = \"stexpanded\"\n",
    "\n",
    "mapping_file_big = \"./data/triples_v2/\" + big + \"_mapping.json\"\n",
    "mapping_file_small = \"./data/triples_v2/\" + small + \"_mapping.json\"\n",
    "gold_pairs = \"./data/gold_pairs/\" + big + \"-\" + small + \".xml\"\n",
    "gold_pairs_formatted = \"./data/gold_pairs/\" + big + \"-\" + small + \"_formatted.txt\""
   ],
   "id": "2d923d27fda0b49e",
   "outputs": [],
   "execution_count": 2
  },
  {
   "metadata": {
    "ExecuteTime": {
     "end_time": "2024-10-17T00:10:48.265943Z",
     "start_time": "2024-10-17T00:10:47.735069Z"
    }
   },
   "cell_type": "code",
   "source": [
    "with open(gold_pairs, 'r', encoding='utf-8') as file:\n",
    "    xml_content = file.read()\n",
    "\n",
    "with open(mapping_file_big) as mfb, open(mapping_file_small) as mfs:\n",
    "    mapping_big = json.load(mfb)\n",
    "    mapping_small = json.load(mfs)"
   ],
   "id": "7b9f5197626bf153",
   "outputs": [],
   "execution_count": 3
  },
  {
   "metadata": {
    "ExecuteTime": {
     "end_time": "2024-10-17T00:11:05.986693Z",
     "start_time": "2024-10-17T00:11:05.953501Z"
    }
   },
   "cell_type": "code",
   "source": [
    "entity_pattern = r'<entity1 rdf:resource=\"([^\"]+)\".*?<entity2 rdf:resource=\"([^\"]+)\"'\n",
    "matches = re.findall(entity_pattern, xml_content, re.DOTALL)\n",
    "\n",
    "# with open(gold_pairs_formatted, 'w') as f:\n",
    "#     for entity1, entity2 in matches:\n",
    "#         f.write(f\"{entity1};{entity2}\\n\")\n",
    "\n",
    "with open(gold_pairs_formatted, 'w') as f:\n",
    "    for entity1, entity2 in matches:\n",
    "        f.write(f\"{mapping_big[entity1]};{mapping_small[entity2]}\\n\")"
   ],
   "id": "4f3243de5580a5a9",
   "outputs": [],
   "execution_count": 4
  },
  {
   "metadata": {},
   "cell_type": "code",
   "source": "",
   "id": "d96b67742079484d",
   "outputs": [],
   "execution_count": null
  }
 ],
 "metadata": {
  "kernelspec": {
   "display_name": "Python 3",
   "language": "python",
   "name": "python3"
  },
  "language_info": {
   "codemirror_mode": {
    "name": "ipython",
    "version": 2
   },
   "file_extension": ".py",
   "mimetype": "text/x-python",
   "name": "python",
   "nbconvert_exporter": "python",
   "pygments_lexer": "ipython2",
   "version": "2.7.6"
  }
 },
 "nbformat": 4,
 "nbformat_minor": 5
}
