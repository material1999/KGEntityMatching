{
 "cells": [
  {
   "metadata": {
    "ExecuteTime": {
     "end_time": "2025-02-16T14:23:00.648783Z",
     "start_time": "2025-02-16T14:23:00.645034Z"
    }
   },
   "cell_type": "code",
   "source": [
    "import os\n",
    "import re"
   ],
   "id": "4964a86ed3bcb495",
   "outputs": [],
   "execution_count": 36
  },
  {
   "metadata": {
    "ExecuteTime": {
     "end_time": "2025-02-16T14:23:00.659036Z",
     "start_time": "2025-02-16T14:23:00.655438Z"
    }
   },
   "cell_type": "code",
   "source": [
    "graph = \"marvel\"\n",
    "communities_path = \"./results/communities_leiden/\" + graph + \"/\"\n",
    "communities_final = \"./results/communities_leiden/\" + graph + \"/final.txt\"\n",
    "hierarchy_file = communities_path + \"/hierarchy.txt\""
   ],
   "id": "15385e4715da8c65",
   "outputs": [],
   "execution_count": 37
  },
  {
   "metadata": {
    "ExecuteTime": {
     "end_time": "2025-02-16T14:23:00.672664Z",
     "start_time": "2025-02-16T14:23:00.669957Z"
    }
   },
   "cell_type": "code",
   "source": [
    "def get_highest_level(directory):\n",
    "    max_level = -1\n",
    "    pattern = re.compile(r'level_(\\d+)\\.txt')\n",
    "    for filename in os.listdir(directory):\n",
    "        match = pattern.match(filename)\n",
    "        if match:\n",
    "            level = int(match.group(1))\n",
    "            max_level = max(max_level, level)\n",
    "    return max_level if max_level != -1 else None"
   ],
   "id": "cdf6999a49255e72",
   "outputs": [],
   "execution_count": 38
  },
  {
   "metadata": {
    "ExecuteTime": {
     "end_time": "2025-02-16T14:23:00.769284Z",
     "start_time": "2025-02-16T14:23:00.679383Z"
    }
   },
   "cell_type": "code",
   "source": [
    "communities = []\n",
    "with open(communities_final, \"r\") as f:\n",
    "    for line in f:\n",
    "        community = list(map(int, line.split()))\n",
    "        communities.append(community)"
   ],
   "id": "2d77d78e3db95808",
   "outputs": [],
   "execution_count": 39
  },
  {
   "metadata": {
    "ExecuteTime": {
     "end_time": "2025-02-16T14:36:21.008256Z",
     "start_time": "2025-02-16T14:23:00.775169Z"
    }
   },
   "cell_type": "code",
   "source": [
    "highest_level = get_highest_level(communities_path)\n",
    "\n",
    "with open(hierarchy_file, \"w\") as hf:\n",
    "\n",
    "    for i in range(highest_level - 1, -1, -1):\n",
    "        communities_file = \"./results/communities_leiden/\" + graph + \"/level_\" + str(i) + \".txt\"\n",
    "        communities_curr = []\n",
    "        with open(communities_file, \"r\") as f:\n",
    "            for line in f:\n",
    "                community = list(map(int, line.split()))\n",
    "                communities_curr.append(community)\n",
    "        for comm_curr in communities_curr:\n",
    "            index_list = []\n",
    "            for index, comm_final in enumerate(communities, start=1):\n",
    "                if set(comm_final).issubset(set(comm_curr)):\n",
    "                    index_list.append(index)\n",
    "            hf.write(\"level \" + str(i) + \" --- \" + str(index_list) + \"\\n\")\n",
    "            # print(\"level \" + str(i) + \" --- \" + str(index_list))"
   ],
   "id": "413f4c2f529aae53",
   "outputs": [],
   "execution_count": 40
  },
  {
   "metadata": {
    "ExecuteTime": {
     "end_time": "2025-02-16T14:36:21.066152Z",
     "start_time": "2025-02-16T14:36:21.063783Z"
    }
   },
   "cell_type": "code",
   "source": "",
   "id": "f73c4122935ace53",
   "outputs": [],
   "execution_count": null
  }
 ],
 "metadata": {
  "kernelspec": {
   "display_name": "Python 3",
   "language": "python",
   "name": "python3"
  },
  "language_info": {
   "codemirror_mode": {
    "name": "ipython",
    "version": 2
   },
   "file_extension": ".py",
   "mimetype": "text/x-python",
   "name": "python",
   "nbconvert_exporter": "python",
   "pygments_lexer": "ipython2",
   "version": "2.7.6"
  }
 },
 "nbformat": 4,
 "nbformat_minor": 5
}
