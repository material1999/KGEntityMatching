{
 "cells": [
  {
   "cell_type": "code",
   "id": "initial_id",
   "metadata": {
    "collapsed": true,
    "ExecuteTime": {
     "end_time": "2025-02-24T13:04:52.622542Z",
     "start_time": "2025-02-24T13:04:52.616973Z"
    }
   },
   "source": [
    "import json\n",
    "from tqdm import tqdm\n",
    "import networkx as nx\n",
    "import pandas as pd"
   ],
   "outputs": [],
   "execution_count": 13
  },
  {
   "metadata": {
    "ExecuteTime": {
     "end_time": "2025-02-24T13:04:52.630256Z",
     "start_time": "2025-02-24T13:04:52.627574Z"
    }
   },
   "cell_type": "code",
   "source": [
    "graph = \"swtor\"\n",
    "communities_file = \"results/communities_leiden/\" + graph + \"/final.txt\"\n",
    "graph_file = \"data/filtered_triples/\" + graph + \".triples\"\n",
    "mappings_file = \"data/triples_v2/\" + str(graph) + \"_mapping.json\"\n",
    "# top_betweenness_file = \"results/top_betweenness/\" + graph + \"_str.json\"\n",
    "top_betweenness_file = \"results/top_betweenness/\" + graph + \".json\""
   ],
   "id": "71c9357a3f878d99",
   "outputs": [],
   "execution_count": 14
  },
  {
   "metadata": {
    "ExecuteTime": {
     "end_time": "2025-02-24T13:04:52.990164Z",
     "start_time": "2025-02-24T13:04:52.692380Z"
    }
   },
   "cell_type": "code",
   "source": [
    "graph_df = pd.read_csv(graph_file, sep=\"###\", engine=\"python\", header=None)\n",
    "G_nx = nx.Graph()\n",
    "for row in graph_df.itertuples():\n",
    "    G_nx.add_edge(int(row[1]), int(row[2]))\n",
    "print(G_nx)"
   ],
   "id": "175e31ae63f04572",
   "outputs": [
    {
     "name": "stdout",
     "output_type": "stream",
     "text": [
      "Graph with 8528 nodes and 47315 edges\n"
     ]
    }
   ],
   "execution_count": 15
  },
  {
   "metadata": {
    "ExecuteTime": {
     "end_time": "2025-02-24T13:05:09.656210Z",
     "start_time": "2025-02-24T13:04:53.066020Z"
    }
   },
   "cell_type": "code",
   "source": [
    "with open(communities_file, 'r') as communities_input, open(mappings_file, \"r\") as mappings_input:\n",
    "    print(\"Processing graph \" + graph)\n",
    "    # print(\"##################################################\")\n",
    "    mappings = json.load(mappings_input)\n",
    "    results = []\n",
    "    for line in tqdm(communities_input):\n",
    "        entities = [int(e) for e in line.strip().split(\" \")]\n",
    "        G = G_nx.subgraph(entities)\n",
    "        # print(G)\n",
    "        betweenness = nx.betweenness_centrality(G)\n",
    "        sorted_betweenness = dict(sorted(betweenness.items(), key=lambda item: item[1], reverse=True))\n",
    "        # print(sorted_betweenness)\n",
    "        # top_10_betweenness = dict(list(sorted_betweenness.items())[:10])\n",
    "        top_10_betweenness = dict(list(sorted_betweenness.items()))\n",
    "        top_10_dict = {}\n",
    "        for k, v in top_10_betweenness.items():\n",
    "            k_string = str(next((key for key, value in mappings.items() if str(value) == str(k)), None))\n",
    "            # top_10_dict[k_string] = v\n",
    "            top_10_dict[k] = v\n",
    "            # print(k_string + \" \" + str(v))\n",
    "        # print(\"##################################################\")\n",
    "        results.append(top_10_dict)\n",
    "\n",
    "with open(top_betweenness_file, \"w\") as f:\n",
    "    json.dump(results, f, indent=4)"
   ],
   "id": "90953e49f9009bb3",
   "outputs": [
    {
     "name": "stdout",
     "output_type": "stream",
     "text": [
      "Processing graph swtor\n"
     ]
    },
    {
     "name": "stderr",
     "output_type": "stream",
     "text": [
      "328it [00:16, 19.82it/s]\n"
     ]
    }
   ],
   "execution_count": 16
  },
  {
   "metadata": {
    "ExecuteTime": {
     "end_time": "2025-02-24T13:05:09.665966Z",
     "start_time": "2025-02-24T13:05:09.663640Z"
    }
   },
   "cell_type": "code",
   "source": "",
   "id": "8062a1ce73365b9c",
   "outputs": [],
   "execution_count": null
  }
 ],
 "metadata": {
  "kernelspec": {
   "display_name": "Python 3",
   "language": "python",
   "name": "python3"
  },
  "language_info": {
   "codemirror_mode": {
    "name": "ipython",
    "version": 2
   },
   "file_extension": ".py",
   "mimetype": "text/x-python",
   "name": "python",
   "nbconvert_exporter": "python",
   "pygments_lexer": "ipython2",
   "version": "2.7.6"
  }
 },
 "nbformat": 4,
 "nbformat_minor": 5
}
