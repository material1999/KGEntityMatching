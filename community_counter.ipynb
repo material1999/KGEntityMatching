{
 "cells": [
  {
   "cell_type": "code",
   "id": "initial_id",
   "metadata": {
    "collapsed": true,
    "ExecuteTime": {
     "end_time": "2025-01-31T10:19:53.483847Z",
     "start_time": "2025-01-31T10:19:53.045627Z"
    }
   },
   "source": [
    "import networkx as nx\n",
    "import pandas as pd\n",
    "import json\n",
    "from tqdm import tqdm"
   ],
   "outputs": [],
   "execution_count": 2
  },
  {
   "metadata": {
    "ExecuteTime": {
     "end_time": "2025-01-31T10:19:54.150107Z",
     "start_time": "2025-01-31T10:19:54.142405Z"
    }
   },
   "cell_type": "code",
   "source": [
    "graph = \"stexpanded\"\n",
    "community_algorithm = \"bigclam\"\n",
    "graph_file = \"data/filtered_triples_new/\" + graph + \".triples\"\n",
    "communities_file = \"./results/communities_\" + community_algorithm + \"_new/\" + graph + \"_10000.txt\""
   ],
   "id": "52044dec1c4b7446",
   "outputs": [],
   "execution_count": 3
  },
  {
   "metadata": {
    "ExecuteTime": {
     "end_time": "2025-01-31T10:19:56.151884Z",
     "start_time": "2025-01-31T10:19:55.033318Z"
    }
   },
   "cell_type": "code",
   "source": [
    "print(\"##################################################\")\n",
    "\n",
    "print(graph)\n",
    "\n",
    "graph_df = pd.read_csv(graph_file, sep=\"###\", engine=\"python\", header=None)\n",
    "G = nx.Graph()\n",
    "for row in graph_df.itertuples():\n",
    "    G.add_edge(int(row[1]), int(row[2]))\n",
    "print(G)\n",
    "\n",
    "communities = []\n",
    "with open(communities_file) as cf:\n",
    "    for line in cf:\n",
    "        numbers_set = {int(num) for num in line.strip().split(\"\\t\")}\n",
    "        communities.append(numbers_set)"
   ],
   "id": "4942abeb6e7c17ac",
   "outputs": [
    {
     "name": "stdout",
     "output_type": "stream",
     "text": [
      "##################################################\n",
      "stexpanded\n",
      "Graph with 32297 nodes and 252868 edges\n"
     ]
    }
   ],
   "execution_count": 4
  },
  {
   "metadata": {
    "ExecuteTime": {
     "end_time": "2025-01-31T10:29:52.095815Z",
     "start_time": "2025-01-31T10:29:33.995835Z"
    }
   },
   "cell_type": "code",
   "source": [
    "community_counter = dict()\n",
    "for node in tqdm(G.nodes()):\n",
    "    current_counter = dict()\n",
    "    for community in communities:\n",
    "        if node in community:\n",
    "            for n in community:\n",
    "                if node != n:\n",
    "                    current_counter[n] = current_counter.get(n, 0) + 1\n",
    "    current_counter = dict(sorted(current_counter.items(), key=lambda x: x[1], reverse=True)[:50])\n",
    "    community_counter[node] = current_counter"
   ],
   "id": "196950278d94ad34",
   "outputs": [
    {
     "name": "stderr",
     "output_type": "stream",
     "text": [
      "100%|██████████| 32297/32297 [00:17<00:00, 1815.57it/s]\n"
     ]
    }
   ],
   "execution_count": 21
  },
  {
   "metadata": {
    "ExecuteTime": {
     "end_time": "2025-01-31T10:29:54.846281Z",
     "start_time": "2025-01-31T10:29:54.842498Z"
    }
   },
   "cell_type": "code",
   "source": "print(community_counter[1])",
   "id": "cb54d62359d502b0",
   "outputs": [
    {
     "name": "stdout",
     "output_type": "stream",
     "text": [
      "{52235: 1, 528: 1, 17: 1, 6675: 1, 1556: 1, 1561: 1, 30: 1, 8227: 1, 36: 1, 47670: 1, 56: 1, 37944: 1, 61: 1, 13886: 1, 11334: 1, 3143: 1, 76: 1, 38989: 1, 2126: 1, 1104: 1, 50769: 1, 27218: 1, 49754: 1, 45659: 1, 9309: 1, 7774: 1, 1120: 1, 1637: 1, 11878: 1, 6248: 1, 23662: 1, 112: 1, 5745: 1, 3189: 1, 8310: 1, 23157: 1, 38522: 1, 18555: 1, 637: 1, 4733: 1, 8842: 1, 74893: 1, 6286: 1, 2191: 1, 21650: 1, 148: 1, 26264: 1, 9368: 1, 157: 1, 7838: 1}\n"
     ]
    }
   ],
   "execution_count": 22
  },
  {
   "metadata": {
    "ExecuteTime": {
     "end_time": "2025-01-31T10:30:37.194853Z",
     "start_time": "2025-01-31T10:30:36.636311Z"
    }
   },
   "cell_type": "code",
   "source": [
    "output_path = \"./results/community_counter/\" + graph + \".json\"\n",
    "with open(output_path, \"w\") as of:\n",
    "    json.dump(community_counter, of, indent = 4)"
   ],
   "id": "ae25332c561eb787",
   "outputs": [],
   "execution_count": 24
  },
  {
   "metadata": {},
   "cell_type": "code",
   "outputs": [],
   "execution_count": null,
   "source": "",
   "id": "cacf40052f83de3b"
  }
 ],
 "metadata": {
  "kernelspec": {
   "display_name": "Python 3",
   "language": "python",
   "name": "python3"
  },
  "language_info": {
   "codemirror_mode": {
    "name": "ipython",
    "version": 2
   },
   "file_extension": ".py",
   "mimetype": "text/x-python",
   "name": "python",
   "nbconvert_exporter": "python",
   "pygments_lexer": "ipython2",
   "version": "2.7.6"
  }
 },
 "nbformat": 4,
 "nbformat_minor": 5
}
