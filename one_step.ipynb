{
 "cells": [
  {
   "cell_type": "code",
   "id": "initial_id",
   "metadata": {
    "collapsed": true,
    "ExecuteTime": {
     "end_time": "2024-09-23T14:23:25.435046Z",
     "start_time": "2024-09-23T14:23:24.947268Z"
    }
   },
   "source": [
    "import os\n",
    "import pandas as pd\n",
    "import networkx as nx\n",
    "from tqdm import tqdm"
   ],
   "outputs": [],
   "execution_count": 1
  },
  {
   "metadata": {
    "ExecuteTime": {
     "end_time": "2024-09-23T14:23:25.483548Z",
     "start_time": "2024-09-23T14:23:25.481118Z"
    }
   },
   "cell_type": "code",
   "source": [
    "filtered_triples_weighted_path = \"/Users/matevass/Documents/Projects/KGEntityMatching/data/filtered_triples_weighted/\"\n",
    "one_step_path = \"/Users/matevass/Documents/Projects/KGEntityMatching/data/one_step/\"\n",
    "\n",
    "filtered_triples_weighted = sorted([elem for elem in os.listdir(filtered_triples_weighted_path) if \".triples\" in elem])\n",
    "num_of_files = len(filtered_triples_weighted)"
   ],
   "id": "4527c43d48d3ff13",
   "outputs": [],
   "execution_count": 2
  },
  {
   "metadata": {
    "ExecuteTime": {
     "end_time": "2024-09-23T14:24:08.741054Z",
     "start_time": "2024-09-23T14:23:25.574049Z"
    }
   },
   "cell_type": "code",
   "source": [
    "for i in range(num_of_files):\n",
    "\n",
    "    graph = filtered_triples_weighted[i].replace(\".triples\", \"\")\n",
    "    print(\"Searching for one-step communities in graph \" + graph)\n",
    "\n",
    "    print(\"Reading graph \" + str(graph))\n",
    "    graph_df = pd.read_csv(filtered_triples_weighted_path + graph + \".triples\", sep=\"###\", engine=\"python\", header=None)\n",
    "    G = nx.Graph()\n",
    "    for row in graph_df.itertuples():\n",
    "        G.add_edge(int(row[1]), int(row[2]), weight=int(row[3]))\n",
    "\n",
    "    print(G)\n",
    "\n",
    "    with open(one_step_path + graph + \".csv\", 'w') as one_step_output:\n",
    "        count = 0\n",
    "        for node in tqdm(G.nodes()):\n",
    "            #for node in G.nodes():\n",
    "            count += 1\n",
    "            one_step = [node] + [n for n in G[node]]\n",
    "            # print(str(node) + \" --- \" + str(len(one_step)))\n",
    "            one_step_output.write(str(one_step).replace(\"[\", \"\")\n",
    "                                  .replace(\"]\", \"\")\n",
    "                                  .replace(\", \", \";\") + \"\\n\")\n",
    "\n",
    "    print(\"One-step communities for graph \" + graph + \" found: \" + str(count))\n"
   ],
   "id": "360dfef6d42004b",
   "outputs": [
    {
     "name": "stdout",
     "output_type": "stream",
     "text": [
      "Searching for one-step communities in graph marvel\n",
      "Reading graph marvel\n",
      "Graph with 194624 nodes and 1808468 edges\n"
     ]
    },
    {
     "name": "stderr",
     "output_type": "stream",
     "text": [
      "100%|██████████| 194624/194624 [00:00<00:00, 252427.60it/s]\n"
     ]
    },
    {
     "name": "stdout",
     "output_type": "stream",
     "text": [
      "One-step communities for graph marvel found: 194624\n",
      "Searching for one-step communities in graph mcu\n",
      "Reading graph mcu\n",
      "Graph with 19943 nodes and 259461 edges\n"
     ]
    },
    {
     "name": "stderr",
     "output_type": "stream",
     "text": [
      "100%|██████████| 19943/19943 [00:00<00:00, 211679.36it/s]"
     ]
    },
    {
     "name": "stdout",
     "output_type": "stream",
     "text": [
      "One-step communities for graph mcu found: 19943\n",
      "Searching for one-step communities in graph memoryalpha\n",
      "Reading graph memoryalpha\n"
     ]
    },
    {
     "name": "stderr",
     "output_type": "stream",
     "text": [
      "\n"
     ]
    },
    {
     "name": "stdout",
     "output_type": "stream",
     "text": [
      "Graph with 66406 nodes and 1248752 edges\n"
     ]
    },
    {
     "name": "stderr",
     "output_type": "stream",
     "text": [
      "100%|██████████| 66406/66406 [00:00<00:00, 163952.03it/s]\n"
     ]
    },
    {
     "name": "stdout",
     "output_type": "stream",
     "text": [
      "One-step communities for graph memoryalpha found: 66406\n",
      "Searching for one-step communities in graph memorybeta\n",
      "Reading graph memorybeta\n",
      "Graph with 128701 nodes and 1303902 edges\n"
     ]
    },
    {
     "name": "stderr",
     "output_type": "stream",
     "text": [
      "100%|██████████| 128701/128701 [00:00<00:00, 259596.59it/s]\n"
     ]
    },
    {
     "name": "stdout",
     "output_type": "stream",
     "text": [
      "One-step communities for graph memorybeta found: 128701\n",
      "Searching for one-step communities in graph starwars\n",
      "Reading graph starwars\n",
      "Graph with 184641 nodes and 3338888 edges\n"
     ]
    },
    {
     "name": "stderr",
     "output_type": "stream",
     "text": [
      "100%|██████████| 184641/184641 [00:01<00:00, 146032.48it/s]\n"
     ]
    },
    {
     "name": "stdout",
     "output_type": "stream",
     "text": [
      "One-step communities for graph starwars found: 184641\n",
      "Searching for one-step communities in graph stexpanded\n",
      "Reading graph stexpanded\n",
      "Graph with 31448 nodes and 235944 edges\n"
     ]
    },
    {
     "name": "stderr",
     "output_type": "stream",
     "text": [
      "100%|██████████| 31448/31448 [00:00<00:00, 286349.22it/s]"
     ]
    },
    {
     "name": "stdout",
     "output_type": "stream",
     "text": [
      "One-step communities for graph stexpanded found: 31448\n",
      "Searching for one-step communities in graph swg\n",
      "Reading graph swg\n"
     ]
    },
    {
     "name": "stderr",
     "output_type": "stream",
     "text": [
      "\n"
     ]
    },
    {
     "name": "stdout",
     "output_type": "stream",
     "text": [
      "Graph with 16615 nodes and 71113 edges\n"
     ]
    },
    {
     "name": "stderr",
     "output_type": "stream",
     "text": [
      "100%|██████████| 16615/16615 [00:00<00:00, 388411.27it/s]\n"
     ]
    },
    {
     "name": "stdout",
     "output_type": "stream",
     "text": [
      "One-step communities for graph swg found: 16615\n",
      "Searching for one-step communities in graph swtor\n",
      "Reading graph swtor\n",
      "Graph with 7724 nodes and 41011 edges\n"
     ]
    },
    {
     "name": "stderr",
     "output_type": "stream",
     "text": [
      "100%|██████████| 7724/7724 [00:00<00:00, 371165.44it/s]"
     ]
    },
    {
     "name": "stdout",
     "output_type": "stream",
     "text": [
      "One-step communities for graph swtor found: 7724\n"
     ]
    },
    {
     "name": "stderr",
     "output_type": "stream",
     "text": [
      "\n"
     ]
    }
   ],
   "execution_count": 3
  },
  {
   "metadata": {
    "ExecuteTime": {
     "end_time": "2024-09-23T14:24:08.753578Z",
     "start_time": "2024-09-23T14:24:08.752194Z"
    }
   },
   "cell_type": "code",
   "source": "",
   "id": "2dd273712d818a3d",
   "outputs": [],
   "execution_count": null
  }
 ],
 "metadata": {
  "kernelspec": {
   "display_name": "Python 3",
   "language": "python",
   "name": "python3"
  },
  "language_info": {
   "codemirror_mode": {
    "name": "ipython",
    "version": 2
   },
   "file_extension": ".py",
   "mimetype": "text/x-python",
   "name": "python",
   "nbconvert_exporter": "python",
   "pygments_lexer": "ipython2",
   "version": "2.7.6"
  }
 },
 "nbformat": 4,
 "nbformat_minor": 5
}
