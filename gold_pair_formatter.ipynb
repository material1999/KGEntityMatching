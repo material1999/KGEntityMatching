{
 "cells": [
  {
   "cell_type": "code",
   "id": "initial_id",
   "metadata": {
    "collapsed": true,
    "ExecuteTime": {
     "end_time": "2025-07-10T18:19:45.907179Z",
     "start_time": "2025-07-10T18:19:45.893898Z"
    }
   },
   "source": [
    "big = \"starwars\"\n",
    "small = \"swtor\"\n",
    "\n",
    "with open(\"_input/gold_pairs/\" + big + \"-\" + small + \".txt\", \"r\") as f:\n",
    "    data = f.readlines()\n",
    "\n",
    "with open(\"_input/gold_pairs/_\" + small + \"-\" + big + \".txt\", \"w\") as f:\n",
    "    for item in data:\n",
    "        item_0 = item.strip().split(\";\")[0]\n",
    "        item_1 = item.strip().split(\";\")[1]\n",
    "        f.write(item_1 + \";\" + item_0 + \"\\n\")\n",
    "\n",
    "print(\"ID replacement completed and saved to '\" + small + \"-\" + big + \".txt'\")"
   ],
   "outputs": [
    {
     "name": "stdout",
     "output_type": "stream",
     "text": [
      "ID replacement completed and saved to 'swtor-starwars.txt'\n"
     ]
    }
   ],
   "execution_count": 12
  },
  {
   "metadata": {},
   "cell_type": "code",
   "source": "",
   "id": "d0dac1c812a11d6c",
   "outputs": [],
   "execution_count": null
  }
 ],
 "metadata": {
  "kernelspec": {
   "display_name": "Python 3",
   "language": "python",
   "name": "python3"
  },
  "language_info": {
   "codemirror_mode": {
    "name": "ipython",
    "version": 2
   },
   "file_extension": ".py",
   "mimetype": "text/x-python",
   "name": "python",
   "nbconvert_exporter": "python",
   "pygments_lexer": "ipython2",
   "version": "2.7.6"
  }
 },
 "nbformat": 4,
 "nbformat_minor": 5
}
