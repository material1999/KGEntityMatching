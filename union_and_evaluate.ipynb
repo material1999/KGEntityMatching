{
 "cells": [
  {
   "metadata": {
    "ExecuteTime": {
     "end_time": "2025-09-25T12:51:52.837865Z",
     "start_time": "2025-09-25T12:51:52.749702Z"
    }
   },
   "cell_type": "code",
   "source": [
    "import json\n",
    "import statistics\n",
    "import numpy as np\n",
    "from tqdm import tqdm"
   ],
   "id": "3484b8c4e8f5e944",
   "outputs": [],
   "execution_count": 1
  },
  {
   "cell_type": "code",
   "id": "initial_id",
   "metadata": {
    "collapsed": true,
    "ExecuteTime": {
     "end_time": "2025-09-25T12:51:56.882315Z",
     "start_time": "2025-09-25T12:51:56.878108Z"
    }
   },
   "source": [
    "small = \"stexpanded\"\n",
    "big = \"memoryalpha\"\n",
    "\n",
    "input_file = \"/Users/matevass/Documents/Projects/KGEntityMatching-Public/results/dogtag_long_top1/\" + small + \"-\" + big + \".json\"\n",
    "\n",
    "gold_pairs_file = \"/Users/matevass/Documents/Projects/KGEntityMatching-Public/results/gold_pairs/\" + small + \"-\" + big + \".json\"\n",
    "exact_match_file = \"/Users/matevass/Documents/Projects/KGEntityMatching-Public/results/exactmatch_deduplicated/\" + small + \"-\" + big + \".json\""
   ],
   "outputs": [],
   "execution_count": 2
  },
  {
   "metadata": {
    "ExecuteTime": {
     "end_time": "2025-09-25T12:51:57.402235Z",
     "start_time": "2025-09-25T12:51:57.387447Z"
    }
   },
   "cell_type": "code",
   "source": [
    "with open(gold_pairs_file) as gpf:\n",
    "    gold_pairs = json.load(gpf)\n",
    "\n",
    "with open(exact_match_file) as emf:\n",
    "    exact_matches = json.load(emf)\n",
    "\n",
    "with open(input_file) as file:\n",
    "    found_pairs = json.load(file)"
   ],
   "id": "b7ad26fb46fb98e5",
   "outputs": [],
   "execution_count": 3
  },
  {
   "metadata": {
    "ExecuteTime": {
     "end_time": "2025-09-25T12:51:57.747301Z",
     "start_time": "2025-09-25T12:51:57.732780Z"
    }
   },
   "cell_type": "code",
   "source": [
    "def get_tp(golds, preds):\n",
    "    tps = list()\n",
    "    remaining = list()\n",
    "    for pred in preds:\n",
    "        found = False\n",
    "        for gold in golds:\n",
    "            if gold[0] == pred[0] and gold[1] == pred[1]:\n",
    "                found = True\n",
    "                tps.append(pred)\n",
    "                break\n",
    "        if found is False:\n",
    "            remaining.append(pred)\n",
    "    return tps, remaining\n",
    "\n",
    "\n",
    "def get_fn(golds, preds):\n",
    "    fns = list()\n",
    "    for gold in golds:\n",
    "        found = False\n",
    "        for pred in preds:\n",
    "            if gold[0] == pred[0] and gold[1] == pred[1]:\n",
    "                found = True\n",
    "                break\n",
    "        if found is False:\n",
    "            fns.append(gold)\n",
    "    return fns\n",
    "\n",
    "\n",
    "def get_fp(golds, preds):\n",
    "    fps = list()\n",
    "    remaining = list()\n",
    "    for pred in preds:\n",
    "        found = False\n",
    "        for gold in golds:\n",
    "            if (gold[0] == pred[0] and gold[1] != pred[1]) or (gold[0] != pred[0] and gold[1] == pred[1]):\n",
    "                found = True\n",
    "                fps.append(pred)\n",
    "                break\n",
    "        if found is False:\n",
    "            remaining.append(pred)\n",
    "    return fps, remaining\n",
    "\n",
    "\n",
    "def discard_preds(preds, golds):\n",
    "    gold1 = {element[0] for element in golds}\n",
    "    gold2 = {element[1] for element in golds}\n",
    "\n",
    "    returnables = list()\n",
    "    for pair in preds:\n",
    "        if pair[0] in gold1 or pair[1] in gold2:\n",
    "            returnables.append(pair)\n",
    "    return returnables\n",
    "\n",
    "\n",
    "def evaluate_preds(golds, preds):\n",
    "    return evaluate_preds_extended(golds, preds)[:3]\n",
    "\n",
    "\n",
    "def evaluate_preds_extended_discard(golds, preds):\n",
    "    preds_discarded = discard_preds(preds, golds)\n",
    "\n",
    "    fns = get_fn(golds, preds_discarded)\n",
    "    tps, remaining = get_tp(golds, preds_discarded)\n",
    "    fps, remaining2 = get_fp(golds, remaining)\n",
    "\n",
    "    precision = len(tps) / (len(tps) + len(fps))\n",
    "    recall = len(tps) / (len(tps) + len(fns))\n",
    "    f1 = 2 * precision * recall / (precision + recall)\n",
    "\n",
    "    return precision, recall, f1, tps, fns, fps\n",
    "\n",
    "\n",
    "def evaluate_preds_extended(golds, preds):\n",
    "    fns = get_fn(golds, preds)\n",
    "    tps, remaining = get_tp(golds, preds)\n",
    "    fps, remaining2 = get_fp(golds, remaining)\n",
    "\n",
    "    precision = len(tps) / (len(tps) + len(fps))\n",
    "    recall = len(tps) / (len(tps) + len(fns))\n",
    "    f1 = 2 * precision * recall / (precision + recall)\n",
    "\n",
    "    return precision, recall, f1, tps, fns, fps"
   ],
   "id": "7ef5e0b3ce96dc62",
   "outputs": [],
   "execution_count": 4
  },
  {
   "metadata": {
    "ExecuteTime": {
     "end_time": "2025-09-25T12:51:58.016287Z",
     "start_time": "2025-09-25T12:51:58.013324Z"
    }
   },
   "cell_type": "code",
   "source": [
    "def threshold_found_median(exact_matches, found_pairs):\n",
    "\n",
    "    found_pairs_nodes = [[item[0], item[1]] for item in found_pairs]\n",
    "    scores_list = []\n",
    "\n",
    "    for em in exact_matches:\n",
    "        if em in found_pairs_nodes:\n",
    "            for pair in found_pairs:\n",
    "                if pair[0] == em[0] and pair[1] == em[1]:\n",
    "                    scores_list.append(float(pair[2]))\n",
    "\n",
    "    threshold_val = statistics.median(scores_list)\n",
    "    return threshold_val"
   ],
   "id": "d056e50c7ab0426a",
   "outputs": [],
   "execution_count": 5
  },
  {
   "metadata": {
    "ExecuteTime": {
     "end_time": "2025-09-25T12:52:12.043320Z",
     "start_time": "2025-09-25T12:51:58.418462Z"
    }
   },
   "cell_type": "code",
   "source": [
    "# print(\"##############################\")\n",
    "\n",
    "prec, recall, f1, ex_tp, ex_fn, ex_fp = evaluate_preds_extended_discard(gold_pairs, found_pairs)\n",
    "\n",
    "# print(\"no threshold\")\n",
    "# print(\"precision:\", prec)\n",
    "# print(\"recall:\", recall)\n",
    "# print(\"f1:\", f1)\n",
    "\n",
    "no_prec = prec\n",
    "no_recall = recall\n",
    "no_f1 = f1\n",
    "\n",
    "# print(\"##############################\")\n",
    "\n",
    "threshold_median = threshold_found_median(exact_matches, found_pairs)\n",
    "\n",
    "output = list()\n",
    "for pair in found_pairs:\n",
    "    if pair[2] >= threshold_median:\n",
    "        output.append(pair)\n",
    "\n",
    "prec, recall, f1, ex_tp, ex_fn, ex_fp = evaluate_preds_extended_discard(gold_pairs, output)\n",
    "\n",
    "# print(\"threshold:\", threshold_median)\n",
    "# print(\"precision:\", prec)\n",
    "# print(\"recall:\", recall)\n",
    "# print(\"f1:\", f1)\n",
    "\n",
    "original_prec = prec\n",
    "original_recall = recall\n",
    "original_f1 = f1\n",
    "\n",
    "# print(\"##############################\")\n",
    "\n",
    "best_t = None\n",
    "best_p = None\n",
    "best_r = None\n",
    "best_f1 = f1\n",
    "\n",
    "for t in tqdm(np.arange(0.1, threshold_median, 0.01)):\n",
    "\n",
    "    output = list()\n",
    "    for pair in found_pairs:\n",
    "        if pair[2] >= t:\n",
    "            output.append(pair)\n",
    "\n",
    "    prec, recall, f1, ex_tp, ex_fn, ex_fp = evaluate_preds_extended_discard(gold_pairs, output)\n",
    "\n",
    "    # print(\"threshold:\", t)\n",
    "    # print(\"precision:\", prec)\n",
    "    # print(\"recall:\", recall)\n",
    "    # print(\"f1:\", f1)\n",
    "\n",
    "    if f1 > best_f1:\n",
    "        best_t = t\n",
    "        best_p = prec\n",
    "        best_r = recall\n",
    "        best_f1 = f1\n",
    "\n",
    "    # print(\"##############################\")\n",
    "\n",
    "print(\"##############################\")\n",
    "print(\"######### CONCLUSION #########\")\n",
    "print(\"##############################\")\n",
    "\n",
    "print(\"original threshold:\", threshold_median)\n",
    "print(\"original precision:\", original_prec)\n",
    "print(\"original recall:\", original_recall)\n",
    "print(\"original f1:\", original_f1)\n",
    "\n",
    "print(\"##############################\")\n",
    "\n",
    "print(\"no threshold\")\n",
    "print(\"no_prec:\", no_prec)\n",
    "print(\"no_recall:\", no_recall)\n",
    "print(\"no_f1:\", no_f1)\n",
    "\n",
    "print(\"##############################\")\n",
    "\n",
    "print(\"best threshold:\", best_t)\n",
    "print(\"best precision:\", best_p)\n",
    "print(\"best recall:\", best_r)\n",
    "print(\"best f1:\", best_f1)"
   ],
   "id": "3396784e3fc17993",
   "outputs": [
    {
     "name": "stderr",
     "output_type": "stream",
     "text": [
      "100%|██████████| 77/77 [00:12<00:00,  6.19it/s]"
     ]
    },
    {
     "name": "stdout",
     "output_type": "stream",
     "text": [
      "##############################\n",
      "######### CONCLUSION #########\n",
      "##############################\n",
      "original threshold: 0.8674246072769165\n",
      "original precision: 0.9577874818049491\n",
      "original recall: 0.3698707138842046\n",
      "original f1: 0.5336577453365774\n",
      "##############################\n",
      "no threshold\n",
      "no_prec: 0.7800338409475466\n",
      "no_recall: 0.7774030354131535\n",
      "no_f1: 0.7787162162162162\n",
      "##############################\n",
      "best threshold: 0.7599999999999997\n",
      "best precision: 0.8457178841309824\n",
      "best recall: 0.7549184935356942\n",
      "best f1: 0.7977427977427978\n"
     ]
    },
    {
     "name": "stderr",
     "output_type": "stream",
     "text": [
      "\n"
     ]
    }
   ],
   "execution_count": 6
  },
  {
   "metadata": {},
   "cell_type": "code",
   "outputs": [],
   "execution_count": null,
   "source": "",
   "id": "222e44d30b822567"
  }
 ],
 "metadata": {
  "kernelspec": {
   "display_name": "Python 3",
   "language": "python",
   "name": "python3"
  },
  "language_info": {
   "codemirror_mode": {
    "name": "ipython",
    "version": 2
   },
   "file_extension": ".py",
   "mimetype": "text/x-python",
   "name": "python",
   "nbconvert_exporter": "python",
   "pygments_lexer": "ipython2",
   "version": "2.7.6"
  }
 },
 "nbformat": 4,
 "nbformat_minor": 5
}
