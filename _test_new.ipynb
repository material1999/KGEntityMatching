{
 "cells": [
  {
   "cell_type": "code",
   "id": "initial_id",
   "metadata": {
    "collapsed": true,
    "ExecuteTime": {
     "end_time": "2025-06-30T11:21:04.087435Z",
     "start_time": "2025-06-30T11:20:52.285586Z"
    }
   },
   "source": [
    "from sentence_transformers import SentenceTransformer\n",
    "import numpy as np\n",
    "\n",
    "model = SentenceTransformer('BAAI/bge-large-en')\n",
    "\n",
    "text1 = '''\n",
    "\"http://dbkwik.webdatacommons.org/stexpanded.wikia.com/resource/Magna_Roma\": {\n",
    "    \"abstract\": \"UFC 892-IV, called Magna Roma (\\\"Great Rome\\\") by its inhabitants, is a class M planet where evidence of Hodgkin's Law of Parallel Planetary Development was present in the 23rd century as a parallel of the Roman Empire existed there. (: \\\"Bread and Circuses\\\")In Orion Press continuity, the planet was called \\\"Tellus\\\" and System 892 had the Bayer classification of Beta Hydrae. It had been speculated that the planet's inhabitants had been transplanted from Earth by the Preservers 2,500 years before. (Orion Press: \\\"The Return\\\", TOS novel: Ex Machina)By the late 24th century, the Magna Romans had joined the Federation. (TNG novel: The Captains' Honor)\",\n",
    "    \"altLabel\": \"Magna Roma, 892-IV\",\n",
    "    \"class\": \"Class_M_planet\",\n",
    "    \"label\": \"Magna Roma\",\n",
    "    \"planetName\": \"Magna Roma\",\n",
    "    \"subject\": \"Category:Alpha_Quadrant_planets, Category:Class_M_planets\",\n",
    "    \"surface\": \"Habitable\",\n",
    "    \"system\": \"UFC-892\",\n",
    "    \"type\": \"planet_info\"\n",
    "},\n",
    "'''\n",
    "\n",
    "text2 = '''\n",
    "\"http://dbkwik.webdatacommons.org/memory-alpha.wikia.com/resource/892-IV\": {\n",
    "    \"abstract\": \"892-IV was the inhabited fourth planet of the 892 system. Classified as M-class, the planet was orbited by two moons and was the homeworld of the 892-IV natives, a pre-warp humanoid species.As Commander Spock, science officer of the USS Enterprise, noted, 892-IV had a striking resemblance to Earth. However, as much as there were similarities, there were differences. The proportion of land to water, density (5.5g), and atmosphere (78% nitrogen, 21% oxygen) were exactly like those on Earth. However, unlike Earth, the diameter at the equator (7,917 miles) and layout of the continents were different. (: \\\"\\\")\",\n",
    "    \"altLabel\": \"892 IV, 892-IV, Magna Roma\",\n",
    "    \"class\": \"Class_M\",\n",
    "    \"datestatus\": \"2267\",\n",
    "    \"imageorbital\": \"892\",\n",
    "    \"label\": \"892-IV\",\n",
    "    \"location\": \"System_892\",\n",
    "    \"name\": \"892\",\n",
    "    \"nativeSpecies\": \"892\",\n",
    "    \"orbitalcap\": \"892\",\n",
    "    \"satellites\": \"2\",\n",
    "    \"status\": \"Habitable\",\n",
    "    \"subject\": \"Category:Homeworlds, Category:Planets, Category:Memory_Alpha_location_redirects\",\n",
    "    \"surfacecap\": \"892\",\n",
    "    \"type\": \"sidebar_planet, Planet\"\n",
    "},\n",
    "'''\n",
    "\n",
    "text3 = '''\n",
    "\"http://dbkwik.webdatacommons.org/memory-alpha.wikia.com/resource/Roman_Empire_(892-IV)\": {\n",
    "    \"abstract\": \"The Roman Empire was the government of the planet 892-IV. It was a parallel to Earth's Roman Empire. The Empire was divided into several provinces spread out across the planet's continents. (: \\\"\\\")\",\n",
    "    \"altLabel\": \"Roman Empire (892-IV)\",\n",
    "    \"formatBottom\": \"F\",\n",
    "    \"formatTop\": \"F\",\n",
    "    \"founded\": \"3\",\n",
    "    \"headOfGovernment\": \"Proconsul\",\n",
    "    \"headOfState\": \"Emperor\",\n",
    "    \"imagecap\": \"The planet 892-IV, governed by the Empire, 2268, Claudius_Marcus, Proconsul\",\n",
    "    \"label\": \"Roman Empire (892-IV)\",\n",
    "    \"language\": \"Latin_language, English_language, French_language\",\n",
    "    \"legislature\": \"Senate\",\n",
    "    \"location\": \"892\",\n",
    "    \"majorSpecies\": \"892\",\n",
    "    \"military\": \"Militaries\",\n",
    "    \"name\": \"Roman_Empire\",\n",
    "    \"subject\": \"Category:Governments\",\n",
    "    \"type\": \"sidebar_government\"\n",
    "},\n",
    "'''\n",
    "\n",
    "text4 = '''\n",
    "\"http://dbkwik.webdatacommons.org/memory-alpha.wikia.com/resource/Lauren_C._Kim\": {\n",
    "    \"altLabel\": \"Lauren C. Kim\",\n",
    "    \"characters\": \"Unnamed_USS_Enterprise_(NCC-1701-D)_operations_division_personnel\",\n",
    "    \"gender\": \"Female\",\n",
    "    \"imagecap\": \"...as a Starfleet officer\",\n",
    "    \"label\": \"Lauren C. Kim\",\n",
    "    \"name\": \"Lauren C. Kim\",\n",
    "    \"subject\": \"Category:TNG_performers, Category:Stand-ins, Category:Performers\",\n",
    "    \"type\": \"sidebar_actor\"\n",
    "},\n",
    "'''\n",
    "\n",
    "texts = [\n",
    "    text1,\n",
    "    text2,\n",
    "    text3,\n",
    "    text4\n",
    "]\n",
    "\n",
    "embeddings = model.encode(texts, normalize_embeddings=True)\n",
    "\n",
    "cos_sim_1_2 = np.dot(embeddings[0], embeddings[1])\n",
    "cos_sim_1_3 = np.dot(embeddings[0], embeddings[2])\n",
    "cos_sim_1_4 = np.dot(embeddings[0], embeddings[3])\n",
    "\n",
    "print(f\"Cosine similarity between X and pair: {cos_sim_1_2:.4f}\")\n",
    "print(f\"Cosine similarity between X and close: {cos_sim_1_3:.4f}\")\n",
    "print(f\"Cosine similarity between X and random: {cos_sim_1_4:.4f}\")"
   ],
   "outputs": [
    {
     "name": "stdout",
     "output_type": "stream",
     "text": [
      "Cosine similarity between X and pair: 0.8913\n",
      "Cosine similarity between X and close: 0.8799\n",
      "Cosine similarity between X and random: 0.8026\n"
     ]
    }
   ],
   "execution_count": 1
  },
  {
   "metadata": {
    "ExecuteTime": {
     "end_time": "2025-06-30T11:21:09.186078Z",
     "start_time": "2025-06-30T11:21:08.248935Z"
    }
   },
   "cell_type": "code",
   "source": [
    "text1_new = \"; \".join(\n",
    "    [item.strip().split(\":\")[0].replace(\"\\\"\", \"\")\n",
    "     for item in text1.split(\"\\n\")\n",
    "     if \"\\\": \" in item and \"http://\" not in item]\n",
    ")\n",
    "\n",
    "text2_new = \"; \".join(\n",
    "    [item.strip().split(\":\")[0].replace(\"\\\"\", \"\")\n",
    "     for item in text2.split(\"\\n\")\n",
    "     if \"\\\": \" in item and \"http://\" not in item]\n",
    ")\n",
    "\n",
    "text3_new = \"; \".join(\n",
    "    [item.strip().split(\":\")[0].replace(\"\\\"\", \"\")\n",
    "     for item in text3.split(\"\\n\")\n",
    "     if \"\\\": \" in item and \"http://\" not in item]\n",
    ")\n",
    "\n",
    "text4_new = \"; \".join(\n",
    "    [item.strip().split(\":\")[0].replace(\"\\\"\", \"\")\n",
    "     for item in text4.split(\"\\n\")\n",
    "     if \"\\\": \" in item and \"http://\" not in item]\n",
    ")\n",
    "\n",
    "texts = [\n",
    "    text1_new,\n",
    "    text2_new,\n",
    "    text3_new,\n",
    "    text4_new\n",
    "]\n",
    "\n",
    "embeddings = model.encode(texts, normalize_embeddings=True)\n",
    "\n",
    "cos_sim_1_2 = np.dot(embeddings[0], embeddings[1])\n",
    "cos_sim_1_3 = np.dot(embeddings[0], embeddings[2])\n",
    "cos_sim_1_4 = np.dot(embeddings[0], embeddings[3])\n",
    "\n",
    "print(f\"Cosine similarity between X and pair: {cos_sim_1_2:.4f}\")\n",
    "print(f\"Cosine similarity between X and close: {cos_sim_1_3:.4f}\")\n",
    "print(f\"Cosine similarity between X and random: {cos_sim_1_4:.4f}\")"
   ],
   "id": "bd82025202c6135b",
   "outputs": [
    {
     "name": "stdout",
     "output_type": "stream",
     "text": [
      "Cosine similarity between X and pair: 0.9487\n",
      "Cosine similarity between X and close: 0.9249\n",
      "Cosine similarity between X and random: 0.9221\n"
     ]
    }
   ],
   "execution_count": 2
  },
  {
   "metadata": {
    "ExecuteTime": {
     "end_time": "2025-06-30T11:21:10.491058Z",
     "start_time": "2025-06-30T11:21:10.476993Z"
    }
   },
   "cell_type": "code",
   "source": "text1_new",
   "id": "538222a41838cade",
   "outputs": [
    {
     "data": {
      "text/plain": [
       "'abstract; altLabel; class; label; planetName; subject; surface; system; type'"
      ]
     },
     "execution_count": 3,
     "metadata": {},
     "output_type": "execute_result"
    }
   ],
   "execution_count": 3
  },
  {
   "metadata": {
    "ExecuteTime": {
     "end_time": "2025-06-30T11:21:31.142609Z",
     "start_time": "2025-06-30T11:21:31.132358Z"
    }
   },
   "cell_type": "code",
   "source": "text2_new",
   "id": "2459b4b1cde89c50",
   "outputs": [
    {
     "data": {
      "text/plain": [
       "'abstract; altLabel; class; datestatus; imageorbital; label; location; name; nativeSpecies; orbitalcap; satellites; status; subject; surfacecap; type'"
      ]
     },
     "execution_count": 4,
     "metadata": {},
     "output_type": "execute_result"
    }
   ],
   "execution_count": 4
  },
  {
   "metadata": {
    "ExecuteTime": {
     "end_time": "2025-06-30T11:21:36.324577Z",
     "start_time": "2025-06-30T11:21:36.312586Z"
    }
   },
   "cell_type": "code",
   "source": "text3_new",
   "id": "a82f757a4b392c43",
   "outputs": [
    {
     "data": {
      "text/plain": [
       "'abstract; altLabel; formatBottom; formatTop; founded; headOfGovernment; headOfState; imagecap; label; language; legislature; location; majorSpecies; military; name; subject; type'"
      ]
     },
     "execution_count": 5,
     "metadata": {},
     "output_type": "execute_result"
    }
   ],
   "execution_count": 5
  },
  {
   "metadata": {
    "ExecuteTime": {
     "end_time": "2025-06-30T11:21:55.639955Z",
     "start_time": "2025-06-30T11:21:55.630648Z"
    }
   },
   "cell_type": "code",
   "source": "text4_new",
   "id": "4b94cdd6f8c37033",
   "outputs": [
    {
     "data": {
      "text/plain": [
       "'altLabel; characters; gender; imagecap; label; name; subject; type'"
      ]
     },
     "execution_count": 6,
     "metadata": {},
     "output_type": "execute_result"
    }
   ],
   "execution_count": 6
  },
  {
   "metadata": {},
   "cell_type": "code",
   "outputs": [],
   "execution_count": null,
   "source": "",
   "id": "bdb46b4dacb34f78"
  }
 ],
 "metadata": {
  "kernelspec": {
   "display_name": "Python 3",
   "language": "python",
   "name": "python3"
  },
  "language_info": {
   "codemirror_mode": {
    "name": "ipython",
    "version": 2
   },
   "file_extension": ".py",
   "mimetype": "text/x-python",
   "name": "python",
   "nbconvert_exporter": "python",
   "pygments_lexer": "ipython2",
   "version": "2.7.6"
  }
 },
 "nbformat": 4,
 "nbformat_minor": 5
}
