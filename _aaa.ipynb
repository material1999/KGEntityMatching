{
 "cells": [
  {
   "metadata": {
    "ExecuteTime": {
     "end_time": "2025-06-03T10:28:28.374821Z",
     "start_time": "2025-06-03T10:28:27.937918Z"
    }
   },
   "cell_type": "code",
   "source": [
    "import json\n",
    "import pandas as pd\n",
    "import networkx as nx"
   ],
   "id": "214f588c7d15004c",
   "outputs": [],
   "execution_count": 1
  },
  {
   "cell_type": "code",
   "id": "initial_id",
   "metadata": {
    "collapsed": true,
    "ExecuteTime": {
     "end_time": "2025-06-03T10:28:28.391272Z",
     "start_time": "2025-06-03T10:28:28.387782Z"
    }
   },
   "source": [
    "small = \"stexpanded\"\n",
    "big = \"memoryalpha\""
   ],
   "outputs": [],
   "execution_count": 2
  },
  {
   "metadata": {
    "ExecuteTime": {
     "end_time": "2025-06-03T10:28:28.410969Z",
     "start_time": "2025-06-03T10:28:28.407432Z"
    }
   },
   "cell_type": "code",
   "source": [
    "mappings_file_small = \"./_input/mappings/\" + small + \".json\"\n",
    "mappings_file_big = \"./_input/mappings/\" + big + \".json\"\n",
    "\n",
    "dogtags_file_small = \"./_input/dogtags/\" + small + \".json\"\n",
    "dogtags_file_big = \"./_input/dogtags/\" + big + \".json\"\n",
    "\n",
    "graph_file_small = \"./_input/filtered_triples/\" + small + \".triples\"\n",
    "graph_file_big = \"./_input/filtered_triples/\" + big + \".triples\""
   ],
   "id": "5df0f1743794bb19",
   "outputs": [],
   "execution_count": 3
  },
  {
   "metadata": {
    "ExecuteTime": {
     "end_time": "2025-06-03T10:28:28.985250Z",
     "start_time": "2025-06-03T10:28:28.518078Z"
    }
   },
   "cell_type": "code",
   "source": [
    "with open(mappings_file_small) as file:\n",
    "    mappings_small = json.load(file)\n",
    "\n",
    "with open(mappings_file_big) as file:\n",
    "    mappings_big = json.load(file)\n",
    "\n",
    "mappings_small_reversed = {v: k for k, v in mappings_small.items()}\n",
    "\n",
    "mappings_big_reversed = {v: k for k, v in mappings_big.items()}\n",
    "\n",
    "with open(dogtags_file_small) as file:\n",
    "    dogtags_small = json.load(file)\n",
    "\n",
    "with open(dogtags_file_big) as file:\n",
    "    dogtags_big = json.load(file)"
   ],
   "id": "3ec7c5b5ae2a22ce",
   "outputs": [],
   "execution_count": 4
  },
  {
   "metadata": {
    "ExecuteTime": {
     "end_time": "2025-06-03T10:28:36.932337Z",
     "start_time": "2025-06-03T10:28:29.552844Z"
    }
   },
   "cell_type": "code",
   "source": [
    "graph_df = pd.read_csv(graph_file_small, sep=\"###\", engine=\"python\", header=None)\n",
    "G_small = nx.Graph()\n",
    "for row in graph_df.itertuples():\n",
    "    G_small.add_edge(int(row[1]), int(row[2]))\n",
    "print(G_small)\n",
    "\n",
    "graph_df = pd.read_csv(graph_file_big, sep=\"###\", engine=\"python\", header=None)\n",
    "G_big = nx.Graph()\n",
    "for row in graph_df.itertuples():\n",
    "    G_big.add_edge(int(row[1]), int(row[2]))\n",
    "print(G_big)"
   ],
   "id": "22e8530ef045da68",
   "outputs": [
    {
     "name": "stdout",
     "output_type": "stream",
     "text": [
      "Graph with 32297 nodes and 252868 edges\n",
      "Graph with 69445 nodes and 1307028 edges\n"
     ]
    }
   ],
   "execution_count": 5
  },
  {
   "metadata": {
    "ExecuteTime": {
     "end_time": "2025-06-03T10:43:13.672494Z",
     "start_time": "2025-06-03T10:43:13.654834Z"
    }
   },
   "cell_type": "code",
   "source": [
    "##### SIMILAR DOGTAG, BUT A LOT OF IRRELEVANT NEIGHBORS #####\n",
    "small_str = \"http://dbkwik.webdatacommons.org/stexpanded.wikia.com/resource/Magna_Roma\"\n",
    "big_str_good = \"http://dbkwik.webdatacommons.org/memory-alpha.wikia.com/resource/892-IV\"\n",
    "big_str_bad = \"http://dbkwik.webdatacommons.org/memory-alpha.wikia.com/resource/Roman_Empire_(892-IV)\"\n",
    "\n",
    "##### JUST NOT ENOUGH INFO IN THE WIKI PAGE #####\n",
    "# small_str = \"http://dbkwik.webdatacommons.org/stexpanded.wikia.com/resource/Alyson_Foxton\"\n",
    "# big_str_good = \"http://dbkwik.webdatacommons.org/memory-alpha.wikia.com/resource/A.F.\"\n",
    "# big_str_bad = \"http://dbkwik.webdatacommons.org/memory-alpha.wikia.com/resource/Alden\"\n",
    "\n",
    "##### MISLEADING INFO IN THE WIKI PAGE #####\n",
    "# small_str = \"http://dbkwik.webdatacommons.org/stexpanded.wikia.com/resource/Admiral\"\n",
    "# big_str_good = \"http://dbkwik.webdatacommons.org/memory-alpha.wikia.com/resource/Admiral\"\n",
    "# big_str_bad = \"http://dbkwik.webdatacommons.org/memory-alpha.wikia.com/resource/Fleet_admiral\""
   ],
   "id": "dc07b8306ba04905",
   "outputs": [],
   "execution_count": 14
  },
  {
   "metadata": {
    "ExecuteTime": {
     "end_time": "2025-06-03T10:43:14.234943Z",
     "start_time": "2025-06-03T10:43:14.232414Z"
    }
   },
   "cell_type": "code",
   "source": [
    "small_str_id = mappings_small[small_str]\n",
    "big_str_good_id = mappings_big[big_str_good]\n",
    "big_str_bad_id = mappings_big[big_str_bad]"
   ],
   "id": "2775b9fd51fdbd31",
   "outputs": [],
   "execution_count": 15
  },
  {
   "metadata": {
    "ExecuteTime": {
     "end_time": "2025-06-03T10:43:14.545954Z",
     "start_time": "2025-06-03T10:43:14.541154Z"
    }
   },
   "cell_type": "code",
   "source": [
    "print(\"########## gold pair small ##########\\n\", small_str)\n",
    "neighbors = nx.neighbors(G_small, small_str_id)\n",
    "neighbors_set_small = set(neighbors)\n",
    "print(\"--- DOGTAG BEGIN ---\")\n",
    "print(dogtags_small[small_str])\n",
    "print(\"--- DOGTAG END ---\")\n",
    "print(\"neighbors:\", len(neighbors_set_small))\n",
    "\n",
    "print(\"########## gold pair big ##########\\n\", big_str_good)\n",
    "neighbors = nx.neighbors(G_big, big_str_good_id)\n",
    "neighbors_set_big_good = set(neighbors)\n",
    "print(\"--- DOGTAG BEGIN ---\")\n",
    "print(dogtags_big[big_str_good])\n",
    "print(\"--- DOGTAG END ---\")\n",
    "print(\"neighbors:\", len(neighbors_set_big_good))\n",
    "\n",
    "print(\"########## what we find in big ##########\\n\", big_str_bad)\n",
    "neighbors = nx.neighbors(G_big, big_str_bad_id)\n",
    "neighbors_set_big_bad = set(neighbors)\n",
    "print(\"--- DOGTAG BEGIN ---\")\n",
    "print(dogtags_big[big_str_bad])\n",
    "print(\"--- DOGTAG END ---\")\n",
    "print(\"neighbors:\", len(neighbors_set_big_bad))\n",
    "\n",
    "print(\"########################################\")\n",
    "\n",
    "common = neighbors_set_big_good & neighbors_set_big_bad\n",
    "print(\"common neighbors:\", len(common))"
   ],
   "id": "8ab65d6d733f37cb",
   "outputs": [
    {
     "name": "stdout",
     "output_type": "stream",
     "text": [
      "########## gold pair small ##########\n",
      " http://dbkwik.webdatacommons.org/stexpanded.wikia.com/resource/Magna_Roma\n",
      "--- DOGTAG BEGIN ---\n",
      "Magna Roma\n",
      "892-IV\n",
      "http://dbkwik.webdatacommons.org/stexpanded.wikia.com/class/planet_info\n",
      "UFC 892-IV, called Magna Roma (\"Great Rome\") by its inhabitants, is a class M planet where evidence of Hodgkin's Law of Parallel Planetary Development was present in the 23rd century as a parallel of the Roman Empire existed there.\n",
      "--- DOGTAG END ---\n",
      "neighbors: 30\n",
      "########## gold pair big ##########\n",
      " http://dbkwik.webdatacommons.org/memory-alpha.wikia.com/resource/892-IV\n",
      "--- DOGTAG BEGIN ---\n",
      "892-IV\n",
      "http://dbkwik.webdatacommons.org/memory-alpha.wikia.com/class/sidebar_planet\n",
      "892-IV was the inhabited fourth planet of the 892 system.\n",
      "--- DOGTAG END ---\n",
      "neighbors: 180\n",
      "########## what we find in big ##########\n",
      " http://dbkwik.webdatacommons.org/memory-alpha.wikia.com/resource/Roman_Empire_(892-IV)\n",
      "--- DOGTAG BEGIN ---\n",
      "Roman Empire (892-IV)\n",
      "http://dbkwik.webdatacommons.org/memory-alpha.wikia.com/class/sidebar_government\n",
      "The Roman Empire was the government of the planet 892-IV.\n",
      "--- DOGTAG END ---\n",
      "neighbors: 43\n",
      "########################################\n",
      "common neighbors: 36\n"
     ]
    }
   ],
   "execution_count": 16
  },
  {
   "metadata": {
    "ExecuteTime": {
     "end_time": "2025-06-03T10:43:15.157125Z",
     "start_time": "2025-06-03T10:43:15.152674Z"
    }
   },
   "cell_type": "code",
   "source": [
    "print(small_str, \"\\n#####\")\n",
    "neighbors = nx.neighbors(G_small, small_str_id)\n",
    "for n in neighbors:\n",
    "    print(mappings_small_reversed[n])"
   ],
   "id": "ccf55f6960cfb99",
   "outputs": [
    {
     "name": "stdout",
     "output_type": "stream",
     "text": [
      "http://dbkwik.webdatacommons.org/stexpanded.wikia.com/resource/Magna_Roma \n",
      "#####\n",
      "http://dbkwik.webdatacommons.org/stexpanded.wikia.com/resource/Grankite_Order_of_Tactics\n",
      "http://dbkwik.webdatacommons.org/stexpanded.wikia.com/resource/Preservers\n",
      "http://dbkwik.webdatacommons.org/stexpanded.wikia.com/resource/24th_century\n",
      "http://dbkwik.webdatacommons.org/stexpanded.wikia.com/resource/Category:Alpha_Quadrant_planets\n",
      "http://dbkwik.webdatacommons.org/stexpanded.wikia.com/resource/Ben_Bartholomew\n",
      "http://dbkwik.webdatacommons.org/stexpanded.wikia.com/resource/Timothy_Sinclair\n",
      "http://dbkwik.webdatacommons.org/stexpanded.wikia.com/resource/Class_M_planet\n",
      "http://dbkwik.webdatacommons.org/stexpanded.wikia.com/resource/USS_Farragut_II_(NCC-1729)\n",
      "http://dbkwik.webdatacommons.org/stexpanded.wikia.com/resource/2334\n",
      "http://dbkwik.webdatacommons.org/stexpanded.wikia.com/class/planet_info\n",
      "http://dbkwik.webdatacommons.org/stexpanded.wikia.com/resource/Category:Class_M_planets\n",
      "http://dbkwik.webdatacommons.org/stexpanded.wikia.com/resource/Star_Trek:_Phase_II\n",
      "http://dbkwik.webdatacommons.org/stexpanded.wikia.com/resource/United_Federation_of_Planets\n",
      "http://dbkwik.webdatacommons.org/stexpanded.wikia.com/resource/Eliaseth_Castien\n",
      "http://dbkwik.webdatacommons.org/stexpanded.wikia.com/resource/Roma\n",
      "http://dbkwik.webdatacommons.org/stexpanded.wikia.com/resource/USS_Majestic_(sim)\n",
      "http://dbkwik.webdatacommons.org/stexpanded.wikia.com/resource/Odysseus_class\n",
      "http://dbkwik.webdatacommons.org/stexpanded.wikia.com/resource/Advanced_Tactical_Training_Program\n",
      "http://dbkwik.webdatacommons.org/stexpanded.wikia.com/resource/Diplomat\n",
      "http://dbkwik.webdatacommons.org/stexpanded.wikia.com/resource/Antonius_Strube\n",
      "http://dbkwik.webdatacommons.org/stexpanded.wikia.com/resource/23rd_century\n",
      "http://dbkwik.webdatacommons.org/stexpanded.wikia.com/resource/Alpha_Quadrant\n",
      "http://dbkwik.webdatacommons.org/stexpanded.wikia.com/resource/Star_Trek:_Pendragon\n",
      "http://dbkwik.webdatacommons.org/stexpanded.wikia.com/resource/Hodgkin%27s_Law_of_Parallel_Planetary_Development\n",
      "http://dbkwik.webdatacommons.org/stexpanded.wikia.com/resource/Bread_and_Savagery\n",
      "http://dbkwik.webdatacommons.org/stexpanded.wikia.com/resource/Roman_Empire\n",
      "http://dbkwik.webdatacommons.org/stexpanded.wikia.com/resource/2387\n",
      "http://dbkwik.webdatacommons.org/stexpanded.wikia.com/resource/Earth\n",
      "http://dbkwik.webdatacommons.org/stexpanded.wikia.com/resource/Star_Trek:_Liberty\n",
      "http://dbkwik.webdatacommons.org/stexpanded.wikia.com/resource/Orion_Press\n"
     ]
    }
   ],
   "execution_count": 17
  },
  {
   "metadata": {
    "ExecuteTime": {
     "end_time": "2025-06-03T10:43:15.708421Z",
     "start_time": "2025-06-03T10:43:15.704616Z"
    }
   },
   "cell_type": "code",
   "source": [
    "print(big_str_good, \"\\n#####\")\n",
    "neighbors = nx.neighbors(G_big, big_str_good_id)\n",
    "for n in neighbors:\n",
    "    print(mappings_big_reversed[n])"
   ],
   "id": "9cb0e7cdd8d09360",
   "outputs": [
    {
     "name": "stdout",
     "output_type": "stream",
     "text": [
      "http://dbkwik.webdatacommons.org/memory-alpha.wikia.com/resource/892-IV \n",
      "#####\n",
      "http://dbkwik.webdatacommons.org/memory-alpha.wikia.com/resource/Diameter\n",
      "http://dbkwik.webdatacommons.org/memory-alpha.wikia.com/resource/Roast_kid\n",
      "http://dbkwik.webdatacommons.org/memory-alpha.wikia.com/resource/Broil\n",
      "http://dbkwik.webdatacommons.org/memory-alpha.wikia.com/resource/Camera\n",
      "http://dbkwik.webdatacommons.org/memory-alpha.wikia.com/resource/Son_(religious_figure)\n",
      "http://dbkwik.webdatacommons.org/memory-alpha.wikia.com/resource/Species\n",
      "http://dbkwik.webdatacommons.org/memory-alpha.wikia.com/resource/Archangel\n",
      "http://dbkwik.webdatacommons.org/memory-alpha.wikia.com/resource/First_Citizen\n",
      "http://dbkwik.webdatacommons.org/memory-alpha.wikia.com/resource/Density\n",
      "http://dbkwik.webdatacommons.org/memory-alpha.wikia.com/resource/2378\n",
      "http://dbkwik.webdatacommons.org/memory-alpha.wikia.com/resource/English_language\n",
      "http://dbkwik.webdatacommons.org/memory-alpha.wikia.com/resource/Star_Trek:_Star_Charts\n",
      "http://dbkwik.webdatacommons.org/memory-alpha.wikia.com/resource/2262\n",
      "http://dbkwik.webdatacommons.org/memory-alpha.wikia.com/resource/Roman\n",
      "http://dbkwik.webdatacommons.org/memory-alpha.wikia.com/resource/Parsec\n",
      "http://dbkwik.webdatacommons.org/memory-alpha.wikia.com/resource/Frequency_modulation\n",
      "http://dbkwik.webdatacommons.org/memory-alpha.wikia.com/resource/Gladiator\n",
      "http://dbkwik.webdatacommons.org/memory-alpha.wikia.com/resource/Equator\n",
      "http://dbkwik.webdatacommons.org/memory-alpha.wikia.com/resource/Debris\n",
      "http://dbkwik.webdatacommons.org/memory-alpha.wikia.com/resource/Class_M\n",
      "http://dbkwik.webdatacommons.org/memory-alpha.wikia.com/resource/Cattle\n",
      "http://dbkwik.webdatacommons.org/memory-alpha.wikia.com/resource/Julius_Caesar\n",
      "http://dbkwik.webdatacommons.org/memory-alpha.wikia.com/resource/Nyota_Uhura\n",
      "http://dbkwik.webdatacommons.org/memory-alpha.wikia.com/resource/City_Arena\n",
      "http://dbkwik.webdatacommons.org/memory-alpha.wikia.com/resource/Flavius\n",
      "http://dbkwik.webdatacommons.org/memory-alpha.wikia.com/resource/Christianity\n",
      "http://dbkwik.webdatacommons.org/memory-alpha.wikia.com/resource/The_Gallian\n",
      "http://dbkwik.webdatacommons.org/memory-alpha.wikia.com/resource/Transporter\n",
      "http://dbkwik.webdatacommons.org/memory-alpha.wikia.com/resource/Category:Homeworlds\n",
      "http://dbkwik.webdatacommons.org/memory-alpha.wikia.com/resource/Smog\n",
      "http://dbkwik.webdatacommons.org/memory-alpha.wikia.com/resource/Children_of_the_Son\n",
      "http://dbkwik.webdatacommons.org/memory-alpha.wikia.com/resource/20th_century\n",
      "http://dbkwik.webdatacommons.org/memory-alpha.wikia.com/resource/Star_system\n",
      "http://dbkwik.webdatacommons.org/memory-alpha.wikia.com/resource/Planet\n",
      "http://dbkwik.webdatacommons.org/memory-alpha.wikia.com/resource/City_Prison\n",
      "http://dbkwik.webdatacommons.org/memory-alpha.wikia.com/resource/Category:Memory_Alpha_location_redirects\n",
      "http://dbkwik.webdatacommons.org/memory-alpha.wikia.com/resource/892-IV_native\n",
      "http://dbkwik.webdatacommons.org/memory-alpha.wikia.com/resource/2268\n",
      "http://dbkwik.webdatacommons.org/memory-alpha.wikia.com/resource/Emperor\n",
      "http://dbkwik.webdatacommons.org/memory-alpha.wikia.com/resource/Neptune_(mythology)\n",
      "http://dbkwik.webdatacommons.org/memory-alpha.wikia.com/resource/Jesus_Christ\n",
      "http://dbkwik.webdatacommons.org/memory-alpha.wikia.com/resource/Away_teams\n",
      "http://dbkwik.webdatacommons.org/memory-alpha.wikia.com/resource/Ore\n",
      "http://dbkwik.webdatacommons.org/memory-alpha.wikia.com/resource/Province\n",
      "http://dbkwik.webdatacommons.org/memory-alpha.wikia.com/resource/Medicine\n",
      "http://dbkwik.webdatacommons.org/memory-alpha.wikia.com/resource/Massachusetts_Institute_of_Technology\n",
      "http://dbkwik.webdatacommons.org/memory-alpha.wikia.com/resource/The_Captains%27_Honor\n",
      "http://dbkwik.webdatacommons.org/memory-alpha.wikia.com/resource/Proconsul\n",
      "http://dbkwik.webdatacommons.org/memory-alpha.wikia.com/resource/Claudius_Marcus\n",
      "http://dbkwik.webdatacommons.org/memory-alpha.wikia.com/resource/Projectile_weapon\n",
      "http://dbkwik.webdatacommons.org/memory-alpha.wikia.com/resource/892-IV_natives\n",
      "http://dbkwik.webdatacommons.org/memory-alpha.wikia.com/resource/Cambridge\n",
      "http://dbkwik.webdatacommons.org/memory-alpha.wikia.com/resource/Garum\n",
      "http://dbkwik.webdatacommons.org/memory-alpha.wikia.com/resource/Sparrow\n",
      "http://dbkwik.webdatacommons.org/memory-alpha.wikia.com/resource/Massachusetts\n",
      "http://dbkwik.webdatacommons.org/memory-alpha.wikia.com/resource/SS_Beagle\n",
      "http://dbkwik.webdatacommons.org/memory-alpha.wikia.com/resource/French_language\n",
      "http://dbkwik.webdatacommons.org/memory-alpha.wikia.com/resource/Unnamed_Alpha_and_Beta_Quadrant_moons\n",
      "http://dbkwik.webdatacommons.org/memory-alpha.wikia.com/resource/Flavius_Maximus\n",
      "http://dbkwik.webdatacommons.org/memory-alpha.wikia.com/resource/Augustus_Caesar\n",
      "http://dbkwik.webdatacommons.org/memory-alpha.wikia.com/resource/19th_century\n",
      "http://dbkwik.webdatacommons.org/memory-alpha.wikia.com/resource/Television\n",
      "http://dbkwik.webdatacommons.org/memory-alpha.wikia.com/resource/Bread_and_Circuses_(episode)\n",
      "http://dbkwik.webdatacommons.org/memory-alpha.wikia.com/resource/Iridium\n",
      "http://dbkwik.webdatacommons.org/memory-alpha.wikia.com/resource/Empire_TV\n",
      "http://dbkwik.webdatacommons.org/memory-alpha.wikia.com/resource/Sword\n",
      "http://dbkwik.webdatacommons.org/memory-alpha.wikia.com/resource/Name_the_Winner\n",
      "http://dbkwik.webdatacommons.org/memory-alpha.wikia.com/resource/Chair\n",
      "http://dbkwik.webdatacommons.org/memory-alpha.wikia.com/resource/Commercial\n",
      "http://dbkwik.webdatacommons.org/memory-alpha.wikia.com/resource/Meteoroid\n",
      "http://dbkwik.webdatacommons.org/memory-alpha.wikia.com/resource/Lord_of_the_Games\n",
      "http://dbkwik.webdatacommons.org/memory-alpha.wikia.com/resource/Civilian_casualties\n",
      "http://dbkwik.webdatacommons.org/memory-alpha.wikia.com/resource/Pitcher\n",
      "http://dbkwik.webdatacommons.org/memory-alpha.wikia.com/resource/Senator\n",
      "http://dbkwik.webdatacommons.org/memory-alpha.wikia.com/resource/The_Worlds_of_the_Federation\n",
      "http://dbkwik.webdatacommons.org/memory-alpha.wikia.com/resource/Police\n",
      "http://dbkwik.webdatacommons.org/memory-alpha.wikia.com/resource/Dictator\n",
      "http://dbkwik.webdatacommons.org/memory-alpha.wikia.com/resource/Type_2_phaser\n",
      "http://dbkwik.webdatacommons.org/memory-alpha.wikia.com/resource/Roman_Empire\n",
      "http://dbkwik.webdatacommons.org/memory-alpha.wikia.com/resource/Fourth_planets\n",
      "http://dbkwik.webdatacommons.org/memory-alpha.wikia.com/resource/Freak\n",
      "http://dbkwik.webdatacommons.org/memory-alpha.wikia.com/resource/System_892\n",
      "http://dbkwik.webdatacommons.org/memory-alpha.wikia.com/resource/Barbarian\n",
      "http://dbkwik.webdatacommons.org/memory-alpha.wikia.com/resource/Color\n",
      "http://dbkwik.webdatacommons.org/memory-alpha.wikia.com/resource/Dentistry\n",
      "http://dbkwik.webdatacommons.org/memory-alpha.wikia.com/resource/Stardate\n",
      "http://dbkwik.webdatacommons.org/memory-alpha.wikia.com/resource/Category:Planets\n",
      "http://dbkwik.webdatacommons.org/memory-alpha.wikia.com/resource/FGC\n",
      "http://dbkwik.webdatacommons.org/memory-alpha.wikia.com/resource/Survey_ship\n",
      "http://dbkwik.webdatacommons.org/memory-alpha.wikia.com/resource/Mars_(mythology)\n",
      "http://dbkwik.webdatacommons.org/memory-alpha.wikia.com/resource/Photography\n",
      "http://dbkwik.webdatacommons.org/memory-alpha.wikia.com/resource/Achilles_(892-IV)\n",
      "http://dbkwik.webdatacommons.org/memory-alpha.wikia.com/resource/Visual_recording_device\n",
      "http://dbkwik.webdatacommons.org/memory-alpha.wikia.com/resource/Slavery\n",
      "http://dbkwik.webdatacommons.org/memory-alpha.wikia.com/resource/Praetor\n",
      "http://dbkwik.webdatacommons.org/memory-alpha.wikia.com/resource/Jupiter_(mythology)\n",
      "http://dbkwik.webdatacommons.org/memory-alpha.wikia.com/resource/Constitution_class\n",
      "http://dbkwik.webdatacommons.org/memory-alpha.wikia.com/resource/Landing_party\n",
      "http://dbkwik.webdatacommons.org/memory-alpha.wikia.com/resource/Commander\n",
      "http://dbkwik.webdatacommons.org/memory-alpha.wikia.com/resource/Humanoid\n",
      "http://dbkwik.webdatacommons.org/memory-alpha.wikia.com/resource/Atmosphere\n",
      "http://dbkwik.webdatacommons.org/memory-alpha.wikia.com/resource/Montgomery_Scott\n",
      "http://dbkwik.webdatacommons.org/memory-alpha.wikia.com/resource/3rd_century\n",
      "http://dbkwik.webdatacommons.org/memory-alpha.wikia.com/resource/Table\n",
      "http://dbkwik.webdatacommons.org/memory-alpha.wikia.com/resource/Beta_Quadrant\n",
      "http://dbkwik.webdatacommons.org/memory-alpha.wikia.com/resource/Sun_worship\n",
      "http://dbkwik.webdatacommons.org/memory-alpha.wikia.com/resource/First_contacts\n",
      "http://dbkwik.webdatacommons.org/memory-alpha.wikia.com/resource/Set\n",
      "http://dbkwik.webdatacommons.org/memory-alpha.wikia.com/resource/Heat\n",
      "http://dbkwik.webdatacommons.org/memory-alpha.wikia.com/resource/Jupiter_8\n",
      "http://dbkwik.webdatacommons.org/memory-alpha.wikia.com/resource/Oxygen\n",
      "http://dbkwik.webdatacommons.org/memory-alpha.wikia.com/resource/Praetorian_Guard\n",
      "http://dbkwik.webdatacommons.org/memory-alpha.wikia.com/resource/Radio_wave\n",
      "http://dbkwik.webdatacommons.org/memory-alpha.wikia.com/resource/USS_Farragut_(23rd_century)\n",
      "http://dbkwik.webdatacommons.org/memory-alpha.wikia.com/resource/Star_Trek_Quiz_Book\n",
      "http://dbkwik.webdatacommons.org/memory-alpha.wikia.com/resource/Class_4_stardrive_vessel\n",
      "http://dbkwik.webdatacommons.org/memory-alpha.wikia.com/resource/Captain%27s_log,_USS_Enterprise_(NCC-1701),_2268\n",
      "http://dbkwik.webdatacommons.org/memory-alpha.wikia.com/resource/Empire\n",
      "http://dbkwik.webdatacommons.org/memory-alpha.wikia.com/class/sidebar_planet\n",
      "http://dbkwik.webdatacommons.org/memory-alpha.wikia.com/resource/Rome\n",
      "http://dbkwik.webdatacommons.org/memory-alpha.wikia.com/resource/Foul\n",
      "http://dbkwik.webdatacommons.org/memory-alpha.wikia.com/resource/Roger_Lemli\n",
      "http://dbkwik.webdatacommons.org/memory-alpha.wikia.com/resource/Radio\n",
      "http://dbkwik.webdatacommons.org/memory-alpha.wikia.com/resource/Pre-warp_civilization\n",
      "http://dbkwik.webdatacommons.org/memory-alpha.wikia.com/resource/1st_century\n",
      "http://dbkwik.webdatacommons.org/memory-alpha.wikia.com/resource/Spock\n",
      "http://dbkwik.webdatacommons.org/memory-alpha.wikia.com/resource/Pension\n",
      "http://dbkwik.webdatacommons.org/memory-alpha.wikia.com/resource/Continent\n",
      "http://dbkwik.webdatacommons.org/memory-alpha.wikia.com/resource/Goat\n",
      "http://dbkwik.webdatacommons.org/memory-alpha.wikia.com/resource/2261\n",
      "http://dbkwik.webdatacommons.org/memory-alpha.wikia.com/resource/USS_Enterprise_(NCC-1701)\n",
      "http://dbkwik.webdatacommons.org/memory-alpha.wikia.com/resource/Septimus\n",
      "http://dbkwik.webdatacommons.org/memory-alpha.wikia.com/resource/The_Trekkie_Quiz_Book\n",
      "http://dbkwik.webdatacommons.org/memory-alpha.wikia.com/resource/Hobgoblin\n",
      "http://dbkwik.webdatacommons.org/memory-alpha.wikia.com/resource/Conflicts\n",
      "http://dbkwik.webdatacommons.org/memory-alpha.wikia.com/resource/Ariannus\n",
      "http://dbkwik.webdatacommons.org/memory-alpha.wikia.com/resource/Apollo\n",
      "http://dbkwik.webdatacommons.org/memory-alpha.wikia.com/resource/21st_century\n",
      "http://dbkwik.webdatacommons.org/memory-alpha.wikia.com/resource/Catacombs\n",
      "http://dbkwik.webdatacommons.org/memory-alpha.wikia.com/resource/23rd_century\n",
      "http://dbkwik.webdatacommons.org/memory-alpha.wikia.com/resource/Drusilla\n",
      "http://dbkwik.webdatacommons.org/memory-alpha.wikia.com/resource/Magazine\n",
      "http://dbkwik.webdatacommons.org/memory-alpha.wikia.com/resource/Elite\n",
      "http://dbkwik.webdatacommons.org/memory-alpha.wikia.com/resource/Inhabited_planets\n",
      "http://dbkwik.webdatacommons.org/memory-alpha.wikia.com/resource/William_B._Harrison\n",
      "http://dbkwik.webdatacommons.org/memory-alpha.wikia.com/resource/Homeworld\n",
      "http://dbkwik.webdatacommons.org/memory-alpha.wikia.com/resource/Claudius_Marcus_(gladiator)\n",
      "http://dbkwik.webdatacommons.org/memory-alpha.wikia.com/resource/Warp_drive\n",
      "http://dbkwik.webdatacommons.org/memory-alpha.wikia.com/resource/Homeworlds\n",
      "http://dbkwik.webdatacommons.org/memory-alpha.wikia.com/resource/Unnamed_settlements\n",
      "http://dbkwik.webdatacommons.org/memory-alpha.wikia.com/resource/R.M._Merik\n",
      "http://dbkwik.webdatacommons.org/memory-alpha.wikia.com/resource/Architecture\n",
      "http://dbkwik.webdatacommons.org/memory-alpha.wikia.com/resource/Condition_green\n",
      "http://dbkwik.webdatacommons.org/memory-alpha.wikia.com/resource/Star_Trek:_The_Original_Series\n",
      "http://dbkwik.webdatacommons.org/memory-alpha.wikia.com/resource/Mars_Toothpaste\n",
      "http://dbkwik.webdatacommons.org/memory-alpha.wikia.com/resource/Nitrogen\n",
      "http://dbkwik.webdatacommons.org/memory-alpha.wikia.com/resource/Hodgkin%27s_Law_of_Parallel_Planetary_Development\n",
      "http://dbkwik.webdatacommons.org/memory-alpha.wikia.com/resource/Neptune_Bath_Salts\n",
      "http://dbkwik.webdatacommons.org/memory-alpha.wikia.com/resource/Mars\n",
      "http://dbkwik.webdatacommons.org/memory-alpha.wikia.com/resource/Automobile\n",
      "http://dbkwik.webdatacommons.org/memory-alpha.wikia.com/resource/Car\n",
      "http://dbkwik.webdatacommons.org/memory-alpha.wikia.com/resource/Operation_--_Annihilate!_(episode)\n",
      "http://dbkwik.webdatacommons.org/memory-alpha.wikia.com/resource/Star_Trek:_The_Magazine_Volume_1,_Issue_5\n",
      "http://dbkwik.webdatacommons.org/memory-alpha.wikia.com/resource/United_Federation_of_Planets\n",
      "http://dbkwik.webdatacommons.org/memory-alpha.wikia.com/resource/Amplitude_modulation\n",
      "http://dbkwik.webdatacommons.org/memory-alpha.wikia.com/resource/Government\n",
      "http://dbkwik.webdatacommons.org/memory-alpha.wikia.com/resource/Gladius\n",
      "http://dbkwik.webdatacommons.org/memory-alpha.wikia.com/resource/Moon\n",
      "http://dbkwik.webdatacommons.org/memory-alpha.wikia.com/resource/Atom\n",
      "http://dbkwik.webdatacommons.org/memory-alpha.wikia.com/resource/Ship%27s_log,_USS_Enterprise_(NCC-1701)\n",
      "http://dbkwik.webdatacommons.org/memory-alpha.wikia.com/resource/Roman_Empire_(892-IV)\n",
      "http://dbkwik.webdatacommons.org/memory-alpha.wikia.com/resource/Science_officer\n",
      "http://dbkwik.webdatacommons.org/memory-alpha.wikia.com/resource/Phaser\n",
      "http://dbkwik.webdatacommons.org/memory-alpha.wikia.com/resource/News\n",
      "http://dbkwik.webdatacommons.org/memory-alpha.wikia.com/resource/Reconnaissance_party\n",
      "http://dbkwik.webdatacommons.org/memory-alpha.wikia.com/resource/James_T._Kirk\n",
      "http://dbkwik.webdatacommons.org/memory-alpha.wikia.com/resource/Earth\n",
      "http://dbkwik.webdatacommons.org/memory-alpha.wikia.com/resource/Spokesman\n",
      "http://dbkwik.webdatacommons.org/memory-alpha.wikia.com/resource/Prime_Directive\n",
      "http://dbkwik.webdatacommons.org/memory-alpha.wikia.com/resource/Applause\n"
     ]
    }
   ],
   "execution_count": 18
  },
  {
   "metadata": {
    "ExecuteTime": {
     "end_time": "2025-06-03T10:43:16.029927Z",
     "start_time": "2025-06-03T10:43:16.025943Z"
    }
   },
   "cell_type": "code",
   "source": [
    "print(big_str_bad, \"\\n#####\")\n",
    "neighbors = nx.neighbors(G_big, big_str_bad_id)\n",
    "for n in neighbors:\n",
    "    print(mappings_big_reversed[n])"
   ],
   "id": "2a56a6d86b1f5b8",
   "outputs": [
    {
     "name": "stdout",
     "output_type": "stream",
     "text": [
      "http://dbkwik.webdatacommons.org/memory-alpha.wikia.com/resource/Roman_Empire_(892-IV) \n",
      "#####\n",
      "http://dbkwik.webdatacommons.org/memory-alpha.wikia.com/resource/Roman_Empire\n",
      "http://dbkwik.webdatacommons.org/memory-alpha.wikia.com/resource/Proconsul\n",
      "http://dbkwik.webdatacommons.org/memory-alpha.wikia.com/resource/Emperor\n",
      "http://dbkwik.webdatacommons.org/memory-alpha.wikia.com/class/sidebar_government\n",
      "http://dbkwik.webdatacommons.org/memory-alpha.wikia.com/resource/Militaries\n",
      "http://dbkwik.webdatacommons.org/memory-alpha.wikia.com/resource/2261\n",
      "http://dbkwik.webdatacommons.org/memory-alpha.wikia.com/resource/Augustus_Caesar\n",
      "http://dbkwik.webdatacommons.org/memory-alpha.wikia.com/resource/Bread_and_Circuses_(episode)\n",
      "http://dbkwik.webdatacommons.org/memory-alpha.wikia.com/resource/892-IV_native\n",
      "http://dbkwik.webdatacommons.org/memory-alpha.wikia.com/resource/Category:Governments\n",
      "http://dbkwik.webdatacommons.org/memory-alpha.wikia.com/resource/Julius_Caesar\n",
      "http://dbkwik.webdatacommons.org/memory-alpha.wikia.com/resource/19th_century\n",
      "http://dbkwik.webdatacommons.org/memory-alpha.wikia.com/resource/Children_of_the_Son\n",
      "http://dbkwik.webdatacommons.org/memory-alpha.wikia.com/resource/Province\n",
      "http://dbkwik.webdatacommons.org/memory-alpha.wikia.com/resource/Type_2_phaser\n",
      "http://dbkwik.webdatacommons.org/memory-alpha.wikia.com/resource/Latin_language\n",
      "http://dbkwik.webdatacommons.org/memory-alpha.wikia.com/resource/R.M._Merik\n",
      "http://dbkwik.webdatacommons.org/memory-alpha.wikia.com/resource/2268\n",
      "http://dbkwik.webdatacommons.org/memory-alpha.wikia.com/resource/Slavery\n",
      "http://dbkwik.webdatacommons.org/memory-alpha.wikia.com/resource/Iridium\n",
      "http://dbkwik.webdatacommons.org/memory-alpha.wikia.com/resource/Septimus\n",
      "http://dbkwik.webdatacommons.org/memory-alpha.wikia.com/resource/Star_Trek:_The_Original_Series\n",
      "http://dbkwik.webdatacommons.org/memory-alpha.wikia.com/resource/Alien\n",
      "http://dbkwik.webdatacommons.org/memory-alpha.wikia.com/resource/USS_Enterprise_(NCC-1701)\n",
      "http://dbkwik.webdatacommons.org/memory-alpha.wikia.com/resource/Earth\n",
      "http://dbkwik.webdatacommons.org/memory-alpha.wikia.com/resource/English_language\n",
      "http://dbkwik.webdatacommons.org/memory-alpha.wikia.com/resource/3rd_century\n",
      "http://dbkwik.webdatacommons.org/memory-alpha.wikia.com/resource/Planet\n",
      "http://dbkwik.webdatacommons.org/memory-alpha.wikia.com/resource/Christianity\n",
      "http://dbkwik.webdatacommons.org/memory-alpha.wikia.com/resource/Spokesman\n",
      "http://dbkwik.webdatacommons.org/memory-alpha.wikia.com/resource/First_Citizen\n",
      "http://dbkwik.webdatacommons.org/memory-alpha.wikia.com/resource/French_language\n",
      "http://dbkwik.webdatacommons.org/memory-alpha.wikia.com/resource/Gladiator\n",
      "http://dbkwik.webdatacommons.org/memory-alpha.wikia.com/resource/Claudius_Marcus\n",
      "http://dbkwik.webdatacommons.org/memory-alpha.wikia.com/resource/23rd_century\n",
      "http://dbkwik.webdatacommons.org/memory-alpha.wikia.com/resource/Empire\n",
      "http://dbkwik.webdatacommons.org/memory-alpha.wikia.com/resource/City_Arena\n",
      "http://dbkwik.webdatacommons.org/memory-alpha.wikia.com/resource/892-IV\n",
      "http://dbkwik.webdatacommons.org/memory-alpha.wikia.com/resource/SS_Beagle\n",
      "http://dbkwik.webdatacommons.org/memory-alpha.wikia.com/resource/James_T._Kirk\n",
      "http://dbkwik.webdatacommons.org/memory-alpha.wikia.com/resource/Landing_party\n",
      "http://dbkwik.webdatacommons.org/memory-alpha.wikia.com/resource/Hodgkin%27s_Law_of_Parallel_Planetary_Development\n",
      "http://dbkwik.webdatacommons.org/memory-alpha.wikia.com/resource/Captain_(rank)\n"
     ]
    }
   ],
   "execution_count": 19
  },
  {
   "metadata": {
    "ExecuteTime": {
     "end_time": "2025-06-03T10:28:39.422519Z",
     "start_time": "2025-06-03T10:28:39.420543Z"
    }
   },
   "cell_type": "code",
   "source": "",
   "id": "f3d0df7e89cf783d",
   "outputs": [],
   "execution_count": null
  }
 ],
 "metadata": {
  "kernelspec": {
   "display_name": "Python 3",
   "language": "python",
   "name": "python3"
  },
  "language_info": {
   "codemirror_mode": {
    "name": "ipython",
    "version": 2
   },
   "file_extension": ".py",
   "mimetype": "text/x-python",
   "name": "python",
   "nbconvert_exporter": "python",
   "pygments_lexer": "ipython2",
   "version": "2.7.6"
  }
 },
 "nbformat": 4,
 "nbformat_minor": 5
}
