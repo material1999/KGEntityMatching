{
 "cells": [
  {
   "metadata": {
    "ExecuteTime": {
     "end_time": "2025-07-16T21:18:59.664541Z",
     "start_time": "2025-07-16T21:18:59.653802Z"
    }
   },
   "cell_type": "code",
   "source": "import json",
   "id": "911d5c17fa56bafa",
   "outputs": [],
   "execution_count": 1
  },
  {
   "cell_type": "code",
   "id": "initial_id",
   "metadata": {
    "collapsed": true,
    "ExecuteTime": {
     "end_time": "2025-07-16T21:18:59.790818Z",
     "start_time": "2025-07-16T21:18:59.788885Z"
    }
   },
   "source": [
    "small = \"stexpanded\"\n",
    "big = \"memoryalpha\""
   ],
   "outputs": [],
   "execution_count": 2
  },
  {
   "metadata": {
    "ExecuteTime": {
     "end_time": "2025-07-16T21:18:59.802636Z",
     "start_time": "2025-07-16T21:18:59.800484Z"
    }
   },
   "cell_type": "code",
   "source": [
    "mappings_file_small = \"./_input/mappings/\" + small + \".json\"\n",
    "mappings_file_big = \"./_input/mappings/\" + big + \".json\"\n",
    "\n",
    "gold_pairs_file = \"./_input/gold_pairs/\" + small + \"-\" + big + \".txt\"\n",
    "exact_match_file = \"./_input/exact_match/\" + small + \"-\" + big + \".json\"\n",
    "found_pairs_file = \"./_input/found_pairs/\" + small + \"-\" + big + \".txt\""
   ],
   "id": "6eea90dc2d95cc24",
   "outputs": [],
   "execution_count": 3
  },
  {
   "metadata": {
    "ExecuteTime": {
     "end_time": "2025-07-16T21:19:00.408857Z",
     "start_time": "2025-07-16T21:18:59.810836Z"
    }
   },
   "cell_type": "code",
   "source": [
    "with open(mappings_file_small) as file:\n",
    "    mappings_small = {str(v): k for k, v in json.load(file).items()}\n",
    "    mappings_small_reversed = {v: k for k, v in mappings_small.items()}\n",
    "\n",
    "with open(mappings_file_big) as file:\n",
    "    mappings_big = {str(v): k for k, v in json.load(file).items()}\n",
    "    mappings_big_reversed = {v: k for k, v in mappings_big.items()}\n",
    "\n",
    "with open(gold_pairs_file) as gpf:\n",
    "    gold_pairs = []\n",
    "    for line in gpf:\n",
    "        numbers_list = [int(num) for num in line.strip().split(\";\")]\n",
    "        gold_pairs.append(numbers_list)\n",
    "\n",
    "with open(found_pairs_file) as fpf:\n",
    "    found_pairs = []\n",
    "    found_pairs_score = []\n",
    "    for line in fpf:\n",
    "        num_1 = int(mappings_small_reversed[line.strip().split(\"###\")[0]])\n",
    "        num_2 = int(mappings_big_reversed[line.strip().split(\"###\")[1]])\n",
    "        num_3 = float(line.strip().split(\"###\")[2])\n",
    "        numbers_list = [num_1, num_2]\n",
    "        found_pairs.append(numbers_list)\n",
    "        numbers_list_score = [num_1, num_2, num_3]\n",
    "        found_pairs_score.append(numbers_list_score)\n",
    "\n",
    "gold_pairs_left = {pair[0] for pair in gold_pairs}\n",
    "gold_pairs_right = {pair[1] for pair in gold_pairs}\n",
    "\n",
    "with open(exact_match_file) as file:\n",
    "    exact_match = json.load(file)\n",
    "\n",
    "exact_match_left = {pair[0] for pair in exact_match}"
   ],
   "id": "dbf341c1887c25d3",
   "outputs": [],
   "execution_count": 4
  },
  {
   "metadata": {
    "ExecuteTime": {
     "end_time": "2025-07-16T21:19:00.419621Z",
     "start_time": "2025-07-16T21:19:00.417112Z"
    }
   },
   "cell_type": "code",
   "source": [
    "def compute_precision_recall_f1(gold_input, found_input):\n",
    "\n",
    "    gold_set = set(tuple(pair) for pair in gold_input)\n",
    "    found_set = set(tuple(pair) for pair in found_input)\n",
    "\n",
    "    true_positives = gold_set & found_set\n",
    "    tp = len(true_positives)\n",
    "    fn = len(gold_set - found_set)\n",
    "    fp = len(found_set - gold_set)\n",
    "\n",
    "    precision = tp / (tp + fp) if (tp + fp) > 0 else 0.0\n",
    "    recall = tp / (tp + fn) if (tp + fn) > 0 else 0.0\n",
    "    f1 = (2 * precision * recall) / (precision + recall) if (precision + recall) > 0 else 0.0\n",
    "\n",
    "    return precision, recall, f1"
   ],
   "id": "458b9dd7552b07d8",
   "outputs": [],
   "execution_count": 5
  },
  {
   "metadata": {
    "ExecuteTime": {
     "end_time": "2025-07-16T21:19:00.892843Z",
     "start_time": "2025-07-16T21:19:00.889865Z"
    }
   },
   "cell_type": "code",
   "source": [
    "def clean_found_pairs(found_input_score, threshold):\n",
    "\n",
    "    temp_dict = dict()\n",
    "\n",
    "    for pair in found_input_score:\n",
    "        if str(pair[1]) not in temp_dict:\n",
    "            temp_dict[str(pair[1])] = pair[2]\n",
    "        elif pair[2] > temp_dict[str(pair[1])]:\n",
    "            temp_dict[str(pair[1])] = pair[2]\n",
    "\n",
    "    output = []\n",
    "\n",
    "    for pair in found_input_score:\n",
    "        if ((pair[0] in gold_pairs_left or pair[1] in gold_pairs_right)\n",
    "                and pair[2] > threshold\n",
    "                and pair[2] == temp_dict[str(pair[1])]):\n",
    "            output.append([pair[0], pair[1]])\n",
    "\n",
    "    return output"
   ],
   "id": "b3b40dff73593a2",
   "outputs": [],
   "execution_count": 6
  },
  {
   "metadata": {
    "ExecuteTime": {
     "end_time": "2025-07-16T21:19:01.131452Z",
     "start_time": "2025-07-16T21:19:01.128973Z"
    }
   },
   "cell_type": "code",
   "source": [
    "def add_exact_match(found_input):\n",
    "\n",
    "    output = []\n",
    "\n",
    "    for em in exact_match:\n",
    "        if em[0] in gold_pairs_left or em[1] in gold_pairs_right:\n",
    "            output.append(em)\n",
    "\n",
    "    for pair in found_input:\n",
    "        if (pair[0] in gold_pairs_left or pair[1] in gold_pairs_right) and pair[0] not in exact_match_left:\n",
    "            output.append(pair)\n",
    "\n",
    "    return output"
   ],
   "id": "757770feabc680dd",
   "outputs": [],
   "execution_count": 7
  },
  {
   "metadata": {
    "ExecuteTime": {
     "end_time": "2025-07-16T21:19:01.377687Z",
     "start_time": "2025-07-16T21:19:01.375284Z"
    }
   },
   "cell_type": "code",
   "source": [
    "def calculate_threshold(found_input_score):\n",
    "\n",
    "    temp_dict = dict()\n",
    "\n",
    "    for pair in found_input_score:\n",
    "        if str(pair[1]) not in temp_dict:\n",
    "            temp_dict[str(pair[1])] = pair[2]\n",
    "        elif pair[2] > temp_dict[str(pair[1])]:\n",
    "            temp_dict[str(pair[1])] = pair[2]\n",
    "\n",
    "    count = 0\n",
    "    sum_score = 0.0\n",
    "    for em in exact_match:\n",
    "        if str(em[1]) in temp_dict:\n",
    "            count += 1\n",
    "            sum_score += temp_dict[str(em[1])]\n",
    "\n",
    "    return sum_score / count"
   ],
   "id": "f5f1e586005a6142",
   "outputs": [],
   "execution_count": 8
  },
  {
   "metadata": {
    "ExecuteTime": {
     "end_time": "2025-07-16T21:19:01.616576Z",
     "start_time": "2025-07-16T21:19:01.613206Z"
    }
   },
   "cell_type": "code",
   "source": "len(found_pairs)",
   "id": "bf0946ce48131af8",
   "outputs": [
    {
     "data": {
      "text/plain": [
       "15514"
      ]
     },
     "execution_count": 9,
     "metadata": {},
     "output_type": "execute_result"
    }
   ],
   "execution_count": 9
  },
  {
   "metadata": {
    "ExecuteTime": {
     "end_time": "2025-07-16T21:19:01.872951Z",
     "start_time": "2025-07-16T21:19:01.867725Z"
    }
   },
   "cell_type": "code",
   "source": [
    "precision, recall, f1 = compute_precision_recall_f1(gold_pairs, found_pairs)\n",
    "\n",
    "print(f\"Precision: {precision:.5f}\")\n",
    "print(f\"Recall: {recall:.5f}\")\n",
    "print(f\"F1 Score: {f1:.5f}\")"
   ],
   "id": "cc0458e4333cfc57",
   "outputs": [
    {
     "name": "stdout",
     "output_type": "stream",
     "text": [
      "Precision: 0.08212\n",
      "Recall: 0.71613\n",
      "F1 Score: 0.14734\n"
     ]
    }
   ],
   "execution_count": 10
  },
  {
   "metadata": {
    "ExecuteTime": {
     "end_time": "2025-07-16T21:19:02.121290Z",
     "start_time": "2025-07-16T21:19:02.113502Z"
    }
   },
   "cell_type": "code",
   "source": [
    "reranker_threshold = calculate_threshold(found_pairs_score)\n",
    "print(f\"Threshold: {reranker_threshold:.5f}\")"
   ],
   "id": "4d6cbeecda0de216",
   "outputs": [
    {
     "name": "stdout",
     "output_type": "stream",
     "text": [
      "Threshold: 3.73778\n"
     ]
    }
   ],
   "execution_count": 11
  },
  {
   "metadata": {
    "ExecuteTime": {
     "end_time": "2025-07-16T21:19:02.370197Z",
     "start_time": "2025-07-16T21:19:02.360993Z"
    }
   },
   "cell_type": "code",
   "source": "found_pairs_cleaned = clean_found_pairs(found_pairs_score, reranker_threshold)",
   "id": "26f58f0d6967cf9",
   "outputs": [],
   "execution_count": 12
  },
  {
   "metadata": {
    "ExecuteTime": {
     "end_time": "2025-07-16T21:19:02.606099Z",
     "start_time": "2025-07-16T21:19:02.604113Z"
    }
   },
   "cell_type": "code",
   "source": "len(found_pairs_cleaned)",
   "id": "99e95d18ad248d77",
   "outputs": [
    {
     "data": {
      "text/plain": [
       "791"
      ]
     },
     "execution_count": 13,
     "metadata": {},
     "output_type": "execute_result"
    }
   ],
   "execution_count": 13
  },
  {
   "metadata": {
    "ExecuteTime": {
     "end_time": "2025-07-16T21:19:02.853856Z",
     "start_time": "2025-07-16T21:19:02.851093Z"
    }
   },
   "cell_type": "code",
   "source": [
    "precision, recall, f1 = compute_precision_recall_f1(gold_pairs, found_pairs_cleaned)\n",
    "\n",
    "print(f\"Precision: {precision:.5f}\")\n",
    "print(f\"Recall: {recall:.5f}\")\n",
    "print(f\"F1 Score: {f1:.5f}\")"
   ],
   "id": "64f4d971c99ba86b",
   "outputs": [
    {
     "name": "stdout",
     "output_type": "stream",
     "text": [
      "Precision: 0.88748\n",
      "Recall: 0.39460\n",
      "F1 Score: 0.54630\n"
     ]
    }
   ],
   "execution_count": 14
  },
  {
   "metadata": {
    "ExecuteTime": {
     "end_time": "2025-07-16T21:19:03.104530Z",
     "start_time": "2025-07-16T21:19:03.102399Z"
    }
   },
   "cell_type": "code",
   "source": "found_pairs_cleaned_em = add_exact_match(found_pairs_cleaned)",
   "id": "5d398d7a0ae4414b",
   "outputs": [],
   "execution_count": 15
  },
  {
   "metadata": {
    "ExecuteTime": {
     "end_time": "2025-07-16T21:19:03.348575Z",
     "start_time": "2025-07-16T21:19:03.346328Z"
    }
   },
   "cell_type": "code",
   "source": "len(found_pairs_cleaned_em)",
   "id": "9a73bab5ac21beb4",
   "outputs": [
    {
     "data": {
      "text/plain": [
       "1761"
      ]
     },
     "execution_count": 16,
     "metadata": {},
     "output_type": "execute_result"
    }
   ],
   "execution_count": 16
  },
  {
   "metadata": {
    "ExecuteTime": {
     "end_time": "2025-07-16T21:19:03.592969Z",
     "start_time": "2025-07-16T21:19:03.590026Z"
    }
   },
   "cell_type": "code",
   "source": [
    "precision, recall, f1 = compute_precision_recall_f1(gold_pairs, found_pairs_cleaned_em)\n",
    "\n",
    "print(f\"Precision: {precision:.5f}\")\n",
    "print(f\"Recall: {recall:.5f}\")\n",
    "print(f\"F1 Score: {f1:.5f}\")"
   ],
   "id": "b53ac1e0ad9de51e",
   "outputs": [
    {
     "name": "stdout",
     "output_type": "stream",
     "text": [
      "Precision: 0.94151\n",
      "Recall: 0.93198\n",
      "F1 Score: 0.93672\n"
     ]
    }
   ],
   "execution_count": 17
  },
  {
   "metadata": {
    "ExecuteTime": {
     "end_time": "2025-07-16T21:19:03.841412Z",
     "start_time": "2025-07-16T21:19:03.840149Z"
    }
   },
   "cell_type": "code",
   "source": "",
   "id": "2014252af7cad298",
   "outputs": [],
   "execution_count": null
  }
 ],
 "metadata": {
  "kernelspec": {
   "display_name": "Python 3",
   "language": "python",
   "name": "python3"
  },
  "language_info": {
   "codemirror_mode": {
    "name": "ipython",
    "version": 2
   },
   "file_extension": ".py",
   "mimetype": "text/x-python",
   "name": "python",
   "nbconvert_exporter": "python",
   "pygments_lexer": "ipython2",
   "version": "2.7.6"
  }
 },
 "nbformat": 4,
 "nbformat_minor": 5
}
