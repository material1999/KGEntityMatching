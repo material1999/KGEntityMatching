{
 "cells": [
  {
   "metadata": {
    "ExecuteTime": {
     "end_time": "2025-07-15T12:24:21.333907Z",
     "start_time": "2025-07-15T12:24:21.323801Z"
    }
   },
   "cell_type": "code",
   "source": "import json",
   "id": "911d5c17fa56bafa",
   "outputs": [],
   "execution_count": 1
  },
  {
   "cell_type": "code",
   "id": "initial_id",
   "metadata": {
    "collapsed": true,
    "ExecuteTime": {
     "end_time": "2025-07-15T12:24:21.509042Z",
     "start_time": "2025-07-15T12:24:21.506676Z"
    }
   },
   "source": [
    "small = \"stexpanded\"\n",
    "big = \"memoryalpha\""
   ],
   "outputs": [],
   "execution_count": 2
  },
  {
   "metadata": {
    "ExecuteTime": {
     "end_time": "2025-07-15T12:24:21.541350Z",
     "start_time": "2025-07-15T12:24:21.538934Z"
    }
   },
   "cell_type": "code",
   "source": [
    "mappings_file_small = \"./_input/mappings/\" + small + \".json\"\n",
    "mappings_file_big = \"./_input/mappings/\" + big + \".json\"\n",
    "\n",
    "gold_pairs_file = \"./_input/gold_pairs/\" + small + \"-\" + big + \".txt\"\n",
    "exact_match_file = \"./_input/exact_match/\" + small + \"-\" + big + \".json\"\n",
    "found_pairs_file = \"./_input/found_pairs/\" + small + \"-\" + big + \".txt\""
   ],
   "id": "6eea90dc2d95cc24",
   "outputs": [],
   "execution_count": 3
  },
  {
   "metadata": {
    "ExecuteTime": {
     "end_time": "2025-07-15T12:24:22.098951Z",
     "start_time": "2025-07-15T12:24:21.555908Z"
    }
   },
   "cell_type": "code",
   "source": [
    "with open(mappings_file_small) as file:\n",
    "    mappings_small = {str(v): k for k, v in json.load(file).items()}\n",
    "    mappings_small_reversed = {v: k for k, v in mappings_small.items()}\n",
    "\n",
    "with open(mappings_file_big) as file:\n",
    "    mappings_big = {str(v): k for k, v in json.load(file).items()}\n",
    "    mappings_big_reversed = {v: k for k, v in mappings_big.items()}\n",
    "\n",
    "with open(gold_pairs_file) as gpf:\n",
    "    gold_pairs = []\n",
    "    for line in gpf:\n",
    "        numbers_list = [int(num) for num in line.strip().split(\";\")]\n",
    "        gold_pairs.append(numbers_list)\n",
    "\n",
    "with open(found_pairs_file) as fpf:\n",
    "    found_pairs = []\n",
    "    for line in fpf:\n",
    "        num_1 = int(mappings_small_reversed[line.strip().split(\"###\")[0]])\n",
    "        num_2 = int(mappings_big_reversed[line.strip().split(\"###\")[1]])\n",
    "        numbers_list = [num_1, num_2]\n",
    "        found_pairs.append(numbers_list)\n",
    "\n",
    "gold_pairs_left = {pair[0] for pair in gold_pairs}\n",
    "gold_pairs_right = {pair[1] for pair in gold_pairs}\n",
    "\n",
    "with open(exact_match_file) as file:\n",
    "    exact_match = json.load(file)"
   ],
   "id": "dbf341c1887c25d3",
   "outputs": [],
   "execution_count": 4
  },
  {
   "metadata": {
    "ExecuteTime": {
     "end_time": "2025-07-15T12:24:22.363604Z",
     "start_time": "2025-07-15T12:24:22.359387Z"
    }
   },
   "cell_type": "code",
   "source": [
    "def compute_precision_recall_f1(gold_pairs, found_pairs):\n",
    "\n",
    "    found_pairs_cleaned = []\n",
    "    for pair in found_pairs:\n",
    "        if pair[0] in gold_pairs_left or pair[1] in gold_pairs_right:\n",
    "            found_pairs_cleaned.append(pair)\n",
    "\n",
    "    gold_set = set(tuple(pair) for pair in gold_pairs)\n",
    "    found_set = set(tuple(pair) for pair in found_pairs_cleaned)\n",
    "\n",
    "    true_positives = gold_set & found_set\n",
    "    tp = len(true_positives)\n",
    "    fn = len(gold_set - found_set)\n",
    "    fp = len(found_set - gold_set)\n",
    "\n",
    "    precision = tp / (tp + fp) if (tp + fp) > 0 else 0.0\n",
    "    recall = tp / (tp + fn) if (tp + fn) > 0 else 0.0\n",
    "    f1 = (2 * precision * recall) / (precision + recall) if (precision + recall) > 0 else 0.0\n",
    "\n",
    "    return precision, recall, f1"
   ],
   "id": "458b9dd7552b07d8",
   "outputs": [],
   "execution_count": 5
  },
  {
   "metadata": {
    "ExecuteTime": {
     "end_time": "2025-07-15T12:24:22.628626Z",
     "start_time": "2025-07-15T12:24:22.624604Z"
    }
   },
   "cell_type": "code",
   "source": "len(found_pairs)",
   "id": "bf0946ce48131af8",
   "outputs": [
    {
     "data": {
      "text/plain": [
       "1779"
      ]
     },
     "execution_count": 6,
     "metadata": {},
     "output_type": "execute_result"
    }
   ],
   "execution_count": 6
  },
  {
   "metadata": {
    "ExecuteTime": {
     "end_time": "2025-07-15T12:24:22.898451Z",
     "start_time": "2025-07-15T12:24:22.893817Z"
    }
   },
   "cell_type": "code",
   "source": [
    "precision, recall, f1 = compute_precision_recall_f1(gold_pairs, found_pairs)\n",
    "\n",
    "print(f\"Precision: {precision:.5f}\")\n",
    "print(f\"Recall: {recall:.5f}\")\n",
    "print(f\"F1 Score: {f1:.5f}\")"
   ],
   "id": "64f4d971c99ba86b",
   "outputs": [
    {
     "name": "stdout",
     "output_type": "stream",
     "text": [
      "Precision: 0.71613\n",
      "Recall: 0.71613\n",
      "F1 Score: 0.71613\n"
     ]
    }
   ],
   "execution_count": 7
  },
  {
   "metadata": {
    "ExecuteTime": {
     "end_time": "2025-07-15T12:24:23.178544Z",
     "start_time": "2025-07-15T12:24:23.171066Z"
    }
   },
   "cell_type": "code",
   "source": [
    "# em_found_pairs = []\n",
    "# for em in exact_match:\n",
    "#     # if em[0] in gold_pairs_left or em[1] in gold_pairs_right:\n",
    "#     if em[0] in gold_pairs_left:\n",
    "#         em_found_pairs.append(em)\n",
    "\n",
    "em_found_pairs = [item for item in exact_match]\n",
    "\n",
    "em_found_pairs_left = {pair[0] for pair in em_found_pairs}\n",
    "\n",
    "for pair in found_pairs:\n",
    "    if pair[0] not in em_found_pairs_left:\n",
    "        em_found_pairs.append(pair)"
   ],
   "id": "edf2de1406bb4498",
   "outputs": [],
   "execution_count": 8
  },
  {
   "metadata": {
    "ExecuteTime": {
     "end_time": "2025-07-15T12:24:23.432939Z",
     "start_time": "2025-07-15T12:24:23.429604Z"
    }
   },
   "cell_type": "code",
   "source": "len(em_found_pairs)",
   "id": "9a73bab5ac21beb4",
   "outputs": [
    {
     "data": {
      "text/plain": [
       "3355"
      ]
     },
     "execution_count": 9,
     "metadata": {},
     "output_type": "execute_result"
    }
   ],
   "execution_count": 9
  },
  {
   "metadata": {
    "ExecuteTime": {
     "end_time": "2025-07-15T12:24:23.691161Z",
     "start_time": "2025-07-15T12:24:23.685611Z"
    }
   },
   "cell_type": "code",
   "source": [
    "precision, recall, f1 = compute_precision_recall_f1(gold_pairs, em_found_pairs)\n",
    "\n",
    "print(f\"Precision: {precision:.5f}\")\n",
    "print(f\"Recall: {recall:.5f}\")\n",
    "print(f\"F1 Score: {f1:.5f}\")"
   ],
   "id": "b53ac1e0ad9de51e",
   "outputs": [
    {
     "name": "stdout",
     "output_type": "stream",
     "text": [
      "Precision: 0.92979\n",
      "Recall: 0.95278\n",
      "F1 Score: 0.94114\n"
     ]
    }
   ],
   "execution_count": 10
  },
  {
   "metadata": {
    "ExecuteTime": {
     "end_time": "2025-07-15T12:24:23.965394Z",
     "start_time": "2025-07-15T12:24:23.964040Z"
    }
   },
   "cell_type": "code",
   "source": "",
   "id": "2014252af7cad298",
   "outputs": [],
   "execution_count": null
  }
 ],
 "metadata": {
  "kernelspec": {
   "display_name": "Python 3",
   "language": "python",
   "name": "python3"
  },
  "language_info": {
   "codemirror_mode": {
    "name": "ipython",
    "version": 2
   },
   "file_extension": ".py",
   "mimetype": "text/x-python",
   "name": "python",
   "nbconvert_exporter": "python",
   "pygments_lexer": "ipython2",
   "version": "2.7.6"
  }
 },
 "nbformat": 4,
 "nbformat_minor": 5
}
