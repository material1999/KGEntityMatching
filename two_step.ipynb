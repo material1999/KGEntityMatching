{
 "cells": [
  {
   "cell_type": "code",
   "id": "initial_id",
   "metadata": {
    "collapsed": true,
    "ExecuteTime": {
     "end_time": "2024-09-23T08:12:08.110294Z",
     "start_time": "2024-09-23T08:12:07.798398Z"
    }
   },
   "source": [
    "import pandas as pd\n",
    "import networkx as nx\n",
    "from tqdm import tqdm"
   ],
   "outputs": [],
   "execution_count": 1
  },
  {
   "metadata": {
    "ExecuteTime": {
     "end_time": "2024-09-23T08:12:08.116166Z",
     "start_time": "2024-09-23T08:12:08.114463Z"
    }
   },
   "cell_type": "code",
   "source": "graph = \"swtor\"",
   "id": "d278f1da511029d0",
   "outputs": [],
   "execution_count": 2
  },
  {
   "metadata": {
    "ExecuteTime": {
     "end_time": "2024-09-23T08:12:08.446009Z",
     "start_time": "2024-09-23T08:12:08.219243Z"
    }
   },
   "cell_type": "code",
   "source": [
    "print(\"Reading graph \" + str(graph))\n",
    "graph_path = \"/Users/matevass/Documents/Projects/KGEntityMatching/data/filtered_triples_weighted/\"\n",
    "graph_df = pd.read_csv(graph_path + graph + \".triples\", sep=\"###\", engine=\"python\", header=None)\n",
    "G = nx.Graph()\n",
    "for row in graph_df.itertuples():\n",
    "    G.add_edge(int(row[1]), int(row[2]), weight=int(row[3]))"
   ],
   "id": "4527c43d48d3ff13",
   "outputs": [
    {
     "name": "stdout",
     "output_type": "stream",
     "text": [
      "Reading graph swtor\n"
     ]
    }
   ],
   "execution_count": 3
  },
  {
   "metadata": {
    "ExecuteTime": {
     "end_time": "2024-09-23T08:12:08.515363Z",
     "start_time": "2024-09-23T08:12:08.513454Z"
    }
   },
   "cell_type": "code",
   "source": [
    "# diameter = max([max(j.values()) for (i,j) in nx.shortest_path_length(G)])\n",
    "# print(diameter)"
   ],
   "id": "5dfa380ef00e573",
   "outputs": [],
   "execution_count": 4
  },
  {
   "metadata": {
    "ExecuteTime": {
     "end_time": "2024-09-23T08:12:08.535626Z",
     "start_time": "2024-09-23T08:12:08.528392Z"
    }
   },
   "cell_type": "code",
   "source": [
    "print(G)\n",
    "print([n for n in G[0]])"
   ],
   "id": "e19f17734a92fa18",
   "outputs": [
    {
     "name": "stdout",
     "output_type": "stream",
     "text": [
      "Graph with 18125 nodes and 57118 edges\n",
      "[2, 2180]\n"
     ]
    }
   ],
   "execution_count": 5
  },
  {
   "metadata": {
    "ExecuteTime": {
     "end_time": "2024-09-23T08:12:10.705348Z",
     "start_time": "2024-09-23T08:12:08.602356Z"
    }
   },
   "cell_type": "code",
   "source": [
    "communities_path = \"/Users/matevass/Documents/Projects/KGEntityMatching/data/two_step/\"\n",
    "\n",
    "print(\"Searching for two-step communities in graph \" + graph)\n",
    "\n",
    "with open(communities_path + graph + \".csv\", 'w') as communities_output:\n",
    "    count = 0\n",
    "    #for node in tqdm(G.nodes()):\n",
    "    for node in G.nodes():\n",
    "        count += 1\n",
    "        two_step = list(nx.ego_graph(G,node,radius=2).nodes())\n",
    "        print(str(node) + \" --- \" + str(len(two_step)))\n",
    "        #print(two_step)\n",
    "        # communities_output.write(str(two_step) + \"\\n\")\n",
    "\n",
    "print(\"Two-step communities for graph \" + graph + \" found: \" + str(count))"
   ],
   "id": "360dfef6d42004b",
   "outputs": [
    {
     "name": "stdout",
     "output_type": "stream",
     "text": [
      "Searching for two-step communities in graph swtor\n",
      "0 --- 135\n",
      "2 --- 3524\n",
      "6 --- 1878\n",
      "8 --- 196\n",
      "10 --- 2678\n",
      "9 --- 1316\n",
      "17 --- 7679\n",
      "18 --- 7679\n",
      "22 --- 305\n",
      "23 --- 1196\n",
      "24 --- 412\n",
      "25 --- 1227\n",
      "26 --- 985\n",
      "27 --- 1068\n",
      "28 --- 7679\n",
      "35 --- 2443\n",
      "36 --- 5478\n",
      "57 --- 3052\n",
      "58 --- 1752\n",
      "59 --- 2785\n",
      "60 --- 3188\n",
      "61 --- 1612\n",
      "63 --- 2732\n",
      "64 --- 1880\n",
      "65 --- 2876\n",
      "69 --- 1785\n",
      "70 --- 2570\n",
      "71 --- 2629\n",
      "72 --- 2448\n",
      "84 --- 1101\n",
      "85 --- 2033\n",
      "86 --- 301\n",
      "87 --- 2637\n",
      "91 --- 916\n"
     ]
    },
    {
     "ename": "KeyboardInterrupt",
     "evalue": "",
     "output_type": "error",
     "traceback": [
      "\u001B[0;31m---------------------------------------------------------------------------\u001B[0m",
      "\u001B[0;31mKeyboardInterrupt\u001B[0m                         Traceback (most recent call last)",
      "Cell \u001B[0;32mIn[6], line 10\u001B[0m\n\u001B[1;32m      8\u001B[0m \u001B[38;5;28;01mfor\u001B[39;00m node \u001B[38;5;129;01min\u001B[39;00m G\u001B[38;5;241m.\u001B[39mnodes():\n\u001B[1;32m      9\u001B[0m     count \u001B[38;5;241m+\u001B[39m\u001B[38;5;241m=\u001B[39m \u001B[38;5;241m1\u001B[39m\n\u001B[0;32m---> 10\u001B[0m     two_step \u001B[38;5;241m=\u001B[39m \u001B[38;5;28mlist\u001B[39m(\u001B[43mnx\u001B[49m\u001B[38;5;241;43m.\u001B[39;49m\u001B[43mego_graph\u001B[49m\u001B[43m(\u001B[49m\u001B[43mG\u001B[49m\u001B[43m,\u001B[49m\u001B[43mnode\u001B[49m\u001B[43m,\u001B[49m\u001B[43mradius\u001B[49m\u001B[38;5;241;43m=\u001B[39;49m\u001B[38;5;241;43m2\u001B[39;49m\u001B[43m)\u001B[49m\u001B[38;5;241m.\u001B[39mnodes())\n\u001B[1;32m     11\u001B[0m     \u001B[38;5;28mprint\u001B[39m(\u001B[38;5;28mstr\u001B[39m(node) \u001B[38;5;241m+\u001B[39m \u001B[38;5;124m\"\u001B[39m\u001B[38;5;124m --- \u001B[39m\u001B[38;5;124m\"\u001B[39m \u001B[38;5;241m+\u001B[39m \u001B[38;5;28mstr\u001B[39m(\u001B[38;5;28mlen\u001B[39m(two_step)))\n\u001B[1;32m     12\u001B[0m     \u001B[38;5;66;03m#print(two_step)\u001B[39;00m\n\u001B[1;32m     13\u001B[0m     \u001B[38;5;66;03m# communities_output.write(str(two_step) + \"\\n\")\u001B[39;00m\n",
      "File \u001B[0;32m<class 'networkx.utils.decorators.argmap'> compilation 4:3\u001B[0m, in \u001B[0;36margmap_ego_graph_1\u001B[0;34m(G, n, radius, center, undirected, distance, backend, **backend_kwargs)\u001B[0m\n\u001B[1;32m      1\u001B[0m \u001B[38;5;28;01mimport\u001B[39;00m \u001B[38;5;21;01mbz2\u001B[39;00m\n\u001B[1;32m      2\u001B[0m \u001B[38;5;28;01mimport\u001B[39;00m \u001B[38;5;21;01mcollections\u001B[39;00m\n\u001B[0;32m----> 3\u001B[0m \u001B[38;5;28;01mimport\u001B[39;00m \u001B[38;5;21;01mgzip\u001B[39;00m\n\u001B[1;32m      4\u001B[0m \u001B[38;5;28;01mimport\u001B[39;00m \u001B[38;5;21;01minspect\u001B[39;00m\n\u001B[1;32m      5\u001B[0m \u001B[38;5;28;01mimport\u001B[39;00m \u001B[38;5;21;01mitertools\u001B[39;00m\n",
      "File \u001B[0;32m~/Documents/Projects/KGEntityMatching/venv/lib/python3.10/site-packages/networkx/utils/backends.py:633\u001B[0m, in \u001B[0;36m_dispatchable.__call__\u001B[0;34m(self, backend, *args, **kwargs)\u001B[0m\n\u001B[1;32m    628\u001B[0m \u001B[38;5;250m\u001B[39m\u001B[38;5;124;03m\"\"\"Returns the result of the original function, or the backend function if\u001B[39;00m\n\u001B[1;32m    629\u001B[0m \u001B[38;5;124;03mthe backend is specified and that backend implements `func`.\"\"\"\u001B[39;00m\n\u001B[1;32m    631\u001B[0m \u001B[38;5;28;01mif\u001B[39;00m \u001B[38;5;129;01mnot\u001B[39;00m backends:\n\u001B[1;32m    632\u001B[0m     \u001B[38;5;66;03m# Fast path if no backends are installed\u001B[39;00m\n\u001B[0;32m--> 633\u001B[0m     \u001B[38;5;28;01mreturn\u001B[39;00m \u001B[38;5;28;43mself\u001B[39;49m\u001B[38;5;241;43m.\u001B[39;49m\u001B[43morig_func\u001B[49m\u001B[43m(\u001B[49m\u001B[38;5;241;43m*\u001B[39;49m\u001B[43margs\u001B[49m\u001B[43m,\u001B[49m\u001B[43m \u001B[49m\u001B[38;5;241;43m*\u001B[39;49m\u001B[38;5;241;43m*\u001B[39;49m\u001B[43mkwargs\u001B[49m\u001B[43m)\u001B[49m\n\u001B[1;32m    635\u001B[0m \u001B[38;5;66;03m# Use `backend_name` in this function instead of `backend`\u001B[39;00m\n\u001B[1;32m    636\u001B[0m backend_name \u001B[38;5;241m=\u001B[39m backend\n",
      "File \u001B[0;32m~/Documents/Projects/KGEntityMatching/venv/lib/python3.10/site-packages/networkx/generators/ego.py:62\u001B[0m, in \u001B[0;36mego_graph\u001B[0;34m(G, n, radius, center, undirected, distance)\u001B[0m\n\u001B[1;32m     59\u001B[0m     \u001B[38;5;28;01melse\u001B[39;00m:\n\u001B[1;32m     60\u001B[0m         sp \u001B[38;5;241m=\u001B[39m \u001B[38;5;28mdict\u001B[39m(nx\u001B[38;5;241m.\u001B[39msingle_source_shortest_path_length(G, n, cutoff\u001B[38;5;241m=\u001B[39mradius))\n\u001B[0;32m---> 62\u001B[0m H \u001B[38;5;241m=\u001B[39m \u001B[43mG\u001B[49m\u001B[38;5;241;43m.\u001B[39;49m\u001B[43msubgraph\u001B[49m\u001B[43m(\u001B[49m\u001B[43msp\u001B[49m\u001B[43m)\u001B[49m\u001B[38;5;241;43m.\u001B[39;49m\u001B[43mcopy\u001B[49m\u001B[43m(\u001B[49m\u001B[43m)\u001B[49m\n\u001B[1;32m     63\u001B[0m \u001B[38;5;28;01mif\u001B[39;00m \u001B[38;5;129;01mnot\u001B[39;00m center:\n\u001B[1;32m     64\u001B[0m     H\u001B[38;5;241m.\u001B[39mremove_node(n)\n",
      "File \u001B[0;32m~/Documents/Projects/KGEntityMatching/venv/lib/python3.10/site-packages/networkx/classes/graph.py:1648\u001B[0m, in \u001B[0;36mGraph.copy\u001B[0;34m(self, as_view)\u001B[0m\n\u001B[1;32m   1646\u001B[0m G\u001B[38;5;241m.\u001B[39mgraph\u001B[38;5;241m.\u001B[39mupdate(\u001B[38;5;28mself\u001B[39m\u001B[38;5;241m.\u001B[39mgraph)\n\u001B[1;32m   1647\u001B[0m G\u001B[38;5;241m.\u001B[39madd_nodes_from((n, d\u001B[38;5;241m.\u001B[39mcopy()) \u001B[38;5;28;01mfor\u001B[39;00m n, d \u001B[38;5;129;01min\u001B[39;00m \u001B[38;5;28mself\u001B[39m\u001B[38;5;241m.\u001B[39m_node\u001B[38;5;241m.\u001B[39mitems())\n\u001B[0;32m-> 1648\u001B[0m \u001B[43mG\u001B[49m\u001B[38;5;241;43m.\u001B[39;49m\u001B[43madd_edges_from\u001B[49m\u001B[43m(\u001B[49m\n\u001B[1;32m   1649\u001B[0m \u001B[43m    \u001B[49m\u001B[43m(\u001B[49m\u001B[43mu\u001B[49m\u001B[43m,\u001B[49m\u001B[43m \u001B[49m\u001B[43mv\u001B[49m\u001B[43m,\u001B[49m\u001B[43m \u001B[49m\u001B[43mdatadict\u001B[49m\u001B[38;5;241;43m.\u001B[39;49m\u001B[43mcopy\u001B[49m\u001B[43m(\u001B[49m\u001B[43m)\u001B[49m\u001B[43m)\u001B[49m\n\u001B[1;32m   1650\u001B[0m \u001B[43m    \u001B[49m\u001B[38;5;28;43;01mfor\u001B[39;49;00m\u001B[43m \u001B[49m\u001B[43mu\u001B[49m\u001B[43m,\u001B[49m\u001B[43m \u001B[49m\u001B[43mnbrs\u001B[49m\u001B[43m \u001B[49m\u001B[38;5;129;43;01min\u001B[39;49;00m\u001B[43m \u001B[49m\u001B[38;5;28;43mself\u001B[39;49m\u001B[38;5;241;43m.\u001B[39;49m\u001B[43m_adj\u001B[49m\u001B[38;5;241;43m.\u001B[39;49m\u001B[43mitems\u001B[49m\u001B[43m(\u001B[49m\u001B[43m)\u001B[49m\n\u001B[1;32m   1651\u001B[0m \u001B[43m    \u001B[49m\u001B[38;5;28;43;01mfor\u001B[39;49;00m\u001B[43m \u001B[49m\u001B[43mv\u001B[49m\u001B[43m,\u001B[49m\u001B[43m \u001B[49m\u001B[43mdatadict\u001B[49m\u001B[43m \u001B[49m\u001B[38;5;129;43;01min\u001B[39;49;00m\u001B[43m \u001B[49m\u001B[43mnbrs\u001B[49m\u001B[38;5;241;43m.\u001B[39;49m\u001B[43mitems\u001B[49m\u001B[43m(\u001B[49m\u001B[43m)\u001B[49m\n\u001B[1;32m   1652\u001B[0m \u001B[43m\u001B[49m\u001B[43m)\u001B[49m\n\u001B[1;32m   1653\u001B[0m \u001B[38;5;28;01mreturn\u001B[39;00m G\n",
      "File \u001B[0;32m~/Documents/Projects/KGEntityMatching/venv/lib/python3.10/site-packages/networkx/classes/graph.py:1023\u001B[0m, in \u001B[0;36mGraph.add_edges_from\u001B[0;34m(self, ebunch_to_add, **attr)\u001B[0m\n\u001B[1;32m    968\u001B[0m \u001B[38;5;28;01mdef\u001B[39;00m \u001B[38;5;21madd_edges_from\u001B[39m(\u001B[38;5;28mself\u001B[39m, ebunch_to_add, \u001B[38;5;241m*\u001B[39m\u001B[38;5;241m*\u001B[39mattr):\n\u001B[1;32m    969\u001B[0m \u001B[38;5;250m    \u001B[39m\u001B[38;5;124;03m\"\"\"Add all the edges in ebunch_to_add.\u001B[39;00m\n\u001B[1;32m    970\u001B[0m \n\u001B[1;32m    971\u001B[0m \u001B[38;5;124;03m    Parameters\u001B[39;00m\n\u001B[0;32m   (...)\u001B[0m\n\u001B[1;32m   1021\u001B[0m \u001B[38;5;124;03m    >>> G.add_edges_from(list((5, n) for n in G.nodes))\u001B[39;00m\n\u001B[1;32m   1022\u001B[0m \u001B[38;5;124;03m    \"\"\"\u001B[39;00m\n\u001B[0;32m-> 1023\u001B[0m     \u001B[38;5;28;01mfor\u001B[39;00m e \u001B[38;5;129;01min\u001B[39;00m ebunch_to_add:\n\u001B[1;32m   1024\u001B[0m         ne \u001B[38;5;241m=\u001B[39m \u001B[38;5;28mlen\u001B[39m(e)\n\u001B[1;32m   1025\u001B[0m         \u001B[38;5;28;01mif\u001B[39;00m ne \u001B[38;5;241m==\u001B[39m \u001B[38;5;241m3\u001B[39m:\n",
      "File \u001B[0;32m~/Documents/Projects/KGEntityMatching/venv/lib/python3.10/site-packages/networkx/classes/graph.py:1648\u001B[0m, in \u001B[0;36m<genexpr>\u001B[0;34m(.0)\u001B[0m\n\u001B[1;32m   1646\u001B[0m G\u001B[38;5;241m.\u001B[39mgraph\u001B[38;5;241m.\u001B[39mupdate(\u001B[38;5;28mself\u001B[39m\u001B[38;5;241m.\u001B[39mgraph)\n\u001B[1;32m   1647\u001B[0m G\u001B[38;5;241m.\u001B[39madd_nodes_from((n, d\u001B[38;5;241m.\u001B[39mcopy()) \u001B[38;5;28;01mfor\u001B[39;00m n, d \u001B[38;5;129;01min\u001B[39;00m \u001B[38;5;28mself\u001B[39m\u001B[38;5;241m.\u001B[39m_node\u001B[38;5;241m.\u001B[39mitems())\n\u001B[0;32m-> 1648\u001B[0m G\u001B[38;5;241m.\u001B[39madd_edges_from(\n\u001B[1;32m   1649\u001B[0m     (u, v, datadict\u001B[38;5;241m.\u001B[39mcopy())\n\u001B[1;32m   1650\u001B[0m     \u001B[38;5;28;01mfor\u001B[39;00m u, nbrs \u001B[38;5;129;01min\u001B[39;00m \u001B[38;5;28mself\u001B[39m\u001B[38;5;241m.\u001B[39m_adj\u001B[38;5;241m.\u001B[39mitems()\n\u001B[1;32m   1651\u001B[0m     \u001B[38;5;28;01mfor\u001B[39;00m v, datadict \u001B[38;5;129;01min\u001B[39;00m nbrs\u001B[38;5;241m.\u001B[39mitems()\n\u001B[1;32m   1652\u001B[0m )\n\u001B[1;32m   1653\u001B[0m \u001B[38;5;28;01mreturn\u001B[39;00m G\n",
      "File \u001B[0;32m/Library/Frameworks/Python.framework/Versions/3.10/lib/python3.10/_collections_abc.py:905\u001B[0m, in \u001B[0;36mItemsView.__iter__\u001B[0;34m(self)\u001B[0m\n\u001B[1;32m    904\u001B[0m \u001B[38;5;28;01mdef\u001B[39;00m \u001B[38;5;21m__iter__\u001B[39m(\u001B[38;5;28mself\u001B[39m):\n\u001B[0;32m--> 905\u001B[0m     \u001B[38;5;28;01mfor\u001B[39;00m key \u001B[38;5;129;01min\u001B[39;00m \u001B[38;5;28mself\u001B[39m\u001B[38;5;241m.\u001B[39m_mapping:\n\u001B[1;32m    906\u001B[0m         \u001B[38;5;28;01myield\u001B[39;00m (key, \u001B[38;5;28mself\u001B[39m\u001B[38;5;241m.\u001B[39m_mapping[key])\n",
      "File \u001B[0;32m~/Documents/Projects/KGEntityMatching/venv/lib/python3.10/site-packages/networkx/classes/coreviews.py:293\u001B[0m, in \u001B[0;36m<genexpr>\u001B[0;34m(.0)\u001B[0m\n\u001B[1;32m    291\u001B[0m \u001B[38;5;28;01mif\u001B[39;00m node_ok_shorter:\n\u001B[1;32m    292\u001B[0m     \u001B[38;5;28;01mreturn\u001B[39;00m (n \u001B[38;5;28;01mfor\u001B[39;00m n \u001B[38;5;129;01min\u001B[39;00m \u001B[38;5;28mself\u001B[39m\u001B[38;5;241m.\u001B[39mNODE_OK\u001B[38;5;241m.\u001B[39mnodes \u001B[38;5;28;01mif\u001B[39;00m n \u001B[38;5;129;01min\u001B[39;00m \u001B[38;5;28mself\u001B[39m\u001B[38;5;241m.\u001B[39m_atlas)\n\u001B[0;32m--> 293\u001B[0m \u001B[38;5;28;01mreturn\u001B[39;00m (n \u001B[38;5;28;01mfor\u001B[39;00m n \u001B[38;5;129;01min\u001B[39;00m \u001B[38;5;28mself\u001B[39m\u001B[38;5;241m.\u001B[39m_atlas \u001B[38;5;28;01mif\u001B[39;00m \u001B[38;5;28;43mself\u001B[39;49m\u001B[38;5;241;43m.\u001B[39;49m\u001B[43mNODE_OK\u001B[49m\u001B[43m(\u001B[49m\u001B[43mn\u001B[49m\u001B[43m)\u001B[49m)\n",
      "File \u001B[0;32m~/Documents/Projects/KGEntityMatching/venv/lib/python3.10/site-packages/networkx/classes/coreviews.py:342\u001B[0m, in \u001B[0;36mFilterAdjacency.__getitem__.<locals>.new_node_ok\u001B[0;34m(nbr)\u001B[0m\n\u001B[1;32m    341\u001B[0m \u001B[38;5;28;01mdef\u001B[39;00m \u001B[38;5;21mnew_node_ok\u001B[39m(nbr):\n\u001B[0;32m--> 342\u001B[0m     \u001B[38;5;28;01mreturn\u001B[39;00m \u001B[38;5;28;43mself\u001B[39;49m\u001B[38;5;241;43m.\u001B[39;49m\u001B[43mNODE_OK\u001B[49m\u001B[43m(\u001B[49m\u001B[43mnbr\u001B[49m\u001B[43m)\u001B[49m \u001B[38;5;129;01mand\u001B[39;00m \u001B[38;5;28mself\u001B[39m\u001B[38;5;241m.\u001B[39mEDGE_OK(node, nbr)\n",
      "\u001B[0;31mKeyboardInterrupt\u001B[0m: "
     ]
    }
   ],
   "execution_count": 6
  },
  {
   "metadata": {},
   "cell_type": "code",
   "source": "",
   "id": "2dd273712d818a3d",
   "outputs": [],
   "execution_count": null
  }
 ],
 "metadata": {
  "kernelspec": {
   "display_name": "Python 3",
   "language": "python",
   "name": "python3"
  },
  "language_info": {
   "codemirror_mode": {
    "name": "ipython",
    "version": 2
   },
   "file_extension": ".py",
   "mimetype": "text/x-python",
   "name": "python",
   "nbconvert_exporter": "python",
   "pygments_lexer": "ipython2",
   "version": "2.7.6"
  }
 },
 "nbformat": 4,
 "nbformat_minor": 5
}
