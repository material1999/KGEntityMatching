{
 "cells": [
  {
   "cell_type": "code",
   "id": "initial_id",
   "metadata": {
    "collapsed": true,
    "ExecuteTime": {
     "end_time": "2025-07-10T19:42:48.938198Z",
     "start_time": "2025-07-10T19:42:47.216161Z"
    }
   },
   "source": [
    "import json\n",
    "\n",
    "big = \"mcu\"\n",
    "small = \"marvel\"\n",
    "\n",
    "with open(\"_input/mappings/\" + big + \".json\", \"r\") as f:\n",
    "    big_mapping = json.load(f)\n",
    "\n",
    "with open(\"_input/mappings/\" + small + \".json\", \"r\") as f:\n",
    "    small_mapping = json.load(f)\n",
    "\n",
    "with open(\"_input/exact_match_kardip/\" + big + \"-\" + small + \".json\", \"r\") as f:\n",
    "# with open(\"_input/exact_match_kardip/\" + small + \"-\" + big + \".json\", \"r\") as f:\n",
    "    data = json.load(f)\n",
    "\n",
    "for item in data:\n",
    "\n",
    "    item[0] = big_mapping.get(item[0])\n",
    "    item[1] = small_mapping.get(item[1])\n",
    "\n",
    "    # item_0 = item[0]\n",
    "    # item_1 = item[1]\n",
    "    # item[1] = big_mapping.get(item_0)\n",
    "    # item[0] = small_mapping.get(item_1)\n",
    "\n",
    "with open(\"_input/exact_match_kardip/\" + big + \"-\" + small + \"-formatted.json\", \"w\") as f:\n",
    "# with open(\"_input/exact_match_kardip/\" + small + \"-\" + big + \"-formatted.json\", \"w\") as f:\n",
    "    json.dump(data, f, indent=4)\n",
    "\n",
    "print(\"ID replacement completed and saved to '\" + big + \"-\" + small + \"-formatted.json'\")"
   ],
   "outputs": [
    {
     "name": "stdout",
     "output_type": "stream",
     "text": [
      "ID replacement completed and saved to 'mcu-marvel-formatted.json'\n"
     ]
    }
   ],
   "execution_count": 17
  },
  {
   "metadata": {},
   "cell_type": "code",
   "source": "",
   "id": "d0dac1c812a11d6c",
   "outputs": [],
   "execution_count": null
  }
 ],
 "metadata": {
  "kernelspec": {
   "display_name": "Python 3",
   "language": "python",
   "name": "python3"
  },
  "language_info": {
   "codemirror_mode": {
    "name": "ipython",
    "version": 2
   },
   "file_extension": ".py",
   "mimetype": "text/x-python",
   "name": "python",
   "nbconvert_exporter": "python",
   "pygments_lexer": "ipython2",
   "version": "2.7.6"
  }
 },
 "nbformat": 4,
 "nbformat_minor": 5
}
