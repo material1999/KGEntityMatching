{
 "cells": [
  {
   "cell_type": "code",
   "id": "initial_id",
   "metadata": {
    "collapsed": true,
    "ExecuteTime": {
     "end_time": "2025-04-12T14:57:56.113970Z",
     "start_time": "2025-04-12T14:57:55.294505Z"
    }
   },
   "source": [
    "import json\n",
    "\n",
    "big = \"starwars\"\n",
    "small = \"swg\"\n",
    "\n",
    "with open(\"data/triples_v2/\" + big + \"_mapping.json\", \"r\") as f:\n",
    "    big_mapping = json.load(f)\n",
    "\n",
    "with open(\"data/triples_v2/\" + small + \"_mapping.json\", \"r\") as f:\n",
    "    small_mapping = json.load(f)\n",
    "\n",
    "with open(\"data/exact_match/\" + big + \"-\" + small + \".json\", \"r\") as f:\n",
    "    data = json.load(f)\n",
    "\n",
    "for item in data:\n",
    "\n",
    "    item[0] = big_mapping.get(item[0])\n",
    "    item[1] = small_mapping.get(item[1])\n",
    "\n",
    "with open(\"data/exact_match_test/\" + big + \"-\" + small + \"-formatted.json\", \"w\") as f:\n",
    "    json.dump(data, f, indent=4)\n",
    "\n",
    "print(\"ID replacement completed and saved to '\" + big + \"-\" + small + \"-formatted.json'\")"
   ],
   "outputs": [
    {
     "name": "stdout",
     "output_type": "stream",
     "text": [
      "ID replacement completed and saved to 'starwars-swg-formatted.json'\n"
     ]
    }
   ],
   "execution_count": 12
  },
  {
   "metadata": {},
   "cell_type": "code",
   "source": "",
   "id": "d0dac1c812a11d6c",
   "outputs": [],
   "execution_count": null
  }
 ],
 "metadata": {
  "kernelspec": {
   "display_name": "Python 3",
   "language": "python",
   "name": "python3"
  },
  "language_info": {
   "codemirror_mode": {
    "name": "ipython",
    "version": 2
   },
   "file_extension": ".py",
   "mimetype": "text/x-python",
   "name": "python",
   "nbconvert_exporter": "python",
   "pygments_lexer": "ipython2",
   "version": "2.7.6"
  }
 },
 "nbformat": 4,
 "nbformat_minor": 5
}
