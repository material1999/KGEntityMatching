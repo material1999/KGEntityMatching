{
 "cells": [
  {
   "metadata": {
    "ExecuteTime": {
     "end_time": "2024-12-20T12:24:58.760882Z",
     "start_time": "2024-12-20T12:24:58.340500Z"
    }
   },
   "cell_type": "code",
   "source": [
    "import networkx as nx\n",
    "import pandas as pd\n",
    "import json\n",
    "\n",
    "from exceptiongroup import catch\n",
    "from networkx.exception import NetworkXError"
   ],
   "id": "e47ae158ca6f7980",
   "outputs": [],
   "execution_count": 1
  },
  {
   "cell_type": "code",
   "id": "initial_id",
   "metadata": {
    "collapsed": true,
    "ExecuteTime": {
     "end_time": "2024-12-20T12:24:59.697972Z",
     "start_time": "2024-12-20T12:24:59.692576Z"
    }
   },
   "source": [
    "# graphs = [\"stexpanded\", \"memoryalpha\", \"swtor\", \"swg\", \"memorybeta\", \"marvel\", \"mcu\", \"starwars\"]\n",
    "graphs = [\"stexpanded\"]\n",
    "community_algorithm = \"bigclam\""
   ],
   "outputs": [],
   "execution_count": 2
  },
  {
   "metadata": {},
   "cell_type": "markdown",
   "source": "### Egy nagy és pár kicsi komponens.",
   "id": "fbc908a8cac1b49b"
  },
  {
   "metadata": {},
   "cell_type": "code",
   "source": [
    "for graph in graphs:\n",
    "\n",
    "    print(graph)\n",
    "\n",
    "    graph_file = \"data/filtered_triples_weighted/\" + graph + \".triples\"\n",
    "\n",
    "    graph_df = pd.read_csv(graph_file, sep=\"###\", engine=\"python\", header=None)\n",
    "    G = nx.Graph()\n",
    "    for row in graph_df.itertuples():\n",
    "        G.add_edge(int(row[1]), int(row[2]))\n",
    "        # G.add_edge(int(row[1]), int(row[2]), weight=int(row[3]))\n",
    "\n",
    "    components = nx.connected_components(G)\n",
    "    for comp in components:\n",
    "        print(comp)\n",
    "        print(len(list(comp)))\n",
    "\n",
    "    print(len(G.nodes))\n",
    "    G.remove_nodes_from([58281, 6266, 72485, 24685])\n",
    "    print(len(G.nodes))\n",
    "\n",
    "    print(nx.diameter(G))"
   ],
   "id": "e44cafb2e76353ed",
   "outputs": [],
   "execution_count": null
  },
  {
   "metadata": {},
   "cell_type": "markdown",
   "source": "### Louvain közösségkereső: nagy gráfra nagyon kevés közösséget ad",
   "id": "191dda3b121ad6a4"
  },
  {
   "metadata": {},
   "cell_type": "code",
   "source": [
    "graph = \"memoryalpha\"\n",
    "\n",
    "graph_file = \"data/filtered_triples_weighted/\" + graph + \".triples\"\n",
    "communities_file = \"./results/communities_\" + community_algorithm + \"/\" + graph + \"_10000.txt\"\n",
    "\n",
    "graph_df = pd.read_csv(graph_file, sep=\"###\", engine=\"python\", header=None)\n",
    "G = nx.Graph()\n",
    "for row in graph_df.itertuples():\n",
    "    G.add_edge(int(row[1]), int(row[2]))\n",
    "    # G.add_edge(int(row[1]), int(row[2]), weight=int(row[3]))\n",
    "\n",
    "communities = nx.community.louvain_communities(G)\n",
    "print(communities)"
   ],
   "id": "5bf4e3531f77a928",
   "outputs": [],
   "execution_count": null
  },
  {
   "metadata": {},
   "cell_type": "markdown",
   "source": "### Közösségkeresés, bennük fokszámeloszlás",
   "id": "8893da9b0a586b28"
  },
  {
   "metadata": {
    "ExecuteTime": {
     "end_time": "2024-12-20T12:25:26.475155Z",
     "start_time": "2024-12-20T12:25:02.948209Z"
    }
   },
   "cell_type": "code",
   "source": [
    "for graph in graphs:\n",
    "\n",
    "    print(graph)\n",
    "    print(\"##################################################\")\n",
    "\n",
    "    pair = \"memoryalpha\"\n",
    "\n",
    "    graph_file = \"data/filtered_triples_weighted/\" + graph + \".triples\"\n",
    "    communities_file = \"./results/communities_\" + community_algorithm + \"/\" + graph + \"_10000.txt\"\n",
    "    mappings_file = \"./data/triples_v2/\" + graph + \"_mapping.json\"\n",
    "    exact_match_file = \"./data/exact_match/\" + pair + \"-\" + graph + \"-formatted.json\"\n",
    "\n",
    "    graph_df = pd.read_csv(graph_file, sep=\"###\", engine=\"python\", header=None)\n",
    "    G = nx.Graph()\n",
    "    for row in graph_df.itertuples():\n",
    "        G.add_edge(int(row[1]), int(row[2]))\n",
    "        # G.add_edge(int(row[1]), int(row[2]), weight=int(row[3]))\n",
    "\n",
    "    communities = []\n",
    "    with open(communities_file) as cf:\n",
    "        for line in cf:\n",
    "            numbers_set = {int(num) for num in line.strip().split(\"\\t\")}\n",
    "            communities.append(numbers_set)\n",
    "\n",
    "    with open(mappings_file) as mf:\n",
    "        mappings = json.load(mf)\n",
    "\n",
    "    mappings_dict = {value: key for key, value in mappings.items()}\n",
    "\n",
    "    with open(exact_match_file) as file:\n",
    "        exact_match = json.load(file)\n",
    "\n",
    "    for community in communities:\n",
    "        print(\"community size:\", len(community))\n",
    "        G_sub = G.subgraph(community)\n",
    "        degrees = G_sub.degree()\n",
    "        degree_sequence = sorted((d for n, d in degrees), reverse=True)\n",
    "        node_with_highest_degree = max(degrees, key=lambda x: x[1])\n",
    "        print(\"highest degree:\", node_with_highest_degree[1])\n",
    "        print(mappings_dict[node_with_highest_degree[0]])\n",
    "        # print(mappings_dict[node_with_highest_degree[0]], \"---\", node_with_highest_degree[1])\n",
    "        # print(degree_sequence)\n",
    "        # print(node_with_highest_degree)\n",
    "        try:\n",
    "            diameter = nx.diameter(G_sub)\n",
    "            print(\"diameter:\", nx.diameter(G_sub))\n",
    "        except nx.NetworkXError:\n",
    "            pass\n",
    "        count_exact_match = 0\n",
    "        for node in community:\n",
    "            for em in exact_match:\n",
    "                if em[1] == node:\n",
    "                    count_exact_match += 1\n",
    "                    # print(\"match found:\", node, \"---\", em[0])\n",
    "        print(\"exact match count:\", count_exact_match)\n",
    "        print(\"##################################################\")"
   ],
   "id": "f54ab2ed0bc04690",
   "outputs": [
    {
     "name": "stdout",
     "output_type": "stream",
     "text": [
      "stexpanded\n",
      "##################################################\n",
      "community size: 1655\n",
      "highest degree: 1655\n",
      "http://dbkwik.webdatacommons.org/stexpanded.wikia.com/resource/Starfleet\n",
      "diameter: 3\n",
      "exact match count: 616\n",
      "##################################################\n",
      "community size: 785\n",
      "highest degree: 782\n",
      "http://dbkwik.webdatacommons.org/stexpanded.wikia.com/resource/Category:Humans\n",
      "diameter: 3\n",
      "exact match count: 103\n",
      "##################################################\n",
      "community size: 573\n",
      "highest degree: 530\n",
      "http://dbkwik.webdatacommons.org/stexpanded.wikia.com/resource/RIS_Bouteina_(fan_fiction_series)\n",
      "diameter: 5\n",
      "exact match count: 258\n",
      "##################################################\n",
      "community size: 473\n",
      "highest degree: 425\n",
      "http://dbkwik.webdatacommons.org/stexpanded.wikia.com/resource/Star_Trek:_Pendragon\n"
     ]
    },
    {
     "ename": "KeyboardInterrupt",
     "evalue": "",
     "output_type": "error",
     "traceback": [
      "\u001B[0;31m---------------------------------------------------------------------------\u001B[0m",
      "\u001B[0;31mKeyboardInterrupt\u001B[0m                         Traceback (most recent call last)",
      "Cell \u001B[0;32mIn[3], line 46\u001B[0m\n\u001B[1;32m     44\u001B[0m \u001B[38;5;28;01mtry\u001B[39;00m:\n\u001B[1;32m     45\u001B[0m     diameter \u001B[38;5;241m=\u001B[39m nx\u001B[38;5;241m.\u001B[39mdiameter(G_sub)\n\u001B[0;32m---> 46\u001B[0m     \u001B[38;5;28mprint\u001B[39m(\u001B[38;5;124m\"\u001B[39m\u001B[38;5;124mdiameter:\u001B[39m\u001B[38;5;124m\"\u001B[39m, \u001B[43mnx\u001B[49m\u001B[38;5;241;43m.\u001B[39;49m\u001B[43mdiameter\u001B[49m\u001B[43m(\u001B[49m\u001B[43mG_sub\u001B[49m\u001B[43m)\u001B[49m)\n\u001B[1;32m     47\u001B[0m \u001B[38;5;28;01mexcept\u001B[39;00m nx\u001B[38;5;241m.\u001B[39mNetworkXError:\n\u001B[1;32m     48\u001B[0m     \u001B[38;5;28;01mpass\u001B[39;00m\n",
      "File \u001B[0;32m<class 'networkx.utils.decorators.argmap'> compilation 4:3\u001B[0m, in \u001B[0;36margmap_diameter_1\u001B[0;34m(G, e, usebounds, weight, backend, **backend_kwargs)\u001B[0m\n\u001B[1;32m      1\u001B[0m \u001B[38;5;28;01mimport\u001B[39;00m \u001B[38;5;21;01mbz2\u001B[39;00m\n\u001B[1;32m      2\u001B[0m \u001B[38;5;28;01mimport\u001B[39;00m \u001B[38;5;21;01mcollections\u001B[39;00m\n\u001B[0;32m----> 3\u001B[0m \u001B[38;5;28;01mimport\u001B[39;00m \u001B[38;5;21;01mgzip\u001B[39;00m\n\u001B[1;32m      4\u001B[0m \u001B[38;5;28;01mimport\u001B[39;00m \u001B[38;5;21;01minspect\u001B[39;00m\n\u001B[1;32m      5\u001B[0m \u001B[38;5;28;01mimport\u001B[39;00m \u001B[38;5;21;01mitertools\u001B[39;00m\n",
      "File \u001B[0;32m~/Documents/Projects/KGEntityMatching/venv/lib/python3.10/site-packages/networkx/utils/backends.py:633\u001B[0m, in \u001B[0;36m_dispatchable.__call__\u001B[0;34m(self, backend, *args, **kwargs)\u001B[0m\n\u001B[1;32m    628\u001B[0m \u001B[38;5;250m\u001B[39m\u001B[38;5;124;03m\"\"\"Returns the result of the original function, or the backend function if\u001B[39;00m\n\u001B[1;32m    629\u001B[0m \u001B[38;5;124;03mthe backend is specified and that backend implements `func`.\"\"\"\u001B[39;00m\n\u001B[1;32m    631\u001B[0m \u001B[38;5;28;01mif\u001B[39;00m \u001B[38;5;129;01mnot\u001B[39;00m backends:\n\u001B[1;32m    632\u001B[0m     \u001B[38;5;66;03m# Fast path if no backends are installed\u001B[39;00m\n\u001B[0;32m--> 633\u001B[0m     \u001B[38;5;28;01mreturn\u001B[39;00m \u001B[38;5;28;43mself\u001B[39;49m\u001B[38;5;241;43m.\u001B[39;49m\u001B[43morig_func\u001B[49m\u001B[43m(\u001B[49m\u001B[38;5;241;43m*\u001B[39;49m\u001B[43margs\u001B[49m\u001B[43m,\u001B[49m\u001B[43m \u001B[49m\u001B[38;5;241;43m*\u001B[39;49m\u001B[38;5;241;43m*\u001B[39;49m\u001B[43mkwargs\u001B[49m\u001B[43m)\u001B[49m\n\u001B[1;32m    635\u001B[0m \u001B[38;5;66;03m# Use `backend_name` in this function instead of `backend`\u001B[39;00m\n\u001B[1;32m    636\u001B[0m backend_name \u001B[38;5;241m=\u001B[39m backend\n",
      "File \u001B[0;32m~/Documents/Projects/KGEntityMatching/venv/lib/python3.10/site-packages/networkx/algorithms/distance_measures.py:381\u001B[0m, in \u001B[0;36mdiameter\u001B[0;34m(G, e, usebounds, weight)\u001B[0m\n\u001B[1;32m    379\u001B[0m     \u001B[38;5;28;01mreturn\u001B[39;00m _extrema_bounding(G, compute\u001B[38;5;241m=\u001B[39m\u001B[38;5;124m\"\u001B[39m\u001B[38;5;124mdiameter\u001B[39m\u001B[38;5;124m\"\u001B[39m, weight\u001B[38;5;241m=\u001B[39mweight)\n\u001B[1;32m    380\u001B[0m \u001B[38;5;28;01mif\u001B[39;00m e \u001B[38;5;129;01mis\u001B[39;00m \u001B[38;5;28;01mNone\u001B[39;00m:\n\u001B[0;32m--> 381\u001B[0m     e \u001B[38;5;241m=\u001B[39m \u001B[43meccentricity\u001B[49m\u001B[43m(\u001B[49m\u001B[43mG\u001B[49m\u001B[43m,\u001B[49m\u001B[43m \u001B[49m\u001B[43mweight\u001B[49m\u001B[38;5;241;43m=\u001B[39;49m\u001B[43mweight\u001B[49m\u001B[43m)\u001B[49m\n\u001B[1;32m    382\u001B[0m \u001B[38;5;28;01mreturn\u001B[39;00m \u001B[38;5;28mmax\u001B[39m(e\u001B[38;5;241m.\u001B[39mvalues())\n",
      "File \u001B[0;32m<class 'networkx.utils.decorators.argmap'> compilation 8:3\u001B[0m, in \u001B[0;36margmap_eccentricity_5\u001B[0;34m(G, v, sp, weight, backend, **backend_kwargs)\u001B[0m\n\u001B[1;32m      1\u001B[0m \u001B[38;5;28;01mimport\u001B[39;00m \u001B[38;5;21;01mbz2\u001B[39;00m\n\u001B[1;32m      2\u001B[0m \u001B[38;5;28;01mimport\u001B[39;00m \u001B[38;5;21;01mcollections\u001B[39;00m\n\u001B[0;32m----> 3\u001B[0m \u001B[38;5;28;01mimport\u001B[39;00m \u001B[38;5;21;01mgzip\u001B[39;00m\n\u001B[1;32m      4\u001B[0m \u001B[38;5;28;01mimport\u001B[39;00m \u001B[38;5;21;01minspect\u001B[39;00m\n\u001B[1;32m      5\u001B[0m \u001B[38;5;28;01mimport\u001B[39;00m \u001B[38;5;21;01mitertools\u001B[39;00m\n",
      "File \u001B[0;32m~/Documents/Projects/KGEntityMatching/venv/lib/python3.10/site-packages/networkx/utils/backends.py:633\u001B[0m, in \u001B[0;36m_dispatchable.__call__\u001B[0;34m(self, backend, *args, **kwargs)\u001B[0m\n\u001B[1;32m    628\u001B[0m \u001B[38;5;250m\u001B[39m\u001B[38;5;124;03m\"\"\"Returns the result of the original function, or the backend function if\u001B[39;00m\n\u001B[1;32m    629\u001B[0m \u001B[38;5;124;03mthe backend is specified and that backend implements `func`.\"\"\"\u001B[39;00m\n\u001B[1;32m    631\u001B[0m \u001B[38;5;28;01mif\u001B[39;00m \u001B[38;5;129;01mnot\u001B[39;00m backends:\n\u001B[1;32m    632\u001B[0m     \u001B[38;5;66;03m# Fast path if no backends are installed\u001B[39;00m\n\u001B[0;32m--> 633\u001B[0m     \u001B[38;5;28;01mreturn\u001B[39;00m \u001B[38;5;28;43mself\u001B[39;49m\u001B[38;5;241;43m.\u001B[39;49m\u001B[43morig_func\u001B[49m\u001B[43m(\u001B[49m\u001B[38;5;241;43m*\u001B[39;49m\u001B[43margs\u001B[49m\u001B[43m,\u001B[49m\u001B[43m \u001B[49m\u001B[38;5;241;43m*\u001B[39;49m\u001B[38;5;241;43m*\u001B[39;49m\u001B[43mkwargs\u001B[49m\u001B[43m)\u001B[49m\n\u001B[1;32m    635\u001B[0m \u001B[38;5;66;03m# Use `backend_name` in this function instead of `backend`\u001B[39;00m\n\u001B[1;32m    636\u001B[0m backend_name \u001B[38;5;241m=\u001B[39m backend\n",
      "File \u001B[0;32m~/Documents/Projects/KGEntityMatching/venv/lib/python3.10/site-packages/networkx/algorithms/distance_measures.py:303\u001B[0m, in \u001B[0;36meccentricity\u001B[0;34m(G, v, sp, weight)\u001B[0m\n\u001B[1;32m    301\u001B[0m \u001B[38;5;28;01mfor\u001B[39;00m n \u001B[38;5;129;01min\u001B[39;00m G\u001B[38;5;241m.\u001B[39mnbunch_iter(v):\n\u001B[1;32m    302\u001B[0m     \u001B[38;5;28;01mif\u001B[39;00m sp \u001B[38;5;129;01mis\u001B[39;00m \u001B[38;5;28;01mNone\u001B[39;00m:\n\u001B[0;32m--> 303\u001B[0m         length \u001B[38;5;241m=\u001B[39m \u001B[43mnx\u001B[49m\u001B[38;5;241;43m.\u001B[39;49m\u001B[43mshortest_path_length\u001B[49m\u001B[43m(\u001B[49m\u001B[43mG\u001B[49m\u001B[43m,\u001B[49m\u001B[43m \u001B[49m\u001B[43msource\u001B[49m\u001B[38;5;241;43m=\u001B[39;49m\u001B[43mn\u001B[49m\u001B[43m,\u001B[49m\u001B[43m \u001B[49m\u001B[43mweight\u001B[49m\u001B[38;5;241;43m=\u001B[39;49m\u001B[43mweight\u001B[49m\u001B[43m)\u001B[49m\n\u001B[1;32m    305\u001B[0m         L \u001B[38;5;241m=\u001B[39m \u001B[38;5;28mlen\u001B[39m(length)\n\u001B[1;32m    306\u001B[0m     \u001B[38;5;28;01melse\u001B[39;00m:\n",
      "File \u001B[0;32m<class 'networkx.utils.decorators.argmap'> compilation 12:3\u001B[0m, in \u001B[0;36margmap_shortest_path_length_9\u001B[0;34m(G, source, target, weight, method, backend, **backend_kwargs)\u001B[0m\n\u001B[1;32m      1\u001B[0m \u001B[38;5;28;01mimport\u001B[39;00m \u001B[38;5;21;01mbz2\u001B[39;00m\n\u001B[1;32m      2\u001B[0m \u001B[38;5;28;01mimport\u001B[39;00m \u001B[38;5;21;01mcollections\u001B[39;00m\n\u001B[0;32m----> 3\u001B[0m \u001B[38;5;28;01mimport\u001B[39;00m \u001B[38;5;21;01mgzip\u001B[39;00m\n\u001B[1;32m      4\u001B[0m \u001B[38;5;28;01mimport\u001B[39;00m \u001B[38;5;21;01minspect\u001B[39;00m\n\u001B[1;32m      5\u001B[0m \u001B[38;5;28;01mimport\u001B[39;00m \u001B[38;5;21;01mitertools\u001B[39;00m\n",
      "File \u001B[0;32m~/Documents/Projects/KGEntityMatching/venv/lib/python3.10/site-packages/networkx/utils/backends.py:633\u001B[0m, in \u001B[0;36m_dispatchable.__call__\u001B[0;34m(self, backend, *args, **kwargs)\u001B[0m\n\u001B[1;32m    628\u001B[0m \u001B[38;5;250m\u001B[39m\u001B[38;5;124;03m\"\"\"Returns the result of the original function, or the backend function if\u001B[39;00m\n\u001B[1;32m    629\u001B[0m \u001B[38;5;124;03mthe backend is specified and that backend implements `func`.\"\"\"\u001B[39;00m\n\u001B[1;32m    631\u001B[0m \u001B[38;5;28;01mif\u001B[39;00m \u001B[38;5;129;01mnot\u001B[39;00m backends:\n\u001B[1;32m    632\u001B[0m     \u001B[38;5;66;03m# Fast path if no backends are installed\u001B[39;00m\n\u001B[0;32m--> 633\u001B[0m     \u001B[38;5;28;01mreturn\u001B[39;00m \u001B[38;5;28;43mself\u001B[39;49m\u001B[38;5;241;43m.\u001B[39;49m\u001B[43morig_func\u001B[49m\u001B[43m(\u001B[49m\u001B[38;5;241;43m*\u001B[39;49m\u001B[43margs\u001B[49m\u001B[43m,\u001B[49m\u001B[43m \u001B[49m\u001B[38;5;241;43m*\u001B[39;49m\u001B[38;5;241;43m*\u001B[39;49m\u001B[43mkwargs\u001B[49m\u001B[43m)\u001B[49m\n\u001B[1;32m    635\u001B[0m \u001B[38;5;66;03m# Use `backend_name` in this function instead of `backend`\u001B[39;00m\n\u001B[1;32m    636\u001B[0m backend_name \u001B[38;5;241m=\u001B[39m backend\n",
      "File \u001B[0;32m~/Documents/Projects/KGEntityMatching/venv/lib/python3.10/site-packages/networkx/algorithms/shortest_paths/generic.py:315\u001B[0m, in \u001B[0;36mshortest_path_length\u001B[0;34m(G, source, target, weight, method)\u001B[0m\n\u001B[1;32m    312\u001B[0m \u001B[38;5;28;01mif\u001B[39;00m target \u001B[38;5;129;01mis\u001B[39;00m \u001B[38;5;28;01mNone\u001B[39;00m:\n\u001B[1;32m    313\u001B[0m     \u001B[38;5;66;03m# Find paths to all nodes accessible from the source.\u001B[39;00m\n\u001B[1;32m    314\u001B[0m     \u001B[38;5;28;01mif\u001B[39;00m method \u001B[38;5;241m==\u001B[39m \u001B[38;5;124m\"\u001B[39m\u001B[38;5;124munweighted\u001B[39m\u001B[38;5;124m\"\u001B[39m:\n\u001B[0;32m--> 315\u001B[0m         paths \u001B[38;5;241m=\u001B[39m \u001B[43mnx\u001B[49m\u001B[38;5;241;43m.\u001B[39;49m\u001B[43msingle_source_shortest_path_length\u001B[49m\u001B[43m(\u001B[49m\u001B[43mG\u001B[49m\u001B[43m,\u001B[49m\u001B[43m \u001B[49m\u001B[43msource\u001B[49m\u001B[43m)\u001B[49m\n\u001B[1;32m    316\u001B[0m     \u001B[38;5;28;01melif\u001B[39;00m method \u001B[38;5;241m==\u001B[39m \u001B[38;5;124m\"\u001B[39m\u001B[38;5;124mdijkstra\u001B[39m\u001B[38;5;124m\"\u001B[39m:\n\u001B[1;32m    317\u001B[0m         path_length \u001B[38;5;241m=\u001B[39m nx\u001B[38;5;241m.\u001B[39msingle_source_dijkstra_path_length\n",
      "File \u001B[0;32m<class 'networkx.utils.decorators.argmap'> compilation 16:3\u001B[0m, in \u001B[0;36margmap_single_source_shortest_path_length_13\u001B[0;34m(G, source, cutoff, backend, **backend_kwargs)\u001B[0m\n\u001B[1;32m      1\u001B[0m \u001B[38;5;28;01mimport\u001B[39;00m \u001B[38;5;21;01mbz2\u001B[39;00m\n\u001B[1;32m      2\u001B[0m \u001B[38;5;28;01mimport\u001B[39;00m \u001B[38;5;21;01mcollections\u001B[39;00m\n\u001B[0;32m----> 3\u001B[0m \u001B[38;5;28;01mimport\u001B[39;00m \u001B[38;5;21;01mgzip\u001B[39;00m\n\u001B[1;32m      4\u001B[0m \u001B[38;5;28;01mimport\u001B[39;00m \u001B[38;5;21;01minspect\u001B[39;00m\n\u001B[1;32m      5\u001B[0m \u001B[38;5;28;01mimport\u001B[39;00m \u001B[38;5;21;01mitertools\u001B[39;00m\n",
      "File \u001B[0;32m~/Documents/Projects/KGEntityMatching/venv/lib/python3.10/site-packages/networkx/utils/backends.py:633\u001B[0m, in \u001B[0;36m_dispatchable.__call__\u001B[0;34m(self, backend, *args, **kwargs)\u001B[0m\n\u001B[1;32m    628\u001B[0m \u001B[38;5;250m\u001B[39m\u001B[38;5;124;03m\"\"\"Returns the result of the original function, or the backend function if\u001B[39;00m\n\u001B[1;32m    629\u001B[0m \u001B[38;5;124;03mthe backend is specified and that backend implements `func`.\"\"\"\u001B[39;00m\n\u001B[1;32m    631\u001B[0m \u001B[38;5;28;01mif\u001B[39;00m \u001B[38;5;129;01mnot\u001B[39;00m backends:\n\u001B[1;32m    632\u001B[0m     \u001B[38;5;66;03m# Fast path if no backends are installed\u001B[39;00m\n\u001B[0;32m--> 633\u001B[0m     \u001B[38;5;28;01mreturn\u001B[39;00m \u001B[38;5;28;43mself\u001B[39;49m\u001B[38;5;241;43m.\u001B[39;49m\u001B[43morig_func\u001B[49m\u001B[43m(\u001B[49m\u001B[38;5;241;43m*\u001B[39;49m\u001B[43margs\u001B[49m\u001B[43m,\u001B[49m\u001B[43m \u001B[49m\u001B[38;5;241;43m*\u001B[39;49m\u001B[38;5;241;43m*\u001B[39;49m\u001B[43mkwargs\u001B[49m\u001B[43m)\u001B[49m\n\u001B[1;32m    635\u001B[0m \u001B[38;5;66;03m# Use `backend_name` in this function instead of `backend`\u001B[39;00m\n\u001B[1;32m    636\u001B[0m backend_name \u001B[38;5;241m=\u001B[39m backend\n",
      "File \u001B[0;32m~/Documents/Projects/KGEntityMatching/venv/lib/python3.10/site-packages/networkx/algorithms/shortest_paths/unweighted.py:62\u001B[0m, in \u001B[0;36msingle_source_shortest_path_length\u001B[0;34m(G, source, cutoff)\u001B[0m\n\u001B[1;32m     60\u001B[0m     cutoff \u001B[38;5;241m=\u001B[39m \u001B[38;5;28mfloat\u001B[39m(\u001B[38;5;124m\"\u001B[39m\u001B[38;5;124minf\u001B[39m\u001B[38;5;124m\"\u001B[39m)\n\u001B[1;32m     61\u001B[0m nextlevel \u001B[38;5;241m=\u001B[39m [source]\n\u001B[0;32m---> 62\u001B[0m \u001B[38;5;28;01mreturn\u001B[39;00m \u001B[38;5;28;43mdict\u001B[39;49m\u001B[43m(\u001B[49m\u001B[43m_single_shortest_path_length\u001B[49m\u001B[43m(\u001B[49m\u001B[43mG\u001B[49m\u001B[38;5;241;43m.\u001B[39;49m\u001B[43m_adj\u001B[49m\u001B[43m,\u001B[49m\u001B[43m \u001B[49m\u001B[43mnextlevel\u001B[49m\u001B[43m,\u001B[49m\u001B[43m \u001B[49m\u001B[43mcutoff\u001B[49m\u001B[43m)\u001B[49m\u001B[43m)\u001B[49m\n",
      "File \u001B[0;32m~/Documents/Projects/KGEntityMatching/venv/lib/python3.10/site-packages/networkx/algorithms/shortest_paths/unweighted.py:89\u001B[0m, in \u001B[0;36m_single_shortest_path_length\u001B[0;34m(adj, firstlevel, cutoff)\u001B[0m\n\u001B[1;32m     87\u001B[0m nextlevel \u001B[38;5;241m=\u001B[39m []\n\u001B[1;32m     88\u001B[0m \u001B[38;5;28;01mfor\u001B[39;00m v \u001B[38;5;129;01min\u001B[39;00m thislevel:\n\u001B[0;32m---> 89\u001B[0m     \u001B[38;5;28;01mfor\u001B[39;00m w \u001B[38;5;129;01min\u001B[39;00m adj[v]:\n\u001B[1;32m     90\u001B[0m         \u001B[38;5;28;01mif\u001B[39;00m w \u001B[38;5;129;01mnot\u001B[39;00m \u001B[38;5;129;01min\u001B[39;00m seen:\n\u001B[1;32m     91\u001B[0m             seen\u001B[38;5;241m.\u001B[39madd(w)\n",
      "File \u001B[0;32m~/Documents/Projects/KGEntityMatching/venv/lib/python3.10/site-packages/networkx/classes/coreviews.py:293\u001B[0m, in \u001B[0;36m<genexpr>\u001B[0;34m(.0)\u001B[0m\n\u001B[1;32m    291\u001B[0m \u001B[38;5;28;01mif\u001B[39;00m node_ok_shorter:\n\u001B[1;32m    292\u001B[0m     \u001B[38;5;28;01mreturn\u001B[39;00m (n \u001B[38;5;28;01mfor\u001B[39;00m n \u001B[38;5;129;01min\u001B[39;00m \u001B[38;5;28mself\u001B[39m\u001B[38;5;241m.\u001B[39mNODE_OK\u001B[38;5;241m.\u001B[39mnodes \u001B[38;5;28;01mif\u001B[39;00m n \u001B[38;5;129;01min\u001B[39;00m \u001B[38;5;28mself\u001B[39m\u001B[38;5;241m.\u001B[39m_atlas)\n\u001B[0;32m--> 293\u001B[0m \u001B[38;5;28;01mreturn\u001B[39;00m (n \u001B[38;5;28;01mfor\u001B[39;00m n \u001B[38;5;129;01min\u001B[39;00m \u001B[38;5;28mself\u001B[39m\u001B[38;5;241m.\u001B[39m_atlas \u001B[38;5;28;01mif\u001B[39;00m \u001B[38;5;28;43mself\u001B[39;49m\u001B[38;5;241;43m.\u001B[39;49m\u001B[43mNODE_OK\u001B[49m\u001B[43m(\u001B[49m\u001B[43mn\u001B[49m\u001B[43m)\u001B[49m)\n",
      "File \u001B[0;32m~/Documents/Projects/KGEntityMatching/venv/lib/python3.10/site-packages/networkx/classes/coreviews.py:341\u001B[0m, in \u001B[0;36mFilterAdjacency.__getitem__.<locals>.new_node_ok\u001B[0;34m(nbr)\u001B[0m\n\u001B[1;32m    338\u001B[0m \u001B[38;5;28;01mdef\u001B[39;00m \u001B[38;5;21m__getitem__\u001B[39m(\u001B[38;5;28mself\u001B[39m, node):\n\u001B[1;32m    339\u001B[0m     \u001B[38;5;28;01mif\u001B[39;00m node \u001B[38;5;129;01min\u001B[39;00m \u001B[38;5;28mself\u001B[39m\u001B[38;5;241m.\u001B[39m_atlas \u001B[38;5;129;01mand\u001B[39;00m \u001B[38;5;28mself\u001B[39m\u001B[38;5;241m.\u001B[39mNODE_OK(node):\n\u001B[0;32m--> 341\u001B[0m         \u001B[38;5;28;01mdef\u001B[39;00m \u001B[38;5;21mnew_node_ok\u001B[39m(nbr):\n\u001B[1;32m    342\u001B[0m             \u001B[38;5;28;01mreturn\u001B[39;00m \u001B[38;5;28mself\u001B[39m\u001B[38;5;241m.\u001B[39mNODE_OK(nbr) \u001B[38;5;129;01mand\u001B[39;00m \u001B[38;5;28mself\u001B[39m\u001B[38;5;241m.\u001B[39mEDGE_OK(node, nbr)\n\u001B[1;32m    344\u001B[0m         \u001B[38;5;28;01mreturn\u001B[39;00m FilterAtlas(\u001B[38;5;28mself\u001B[39m\u001B[38;5;241m.\u001B[39m_atlas[node], new_node_ok)\n",
      "\u001B[0;31mKeyboardInterrupt\u001B[0m: "
     ]
    }
   ],
   "execution_count": 3
  },
  {
   "metadata": {},
   "cell_type": "code",
   "source": "",
   "id": "e5e297126b8484f1",
   "outputs": [],
   "execution_count": null
  }
 ],
 "metadata": {
  "kernelspec": {
   "display_name": "Python 3",
   "language": "python",
   "name": "python3"
  },
  "language_info": {
   "codemirror_mode": {
    "name": "ipython",
    "version": 2
   },
   "file_extension": ".py",
   "mimetype": "text/x-python",
   "name": "python",
   "nbconvert_exporter": "python",
   "pygments_lexer": "ipython2",
   "version": "2.7.6"
  }
 },
 "nbformat": 4,
 "nbformat_minor": 5
}
