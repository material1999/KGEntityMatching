{
 "cells": [
  {
   "cell_type": "code",
   "id": "97de3beb850b724d",
   "metadata": {
    "ExecuteTime": {
     "end_time": "2025-04-22T15:55:45.211958Z",
     "start_time": "2025-04-22T15:55:45.178482Z"
    }
   },
   "source": [
    "import json\n",
    "import torch\n",
    "from sentence_transformers import util"
   ],
   "outputs": [],
   "execution_count": 14
  },
  {
   "metadata": {
    "ExecuteTime": {
     "end_time": "2025-04-22T15:55:46.624361Z",
     "start_time": "2025-04-22T15:55:46.617955Z"
    }
   },
   "cell_type": "code",
   "source": [
    "big = \"memoryalpha\"\n",
    "small = \"stexpanded\"\n",
    "embeddings = \"deepseek_bgem3\""
   ],
   "id": "2b7e3499ddeb8ee9",
   "outputs": [],
   "execution_count": 15
  },
  {
   "cell_type": "code",
   "id": "40a0dadece3ae03b",
   "metadata": {
    "ExecuteTime": {
     "end_time": "2025-04-22T15:55:47.772479Z",
     "start_time": "2025-04-22T15:55:47.767715Z"
    }
   },
   "source": [
    "embeddings_file_big = \"./_input/node_embeddings/\" + embeddings + \"/\" + big + \".json\"\n",
    "embeddings_file_small = \"./_input/node_embeddings/\" + embeddings + \"/\" + small + \".json\"\n",
    "\n",
    "top10pairs_file_forward = \"./_input/top10pairs/\" + embeddings + \"/\" + small + \"-\" + big + \".json\"\n",
    "top10pairs_file_backward = \"./_input/top10pairs/\" + embeddings + \"/\" + big + \"-\" + small + \".json\""
   ],
   "outputs": [],
   "execution_count": 16
  },
  {
   "metadata": {
    "ExecuteTime": {
     "end_time": "2025-04-22T15:56:18.005282Z",
     "start_time": "2025-04-22T15:55:48.318586Z"
    }
   },
   "cell_type": "code",
   "source": [
    "with open(embeddings_file_big, \"r\") as f:\n",
    "    embeddings_big = json.load(f)\n",
    "\n",
    "with open(embeddings_file_small, \"r\") as f:\n",
    "    embeddings_small = json.load(f)"
   ],
   "id": "2c6fc4afeb137b84",
   "outputs": [],
   "execution_count": 17
  },
  {
   "metadata": {
    "ExecuteTime": {
     "end_time": "2025-04-22T15:57:03.355577Z",
     "start_time": "2025-04-22T15:56:19.607392Z"
    }
   },
   "cell_type": "code",
   "source": [
    "small_torch_embeds = torch.Tensor(list(embeddings_small.values()))\n",
    "big_torch_embeds = torch.Tensor(list(embeddings_big.values()))\n",
    "\n",
    "pair_top10 = util.semantic_search(small_torch_embeds, big_torch_embeds, top_k=10)\n",
    "reverse_pair_top10 = util.semantic_search(big_torch_embeds, small_torch_embeds, top_k=10)"
   ],
   "id": "68a843fae0e4b185",
   "outputs": [],
   "execution_count": 18
  },
  {
   "cell_type": "code",
   "id": "711c5449647ac05b",
   "metadata": {
    "ExecuteTime": {
     "end_time": "2025-04-22T15:58:01.194139Z",
     "start_time": "2025-04-22T15:57:46.300308Z"
    }
   },
   "source": [
    "forward_dict = dict()\n",
    "backward_dict = dict()\n",
    "\n",
    "big_keys = list(embeddings_big.keys())\n",
    "small_keys = list(embeddings_small.keys())\n",
    "\n",
    "for a, b in zip(small_keys, pair_top10):\n",
    "    row_info = list()\n",
    "    for element in b:\n",
    "        row_info.append([big_keys[element[\"corpus_id\"]], element[\"score\"]])\n",
    "    forward_dict[str(a)] = row_info\n",
    "\n",
    "for a, b in zip(big_keys, reverse_pair_top10):\n",
    "    row_info = list()\n",
    "    for element in b:\n",
    "        row_info.append([small_keys[element[\"corpus_id\"]], element[\"score\"]])\n",
    "    backward_dict[str(a)] = row_info\n",
    "\n",
    "with open(top10pairs_file_forward, \"w\") as f:\n",
    "    json.dump(forward_dict, f)\n",
    "\n",
    "with open(top10pairs_file_backward, \"w\") as f:\n",
    "    json.dump(backward_dict, f)"
   ],
   "outputs": [],
   "execution_count": 20
  },
  {
   "metadata": {},
   "cell_type": "code",
   "source": "",
   "id": "7a5c5c25ea48f31b",
   "outputs": [],
   "execution_count": null
  }
 ],
 "metadata": {
  "kernelspec": {
   "display_name": "Python 3",
   "language": "python",
   "name": "python3"
  },
  "language_info": {
   "codemirror_mode": {
    "name": "ipython",
    "version": 2
   },
   "file_extension": ".py",
   "mimetype": "text/x-python",
   "name": "python",
   "nbconvert_exporter": "python",
   "pygments_lexer": "ipython2",
   "version": "2.7.6"
  }
 },
 "nbformat": 4,
 "nbformat_minor": 5
}
