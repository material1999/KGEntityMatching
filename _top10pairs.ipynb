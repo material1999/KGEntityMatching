{
 "cells": [
  {
   "cell_type": "code",
   "id": "97de3beb850b724d",
   "metadata": {
    "ExecuteTime": {
     "end_time": "2025-05-27T10:33:15.489230Z",
     "start_time": "2025-05-27T10:33:12.269051Z"
    }
   },
   "source": [
    "import json\n",
    "import torch\n",
    "from sentence_transformers import util"
   ],
   "outputs": [],
   "execution_count": 1
  },
  {
   "metadata": {
    "ExecuteTime": {
     "end_time": "2025-05-27T10:33:15.500532Z",
     "start_time": "2025-05-27T10:33:15.497038Z"
    }
   },
   "cell_type": "code",
   "source": [
    "big = \"memoryalpha\"\n",
    "small = \"stexpanded\"\n",
    "embeddings = \"dogtag_bgelarge\""
   ],
   "id": "2b7e3499ddeb8ee9",
   "outputs": [],
   "execution_count": 2
  },
  {
   "cell_type": "code",
   "id": "40a0dadece3ae03b",
   "metadata": {
    "ExecuteTime": {
     "end_time": "2025-05-27T10:33:15.613996Z",
     "start_time": "2025-05-27T10:33:15.612109Z"
    }
   },
   "source": [
    "embeddings_file_big = \"./_input/node_embeddings/\" + embeddings + \"/\" + big + \".json\"\n",
    "embeddings_file_small = \"./_input/node_embeddings/\" + embeddings + \"/\" + small + \".json\"\n",
    "\n",
    "top10pairs_file_forward = \"./_input/top10pairs/\" + embeddings + \"/\" + small + \"-\" + big + \".json\"\n",
    "top10pairs_file_backward = \"./_input/top10pairs/\" + embeddings + \"/\" + big + \"-\" + small + \".json\""
   ],
   "outputs": [],
   "execution_count": 3
  },
  {
   "metadata": {
    "ExecuteTime": {
     "end_time": "2025-05-27T10:33:29.650192Z",
     "start_time": "2025-05-27T10:33:15.639723Z"
    }
   },
   "cell_type": "code",
   "source": [
    "with open(embeddings_file_big, \"r\") as f:\n",
    "    embeddings_big = json.load(f)\n",
    "\n",
    "with open(embeddings_file_small, \"r\") as f:\n",
    "    embeddings_small = json.load(f)"
   ],
   "id": "2c6fc4afeb137b84",
   "outputs": [],
   "execution_count": 4
  },
  {
   "metadata": {
    "ExecuteTime": {
     "end_time": "2025-05-27T10:33:49.628768Z",
     "start_time": "2025-05-27T10:33:29.678931Z"
    }
   },
   "cell_type": "code",
   "source": [
    "small_torch_embeds = torch.Tensor(list(embeddings_small.values()))\n",
    "big_torch_embeds = torch.Tensor(list(embeddings_big.values()))\n",
    "\n",
    "pair_top10 = util.semantic_search(small_torch_embeds, big_torch_embeds, top_k=10)\n",
    "reverse_pair_top10 = util.semantic_search(big_torch_embeds, small_torch_embeds, top_k=10)"
   ],
   "id": "68a843fae0e4b185",
   "outputs": [],
   "execution_count": 5
  },
  {
   "cell_type": "code",
   "id": "711c5449647ac05b",
   "metadata": {
    "ExecuteTime": {
     "end_time": "2025-05-27T10:33:59.682144Z",
     "start_time": "2025-05-27T10:33:49.677565Z"
    }
   },
   "source": [
    "forward_dict = dict()\n",
    "backward_dict = dict()\n",
    "\n",
    "big_keys = list(embeddings_big.keys())\n",
    "small_keys = list(embeddings_small.keys())\n",
    "\n",
    "for a, b in zip(small_keys, pair_top10):\n",
    "    row_info = list()\n",
    "    for element in b:\n",
    "        row_info.append([big_keys[element[\"corpus_id\"]], element[\"score\"]])\n",
    "    forward_dict[str(a)] = row_info\n",
    "\n",
    "for a, b in zip(big_keys, reverse_pair_top10):\n",
    "    row_info = list()\n",
    "    for element in b:\n",
    "        row_info.append([small_keys[element[\"corpus_id\"]], element[\"score\"]])\n",
    "    backward_dict[str(a)] = row_info\n",
    "\n",
    "with open(top10pairs_file_forward, \"w\") as f:\n",
    "    json.dump(forward_dict, f)\n",
    "\n",
    "with open(top10pairs_file_backward, \"w\") as f:\n",
    "    json.dump(backward_dict, f)"
   ],
   "outputs": [],
   "execution_count": 6
  },
  {
   "metadata": {
    "ExecuteTime": {
     "end_time": "2025-05-27T10:33:59.712700Z",
     "start_time": "2025-05-27T10:33:59.711187Z"
    }
   },
   "cell_type": "code",
   "source": "",
   "id": "7a5c5c25ea48f31b",
   "outputs": [],
   "execution_count": null
  }
 ],
 "metadata": {
  "kernelspec": {
   "display_name": "Python 3",
   "language": "python",
   "name": "python3"
  },
  "language_info": {
   "codemirror_mode": {
    "name": "ipython",
    "version": 2
   },
   "file_extension": ".py",
   "mimetype": "text/x-python",
   "name": "python",
   "nbconvert_exporter": "python",
   "pygments_lexer": "ipython2",
   "version": "2.7.6"
  }
 },
 "nbformat": 4,
 "nbformat_minor": 5
}
