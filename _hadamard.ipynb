{
 "cells": [
  {
   "cell_type": "code",
   "id": "initial_id",
   "metadata": {
    "collapsed": true,
    "ExecuteTime": {
     "end_time": "2025-05-27T10:45:55.633744Z",
     "start_time": "2025-05-27T10:45:55.622941Z"
    }
   },
   "source": [
    "import json\n",
    "import numpy as np"
   ],
   "outputs": [],
   "execution_count": 13
  },
  {
   "metadata": {
    "ExecuteTime": {
     "end_time": "2025-05-27T10:45:55.718764Z",
     "start_time": "2025-05-27T10:45:55.712640Z"
    }
   },
   "cell_type": "code",
   "source": [
    "graph = \"stexpanded\"\n",
    "\n",
    "embeddings = \"dogtag_bgelarge\"\n",
    "communities = \"leiden\""
   ],
   "id": "d87649d0a3987683",
   "outputs": [],
   "execution_count": 14
  },
  {
   "metadata": {
    "ExecuteTime": {
     "end_time": "2025-05-27T10:45:55.831509Z",
     "start_time": "2025-05-27T10:45:55.824471Z"
    }
   },
   "cell_type": "code",
   "source": [
    "communities_file = \"./_input/communities/\" + communities + \"/\" + graph + \".txt\"\n",
    "\n",
    "node_embeddings_file = \"./_input/node_embeddings/\" + embeddings + \"/\" + graph + \".json\"\n",
    "communitiy_embeddings_file = \"./_input/community_embeddings/\" + communities + \"_\" + embeddings + \"/\" + graph + \".json\"\n",
    "neighborhood_embeddings_file = \"./_input/neighborhood_embeddings/\" + embeddings + \"/\" + graph + \".json\"\n",
    "\n",
    "hadamard_embeddings_file = \"./_input/hadamard_embeddings/\" + communities + \"_\" + embeddings + \"/\" + graph + \".json\""
   ],
   "id": "9b4a6dcbcf0757b2",
   "outputs": [],
   "execution_count": 15
  },
  {
   "metadata": {
    "ExecuteTime": {
     "end_time": "2025-05-27T10:46:40.924510Z",
     "start_time": "2025-05-27T10:45:55.903618Z"
    }
   },
   "cell_type": "code",
   "source": [
    "with open(communities_file) as cf:\n",
    "    comms = []\n",
    "    for line in cf:\n",
    "        numbers_set = {int(num) for num in line.strip().split(\" \")}\n",
    "        comms.append(numbers_set)\n",
    "\n",
    "with open(node_embeddings_file) as nef:\n",
    "    node_embeddings = json.load(nef)\n",
    "\n",
    "with open(neighborhood_embeddings_file) as nef:\n",
    "    neighborhood_embeddings = json.load(nef)\n",
    "    # neighborhood_embeddings = {k: list(v.values()) for k, v in neighborhood_embeddings.items()}\n",
    "\n",
    "with open(communitiy_embeddings_file) as cef:\n",
    "    community_embeddings = json.load(cef)\n",
    "    # community_embeddings = {k: list(v.values()) for k, v in community_embeddings.items()}"
   ],
   "id": "60e1542a46daf650",
   "outputs": [],
   "execution_count": 16
  },
  {
   "metadata": {
    "ExecuteTime": {
     "end_time": "2025-05-27T10:46:43.815583Z",
     "start_time": "2025-05-27T10:46:41.203639Z"
    }
   },
   "cell_type": "code",
   "source": [
    "node_to_community_embeddings = dict()\n",
    "index = 0\n",
    "for community in comms:\n",
    "    for node in community:\n",
    "        node_to_community_embeddings[str(node)] = community_embeddings[str(index)]\n",
    "    index += 1\n",
    "\n",
    "hadamard_embeddings = dict()\n",
    "error_count = 0\n",
    "for n in node_embeddings.keys():\n",
    "    try:\n",
    "        node_e = np.array(node_embeddings[str(n)])\n",
    "        comm_e = np.array(node_to_community_embeddings[str(n)])\n",
    "        neig_e = np.array(neighborhood_embeddings[str(n)])\n",
    "        hadamard_e = node_e * comm_e * neig_e\n",
    "        hadamard_embeddings[str(n)] = list(hadamard_e)\n",
    "    except KeyError:\n",
    "        error_count += 1\n",
    "print(error_count)"
   ],
   "id": "9ea956e45c0923e",
   "outputs": [
    {
     "name": "stdout",
     "output_type": "stream",
     "text": [
      "50\n"
     ]
    }
   ],
   "execution_count": 17
  },
  {
   "metadata": {
    "ExecuteTime": {
     "end_time": "2025-05-27T10:46:56.667327Z",
     "start_time": "2025-05-27T10:46:43.847067Z"
    }
   },
   "cell_type": "code",
   "source": [
    "with open(hadamard_embeddings_file, \"w\") as hef:\n",
    "    json.dump(hadamard_embeddings, hef, indent=4)"
   ],
   "id": "6b9497c1f66be731",
   "outputs": [],
   "execution_count": 18
  },
  {
   "metadata": {
    "ExecuteTime": {
     "end_time": "2025-05-27T10:46:56.710384Z",
     "start_time": "2025-05-27T10:46:56.708908Z"
    }
   },
   "cell_type": "code",
   "source": "",
   "id": "e05b319f01150ea0",
   "outputs": [],
   "execution_count": null
  }
 ],
 "metadata": {
  "kernelspec": {
   "display_name": "Python 3",
   "language": "python",
   "name": "python3"
  },
  "language_info": {
   "codemirror_mode": {
    "name": "ipython",
    "version": 2
   },
   "file_extension": ".py",
   "mimetype": "text/x-python",
   "name": "python",
   "nbconvert_exporter": "python",
   "pygments_lexer": "ipython2",
   "version": "2.7.6"
  }
 },
 "nbformat": 4,
 "nbformat_minor": 5
}
