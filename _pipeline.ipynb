{
 "cells": [
  {
   "cell_type": "code",
   "id": "initial_id",
   "metadata": {
    "collapsed": true,
    "ExecuteTime": {
     "end_time": "2025-04-21T13:42:26.963282Z",
     "start_time": "2025-04-21T13:42:23.437267Z"
    }
   },
   "source": [
    "import json\n",
    "from tqdm import tqdm\n",
    "import torch\n",
    "from sentence_transformers import util"
   ],
   "outputs": [],
   "execution_count": 1
  },
  {
   "metadata": {
    "ExecuteTime": {
     "end_time": "2025-04-21T13:42:27.077100Z",
     "start_time": "2025-04-21T13:42:27.075282Z"
    }
   },
   "cell_type": "code",
   "source": [
    "big = \"memoryalpha\"\n",
    "small = \"stexpanded\"\n",
    "\n",
    "embeddings = \"dogtag_bgem3\"\n",
    "communities = \"leiden\"\n",
    "\n",
    "node_sim_weight = 0.9\n",
    "community_sim_weight = 0.1\n",
    "# neighbor_sim_weight = 0.5"
   ],
   "id": "d87649d0a3987683",
   "outputs": [],
   "execution_count": 2
  },
  {
   "metadata": {
    "ExecuteTime": {
     "end_time": "2025-04-21T13:42:27.112436Z",
     "start_time": "2025-04-21T13:42:27.108198Z"
    }
   },
   "cell_type": "code",
   "source": [
    "mapping_file_big = \"./_input/mappings/\" + big + \".json\"\n",
    "mapping_file_small = \"./_input/mappings/\" + small + \".json\"\n",
    "\n",
    "communities_big_file = \"./_input/communities/\" + communities + \"/\" + big + \".txt\"\n",
    "communitiy_embeddings_big_file = \"./_input/community_embeddings/\" + communities + \"_\" + embeddings + \"/\" + big + \".json\"\n",
    "\n",
    "communities_small_file = \"./_input/communities/\" + communities + \"/\" + big + \".txt\"\n",
    "communitiy_embeddings_small_file = \"./_input/community_embeddings/\" + communities + \"_\" + embeddings + \"/\" + big + \".json\"\n",
    "\n",
    "node_embeddings_small_file = \"./_input/node_embeddings/\" + embeddings + \"/\" + small + \".json\"\n",
    "url_embeddings_small_file = \"./_input/url_embeddings/\" + small + \".json\"\n",
    "\n",
    "exact_match_file = \"./_input/exact_match/\" + big + \"-\" + small + \".json\"\n",
    "gold_pairs_file = \"./_input/gold_pairs/\" + big + \"-\" + small + \".txt\"\n",
    "\n",
    "top10pairs_file = \"./_input/top10pairs/\" + embeddings + \"/\" + small + \"-\" + big + \".json\""
   ],
   "id": "9b4a6dcbcf0757b2",
   "outputs": [],
   "execution_count": 3
  },
  {
   "metadata": {
    "ExecuteTime": {
     "end_time": "2025-04-21T13:42:29.163668Z",
     "start_time": "2025-04-21T13:42:27.240873Z"
    }
   },
   "cell_type": "code",
   "source": [
    "big_communities = []\n",
    "small_communities = []\n",
    "gold_pairs = []\n",
    "\n",
    "with open(communities_big_file) as cbf:\n",
    "    for line in cbf:\n",
    "        numbers_set = {int(num) for num in line.strip().split(\" \")}\n",
    "        big_communities.append(numbers_set)\n",
    "\n",
    "with open(communities_small_file) as csf:\n",
    "    for line in csf:\n",
    "        numbers_set = {int(num) for num in line.strip().split(\" \")}\n",
    "        small_communities.append(numbers_set)\n",
    "\n",
    "with open(gold_pairs_file) as gpf:\n",
    "    for line in gpf:\n",
    "        numbers_list = [int(num) for num in line.strip().split(\";\")]\n",
    "        gold_pairs.append(numbers_list)\n",
    "\n",
    "with open(exact_match_file) as file:\n",
    "    exact_match = json.load(file)\n",
    "\n",
    "with open(communitiy_embeddings_big_file) as cebf:\n",
    "    community_embeddings_big = json.load(cebf)\n",
    "    community_embeddings_big = {k: list(v.values()) for k, v in community_embeddings_big.items()}\n",
    "\n",
    "with open(communitiy_embeddings_small_file) as cesf:\n",
    "    community_embeddings_small = json.load(cesf)\n",
    "    community_embeddings_small = {k: list(v.values()) for k, v in community_embeddings_small.items()}\n",
    "\n",
    "with open(top10pairs_file) as file:\n",
    "    top10pairs = json.load(file)\n",
    "\n",
    "with open(node_embeddings_small_file) as nesf:\n",
    "    node_embeddings_small = json.load(nesf)\n",
    "\n",
    "with open(url_embeddings_small_file) as uesf:\n",
    "    url_embeddings_small = json.load(uesf)"
   ],
   "id": "60e1542a46daf650",
   "outputs": [
    {
     "ename": "FileNotFoundError",
     "evalue": "[Errno 2] No such file or directory: './_input/top10pairs/dogtag_bgem3/stexpanded-memoryalpha.json'",
     "output_type": "error",
     "traceback": [
      "\u001B[0;31m---------------------------------------------------------------------------\u001B[0m",
      "\u001B[0;31mFileNotFoundError\u001B[0m                         Traceback (most recent call last)",
      "Cell \u001B[0;32mIn[4], line 31\u001B[0m\n\u001B[1;32m     28\u001B[0m     community_embeddings_small \u001B[38;5;241m=\u001B[39m json\u001B[38;5;241m.\u001B[39mload(cesf)\n\u001B[1;32m     29\u001B[0m     community_embeddings_small \u001B[38;5;241m=\u001B[39m {k: \u001B[38;5;28mlist\u001B[39m(v\u001B[38;5;241m.\u001B[39mvalues()) \u001B[38;5;28;01mfor\u001B[39;00m k, v \u001B[38;5;129;01min\u001B[39;00m community_embeddings_small\u001B[38;5;241m.\u001B[39mitems()}\n\u001B[0;32m---> 31\u001B[0m \u001B[38;5;28;01mwith\u001B[39;00m \u001B[38;5;28;43mopen\u001B[39;49m\u001B[43m(\u001B[49m\u001B[43mtop10pairs_file\u001B[49m\u001B[43m)\u001B[49m \u001B[38;5;28;01mas\u001B[39;00m file:\n\u001B[1;32m     32\u001B[0m     top10pairs \u001B[38;5;241m=\u001B[39m json\u001B[38;5;241m.\u001B[39mload(file)\n\u001B[1;32m     34\u001B[0m \u001B[38;5;28;01mwith\u001B[39;00m \u001B[38;5;28mopen\u001B[39m(node_embeddings_small_file) \u001B[38;5;28;01mas\u001B[39;00m nesf:\n",
      "File \u001B[0;32m~/Documents/Projects/KGEntityMatching/venv/lib/python3.10/site-packages/IPython/core/interactiveshell.py:324\u001B[0m, in \u001B[0;36m_modified_open\u001B[0;34m(file, *args, **kwargs)\u001B[0m\n\u001B[1;32m    317\u001B[0m \u001B[38;5;28;01mif\u001B[39;00m file \u001B[38;5;129;01min\u001B[39;00m {\u001B[38;5;241m0\u001B[39m, \u001B[38;5;241m1\u001B[39m, \u001B[38;5;241m2\u001B[39m}:\n\u001B[1;32m    318\u001B[0m     \u001B[38;5;28;01mraise\u001B[39;00m \u001B[38;5;167;01mValueError\u001B[39;00m(\n\u001B[1;32m    319\u001B[0m         \u001B[38;5;124mf\u001B[39m\u001B[38;5;124m\"\u001B[39m\u001B[38;5;124mIPython won\u001B[39m\u001B[38;5;124m'\u001B[39m\u001B[38;5;124mt let you open fd=\u001B[39m\u001B[38;5;132;01m{\u001B[39;00mfile\u001B[38;5;132;01m}\u001B[39;00m\u001B[38;5;124m by default \u001B[39m\u001B[38;5;124m\"\u001B[39m\n\u001B[1;32m    320\u001B[0m         \u001B[38;5;124m\"\u001B[39m\u001B[38;5;124mas it is likely to crash IPython. If you know what you are doing, \u001B[39m\u001B[38;5;124m\"\u001B[39m\n\u001B[1;32m    321\u001B[0m         \u001B[38;5;124m\"\u001B[39m\u001B[38;5;124myou can use builtins\u001B[39m\u001B[38;5;124m'\u001B[39m\u001B[38;5;124m open.\u001B[39m\u001B[38;5;124m\"\u001B[39m\n\u001B[1;32m    322\u001B[0m     )\n\u001B[0;32m--> 324\u001B[0m \u001B[38;5;28;01mreturn\u001B[39;00m \u001B[43mio_open\u001B[49m\u001B[43m(\u001B[49m\u001B[43mfile\u001B[49m\u001B[43m,\u001B[49m\u001B[43m \u001B[49m\u001B[38;5;241;43m*\u001B[39;49m\u001B[43margs\u001B[49m\u001B[43m,\u001B[49m\u001B[43m \u001B[49m\u001B[38;5;241;43m*\u001B[39;49m\u001B[38;5;241;43m*\u001B[39;49m\u001B[43mkwargs\u001B[49m\u001B[43m)\u001B[49m\n",
      "\u001B[0;31mFileNotFoundError\u001B[0m: [Errno 2] No such file or directory: './_input/top10pairs/dogtag_bgem3/stexpanded-memoryalpha.json'"
     ]
    }
   ],
   "execution_count": 4
  },
  {
   "metadata": {
    "ExecuteTime": {
     "end_time": "2025-04-21T13:42:29.193267Z",
     "start_time": "2025-04-21T12:26:07.490416Z"
    }
   },
   "cell_type": "code",
   "source": [
    "gold_exact = list()\n",
    "gold_not_exact = list()\n",
    "\n",
    "for p in gold_pairs:\n",
    "    if [p[0], p[1]] in exact_match:\n",
    "        gold_exact.append([p[0], p[1]])\n",
    "    else:\n",
    "        gold_not_exact.append([p[0], p[1]])\n",
    "\n",
    "merged_node_embeddings_small = {key: node_embeddings_small[key] if key in node_embeddings_small else url_embeddings_small[key] for key in set(node_embeddings_small) | set(url_embeddings_small)}\n",
    "merged_node_embeddings_small = {str(k): merged_node_embeddings_small[str(k)] for k in sorted(map(int, merged_node_embeddings_small.keys()))}\n",
    "\n",
    "top1dict = dict()\n",
    "\n",
    "for k, v in top10pairs.items():\n",
    "    top1dict[int(k)] = int(v[0][0])"
   ],
   "id": "1bf3506ebe7eda",
   "outputs": [],
   "execution_count": 19
  },
  {
   "metadata": {
    "ExecuteTime": {
     "end_time": "2025-04-21T13:42:29.257442Z",
     "start_time": "2025-04-21T12:26:08.071167Z"
    }
   },
   "cell_type": "code",
   "source": [
    "node_to_community_embeddings_small = dict()\n",
    "index = 0\n",
    "for community in small_communities:\n",
    "    for node in community:\n",
    "        node_to_community_embeddings_small[str(node)] = community_embeddings_small[str(index)]\n",
    "    index += 1\n",
    "\n",
    "node_to_community_embeddings_big = dict()\n",
    "index = 0\n",
    "for community in big_communities:\n",
    "    for node in community:\n",
    "        node_to_community_embeddings_big[node] = community_embeddings_big[str(index)]\n",
    "    index += 1\n",
    "\n",
    "top1dict_reordered = dict()\n",
    "\n",
    "for k in tqdm(top10pairs.keys()):\n",
    "\n",
    "    node_embeds = torch.Tensor(merged_node_embeddings_small[str(k)])\n",
    "    try:\n",
    "        node_embeds = torch.Tensor(node_to_community_embeddings_small[str(k)])\n",
    "    except KeyError:\n",
    "        pass\n",
    "\n",
    "    compare_list = [\n",
    "        node_to_community_embeddings_big.get(int(item[0]))\n",
    "        for item in top10pairs[str(k)]\n",
    "        if int(item[0]) in node_to_community_embeddings_big\n",
    "    ]\n",
    "    big_torch_embeds = torch.Tensor(compare_list)\n",
    "\n",
    "    community_order = util.semantic_search(node_embeds, big_torch_embeds)\n",
    "\n",
    "    best_score = 0\n",
    "\n",
    "    for item in community_order[0]:\n",
    "        score = (\n",
    "                node_sim_weight * top10pairs[str(k)][item['corpus_id']][1] +\n",
    "                community_sim_weight * item['score']\n",
    "        )\n",
    "        id_node = top10pairs[str(k)][item['corpus_id']][0]\n",
    "        if score > best_score:\n",
    "            best_score = score\n",
    "            top1dict_reordered[int(str(k))] = int(id_node)"
   ],
   "id": "9bd58c97a518bffb",
   "outputs": [
    {
     "name": "stderr",
     "output_type": "stream",
     "text": [
      "100%|██████████| 15524/15524 [00:07<00:00, 2134.70it/s]\n"
     ]
    }
   ],
   "execution_count": 20
  },
  {
   "metadata": {
    "ExecuteTime": {
     "end_time": "2025-04-21T13:42:29.266073Z",
     "start_time": "2025-04-21T12:26:15.483460Z"
    }
   },
   "cell_type": "code",
   "source": [
    "print(\"############### SETTINGS ################\")\n",
    "print(\"From:            \" + small)\n",
    "print(\"To:              \" + big)\n",
    "print(\"Embeddings:      \" + embeddings)\n",
    "print(\"Communities:     \" + communities)\n",
    "print(\"Node sim weight: \" + str(node_sim_weight))\n",
    "print(\"Comm sim weight: \" + str(community_sim_weight))\n",
    "\n",
    "print(\"############ ALL GOLD PAIRS #############\")\n",
    "print(\"Count:           \" + str(len(gold_pairs)))\n",
    "\n",
    "found = 0\n",
    "all_pairs = len(gold_pairs)\n",
    "# for gold_pair in tqdm(gold_pairs):\n",
    "for gold_pair in gold_pairs:\n",
    "    if top1dict.get(gold_pair[1]) == gold_pair[0]:\n",
    "        found += 1\n",
    "print(\"Top 1:           \" + str(found) + \" (\" + f\"{found / all_pairs * 100:.5f}\" + \"%)\")\n",
    "\n",
    "found = 0\n",
    "all_pairs = len(gold_pairs)\n",
    "# for gold_pair in tqdm(gold_pairs):\n",
    "for gold_pair in gold_pairs:\n",
    "    if top1dict_reordered.get(gold_pair[1]) == gold_pair[0]:\n",
    "        found += 1\n",
    "print(\"Reordered:       \" + str(found) + \" (\" + f\"{found / all_pairs * 100:.5f}\" + \"%)\")\n",
    "\n",
    "print(\"############## EXACT MATCH ##############\")\n",
    "print(\"Count:           \" + str(len(gold_exact)))\n",
    "\n",
    "found = 0\n",
    "all_pairs = len(gold_exact)\n",
    "# for gold_pair in tqdm(gold_exact):\n",
    "for gold_pair in gold_exact:\n",
    "    if top1dict.get(gold_pair[1]) == gold_pair[0]:\n",
    "        found += 1\n",
    "print(\"Top 1:           \" + str(found) + \" (\" + f\"{found / all_pairs * 100:.5f}\" + \"%)\")\n",
    "\n",
    "found = 0\n",
    "all_pairs = len(gold_exact)\n",
    "# for gold_pair in tqdm(gold_exact):\n",
    "for gold_pair in gold_exact:\n",
    "    if top1dict_reordered.get(gold_pair[1]) == gold_pair[0]:\n",
    "        found += 1\n",
    "print(\"Reordered:       \" + str(found) + \" (\" + f\"{found / all_pairs * 100:.5f}\" + \"%)\")\n",
    "\n",
    "print(\"############ NOT EXACT MATCH ############\")\n",
    "print(\"Count:           \" + str(len(gold_not_exact)))\n",
    "\n",
    "found = 0\n",
    "all_pairs = len(gold_not_exact)\n",
    "# for gold_pair in tqdm(gold_not_exact):\n",
    "for gold_pair in gold_not_exact:\n",
    "    if top1dict.get(gold_pair[1]) == gold_pair[0]:\n",
    "        found += 1\n",
    "print(\"Top 1:           \" + str(found) + \" (\" + f\"{found / all_pairs * 100:.5f}\" + \"%)\")\n",
    "\n",
    "found = 0\n",
    "all_pairs = len(gold_not_exact)\n",
    "# for gold_pair in tqdm(gold_not_exact):\n",
    "for gold_pair in gold_not_exact:\n",
    "    if top1dict_reordered.get(gold_pair[1]) == gold_pair[0]:\n",
    "        found += 1\n",
    "print(\"Reordered:       \" + str(found) + \" (\" + f\"{found / all_pairs * 100:.5f}\" + \"%)\")"
   ],
   "id": "64fec82258ebe704",
   "outputs": [
    {
     "name": "stdout",
     "output_type": "stream",
     "text": [
      "############### SETTINGS ################\n",
      "From:            stexpanded\n",
      "To:              memoryalpha\n",
      "Embeddings:      dogtag_bgelarge\n",
      "Communities:     leiden\n",
      "Node sim weight: 0.9\n",
      "Comm sim weight: 0.1\n",
      "############ ALL GOLD PAIRS #############\n",
      "Count:           1779\n",
      "Top 1:           1390 (78.13378%)\n",
      "Reordered:       1391 (78.18999%)\n",
      "############## EXACT MATCH ##############\n",
      "Count:           1631\n",
      "Top 1:           1294 (79.33783%)\n",
      "Reordered:       1297 (79.52177%)\n",
      "############ NOT EXACT MATCH ############\n",
      "Count:           148\n",
      "Top 1:           96 (64.86486%)\n",
      "Reordered:       94 (63.51351%)\n"
     ]
    }
   ],
   "execution_count": 21
  },
  {
   "metadata": {
    "ExecuteTime": {
     "end_time": "2025-04-21T13:42:29.267493Z",
     "start_time": "2025-04-21T12:26:15.546462Z"
    }
   },
   "cell_type": "code",
   "source": "",
   "id": "8fb23fb451b66ef6",
   "outputs": [],
   "execution_count": null
  }
 ],
 "metadata": {
  "kernelspec": {
   "display_name": "Python 3",
   "language": "python",
   "name": "python3"
  },
  "language_info": {
   "codemirror_mode": {
    "name": "ipython",
    "version": 2
   },
   "file_extension": ".py",
   "mimetype": "text/x-python",
   "name": "python",
   "nbconvert_exporter": "python",
   "pygments_lexer": "ipython2",
   "version": "2.7.6"
  }
 },
 "nbformat": 4,
 "nbformat_minor": 5
}
