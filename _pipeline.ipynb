{
 "cells": [
  {
   "cell_type": "code",
   "id": "initial_id",
   "metadata": {
    "collapsed": true,
    "ExecuteTime": {
     "end_time": "2025-04-22T16:30:54.827455Z",
     "start_time": "2025-04-22T16:30:54.789332Z"
    }
   },
   "source": [
    "import json\n",
    "from tqdm import tqdm\n",
    "import torch\n",
    "from sentence_transformers import util"
   ],
   "outputs": [],
   "execution_count": 8
  },
  {
   "metadata": {
    "ExecuteTime": {
     "end_time": "2025-04-22T16:30:55.264712Z",
     "start_time": "2025-04-22T16:30:55.261291Z"
    }
   },
   "cell_type": "code",
   "source": [
    "big = \"memoryalpha\"\n",
    "small = \"stexpanded\"\n",
    "\n",
    "embeddings = \"deepseek_bgem3\"\n",
    "communities = \"leiden\"\n",
    "\n",
    "node_sim_weight = 0.9\n",
    "community_sim_weight = 0.1\n",
    "# neighbor_sim_weight = 0.5"
   ],
   "id": "d87649d0a3987683",
   "outputs": [],
   "execution_count": 9
  },
  {
   "metadata": {
    "ExecuteTime": {
     "end_time": "2025-04-22T16:30:55.326924Z",
     "start_time": "2025-04-22T16:30:55.321577Z"
    }
   },
   "cell_type": "code",
   "source": [
    "mapping_file_big = \"./_input/mappings/\" + big + \".json\"\n",
    "mapping_file_small = \"./_input/mappings/\" + small + \".json\"\n",
    "\n",
    "communities_big_file = \"./_input/communities/\" + communities + \"/\" + big + \".txt\"\n",
    "communitiy_embeddings_big_file = \"./_input/community_embeddings/\" + communities + \"_\" + embeddings + \"/\" + big + \".json\"\n",
    "\n",
    "communities_small_file = \"./_input/communities/\" + communities + \"/\" + big + \".txt\"\n",
    "communitiy_embeddings_small_file = \"./_input/community_embeddings/\" + communities + \"_\" + embeddings + \"/\" + big + \".json\"\n",
    "\n",
    "node_embeddings_small_file = \"./_input/node_embeddings/\" + embeddings + \"/\" + small + \".json\"\n",
    "url_embeddings_small_file = \"./_input/url_embeddings/\" + small + \".json\"\n",
    "\n",
    "exact_match_file = \"./_input/exact_match/\" + big + \"-\" + small + \".json\"\n",
    "gold_pairs_file = \"./_input/gold_pairs/\" + big + \"-\" + small + \".txt\"\n",
    "\n",
    "top10pairs_file = \"./_input/top10pairs/\" + embeddings + \"/\" + small + \"-\" + big + \".json\""
   ],
   "id": "9b4a6dcbcf0757b2",
   "outputs": [],
   "execution_count": 10
  },
  {
   "metadata": {
    "ExecuteTime": {
     "end_time": "2025-04-22T16:31:21.021194Z",
     "start_time": "2025-04-22T16:30:55.364835Z"
    }
   },
   "cell_type": "code",
   "source": [
    "big_communities = []\n",
    "small_communities = []\n",
    "gold_pairs = []\n",
    "\n",
    "with open(communities_big_file) as cbf:\n",
    "    for line in cbf:\n",
    "        numbers_set = {int(num) for num in line.strip().split(\" \")}\n",
    "        big_communities.append(numbers_set)\n",
    "\n",
    "with open(communities_small_file) as csf:\n",
    "    for line in csf:\n",
    "        numbers_set = {int(num) for num in line.strip().split(\" \")}\n",
    "        small_communities.append(numbers_set)\n",
    "\n",
    "with open(gold_pairs_file) as gpf:\n",
    "    for line in gpf:\n",
    "        numbers_list = [int(num) for num in line.strip().split(\";\")]\n",
    "        gold_pairs.append(numbers_list)\n",
    "\n",
    "with open(exact_match_file) as file:\n",
    "    exact_match = json.load(file)\n",
    "\n",
    "with open(communitiy_embeddings_big_file) as cebf:\n",
    "    community_embeddings_big = json.load(cebf)\n",
    "    community_embeddings_big = {k: list(v.values()) for k, v in community_embeddings_big.items()}\n",
    "\n",
    "with open(communitiy_embeddings_small_file) as cesf:\n",
    "    community_embeddings_small = json.load(cesf)\n",
    "    community_embeddings_small = {k: list(v.values()) for k, v in community_embeddings_small.items()}\n",
    "\n",
    "with open(top10pairs_file) as file:\n",
    "    top10pairs = json.load(file)\n",
    "\n",
    "with open(node_embeddings_small_file) as nesf:\n",
    "    node_embeddings_small = json.load(nesf)\n",
    "\n",
    "with open(url_embeddings_small_file) as uesf:\n",
    "    url_embeddings_small = json.load(uesf)"
   ],
   "id": "60e1542a46daf650",
   "outputs": [],
   "execution_count": 11
  },
  {
   "metadata": {
    "ExecuteTime": {
     "end_time": "2025-04-22T16:31:21.742840Z",
     "start_time": "2025-04-22T16:31:21.156802Z"
    }
   },
   "cell_type": "code",
   "source": [
    "gold_exact = list()\n",
    "gold_not_exact = list()\n",
    "\n",
    "for p in gold_pairs:\n",
    "    if [p[0], p[1]] in exact_match:\n",
    "        gold_exact.append([p[0], p[1]])\n",
    "    else:\n",
    "        gold_not_exact.append([p[0], p[1]])\n",
    "\n",
    "merged_node_embeddings_small = {key: node_embeddings_small[key] if key in node_embeddings_small else url_embeddings_small[key] for key in set(node_embeddings_small) | set(url_embeddings_small)}\n",
    "merged_node_embeddings_small = {str(k): merged_node_embeddings_small[str(k)] for k in sorted(map(int, merged_node_embeddings_small.keys()))}\n",
    "\n",
    "top1dict = dict()\n",
    "\n",
    "for k, v in top10pairs.items():\n",
    "    top1dict[int(k)] = int(v[0][0])"
   ],
   "id": "1bf3506ebe7eda",
   "outputs": [],
   "execution_count": 12
  },
  {
   "metadata": {
    "ExecuteTime": {
     "end_time": "2025-04-22T16:31:35.705704Z",
     "start_time": "2025-04-22T16:31:21.783283Z"
    }
   },
   "cell_type": "code",
   "source": [
    "node_to_community_embeddings_small = dict()\n",
    "index = 0\n",
    "for community in small_communities:\n",
    "    for node in community:\n",
    "        node_to_community_embeddings_small[str(node)] = community_embeddings_small[str(index)]\n",
    "    index += 1\n",
    "\n",
    "node_to_community_embeddings_big = dict()\n",
    "index = 0\n",
    "for community in big_communities:\n",
    "    for node in community:\n",
    "        node_to_community_embeddings_big[node] = community_embeddings_big[str(index)]\n",
    "    index += 1\n",
    "\n",
    "top1dict_reordered = dict()\n",
    "\n",
    "for k in tqdm(top10pairs.keys()):\n",
    "\n",
    "    node_embeds = torch.Tensor(merged_node_embeddings_small[str(k)])\n",
    "    try:\n",
    "        node_embeds = torch.Tensor(node_to_community_embeddings_small[str(k)])\n",
    "    except KeyError:\n",
    "        pass\n",
    "\n",
    "    compare_list = [\n",
    "        node_to_community_embeddings_big.get(int(item[0]))\n",
    "        for item in top10pairs[str(k)]\n",
    "        if int(item[0]) in node_to_community_embeddings_big\n",
    "    ]\n",
    "    big_torch_embeds = torch.Tensor(compare_list)\n",
    "\n",
    "    community_order = util.semantic_search(node_embeds, big_torch_embeds)\n",
    "\n",
    "    best_score = 0\n",
    "\n",
    "    for item in community_order[0]:\n",
    "        score = (\n",
    "                node_sim_weight * top10pairs[str(k)][item['corpus_id']][1] +\n",
    "                community_sim_weight * item['score']\n",
    "        )\n",
    "        id_node = top10pairs[str(k)][item['corpus_id']][0]\n",
    "        if score > best_score:\n",
    "            best_score = score\n",
    "            top1dict_reordered[int(str(k))] = int(id_node)"
   ],
   "id": "9bd58c97a518bffb",
   "outputs": [
    {
     "name": "stderr",
     "output_type": "stream",
     "text": [
      "100%|██████████| 30438/30438 [00:13<00:00, 2204.09it/s]\n"
     ]
    }
   ],
   "execution_count": 13
  },
  {
   "metadata": {
    "ExecuteTime": {
     "end_time": "2025-04-22T16:31:35.753803Z",
     "start_time": "2025-04-22T16:31:35.745318Z"
    }
   },
   "cell_type": "code",
   "source": [
    "print(\"############### SETTINGS ################\")\n",
    "print(\"From:            \" + small)\n",
    "print(\"To:              \" + big)\n",
    "print(\"Embeddings:      \" + embeddings)\n",
    "print(\"Communities:     \" + communities)\n",
    "print(\"Node sim weight: \" + str(node_sim_weight))\n",
    "print(\"Comm sim weight: \" + str(community_sim_weight))\n",
    "\n",
    "print(\"############ ALL GOLD PAIRS #############\")\n",
    "print(\"Count:           \" + str(len(gold_pairs)))\n",
    "\n",
    "found = 0\n",
    "all_pairs = len(gold_pairs)\n",
    "# for gold_pair in tqdm(gold_pairs):\n",
    "for gold_pair in gold_pairs:\n",
    "    if top1dict.get(gold_pair[1]) == gold_pair[0]:\n",
    "        found += 1\n",
    "print(\"Top 1:           \" + str(found) + \" (\" + f\"{found / all_pairs * 100:.5f}\" + \"%)\")\n",
    "\n",
    "found = 0\n",
    "all_pairs = len(gold_pairs)\n",
    "# for gold_pair in tqdm(gold_pairs):\n",
    "for gold_pair in gold_pairs:\n",
    "    if top1dict_reordered.get(gold_pair[1]) == gold_pair[0]:\n",
    "        found += 1\n",
    "print(\"Reordered:       \" + str(found) + \" (\" + f\"{found / all_pairs * 100:.5f}\" + \"%)\")\n",
    "\n",
    "print(\"############## EXACT MATCH ##############\")\n",
    "print(\"Count:           \" + str(len(gold_exact)))\n",
    "\n",
    "found = 0\n",
    "all_pairs = len(gold_exact)\n",
    "# for gold_pair in tqdm(gold_exact):\n",
    "for gold_pair in gold_exact:\n",
    "    if top1dict.get(gold_pair[1]) == gold_pair[0]:\n",
    "        found += 1\n",
    "print(\"Top 1:           \" + str(found) + \" (\" + f\"{found / all_pairs * 100:.5f}\" + \"%)\")\n",
    "\n",
    "found = 0\n",
    "all_pairs = len(gold_exact)\n",
    "# for gold_pair in tqdm(gold_exact):\n",
    "for gold_pair in gold_exact:\n",
    "    if top1dict_reordered.get(gold_pair[1]) == gold_pair[0]:\n",
    "        found += 1\n",
    "print(\"Reordered:       \" + str(found) + \" (\" + f\"{found / all_pairs * 100:.5f}\" + \"%)\")\n",
    "\n",
    "print(\"############ NOT EXACT MATCH ############\")\n",
    "print(\"Count:           \" + str(len(gold_not_exact)))\n",
    "\n",
    "found = 0\n",
    "all_pairs = len(gold_not_exact)\n",
    "# for gold_pair in tqdm(gold_not_exact):\n",
    "for gold_pair in gold_not_exact:\n",
    "    if top1dict.get(gold_pair[1]) == gold_pair[0]:\n",
    "        found += 1\n",
    "print(\"Top 1:           \" + str(found) + \" (\" + f\"{found / all_pairs * 100:.5f}\" + \"%)\")\n",
    "\n",
    "found = 0\n",
    "all_pairs = len(gold_not_exact)\n",
    "# for gold_pair in tqdm(gold_not_exact):\n",
    "for gold_pair in gold_not_exact:\n",
    "    if top1dict_reordered.get(gold_pair[1]) == gold_pair[0]:\n",
    "        found += 1\n",
    "print(\"Reordered:       \" + str(found) + \" (\" + f\"{found / all_pairs * 100:.5f}\" + \"%)\")"
   ],
   "id": "64fec82258ebe704",
   "outputs": [
    {
     "name": "stdout",
     "output_type": "stream",
     "text": [
      "############### SETTINGS ################\n",
      "From:            stexpanded\n",
      "To:              memoryalpha\n",
      "Embeddings:      deepseek_bgem3\n",
      "Communities:     leiden\n",
      "Node sim weight: 0.9\n",
      "Comm sim weight: 0.1\n",
      "############ ALL GOLD PAIRS #############\n",
      "Count:           1779\n",
      "Top 1:           1480 (83.19280%)\n",
      "Reordered:       1489 (83.69871%)\n",
      "############## EXACT MATCH ##############\n",
      "Count:           1631\n",
      "Top 1:           1389 (85.16248%)\n",
      "Reordered:       1398 (85.71429%)\n",
      "############ NOT EXACT MATCH ############\n",
      "Count:           148\n",
      "Top 1:           91 (61.48649%)\n",
      "Reordered:       91 (61.48649%)\n"
     ]
    }
   ],
   "execution_count": 14
  },
  {
   "metadata": {
    "ExecuteTime": {
     "end_time": "2025-04-22T16:31:35.805575Z",
     "start_time": "2025-04-22T16:31:35.804264Z"
    }
   },
   "cell_type": "code",
   "source": "",
   "id": "8fb23fb451b66ef6",
   "outputs": [],
   "execution_count": null
  }
 ],
 "metadata": {
  "kernelspec": {
   "display_name": "Python 3",
   "language": "python",
   "name": "python3"
  },
  "language_info": {
   "codemirror_mode": {
    "name": "ipython",
    "version": 2
   },
   "file_extension": ".py",
   "mimetype": "text/x-python",
   "name": "python",
   "nbconvert_exporter": "python",
   "pygments_lexer": "ipython2",
   "version": "2.7.6"
  }
 },
 "nbformat": 4,
 "nbformat_minor": 5
}
