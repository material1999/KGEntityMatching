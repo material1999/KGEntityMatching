{
 "cells": [
  {
   "cell_type": "code",
   "id": "initial_id",
   "metadata": {
    "collapsed": true,
    "ExecuteTime": {
     "end_time": "2025-04-14T08:38:35.617592Z",
     "start_time": "2025-04-14T08:38:31.308936Z"
    }
   },
   "source": [
    "import json\n",
    "from tqdm import tqdm\n",
    "import torch\n",
    "from sentence_transformers import util"
   ],
   "outputs": [],
   "execution_count": 1
  },
  {
   "metadata": {
    "ExecuteTime": {
     "end_time": "2025-04-14T08:39:55.701644Z",
     "start_time": "2025-04-14T08:39:55.691350Z"
    }
   },
   "cell_type": "code",
   "source": [
    "big = \"memoryalpha\"\n",
    "small = \"stexpanded\"\n",
    "\n",
    "embeddings = \"dogtag_bgelarge\"\n",
    "communities = \"leiden\"\n",
    "\n",
    "node_sim_weight = 1.0\n",
    "neighbor_sim_weight = 0.5\n",
    "community_sim_weight = 0.2"
   ],
   "id": "d87649d0a3987683",
   "outputs": [],
   "execution_count": 2
  },
  {
   "metadata": {
    "ExecuteTime": {
     "end_time": "2025-04-14T08:40:28.604512Z",
     "start_time": "2025-04-14T08:40:28.590957Z"
    }
   },
   "cell_type": "code",
   "source": [
    "mapping_file_big = \"./_input/mappings/\" + big + \".json\"\n",
    "mapping_file_small = \"./_input/mappings/\" + small + \".json\"\n",
    "\n",
    "communities_big_file = \"./_input/communities/\" + communities + \"/\" + big + \".txt\"\n",
    "communitiy_embeddings_big_file = \"./_input/community_embeddings/\" + communities + \"_\" + embeddings + \"/\" + big + \".json\"\n",
    "\n",
    "node_embeddings_small_file = \"./_input/node_embeddings/\" + embeddings + \"/\" + small + \".json\"\n",
    "url_embeddings_small_file = \"./_input/url_embeddings/\" + small + \".json\"\n",
    "\n",
    "exact_match_file = \"./_input/exact_match/\" + big + \"-\" + small + \".json\"\n",
    "gold_pairs_file = \"./_input/gold_pairs/\" + big + \"-\" + small + \".txt\"\n",
    "\n",
    "top10pairs_file = \"./_input/top10pairs/\" + embeddings + \"/\" + small + \"-\" + big + \".json\""
   ],
   "id": "9b4a6dcbcf0757b2",
   "outputs": [],
   "execution_count": 5
  },
  {
   "metadata": {
    "ExecuteTime": {
     "end_time": "2025-04-14T08:40:42.724092Z",
     "start_time": "2025-04-14T08:40:29.225965Z"
    }
   },
   "cell_type": "code",
   "source": [
    "big_communities = []\n",
    "gold_pairs = []\n",
    "\n",
    "with open(communities_big_file) as cbf, open(gold_pairs_file) as gpf:\n",
    "\n",
    "    for line in cbf:\n",
    "        numbers_set = {int(num) for num in line.strip().split(\" \")}\n",
    "        big_communities.append(numbers_set)\n",
    "\n",
    "    for line in gpf:\n",
    "        numbers_list = [int(num) for num in line.strip().split(\";\")]\n",
    "        gold_pairs.append(numbers_list)\n",
    "\n",
    "with open(exact_match_file) as file:\n",
    "    exact_match = json.load(file)\n",
    "\n",
    "gold_not_exact = list()\n",
    "for p in gold_pairs:\n",
    "    if [p[0], p[1]] not in exact_match:\n",
    "        gold_not_exact.append([p[0], p[1]])\n",
    "\n",
    "with open(communitiy_embeddings_big_file) as cebf:\n",
    "    community_embeddings_big = json.load(cebf)\n",
    "    community_embeddings_big = {k: list(v.values()) for k, v in community_embeddings_big.items()}\n",
    "\n",
    "with open(top10pairs_file) as file:\n",
    "    top10pairs = json.load(file)\n",
    "\n",
    "with open(node_embeddings_small_file) as nesf:\n",
    "    node_embeddings_small = json.load(nesf)\n",
    "\n",
    "with open(url_embeddings_small_file) as uesf:\n",
    "    url_embeddings_small = json.load(uesf)"
   ],
   "id": "60e1542a46daf650",
   "outputs": [],
   "execution_count": 6
  },
  {
   "metadata": {
    "ExecuteTime": {
     "end_time": "2025-04-14T08:40:50.241814Z",
     "start_time": "2025-04-14T08:40:50.173640Z"
    }
   },
   "cell_type": "code",
   "source": [
    "merged_node_embeddings_small = {key: node_embeddings_small[key] if key in node_embeddings_small else url_embeddings_small[key] for key in set(node_embeddings_small) | set(url_embeddings_small)}\n",
    "merged_node_embeddings_small = {str(k): merged_node_embeddings_small[str(k)] for k in sorted(map(int, merged_node_embeddings_small.keys()))}\n",
    "\n",
    "top1dict = dict()\n",
    "for k, v in top10pairs.items():\n",
    "    top1dict[int(k)] = int(v[0][0])"
   ],
   "id": "ad0d9009bdc0a0f3",
   "outputs": [],
   "execution_count": 7
  },
  {
   "metadata": {
    "ExecuteTime": {
     "end_time": "2025-04-14T08:41:05.645962Z",
     "start_time": "2025-04-14T08:40:58.682218Z"
    }
   },
   "cell_type": "code",
   "source": [
    "node_to_community_embeddings = dict()\n",
    "index = 0\n",
    "\n",
    "for community in big_communities:\n",
    "    for node in community:\n",
    "        node_to_community_embeddings[node] = community_embeddings_big[str(index)]\n",
    "    index += 1\n",
    "\n",
    "top1dict_reordered = dict()\n",
    "\n",
    "for k in tqdm(top10pairs.keys()):\n",
    "\n",
    "    node_embeds = torch.Tensor(merged_node_embeddings_small[str(k)])\n",
    "    compare_list = [\n",
    "        node_to_community_embeddings.get(int(item[0]))\n",
    "        for item in top10pairs[str(k)]\n",
    "        if int(item[0]) in node_to_community_embeddings\n",
    "    ]\n",
    "    big_torch_embeds = torch.Tensor(compare_list)\n",
    "\n",
    "    community_order = util.semantic_search(node_embeds, big_torch_embeds)\n",
    "\n",
    "    best_score = 0\n",
    "\n",
    "    for item in community_order[0]:\n",
    "        score = (\n",
    "                node_sim_weight * top10pairs[str(k)][item['corpus_id']][1] +\n",
    "                community_sim_weight * item['score']\n",
    "        )\n",
    "        id_node = top10pairs[str(k)][item['corpus_id']][0]\n",
    "        if score > best_score:\n",
    "            best_score = score\n",
    "            top1dict_reordered[int(str(k))] = int(id_node)"
   ],
   "id": "9bd58c97a518bffb",
   "outputs": [
    {
     "name": "stderr",
     "output_type": "stream",
     "text": [
      "100%|██████████| 15524/15524 [00:06<00:00, 2278.78it/s]\n"
     ]
    }
   ],
   "execution_count": 8
  },
  {
   "metadata": {
    "ExecuteTime": {
     "end_time": "2025-04-14T08:41:06.922376Z",
     "start_time": "2025-04-14T08:41:06.911951Z"
    }
   },
   "cell_type": "code",
   "source": [
    "found = 0\n",
    "all_pairs = len(gold_pairs)\n",
    "# all_pairs = len(gold_not_exact)\n",
    "\n",
    "for gold_pair in tqdm(gold_pairs):\n",
    "    # for gold_pair in tqdm(gold_not_exact):\n",
    "    if top1dict.get(gold_pair[1]) == gold_pair[0]:\n",
    "        found += 1\n",
    "    # else:\n",
    "    #     print(gold_pair)\n",
    "\n",
    "print(\"Gold pairs in top 1: \" + str(found / all_pairs * 100) + \"% (\" + str(found) + \")\")"
   ],
   "id": "64fec82258ebe704",
   "outputs": [
    {
     "name": "stderr",
     "output_type": "stream",
     "text": [
      "100%|██████████| 1779/1779 [00:00<00:00, 766793.42it/s]"
     ]
    },
    {
     "name": "stdout",
     "output_type": "stream",
     "text": [
      "Gold pairs in top 1: 78.13378302417088% (1390)\n"
     ]
    },
    {
     "name": "stderr",
     "output_type": "stream",
     "text": [
      "\n"
     ]
    }
   ],
   "execution_count": 9
  },
  {
   "metadata": {
    "ExecuteTime": {
     "end_time": "2025-04-14T08:41:09.636401Z",
     "start_time": "2025-04-14T08:41:09.626912Z"
    }
   },
   "cell_type": "code",
   "source": [
    "found = 0\n",
    "all_pairs = len(gold_pairs)\n",
    "# all_pairs = len(gold_not_exact)\n",
    "\n",
    "for gold_pair in tqdm(gold_pairs):\n",
    "    # for gold_pair in tqdm(gold_not_exact):\n",
    "    if top1dict_reordered.get(gold_pair[1]) == gold_pair[0]:\n",
    "        found += 1\n",
    "\n",
    "print(\"Gold pairs in reordered top 1: \" + str(found / all_pairs * 100) + \"% (\" + str(found) + \")\")"
   ],
   "id": "b070ebb169b99b71",
   "outputs": [
    {
     "name": "stderr",
     "output_type": "stream",
     "text": [
      "100%|██████████| 1779/1779 [00:00<00:00, 1299489.17it/s]"
     ]
    },
    {
     "name": "stdout",
     "output_type": "stream",
     "text": [
      "Gold pairs in reordered top 1: 78.58347386172007% (1398)\n"
     ]
    },
    {
     "name": "stderr",
     "output_type": "stream",
     "text": [
      "\n"
     ]
    }
   ],
   "execution_count": 10
  },
  {
   "metadata": {},
   "cell_type": "code",
   "outputs": [],
   "execution_count": null,
   "source": "",
   "id": "8fb23fb451b66ef6"
  }
 ],
 "metadata": {
  "kernelspec": {
   "display_name": "Python 3",
   "language": "python",
   "name": "python3"
  },
  "language_info": {
   "codemirror_mode": {
    "name": "ipython",
    "version": 2
   },
   "file_extension": ".py",
   "mimetype": "text/x-python",
   "name": "python",
   "nbconvert_exporter": "python",
   "pygments_lexer": "ipython2",
   "version": "2.7.6"
  }
 },
 "nbformat": 4,
 "nbformat_minor": 5
}
