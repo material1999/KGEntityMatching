{
 "cells": [
  {
   "metadata": {
    "ExecuteTime": {
     "end_time": "2025-09-01T09:13:11.294706Z",
     "start_time": "2025-09-01T09:13:11.077387Z"
    }
   },
   "cell_type": "code",
   "source": [
    "import json\n",
    "from rapidfuzz import fuzz, process"
   ],
   "id": "daed6ce5e24975ed",
   "outputs": [],
   "execution_count": 1
  },
  {
   "metadata": {
    "ExecuteTime": {
     "end_time": "2025-09-01T09:13:11.306285Z",
     "start_time": "2025-09-01T09:13:11.303628Z"
    }
   },
   "cell_type": "code",
   "source": [
    "small = \"stexpanded\"\n",
    "big = \"memoryalpha\""
   ],
   "id": "d962e6cc5d8834a0",
   "outputs": [],
   "execution_count": 2
  },
  {
   "cell_type": "code",
   "id": "initial_id",
   "metadata": {
    "collapsed": true,
    "ExecuteTime": {
     "end_time": "2025-09-01T09:13:11.318934Z",
     "start_time": "2025-09-01T09:13:11.314491Z"
    }
   },
   "source": [
    "mappings_file_small = \"./_input/mappings/\" + small + \".json\"\n",
    "mappings_file_big = \"./_input/mappings/\" + big + \".json\"\n",
    "\n",
    "exact_match_file = \"./_input/exact_match_all/\" + small + \"-\" + big + \".json\"\n",
    "exact_match_deduplicated_file = \"./_input/exact_match_deduplicated/\" + small + \"-\" + big + \".json\""
   ],
   "outputs": [],
   "execution_count": 3
  },
  {
   "metadata": {
    "ExecuteTime": {
     "end_time": "2025-09-01T09:13:11.856968Z",
     "start_time": "2025-09-01T09:13:11.328185Z"
    }
   },
   "cell_type": "code",
   "source": [
    "with open(mappings_file_small) as file:\n",
    "    mappings_small = {str(v): k for k, v in json.load(file).items()}\n",
    "    mappings_small_reversed = {v: k for k, v in mappings_small.items()}\n",
    "\n",
    "with open(mappings_file_big) as file:\n",
    "    mappings_big = {str(v): k for k, v in json.load(file).items()}\n",
    "    mappings_big_reversed = {v: k for k, v in mappings_big.items()}\n",
    "\n",
    "with open(exact_match_file) as emf:\n",
    "    exact_match = json.load(emf)"
   ],
   "id": "531dcd922b29d7e6",
   "outputs": [],
   "execution_count": 4
  },
  {
   "metadata": {
    "ExecuteTime": {
     "end_time": "2025-09-01T09:13:11.876680Z",
     "start_time": "2025-09-01T09:13:11.872549Z"
    }
   },
   "cell_type": "code",
   "source": "len(exact_match)",
   "id": "835e9a0e09eb757b",
   "outputs": [
    {
     "data": {
      "text/plain": [
       "3872"
      ]
     },
     "execution_count": 5,
     "metadata": {},
     "output_type": "execute_result"
    }
   ],
   "execution_count": 5
  },
  {
   "metadata": {
    "ExecuteTime": {
     "end_time": "2025-09-01T09:13:11.887966Z",
     "start_time": "2025-09-01T09:13:11.885726Z"
    }
   },
   "cell_type": "code",
   "source": "keep_exact_match = list()",
   "id": "1800ea9228487bd6",
   "outputs": [],
   "execution_count": 6
  },
  {
   "metadata": {
    "ExecuteTime": {
     "end_time": "2025-09-01T09:13:11.898629Z",
     "start_time": "2025-09-01T09:13:11.895140Z"
    }
   },
   "cell_type": "code",
   "source": [
    "exact_match_rightleft_dict = dict()\n",
    "\n",
    "for em in exact_match:\n",
    "    if em[1] in exact_match_rightleft_dict:\n",
    "        exact_match_rightleft_dict[em[1]].append(em[0])\n",
    "    else:\n",
    "        exact_match_rightleft_dict[em[1]] = [em[0]]"
   ],
   "id": "7baa831aaa3ef769",
   "outputs": [],
   "execution_count": 7
  },
  {
   "metadata": {
    "ExecuteTime": {
     "end_time": "2025-09-01T09:13:11.905475Z",
     "start_time": "2025-09-01T09:13:11.903523Z"
    }
   },
   "cell_type": "code",
   "source": [
    "count_rightleft_duplicates = 0\n",
    "\n",
    "for k, v in exact_match_rightleft_dict.items():\n",
    "    if len(v) > 1:\n",
    "        count_rightleft_duplicates += 1"
   ],
   "id": "9f38e74740e6887",
   "outputs": [],
   "execution_count": 8
  },
  {
   "metadata": {
    "ExecuteTime": {
     "end_time": "2025-09-01T09:13:11.914099Z",
     "start_time": "2025-09-01T09:13:11.911766Z"
    }
   },
   "cell_type": "code",
   "source": [
    "print(\"Rightleft Single:\", len(exact_match_rightleft_dict) - count_rightleft_duplicates)\n",
    "print(\"Rightleft Multiple:\",  count_rightleft_duplicates)"
   ],
   "id": "8806b30b10854d17",
   "outputs": [
    {
     "name": "stdout",
     "output_type": "stream",
     "text": [
      "Rightleft Single: 3213\n",
      "Rightleft Multiple: 287\n"
     ]
    }
   ],
   "execution_count": 9
  },
  {
   "metadata": {
    "ExecuteTime": {
     "end_time": "2025-09-01T09:13:11.925555Z",
     "start_time": "2025-09-01T09:13:11.921781Z"
    }
   },
   "cell_type": "code",
   "source": "len(exact_match_rightleft_dict)",
   "id": "1317062400442db5",
   "outputs": [
    {
     "data": {
      "text/plain": [
       "3500"
      ]
     },
     "execution_count": 10,
     "metadata": {},
     "output_type": "execute_result"
    }
   ],
   "execution_count": 10
  },
  {
   "metadata": {
    "ExecuteTime": {
     "end_time": "2025-09-01T09:13:11.941031Z",
     "start_time": "2025-09-01T09:13:11.935263Z"
    }
   },
   "cell_type": "code",
   "source": [
    "for k, v in exact_match_rightleft_dict.items():\n",
    "    type_right = k.split(\"/\")[4]\n",
    "    keep_left = [item for item in v if item.split(\"/\")[4] == type_right]\n",
    "    if len(keep_left) > 1:\n",
    "            best_match, score, _ = process.extractOne(k, keep_left, scorer=fuzz.ratio)\n",
    "            keep_exact_match.append([best_match, k])\n",
    "    elif len(keep_left) == 1:\n",
    "        keep_exact_match.append([v[0], k])"
   ],
   "id": "6dc0d44672ce0423",
   "outputs": [],
   "execution_count": 11
  },
  {
   "metadata": {
    "ExecuteTime": {
     "end_time": "2025-09-01T09:13:11.951855Z",
     "start_time": "2025-09-01T09:13:11.949256Z"
    }
   },
   "cell_type": "code",
   "source": "len(keep_exact_match)",
   "id": "76bc605088a657c6",
   "outputs": [
    {
     "data": {
      "text/plain": [
       "3475"
      ]
     },
     "execution_count": 12,
     "metadata": {},
     "output_type": "execute_result"
    }
   ],
   "execution_count": 12
  },
  {
   "metadata": {
    "ExecuteTime": {
     "end_time": "2025-09-01T09:13:11.960901Z",
     "start_time": "2025-09-01T09:13:11.957979Z"
    }
   },
   "cell_type": "code",
   "source": [
    "exact_match_leftright_dict = dict()\n",
    "\n",
    "for kem in keep_exact_match:\n",
    "\n",
    "    if kem[0] in exact_match_leftright_dict:\n",
    "        exact_match_leftright_dict[kem[0]].append(kem[1])\n",
    "    else:\n",
    "        exact_match_leftright_dict[kem[0]] = [kem[1]]"
   ],
   "id": "d504de57b58d3cd1",
   "outputs": [],
   "execution_count": 13
  },
  {
   "metadata": {
    "ExecuteTime": {
     "end_time": "2025-09-01T09:13:11.972991Z",
     "start_time": "2025-09-01T09:13:11.970810Z"
    }
   },
   "cell_type": "code",
   "source": [
    "count_leftright_duplicates = 0\n",
    "\n",
    "for k, v in exact_match_leftright_dict.items():\n",
    "    if len(v) > 1:\n",
    "        count_leftright_duplicates += 1"
   ],
   "id": "f7cebddda721fd6f",
   "outputs": [],
   "execution_count": 14
  },
  {
   "metadata": {
    "ExecuteTime": {
     "end_time": "2025-09-01T09:13:11.982990Z",
     "start_time": "2025-09-01T09:13:11.980815Z"
    }
   },
   "cell_type": "code",
   "source": [
    "print(\"Leftright Single:\", len(exact_match_leftright_dict) - count_leftright_duplicates)\n",
    "print(\"Leftright Multiple:\",  count_leftright_duplicates)"
   ],
   "id": "b3dd7dbc88acdb35",
   "outputs": [
    {
     "name": "stdout",
     "output_type": "stream",
     "text": [
      "Leftright Single: 2949\n",
      "Leftright Multiple: 242\n"
     ]
    }
   ],
   "execution_count": 15
  },
  {
   "metadata": {
    "ExecuteTime": {
     "end_time": "2025-09-01T09:13:11.994003Z",
     "start_time": "2025-09-01T09:13:11.990932Z"
    }
   },
   "cell_type": "code",
   "source": "len(exact_match_leftright_dict)",
   "id": "6b3f9d95bad44a57",
   "outputs": [
    {
     "data": {
      "text/plain": [
       "3191"
      ]
     },
     "execution_count": 16,
     "metadata": {},
     "output_type": "execute_result"
    }
   ],
   "execution_count": 16
  },
  {
   "metadata": {
    "ExecuteTime": {
     "end_time": "2025-09-01T09:13:12.004899Z",
     "start_time": "2025-09-01T09:13:12.002915Z"
    }
   },
   "cell_type": "code",
   "source": "keep_exact_match = list()",
   "id": "c6fc49a58d90afd4",
   "outputs": [],
   "execution_count": 17
  },
  {
   "metadata": {
    "ExecuteTime": {
     "end_time": "2025-09-01T09:13:12.018408Z",
     "start_time": "2025-09-01T09:13:12.012710Z"
    }
   },
   "cell_type": "code",
   "source": [
    "for k, v in exact_match_leftright_dict.items():\n",
    "    type_left = k.split(\"/\")[4]\n",
    "    keep_right = [item for item in v if item.split(\"/\")[4] == type_left]\n",
    "    if len(keep_right) > 1:\n",
    "            best_match, score, _ = process.extractOne(k, keep_right, scorer=fuzz.ratio)\n",
    "            keep_exact_match.append([k, best_match])\n",
    "    elif len(keep_right) == 1:\n",
    "        keep_exact_match.append([k, v[0]])"
   ],
   "id": "9751677fc0937a0b",
   "outputs": [],
   "execution_count": 18
  },
  {
   "metadata": {
    "ExecuteTime": {
     "end_time": "2025-09-01T09:13:12.033823Z",
     "start_time": "2025-09-01T09:13:12.030874Z"
    }
   },
   "cell_type": "code",
   "source": "len(keep_exact_match)",
   "id": "4faebf51ba0298e5",
   "outputs": [
    {
     "data": {
      "text/plain": [
       "3182"
      ]
     },
     "execution_count": 19,
     "metadata": {},
     "output_type": "execute_result"
    }
   ],
   "execution_count": 19
  },
  {
   "metadata": {
    "ExecuteTime": {
     "end_time": "2025-09-01T09:13:12.064558Z",
     "start_time": "2025-09-01T09:13:12.059964Z"
    }
   },
   "cell_type": "code",
   "source": [
    "exact_match_leftright_dict = dict()\n",
    "exact_match_rightleft_dict = dict()\n",
    "\n",
    "for em in keep_exact_match:\n",
    "\n",
    "    if em[0] in exact_match_leftright_dict:\n",
    "        exact_match_leftright_dict[em[0]].append(em[1])\n",
    "    else:\n",
    "        exact_match_leftright_dict[em[0]] = [em[1]]\n",
    "\n",
    "    if em[1] in exact_match_rightleft_dict:\n",
    "        exact_match_rightleft_dict[em[1]].append(em[0])\n",
    "    else:\n",
    "        exact_match_rightleft_dict[em[1]] = [em[0]]"
   ],
   "id": "d0fed173cd93d65f",
   "outputs": [],
   "execution_count": 20
  },
  {
   "metadata": {
    "ExecuteTime": {
     "end_time": "2025-09-01T09:13:12.075216Z",
     "start_time": "2025-09-01T09:13:12.072238Z"
    }
   },
   "cell_type": "code",
   "source": [
    "count_leftright_duplicates = 0\n",
    "count_rightleft_duplicates = 0\n",
    "\n",
    "for k, v in exact_match_leftright_dict.items():\n",
    "    if len(v) > 1:\n",
    "        count_leftright_duplicates += 1\n",
    "\n",
    "for k, v in exact_match_rightleft_dict.items():\n",
    "    if len(v) > 1:\n",
    "        count_rightleft_duplicates += 1"
   ],
   "id": "f2ae7ff6cf1284b4",
   "outputs": [],
   "execution_count": 21
  },
  {
   "metadata": {
    "ExecuteTime": {
     "end_time": "2025-09-01T09:13:12.085200Z",
     "start_time": "2025-09-01T09:13:12.082901Z"
    }
   },
   "cell_type": "code",
   "source": "len(keep_exact_match)",
   "id": "d304f968fbc08254",
   "outputs": [
    {
     "data": {
      "text/plain": [
       "3182"
      ]
     },
     "execution_count": 22,
     "metadata": {},
     "output_type": "execute_result"
    }
   ],
   "execution_count": 22
  },
  {
   "metadata": {
    "ExecuteTime": {
     "end_time": "2025-09-01T09:13:12.094335Z",
     "start_time": "2025-09-01T09:13:12.091937Z"
    }
   },
   "cell_type": "code",
   "source": [
    "print(\"Leftright Single:\", len(keep_exact_match) - count_leftright_duplicates)\n",
    "print(\"Leftright Multiple:\",  count_leftright_duplicates)\n",
    "print()\n",
    "print(\"Rightleft Single:\", len(keep_exact_match) - count_rightleft_duplicates)\n",
    "print(\"Rightleft Multiple:\",  count_rightleft_duplicates)"
   ],
   "id": "30d31a210ed260c4",
   "outputs": [
    {
     "name": "stdout",
     "output_type": "stream",
     "text": [
      "Leftright Single: 3182\n",
      "Leftright Multiple: 0\n",
      "\n",
      "Rightleft Single: 3182\n",
      "Rightleft Multiple: 0\n"
     ]
    }
   ],
   "execution_count": 23
  },
  {
   "metadata": {
    "ExecuteTime": {
     "end_time": "2025-09-01T09:13:12.112887Z",
     "start_time": "2025-09-01T09:13:12.103949Z"
    }
   },
   "cell_type": "code",
   "source": [
    "with open(exact_match_deduplicated_file, \"w\") as f:\n",
    "    json.dump(keep_exact_match, f, indent=4)"
   ],
   "id": "61205209963b721f",
   "outputs": [],
   "execution_count": 24
  },
  {
   "metadata": {
    "ExecuteTime": {
     "end_time": "2025-09-01T09:13:12.121474Z",
     "start_time": "2025-09-01T09:13:12.120138Z"
    }
   },
   "cell_type": "code",
   "source": "",
   "id": "a4e0905c4ba0f911",
   "outputs": [],
   "execution_count": null
  }
 ],
 "metadata": {
  "kernelspec": {
   "display_name": "Python 3",
   "language": "python",
   "name": "python3"
  },
  "language_info": {
   "codemirror_mode": {
    "name": "ipython",
    "version": 2
   },
   "file_extension": ".py",
   "mimetype": "text/x-python",
   "name": "python",
   "nbconvert_exporter": "python",
   "pygments_lexer": "ipython2",
   "version": "2.7.6"
  }
 },
 "nbformat": 4,
 "nbformat_minor": 5
}
