{
 "cells": [
  {
   "metadata": {
    "ExecuteTime": {
     "end_time": "2025-08-19T15:04:39.020477Z",
     "start_time": "2025-08-19T15:04:39.012167Z"
    }
   },
   "cell_type": "code",
   "source": [
    "import json\n",
    "from rapidfuzz import fuzz, process"
   ],
   "id": "daed6ce5e24975ed",
   "outputs": [],
   "execution_count": 97
  },
  {
   "metadata": {
    "ExecuteTime": {
     "end_time": "2025-08-19T15:04:39.041262Z",
     "start_time": "2025-08-19T15:04:39.038175Z"
    }
   },
   "cell_type": "code",
   "source": [
    "small = \"mcu\"\n",
    "big = \"marvel\""
   ],
   "id": "d962e6cc5d8834a0",
   "outputs": [],
   "execution_count": 98
  },
  {
   "cell_type": "code",
   "id": "initial_id",
   "metadata": {
    "collapsed": true,
    "ExecuteTime": {
     "end_time": "2025-08-19T15:04:39.052189Z",
     "start_time": "2025-08-19T15:04:39.048789Z"
    }
   },
   "source": [
    "mappings_file_small = \"./_input/mappings/\" + small + \".json\"\n",
    "mappings_file_big = \"./_input/mappings/\" + big + \".json\"\n",
    "\n",
    "exact_match_file = \"./_input/exact_match_all/\" + small + \"-\" + big + \".json\"\n",
    "exact_match_deduplicated_file = \"./_input/exact_match_deduplicated/\" + small + \"-\" + big + \".json\""
   ],
   "outputs": [],
   "execution_count": 99
  },
  {
   "metadata": {
    "ExecuteTime": {
     "end_time": "2025-08-19T15:04:41.635188Z",
     "start_time": "2025-08-19T15:04:39.059834Z"
    }
   },
   "cell_type": "code",
   "source": [
    "with open(mappings_file_small) as file:\n",
    "    mappings_small = {str(v): k for k, v in json.load(file).items()}\n",
    "    mappings_small_reversed = {v: k for k, v in mappings_small.items()}\n",
    "\n",
    "with open(mappings_file_big) as file:\n",
    "    mappings_big = {str(v): k for k, v in json.load(file).items()}\n",
    "    mappings_big_reversed = {v: k for k, v in mappings_big.items()}\n",
    "\n",
    "with open(exact_match_file) as emf:\n",
    "    exact_match = json.load(emf)"
   ],
   "id": "531dcd922b29d7e6",
   "outputs": [],
   "execution_count": 100
  },
  {
   "metadata": {
    "ExecuteTime": {
     "end_time": "2025-08-19T15:04:44.057105Z",
     "start_time": "2025-08-19T15:04:44.052069Z"
    }
   },
   "cell_type": "code",
   "source": "len(exact_match)",
   "id": "835e9a0e09eb757b",
   "outputs": [
    {
     "data": {
      "text/plain": [
       "3362"
      ]
     },
     "execution_count": 101,
     "metadata": {},
     "output_type": "execute_result"
    }
   ],
   "execution_count": 101
  },
  {
   "metadata": {
    "ExecuteTime": {
     "end_time": "2025-08-19T15:04:44.089169Z",
     "start_time": "2025-08-19T15:04:44.086482Z"
    }
   },
   "cell_type": "code",
   "source": "keep_exact_match = list()",
   "id": "1800ea9228487bd6",
   "outputs": [],
   "execution_count": 102
  },
  {
   "metadata": {
    "ExecuteTime": {
     "end_time": "2025-08-19T15:04:44.102075Z",
     "start_time": "2025-08-19T15:04:44.098592Z"
    }
   },
   "cell_type": "code",
   "source": [
    "exact_match_rightleft_dict = dict()\n",
    "\n",
    "for em in exact_match:\n",
    "    if em[1] in exact_match_rightleft_dict:\n",
    "        exact_match_rightleft_dict[em[1]].append(em[0])\n",
    "    else:\n",
    "        exact_match_rightleft_dict[em[1]] = [em[0]]"
   ],
   "id": "7baa831aaa3ef769",
   "outputs": [],
   "execution_count": 103
  },
  {
   "metadata": {
    "ExecuteTime": {
     "end_time": "2025-08-19T15:04:44.109895Z",
     "start_time": "2025-08-19T15:04:44.106363Z"
    }
   },
   "cell_type": "code",
   "source": [
    "count_rightleft_duplicates = 0\n",
    "\n",
    "for k, v in exact_match_rightleft_dict.items():\n",
    "    if len(v) > 1:\n",
    "        count_rightleft_duplicates += 1"
   ],
   "id": "9f38e74740e6887",
   "outputs": [],
   "execution_count": 104
  },
  {
   "metadata": {
    "ExecuteTime": {
     "end_time": "2025-08-19T15:04:44.117304Z",
     "start_time": "2025-08-19T15:04:44.115245Z"
    }
   },
   "cell_type": "code",
   "source": [
    "print(\"Rightleft Single:\", len(exact_match_rightleft_dict) - count_rightleft_duplicates)\n",
    "print(\"Rightleft Multiple:\",  count_rightleft_duplicates)"
   ],
   "id": "8806b30b10854d17",
   "outputs": [
    {
     "name": "stdout",
     "output_type": "stream",
     "text": [
      "Rightleft Single: 2880\n",
      "Rightleft Multiple: 237\n"
     ]
    }
   ],
   "execution_count": 105
  },
  {
   "metadata": {
    "ExecuteTime": {
     "end_time": "2025-08-19T15:04:44.132090Z",
     "start_time": "2025-08-19T15:04:44.127682Z"
    }
   },
   "cell_type": "code",
   "source": "len(exact_match_rightleft_dict)",
   "id": "1317062400442db5",
   "outputs": [
    {
     "data": {
      "text/plain": [
       "3117"
      ]
     },
     "execution_count": 106,
     "metadata": {},
     "output_type": "execute_result"
    }
   ],
   "execution_count": 106
  },
  {
   "metadata": {
    "ExecuteTime": {
     "end_time": "2025-08-19T15:04:44.145644Z",
     "start_time": "2025-08-19T15:04:44.141690Z"
    }
   },
   "cell_type": "code",
   "source": [
    "for k, v in exact_match_rightleft_dict.items():\n",
    "    if len(v) > 1:\n",
    "        type_right = k.split(\"/\")[4]\n",
    "        keep_left = [item for item in v if item.split(\"/\")[4] == type_right]\n",
    "        if len(keep_left) > 0:\n",
    "            best_match, score, _ = process.extractOne(k, keep_left, scorer=fuzz.ratio)\n",
    "            keep_exact_match.append([best_match, k])\n",
    "    else:\n",
    "        keep_exact_match.append([v[0], k])"
   ],
   "id": "6dc0d44672ce0423",
   "outputs": [],
   "execution_count": 107
  },
  {
   "metadata": {
    "ExecuteTime": {
     "end_time": "2025-08-19T15:04:44.158262Z",
     "start_time": "2025-08-19T15:04:44.155152Z"
    }
   },
   "cell_type": "code",
   "source": "len(keep_exact_match)",
   "id": "76bc605088a657c6",
   "outputs": [
    {
     "data": {
      "text/plain": [
       "3116"
      ]
     },
     "execution_count": 108,
     "metadata": {},
     "output_type": "execute_result"
    }
   ],
   "execution_count": 108
  },
  {
   "metadata": {
    "ExecuteTime": {
     "end_time": "2025-08-19T15:04:44.174894Z",
     "start_time": "2025-08-19T15:04:44.171414Z"
    }
   },
   "cell_type": "code",
   "source": [
    "exact_match_leftright_dict = dict()\n",
    "\n",
    "for kem in keep_exact_match:\n",
    "\n",
    "    if kem[0] in exact_match_leftright_dict:\n",
    "        exact_match_leftright_dict[kem[0]].append(kem[1])\n",
    "    else:\n",
    "        exact_match_leftright_dict[kem[0]] = [kem[1]]"
   ],
   "id": "d504de57b58d3cd1",
   "outputs": [],
   "execution_count": 109
  },
  {
   "metadata": {
    "ExecuteTime": {
     "end_time": "2025-08-19T15:04:44.188689Z",
     "start_time": "2025-08-19T15:04:44.185927Z"
    }
   },
   "cell_type": "code",
   "source": [
    "count_leftright_duplicates = 0\n",
    "\n",
    "for k, v in exact_match_leftright_dict.items():\n",
    "    if len(v) > 1:\n",
    "        count_leftright_duplicates += 1"
   ],
   "id": "f7cebddda721fd6f",
   "outputs": [],
   "execution_count": 110
  },
  {
   "metadata": {
    "ExecuteTime": {
     "end_time": "2025-08-19T15:04:44.195351Z",
     "start_time": "2025-08-19T15:04:44.193147Z"
    }
   },
   "cell_type": "code",
   "source": [
    "print(\"Leftright Single:\", len(exact_match_leftright_dict) - count_leftright_duplicates)\n",
    "print(\"Leftright Multiple:\",  count_leftright_duplicates)"
   ],
   "id": "b3dd7dbc88acdb35",
   "outputs": [
    {
     "name": "stdout",
     "output_type": "stream",
     "text": [
      "Leftright Single: 2264\n",
      "Leftright Multiple: 408\n"
     ]
    }
   ],
   "execution_count": 111
  },
  {
   "metadata": {
    "ExecuteTime": {
     "end_time": "2025-08-19T15:04:44.211542Z",
     "start_time": "2025-08-19T15:04:44.208471Z"
    }
   },
   "cell_type": "code",
   "source": "len(exact_match_leftright_dict)",
   "id": "6b3f9d95bad44a57",
   "outputs": [
    {
     "data": {
      "text/plain": [
       "2672"
      ]
     },
     "execution_count": 112,
     "metadata": {},
     "output_type": "execute_result"
    }
   ],
   "execution_count": 112
  },
  {
   "metadata": {
    "ExecuteTime": {
     "end_time": "2025-08-19T15:04:44.222955Z",
     "start_time": "2025-08-19T15:04:44.221269Z"
    }
   },
   "cell_type": "code",
   "source": "keep_exact_match = list()",
   "id": "c6fc49a58d90afd4",
   "outputs": [],
   "execution_count": 113
  },
  {
   "metadata": {
    "ExecuteTime": {
     "end_time": "2025-08-19T15:04:44.239508Z",
     "start_time": "2025-08-19T15:04:44.235305Z"
    }
   },
   "cell_type": "code",
   "source": [
    "for k, v in exact_match_leftright_dict.items():\n",
    "    if len(v) > 1:\n",
    "        type_left = k.split(\"/\")[4]\n",
    "        keep_right = [item for item in v if item.split(\"/\")[4] == type_left]\n",
    "        if len(keep_right) > 0:\n",
    "            best_match, score, _ = process.extractOne(k, keep_right, scorer=fuzz.ratio)\n",
    "            keep_exact_match.append([k, best_match])\n",
    "    else:\n",
    "        keep_exact_match.append([k, v[0]])"
   ],
   "id": "9751677fc0937a0b",
   "outputs": [],
   "execution_count": 114
  },
  {
   "metadata": {
    "ExecuteTime": {
     "end_time": "2025-08-19T15:04:44.246202Z",
     "start_time": "2025-08-19T15:04:44.243632Z"
    }
   },
   "cell_type": "code",
   "source": "len(keep_exact_match)",
   "id": "4faebf51ba0298e5",
   "outputs": [
    {
     "data": {
      "text/plain": [
       "2670"
      ]
     },
     "execution_count": 115,
     "metadata": {},
     "output_type": "execute_result"
    }
   ],
   "execution_count": 115
  },
  {
   "metadata": {
    "ExecuteTime": {
     "end_time": "2025-08-19T15:04:44.257902Z",
     "start_time": "2025-08-19T15:04:44.254531Z"
    }
   },
   "cell_type": "code",
   "source": [
    "exact_match_leftright_dict = dict()\n",
    "exact_match_rightleft_dict = dict()\n",
    "\n",
    "for em in keep_exact_match:\n",
    "\n",
    "    if em[0] in exact_match_leftright_dict:\n",
    "        exact_match_leftright_dict[em[0]].append(em[1])\n",
    "    else:\n",
    "        exact_match_leftright_dict[em[0]] = [em[1]]\n",
    "\n",
    "    if em[1] in exact_match_rightleft_dict:\n",
    "        exact_match_rightleft_dict[em[1]].append(em[0])\n",
    "    else:\n",
    "        exact_match_rightleft_dict[em[1]] = [em[0]]"
   ],
   "id": "d0fed173cd93d65f",
   "outputs": [],
   "execution_count": 116
  },
  {
   "metadata": {
    "ExecuteTime": {
     "end_time": "2025-08-19T15:04:44.280763Z",
     "start_time": "2025-08-19T15:04:44.277806Z"
    }
   },
   "cell_type": "code",
   "source": [
    "count_leftright_duplicates = 0\n",
    "count_rightleft_duplicates = 0\n",
    "\n",
    "for k, v in exact_match_leftright_dict.items():\n",
    "    if len(v) > 1:\n",
    "        count_leftright_duplicates += 1\n",
    "\n",
    "for k, v in exact_match_rightleft_dict.items():\n",
    "    if len(v) > 1:\n",
    "        count_rightleft_duplicates += 1"
   ],
   "id": "f2ae7ff6cf1284b4",
   "outputs": [],
   "execution_count": 117
  },
  {
   "metadata": {
    "ExecuteTime": {
     "end_time": "2025-08-19T15:04:44.290397Z",
     "start_time": "2025-08-19T15:04:44.287285Z"
    }
   },
   "cell_type": "code",
   "source": "len(keep_exact_match)",
   "id": "d304f968fbc08254",
   "outputs": [
    {
     "data": {
      "text/plain": [
       "2670"
      ]
     },
     "execution_count": 118,
     "metadata": {},
     "output_type": "execute_result"
    }
   ],
   "execution_count": 118
  },
  {
   "metadata": {
    "ExecuteTime": {
     "end_time": "2025-08-19T15:04:44.306870Z",
     "start_time": "2025-08-19T15:04:44.304957Z"
    }
   },
   "cell_type": "code",
   "source": [
    "print(\"Leftright Single:\", len(keep_exact_match) - count_leftright_duplicates)\n",
    "print(\"Leftright Multiple:\",  count_leftright_duplicates)\n",
    "print()\n",
    "print(\"Rightleft Single:\", len(keep_exact_match) - count_rightleft_duplicates)\n",
    "print(\"Rightleft Multiple:\",  count_rightleft_duplicates)"
   ],
   "id": "30d31a210ed260c4",
   "outputs": [
    {
     "name": "stdout",
     "output_type": "stream",
     "text": [
      "Leftright Single: 2670\n",
      "Leftright Multiple: 0\n",
      "\n",
      "Rightleft Single: 2670\n",
      "Rightleft Multiple: 0\n"
     ]
    }
   ],
   "execution_count": 119
  },
  {
   "metadata": {
    "ExecuteTime": {
     "end_time": "2025-08-19T15:04:44.325862Z",
     "start_time": "2025-08-19T15:04:44.318482Z"
    }
   },
   "cell_type": "code",
   "source": [
    "with open(exact_match_deduplicated_file, \"w\") as f:\n",
    "    json.dump(keep_exact_match, f, indent=4)"
   ],
   "id": "61205209963b721f",
   "outputs": [],
   "execution_count": 120
  },
  {
   "metadata": {
    "ExecuteTime": {
     "end_time": "2025-08-19T15:04:44.331925Z",
     "start_time": "2025-08-19T15:04:44.330589Z"
    }
   },
   "cell_type": "code",
   "source": "",
   "id": "a4e0905c4ba0f911",
   "outputs": [],
   "execution_count": null
  }
 ],
 "metadata": {
  "kernelspec": {
   "display_name": "Python 3",
   "language": "python",
   "name": "python3"
  },
  "language_info": {
   "codemirror_mode": {
    "name": "ipython",
    "version": 2
   },
   "file_extension": ".py",
   "mimetype": "text/x-python",
   "name": "python",
   "nbconvert_exporter": "python",
   "pygments_lexer": "ipython2",
   "version": "2.7.6"
  }
 },
 "nbformat": 4,
 "nbformat_minor": 5
}
