{
 "cells": [
  {
   "metadata": {
    "ExecuteTime": {
     "end_time": "2024-11-11T09:29:42.908749Z",
     "start_time": "2024-11-11T09:29:42.514387Z"
    }
   },
   "cell_type": "code",
   "source": [
    "import networkx as nx\n",
    "import pandas as pd\n",
    "from tqdm import tqdm\n",
    "import math"
   ],
   "id": "a9194e37a2cbfedb",
   "outputs": [],
   "execution_count": 1
  },
  {
   "cell_type": "code",
   "id": "initial_id",
   "metadata": {
    "collapsed": true,
    "ExecuteTime": {
     "end_time": "2024-11-11T09:29:50.566683Z",
     "start_time": "2024-11-11T09:29:50.561943Z"
    }
   },
   "source": [
    "graph = \"stexpanded\"\n",
    "community_algorithm = \"bigclam\"\n",
    "\n",
    "graph_file = \"data/filtered_triples_weighted/\" + graph + \".triples\"\n",
    "communities_file = \"./results/communities_\" + community_algorithm + \"/\" + graph + \"_10000.txt\""
   ],
   "outputs": [],
   "execution_count": 2
  },
  {
   "metadata": {
    "ExecuteTime": {
     "end_time": "2024-11-08T09:58:51.704422Z",
     "start_time": "2024-11-08T09:58:50.457634Z"
    }
   },
   "cell_type": "code",
   "source": [
    "graph_df = pd.read_csv(graph_file, sep=\"###\", engine=\"python\", header=None)\n",
    "G = nx.Graph()\n",
    "for row in graph_df.itertuples():\n",
    "    G.add_edge(int(row[1]), int(row[2]))\n",
    "    # G.add_edge(int(row[1]), int(row[2]), weight=int(row[3]))\n",
    "\n",
    "communities = []\n",
    "with open(communities_file) as cf:\n",
    "    for line in cf:\n",
    "        numbers_set = {int(num) for num in line.strip().split(\"\\t\")}\n",
    "        communities.append(numbers_set)"
   ],
   "id": "ad48ee73b3cf95f0",
   "outputs": [],
   "execution_count": 55
  },
  {
   "metadata": {
    "ExecuteTime": {
     "end_time": "2024-11-08T09:58:51.736378Z",
     "start_time": "2024-11-08T09:58:51.727941Z"
    }
   },
   "cell_type": "code",
   "source": [
    "community_vector = pd.DataFrame({'id': sorted(G.nodes)})\n",
    "# print(community_vector)"
   ],
   "id": "5c43278505a3017b",
   "outputs": [],
   "execution_count": 56
  },
  {
   "metadata": {},
   "cell_type": "markdown",
   "source": [
    "### Community degree centrality\n",
    "Community degree centrality measures the importance of a node within its own community by counting the number of connections it has with other nodes in the same community, highlighting its influence locally rather than across the entire network."
   ],
   "id": "d9356fddd5271fb4"
  },
  {
   "metadata": {
    "ExecuteTime": {
     "end_time": "2024-11-08T09:58:53.391093Z",
     "start_time": "2024-11-08T09:58:53.384915Z"
    }
   },
   "cell_type": "code",
   "source": [
    "def overlapping_community_degree_centrality(G, communities):\n",
    "    centrality_scores = {}\n",
    "    for community in communities:\n",
    "        subgraph = G.subgraph(community)\n",
    "        centrality = nx.degree_centrality(subgraph)\n",
    "        for node, score in centrality.items():\n",
    "            centrality_scores.setdefault(node, []).append(score)\n",
    "    return {node: sum(scores) / len(scores) for node, scores in centrality_scores.items()}"
   ],
   "id": "f975d7a082ac03e3",
   "outputs": [],
   "execution_count": 57
  },
  {
   "metadata": {
    "ExecuteTime": {
     "end_time": "2024-11-08T09:58:58.369597Z",
     "start_time": "2024-11-08T09:58:53.988186Z"
    }
   },
   "cell_type": "code",
   "source": "centrality_dict = overlapping_community_degree_centrality(G, communities)",
   "id": "67441f453d07f4d6",
   "outputs": [],
   "execution_count": 58
  },
  {
   "metadata": {
    "ExecuteTime": {
     "end_time": "2024-11-08T09:58:59.210112Z",
     "start_time": "2024-11-08T09:58:59.199015Z"
    }
   },
   "cell_type": "code",
   "source": "community_vector['degree_centrality'] = community_vector['id'].map(centrality_dict)",
   "id": "ea5bde808d787a3",
   "outputs": [],
   "execution_count": 59
  },
  {
   "metadata": {},
   "cell_type": "markdown",
   "source": [
    "### Community betweenness centrality\n",
    "Community betweenness centrality measures how often a node acts as a bridge within its community, connecting different parts of the community by appearing on the shortest paths between other nodes within the same community."
   ],
   "id": "8c628fd3384491dd"
  },
  {
   "metadata": {
    "ExecuteTime": {
     "end_time": "2024-11-08T09:59:00.915166Z",
     "start_time": "2024-11-08T09:59:00.907840Z"
    }
   },
   "cell_type": "code",
   "source": [
    "def overlapping_community_betweenness_centrality(G, communities):\n",
    "    centrality_scores = {}\n",
    "    for community in tqdm(communities):\n",
    "        subgraph = G.subgraph(community)\n",
    "        centrality = nx.betweenness_centrality(subgraph)\n",
    "        for node, score in centrality.items():\n",
    "            centrality_scores.setdefault(node, []).append(score)\n",
    "    return {node: sum(scores) / len(scores) for node, scores in centrality_scores.items()}"
   ],
   "id": "e6a6fed79ec42a52",
   "outputs": [],
   "execution_count": 60
  },
  {
   "metadata": {
    "ExecuteTime": {
     "end_time": "2024-11-08T10:01:20.871550Z",
     "start_time": "2024-11-08T09:59:02.384487Z"
    }
   },
   "cell_type": "code",
   "source": "centrality_dict = overlapping_community_betweenness_centrality(G, communities)",
   "id": "335fb47c33fd338e",
   "outputs": [
    {
     "name": "stderr",
     "output_type": "stream",
     "text": [
      "100%|██████████| 9496/9496 [02:18<00:00, 68.57it/s]  \n"
     ]
    }
   ],
   "execution_count": 61
  },
  {
   "metadata": {
    "ExecuteTime": {
     "end_time": "2024-11-08T10:01:20.893083Z",
     "start_time": "2024-11-08T10:01:20.882466Z"
    }
   },
   "cell_type": "code",
   "source": "community_vector['betweenness_centrality'] = community_vector['id'].map(centrality_dict)",
   "id": "4a4d7ce892b4032e",
   "outputs": [],
   "execution_count": 62
  },
  {
   "metadata": {},
   "cell_type": "markdown",
   "source": [
    "### Community closeness centrality\n",
    "Community closeness centrality measures how quickly a node can reach other nodes within its own community, calculated by the average shortest path distance to all other nodes in that community."
   ],
   "id": "7c40311650997636"
  },
  {
   "metadata": {
    "ExecuteTime": {
     "end_time": "2024-11-08T10:01:20.942904Z",
     "start_time": "2024-11-08T10:01:20.938936Z"
    }
   },
   "cell_type": "code",
   "source": [
    "def overlapping_community_closeness_centrality(G, communities):\n",
    "    centrality_scores = {}\n",
    "    for community in tqdm(communities):\n",
    "        subgraph = G.subgraph(community)\n",
    "        centrality = nx.closeness_centrality(subgraph)\n",
    "        for node, score in centrality.items():\n",
    "            centrality_scores.setdefault(node, []).append(score)\n",
    "    return {node: sum(scores) / len(scores) for node, scores in centrality_scores.items()}"
   ],
   "id": "ab2badc0fc96f593",
   "outputs": [],
   "execution_count": 63
  },
  {
   "metadata": {
    "ExecuteTime": {
     "end_time": "2024-11-08T10:02:46.803340Z",
     "start_time": "2024-11-08T10:01:20.974531Z"
    }
   },
   "cell_type": "code",
   "source": "centrality_dict = overlapping_community_closeness_centrality(G, communities)",
   "id": "5208cbe03ea918e3",
   "outputs": [
    {
     "name": "stderr",
     "output_type": "stream",
     "text": [
      "100%|██████████| 9496/9496 [01:25<00:00, 110.65it/s] \n"
     ]
    }
   ],
   "execution_count": 64
  },
  {
   "metadata": {
    "ExecuteTime": {
     "end_time": "2024-11-08T10:02:46.822649Z",
     "start_time": "2024-11-08T10:02:46.812597Z"
    }
   },
   "cell_type": "code",
   "source": "community_vector['closeness_centrality'] = community_vector['id'].map(centrality_dict)",
   "id": "a59ff1451993a390",
   "outputs": [],
   "execution_count": 65
  },
  {
   "metadata": {},
   "cell_type": "markdown",
   "source": "### Community vector v1",
   "id": "b5b1989ca0772805"
  },
  {
   "metadata": {
    "ExecuteTime": {
     "end_time": "2024-11-08T10:02:46.905296Z",
     "start_time": "2024-11-08T10:02:46.847474Z"
    }
   },
   "cell_type": "code",
   "source": "community_vector.to_csv(\"results/community_vectors/\" + graph + \".csv\", sep=';', index=False)",
   "id": "798dfc53ac0b52d7",
   "outputs": [],
   "execution_count": 66
  },
  {
   "metadata": {
    "ExecuteTime": {
     "end_time": "2024-11-08T10:09:26.780289Z",
     "start_time": "2024-11-08T10:09:26.748178Z"
    }
   },
   "cell_type": "code",
   "source": "community_vector = pd.read_csv(\"results/community_vectors/\" + graph + \"_v1.csv\", sep=';')",
   "id": "95544656859fd64a",
   "outputs": [],
   "execution_count": 67
  },
  {
   "metadata": {},
   "cell_type": "markdown",
   "source": [
    "### Overlapping participation coefficient\n",
    "The overlapping participation coefficient measures the extent to which a node is evenly connected across multiple communities, indicating whether it plays a bridging role by participating in several communities or is primarily focused within one."
   ],
   "id": "f4c8ceb50fe619bf"
  },
  {
   "metadata": {
    "ExecuteTime": {
     "end_time": "2024-11-08T10:09:28.352111Z",
     "start_time": "2024-11-08T10:09:28.348700Z"
    }
   },
   "cell_type": "code",
   "source": [
    "def overlapping_participation_coefficient(G, communities):\n",
    "    node_community_map = {node: set() for node in G.nodes()}\n",
    "    for i, community in enumerate(communities):\n",
    "        for node in community:\n",
    "            node_community_map[node].add(i)\n",
    "    participation_scores = {}\n",
    "    for node in G.nodes():\n",
    "        community_set = node_community_map[node]\n",
    "        if not community_set:\n",
    "            participation_scores[node] = math.nan\n",
    "            continue\n",
    "        external_links = sum(1 for neighbor in G.neighbors(node) if not node_community_map[neighbor].issubset(community_set))\n",
    "        total_links = len(list(G.neighbors(node)))\n",
    "        participation_scores[node] = external_links / total_links if total_links > 0 else 0\n",
    "    return participation_scores"
   ],
   "id": "9410558301ee79b6",
   "outputs": [],
   "execution_count": 68
  },
  {
   "metadata": {
    "ExecuteTime": {
     "end_time": "2024-11-08T10:09:29.122066Z",
     "start_time": "2024-11-08T10:09:28.879392Z"
    }
   },
   "cell_type": "code",
   "source": "centrality_dict = overlapping_participation_coefficient(G, communities)",
   "id": "140ede74a15196c5",
   "outputs": [],
   "execution_count": 69
  },
  {
   "metadata": {
    "ExecuteTime": {
     "end_time": "2024-11-08T10:09:29.900716Z",
     "start_time": "2024-11-08T10:09:29.868647Z"
    }
   },
   "cell_type": "code",
   "source": "community_vector['participation_coefficient'] = community_vector['id'].map(centrality_dict)",
   "id": "9703e2addd00d0c5",
   "outputs": [],
   "execution_count": 70
  },
  {
   "metadata": {},
   "cell_type": "markdown",
   "source": [
    "### Community affiliation index\n",
    "The community affiliation index quantifies the strength of a node’s membership within a particular community, often based on the number and intensity of its connections to other nodes within that community relative to those outside it."
   ],
   "id": "d8be9e673c8a887b"
  },
  {
   "metadata": {
    "ExecuteTime": {
     "end_time": "2024-11-08T10:09:31.081024Z",
     "start_time": "2024-11-08T10:09:31.070214Z"
    }
   },
   "cell_type": "code",
   "source": [
    "def community_affiliation_index(G, communities):\n",
    "    node_community_map = {node: set() for node in G.nodes()}\n",
    "    for i, community in enumerate(communities):\n",
    "        for node in community:\n",
    "            node_community_map[node].add(i)\n",
    "    cai_scores = {}\n",
    "    for node in G.nodes():\n",
    "        community_set = node_community_map[node]\n",
    "        if not community_set:\n",
    "            cai_scores[node] = math.nan\n",
    "            continue\n",
    "        intra_edges = sum(1 for neighbor in G.neighbors(node) if node_community_map[neighbor].intersection(node_community_map[node]))\n",
    "        total_edges = len(list(G.neighbors(node)))\n",
    "        cai_scores[node] = intra_edges / total_edges if total_edges > 0 else 0\n",
    "    return cai_scores"
   ],
   "id": "2239a971cb337e1d",
   "outputs": [],
   "execution_count": 71
  },
  {
   "metadata": {
    "ExecuteTime": {
     "end_time": "2024-11-08T10:09:32.187661Z",
     "start_time": "2024-11-08T10:09:31.963098Z"
    }
   },
   "cell_type": "code",
   "source": "centrality_dict = community_affiliation_index(G, communities)",
   "id": "9dfc4695d21c0d8c",
   "outputs": [],
   "execution_count": 72
  },
  {
   "metadata": {
    "ExecuteTime": {
     "end_time": "2024-11-08T10:09:32.778967Z",
     "start_time": "2024-11-08T10:09:32.769918Z"
    }
   },
   "cell_type": "code",
   "source": "community_vector['community_affiliation_index'] = community_vector['id'].map(centrality_dict)",
   "id": "4acd8f5845fc0e40",
   "outputs": [],
   "execution_count": 73
  },
  {
   "metadata": {},
   "cell_type": "markdown",
   "source": [
    "### Overlapping node modularity\n",
    "Overlapping node modularity assesses how well a node’s connections are grouped within its multiple community affiliations, measuring the extent to which its connections are dense within each community compared to between communities."
   ],
   "id": "306724caf91b3e29"
  },
  {
   "metadata": {
    "ExecuteTime": {
     "end_time": "2024-11-08T10:09:33.847834Z",
     "start_time": "2024-11-08T10:09:33.841338Z"
    }
   },
   "cell_type": "code",
   "source": [
    "def overlapping_node_modularity(G, communities):\n",
    "    node_community_map = {node: set() for node in G.nodes()}\n",
    "    for i, community in enumerate(communities):\n",
    "        for node in community:\n",
    "            node_community_map[node].add(i)\n",
    "    modularity_scores = {node: 0 for node in G.nodes()}\n",
    "    total_edges = G.number_of_edges()\n",
    "    for community in communities:\n",
    "        internal_edges = G.subgraph(community).number_of_edges()\n",
    "        community_modularity = internal_edges / total_edges - (len(community) / (2 * total_edges)) ** 2\n",
    "        for node in community:\n",
    "            modularity_scores[node] += community_modularity / len(node_community_map[node])\n",
    "    for node in G.nodes():\n",
    "        if not node_community_map[node]:\n",
    "            modularity_scores[node] = math.nan\n",
    "    return modularity_scores"
   ],
   "id": "5b57151789deed5",
   "outputs": [],
   "execution_count": 74
  },
  {
   "metadata": {
    "ExecuteTime": {
     "end_time": "2024-11-08T10:09:38.851823Z",
     "start_time": "2024-11-08T10:09:34.435809Z"
    }
   },
   "cell_type": "code",
   "source": "centrality_dict = overlapping_node_modularity(G, communities)",
   "id": "20de5003ba386a24",
   "outputs": [],
   "execution_count": 75
  },
  {
   "metadata": {
    "ExecuteTime": {
     "end_time": "2024-11-08T10:09:39.843099Z",
     "start_time": "2024-11-08T10:09:39.828675Z"
    }
   },
   "cell_type": "code",
   "source": "community_vector['overlapping_node_modularity'] = community_vector['id'].map(centrality_dict)",
   "id": "f9d7447661878b34",
   "outputs": [],
   "execution_count": 76
  },
  {
   "metadata": {},
   "cell_type": "markdown",
   "source": "### Community vector v2",
   "id": "cd2141c3759acb2a"
  },
  {
   "metadata": {
    "ExecuteTime": {
     "end_time": "2024-11-08T10:09:41.771278Z",
     "start_time": "2024-11-08T10:09:41.681983Z"
    }
   },
   "cell_type": "code",
   "source": "community_vector.to_csv(\"results/community_vectors/\" + graph + \".csv\", sep=';', index=False)",
   "id": "a71b6b067f0249fd",
   "outputs": [],
   "execution_count": 77
  },
  {
   "metadata": {
    "ExecuteTime": {
     "end_time": "2024-11-11T09:29:59.798746Z",
     "start_time": "2024-11-11T09:29:59.763170Z"
    }
   },
   "cell_type": "code",
   "source": "community_vector = pd.read_csv(\"results/community_vectors/\" + graph + \"_v2.csv\", sep=';')",
   "id": "e8d161f24570fe2b",
   "outputs": [],
   "execution_count": 3
  },
  {
   "metadata": {},
   "cell_type": "code",
   "outputs": [],
   "execution_count": null,
   "source": "",
   "id": "84248da7d236ec21"
  }
 ],
 "metadata": {
  "kernelspec": {
   "display_name": "Python 3",
   "language": "python",
   "name": "python3"
  },
  "language_info": {
   "codemirror_mode": {
    "name": "ipython",
    "version": 2
   },
   "file_extension": ".py",
   "mimetype": "text/x-python",
   "name": "python",
   "nbconvert_exporter": "python",
   "pygments_lexer": "ipython2",
   "version": "2.7.6"
  }
 },
 "nbformat": 4,
 "nbformat_minor": 5
}
