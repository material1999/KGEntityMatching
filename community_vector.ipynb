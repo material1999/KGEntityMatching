{
 "cells": [
  {
   "metadata": {
    "ExecuteTime": {
     "end_time": "2024-10-28T13:45:17.902381Z",
     "start_time": "2024-10-28T13:45:17.377338Z"
    }
   },
   "cell_type": "code",
   "source": [
    "import networkx as nx\n",
    "import pandas as pd\n",
    "from tqdm import tqdm"
   ],
   "id": "a9194e37a2cbfedb",
   "outputs": [],
   "execution_count": 1
  },
  {
   "cell_type": "code",
   "id": "initial_id",
   "metadata": {
    "collapsed": true,
    "ExecuteTime": {
     "end_time": "2024-10-28T13:45:18.626996Z",
     "start_time": "2024-10-28T13:45:18.604783Z"
    }
   },
   "source": [
    "graph = \"stexpanded\"\n",
    "community_algorithm = \"bigclam\"\n",
    "\n",
    "graph_file = \"data/filtered_triples_weighted/\" + graph + \".triples\"\n",
    "communities_file = \"./results/communities_\" + community_algorithm + \"/\" + graph + \"_10000.txt\""
   ],
   "outputs": [],
   "execution_count": 2
  },
  {
   "metadata": {
    "ExecuteTime": {
     "end_time": "2024-10-28T13:45:20.943843Z",
     "start_time": "2024-10-28T13:45:19.377294Z"
    }
   },
   "cell_type": "code",
   "source": [
    "graph_df = pd.read_csv(graph_file, sep=\"###\", engine=\"python\", header=None)\n",
    "G = nx.Graph()\n",
    "for row in graph_df.itertuples():\n",
    "    G.add_edge(int(row[1]), int(row[2]))\n",
    "    # G.add_edge(int(row[1]), int(row[2]), weight=int(row[3]))\n",
    "\n",
    "communities = []\n",
    "with open(communities_file) as cf:\n",
    "    for line in cf:\n",
    "        numbers_set = {int(num) for num in line.strip().split(\"\\t\")}\n",
    "        communities.append(numbers_set)\n",
    "\n",
    "community_vector = pd.DataFrame({'id': sorted(G.nodes)})"
   ],
   "id": "ad48ee73b3cf95f0",
   "outputs": [],
   "execution_count": 3
  },
  {
   "metadata": {
    "ExecuteTime": {
     "end_time": "2024-10-28T13:45:21.569394Z",
     "start_time": "2024-10-28T13:45:21.565123Z"
    }
   },
   "cell_type": "code",
   "source": "# print(community_vector)",
   "id": "5c43278505a3017b",
   "outputs": [],
   "execution_count": 4
  },
  {
   "metadata": {
    "ExecuteTime": {
     "end_time": "2024-10-28T13:45:21.999770Z",
     "start_time": "2024-10-28T13:45:21.994033Z"
    }
   },
   "cell_type": "code",
   "source": [
    "def overlapping_community_degree_centrality(G, communities):\n",
    "    centrality_scores = {}\n",
    "    for community in communities:\n",
    "        subgraph = G.subgraph(community)\n",
    "        centrality = nx.degree_centrality(subgraph)\n",
    "        for node, score in centrality.items():\n",
    "            centrality_scores.setdefault(node, []).append(score)\n",
    "    return {node: sum(scores) / len(scores) for node, scores in centrality_scores.items()}"
   ],
   "id": "f975d7a082ac03e3",
   "outputs": [],
   "execution_count": 5
  },
  {
   "metadata": {
    "ExecuteTime": {
     "end_time": "2024-10-28T13:45:31.540439Z",
     "start_time": "2024-10-28T13:45:22.666052Z"
    }
   },
   "cell_type": "code",
   "source": "centrality_dict = overlapping_community_degree_centrality(G, communities)",
   "id": "67441f453d07f4d6",
   "outputs": [],
   "execution_count": 6
  },
  {
   "metadata": {
    "ExecuteTime": {
     "end_time": "2024-10-28T13:45:32.974766Z",
     "start_time": "2024-10-28T13:45:32.960826Z"
    }
   },
   "cell_type": "code",
   "source": "community_vector['degree_centrality'] = community_vector['id'].map(centrality_dict)",
   "id": "ea5bde808d787a3",
   "outputs": [],
   "execution_count": 7
  },
  {
   "metadata": {
    "ExecuteTime": {
     "end_time": "2024-10-28T13:46:29.282543Z",
     "start_time": "2024-10-28T13:46:29.275581Z"
    }
   },
   "cell_type": "code",
   "source": [
    "def overlapping_community_betweenness_centrality(G, communities):\n",
    "    centrality_scores = {}\n",
    "    for community in tqdm(communities):\n",
    "        subgraph = G.subgraph(community)\n",
    "        centrality = nx.betweenness_centrality(subgraph)\n",
    "        for node, score in centrality.items():\n",
    "            centrality_scores.setdefault(node, []).append(score)\n",
    "    return {node: sum(scores) / len(scores) for node, scores in centrality_scores.items()}"
   ],
   "id": "e6a6fed79ec42a52",
   "outputs": [],
   "execution_count": 8
  },
  {
   "metadata": {
    "ExecuteTime": {
     "end_time": "2024-10-28T13:49:56.892096Z",
     "start_time": "2024-10-28T13:46:31.708142Z"
    }
   },
   "cell_type": "code",
   "source": "centrality_dict = overlapping_community_betweenness_centrality(G, communities)",
   "id": "335fb47c33fd338e",
   "outputs": [
    {
     "name": "stderr",
     "output_type": "stream",
     "text": [
      "100%|██████████| 9635/9635 [03:25<00:00, 46.99it/s] \n"
     ]
    }
   ],
   "execution_count": 9
  },
  {
   "metadata": {
    "ExecuteTime": {
     "end_time": "2024-10-28T13:50:04.742325Z",
     "start_time": "2024-10-28T13:50:04.729703Z"
    }
   },
   "cell_type": "code",
   "source": "community_vector['betweenness_centrality'] = community_vector['id'].map(centrality_dict)",
   "id": "4a4d7ce892b4032e",
   "outputs": [],
   "execution_count": 10
  },
  {
   "metadata": {
    "ExecuteTime": {
     "end_time": "2024-10-28T13:50:32.260361Z",
     "start_time": "2024-10-28T13:50:32.253414Z"
    }
   },
   "cell_type": "code",
   "source": [
    "def overlapping_community_closeness_centrality(G, communities):\n",
    "    centrality_scores = {}\n",
    "    for community in tqdm(communities):\n",
    "        subgraph = G.subgraph(community)\n",
    "        centrality = nx.closeness_centrality(subgraph)\n",
    "        for node, score in centrality.items():\n",
    "            centrality_scores.setdefault(node, []).append(score)\n",
    "    return {node: sum(scores) / len(scores) for node, scores in centrality_scores.items()}"
   ],
   "id": "ab2badc0fc96f593",
   "outputs": [],
   "execution_count": 11
  },
  {
   "metadata": {
    "ExecuteTime": {
     "end_time": "2024-10-28T13:52:18.429386Z",
     "start_time": "2024-10-28T13:50:36.151031Z"
    }
   },
   "cell_type": "code",
   "source": "centrality_dict = overlapping_community_closeness_centrality(G, communities)",
   "id": "5208cbe03ea918e3",
   "outputs": [
    {
     "name": "stderr",
     "output_type": "stream",
     "text": [
      "100%|██████████| 9635/9635 [01:42<00:00, 94.22it/s] \n"
     ]
    }
   ],
   "execution_count": 12
  },
  {
   "metadata": {
    "ExecuteTime": {
     "end_time": "2024-10-28T13:52:23.158524Z",
     "start_time": "2024-10-28T13:52:23.140885Z"
    }
   },
   "cell_type": "code",
   "source": "community_vector['closeness_centrality'] = community_vector['id'].map(centrality_dict)",
   "id": "a59ff1451993a390",
   "outputs": [],
   "execution_count": 13
  },
  {
   "metadata": {
    "ExecuteTime": {
     "end_time": "2024-10-28T13:59:31.336402Z",
     "start_time": "2024-10-28T13:59:31.228032Z"
    }
   },
   "cell_type": "code",
   "source": "community_vector.to_csv('results/community_vector.csv', sep=';', index=False)",
   "id": "798dfc53ac0b52d7",
   "outputs": [],
   "execution_count": 15
  },
  {
   "metadata": {},
   "cell_type": "code",
   "outputs": [],
   "execution_count": null,
   "source": "",
   "id": "9410558301ee79b6"
  }
 ],
 "metadata": {
  "kernelspec": {
   "display_name": "Python 3",
   "language": "python",
   "name": "python3"
  },
  "language_info": {
   "codemirror_mode": {
    "name": "ipython",
    "version": 2
   },
   "file_extension": ".py",
   "mimetype": "text/x-python",
   "name": "python",
   "nbconvert_exporter": "python",
   "pygments_lexer": "ipython2",
   "version": "2.7.6"
  }
 },
 "nbformat": 4,
 "nbformat_minor": 5
}
