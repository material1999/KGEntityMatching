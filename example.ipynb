{
 "cells": [
  {
   "cell_type": "code",
   "id": "initial_id",
   "metadata": {
    "collapsed": true,
    "ExecuteTime": {
     "end_time": "2024-10-04T11:47:59.456535Z",
     "start_time": "2024-10-04T11:47:52.607760Z"
    }
   },
   "source": [
    "import json\n",
    "import re\n",
    "\n",
    "# Load the mappings\n",
    "with open('data/triples_v2/memoryalpha_mapping.json', 'r') as f:\n",
    "    memoryalpha_mapping = json.load(f)\n",
    "\n",
    "with open('data/triples_v2/stexpanded_mapping.json', 'r') as f:\n",
    "    stexpanded_mapping = json.load(f)\n",
    "\n",
    "# Reverse the mappings (so we can look up by ID)\n",
    "memoryalpha_mapping = {v: k for k, v in memoryalpha_mapping.items()}\n",
    "stexpanded_mapping = {v: k for k, v in stexpanded_mapping.items()}\n",
    "\n",
    "# Function to replace IDs with strings\n",
    "def replace_ids(data, mapping):\n",
    "    pattern = re.compile(r'\\d+')\n",
    "    return pattern.sub(lambda x: mapping.get(int(x.group()), x.group()), data)\n",
    "\n",
    "# Load the data from memoryalpha-stexpanded.json\n",
    "with open('data/similarity_exact_match/memoryalpha-stexpanded.json', 'r') as f:\n",
    "    data = json.load(f)\n",
    "\n",
    "# Iterate over the data and replace IDs\n",
    "for item in data:\n",
    "    memoryalpha_ids = item[0]\n",
    "    stexpanded_ids = item[1]\n",
    "\n",
    "    # Replace IDs for memoryalpha and stexpanded\n",
    "    item[0] = replace_ids(memoryalpha_ids, memoryalpha_mapping)\n",
    "    item[1] = replace_ids(stexpanded_ids, stexpanded_mapping)\n",
    "\n",
    "# Save the modified data\n",
    "with open('data/similarity_exact_match/memoryalpha-stexpanded-modified.json', 'w') as f:\n",
    "    json.dump(data, f, indent=4)\n",
    "\n",
    "print(\"ID replacement completed and saved to 'memoryalpha-stexpanded-modified.json'\")"
   ],
   "outputs": [
    {
     "name": "stdout",
     "output_type": "stream",
     "text": [
      "ID replacement completed and saved to 'memoryalpha-stexpanded-modified.json'\n"
     ]
    }
   ],
   "execution_count": 1
  },
  {
   "metadata": {
    "ExecuteTime": {
     "end_time": "2024-10-04T11:49:15.464632Z",
     "start_time": "2024-10-04T11:49:08.202644Z"
    }
   },
   "cell_type": "code",
   "source": [
    "import json\n",
    "import re\n",
    "\n",
    "# Load the mappings\n",
    "with open('data/triples_v2/memoryalpha_mapping.json', 'r') as f:\n",
    "    memoryalpha_mapping = json.load(f)\n",
    "\n",
    "with open('data/triples_v2/stexpanded_mapping.json', 'r') as f:\n",
    "    stexpanded_mapping = json.load(f)\n",
    "\n",
    "# Reverse the mappings (so we can look up by ID)\n",
    "memoryalpha_mapping = {v: k for k, v in memoryalpha_mapping.items()}\n",
    "stexpanded_mapping = {v: k for k, v in stexpanded_mapping.items()}\n",
    "\n",
    "# Function to replace IDs with strings\n",
    "def replace_ids(id_set, mapping):\n",
    "    # Remove curly braces, split by commas, and strip spaces\n",
    "    ids = re.findall(r'\\d+', id_set)\n",
    "    return [mapping.get(int(id_), id_) for id_ in ids]\n",
    "\n",
    "# Load the data from memoryalpha-stexpanded.json\n",
    "with open('data/similarity_exact_match/memoryalpha-stexpanded.json', 'r') as f:\n",
    "    data = json.load(f)\n",
    "\n",
    "# Iterate over the data and replace IDs\n",
    "for item in data:\n",
    "    memoryalpha_ids = item[0]\n",
    "    stexpanded_ids = item[1]\n",
    "\n",
    "    # Replace IDs for memoryalpha and stexpanded and format as lists\n",
    "    item[0] = replace_ids(memoryalpha_ids, memoryalpha_mapping)\n",
    "    item[1] = replace_ids(stexpanded_ids, stexpanded_mapping)\n",
    "\n",
    "# Save the modified data\n",
    "with open('data/similarity_exact_match/memoryalpha-stexpanded-modified.json', 'w') as f:\n",
    "    json.dump(data, f, indent=4)\n",
    "\n",
    "print(\"ID replacement completed and saved to 'memoryalpha-stexpanded-modified.json'\")"
   ],
   "id": "2b77567d5952a00c",
   "outputs": [
    {
     "name": "stdout",
     "output_type": "stream",
     "text": [
      "ID replacement completed and saved to 'memoryalpha-stexpanded-modified.json'\n"
     ]
    }
   ],
   "execution_count": 3
  },
  {
   "metadata": {
    "ExecuteTime": {
     "end_time": "2024-10-04T11:50:12.009955Z",
     "start_time": "2024-10-04T11:50:08.613370Z"
    }
   },
   "cell_type": "code",
   "source": [
    "import json\n",
    "import re\n",
    "\n",
    "# Load the mappings\n",
    "with open('data/triples_v2/memoryalpha_mapping.json', 'r') as f:\n",
    "    memoryalpha_mapping = json.load(f)\n",
    "\n",
    "with open('data/triples_v2/stexpanded_mapping.json', 'r') as f:\n",
    "    stexpanded_mapping = json.load(f)\n",
    "\n",
    "# Reverse the mappings (so we can look up by ID)\n",
    "memoryalpha_mapping = {v: k for k, v in memoryalpha_mapping.items()}\n",
    "stexpanded_mapping = {v: k for k, v in stexpanded_mapping.items()}\n",
    "\n",
    "# Function to replace IDs with strings\n",
    "def replace_ids(id_set, mapping):\n",
    "    ids = re.findall(r'\\d+', id_set)\n",
    "    return [mapping.get(int(id_), id_) for id_ in ids]\n",
    "\n",
    "# Load the data from memoryalpha-stexpanded.json\n",
    "with open('data/similarity_exact_match/memoryalpha-stexpanded.json', 'r') as f:\n",
    "    data = json.load(f)\n",
    "\n",
    "# URL conditions for filtering\n",
    "memoryalpha_condition = \"http://dbkwik.webdatacommons.org/memory-alpha.wikia.com/resource/Deep_Space_9_visitors\"\n",
    "stexpanded_condition = \"http://dbkwik.webdatacommons.org/stexpanded.wikia.com/resource/Venturi\"\n",
    "\n",
    "# Iterate over the data and replace IDs\n",
    "filtered_data = []\n",
    "for item in data:\n",
    "    memoryalpha_ids = item[0]\n",
    "    stexpanded_ids = item[1]\n",
    "\n",
    "    # Replace IDs for memoryalpha and stexpanded and format as lists\n",
    "    item[0] = replace_ids(memoryalpha_ids, memoryalpha_mapping)\n",
    "    item[1] = replace_ids(stexpanded_ids, stexpanded_mapping)\n",
    "\n",
    "    # Filter items based on the given conditions\n",
    "    if memoryalpha_condition in item[0] and stexpanded_condition in item[1]:\n",
    "        filtered_data.append(item)\n",
    "\n",
    "# Save the filtered data\n",
    "with open('data/similarity_exact_match/memoryalpha-stexpanded-filtered.json', 'w') as f:\n",
    "    json.dump(filtered_data, f, indent=4)\n",
    "\n",
    "print(\"Filtered data saved to 'memoryalpha-stexpanded-filtered.json'\")"
   ],
   "id": "ef1f79e3435eb4cc",
   "outputs": [
    {
     "name": "stdout",
     "output_type": "stream",
     "text": [
      "Filtered data saved to 'memoryalpha-stexpanded-filtered.json'\n"
     ]
    }
   ],
   "execution_count": 5
  },
  {
   "metadata": {},
   "cell_type": "code",
   "source": "",
   "id": "d0dac1c812a11d6c",
   "outputs": [],
   "execution_count": null
  }
 ],
 "metadata": {
  "kernelspec": {
   "display_name": "Python 3",
   "language": "python",
   "name": "python3"
  },
  "language_info": {
   "codemirror_mode": {
    "name": "ipython",
    "version": 2
   },
   "file_extension": ".py",
   "mimetype": "text/x-python",
   "name": "python",
   "nbconvert_exporter": "python",
   "pygments_lexer": "ipython2",
   "version": "2.7.6"
  }
 },
 "nbformat": 4,
 "nbformat_minor": 5
}
