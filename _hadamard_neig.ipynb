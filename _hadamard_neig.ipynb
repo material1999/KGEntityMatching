{
 "cells": [
  {
   "cell_type": "code",
   "id": "initial_id",
   "metadata": {
    "collapsed": true,
    "ExecuteTime": {
     "end_time": "2025-05-27T10:48:47.673618Z",
     "start_time": "2025-05-27T10:48:47.656885Z"
    }
   },
   "source": [
    "import json\n",
    "import numpy as np"
   ],
   "outputs": [],
   "execution_count": 7
  },
  {
   "metadata": {
    "ExecuteTime": {
     "end_time": "2025-05-27T10:48:47.687716Z",
     "start_time": "2025-05-27T10:48:47.684042Z"
    }
   },
   "cell_type": "code",
   "source": [
    "graph = \"memoryalpha\"\n",
    "\n",
    "embeddings = \"dogtag_bgelarge\"\n",
    "communities = \"leiden\""
   ],
   "id": "d87649d0a3987683",
   "outputs": [],
   "execution_count": 8
  },
  {
   "metadata": {
    "ExecuteTime": {
     "end_time": "2025-05-27T10:48:47.769584Z",
     "start_time": "2025-05-27T10:48:47.764124Z"
    }
   },
   "cell_type": "code",
   "source": [
    "communities_file = \"./_input/communities/\" + communities + \"/\" + graph + \".txt\"\n",
    "\n",
    "node_embeddings_file = \"./_input/node_embeddings/\" + embeddings + \"/\" + graph + \".json\"\n",
    "communitiy_embeddings_file = \"./_input/community_embeddings/\" + communities + \"_\" + embeddings + \"/\" + graph + \".json\"\n",
    "neighborhood_embeddings_file = \"./_input/neighborhood_embeddings/\" + embeddings + \"/\" + graph + \".json\"\n",
    "\n",
    "hadamard_embeddings_file = \"./_input/hadamard_neig_embeddings/\" + communities + \"_\" + embeddings + \"/\" + graph + \".json\""
   ],
   "id": "9b4a6dcbcf0757b2",
   "outputs": [],
   "execution_count": 9
  },
  {
   "metadata": {
    "ExecuteTime": {
     "end_time": "2025-05-27T10:49:34.570167Z",
     "start_time": "2025-05-27T10:48:47.800410Z"
    }
   },
   "cell_type": "code",
   "source": [
    "with open(communities_file) as cf:\n",
    "    comms = []\n",
    "    for line in cf:\n",
    "        numbers_set = {int(num) for num in line.strip().split(\" \")}\n",
    "        comms.append(numbers_set)\n",
    "\n",
    "with open(node_embeddings_file) as nef:\n",
    "    node_embeddings = json.load(nef)\n",
    "\n",
    "with open(neighborhood_embeddings_file) as nef:\n",
    "    neighborhood_embeddings = json.load(nef)\n",
    "    # neighborhood_embeddings = {k: list(v.values()) for k, v in neighborhood_embeddings.items()}\n",
    "\n",
    "with open(communitiy_embeddings_file) as cef:\n",
    "    community_embeddings = json.load(cef)\n",
    "    # community_embeddings = {k: list(v.values()) for k, v in community_embeddings.items()}"
   ],
   "id": "60e1542a46daf650",
   "outputs": [],
   "execution_count": 10
  },
  {
   "metadata": {
    "ExecuteTime": {
     "end_time": "2025-05-27T10:49:49.589947Z",
     "start_time": "2025-05-27T10:49:34.716474Z"
    }
   },
   "cell_type": "code",
   "source": [
    "node_to_community_embeddings = dict()\n",
    "index = 0\n",
    "for community in comms:\n",
    "    for node in community:\n",
    "        node_to_community_embeddings[str(node)] = community_embeddings[str(index)]\n",
    "    index += 1\n",
    "\n",
    "hadamard_embeddings = dict()\n",
    "error_count = 0\n",
    "for n in node_embeddings.keys():\n",
    "    try:\n",
    "        node_e = np.array(node_embeddings[str(n)])\n",
    "        comm_e = np.array(node_to_community_embeddings[str(n)])\n",
    "        neig_e = np.array(neighborhood_embeddings[str(n)])\n",
    "        # hadamard_e = node_e * comm_e * neig_e\n",
    "        hadamard_e = node_e * neig_e\n",
    "        hadamard_embeddings[str(n)] = list(hadamard_e)\n",
    "    except KeyError:\n",
    "        error_count += 1\n",
    "print(error_count)"
   ],
   "id": "9ea956e45c0923e",
   "outputs": [
    {
     "name": "stdout",
     "output_type": "stream",
     "text": [
      "4\n"
     ]
    }
   ],
   "execution_count": 11
  },
  {
   "metadata": {
    "ExecuteTime": {
     "end_time": "2025-05-27T10:50:30.460424Z",
     "start_time": "2025-05-27T10:49:49.757500Z"
    }
   },
   "cell_type": "code",
   "source": [
    "with open(hadamard_embeddings_file, \"w\") as hef:\n",
    "    json.dump(hadamard_embeddings, hef, indent=4)"
   ],
   "id": "6b9497c1f66be731",
   "outputs": [],
   "execution_count": 12
  },
  {
   "metadata": {
    "ExecuteTime": {
     "end_time": "2025-05-27T10:50:30.547072Z",
     "start_time": "2025-05-27T10:50:30.545605Z"
    }
   },
   "cell_type": "code",
   "source": "",
   "id": "e05b319f01150ea0",
   "outputs": [],
   "execution_count": null
  }
 ],
 "metadata": {
  "kernelspec": {
   "display_name": "Python 3",
   "language": "python",
   "name": "python3"
  },
  "language_info": {
   "codemirror_mode": {
    "name": "ipython",
    "version": 2
   },
   "file_extension": ".py",
   "mimetype": "text/x-python",
   "name": "python",
   "nbconvert_exporter": "python",
   "pygments_lexer": "ipython2",
   "version": "2.7.6"
  }
 },
 "nbformat": 4,
 "nbformat_minor": 5
}
