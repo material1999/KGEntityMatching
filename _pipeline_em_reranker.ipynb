{
 "cells": [
  {
   "cell_type": "code",
   "id": "initial_id",
   "metadata": {
    "collapsed": true,
    "ExecuteTime": {
     "end_time": "2025-07-30T21:05:35.566089Z",
     "start_time": "2025-07-30T21:05:31.636071Z"
    }
   },
   "source": [
    "import json\n",
    "import torch\n",
    "from transformers import AutoModelForSequenceClassification, AutoTokenizer"
   ],
   "outputs": [],
   "execution_count": 1
  },
  {
   "metadata": {
    "ExecuteTime": {
     "end_time": "2025-07-30T21:05:35.586439Z",
     "start_time": "2025-07-30T21:05:35.584448Z"
    }
   },
   "cell_type": "code",
   "source": [
    "small = \"stexpanded\"\n",
    "big = \"memoryalpha\"\n",
    "embeddings = \"dogtag_bgelarge\""
   ],
   "id": "d87649d0a3987683",
   "outputs": [],
   "execution_count": 2
  },
  {
   "metadata": {
    "ExecuteTime": {
     "end_time": "2025-07-30T21:05:35.598255Z",
     "start_time": "2025-07-30T21:05:35.594398Z"
    }
   },
   "cell_type": "code",
   "source": [
    "mappings_file_small = \"./_input/mappings/\" + small + \".json\"\n",
    "mappings_file_big = \"./_input/mappings/\" + big + \".json\"\n",
    "\n",
    "dogtags_small_file = \"./_input/dogtags/\" + small + \".json\"\n",
    "dogtags_big_file = \"./_input/dogtags/\" + big + \".json\"\n",
    "\n",
    "exact_match_file = \"./_input/exact_match/\" + small + \"-\" + big + \".json\"\n",
    "\n",
    "output_file = \"./_input/exact_match_similarity/\" + small + \"-\" + big + \".txt\""
   ],
   "id": "9b4a6dcbcf0757b2",
   "outputs": [],
   "execution_count": 3
  },
  {
   "metadata": {
    "ExecuteTime": {
     "end_time": "2025-07-30T21:05:36.325615Z",
     "start_time": "2025-07-30T21:05:35.605803Z"
    }
   },
   "cell_type": "code",
   "source": [
    "with open(mappings_file_small) as file:\n",
    "    mappings_small = {str(v): k for k, v in json.load(file).items()}\n",
    "    mappings_small_reversed = {v: k for k, v in mappings_small.items()}\n",
    "\n",
    "with open(mappings_file_big) as file:\n",
    "    mappings_big = {str(v): k for k, v in json.load(file).items()}\n",
    "    mappings_big_reversed = {v: k for k, v in mappings_big.items()}\n",
    "\n",
    "with open(dogtags_small_file) as df:\n",
    "    dogtags_small = json.load(df)\n",
    "\n",
    "with open(dogtags_big_file) as df:\n",
    "    dogtags_big = json.load(df)\n",
    "\n",
    "with open(exact_match_file) as file:\n",
    "    exact_match = json.load(file)"
   ],
   "id": "f12028cb602403d2",
   "outputs": [],
   "execution_count": 4
  },
  {
   "metadata": {
    "ExecuteTime": {
     "end_time": "2025-07-30T21:05:40.514402Z",
     "start_time": "2025-07-30T21:05:37.621596Z"
    }
   },
   "cell_type": "code",
   "source": [
    "tokenizer = AutoTokenizer.from_pretrained('BAAI/bge-reranker-large')\n",
    "model = AutoModelForSequenceClassification.from_pretrained('BAAI/bge-reranker-large')\n",
    "model.eval()"
   ],
   "id": "c2e8bc0718b2fe6f",
   "outputs": [
    {
     "data": {
      "text/plain": [
       "XLMRobertaForSequenceClassification(\n",
       "  (roberta): XLMRobertaModel(\n",
       "    (embeddings): XLMRobertaEmbeddings(\n",
       "      (word_embeddings): Embedding(250002, 1024, padding_idx=1)\n",
       "      (position_embeddings): Embedding(514, 1024, padding_idx=1)\n",
       "      (token_type_embeddings): Embedding(1, 1024)\n",
       "      (LayerNorm): LayerNorm((1024,), eps=1e-05, elementwise_affine=True)\n",
       "      (dropout): Dropout(p=0.1, inplace=False)\n",
       "    )\n",
       "    (encoder): XLMRobertaEncoder(\n",
       "      (layer): ModuleList(\n",
       "        (0-23): 24 x XLMRobertaLayer(\n",
       "          (attention): XLMRobertaAttention(\n",
       "            (self): XLMRobertaSdpaSelfAttention(\n",
       "              (query): Linear(in_features=1024, out_features=1024, bias=True)\n",
       "              (key): Linear(in_features=1024, out_features=1024, bias=True)\n",
       "              (value): Linear(in_features=1024, out_features=1024, bias=True)\n",
       "              (dropout): Dropout(p=0.1, inplace=False)\n",
       "            )\n",
       "            (output): XLMRobertaSelfOutput(\n",
       "              (dense): Linear(in_features=1024, out_features=1024, bias=True)\n",
       "              (LayerNorm): LayerNorm((1024,), eps=1e-05, elementwise_affine=True)\n",
       "              (dropout): Dropout(p=0.1, inplace=False)\n",
       "            )\n",
       "          )\n",
       "          (intermediate): XLMRobertaIntermediate(\n",
       "            (dense): Linear(in_features=1024, out_features=4096, bias=True)\n",
       "            (intermediate_act_fn): GELUActivation()\n",
       "          )\n",
       "          (output): XLMRobertaOutput(\n",
       "            (dense): Linear(in_features=4096, out_features=1024, bias=True)\n",
       "            (LayerNorm): LayerNorm((1024,), eps=1e-05, elementwise_affine=True)\n",
       "            (dropout): Dropout(p=0.1, inplace=False)\n",
       "          )\n",
       "        )\n",
       "      )\n",
       "    )\n",
       "  )\n",
       "  (classifier): XLMRobertaClassificationHead(\n",
       "    (dense): Linear(in_features=1024, out_features=1024, bias=True)\n",
       "    (dropout): Dropout(p=0.1, inplace=False)\n",
       "    (out_proj): Linear(in_features=1024, out_features=1, bias=True)\n",
       "  )\n",
       ")"
      ]
     },
     "execution_count": 5,
     "metadata": {},
     "output_type": "execute_result"
    }
   ],
   "execution_count": 5
  },
  {
   "metadata": {
    "ExecuteTime": {
     "end_time": "2025-07-30T21:05:43.750302Z",
     "start_time": "2025-07-30T21:05:40.935996Z"
    }
   },
   "cell_type": "code",
   "source": [
    "with open(output_file, \"w\") as file:\n",
    "\n",
    "    # string_pairs = list()\n",
    "    #\n",
    "    # for item in exact_match:\n",
    "    #     left_dogtag = dogtags_small[mappings_small[str(item[0])]]\n",
    "    #     right_dogtag = dogtags_big[mappings_big[str(item[1])]]\n",
    "    #     string_pairs.append((left_dogtag, right_dogtag))\n",
    "    #     break\n",
    "\n",
    "    string_pairs = [(\"asdasd\", \"qweqwe\")]\n",
    "\n",
    "    batch = tokenizer(\n",
    "        [str(q) for q, d in string_pairs],\n",
    "        [str(d) for q, d in string_pairs],\n",
    "        padding=True,\n",
    "        truncation=True,\n",
    "        return_tensors=\"pt\"\n",
    "    )\n",
    "\n",
    "    with torch.no_grad():\n",
    "        outputs = model(**batch)\n",
    "        scores = torch.softmax(outputs.logits, dim=1)[:, 0]\n",
    "\n",
    "    similarities = scores.tolist()\n",
    "\n",
    "    for i, ((q, d), score) in enumerate(zip(string_pairs, similarities)):\n",
    "        print(f\"Pair {i+1}:\")\n",
    "        print(f\"Q: {q}\")\n",
    "        print(f\"D: {d}\")\n",
    "        print(f\"Similarity Score: {score:.4f}\\n\")"
   ],
   "id": "c362c5d51858a010",
   "outputs": [
    {
     "name": "stdout",
     "output_type": "stream",
     "text": [
      "Pair 1:\n",
      "Q: asdasd\n",
      "D: qweqwe\n",
      "Similarity Score: 1.0000\n",
      "\n"
     ]
    }
   ],
   "execution_count": 6
  },
  {
   "metadata": {
    "ExecuteTime": {
     "end_time": "2025-07-30T21:05:44.174072Z",
     "start_time": "2025-07-30T21:05:44.171564Z"
    }
   },
   "cell_type": "code",
   "source": "",
   "id": "4b9bec6bbe222415",
   "outputs": [],
   "execution_count": null
  }
 ],
 "metadata": {
  "kernelspec": {
   "display_name": "Python 3",
   "language": "python",
   "name": "python3"
  },
  "language_info": {
   "codemirror_mode": {
    "name": "ipython",
    "version": 2
   },
   "file_extension": ".py",
   "mimetype": "text/x-python",
   "name": "python",
   "nbconvert_exporter": "python",
   "pygments_lexer": "ipython2",
   "version": "2.7.6"
  }
 },
 "nbformat": 4,
 "nbformat_minor": 5
}
