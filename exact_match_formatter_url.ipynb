{
 "cells": [
  {
   "cell_type": "code",
   "id": "initial_id",
   "metadata": {
    "collapsed": true,
    "ExecuteTime": {
     "end_time": "2025-08-05T15:31:08.285573Z",
     "start_time": "2025-08-05T15:31:07.611535Z"
    }
   },
   "source": [
    "import json\n",
    "\n",
    "small = \"stexpanded\"\n",
    "big = \"memoryalpha\"\n",
    "\n",
    "with open(\"_input/mappings/\" + small + \".json\", \"r\") as f:\n",
    "    mappings_small = {str(v): k for k, v in json.load(f).items()}\n",
    "\n",
    "with open(\"_input/mappings/\" + big + \".json\", \"r\") as f:\n",
    "    mappings_big = {str(v): k for k, v in json.load(f).items()}\n",
    "\n",
    "with open(\"_input/exact_match/\" + small + \"-\" + big + \".json\") as file:\n",
    "    exact_match = json.load(file)\n",
    "\n",
    "for item in exact_match:\n",
    "    item[0] = mappings_small.get(str(item[0]))\n",
    "    item[1] = mappings_big.get(str(item[1]))\n",
    "\n",
    "with open(\"_input/exact_match_all/\" + small + \"-\" + big + \".json\", \"w\") as f:\n",
    "    json.dump(exact_match, f, indent=4)"
   ],
   "outputs": [],
   "execution_count": 11
  },
  {
   "metadata": {},
   "cell_type": "code",
   "outputs": [],
   "execution_count": null,
   "source": "",
   "id": "7b3359beaf003933"
  }
 ],
 "metadata": {
  "kernelspec": {
   "display_name": "Python 3",
   "language": "python",
   "name": "python3"
  },
  "language_info": {
   "codemirror_mode": {
    "name": "ipython",
    "version": 2
   },
   "file_extension": ".py",
   "mimetype": "text/x-python",
   "name": "python",
   "nbconvert_exporter": "python",
   "pygments_lexer": "ipython2",
   "version": "2.7.6"
  }
 },
 "nbformat": 4,
 "nbformat_minor": 5
}
