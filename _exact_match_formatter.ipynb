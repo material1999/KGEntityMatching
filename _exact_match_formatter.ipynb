{
 "cells": [
  {
   "cell_type": "code",
   "id": "initial_id",
   "metadata": {
    "collapsed": true,
    "ExecuteTime": {
     "end_time": "2025-04-28T11:10:20.918706Z",
     "start_time": "2025-04-28T11:10:20.421569Z"
    }
   },
   "source": [
    "import json\n",
    "\n",
    "from_graph = \"stexpanded\"\n",
    "to_graph = \"memoryalpha\"\n",
    "\n",
    "with open(\"./_input/mappings/\" + from_graph + \".json\", \"r\") as f:\n",
    "    from_graph_mapping = json.load(f)\n",
    "\n",
    "with open(\"./_input/mappings/\" + to_graph + \".json\", \"r\") as f:\n",
    "    to_graph_mapping = json.load(f)\n",
    "\n",
    "with open(\"./_input/exact_match_str/\" + from_graph + \"-\" + to_graph + \".json\", \"r\") as f:\n",
    "    data = json.load(f)\n",
    "\n",
    "for item in data:\n",
    "\n",
    "    # item[0] = from_graph_mapping.get(item[0])\n",
    "    # item[1] = to_graph_mapping.get(item[1])\n",
    "\n",
    "    temp = item[0]\n",
    "    item[0] = from_graph_mapping.get(item[1])\n",
    "    item[1] = to_graph_mapping.get(temp)\n",
    "\n",
    "with open(\"./_input/exact_match/\" + from_graph + \"-\" + to_graph + \".json\", \"w\") as f:\n",
    "    json.dump(data, f, indent=4)\n",
    "\n",
    "print(\"ID replacement completed: '\" + from_graph + \"-\" + to_graph + \".json'\")"
   ],
   "outputs": [
    {
     "name": "stdout",
     "output_type": "stream",
     "text": [
      "ID replacement completed: 'stexpanded-memoryalpha.json'\n"
     ]
    }
   ],
   "execution_count": 5
  },
  {
   "metadata": {},
   "cell_type": "code",
   "source": "",
   "id": "d0dac1c812a11d6c",
   "outputs": [],
   "execution_count": null
  }
 ],
 "metadata": {
  "kernelspec": {
   "display_name": "Python 3",
   "language": "python",
   "name": "python3"
  },
  "language_info": {
   "codemirror_mode": {
    "name": "ipython",
    "version": 2
   },
   "file_extension": ".py",
   "mimetype": "text/x-python",
   "name": "python",
   "nbconvert_exporter": "python",
   "pygments_lexer": "ipython2",
   "version": "2.7.6"
  }
 },
 "nbformat": 4,
 "nbformat_minor": 5
}
