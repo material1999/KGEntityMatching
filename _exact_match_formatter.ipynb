{
 "cells": [
  {
   "cell_type": "code",
   "id": "initial_id",
   "metadata": {
    "collapsed": true,
    "ExecuteTime": {
     "end_time": "2025-08-11T11:17:15.966271Z",
     "start_time": "2025-08-11T11:17:15.945740Z"
    }
   },
   "source": [
    "import json\n",
    "\n",
    "from_graph = \"starwars\"\n",
    "to_graph = \"swtor\"\n",
    "\n",
    "with open(\"./_input/exact_match_kardip/\" + from_graph + \"-\" + to_graph + \".json\", \"r\") as f:\n",
    "    data = json.load(f)\n",
    "\n",
    "for item in data:\n",
    "\n",
    "    temp = item[0]\n",
    "    item[0] = item[1]\n",
    "    item[1] = temp\n",
    "\n",
    "with open(\"./_input/exact_match/\" + from_graph + \"-\" + to_graph + \".json\", \"w\") as f:\n",
    "    json.dump(data, f, indent=4)\n",
    "\n",
    "print(\"ID replacement completed: '\" + from_graph + \"-\" + to_graph + \".json'\")"
   ],
   "outputs": [
    {
     "name": "stdout",
     "output_type": "stream",
     "text": [
      "ID replacement completed: 'starwars-swtor.json'\n"
     ]
    }
   ],
   "execution_count": 8
  },
  {
   "metadata": {
    "ExecuteTime": {
     "end_time": "2025-08-11T11:17:16.374485Z",
     "start_time": "2025-08-11T11:17:16.372883Z"
    }
   },
   "cell_type": "code",
   "source": "",
   "id": "d0dac1c812a11d6c",
   "outputs": [],
   "execution_count": null
  }
 ],
 "metadata": {
  "kernelspec": {
   "display_name": "Python 3",
   "language": "python",
   "name": "python3"
  },
  "language_info": {
   "codemirror_mode": {
    "name": "ipython",
    "version": 2
   },
   "file_extension": ".py",
   "mimetype": "text/x-python",
   "name": "python",
   "nbconvert_exporter": "python",
   "pygments_lexer": "ipython2",
   "version": "2.7.6"
  }
 },
 "nbformat": 4,
 "nbformat_minor": 5
}
