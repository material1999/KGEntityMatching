{
 "cells": [
  {
   "cell_type": "code",
   "id": "initial_id",
   "metadata": {
    "collapsed": true,
    "ExecuteTime": {
     "end_time": "2025-06-30T14:02:49.779793Z",
     "start_time": "2025-06-30T14:02:46.477992Z"
    }
   },
   "source": [
    "import json\n",
    "from tqdm import tqdm\n",
    "import torch\n",
    "from sentence_transformers import util"
   ],
   "outputs": [],
   "execution_count": 1
  },
  {
   "metadata": {
    "ExecuteTime": {
     "end_time": "2025-06-30T14:02:49.883862Z",
     "start_time": "2025-06-30T14:02:49.882229Z"
    }
   },
   "cell_type": "code",
   "source": [
    "big = \"memoryalpha\"\n",
    "small = \"stexpanded\"\n",
    "embeddings = \"dogtag_bgelarge\""
   ],
   "id": "d87649d0a3987683",
   "outputs": [],
   "execution_count": 2
  },
  {
   "metadata": {
    "ExecuteTime": {
     "end_time": "2025-06-30T14:02:49.901160Z",
     "start_time": "2025-06-30T14:02:49.898730Z"
    }
   },
   "cell_type": "code",
   "source": [
    "mappings_file_small = \"./_input/mappings/\" + small + \".json\"\n",
    "mappings_file_big = \"./_input/mappings/\" + big + \".json\"\n",
    "\n",
    "node_embeddings_small_file = \"./_input/node_embeddings/\" + embeddings + \"/\" + small + \".json\"\n",
    "node_embeddings_big_file = \"./_input/node_embeddings/\" + embeddings + \"/\" + big + \".json\"\n",
    "\n",
    "edgetype_embeddings_small_file = \"./_input/edgetype_embeddings/\" + embeddings + \"/\" + small + \".json\"\n",
    "edgetype_embeddings_big_file = \"./_input/edgetype_embeddings/\" + embeddings + \"/\" + big + \".json\"\n",
    "\n",
    "exact_match_file = \"./_input/exact_match/\" + big + \"-\" + small + \".json\"\n",
    "gold_pairs_file = \"./_input/gold_pairs/\" + big + \"-\" + small + \".txt\""
   ],
   "id": "9b4a6dcbcf0757b2",
   "outputs": [],
   "execution_count": 3
  },
  {
   "metadata": {
    "ExecuteTime": {
     "end_time": "2025-06-30T14:03:21.599427Z",
     "start_time": "2025-06-30T14:02:49.909236Z"
    }
   },
   "cell_type": "code",
   "source": [
    "with open(mappings_file_small) as file:\n",
    "    mappings_small = json.load(file)\n",
    "    mappings_small = {str(v): k for k, v in mappings_small.items()}\n",
    "\n",
    "with open(mappings_file_big) as file:\n",
    "    mappings_big = json.load(file)\n",
    "    mappings_big = {str(v): k for k, v in mappings_big.items()}\n",
    "\n",
    "with open(node_embeddings_small_file) as nesf:\n",
    "    node_embeddings_small = json.load(nesf)\n",
    "\n",
    "with open(node_embeddings_big_file) as nebf:\n",
    "    node_embeddings_big = json.load(nebf)\n",
    "\n",
    "with open(edgetype_embeddings_small_file) as eesf:\n",
    "    edgetype_embeddings_small = json.load(eesf)\n",
    "\n",
    "with open(edgetype_embeddings_big_file) as eebf:\n",
    "    edgetype_embeddings_big = json.load(eebf)\n",
    "\n",
    "with open(gold_pairs_file) as gpf:\n",
    "    gold_pairs = []\n",
    "    for line in gpf:\n",
    "        numbers_list = [int(num) for num in line.strip().split(\";\")]\n",
    "        gold_pairs.append(numbers_list)\n",
    "\n",
    "with open(exact_match_file) as file:\n",
    "    exact_match = json.load(file)"
   ],
   "id": "f12028cb602403d2",
   "outputs": [],
   "execution_count": 4
  },
  {
   "metadata": {
    "ExecuteTime": {
     "end_time": "2025-06-30T14:03:21.939353Z",
     "start_time": "2025-06-30T14:03:21.769933Z"
    }
   },
   "cell_type": "code",
   "source": [
    "gold_exact = list()\n",
    "gold_not_exact = list()\n",
    "\n",
    "for p in gold_pairs:\n",
    "    if [p[0], p[1]] in exact_match:\n",
    "        gold_exact.append([p[0], p[1]])\n",
    "    else:\n",
    "        gold_not_exact.append([p[0], p[1]])\n",
    "\n",
    "mappings_small_reversed = {v: k for k, v in mappings_small.items()}\n",
    "mappings_big_reversed = {v: k for k, v in mappings_big.items()}\n",
    "\n",
    "node_embeddings_small_list = list()\n",
    "node_ids_small_list = list()\n",
    "node_embeddings_big_list = list()\n",
    "node_ids_big_list = list()\n",
    "\n",
    "for k, v in node_embeddings_small.items():\n",
    "    node_ids_small_list.append(mappings_small_reversed[k])\n",
    "    node_embeddings_small_list.append(v)\n",
    "\n",
    "for k, v in node_embeddings_big.items():\n",
    "    node_ids_big_list.append(mappings_big_reversed[k])\n",
    "    node_embeddings_big_list.append(v)"
   ],
   "id": "1bf3506ebe7eda",
   "outputs": [],
   "execution_count": 5
  },
  {
   "metadata": {
    "ExecuteTime": {
     "end_time": "2025-06-30T14:15:20.433209Z",
     "start_time": "2025-06-30T14:14:57.096224Z"
    }
   },
   "cell_type": "code",
   "source": [
    "tensor_small = torch.Tensor(node_embeddings_small_list)\n",
    "tensor_big = torch.Tensor(node_embeddings_big_list)\n",
    "node_order = util.semantic_search(tensor_small, tensor_big, top_k=100)"
   ],
   "id": "9bd58c97a518bffb",
   "outputs": [],
   "execution_count": 18
  },
  {
   "metadata": {
    "ExecuteTime": {
     "end_time": "2025-06-30T14:15:24.445113Z",
     "start_time": "2025-06-30T14:15:23.946075Z"
    }
   },
   "cell_type": "code",
   "source": [
    "top100dict = dict()\n",
    "for idx, (node_id, order) in enumerate(zip(node_ids_small_list, node_order)):\n",
    "    items_list = list()\n",
    "    for item in order:\n",
    "        items_list.append((node_ids_big_list[item['corpus_id']], item['score']))\n",
    "    top100dict[node_id] = items_list"
   ],
   "id": "3c7c4a5d23889fad",
   "outputs": [],
   "execution_count": 19
  },
  {
   "metadata": {},
   "cell_type": "code",
   "source": [
    "# best_score = 0\n",
    "#\n",
    "# for comm_item in community_order[0]:\n",
    "#     for neig_item in neighborhood_order[0]:\n",
    "#         if comm_item['corpus_id'] == neig_item['corpus_id']:\n",
    "#             score = (\n",
    "#                     node_sim_weight * top10pairs[str(k)][comm_item['corpus_id']][1] +\n",
    "#                     community_sim_weight * comm_item['score'] +\n",
    "#                     neighbor_sim_weight * neig_item['score']\n",
    "#             )\n",
    "#             id_node = top10pairs[str(k)][comm_item['corpus_id']][0]\n",
    "#             if score > best_score:\n",
    "#                 best_score = score\n",
    "#                 top1dict_reordered[int(str(k))] = int(id_node)"
   ],
   "id": "28b21c83de8e208e",
   "outputs": [],
   "execution_count": null
  },
  {
   "metadata": {
    "ExecuteTime": {
     "end_time": "2025-06-30T14:15:27.176200Z",
     "start_time": "2025-06-30T14:15:27.130477Z"
    }
   },
   "cell_type": "code",
   "source": [
    "print(\"############### SETTINGS ################\")\n",
    "print(\"From:            \" + small)\n",
    "print(\"To:              \" + big)\n",
    "print(\"Embeddings:      \" + embeddings)\n",
    "\n",
    "print(\"############ ALL GOLD PAIRS #############\")\n",
    "print(\"Count:           \" + str(len(gold_pairs)))\n",
    "\n",
    "found = 0\n",
    "all_pairs = len(gold_pairs)\n",
    "# for gold_pair in tqdm(gold_pairs):\n",
    "for gold_pair in gold_pairs:\n",
    "    for i in range(0, 100):\n",
    "        if top100dict.get(str(gold_pair[1]))[i][0] == str(gold_pair[0]):\n",
    "            found += 1\n",
    "            break\n",
    "print(\"In Top 100:      \" + str(found) + \" (\" + f\"{found / all_pairs * 100:.5f}\" + \"%)\")\n",
    "\n",
    "found = 0\n",
    "all_pairs = len(gold_pairs)\n",
    "# for gold_pair in tqdm(gold_pairs):\n",
    "for gold_pair in gold_pairs:\n",
    "    for i in range(0, 10):\n",
    "        if top100dict.get(str(gold_pair[1]))[i][0] == str(gold_pair[0]):\n",
    "            found += 1\n",
    "            break\n",
    "print(\"In Top 10:       \" + str(found) + \" (\" + f\"{found / all_pairs * 100:.5f}\" + \"%)\")\n",
    "\n",
    "found = 0\n",
    "all_pairs = len(gold_pairs)\n",
    "# for gold_pair in tqdm(gold_pairs):\n",
    "for gold_pair in gold_pairs:\n",
    "    if top100dict.get(str(gold_pair[1]))[0][0] == str(gold_pair[0]):\n",
    "        found += 1\n",
    "print(\"Top 1:           \" + str(found) + \" (\" + f\"{found / all_pairs * 100:.5f}\" + \"%)\")\n",
    "\n",
    "# found = 0\n",
    "# all_pairs = len(gold_pairs)\n",
    "# # for gold_pair in tqdm(gold_pairs):\n",
    "# for gold_pair in gold_pairs:\n",
    "#     if top100dict_reordered.get(str(gold_pair[1]))[0][0] == str(gold_pair[0]):\n",
    "#         found += 1\n",
    "# print(\"Reordered:       \" + str(found) + \" (\" + f\"{found / all_pairs * 100:.5f}\" + \"%)\")\n",
    "\n",
    "print(\"############## EXACT MATCH ##############\")\n",
    "print(\"Count:           \" + str(len(gold_exact)))\n",
    "\n",
    "found = 0\n",
    "all_pairs = len(gold_exact)\n",
    "# for gold_pair in tqdm(gold_exact):\n",
    "for gold_pair in gold_exact:\n",
    "    for i in range(0, 100):\n",
    "        if top100dict.get(str(gold_pair[1]))[i][0] == str(gold_pair[0]):\n",
    "            found += 1\n",
    "            break\n",
    "print(\"In Top 100:      \" + str(found) + \" (\" + f\"{found / all_pairs * 100:.5f}\" + \"%)\")\n",
    "\n",
    "found = 0\n",
    "all_pairs = len(gold_exact)\n",
    "# for gold_pair in tqdm(gold_exact):\n",
    "for gold_pair in gold_exact:\n",
    "    for i in range(0, 10):\n",
    "        if top100dict.get(str(gold_pair[1]))[i][0] == str(gold_pair[0]):\n",
    "            found += 1\n",
    "            break\n",
    "print(\"In Top 10:       \" + str(found) + \" (\" + f\"{found / all_pairs * 100:.5f}\" + \"%)\")\n",
    "\n",
    "found = 0\n",
    "all_pairs = len(gold_exact)\n",
    "# for gold_pair in tqdm(gold_exact):\n",
    "for gold_pair in gold_exact:\n",
    "    if top100dict.get(str(gold_pair[1]))[0][0] == str(gold_pair[0]):\n",
    "        found += 1\n",
    "print(\"Top 1:           \" + str(found) + \" (\" + f\"{found / all_pairs * 100:.5f}\" + \"%)\")\n",
    "\n",
    "# found = 0\n",
    "# all_pairs = len(gold_exact)\n",
    "# # for gold_pair in tqdm(gold_exact):\n",
    "# for gold_pair in gold_exact:\n",
    "#     if top100dict_reordered.get(str(gold_pair[1]))[0][0] == str(gold_pair[0]):\n",
    "#         found += 1\n",
    "# print(\"Reordered:       \" + str(found) + \" (\" + f\"{found / all_pairs * 100:.5f}\" + \"%)\")\n",
    "\n",
    "print(\"############ NOT EXACT MATCH ############\")\n",
    "print(\"Count:           \" + str(len(gold_not_exact)))\n",
    "\n",
    "found = 0\n",
    "all_pairs = len(gold_not_exact)\n",
    "# for gold_pair in tqdm(gold_not_exact):\n",
    "for gold_pair in gold_not_exact:\n",
    "    for i in range(0, 100):\n",
    "        if top100dict.get(str(gold_pair[1]))[i][0] == str(gold_pair[0]):\n",
    "            found += 1\n",
    "            break\n",
    "print(\"In Top 100:      \" + str(found) + \" (\" + f\"{found / all_pairs * 100:.5f}\" + \"%)\")\n",
    "\n",
    "found = 0\n",
    "all_pairs = len(gold_not_exact)\n",
    "# for gold_pair in tqdm(gold_not_exact):\n",
    "for gold_pair in gold_not_exact:\n",
    "    for i in range(0, 10):\n",
    "        if top100dict.get(str(gold_pair[1]))[i][0] == str(gold_pair[0]):\n",
    "            found += 1\n",
    "            break\n",
    "print(\"In Top 10:       \" + str(found) + \" (\" + f\"{found / all_pairs * 100:.5f}\" + \"%)\")\n",
    "\n",
    "found = 0\n",
    "all_pairs = len(gold_not_exact)\n",
    "# for gold_pair in tqdm(gold_not_exact):\n",
    "for gold_pair in gold_not_exact:\n",
    "    if top100dict.get(str(gold_pair[1]))[0][0] == str(gold_pair[0]):\n",
    "        found += 1\n",
    "print(\"Top 1:           \" + str(found) + \" (\" + f\"{found / all_pairs * 100:.5f}\" + \"%)\")\n",
    "\n",
    "# found = 0\n",
    "# all_pairs = len(gold_not_exact)\n",
    "# # for gold_pair in tqdm(gold_not_exact):\n",
    "# for gold_pair in gold_not_exact:\n",
    "#     if top100dict_reordered.get(str(gold_pair[1]))[0][0] == str(gold_pair[0]):\n",
    "#         found += 1\n",
    "# print(\"Reordered:       \" + str(found) + \" (\" + f\"{found / all_pairs * 100:.5f}\" + \"%)\")"
   ],
   "id": "64fec82258ebe704",
   "outputs": [
    {
     "name": "stdout",
     "output_type": "stream",
     "text": [
      "############### SETTINGS ################\n",
      "From:            stexpanded\n",
      "To:              memoryalpha\n",
      "Embeddings:      dogtag_bgelarge\n",
      "############ ALL GOLD PAIRS #############\n",
      "Count:           1779\n",
      "In Top 100:      1732 (97.35807%)\n",
      "In Top 10:       1672 (93.98539%)\n",
      "Top 1:           1474 (82.85554%)\n",
      "############## EXACT MATCH ##############\n",
      "Count:           1617\n",
      "In Top 100:      1581 (97.77365%)\n",
      "In Top 10:       1534 (94.86704%)\n",
      "Top 1:           1370 (84.72480%)\n",
      "############ NOT EXACT MATCH ############\n",
      "Count:           162\n",
      "In Top 100:      151 (93.20988%)\n",
      "In Top 10:       138 (85.18519%)\n",
      "Top 1:           104 (64.19753%)\n"
     ]
    }
   ],
   "execution_count": 20
  },
  {
   "metadata": {},
   "cell_type": "code",
   "source": "",
   "id": "31f47c529f5212f3",
   "outputs": [],
   "execution_count": null
  }
 ],
 "metadata": {
  "kernelspec": {
   "display_name": "Python 3",
   "language": "python",
   "name": "python3"
  },
  "language_info": {
   "codemirror_mode": {
    "name": "ipython",
    "version": 2
   },
   "file_extension": ".py",
   "mimetype": "text/x-python",
   "name": "python",
   "nbconvert_exporter": "python",
   "pygments_lexer": "ipython2",
   "version": "2.7.6"
  }
 },
 "nbformat": 4,
 "nbformat_minor": 5
}
