{
 "cells": [
  {
   "metadata": {
    "ExecuteTime": {
     "end_time": "2025-04-28T12:26:31.240253Z",
     "start_time": "2025-04-28T12:26:31.228828Z"
    }
   },
   "cell_type": "code",
   "source": [
    "import json\n",
    "from tqdm import tqdm"
   ],
   "id": "e5fa45c2e4ecef44",
   "outputs": [],
   "execution_count": 8
  },
  {
   "metadata": {
    "ExecuteTime": {
     "end_time": "2025-04-28T12:26:31.798753Z",
     "start_time": "2025-04-28T12:26:31.795323Z"
    }
   },
   "cell_type": "code",
   "source": [
    "from_graph = \"memoryalpha\"\n",
    "to_graph = \"stexpanded\"\n",
    "\n",
    "embeddings = \"dogtag_bgelarge\""
   ],
   "id": "8a2fb694b6fa4e99",
   "outputs": [],
   "execution_count": 9
  },
  {
   "cell_type": "code",
   "id": "initial_id",
   "metadata": {
    "collapsed": true,
    "ExecuteTime": {
     "end_time": "2025-04-28T12:26:33.209558Z",
     "start_time": "2025-04-28T12:26:33.205867Z"
    }
   },
   "source": [
    "top10pairs_file = \"./_input/top10pairs/\" + embeddings + \"/\" + from_graph + \"-\" + to_graph + \".json\"\n",
    "exact_match_file = \"./_input/exact_match/\" + from_graph + \"-\" + to_graph + \".json\"\n",
    "\n",
    "training_positive_file = \"./_input/training_data/positive/\" + from_graph + \"-\" + to_graph + \".json\"\n",
    "training_negative_file = \"./_input/training_data/negative/\" + from_graph + \"-\" + to_graph + \".json\""
   ],
   "outputs": [],
   "execution_count": 10
  },
  {
   "metadata": {
    "ExecuteTime": {
     "end_time": "2025-04-28T12:26:34.316892Z",
     "start_time": "2025-04-28T12:26:33.961726Z"
    }
   },
   "cell_type": "code",
   "source": [
    "with open(top10pairs_file) as file:\n",
    "    top10pairs = json.load(file)\n",
    "\n",
    "with open(exact_match_file) as file:\n",
    "    exact_match = json.load(file)"
   ],
   "id": "c128886886eecab2",
   "outputs": [],
   "execution_count": 11
  },
  {
   "metadata": {
    "ExecuteTime": {
     "end_time": "2025-04-28T12:26:35.182142Z",
     "start_time": "2025-04-28T12:26:35.106836Z"
    }
   },
   "cell_type": "code",
   "source": [
    "training_negative = []\n",
    "\n",
    "for em in tqdm(exact_match):\n",
    "    found_pair = False\n",
    "    for pair in top10pairs[str(em[0])]:\n",
    "        if found_pair:\n",
    "            training_negative.append([em[0], int(pair[0])])\n",
    "        if pair[0] == str(em[1]):\n",
    "            found_pair = True\n",
    "\n",
    "# for em in tqdm(exact_match):\n",
    "#     for pair in top10pairs[str(em[0])]:\n",
    "#         if pair[0] != str(em[1]):\n",
    "#             training_negative.append([em[0], int(pair[0])])\n",
    "\n",
    "with open(training_positive_file, \"w\") as tpf:\n",
    "    json.dump(exact_match, tpf, indent=4)\n",
    "\n",
    "with open(training_negative_file, \"w\") as tnf:\n",
    "    json.dump(training_negative, tnf, indent=4)"
   ],
   "id": "8bd1a8b8f5d2860b",
   "outputs": [
    {
     "name": "stderr",
     "output_type": "stream",
     "text": [
      "100%|██████████| 3205/3205 [00:00<00:00, 145140.24it/s]\n"
     ]
    }
   ],
   "execution_count": 12
  },
  {
   "metadata": {
    "ExecuteTime": {
     "end_time": "2025-04-28T12:27:05.883996Z",
     "start_time": "2025-04-28T12:27:04.896640Z"
    }
   },
   "cell_type": "code",
   "source": [
    "# gold_pairs_file = \"./_input/gold_pairs/\" + to_graph + \"-\" + from_graph + \".txt\"\n",
    "gold_pairs_file = \"./_input/gold_pairs/\" + from_graph + \"-\" + to_graph + \".txt\"\n",
    "\n",
    "gold_pairs = []\n",
    "with open(gold_pairs_file) as gpf:\n",
    "    for line in gpf:\n",
    "        numbers_list = [int(num) for num in line.strip().split(\";\")]\n",
    "        gold_pairs.append(numbers_list)\n",
    "\n",
    "gold_in_positive = 0\n",
    "gold_in_negative = 0\n",
    "gold_missing = 0\n",
    "\n",
    "for gp in gold_pairs:\n",
    "\n",
    "    # if [gp[1], gp[0]] in exact_match:\n",
    "    #     gold_in_positive += 1\n",
    "    # if [gp[1], gp[0]] in training_negative:\n",
    "    #     gold_in_negative += 1\n",
    "    # if [gp[1], gp[0]] not in training_negative and [gp[1], gp[0]] not in exact_match:\n",
    "    #     gold_missing += 1\n",
    "\n",
    "    if [gp[0], gp[1]] in exact_match:\n",
    "        gold_in_positive += 1\n",
    "    if [gp[0], gp[1]] in training_negative:\n",
    "        gold_in_negative += 1\n",
    "    if [gp[0], gp[1]] not in training_negative and [gp[0], gp[1]] not in exact_match:\n",
    "        gold_missing += 1"
   ],
   "id": "23946c05f1ddc26e",
   "outputs": [],
   "execution_count": 14
  },
  {
   "metadata": {
    "ExecuteTime": {
     "end_time": "2025-04-28T12:27:07.348401Z",
     "start_time": "2025-04-28T12:27:07.344227Z"
    }
   },
   "cell_type": "code",
   "source": [
    "print(\"Positive:\", len(exact_match))\n",
    "print(\"Negative:\", len(training_negative))\n",
    "\n",
    "print(\"Gold in positive:\", gold_in_positive)\n",
    "print(\"Gold in negative:\", gold_in_negative)\n",
    "print(\"Gold missing:\", gold_missing)"
   ],
   "id": "a7d19875fa24a003",
   "outputs": [
    {
     "name": "stdout",
     "output_type": "stream",
     "text": [
      "Positive: 3205\n",
      "Negative: 20950\n",
      "Gold in positive: 1617\n",
      "Gold in negative: 3\n",
      "Gold missing: 159\n"
     ]
    }
   ],
   "execution_count": 15
  },
  {
   "metadata": {
    "ExecuteTime": {
     "end_time": "2025-04-28T12:23:02.294082Z",
     "start_time": "2025-04-28T12:23:02.292340Z"
    }
   },
   "cell_type": "code",
   "source": "",
   "id": "29c20847080715eb",
   "outputs": [],
   "execution_count": null
  }
 ],
 "metadata": {
  "kernelspec": {
   "display_name": "Python 3",
   "language": "python",
   "name": "python3"
  },
  "language_info": {
   "codemirror_mode": {
    "name": "ipython",
    "version": 2
   },
   "file_extension": ".py",
   "mimetype": "text/x-python",
   "name": "python",
   "nbconvert_exporter": "python",
   "pygments_lexer": "ipython2",
   "version": "2.7.6"
  }
 },
 "nbformat": 4,
 "nbformat_minor": 5
}
