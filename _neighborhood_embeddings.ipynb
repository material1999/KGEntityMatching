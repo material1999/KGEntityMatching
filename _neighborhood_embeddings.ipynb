{
 "cells": [
  {
   "metadata": {
    "ExecuteTime": {
     "end_time": "2025-07-02T20:52:23.595526Z",
     "start_time": "2025-07-02T20:52:23.574255Z"
    }
   },
   "cell_type": "code",
   "source": [
    "import pandas as pd\n",
    "import numpy as np\n",
    "import json\n",
    "import networkx as nx\n",
    "from tqdm import tqdm"
   ],
   "id": "85f764466cbf47c8",
   "outputs": [],
   "execution_count": 8
  },
  {
   "metadata": {
    "ExecuteTime": {
     "end_time": "2025-07-02T20:52:23.607667Z",
     "start_time": "2025-07-02T20:52:23.601884Z"
    }
   },
   "cell_type": "code",
   "source": [
    "graph = \"memoryalpha\"\n",
    "embeddings = \"dogtag_bgelarge\""
   ],
   "id": "e81312008d046faa",
   "outputs": [],
   "execution_count": 9
  },
  {
   "cell_type": "code",
   "id": "initial_id",
   "metadata": {
    "collapsed": true,
    "ExecuteTime": {
     "end_time": "2025-07-02T20:52:23.867921Z",
     "start_time": "2025-07-02T20:52:23.865692Z"
    }
   },
   "source": [
    "embeddings_file = \"./_input/node_embeddings/\" + embeddings + \"/\" + graph + \".json\"\n",
    "graph_file = \"_input/triples/\" + graph + \".triples\"\n",
    "mappings_file = \"./_input/mappings/\" + graph + \".json\"\n",
    "neighborhood_embeddings_file = \"./_input/neighborhood_embeddings/\" + embeddings + \"/\" + graph + \".json\""
   ],
   "outputs": [],
   "execution_count": 10
  },
  {
   "metadata": {
    "ExecuteTime": {
     "end_time": "2025-07-02T20:52:24.460310Z",
     "start_time": "2025-07-02T20:52:24.025679Z"
    }
   },
   "cell_type": "code",
   "source": [
    "with open(mappings_file) as file:\n",
    "    mappings = json.load(file)\n",
    "    mappings_reversed = {str(v): k for k, v in mappings.items()}"
   ],
   "id": "127b7069f3aae178",
   "outputs": [],
   "execution_count": 11
  },
  {
   "metadata": {
    "ExecuteTime": {
     "end_time": "2025-07-02T20:52:39.917815Z",
     "start_time": "2025-07-02T20:52:24.688958Z"
    }
   },
   "cell_type": "code",
   "source": [
    "df = pd.read_json(embeddings_file)\n",
    "df_T = df.T"
   ],
   "id": "9e5a0e603483f68c",
   "outputs": [],
   "execution_count": 12
  },
  {
   "metadata": {
    "ExecuteTime": {
     "end_time": "2025-07-02T20:52:46.225575Z",
     "start_time": "2025-07-02T20:52:40.370455Z"
    }
   },
   "cell_type": "code",
   "source": [
    "graph_df = pd.read_csv(graph_file, sep=\"###\", engine=\"python\", header=None)\n",
    "G_nx = nx.Graph()\n",
    "for row in graph_df.itertuples():\n",
    "    G_nx.add_edge(int(row[1]), int(row[2]))\n",
    "print(G_nx)"
   ],
   "id": "7eea7557b6204b23",
   "outputs": [
    {
     "name": "stdout",
     "output_type": "stream",
     "text": [
      "Graph with 48842 nodes and 1263597 edges\n"
     ]
    }
   ],
   "execution_count": 13
  },
  {
   "metadata": {
    "ExecuteTime": {
     "end_time": "2025-07-02T20:54:13.578674Z",
     "start_time": "2025-07-02T20:52:46.469928Z"
    }
   },
   "cell_type": "code",
   "source": [
    "embeddings_dict = dict()\n",
    "\n",
    "for n in tqdm(G_nx.nodes):\n",
    "    \n",
    "    neighbors = nx.neighbors(G_nx, int(n))\n",
    "    embeddings = []\n",
    "\n",
    "    selected_embedding = df_T.loc[mappings_reversed[str(n)]]\n",
    "    embeddings.append(selected_embedding)\n",
    "\n",
    "    for node in neighbors:\n",
    "        selected_embedding = df_T.loc[mappings_reversed[str(node)]]\n",
    "        embeddings.append(selected_embedding)\n",
    "\n",
    "    neighborhood_embedding = np.average(embeddings, axis=0)\n",
    "    embeddings_dict.update({n: list(neighborhood_embedding)})\n",
    "\n",
    "with open(neighborhood_embeddings_file, \"w\") as json_file:\n",
    "    json.dump(embeddings_dict, json_file, indent=4)"
   ],
   "id": "7b1c1683ca650833",
   "outputs": [
    {
     "name": "stderr",
     "output_type": "stream",
     "text": [
      "100%|██████████| 48842/48842 [00:52<00:00, 935.22it/s] \n"
     ]
    }
   ],
   "execution_count": 14
  },
  {
   "metadata": {
    "ExecuteTime": {
     "end_time": "2025-07-02T20:54:14.033573Z",
     "start_time": "2025-07-02T20:54:14.031997Z"
    }
   },
   "cell_type": "code",
   "source": "",
   "id": "68361f87749ae488",
   "outputs": [],
   "execution_count": null
  }
 ],
 "metadata": {
  "kernelspec": {
   "display_name": "Python 3",
   "language": "python",
   "name": "python3"
  },
  "language_info": {
   "codemirror_mode": {
    "name": "ipython",
    "version": 2
   },
   "file_extension": ".py",
   "mimetype": "text/x-python",
   "name": "python",
   "nbconvert_exporter": "python",
   "pygments_lexer": "ipython2",
   "version": "2.7.6"
  }
 },
 "nbformat": 4,
 "nbformat_minor": 5
}
