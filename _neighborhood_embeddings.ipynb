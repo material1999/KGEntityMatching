{
 "cells": [
  {
   "metadata": {
    "ExecuteTime": {
     "end_time": "2025-04-23T19:29:07.258567Z",
     "start_time": "2025-04-23T19:29:07.244079Z"
    }
   },
   "cell_type": "code",
   "source": [
    "import pandas as pd\n",
    "import numpy as np\n",
    "import json\n",
    "import networkx as nx\n",
    "from tqdm import tqdm"
   ],
   "id": "85f764466cbf47c8",
   "outputs": [],
   "execution_count": 8
  },
  {
   "metadata": {
    "ExecuteTime": {
     "end_time": "2025-04-23T19:29:07.353817Z",
     "start_time": "2025-04-23T19:29:07.351859Z"
    }
   },
   "cell_type": "code",
   "source": [
    "graph = \"memoryalpha\"\n",
    "embeddings = \"dogtag_bgem3\""
   ],
   "id": "e81312008d046faa",
   "outputs": [],
   "execution_count": 9
  },
  {
   "cell_type": "code",
   "id": "initial_id",
   "metadata": {
    "collapsed": true,
    "ExecuteTime": {
     "end_time": "2025-04-23T19:29:07.389023Z",
     "start_time": "2025-04-23T19:29:07.387132Z"
    }
   },
   "source": [
    "embeddings_file = \"./_input/node_embeddings/\" + embeddings + \"/\" + graph + \".json\"\n",
    "url_embeddings_file = \"./_input/url_embeddings/\" + graph + \".json\"\n",
    "graph_file = \"data/filtered_triples/\" + graph + \".triples\"\n",
    "neighborhood_embeddings_file = \"./_input/neighborhood_embeddings/\" + embeddings + \"/\" + graph + \".json\""
   ],
   "outputs": [],
   "execution_count": 10
  },
  {
   "metadata": {
    "ExecuteTime": {
     "end_time": "2025-04-23T19:29:21.365068Z",
     "start_time": "2025-04-23T19:29:07.425754Z"
    }
   },
   "cell_type": "code",
   "source": [
    "df = pd.read_json(embeddings_file)\n",
    "df_T = df.T"
   ],
   "id": "9e5a0e603483f68c",
   "outputs": [],
   "execution_count": 11
  },
  {
   "metadata": {
    "ExecuteTime": {
     "end_time": "2025-04-23T19:29:44.356111Z",
     "start_time": "2025-04-23T19:29:21.426983Z"
    }
   },
   "cell_type": "code",
   "source": [
    "df_url = pd.read_json(url_embeddings_file)\n",
    "df_url_T = df_url.T"
   ],
   "id": "d0dab7e610981906",
   "outputs": [],
   "execution_count": 12
  },
  {
   "metadata": {
    "ExecuteTime": {
     "end_time": "2025-04-23T19:29:50.095892Z",
     "start_time": "2025-04-23T19:29:44.535782Z"
    }
   },
   "cell_type": "code",
   "source": [
    "graph_df = pd.read_csv(graph_file, sep=\"###\", engine=\"python\", header=None)\n",
    "G_nx = nx.Graph()\n",
    "for row in graph_df.itertuples():\n",
    "    G_nx.add_edge(int(row[1]), int(row[2]))\n",
    "print(G_nx)"
   ],
   "id": "7eea7557b6204b23",
   "outputs": [
    {
     "name": "stdout",
     "output_type": "stream",
     "text": [
      "Graph with 69445 nodes and 1307028 edges\n"
     ]
    }
   ],
   "execution_count": 13
  },
  {
   "metadata": {
    "ExecuteTime": {
     "end_time": "2025-04-23T19:32:42.170569Z",
     "start_time": "2025-04-23T19:29:50.254386Z"
    }
   },
   "cell_type": "code",
   "source": [
    "embeddings_dict = dict()\n",
    "\n",
    "for n in tqdm(G_nx.nodes):\n",
    "    \n",
    "    neighbors = nx.neighbors(G_nx, int(n))\n",
    "    embeddings = []\n",
    "\n",
    "    try:\n",
    "        selected_embedding = df_T.loc[int(n)]\n",
    "        embeddings.append(selected_embedding)\n",
    "    except KeyError:\n",
    "        try:\n",
    "            selected_embedding = df_url_T.loc[int(n)]\n",
    "            embeddings.append(selected_embedding)\n",
    "        except KeyError:\n",
    "            print(str(int(n)) + \" --- Key not found anywhere!\")\n",
    "\n",
    "    for node in neighbors:\n",
    "        try:\n",
    "            selected_embedding = df_T.loc[node]\n",
    "            embeddings.append(selected_embedding)\n",
    "        except KeyError:\n",
    "            try:\n",
    "                selected_embedding = df_url_T.loc[node]\n",
    "                embeddings.append(selected_embedding)\n",
    "            except KeyError:\n",
    "                print(str(node) + \" --- Key not found anywhere!\")\n",
    "\n",
    "    neighborhood_embedding = np.average(embeddings, axis=0)\n",
    "    embeddings_dict.update({n: {str(j): val for j, val in enumerate(neighborhood_embedding)}})\n",
    "\n",
    "with open(neighborhood_embeddings_file, \"w\") as json_file:\n",
    "    json.dump(embeddings_dict, json_file, indent=4)"
   ],
   "id": "7b1c1683ca650833",
   "outputs": [
    {
     "name": "stderr",
     "output_type": "stream",
     "text": [
      " 18%|█▊        | 12528/69445 [00:34<01:06, 862.26it/s]"
     ]
    },
    {
     "name": "stdout",
     "output_type": "stream",
     "text": [
      "64312 --- Key not found anywhere!\n"
     ]
    },
    {
     "name": "stderr",
     "output_type": "stream",
     "text": [
      " 21%|██        | 14415/69445 [00:36<00:57, 953.03it/s] "
     ]
    },
    {
     "name": "stdout",
     "output_type": "stream",
     "text": [
      "163342 --- Key not found anywhere!\n"
     ]
    },
    {
     "name": "stderr",
     "output_type": "stream",
     "text": [
      " 27%|██▋       | 18628/69445 [00:40<00:40, 1255.10it/s]"
     ]
    },
    {
     "name": "stdout",
     "output_type": "stream",
     "text": [
      "373547 --- Key not found anywhere!\n"
     ]
    },
    {
     "name": "stderr",
     "output_type": "stream",
     "text": [
      " 47%|████▋     | 32946/69445 [00:50<00:20, 1764.75it/s]"
     ]
    },
    {
     "name": "stdout",
     "output_type": "stream",
     "text": [
      "391157 --- Key not found anywhere!\n"
     ]
    },
    {
     "name": "stderr",
     "output_type": "stream",
     "text": [
      " 72%|███████▏  | 49700/69445 [00:57<00:07, 2780.46it/s]"
     ]
    },
    {
     "name": "stdout",
     "output_type": "stream",
     "text": [
      "163342 --- Key not found anywhere!\n"
     ]
    },
    {
     "name": "stderr",
     "output_type": "stream",
     "text": [
      " 79%|███████▉  | 55108/69445 [00:59<00:04, 3297.20it/s]"
     ]
    },
    {
     "name": "stdout",
     "output_type": "stream",
     "text": [
      "64312 --- Key not found anywhere!\n"
     ]
    },
    {
     "name": "stderr",
     "output_type": "stream",
     "text": [
      " 91%|█████████▏| 63490/69445 [01:01<00:01, 3616.16it/s]"
     ]
    },
    {
     "name": "stdout",
     "output_type": "stream",
     "text": [
      "391157 --- Key not found anywhere!\n"
     ]
    },
    {
     "name": "stderr",
     "output_type": "stream",
     "text": [
      " 93%|█████████▎| 64926/69445 [01:02<00:01, 3541.21it/s]"
     ]
    },
    {
     "name": "stdout",
     "output_type": "stream",
     "text": [
      "373547 --- Key not found anywhere!\n"
     ]
    },
    {
     "name": "stderr",
     "output_type": "stream",
     "text": [
      "100%|██████████| 69445/69445 [01:03<00:00, 1092.87it/s]\n"
     ]
    }
   ],
   "execution_count": 14
  },
  {
   "metadata": {
    "ExecuteTime": {
     "end_time": "2025-04-23T19:32:44.705067Z",
     "start_time": "2025-04-23T19:32:44.703432Z"
    }
   },
   "cell_type": "code",
   "source": "",
   "id": "68361f87749ae488",
   "outputs": [],
   "execution_count": null
  }
 ],
 "metadata": {
  "kernelspec": {
   "display_name": "Python 3",
   "language": "python",
   "name": "python3"
  },
  "language_info": {
   "codemirror_mode": {
    "name": "ipython",
    "version": 2
   },
   "file_extension": ".py",
   "mimetype": "text/x-python",
   "name": "python",
   "nbconvert_exporter": "python",
   "pygments_lexer": "ipython2",
   "version": "2.7.6"
  }
 },
 "nbformat": 4,
 "nbformat_minor": 5
}
