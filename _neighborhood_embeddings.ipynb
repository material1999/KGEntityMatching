{
 "cells": [
  {
   "metadata": {
    "ExecuteTime": {
     "end_time": "2025-07-08T12:41:40.346646Z",
     "start_time": "2025-07-08T12:41:40.326868Z"
    }
   },
   "cell_type": "code",
   "source": [
    "import pandas as pd\n",
    "import numpy as np\n",
    "import json\n",
    "import networkx as nx\n",
    "from tqdm import tqdm"
   ],
   "id": "85f764466cbf47c8",
   "outputs": [],
   "execution_count": 43
  },
  {
   "metadata": {
    "ExecuteTime": {
     "end_time": "2025-07-08T12:41:40.813670Z",
     "start_time": "2025-07-08T12:41:40.810790Z"
    }
   },
   "cell_type": "code",
   "source": [
    "graph = \"marvel\"\n",
    "embeddings = \"dogtag_bgelarge\""
   ],
   "id": "e81312008d046faa",
   "outputs": [],
   "execution_count": 44
  },
  {
   "cell_type": "code",
   "id": "initial_id",
   "metadata": {
    "collapsed": true,
    "ExecuteTime": {
     "end_time": "2025-07-08T12:41:41.049342Z",
     "start_time": "2025-07-08T12:41:41.047274Z"
    }
   },
   "source": [
    "embeddings_file = \"./_input/node_embeddings/\" + embeddings + \"/\" + graph + \".json\"\n",
    "graph_file = \"_input/triples/\" + graph + \".triples\"\n",
    "mappings_file = \"./_input/mappings/\" + graph + \".json\"\n",
    "neighborhood_embeddings_file = \"./_input/neighborhood_embeddings/\" + embeddings + \"/\" + graph + \".json\""
   ],
   "outputs": [],
   "execution_count": 45
  },
  {
   "metadata": {
    "ExecuteTime": {
     "end_time": "2025-07-08T12:41:42.401512Z",
     "start_time": "2025-07-08T12:41:41.319446Z"
    }
   },
   "cell_type": "code",
   "source": [
    "with open(mappings_file) as file:\n",
    "    mappings = json.load(file)\n",
    "    mappings_reversed = {str(v): k for k, v in mappings.items()}"
   ],
   "id": "127b7069f3aae178",
   "outputs": [],
   "execution_count": 46
  },
  {
   "metadata": {
    "ExecuteTime": {
     "end_time": "2025-07-08T12:45:45.077271Z",
     "start_time": "2025-07-08T12:41:42.449610Z"
    }
   },
   "cell_type": "code",
   "source": [
    "df = pd.read_json(embeddings_file)\n",
    "df_T = df.T"
   ],
   "id": "9e5a0e603483f68c",
   "outputs": [],
   "execution_count": 47
  },
  {
   "metadata": {
    "ExecuteTime": {
     "end_time": "2025-07-08T12:46:32.705897Z",
     "start_time": "2025-07-08T12:45:47.877901Z"
    }
   },
   "cell_type": "code",
   "source": [
    "graph_df = pd.read_csv(graph_file, sep=\"###\", engine=\"python\", header=None)\n",
    "G_nx = nx.Graph()\n",
    "for row in graph_df.itertuples():\n",
    "    G_nx.add_edge(int(row[1]), int(row[2]))\n",
    "print(G_nx)"
   ],
   "id": "7eea7557b6204b23",
   "outputs": [
    {
     "name": "stdout",
     "output_type": "stream",
     "text": [
      "Graph with 171781 nodes and 3484303 edges\n"
     ]
    }
   ],
   "execution_count": 48
  },
  {
   "metadata": {
    "ExecuteTime": {
     "end_time": "2025-07-08T12:53:25.846291Z",
     "start_time": "2025-07-08T12:46:33.613975Z"
    }
   },
   "cell_type": "code",
   "source": [
    "embeddings_dict = dict()\n",
    "\n",
    "for n in tqdm(G_nx.nodes):\n",
    "    \n",
    "    neighbors = nx.neighbors(G_nx, int(n))\n",
    "    embeddings = []\n",
    "\n",
    "    selected_embedding = df_T.loc[mappings_reversed[str(n)]]\n",
    "    embeddings.append(selected_embedding)\n",
    "\n",
    "    for node in neighbors:\n",
    "        selected_embedding = df_T.loc[mappings_reversed[str(node)]]\n",
    "        embeddings.append(selected_embedding)\n",
    "\n",
    "    neighborhood_embedding = np.average(embeddings, axis=0)\n",
    "    embeddings_dict.update({n: list(neighborhood_embedding)})\n",
    "\n",
    "with open(neighborhood_embeddings_file, \"w\") as json_file:\n",
    "    json.dump(embeddings_dict, json_file, indent=4)"
   ],
   "id": "7b1c1683ca650833",
   "outputs": [
    {
     "name": "stderr",
     "output_type": "stream",
     "text": [
      "100%|██████████| 171781/171781 [04:11<00:00, 684.21it/s] \n"
     ]
    }
   ],
   "execution_count": 49
  },
  {
   "metadata": {
    "ExecuteTime": {
     "end_time": "2025-07-08T12:53:35.627727Z",
     "start_time": "2025-07-08T12:53:35.614378Z"
    }
   },
   "cell_type": "code",
   "source": "",
   "id": "68361f87749ae488",
   "outputs": [],
   "execution_count": null
  }
 ],
 "metadata": {
  "kernelspec": {
   "display_name": "Python 3",
   "language": "python",
   "name": "python3"
  },
  "language_info": {
   "codemirror_mode": {
    "name": "ipython",
    "version": 2
   },
   "file_extension": ".py",
   "mimetype": "text/x-python",
   "name": "python",
   "nbconvert_exporter": "python",
   "pygments_lexer": "ipython2",
   "version": "2.7.6"
  }
 },
 "nbformat": 4,
 "nbformat_minor": 5
}
