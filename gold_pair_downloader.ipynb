{
 "cells": [
  {
   "metadata": {
    "ExecuteTime": {
     "end_time": "2025-08-05T12:34:03.644700Z",
     "start_time": "2025-08-05T12:34:03.580542Z"
    }
   },
   "cell_type": "code",
   "source": [
    "import requests\n",
    "import xml.etree.ElementTree as ET\n",
    "import os\n",
    "import json"
   ],
   "id": "3be203608174c3b0",
   "outputs": [],
   "execution_count": 1
  },
  {
   "metadata": {
    "ExecuteTime": {
     "end_time": "2025-08-05T12:34:03.742829Z",
     "start_time": "2025-08-05T12:34:03.740382Z"
    }
   },
   "cell_type": "code",
   "source": [
    "graph_pairs = [\n",
    "    \"mcu-marvel\",\n",
    "    \"memoryalpha-memorybeta\",\n",
    "    \"stexpanded-memoryalpha\",\n",
    "    \"swg-starwars\",\n",
    "    \"swtor-starwars\"\n",
    "]\n",
    "\n",
    "download_links = [\n",
    "    \"https://oaei.webdatacommons.org/tdrs/testdata/persistent/knowledgegraph/v3/suite/marvelcinematicuniverse-marvel/component/reference.xml\",\n",
    "    \"https://oaei.webdatacommons.org/tdrs/testdata/persistent/knowledgegraph/v3/suite/memoryalpha-memorybeta/component/reference.xml\",\n",
    "    \"https://oaei.webdatacommons.org/tdrs/testdata/persistent/knowledgegraph/v3/suite/memoryalpha-stexpanded/component/reference.xml\",\n",
    "    \"https://oaei.webdatacommons.org/tdrs/testdata/persistent/knowledgegraph/v3/suite/starwars-swg/component/reference.xml\",\n",
    "    \"https://oaei.webdatacommons.org/tdrs/testdata/persistent/knowledgegraph/v3/suite/starwars-swtor/component/reference.xml\"\n",
    "]\n",
    "\n",
    "to_flips = [\n",
    "    False,\n",
    "    False,\n",
    "    True,\n",
    "    True,\n",
    "    True\n",
    "]"
   ],
   "id": "d97f0c0817a16f6d",
   "outputs": [],
   "execution_count": 2
  },
  {
   "metadata": {
    "ExecuteTime": {
     "end_time": "2025-08-05T12:34:06.737052Z",
     "start_time": "2025-08-05T12:34:03.780841Z"
    }
   },
   "cell_type": "code",
   "source": [
    "for graph_pair, download_link, to_flip in zip(graph_pairs, download_links, to_flips):\n",
    "\n",
    "    response = requests.get(download_link)\n",
    "    xml_content = response.content\n",
    "\n",
    "    namespaces = {\n",
    "        'rdf': 'http://www.w3.org/1999/02/22-rdf-syntax-ns#'\n",
    "    }\n",
    "\n",
    "    root = ET.fromstring(xml_content)\n",
    "\n",
    "    cells = root.findall('.//{http://knowledgeweb.semanticweb.org/heterogeneity/alignment}Cell')\n",
    "\n",
    "    pairs = []\n",
    "    for cell in cells:\n",
    "        entity1 = cell.find('{http://knowledgeweb.semanticweb.org/heterogeneity/alignment}entity1')\n",
    "        entity2 = cell.find('{http://knowledgeweb.semanticweb.org/heterogeneity/alignment}entity2')\n",
    "\n",
    "        if entity1 is not None and entity2 is not None:\n",
    "            uri1 = entity1.attrib.get('{http://www.w3.org/1999/02/22-rdf-syntax-ns#}resource')\n",
    "            uri2 = entity2.attrib.get('{http://www.w3.org/1999/02/22-rdf-syntax-ns#}resource')\n",
    "            if to_flip:\n",
    "                pairs.append([str(uri2), str(uri1)])\n",
    "            else:\n",
    "                pairs.append([str(uri1), str(uri2)])\n",
    "\n",
    "    try:\n",
    "        base_dir = os.path.dirname(os.path.abspath(__file__))\n",
    "    except NameError:\n",
    "        base_dir = os.getcwd()\n",
    "\n",
    "    download_dir = os.path.join(base_dir, \"gold_download\")\n",
    "    os.makedirs(download_dir, exist_ok=True)\n",
    "\n",
    "    output_path = os.path.join(download_dir, graph_pair + \".json\")\n",
    "\n",
    "    with open(output_path, \"w\") as f:\n",
    "        json.dump(pairs, f, indent=4)\n",
    "\n",
    "    print(f\"Pairs saved to: {output_path}\")"
   ],
   "id": "c8355b81feab4cf4",
   "outputs": [
    {
     "name": "stdout",
     "output_type": "stream",
     "text": [
      "Pairs saved to: /Users/matevass/Documents/Projects/KGEntityMatching/downloaded/mcu-marvel.json\n",
      "Pairs saved to: /Users/matevass/Documents/Projects/KGEntityMatching/downloaded/memoryalpha-memorybeta.json\n",
      "Pairs saved to: /Users/matevass/Documents/Projects/KGEntityMatching/downloaded/stexpanded-memoryalpha.json\n",
      "Pairs saved to: /Users/matevass/Documents/Projects/KGEntityMatching/downloaded/swg-starwars.json\n",
      "Pairs saved to: /Users/matevass/Documents/Projects/KGEntityMatching/downloaded/swtor-starwars.json\n"
     ]
    }
   ],
   "execution_count": 3
  },
  {
   "metadata": {
    "ExecuteTime": {
     "end_time": "2025-08-05T12:34:06.757472Z",
     "start_time": "2025-08-05T12:34:06.755567Z"
    }
   },
   "cell_type": "code",
   "source": "",
   "id": "4505486fce9f939",
   "outputs": [],
   "execution_count": null
  }
 ],
 "metadata": {
  "kernelspec": {
   "display_name": "Python 3",
   "language": "python",
   "name": "python3"
  },
  "language_info": {
   "codemirror_mode": {
    "name": "ipython",
    "version": 2
   },
   "file_extension": ".py",
   "mimetype": "text/x-python",
   "name": "python",
   "nbconvert_exporter": "python",
   "pygments_lexer": "ipython2",
   "version": "2.7.6"
  }
 },
 "nbformat": 4,
 "nbformat_minor": 5
}
