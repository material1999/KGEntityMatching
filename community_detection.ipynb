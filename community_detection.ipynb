{
 "cells": [
  {
   "cell_type": "code",
   "id": "initial_id",
   "metadata": {
    "collapsed": true,
    "ExecuteTime": {
     "end_time": "2024-09-10T13:56:19.935028Z",
     "start_time": "2024-09-10T13:56:19.928574Z"
    }
   },
   "source": [
    "import pandas as pd\n",
    "import networkx as nx\n",
    "import statistics\n",
    "\n",
    "from debugpy import connect"
   ],
   "outputs": [],
   "execution_count": 50
  },
  {
   "metadata": {
    "ExecuteTime": {
     "end_time": "2024-09-10T13:56:19.948901Z",
     "start_time": "2024-09-10T13:56:19.946100Z"
    }
   },
   "cell_type": "code",
   "source": [
    "graph = \"swtor\"\n",
    "max_community_size = 20\n",
    "connected_percent = 0.75\n",
    "times_average = 1.5"
   ],
   "id": "d278f1da511029d0",
   "outputs": [],
   "execution_count": 51
  },
  {
   "metadata": {
    "ExecuteTime": {
     "end_time": "2024-09-10T13:56:20.223467Z",
     "start_time": "2024-09-10T13:56:19.981033Z"
    }
   },
   "cell_type": "code",
   "source": [
    "print(\"Reading graph \" + str(graph))\n",
    "graph_path = \"/Users/matevass/Documents/Projects/KGEntityMatching/data/filtered_triples_weighted/\"\n",
    "graph_df = pd.read_csv(graph_path + graph + \".triples\", sep=\"###\", engine=\"python\", header=None)\n",
    "G = nx.Graph()\n",
    "for row in graph_df.itertuples():\n",
    "    G.add_edge(int(row[1]), int(row[2]), weight=int(row[3]))"
   ],
   "id": "4527c43d48d3ff13",
   "outputs": [
    {
     "name": "stdout",
     "output_type": "stream",
     "text": [
      "Reading graph swtor\n"
     ]
    }
   ],
   "execution_count": 52
  },
  {
   "metadata": {
    "ExecuteTime": {
     "end_time": "2024-09-10T13:56:20.244812Z",
     "start_time": "2024-09-10T13:56:20.237195Z"
    }
   },
   "cell_type": "code",
   "source": [
    "print(G)\n",
    "print([n for n in G[0]])"
   ],
   "id": "e19f17734a92fa18",
   "outputs": [
    {
     "name": "stdout",
     "output_type": "stream",
     "text": [
      "Graph with 18125 nodes and 57118 edges\n",
      "[2, 2180]\n"
     ]
    }
   ],
   "execution_count": 53
  },
  {
   "metadata": {
    "ExecuteTime": {
     "end_time": "2024-09-10T13:56:20.293390Z",
     "start_time": "2024-09-10T13:56:20.260044Z"
    }
   },
   "cell_type": "code",
   "source": [
    "mean_edge_weight = statistics.mean(weight for _, _, weight in G.edges(data='weight'))\n",
    "print(mean_edge_weight)"
   ],
   "id": "f009f0c33a330a8",
   "outputs": [
    {
     "name": "stdout",
     "output_type": "stream",
     "text": [
      "1.3045449770650233\n"
     ]
    }
   ],
   "execution_count": 54
  },
  {
   "metadata": {
    "ExecuteTime": {
     "end_time": "2024-09-10T14:06:54.594193Z",
     "start_time": "2024-09-10T13:56:20.305917Z"
    }
   },
   "cell_type": "code",
   "source": [
    "communities_path = \"/Users/matevass/Documents/Projects/KGEntityMatching/data/communities/\"\n",
    "communities = list({i} for i in G.nodes)\n",
    "\n",
    "print(\"Parameters - connected_percent: \" + str(connected_percent) + \" - times_average: \" + str(times_average))\n",
    "print(\"Searching for communities in graph \" + graph)\n",
    "\n",
    "for community_size in range(2, max_community_size + 1):\n",
    "    print(\"Community size: \" + str(community_size))\n",
    "    last_iteration = 0\n",
    "    to_add = list()\n",
    "    to_delete = list()\n",
    "    for community in communities:\n",
    "        if len(community) != community_size - 1:\n",
    "            continue\n",
    "        neighbors = set()\n",
    "        for node in community:\n",
    "            neighbors.update(G.neighbors(node))\n",
    "            # print(node)\n",
    "            # print(neighbors)\n",
    "        neighbors = [item for item in neighbors if item not in community]\n",
    "        # print(neighbors)\n",
    "        for node in neighbors:\n",
    "            community_temp = list(community.copy())\n",
    "            community_temp.append(node)\n",
    "            H = G.subgraph(community_temp)\n",
    "            # print(community)\n",
    "            # print(community_temp)\n",
    "            # print(statistics.mean(weight for _, _, weight in H.edges(data='weight')))\n",
    "            # print(len([h for h in H.neighbors(node)]))\n",
    "            if statistics.mean(weight for _, _, weight in H.edges(data='weight')) \\\n",
    "                    > mean_edge_weight * times_average and \\\n",
    "                    len([h for h in H.neighbors(node)]) >= (community_size - 1) * connected_percent:\n",
    "                # print(\"old: \" + str(community))\n",
    "                # print(\"new: \" + str(community_temp))\n",
    "                last_iteration += 1\n",
    "                if community not in to_delete:\n",
    "                    to_delete.append(community)\n",
    "                if set(community_temp) not in to_add and set(community_temp) not in communities:\n",
    "                    to_add.append(set(community_temp)) \n",
    "            if community_size == 2:\n",
    "                communities = [item for item in communities if len(item) != 1]\n",
    "    if last_iteration == 0:\n",
    "        print(\"Break at community size: \" + str(community_size))\n",
    "        break\n",
    "    # print(to_add)\n",
    "    # print(to_delete)\n",
    "    communities = [item for item in communities if item not in to_delete]\n",
    "    communities.extend(to_add)\n",
    "    print(len(communities))\n",
    "\n",
    "# print(communities)\n",
    "\n",
    "with open(communities_path + graph + \".csv\", 'w') as communities_output:\n",
    "    for community in communities:\n",
    "        communities_output.write(str(community)\n",
    "                                 .replace(\"{\", \"\")\n",
    "                                 .replace(\"}\", \"\")\n",
    "                                 .replace(\", \", \";\") + \"\\n\")\n",
    "\n",
    "print(\"Communities for graph \" + graph + \" found\")"
   ],
   "id": "360dfef6d42004b",
   "outputs": [
    {
     "name": "stdout",
     "output_type": "stream",
     "text": [
      "Parameters - connected_percent: 0.75 - times_average: 1.5\n",
      "Searching for communities in graph swtor\n",
      "Community size: 2\n",
      "16207\n",
      "Community size: 3\n",
      "14352\n",
      "Community size: 4\n",
      "13387\n",
      "Community size: 5\n",
      "13707\n",
      "Community size: 6\n",
      "13505\n",
      "Community size: 7\n",
      "13362\n",
      "Community size: 8\n",
      "13359\n",
      "Community size: 9\n",
      "13357\n",
      "Community size: 10\n",
      "Break at community size: 10\n",
      "Communities for graph swtor found\n"
     ]
    }
   ],
   "execution_count": 55
  },
  {
   "metadata": {
    "ExecuteTime": {
     "end_time": "2024-09-10T14:06:54.655020Z",
     "start_time": "2024-09-10T14:06:54.653063Z"
    }
   },
   "cell_type": "code",
   "source": "",
   "id": "2dd273712d818a3d",
   "outputs": [],
   "execution_count": null
  }
 ],
 "metadata": {
  "kernelspec": {
   "display_name": "Python 3",
   "language": "python",
   "name": "python3"
  },
  "language_info": {
   "codemirror_mode": {
    "name": "ipython",
    "version": 2
   },
   "file_extension": ".py",
   "mimetype": "text/x-python",
   "name": "python",
   "nbconvert_exporter": "python",
   "pygments_lexer": "ipython2",
   "version": "2.7.6"
  }
 },
 "nbformat": 4,
 "nbformat_minor": 5
}
