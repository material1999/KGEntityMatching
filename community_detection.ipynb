{
 "cells": [
  {
   "cell_type": "code",
   "id": "initial_id",
   "metadata": {
    "collapsed": true,
    "ExecuteTime": {
     "end_time": "2024-09-16T16:09:50.173402Z",
     "start_time": "2024-09-16T16:09:49.822913Z"
    }
   },
   "source": [
    "import pandas as pd\n",
    "import networkx as nx\n",
    "import numpy as np"
   ],
   "outputs": [],
   "execution_count": 1
  },
  {
   "metadata": {
    "ExecuteTime": {
     "end_time": "2024-09-16T16:09:50.182017Z",
     "start_time": "2024-09-16T16:09:50.180184Z"
    }
   },
   "cell_type": "code",
   "source": [
    "graph = \"swtor\"\n",
    "max_community_size = 20\n",
    "#connected_percent = 0.75\n",
    "#times_average = 1.5\n",
    "connected_percent = 0.75\n",
    "times_average = 1.5"
   ],
   "id": "d278f1da511029d0",
   "outputs": [],
   "execution_count": 2
  },
  {
   "metadata": {
    "ExecuteTime": {
     "end_time": "2024-09-16T16:09:50.478247Z",
     "start_time": "2024-09-16T16:09:50.277886Z"
    }
   },
   "cell_type": "code",
   "source": [
    "print(\"Reading graph \" + str(graph))\n",
    "graph_path = \"/Users/matevass/Documents/Projects/KGEntityMatching/data/filtered_triples_weighted/\"\n",
    "graph_df = pd.read_csv(graph_path + graph + \".triples\", sep=\"###\", engine=\"python\", header=None)\n",
    "G = nx.Graph()\n",
    "for row in graph_df.itertuples():\n",
    "    G.add_edge(int(row[1]), int(row[2]), weight=int(row[3]))"
   ],
   "id": "4527c43d48d3ff13",
   "outputs": [
    {
     "name": "stdout",
     "output_type": "stream",
     "text": [
      "Reading graph swtor\n"
     ]
    }
   ],
   "execution_count": 3
  },
  {
   "metadata": {
    "ExecuteTime": {
     "end_time": "2024-09-16T16:09:50.495790Z",
     "start_time": "2024-09-16T16:09:50.488894Z"
    }
   },
   "cell_type": "code",
   "source": [
    "print(G)\n",
    "print([n for n in G[0]])"
   ],
   "id": "e19f17734a92fa18",
   "outputs": [
    {
     "name": "stdout",
     "output_type": "stream",
     "text": [
      "Graph with 18125 nodes and 57118 edges\n",
      "[2, 2180]\n"
     ]
    }
   ],
   "execution_count": 4
  },
  {
   "metadata": {
    "ExecuteTime": {
     "end_time": "2024-09-16T16:09:50.532309Z",
     "start_time": "2024-09-16T16:09:50.507428Z"
    }
   },
   "cell_type": "code",
   "source": [
    "mean_edge_weight = np.mean([weight for _, _, weight in G.edges(data='weight')])\n",
    "print(mean_edge_weight)"
   ],
   "id": "f009f0c33a330a8",
   "outputs": [
    {
     "name": "stdout",
     "output_type": "stream",
     "text": [
      "1.3045449770650233\n"
     ]
    }
   ],
   "execution_count": 5
  },
  {
   "metadata": {
    "ExecuteTime": {
     "end_time": "2024-09-16T16:11:54.194782Z",
     "start_time": "2024-09-16T16:09:50.542102Z"
    }
   },
   "cell_type": "code",
   "source": [
    "communities_path = \"/Users/matevass/Documents/Projects/KGEntityMatching/data/communities/\"\n",
    "communities = list()\n",
    "to_add = list({i} for i in G.nodes)\n",
    "to_delete = list()\n",
    "\n",
    "print(\"Parameters - connected_percent: \" + str(connected_percent) + \" - times_average: \" + str(times_average))\n",
    "print(\"Searching for communities in graph \" + graph)\n",
    "\n",
    "for community_size in range(2, max_community_size + 1):\n",
    "    print(\"Community size: \" + str(community_size))\n",
    "    last_iteration = 0\n",
    "    communities_to_test = to_add.copy()\n",
    "    to_add.clear()\n",
    "    to_delete.clear()\n",
    "    count = 0\n",
    "    number_to_test = len(communities_to_test)\n",
    "    print(\"Number of communities to test: \" + str(number_to_test))\n",
    "    for community in communities_to_test:\n",
    "        count += 1\n",
    "        if count % 1000 == 0:\n",
    "            print(str(count) + \"/\" + str(number_to_test))\n",
    "        neighbors = set()\n",
    "        for node in community:\n",
    "            neighbors.update(G.neighbors(node))\n",
    "        neighbors = [item for item in neighbors if item not in community]\n",
    "        for node in neighbors:\n",
    "            community_temp = community.copy()\n",
    "            community_temp.add(node)\n",
    "            #if community_temp in to_add:\n",
    "                #continue\n",
    "            H = G.subgraph(community_temp)\n",
    "            if len(H[node]) >= (community_size - 1) * connected_percent and \\\n",
    "                    np.mean([weight for _, _, weight in H.edges(data='weight')]) > mean_edge_weight * times_average:\n",
    "                last_iteration += 1\n",
    "                if community not in to_delete:\n",
    "                    to_delete.append(community)\n",
    "                if set(community_temp) not in to_add:\n",
    "                    to_add.append(community_temp)\n",
    "                    \n",
    "    if community_size == 2:\n",
    "        communities = [item for item in communities if len(item) != 1]\n",
    "    if last_iteration == 0:\n",
    "        print(\"Break at community size: \" + str(community_size))\n",
    "        break\n",
    "    \n",
    "    communities = [item for item in communities if item not in to_delete]\n",
    "    communities.extend(to_add)\n",
    "    print(\"Total communities: \" + str(len(communities)))\n",
    "\n",
    "with open(communities_path + graph + \".csv\", 'w') as communities_output:\n",
    "    for community in communities:\n",
    "        communities_output.write(str(community)\n",
    "                                 .replace(\"{\", \"\")\n",
    "                                 .replace(\"}\", \"\")\n",
    "                                 .replace(\", \", \";\") + \"\\n\")\n",
    "\n",
    "print(\"Communities for graph \" + graph + \" found\")"
   ],
   "id": "360dfef6d42004b",
   "outputs": [
    {
     "name": "stdout",
     "output_type": "stream",
     "text": [
      "Parameters - connected_percent: 0.75 - times_average: 1.5\n",
      "Searching for communities in graph swtor\n",
      "Community size: 2\n",
      "Number of communities to test: 18125\n",
      "1000/18125\n",
      "2000/18125\n",
      "3000/18125\n",
      "4000/18125\n",
      "5000/18125\n",
      "6000/18125\n",
      "7000/18125\n",
      "8000/18125\n",
      "9000/18125\n",
      "10000/18125\n",
      "11000/18125\n",
      "12000/18125\n",
      "13000/18125\n",
      "14000/18125\n",
      "15000/18125\n",
      "16000/18125\n",
      "17000/18125\n",
      "18000/18125\n",
      "Total communities: 16207\n",
      "Community size: 3\n",
      "Number of communities to test: 16207\n",
      "1000/16207\n",
      "2000/16207\n",
      "3000/16207\n",
      "4000/16207\n",
      "5000/16207\n",
      "6000/16207\n",
      "7000/16207\n",
      "8000/16207\n",
      "9000/16207\n",
      "10000/16207\n",
      "11000/16207\n",
      "12000/16207\n",
      "13000/16207\n",
      "14000/16207\n",
      "15000/16207\n",
      "16000/16207\n",
      "Total communities: 14352\n",
      "Community size: 4\n",
      "Number of communities to test: 4564\n",
      "1000/4564\n",
      "2000/4564\n",
      "3000/4564\n",
      "4000/4564\n",
      "Total communities: 13387\n",
      "Community size: 5\n",
      "Number of communities to test: 675\n",
      "Total communities: 13707\n",
      "Community size: 6\n",
      "Number of communities to test: 909\n",
      "Total communities: 13505\n",
      "Community size: 7\n",
      "Number of communities to test: 353\n",
      "Total communities: 13362\n",
      "Community size: 8\n",
      "Number of communities to test: 66\n",
      "Total communities: 13359\n",
      "Community size: 9\n",
      "Number of communities to test: 44\n",
      "Total communities: 13357\n",
      "Community size: 10\n",
      "Number of communities to test: 8\n",
      "Break at community size: 10\n",
      "Communities for graph swtor found\n"
     ]
    }
   ],
   "execution_count": 6
  },
  {
   "metadata": {
    "ExecuteTime": {
     "end_time": "2024-09-16T16:11:54.243663Z",
     "start_time": "2024-09-16T16:11:54.241356Z"
    }
   },
   "cell_type": "code",
   "source": "",
   "id": "2dd273712d818a3d",
   "outputs": [],
   "execution_count": null
  }
 ],
 "metadata": {
  "kernelspec": {
   "display_name": "Python 3",
   "language": "python",
   "name": "python3"
  },
  "language_info": {
   "codemirror_mode": {
    "name": "ipython",
    "version": 2
   },
   "file_extension": ".py",
   "mimetype": "text/x-python",
   "name": "python",
   "nbconvert_exporter": "python",
   "pygments_lexer": "ipython2",
   "version": "2.7.6"
  }
 },
 "nbformat": 4,
 "nbformat_minor": 5
}
