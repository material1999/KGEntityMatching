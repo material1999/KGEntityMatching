{
 "cells": [
  {
   "cell_type": "code",
   "id": "initial_id",
   "metadata": {
    "collapsed": true,
    "ExecuteTime": {
     "end_time": "2025-07-15T12:48:33.040095Z",
     "start_time": "2025-07-15T12:48:29.030538Z"
    }
   },
   "source": [
    "import json\n",
    "import torch\n",
    "from sentence_transformers import util\n",
    "from transformers import AutoModelForSequenceClassification, AutoTokenizer"
   ],
   "outputs": [],
   "execution_count": 1
  },
  {
   "metadata": {
    "ExecuteTime": {
     "end_time": "2025-07-15T12:48:33.829784Z",
     "start_time": "2025-07-15T12:48:33.824792Z"
    }
   },
   "cell_type": "code",
   "source": [
    "small = \"stexpanded\"\n",
    "big = \"memoryalpha\"\n",
    "embeddings = \"dogtag_bgelarge\"\n",
    "top = 100"
   ],
   "id": "d87649d0a3987683",
   "outputs": [],
   "execution_count": 2
  },
  {
   "metadata": {
    "ExecuteTime": {
     "end_time": "2025-07-15T12:48:34.601714Z",
     "start_time": "2025-07-15T12:48:34.596321Z"
    }
   },
   "cell_type": "code",
   "source": [
    "mappings_file_small = \"./_input/mappings/\" + small + \".json\"\n",
    "mappings_file_big = \"./_input/mappings/\" + big + \".json\"\n",
    "\n",
    "node_embeddings_small_file = \"./_input/node_embeddings/\" + embeddings + \"/\" + small + \".json\"\n",
    "node_embeddings_big_file = \"./_input/node_embeddings/\" + embeddings + \"/\" + big + \".json\"\n",
    "\n",
    "dogtags_small_file = \"./_input/dogtags/\" + small + \".json\"\n",
    "dogtags_big_file = \"./_input/dogtags/\" + big + \".json\"\n",
    "\n",
    "exact_match_file = \"./_input/exact_match/\" + small + \"-\" + big + \".json\"\n",
    "gold_pairs_file = \"./_input/gold_pairs/\" + small + \"-\" + big + \".txt\"\n",
    "\n",
    "output_file = \"./_input/found_pairs/\" + small + \"-\" + big + \".txt\""
   ],
   "id": "9b4a6dcbcf0757b2",
   "outputs": [],
   "execution_count": 3
  },
  {
   "metadata": {
    "ExecuteTime": {
     "end_time": "2025-07-15T12:48:53.640942Z",
     "start_time": "2025-07-15T12:48:37.491451Z"
    }
   },
   "cell_type": "code",
   "source": [
    "with open(mappings_file_small) as file:\n",
    "    mappings_small = {str(v): k for k, v in json.load(file).items()}\n",
    "    mappings_small_reversed = {v: k for k, v in mappings_small.items()}\n",
    "\n",
    "with open(mappings_file_big) as file:\n",
    "    mappings_big = {str(v): k for k, v in json.load(file).items()}\n",
    "    mappings_big_reversed = {v: k for k, v in mappings_big.items()}\n",
    "\n",
    "with open(node_embeddings_small_file) as nesf:\n",
    "    node_embeddings_small = json.load(nesf)\n",
    "    node_embeddings_small = {mappings_small_reversed[k]: v for k, v in node_embeddings_small.items()}\n",
    "\n",
    "with open(node_embeddings_big_file) as nebf:\n",
    "    node_embeddings_big = json.load(nebf)\n",
    "    node_embeddings_big = {mappings_big_reversed[k]: v for k, v in node_embeddings_big.items()}\n",
    "\n",
    "with open(dogtags_small_file) as df:\n",
    "    dogtags_small = json.load(df)\n",
    "\n",
    "with open(dogtags_big_file) as df:\n",
    "    dogtags_big = json.load(df)"
   ],
   "id": "f12028cb602403d2",
   "outputs": [],
   "execution_count": 4
  },
  {
   "metadata": {
    "ExecuteTime": {
     "end_time": "2025-07-15T12:49:02.561045Z",
     "start_time": "2025-07-15T12:49:02.516672Z"
    }
   },
   "cell_type": "code",
   "source": [
    "node_embeddings_small_list = list()\n",
    "node_ids_small_list = list()\n",
    "\n",
    "node_embeddings_big_list = list()\n",
    "node_ids_big_list = list()\n",
    "\n",
    "for k, v in node_embeddings_small.items():\n",
    "    node_ids_small_list.append(k)\n",
    "    node_embeddings_small_list.append(v)\n",
    "\n",
    "for k, v in node_embeddings_big.items():\n",
    "    node_ids_big_list.append(k)\n",
    "    node_embeddings_big_list.append(v)"
   ],
   "id": "1bf3506ebe7eda",
   "outputs": [],
   "execution_count": 5
  },
  {
   "metadata": {
    "ExecuteTime": {
     "end_time": "2025-07-15T12:50:26.915720Z",
     "start_time": "2025-07-15T12:50:14.945426Z"
    }
   },
   "cell_type": "code",
   "source": [
    "tensor_small = torch.Tensor(node_embeddings_small_list)\n",
    "tensor_big = torch.Tensor(node_embeddings_big_list)\n",
    "node_order = util.semantic_search(tensor_small, tensor_big, top_k=top)"
   ],
   "id": "9bd58c97a518bffb",
   "outputs": [],
   "execution_count": 10
  },
  {
   "metadata": {
    "ExecuteTime": {
     "end_time": "2025-07-15T12:50:32.155991Z",
     "start_time": "2025-07-15T12:50:28.981516Z"
    }
   },
   "cell_type": "code",
   "source": [
    "top_dict = dict()\n",
    "for idx, (node_id, order) in enumerate(zip(node_ids_small_list, node_order)):\n",
    "    items_list = list()\n",
    "    for item in order:\n",
    "        items_list.append((node_ids_big_list[item['corpus_id']], item['score']))\n",
    "    top_dict[node_id] = items_list"
   ],
   "id": "3c7c4a5d23889fad",
   "outputs": [],
   "execution_count": 11
  },
  {
   "metadata": {
    "ExecuteTime": {
     "end_time": "2025-07-15T12:50:36.658019Z",
     "start_time": "2025-07-15T12:50:32.819597Z"
    }
   },
   "cell_type": "code",
   "source": [
    "tokenizer = AutoTokenizer.from_pretrained('BAAI/bge-reranker-large')\n",
    "model = AutoModelForSequenceClassification.from_pretrained('BAAI/bge-reranker-large')\n",
    "model.eval()"
   ],
   "id": "c2e8bc0718b2fe6f",
   "outputs": [
    {
     "data": {
      "text/plain": [
       "XLMRobertaForSequenceClassification(\n",
       "  (roberta): XLMRobertaModel(\n",
       "    (embeddings): XLMRobertaEmbeddings(\n",
       "      (word_embeddings): Embedding(250002, 1024, padding_idx=1)\n",
       "      (position_embeddings): Embedding(514, 1024, padding_idx=1)\n",
       "      (token_type_embeddings): Embedding(1, 1024)\n",
       "      (LayerNorm): LayerNorm((1024,), eps=1e-05, elementwise_affine=True)\n",
       "      (dropout): Dropout(p=0.1, inplace=False)\n",
       "    )\n",
       "    (encoder): XLMRobertaEncoder(\n",
       "      (layer): ModuleList(\n",
       "        (0-23): 24 x XLMRobertaLayer(\n",
       "          (attention): XLMRobertaAttention(\n",
       "            (self): XLMRobertaSdpaSelfAttention(\n",
       "              (query): Linear(in_features=1024, out_features=1024, bias=True)\n",
       "              (key): Linear(in_features=1024, out_features=1024, bias=True)\n",
       "              (value): Linear(in_features=1024, out_features=1024, bias=True)\n",
       "              (dropout): Dropout(p=0.1, inplace=False)\n",
       "            )\n",
       "            (output): XLMRobertaSelfOutput(\n",
       "              (dense): Linear(in_features=1024, out_features=1024, bias=True)\n",
       "              (LayerNorm): LayerNorm((1024,), eps=1e-05, elementwise_affine=True)\n",
       "              (dropout): Dropout(p=0.1, inplace=False)\n",
       "            )\n",
       "          )\n",
       "          (intermediate): XLMRobertaIntermediate(\n",
       "            (dense): Linear(in_features=1024, out_features=4096, bias=True)\n",
       "            (intermediate_act_fn): GELUActivation()\n",
       "          )\n",
       "          (output): XLMRobertaOutput(\n",
       "            (dense): Linear(in_features=4096, out_features=1024, bias=True)\n",
       "            (LayerNorm): LayerNorm((1024,), eps=1e-05, elementwise_affine=True)\n",
       "            (dropout): Dropout(p=0.1, inplace=False)\n",
       "          )\n",
       "        )\n",
       "      )\n",
       "    )\n",
       "  )\n",
       "  (classifier): XLMRobertaClassificationHead(\n",
       "    (dense): Linear(in_features=1024, out_features=1024, bias=True)\n",
       "    (dropout): Dropout(p=0.1, inplace=False)\n",
       "    (out_proj): Linear(in_features=1024, out_features=1, bias=True)\n",
       "  )\n",
       ")"
      ]
     },
     "execution_count": 12,
     "metadata": {},
     "output_type": "execute_result"
    }
   ],
   "execution_count": 12
  },
  {
   "metadata": {
    "ExecuteTime": {
     "end_time": "2025-07-15T13:54:09.497052Z",
     "start_time": "2025-07-15T13:50:22.641595Z"
    }
   },
   "cell_type": "code",
   "source": [
    "with open(output_file, \"w\") as file:\n",
    "    runs = 0\n",
    "    for node in node_ids_small_list:\n",
    "        if runs == 3:\n",
    "            break\n",
    "        runs += 1\n",
    "        id_list = list()\n",
    "        str_list = list()\n",
    "        for i in range(0, top):\n",
    "            id_list.append(top_dict[node][i][0])\n",
    "            str_list.append(\n",
    "                [\n",
    "                    str(dogtags_small[mappings_small[node]]),\n",
    "                    str(dogtags_big[mappings_big[top_dict[node][i][0]]])\n",
    "                ]\n",
    "            )\n",
    "\n",
    "        pairs = str_list\n",
    "        with torch.no_grad():\n",
    "            inputs = tokenizer(pairs, padding=True, truncation=True, return_tensors='pt', max_length=512)\n",
    "            scores = model(**inputs, return_dict=True).logits.view(-1, ).float()\n",
    "            # print(scores)\n",
    "\n",
    "        max_index = torch.argmax(scores)\n",
    "        max_index_int = int(max_index.item())\n",
    "        max_value = scores[max_index]\n",
    "        max_value_float = float(max_value.item())\n",
    "\n",
    "        file.write(\n",
    "            mappings_small[node] + \"###\" +\n",
    "            mappings_big[id_list[max_index_int]] + \"###\" +\n",
    "            str(max_value_float) + \"\\n\"\n",
    "        )\n",
    "        file.flush()"
   ],
   "id": "c362c5d51858a010",
   "outputs": [],
   "execution_count": 15
  },
  {
   "metadata": {
    "ExecuteTime": {
     "end_time": "2025-07-14T19:46:34.106950Z",
     "start_time": "2025-07-14T19:46:34.104007Z"
    }
   },
   "cell_type": "code",
   "source": "",
   "id": "31f47c529f5212f3",
   "outputs": [],
   "execution_count": null
  }
 ],
 "metadata": {
  "kernelspec": {
   "display_name": "Python 3",
   "language": "python",
   "name": "python3"
  },
  "language_info": {
   "codemirror_mode": {
    "name": "ipython",
    "version": 2
   },
   "file_extension": ".py",
   "mimetype": "text/x-python",
   "name": "python",
   "nbconvert_exporter": "python",
   "pygments_lexer": "ipython2",
   "version": "2.7.6"
  }
 },
 "nbformat": 4,
 "nbformat_minor": 5
}
