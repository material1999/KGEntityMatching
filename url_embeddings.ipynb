{
 "cells": [
  {
   "cell_type": "code",
   "id": "initial_id",
   "metadata": {
    "collapsed": true
   },
   "source": [
    "from sentence_transformers import SentenceTransformer\n",
    "import os\n",
    "import json\n",
    "from tqdm import tqdm\n",
    "\n",
    "os.environ[\"CUDA_DEVICE_ORDER\"] = \"PCI_BUS_ID\"\n",
    "os.environ[\"CUDA_VISIBLE_DEVICES\"] = \"0\"\n",
    "gpu = True\n",
    "bge_large = \"BAAI/bge-large-en-v1.5\"\n",
    "\n",
    "graphs = [\"stexpanded\"]\n",
    "graph_path = \"data/triples_v2/\"\n",
    "embeddings_output_path = \"results/url_embeddings/\"\n",
    "\n",
    "exclusions = [\".jpg\", \".jpeg\", \".png\", \".gif\"]"
   ],
   "outputs": [],
   "execution_count": null
  },
  {
   "metadata": {},
   "cell_type": "code",
   "source": [
    "def get_mappings(graph_name):\n",
    "    with open(graph_path + graph_name + \"_mapping.json\") as mf:\n",
    "        mappings = json.load(mf)\n",
    "        mappings_dict = {value: key for key, value in mappings.items()}\n",
    "        return mappings_dict\n",
    "\n",
    "\n",
    "def get_urls(mappings):\n",
    "    urls = dict()\n",
    "    for key, value in mappings.items():\n",
    "        if value.startswith(\"http\"):\n",
    "            if all(item not in value for item in exclusions):\n",
    "                urls[key] = value\n",
    "    return urls\n",
    "\n",
    "\n",
    "def sentence_embed(dogtags, model_name=\"dunzhang/stella_en_400M_v5\", gpu=False):\n",
    "    if gpu:\n",
    "        model = SentenceTransformer(model_name, trust_remote_code=True, device=\"cuda\").cuda()\n",
    "    else:\n",
    "        model = SentenceTransformer(model_name, trust_remote_code=True, device=\"cpu\")\n",
    "\n",
    "    embeddings = dict()\n",
    "    for key, dt in tqdm(dogtags.items()):\n",
    "        query_embedding = model.encode(dt).tolist()\n",
    "        embeddings[key] = query_embedding\n",
    "    return embeddings\n",
    "\n",
    "\n",
    "def write_embeddings(graph_name, embeddings, extra_identifier=\"\"):\n",
    "    if extra_identifier is not None:\n",
    "        graph_name += f\"_{extra_identifier}\"\n",
    "    graph_name = graph_name.replace(\"/\", \"_\")\n",
    "    graph_name += \".json\"\n",
    "\n",
    "    with open(os.path.join(embeddings_output_path, graph_name), \"w\") as f:\n",
    "        json.dump(embeddings, f)"
   ],
   "id": "da73a7e14c55dbd3",
   "outputs": [],
   "execution_count": null
  },
  {
   "metadata": {},
   "cell_type": "code",
   "source": [
    "selected_embedder = bge_large\n",
    "print(\"Model:\", selected_embedder)\n",
    "\n",
    "for g in graphs:\n",
    "    print(g)\n",
    "    mappings = get_mappings(g)\n",
    "    urls = get_urls(mappings)\n",
    "    print(\"URLs created\")\n",
    "    embeddings = sentence_embed(urls, model_name=selected_embedder, gpu=gpu)\n",
    "    print(\"Writing embeddings...\")\n",
    "    write_embeddings(g, embeddings, f\"url_{selected_embedder}\")\n",
    "    print(\"Done...\")"
   ],
   "id": "f612f03bdb6fa496",
   "outputs": [],
   "execution_count": null
  },
  {
   "metadata": {},
   "cell_type": "code",
   "source": "urls",
   "id": "dbe7f47b23989ecc",
   "outputs": [],
   "execution_count": null
  },
  {
   "metadata": {},
   "cell_type": "code",
   "source": "",
   "id": "f60dd8dfe7422e06",
   "outputs": [],
   "execution_count": null
  }
 ],
 "metadata": {
  "kernelspec": {
   "display_name": "Python 3",
   "language": "python",
   "name": "python3"
  },
  "language_info": {
   "codemirror_mode": {
    "name": "ipython",
    "version": 2
   },
   "file_extension": ".py",
   "mimetype": "text/x-python",
   "name": "python",
   "nbconvert_exporter": "python",
   "pygments_lexer": "ipython2",
   "version": "2.7.6"
  }
 },
 "nbformat": 4,
 "nbformat_minor": 5
}
