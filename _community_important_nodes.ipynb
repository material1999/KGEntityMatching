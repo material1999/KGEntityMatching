{
 "cells": [
  {
   "cell_type": "code",
   "id": "initial_id",
   "metadata": {
    "collapsed": true,
    "ExecuteTime": {
     "end_time": "2025-03-24T09:18:07.802749Z",
     "start_time": "2025-03-24T09:18:07.772192Z"
    }
   },
   "source": [
    "import json\n",
    "from tqdm import tqdm\n",
    "import networkx as nx\n",
    "import pandas as pd"
   ],
   "outputs": [],
   "execution_count": 7
  },
  {
   "metadata": {
    "ExecuteTime": {
     "end_time": "2025-03-24T09:18:08.495838Z",
     "start_time": "2025-03-24T09:18:08.488585Z"
    }
   },
   "cell_type": "code",
   "source": [
    "graph = \"memoryalpha\"\n",
    "communities_file = \"results/communities_bigclam_new/\" + graph + \"_10000.txt\"\n",
    "graph_file = \"data/filtered_triples/\" + graph + \".triples\"\n",
    "mappings_file = \"data/triples_v2/\" + str(graph) + \"_mapping.json\"\n",
    "top_betweenness_file = \"results/top_betweenness_bigclam/\" + graph + \".json\"\n",
    "# k = 1000"
   ],
   "id": "71c9357a3f878d99",
   "outputs": [],
   "execution_count": 8
  },
  {
   "metadata": {
    "ExecuteTime": {
     "end_time": "2025-03-24T09:18:16.648985Z",
     "start_time": "2025-03-24T09:18:10.626300Z"
    }
   },
   "cell_type": "code",
   "source": [
    "graph_df = pd.read_csv(graph_file, sep=\"###\", engine=\"python\", header=None)\n",
    "G_nx = nx.Graph()\n",
    "for row in graph_df.itertuples():\n",
    "    G_nx.add_edge(int(row[1]), int(row[2]))\n",
    "print(G_nx)"
   ],
   "id": "175e31ae63f04572",
   "outputs": [
    {
     "name": "stdout",
     "output_type": "stream",
     "text": [
      "Graph with 69445 nodes and 1307028 edges\n"
     ]
    }
   ],
   "execution_count": 9
  },
  {
   "metadata": {
    "ExecuteTime": {
     "end_time": "2025-03-24T09:52:20.098743Z",
     "start_time": "2025-03-24T09:18:18.009008Z"
    }
   },
   "cell_type": "code",
   "source": [
    "with open(communities_file, 'r') as communities_input, open(mappings_file, \"r\") as mappings_input:\n",
    "    print(\"Processing graph \" + graph)\n",
    "    mappings = json.load(mappings_input)\n",
    "    results = []\n",
    "    for line in tqdm(communities_input):\n",
    "        # entities = [int(e) for e in line.strip().split(\" \")]\n",
    "        entities = [int(e) for e in line.strip().split(\"\\t\")]\n",
    "        G = G_nx.subgraph(entities)\n",
    "        # if len(G.nodes) > k:\n",
    "        #     betweenness = nx.betweenness_centrality(G, k=k)\n",
    "        # else:\n",
    "        #     betweenness = nx.betweenness_centrality(G)\n",
    "        betweenness = nx.betweenness_centrality(G)\n",
    "        top_100_betweenness = dict(sorted(betweenness.items(), key=lambda item: item[1], reverse=True)[:100])\n",
    "        results.append(top_100_betweenness)\n",
    "\n",
    "with open(top_betweenness_file, \"w\") as f:\n",
    "    json.dump(results, f, indent=4)"
   ],
   "id": "90953e49f9009bb3",
   "outputs": [
    {
     "name": "stdout",
     "output_type": "stream",
     "text": [
      "Processing graph memoryalpha\n"
     ]
    },
    {
     "name": "stderr",
     "output_type": "stream",
     "text": [
      "1it [34:01, 2041.59s/it]\n"
     ]
    },
    {
     "ename": "KeyboardInterrupt",
     "evalue": "",
     "output_type": "error",
     "traceback": [
      "\u001B[0;31m---------------------------------------------------------------------------\u001B[0m",
      "\u001B[0;31mKeyboardInterrupt\u001B[0m                         Traceback (most recent call last)",
      "Cell \u001B[0;32mIn[10], line 13\u001B[0m\n\u001B[1;32m      8\u001B[0m G \u001B[38;5;241m=\u001B[39m G_nx\u001B[38;5;241m.\u001B[39msubgraph(entities)\n\u001B[1;32m      9\u001B[0m \u001B[38;5;66;03m# if len(G.nodes) > k:\u001B[39;00m\n\u001B[1;32m     10\u001B[0m \u001B[38;5;66;03m#     betweenness = nx.betweenness_centrality(G, k=k)\u001B[39;00m\n\u001B[1;32m     11\u001B[0m \u001B[38;5;66;03m# else:\u001B[39;00m\n\u001B[1;32m     12\u001B[0m \u001B[38;5;66;03m#     betweenness = nx.betweenness_centrality(G)\u001B[39;00m\n\u001B[0;32m---> 13\u001B[0m betweenness \u001B[38;5;241m=\u001B[39m \u001B[43mnx\u001B[49m\u001B[38;5;241;43m.\u001B[39;49m\u001B[43mbetweenness_centrality\u001B[49m\u001B[43m(\u001B[49m\u001B[43mG\u001B[49m\u001B[43m)\u001B[49m\n\u001B[1;32m     14\u001B[0m top_100_betweenness \u001B[38;5;241m=\u001B[39m \u001B[38;5;28mdict\u001B[39m(\u001B[38;5;28msorted\u001B[39m(betweenness\u001B[38;5;241m.\u001B[39mitems(), key\u001B[38;5;241m=\u001B[39m\u001B[38;5;28;01mlambda\u001B[39;00m item: item[\u001B[38;5;241m1\u001B[39m], reverse\u001B[38;5;241m=\u001B[39m\u001B[38;5;28;01mTrue\u001B[39;00m)[:\u001B[38;5;241m100\u001B[39m])\n\u001B[1;32m     15\u001B[0m results\u001B[38;5;241m.\u001B[39mappend(top_100_betweenness)\n",
      "File \u001B[0;32m<class 'networkx.utils.decorators.argmap'> compilation 5:4\u001B[0m, in \u001B[0;36margmap_betweenness_centrality_1\u001B[0;34m(G, k, normalized, weight, endpoints, seed, backend, **backend_kwargs)\u001B[0m\n\u001B[1;32m      2\u001B[0m \u001B[38;5;28;01mimport\u001B[39;00m \u001B[38;5;21;01mcollections\u001B[39;00m\n\u001B[1;32m      3\u001B[0m \u001B[38;5;28;01mimport\u001B[39;00m \u001B[38;5;21;01mgzip\u001B[39;00m\n\u001B[0;32m----> 4\u001B[0m \u001B[38;5;28;01mimport\u001B[39;00m \u001B[38;5;21;01minspect\u001B[39;00m\n\u001B[1;32m      5\u001B[0m \u001B[38;5;28;01mimport\u001B[39;00m \u001B[38;5;21;01mitertools\u001B[39;00m\n\u001B[1;32m      6\u001B[0m \u001B[38;5;28;01mimport\u001B[39;00m \u001B[38;5;21;01mre\u001B[39;00m\n",
      "File \u001B[0;32m~/Documents/Projects/KGEntityMatching/venv/lib/python3.10/site-packages/networkx/utils/backends.py:633\u001B[0m, in \u001B[0;36m_dispatchable.__call__\u001B[0;34m(self, backend, *args, **kwargs)\u001B[0m\n\u001B[1;32m    628\u001B[0m \u001B[38;5;250m\u001B[39m\u001B[38;5;124;03m\"\"\"Returns the result of the original function, or the backend function if\u001B[39;00m\n\u001B[1;32m    629\u001B[0m \u001B[38;5;124;03mthe backend is specified and that backend implements `func`.\"\"\"\u001B[39;00m\n\u001B[1;32m    631\u001B[0m \u001B[38;5;28;01mif\u001B[39;00m \u001B[38;5;129;01mnot\u001B[39;00m backends:\n\u001B[1;32m    632\u001B[0m     \u001B[38;5;66;03m# Fast path if no backends are installed\u001B[39;00m\n\u001B[0;32m--> 633\u001B[0m     \u001B[38;5;28;01mreturn\u001B[39;00m \u001B[38;5;28;43mself\u001B[39;49m\u001B[38;5;241;43m.\u001B[39;49m\u001B[43morig_func\u001B[49m\u001B[43m(\u001B[49m\u001B[38;5;241;43m*\u001B[39;49m\u001B[43margs\u001B[49m\u001B[43m,\u001B[49m\u001B[43m \u001B[49m\u001B[38;5;241;43m*\u001B[39;49m\u001B[38;5;241;43m*\u001B[39;49m\u001B[43mkwargs\u001B[49m\u001B[43m)\u001B[49m\n\u001B[1;32m    635\u001B[0m \u001B[38;5;66;03m# Use `backend_name` in this function instead of `backend`\u001B[39;00m\n\u001B[1;32m    636\u001B[0m backend_name \u001B[38;5;241m=\u001B[39m backend\n",
      "File \u001B[0;32m~/Documents/Projects/KGEntityMatching/venv/lib/python3.10/site-packages/networkx/algorithms/centrality/betweenness.py:136\u001B[0m, in \u001B[0;36mbetweenness_centrality\u001B[0;34m(G, k, normalized, weight, endpoints, seed)\u001B[0m\n\u001B[1;32m    133\u001B[0m \u001B[38;5;28;01mfor\u001B[39;00m s \u001B[38;5;129;01min\u001B[39;00m nodes:\n\u001B[1;32m    134\u001B[0m     \u001B[38;5;66;03m# single source shortest paths\u001B[39;00m\n\u001B[1;32m    135\u001B[0m     \u001B[38;5;28;01mif\u001B[39;00m weight \u001B[38;5;129;01mis\u001B[39;00m \u001B[38;5;28;01mNone\u001B[39;00m:  \u001B[38;5;66;03m# use BFS\u001B[39;00m\n\u001B[0;32m--> 136\u001B[0m         S, P, sigma, _ \u001B[38;5;241m=\u001B[39m \u001B[43m_single_source_shortest_path_basic\u001B[49m\u001B[43m(\u001B[49m\u001B[43mG\u001B[49m\u001B[43m,\u001B[49m\u001B[43m \u001B[49m\u001B[43ms\u001B[49m\u001B[43m)\u001B[49m\n\u001B[1;32m    137\u001B[0m     \u001B[38;5;28;01melse\u001B[39;00m:  \u001B[38;5;66;03m# use Dijkstra's algorithm\u001B[39;00m\n\u001B[1;32m    138\u001B[0m         S, P, sigma, _ \u001B[38;5;241m=\u001B[39m _single_source_dijkstra_path_basic(G, s, weight)\n",
      "File \u001B[0;32m~/Documents/Projects/KGEntityMatching/venv/lib/python3.10/site-packages/networkx/algorithms/centrality/betweenness.py:270\u001B[0m, in \u001B[0;36m_single_source_shortest_path_basic\u001B[0;34m(G, s)\u001B[0m\n\u001B[1;32m    268\u001B[0m Dv \u001B[38;5;241m=\u001B[39m D[v]\n\u001B[1;32m    269\u001B[0m sigmav \u001B[38;5;241m=\u001B[39m sigma[v]\n\u001B[0;32m--> 270\u001B[0m \u001B[38;5;28;01mfor\u001B[39;00m w \u001B[38;5;129;01min\u001B[39;00m G[v]:\n\u001B[1;32m    271\u001B[0m     \u001B[38;5;28;01mif\u001B[39;00m w \u001B[38;5;129;01mnot\u001B[39;00m \u001B[38;5;129;01min\u001B[39;00m D:\n\u001B[1;32m    272\u001B[0m         Q\u001B[38;5;241m.\u001B[39mappend(w)\n",
      "File \u001B[0;32m~/Documents/Projects/KGEntityMatching/venv/lib/python3.10/site-packages/networkx/classes/coreviews.py:293\u001B[0m, in \u001B[0;36m<genexpr>\u001B[0;34m(.0)\u001B[0m\n\u001B[1;32m    291\u001B[0m \u001B[38;5;28;01mif\u001B[39;00m node_ok_shorter:\n\u001B[1;32m    292\u001B[0m     \u001B[38;5;28;01mreturn\u001B[39;00m (n \u001B[38;5;28;01mfor\u001B[39;00m n \u001B[38;5;129;01min\u001B[39;00m \u001B[38;5;28mself\u001B[39m\u001B[38;5;241m.\u001B[39mNODE_OK\u001B[38;5;241m.\u001B[39mnodes \u001B[38;5;28;01mif\u001B[39;00m n \u001B[38;5;129;01min\u001B[39;00m \u001B[38;5;28mself\u001B[39m\u001B[38;5;241m.\u001B[39m_atlas)\n\u001B[0;32m--> 293\u001B[0m \u001B[38;5;28;01mreturn\u001B[39;00m (n \u001B[38;5;28;01mfor\u001B[39;00m n \u001B[38;5;129;01min\u001B[39;00m \u001B[38;5;28mself\u001B[39m\u001B[38;5;241m.\u001B[39m_atlas \u001B[38;5;28;01mif\u001B[39;00m \u001B[38;5;28;43mself\u001B[39;49m\u001B[38;5;241;43m.\u001B[39;49m\u001B[43mNODE_OK\u001B[49m\u001B[43m(\u001B[49m\u001B[43mn\u001B[49m\u001B[43m)\u001B[49m)\n",
      "\u001B[0;31mKeyboardInterrupt\u001B[0m: "
     ]
    }
   ],
   "execution_count": 10
  },
  {
   "metadata": {},
   "cell_type": "code",
   "source": "",
   "id": "8062a1ce73365b9c",
   "outputs": [],
   "execution_count": null
  }
 ],
 "metadata": {
  "kernelspec": {
   "display_name": "Python 3",
   "language": "python",
   "name": "python3"
  },
  "language_info": {
   "codemirror_mode": {
    "name": "ipython",
    "version": 2
   },
   "file_extension": ".py",
   "mimetype": "text/x-python",
   "name": "python",
   "nbconvert_exporter": "python",
   "pygments_lexer": "ipython2",
   "version": "2.7.6"
  }
 },
 "nbformat": 4,
 "nbformat_minor": 5
}
