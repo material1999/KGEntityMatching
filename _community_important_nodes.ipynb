{
 "cells": [
  {
   "cell_type": "code",
   "id": "initial_id",
   "metadata": {
    "collapsed": true,
    "ExecuteTime": {
     "end_time": "2025-03-23T17:25:12.698374Z",
     "start_time": "2025-03-23T17:25:12.669914Z"
    }
   },
   "source": [
    "import json\n",
    "from tqdm import tqdm\n",
    "import networkx as nx\n",
    "import pandas as pd"
   ],
   "outputs": [],
   "execution_count": 5
  },
  {
   "metadata": {
    "ExecuteTime": {
     "end_time": "2025-03-23T17:25:13.416342Z",
     "start_time": "2025-03-23T17:25:13.409873Z"
    }
   },
   "cell_type": "code",
   "source": [
    "graph = \"memoryalpha\"\n",
    "communities_file = \"results/communities_leiden/\" + graph + \"/level_0.txt\"\n",
    "graph_file = \"data/filtered_triples/\" + graph + \".triples\"\n",
    "mappings_file = \"data/triples_v2/\" + str(graph) + \"_mapping.json\"\n",
    "top_betweenness_file = \"results/_top_betweenness/\" + graph + \".json\"\n",
    "# k = 1000"
   ],
   "id": "71c9357a3f878d99",
   "outputs": [],
   "execution_count": 6
  },
  {
   "metadata": {
    "ExecuteTime": {
     "end_time": "2025-03-23T17:25:22.282504Z",
     "start_time": "2025-03-23T17:25:16.390355Z"
    }
   },
   "cell_type": "code",
   "source": [
    "graph_df = pd.read_csv(graph_file, sep=\"###\", engine=\"python\", header=None)\n",
    "G_nx = nx.Graph()\n",
    "for row in graph_df.itertuples():\n",
    "    G_nx.add_edge(int(row[1]), int(row[2]))\n",
    "print(G_nx)"
   ],
   "id": "175e31ae63f04572",
   "outputs": [
    {
     "name": "stdout",
     "output_type": "stream",
     "text": [
      "Graph with 69445 nodes and 1307028 edges\n"
     ]
    }
   ],
   "execution_count": 7
  },
  {
   "metadata": {
    "ExecuteTime": {
     "end_time": "2025-03-23T17:28:11.629066Z",
     "start_time": "2025-03-23T17:28:11.298762Z"
    }
   },
   "cell_type": "code",
   "source": [
    "with open(communities_file, 'r') as communities_input, open(mappings_file, \"r\") as mappings_input:\n",
    "    print(\"Processing graph \" + graph)\n",
    "    mappings = json.load(mappings_input)\n",
    "    results = []\n",
    "    counter = 0\n",
    "    for line in tqdm(communities_input):\n",
    "        counter += 1\n",
    "        if counter != 17:\n",
    "            continue\n",
    "        entities = [int(e) for e in line.strip().split(\" \")]\n",
    "        G = G_nx.subgraph(entities)\n",
    "        # if len(G.nodes) > k:\n",
    "        #     betweenness = nx.betweenness_centrality(G, k=k)\n",
    "        # else:\n",
    "        #     betweenness = nx.betweenness_centrality(G)\n",
    "        betweenness = nx.betweenness_centrality(G)\n",
    "        top_100_betweenness = dict(sorted(betweenness.items(), key=lambda item: item[1], reverse=True)[:100])\n",
    "        results.append(top_100_betweenness)\n",
    "\n",
    "with open(top_betweenness_file, \"w\") as f:\n",
    "    json.dump(results, f, indent=4)"
   ],
   "id": "90953e49f9009bb3",
   "outputs": [
    {
     "name": "stdout",
     "output_type": "stream",
     "text": [
      "Processing graph memoryalpha\n"
     ]
    },
    {
     "name": "stderr",
     "output_type": "stream",
     "text": [
      "17it [00:00, 7113.25it/s]\n"
     ]
    }
   ],
   "execution_count": 11
  },
  {
   "metadata": {},
   "cell_type": "code",
   "source": "",
   "id": "8062a1ce73365b9c",
   "outputs": [],
   "execution_count": null
  }
 ],
 "metadata": {
  "kernelspec": {
   "display_name": "Python 3",
   "language": "python",
   "name": "python3"
  },
  "language_info": {
   "codemirror_mode": {
    "name": "ipython",
    "version": 2
   },
   "file_extension": ".py",
   "mimetype": "text/x-python",
   "name": "python",
   "nbconvert_exporter": "python",
   "pygments_lexer": "ipython2",
   "version": "2.7.6"
  }
 },
 "nbformat": 4,
 "nbformat_minor": 5
}
