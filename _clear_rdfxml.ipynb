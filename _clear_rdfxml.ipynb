{
 "cells": [
  {
   "metadata": {
    "ExecuteTime": {
     "end_time": "2025-08-11T08:14:22.953061Z",
     "start_time": "2025-08-11T08:14:22.945115Z"
    }
   },
   "cell_type": "code",
   "source": [
    "from rdflib import Graph\n",
    "import os\n",
    "from urllib.parse import urlparse\n",
    "import re\n",
    "from tqdm import tqdm\n",
    "import json"
   ],
   "id": "63a3373d9b1c829",
   "outputs": [],
   "execution_count": 98
  },
  {
   "metadata": {
    "ExecuteTime": {
     "end_time": "2025-08-11T08:14:23.020826Z",
     "start_time": "2025-08-11T08:14:23.017800Z"
    }
   },
   "cell_type": "code",
   "source": [
    "graph = \"memorybeta\"\n",
    "output = \"./_input/dogtags/\" + graph + \".json\""
   ],
   "id": "21b9b99d5781698b",
   "outputs": [],
   "execution_count": 99
  },
  {
   "metadata": {
    "ExecuteTime": {
     "end_time": "2025-08-11T08:16:21.988968Z",
     "start_time": "2025-08-11T08:14:23.065140Z"
    }
   },
   "cell_type": "code",
   "source": [
    "g = Graph()\n",
    "g.parse(\"./_input/rdfxml/\" + graph + \".xml\", format=\"xml\")"
   ],
   "id": "cb30ea57158d04f",
   "outputs": [
    {
     "data": {
      "text/plain": [
       "<Graph identifier=Nf208c86fbc24459eb5df0229433d7847 (<class 'rdflib.graph.Graph'>)>"
      ]
     },
     "execution_count": 100,
     "metadata": {},
     "output_type": "execute_result"
    }
   ],
   "execution_count": 100
  },
  {
   "metadata": {
    "ExecuteTime": {
     "end_time": "2025-08-11T08:16:22.275137Z",
     "start_time": "2025-08-11T08:16:22.258607Z"
    }
   },
   "cell_type": "code",
   "source": [
    "property_str = None\n",
    "\n",
    "for prefix, namespace in g.namespaces():\n",
    "    if str(prefix) == \"ns1\":\n",
    "        property_str = str(namespace)\n",
    "\n",
    "resource_str = property_str.replace(\"property\", \"resource\")\n",
    "class_str = property_str.replace(\"property\", \"class\")"
   ],
   "id": "401528da3253e527",
   "outputs": [],
   "execution_count": 101
  },
  {
   "metadata": {
    "ExecuteTime": {
     "end_time": "2025-08-11T08:16:22.383501Z",
     "start_time": "2025-08-11T08:16:22.378168Z"
    }
   },
   "cell_type": "code",
   "source": [
    "namespace_list = [\n",
    "    str(namespace)\n",
    "    for prefix, namespace in g.namespaces()\n",
    "    if str(namespace) == property_str or not str(namespace).startswith(property_str)\n",
    "]"
   ],
   "id": "5ec529eefe261224",
   "outputs": [],
   "execution_count": 102
  },
  {
   "metadata": {
    "ExecuteTime": {
     "end_time": "2025-08-11T08:16:22.400190Z",
     "start_time": "2025-08-11T08:16:22.391825Z"
    }
   },
   "cell_type": "code",
   "source": [
    "def clean_value(value):\n",
    "    s = str(value)\n",
    "    s = s.replace(resource_str, \"\")\n",
    "    s = s.replace(class_str, \"\")\n",
    "    s = re.sub(r'\\n+', '', s)\n",
    "    for sub in namespace_list:\n",
    "        s = s.replace(sub, \" \")\n",
    "    return s.strip()\n",
    "\n",
    "def is_image_url(url):\n",
    "    image_extensions = {\".jpg\", \".jpeg\", \".png\", \".gif\", \".bmp\", \".svg\", \".webp\", \".tiff\"}\n",
    "    path = urlparse(url).path\n",
    "    ext = os.path.splitext(path.lower())[1]\n",
    "    return ext in image_extensions\n",
    "\n",
    "def is_wikiPageWikiLink(value):\n",
    "    return \"wikiPageWikiLink\" in str(value)\n",
    "\n",
    "def is_wikiPageExternalLink(value):\n",
    "    return \"wikiPageExternalLink\" in str(value)"
   ],
   "id": "d2d5f1fb9d22f933",
   "outputs": [],
   "execution_count": 103
  },
  {
   "metadata": {
    "ExecuteTime": {
     "end_time": "2025-08-11T08:16:22.506231Z",
     "start_time": "2025-08-11T08:16:22.499424Z"
    }
   },
   "cell_type": "code",
   "source": [
    "# test_entity = \"http://dbkwik.webdatacommons.org/stexpanded.wikia.com/resource/Magna_Roma\"\n",
    "# test_entity = \"http://dbkwik.webdatacommons.org/stexpanded.wikia.com/resource/William_T._Riker\"\n",
    "# test_entity = \"http://dbkwik.webdatacommons.org/stexpanded.wikia.com/resource/James_T._Kirk_(Phase_II)\"\n",
    "# test_entity = \"http://dbkwik.webdatacommons.org/memory-alpha.wikia.com/resource/Roman_Empire_(892-IV)\"\n",
    "# test_entity = \"http://dbkwik.webdatacommons.org/memory-alpha.wikia.com/resource/892-IV\""
   ],
   "id": "7efe0dd77cb5e608",
   "outputs": [],
   "execution_count": 104
  },
  {
   "metadata": {
    "ExecuteTime": {
     "end_time": "2025-08-11T08:16:22.571349Z",
     "start_time": "2025-08-11T08:16:22.569258Z"
    }
   },
   "cell_type": "code",
   "source": [
    "# subject_name = False\n",
    "# cleaned_subj = \"\"\n",
    "# attribute_dict = dict()\n",
    "#\n",
    "# for subj, pred, obj in g:\n",
    "#     if str(subj) == test_entity:\n",
    "#\n",
    "#         if is_image_url(subj) or is_image_url(obj) or is_wikiPageWikiLink(pred) or is_wikiPageExternalLink(pred):\n",
    "#             continue\n",
    "#\n",
    "#         if not subject_name:\n",
    "#             cleaned_subj = clean_value(subj)\n",
    "#             subject_name = True\n",
    "#\n",
    "#         cleaned_pred = clean_value(pred)\n",
    "#         cleaned_obj  = clean_value(obj)\n",
    "#\n",
    "#         if cleaned_pred == \"comment\":\n",
    "#             continue\n",
    "#\n",
    "#         if cleaned_pred in attribute_dict:\n",
    "#             attribute_dict[cleaned_pred] = attribute_dict[cleaned_pred] + \", \" + cleaned_obj\n",
    "#         else:\n",
    "#             attribute_dict[cleaned_pred] = cleaned_obj\n",
    "#\n",
    "# sorted_dict = {k: attribute_dict[k] for k in sorted(attribute_dict)}\n",
    "# for k, v in sorted_dict.items():\n",
    "#     print(f\"- {k}: {v}\")"
   ],
   "id": "f42caf0ac5976291",
   "outputs": [],
   "execution_count": 105
  },
  {
   "metadata": {
    "ExecuteTime": {
     "end_time": "2025-08-11T08:18:22.863537Z",
     "start_time": "2025-08-11T08:16:22.636291Z"
    }
   },
   "cell_type": "code",
   "source": [
    "attribute_dict = dict()\n",
    "\n",
    "i = 0\n",
    "for subj, pred, obj in tqdm(g):\n",
    "\n",
    "    # i += 1\n",
    "    # if i == 100:\n",
    "    #     break\n",
    "    if is_image_url(subj) or is_image_url(obj) or is_wikiPageWikiLink(pred) or is_wikiPageExternalLink(pred):\n",
    "        continue\n",
    "\n",
    "    cleaned_subj = clean_value(subj)\n",
    "    str_subj = str(subj)\n",
    "    cleaned_pred = clean_value(pred)\n",
    "    cleaned_obj  = clean_value(obj)\n",
    "\n",
    "    if cleaned_pred == \"comment\":\n",
    "        continue\n",
    "\n",
    "    if str_subj in attribute_dict:\n",
    "        if cleaned_pred in attribute_dict[str_subj]:\n",
    "            attribute_dict[str_subj][cleaned_pred].append(cleaned_obj)\n",
    "        else:\n",
    "            attribute_dict[str_subj][cleaned_pred] = [cleaned_obj]\n",
    "    else:\n",
    "        attribute_dict[str_subj] = dict()\n",
    "        attribute_dict[str_subj][cleaned_pred] = [cleaned_obj]\n",
    "\n",
    "sorted_dict = {k: attribute_dict[k] for k in sorted(attribute_dict)}\n",
    "\n",
    "attribute_dict_sorted = dict()\n",
    "for k, v in attribute_dict.items():\n",
    "    attribute_dict_sorted[k] = {kk: v[kk] for kk in sorted(v)}"
   ],
   "id": "8983be255d0aa656",
   "outputs": [
    {
     "name": "stderr",
     "output_type": "stream",
     "text": [
      "100%|██████████| 2542909/2542909 [01:59<00:00, 21337.74it/s]\n"
     ]
    }
   ],
   "execution_count": 106
  },
  {
   "metadata": {
    "ExecuteTime": {
     "end_time": "2025-08-11T08:18:23.062543Z",
     "start_time": "2025-08-11T08:18:23.056155Z"
    }
   },
   "cell_type": "code",
   "source": "# attribute_dict_sorted[\"http://dbkwik.webdatacommons.org/stexpanded.wikia.com/resource/Magna_Roma\"]",
   "id": "5d001d3e72416783",
   "outputs": [],
   "execution_count": 107
  },
  {
   "metadata": {
    "ExecuteTime": {
     "end_time": "2025-08-11T08:18:24.795359Z",
     "start_time": "2025-08-11T08:18:23.483070Z"
    }
   },
   "cell_type": "code",
   "source": [
    "with open(output, \"w\") as json_file:\n",
    "    json.dump(attribute_dict_sorted, json_file, indent=4)"
   ],
   "id": "a61915af2f26d439",
   "outputs": [],
   "execution_count": 108
  },
  {
   "metadata": {
    "ExecuteTime": {
     "end_time": "2025-08-11T08:18:24.809308Z",
     "start_time": "2025-08-11T08:18:24.806847Z"
    }
   },
   "cell_type": "code",
   "source": "",
   "id": "c7d5c02e4b70bbcb",
   "outputs": [],
   "execution_count": null
  }
 ],
 "metadata": {
  "kernelspec": {
   "display_name": "Python 3",
   "language": "python",
   "name": "python3"
  },
  "language_info": {
   "codemirror_mode": {
    "name": "ipython",
    "version": 2
   },
   "file_extension": ".py",
   "mimetype": "text/x-python",
   "name": "python",
   "nbconvert_exporter": "python",
   "pygments_lexer": "ipython2",
   "version": "2.7.6"
  }
 },
 "nbformat": 4,
 "nbformat_minor": 5
}
