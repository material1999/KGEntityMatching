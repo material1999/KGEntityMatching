{
 "cells": [
  {
   "metadata": {
    "ExecuteTime": {
     "end_time": "2025-06-26T19:45:35.292518Z",
     "start_time": "2025-06-26T19:45:35.255724Z"
    }
   },
   "cell_type": "code",
   "source": [
    "from rdflib import Graph\n",
    "import os\n",
    "from urllib.parse import urlparse\n",
    "import re\n",
    "from tqdm import tqdm\n",
    "import json"
   ],
   "id": "63a3373d9b1c829",
   "outputs": [],
   "execution_count": 1
  },
  {
   "metadata": {
    "ExecuteTime": {
     "end_time": "2025-06-26T19:45:35.310803Z",
     "start_time": "2025-06-26T19:45:35.307256Z"
    }
   },
   "cell_type": "code",
   "source": [
    "graph = \"marvel\"\n",
    "output = \"./_input/dogtags/\" + graph + \".json\""
   ],
   "id": "21b9b99d5781698b",
   "outputs": [],
   "execution_count": 2
  },
  {
   "metadata": {
    "ExecuteTime": {
     "end_time": "2025-06-26T19:52:02.297326Z",
     "start_time": "2025-06-26T19:45:35.325706Z"
    }
   },
   "cell_type": "code",
   "source": [
    "g = Graph()\n",
    "g.parse(\"./_input/rdfxml/\" + graph + \".xml\", format=\"xml\")"
   ],
   "id": "cb30ea57158d04f",
   "outputs": [
    {
     "data": {
      "text/plain": [
       "<Graph identifier=Nb066c64aa1ba49fda2a2fd973aaef93a (<class 'rdflib.graph.Graph'>)>"
      ]
     },
     "execution_count": 3,
     "metadata": {},
     "output_type": "execute_result"
    }
   ],
   "execution_count": 3
  },
  {
   "metadata": {
    "ExecuteTime": {
     "end_time": "2025-06-26T19:52:03.862088Z",
     "start_time": "2025-06-26T19:52:03.856687Z"
    }
   },
   "cell_type": "code",
   "source": [
    "property_str = None\n",
    "\n",
    "for prefix, namespace in g.namespaces():\n",
    "    if str(prefix) == \"ns1\":\n",
    "        property_str = str(namespace)\n",
    "\n",
    "resource_str = property_str.replace(\"property\", \"resource\")\n",
    "class_str = property_str.replace(\"property\", \"class\")"
   ],
   "id": "401528da3253e527",
   "outputs": [],
   "execution_count": 4
  },
  {
   "metadata": {
    "ExecuteTime": {
     "end_time": "2025-06-26T19:52:04.039883Z",
     "start_time": "2025-06-26T19:52:04.037005Z"
    }
   },
   "cell_type": "code",
   "source": [
    "namespace_list = [\n",
    "    str(namespace)\n",
    "    for prefix, namespace in g.namespaces()\n",
    "    if str(namespace) == property_str or not str(namespace).startswith(property_str)\n",
    "]"
   ],
   "id": "5ec529eefe261224",
   "outputs": [],
   "execution_count": 5
  },
  {
   "metadata": {
    "ExecuteTime": {
     "end_time": "2025-06-26T19:52:04.090928Z",
     "start_time": "2025-06-26T19:52:04.085694Z"
    }
   },
   "cell_type": "code",
   "source": [
    "def clean_value(value):\n",
    "    s = str(value)\n",
    "    s = s.replace(resource_str, \"\")\n",
    "    s = s.replace(class_str, \"\")\n",
    "    s = re.sub(r'\\n+', '', s)\n",
    "    for sub in namespace_list:\n",
    "        s = s.replace(sub, \" \")\n",
    "    return s.strip()\n",
    "\n",
    "def is_image_url(url):\n",
    "    image_extensions = {\".jpg\", \".jpeg\", \".png\", \".gif\", \".bmp\", \".svg\", \".webp\", \".tiff\"}\n",
    "    path = urlparse(url).path\n",
    "    ext = os.path.splitext(path.lower())[1]\n",
    "    return ext in image_extensions\n",
    "\n",
    "def is_wikiPageWikiLink(value):\n",
    "    return \"wikiPageWikiLink\" in str(value)\n",
    "\n",
    "def is_wikiPageExternalLink(value):\n",
    "    return \"wikiPageExternalLink\" in str(value)"
   ],
   "id": "d2d5f1fb9d22f933",
   "outputs": [],
   "execution_count": 6
  },
  {
   "metadata": {
    "ExecuteTime": {
     "end_time": "2025-06-26T19:52:04.134612Z",
     "start_time": "2025-06-26T19:52:04.131110Z"
    }
   },
   "cell_type": "code",
   "source": [
    "# test_entity = \"http://dbkwik.webdatacommons.org/stexpanded.wikia.com/resource/Magna_Roma\"\n",
    "# test_entity = \"http://dbkwik.webdatacommons.org/stexpanded.wikia.com/resource/William_T._Riker\"\n",
    "# test_entity = \"http://dbkwik.webdatacommons.org/stexpanded.wikia.com/resource/James_T._Kirk_(Phase_II)\"\n",
    "# test_entity = \"http://dbkwik.webdatacommons.org/memory-alpha.wikia.com/resource/Roman_Empire_(892-IV)\"\n",
    "# test_entity = \"http://dbkwik.webdatacommons.org/memory-alpha.wikia.com/resource/892-IV\""
   ],
   "id": "7efe0dd77cb5e608",
   "outputs": [],
   "execution_count": 7
  },
  {
   "metadata": {
    "ExecuteTime": {
     "end_time": "2025-06-26T19:52:04.226136Z",
     "start_time": "2025-06-26T19:52:04.219642Z"
    }
   },
   "cell_type": "code",
   "source": [
    "# subject_name = False\n",
    "# cleaned_subj = \"\"\n",
    "# attribute_dict = dict()\n",
    "#\n",
    "# for subj, pred, obj in g:\n",
    "#     if str(subj) == test_entity:\n",
    "#\n",
    "#         if is_image_url(subj) or is_image_url(obj) or is_wikiPageWikiLink(pred) or is_wikiPageExternalLink(pred):\n",
    "#             continue\n",
    "#\n",
    "#         if not subject_name:\n",
    "#             cleaned_subj = clean_value(subj)\n",
    "#             subject_name = True\n",
    "#\n",
    "#         cleaned_pred = clean_value(pred)\n",
    "#         cleaned_obj  = clean_value(obj)\n",
    "#\n",
    "#         if cleaned_pred == \"comment\":\n",
    "#             continue\n",
    "#\n",
    "#         if cleaned_pred in attribute_dict:\n",
    "#             attribute_dict[cleaned_pred] = attribute_dict[cleaned_pred] + \", \" + cleaned_obj\n",
    "#         else:\n",
    "#             attribute_dict[cleaned_pred] = cleaned_obj\n",
    "#\n",
    "# sorted_dict = {k: attribute_dict[k] for k in sorted(attribute_dict)}\n",
    "# for k, v in sorted_dict.items():\n",
    "#     print(f\"- {k}: {v}\")"
   ],
   "id": "f42caf0ac5976291",
   "outputs": [],
   "execution_count": 8
  },
  {
   "metadata": {
    "ExecuteTime": {
     "end_time": "2025-06-26T19:56:42.774125Z",
     "start_time": "2025-06-26T19:52:04.262605Z"
    }
   },
   "cell_type": "code",
   "source": [
    "attribute_dict = dict()\n",
    "\n",
    "i = 0\n",
    "for subj, pred, obj in tqdm(g):\n",
    "\n",
    "    # i += 1\n",
    "    # if i == 100:\n",
    "    #     break\n",
    "    if is_image_url(subj) or is_image_url(obj) or is_wikiPageWikiLink(pred) or is_wikiPageExternalLink(pred):\n",
    "        continue\n",
    "\n",
    "    cleaned_subj = clean_value(subj)\n",
    "    str_subj = str(subj)\n",
    "    cleaned_pred = clean_value(pred)\n",
    "    cleaned_obj  = clean_value(obj)\n",
    "\n",
    "    if cleaned_pred == \"comment\":\n",
    "        continue\n",
    "\n",
    "    if str_subj in attribute_dict:\n",
    "        if cleaned_pred in attribute_dict[str_subj]:\n",
    "            attribute_dict[str_subj][cleaned_pred] = attribute_dict[str_subj][cleaned_pred] + \", \" + cleaned_obj\n",
    "        else:\n",
    "            attribute_dict[str_subj][cleaned_pred] = cleaned_obj\n",
    "    else:\n",
    "        attribute_dict[str_subj] = dict()\n",
    "        attribute_dict[str_subj][cleaned_pred] = cleaned_obj\n",
    "\n",
    "sorted_dict = {k: attribute_dict[k] for k in sorted(attribute_dict)}\n",
    "\n",
    "attribute_dict_sorted = dict()\n",
    "for k, v in attribute_dict.items():\n",
    "    attribute_dict_sorted[k] = {kk: v[kk] for kk in sorted(v)}"
   ],
   "id": "8983be255d0aa656",
   "outputs": [
    {
     "name": "stderr",
     "output_type": "stream",
     "text": [
      "100%|██████████| 6733366/6733366 [04:37<00:00, 24306.55it/s]\n"
     ]
    }
   ],
   "execution_count": 9
  },
  {
   "metadata": {
    "ExecuteTime": {
     "end_time": "2025-06-26T19:56:43.552628Z",
     "start_time": "2025-06-26T19:56:43.547770Z"
    }
   },
   "cell_type": "code",
   "source": "# attribute_dict_sorted[\"http://dbkwik.webdatacommons.org/stexpanded.wikia.com/resource/Magna_Roma\"]",
   "id": "5d001d3e72416783",
   "outputs": [],
   "execution_count": 10
  },
  {
   "metadata": {
    "ExecuteTime": {
     "end_time": "2025-06-26T19:56:46.663072Z",
     "start_time": "2025-06-26T19:56:44.250884Z"
    }
   },
   "cell_type": "code",
   "source": [
    "with open(output, \"w\") as json_file:\n",
    "    json.dump(attribute_dict_sorted, json_file, indent=4)"
   ],
   "id": "a61915af2f26d439",
   "outputs": [],
   "execution_count": 11
  },
  {
   "metadata": {
    "ExecuteTime": {
     "end_time": "2025-06-26T19:56:47.341707Z",
     "start_time": "2025-06-26T19:56:47.339926Z"
    }
   },
   "cell_type": "code",
   "source": "",
   "id": "c7d5c02e4b70bbcb",
   "outputs": [],
   "execution_count": null
  }
 ],
 "metadata": {
  "kernelspec": {
   "display_name": "Python 3",
   "language": "python",
   "name": "python3"
  },
  "language_info": {
   "codemirror_mode": {
    "name": "ipython",
    "version": 2
   },
   "file_extension": ".py",
   "mimetype": "text/x-python",
   "name": "python",
   "nbconvert_exporter": "python",
   "pygments_lexer": "ipython2",
   "version": "2.7.6"
  }
 },
 "nbformat": 4,
 "nbformat_minor": 5
}
