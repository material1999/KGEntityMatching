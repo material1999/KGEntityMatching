{
 "cells": [
  {
   "metadata": {
    "ExecuteTime": {
     "end_time": "2025-04-12T13:32:00.720071Z",
     "start_time": "2025-04-12T13:32:00.705119Z"
    }
   },
   "cell_type": "code",
   "source": [
    "import pandas as pd\n",
    "import numpy as np\n",
    "import json"
   ],
   "id": "85f764466cbf47c8",
   "outputs": [],
   "execution_count": 14
  },
  {
   "cell_type": "code",
   "id": "initial_id",
   "metadata": {
    "collapsed": true,
    "ExecuteTime": {
     "end_time": "2025-04-12T13:32:03.057343Z",
     "start_time": "2025-04-12T13:32:03.052981Z"
    }
   },
   "source": [
    "graph = \"starwars\"\n",
    "embeddings_file = \"results/embeddings/\" + graph + \"_lab_altlab_type_abs_comment_BAAI_bge-large-en-v1.5.json\"\n",
    "url_embeddings_file = \"results/url_embeddings_short/\" + graph + \"_url_BAAI_bge-large-en-v1.5.json\"\n",
    "top_betweenness_file = \"results/top_betweenness/\" + graph + \".json\"\n",
    "community_embeddings_file = \"results/community_embeddings/\" + graph + \".json\""
   ],
   "outputs": [],
   "execution_count": 15
  },
  {
   "metadata": {
    "ExecuteTime": {
     "end_time": "2025-04-12T13:47:24.518439Z",
     "start_time": "2025-04-12T13:44:12.380982Z"
    }
   },
   "cell_type": "code",
   "source": [
    "df = pd.read_json(embeddings_file)\n",
    "df_T = df.T"
   ],
   "id": "9e5a0e603483f68c",
   "outputs": [],
   "execution_count": 17
  },
  {
   "metadata": {
    "ExecuteTime": {
     "end_time": "2025-04-12T13:47:27.545382Z",
     "start_time": "2025-04-12T13:47:27.519607Z"
    }
   },
   "cell_type": "code",
   "source": "# df_T",
   "id": "b3f8826b1c5ddec8",
   "outputs": [],
   "execution_count": 18
  },
  {
   "metadata": {
    "ExecuteTime": {
     "end_time": "2025-04-12T13:47:27.919231Z",
     "start_time": "2025-04-12T13:47:27.916955Z"
    }
   },
   "cell_type": "code",
   "source": "# df_T.loc[2239]",
   "id": "faace089b981015",
   "outputs": [],
   "execution_count": 19
  },
  {
   "metadata": {
    "ExecuteTime": {
     "end_time": "2025-04-12T13:51:02.351240Z",
     "start_time": "2025-04-12T13:47:28.497317Z"
    }
   },
   "cell_type": "code",
   "source": [
    "df_url = pd.read_json(url_embeddings_file)\n",
    "df_url_T = df_url.T"
   ],
   "id": "d0dab7e610981906",
   "outputs": [],
   "execution_count": 20
  },
  {
   "metadata": {
    "ExecuteTime": {
     "end_time": "2025-04-12T13:51:52.727271Z",
     "start_time": "2025-04-12T13:51:52.718689Z"
    }
   },
   "cell_type": "code",
   "source": "# df_url_T",
   "id": "a4d5644334f852e6",
   "outputs": [],
   "execution_count": 21
  },
  {
   "metadata": {
    "ExecuteTime": {
     "end_time": "2025-04-12T13:51:53.785348Z",
     "start_time": "2025-04-12T13:51:53.783699Z"
    }
   },
   "cell_type": "code",
   "source": "# df_url_T.loc[2239]",
   "id": "7b305c97199162dc",
   "outputs": [],
   "execution_count": 22
  },
  {
   "metadata": {
    "ExecuteTime": {
     "end_time": "2025-04-12T13:51:56.193797Z",
     "start_time": "2025-04-12T13:51:56.106171Z"
    }
   },
   "cell_type": "code",
   "source": [
    "with open(top_betweenness_file, \"r\") as f:\n",
    "    top_betweenness = json.load(f)"
   ],
   "id": "3a0bb2e80aec65b8",
   "outputs": [],
   "execution_count": 23
  },
  {
   "metadata": {
    "ExecuteTime": {
     "end_time": "2025-04-12T13:51:56.904835Z",
     "start_time": "2025-04-12T13:51:56.899566Z"
    }
   },
   "cell_type": "code",
   "source": "# top_betweenness[0]",
   "id": "7e0121df2b1fbd36",
   "outputs": [],
   "execution_count": 24
  },
  {
   "metadata": {
    "ExecuteTime": {
     "end_time": "2025-04-12T13:51:57.561228Z",
     "start_time": "2025-04-12T13:51:57.558478Z"
    }
   },
   "cell_type": "code",
   "source": "# len(top_betweenness)",
   "id": "e23e04ebbdb1dbda",
   "outputs": [],
   "execution_count": 25
  },
  {
   "metadata": {
    "ExecuteTime": {
     "end_time": "2025-04-12T13:52:14.250819Z",
     "start_time": "2025-04-12T13:51:58.354443Z"
    }
   },
   "cell_type": "code",
   "source": [
    "community_embeddings = []\n",
    "\n",
    "for top_b in top_betweenness:\n",
    "\n",
    "    embeddings = []\n",
    "\n",
    "    top_b = {int(k): v for k, v in top_b.items()}\n",
    "    keys = list(top_b.keys())\n",
    "    weights = list(top_b.values())\n",
    "    # print(keys)\n",
    "    # print(weights)\n",
    "\n",
    "    if sum(weights) != 0:\n",
    "        top_b = {int(k): v for k, v in top_b.items() if v != 0}\n",
    "        keys = list(top_b.keys())\n",
    "        weights = list(top_b.values())\n",
    "\n",
    "    for key in keys:\n",
    "        try:\n",
    "            selected_embedding = df_T.loc[key]\n",
    "            embeddings.append(selected_embedding)\n",
    "        except KeyError:\n",
    "            try:\n",
    "                selected_embedding = df_url_T.loc[key]\n",
    "                embeddings.append(selected_embedding)\n",
    "            except KeyError:\n",
    "                top_b.pop(key)\n",
    "\n",
    "    # keys = list(top_b.keys())\n",
    "    # weights = list(top_b.values())\n",
    "    # if sum(weights) == 0:\n",
    "    #     weighted_avg = np.average(embeddings, axis=0)\n",
    "    # else:\n",
    "    #     weighted_avg = np.average(embeddings, axis=0, weights=weights)\n",
    "\n",
    "    weighted_avg = np.average(embeddings, axis=0)\n",
    "\n",
    "    # print(weighted_avg)\n",
    "    community_embeddings.append(weighted_avg)\n",
    "\n",
    "# print(community_embeddings)\n",
    "\n",
    "embeddings_dict = {\n",
    "    str(i): {str(j): val for j, val in enumerate(embedding)}\n",
    "    for i, embedding in enumerate(community_embeddings)\n",
    "}\n",
    "\n",
    "with open(community_embeddings_file, \"w\") as json_file:\n",
    "    json.dump(embeddings_dict, json_file, indent=4)"
   ],
   "id": "7b1c1683ca650833",
   "outputs": [],
   "execution_count": 26
  },
  {
   "metadata": {
    "ExecuteTime": {
     "end_time": "2025-03-31T07:56:35.355828Z",
     "start_time": "2025-03-31T07:56:35.354336Z"
    }
   },
   "cell_type": "code",
   "source": "",
   "id": "ccd23a10b21444d6",
   "outputs": [],
   "execution_count": null
  }
 ],
 "metadata": {
  "kernelspec": {
   "display_name": "Python 3",
   "language": "python",
   "name": "python3"
  },
  "language_info": {
   "codemirror_mode": {
    "name": "ipython",
    "version": 2
   },
   "file_extension": ".py",
   "mimetype": "text/x-python",
   "name": "python",
   "nbconvert_exporter": "python",
   "pygments_lexer": "ipython2",
   "version": "2.7.6"
  }
 },
 "nbformat": 4,
 "nbformat_minor": 5
}
