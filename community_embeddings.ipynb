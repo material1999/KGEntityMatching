{
 "cells": [
  {
   "metadata": {
    "ExecuteTime": {
     "end_time": "2025-03-31T07:55:18.415606Z",
     "start_time": "2025-03-31T07:55:18.082996Z"
    }
   },
   "cell_type": "code",
   "source": [
    "import pandas as pd\n",
    "import numpy as np\n",
    "import json"
   ],
   "id": "85f764466cbf47c8",
   "outputs": [],
   "execution_count": 1
  },
  {
   "cell_type": "code",
   "id": "initial_id",
   "metadata": {
    "collapsed": true,
    "ExecuteTime": {
     "end_time": "2025-03-31T07:55:18.421966Z",
     "start_time": "2025-03-31T07:55:18.419807Z"
    }
   },
   "source": [
    "graph = \"memoryalpha\"\n",
    "embeddings_file = \"results/embeddings/\" + graph + \"_lab_altlab_type_abs_comment_BAAI_bge-large-en-v1.5.json\"\n",
    "url_embeddings_file = \"results/url_embeddings_short/\" + graph + \"_url_BAAI_bge-large-en-v1.5.json\"\n",
    "top_betweenness_file = \"results/top_betweenness/\" + graph + \".json\"\n",
    "community_embeddings_file = \"results/community_embeddings/\" + graph + \".json\""
   ],
   "outputs": [],
   "execution_count": 2
  },
  {
   "metadata": {
    "ExecuteTime": {
     "end_time": "2025-03-31T07:55:36.932464Z",
     "start_time": "2025-03-31T07:55:18.544255Z"
    }
   },
   "cell_type": "code",
   "source": [
    "df = pd.read_json(embeddings_file)\n",
    "df_T = df.T"
   ],
   "id": "9e5a0e603483f68c",
   "outputs": [],
   "execution_count": 3
  },
  {
   "metadata": {
    "ExecuteTime": {
     "end_time": "2025-03-31T07:55:36.989477Z",
     "start_time": "2025-03-31T07:55:36.987927Z"
    }
   },
   "cell_type": "code",
   "source": "# df_T",
   "id": "b3f8826b1c5ddec8",
   "outputs": [],
   "execution_count": 4
  },
  {
   "metadata": {
    "ExecuteTime": {
     "end_time": "2025-03-31T07:55:37.039882Z",
     "start_time": "2025-03-31T07:55:37.037496Z"
    }
   },
   "cell_type": "code",
   "source": "# df_T.loc[2239]",
   "id": "faace089b981015",
   "outputs": [],
   "execution_count": 5
  },
  {
   "metadata": {
    "ExecuteTime": {
     "end_time": "2025-03-31T07:56:30.224270Z",
     "start_time": "2025-03-31T07:55:37.095328Z"
    }
   },
   "cell_type": "code",
   "source": [
    "df_url = pd.read_json(url_embeddings_file)\n",
    "df_url_T = df_url.T"
   ],
   "id": "d0dab7e610981906",
   "outputs": [],
   "execution_count": 6
  },
  {
   "metadata": {
    "ExecuteTime": {
     "end_time": "2025-03-31T07:56:30.263353Z",
     "start_time": "2025-03-31T07:56:30.260001Z"
    }
   },
   "cell_type": "code",
   "source": "# df_url_T",
   "id": "a4d5644334f852e6",
   "outputs": [],
   "execution_count": 7
  },
  {
   "metadata": {
    "ExecuteTime": {
     "end_time": "2025-03-31T07:56:30.346349Z",
     "start_time": "2025-03-31T07:56:30.344266Z"
    }
   },
   "cell_type": "code",
   "source": "# df_url_T.loc[2239]",
   "id": "7b305c97199162dc",
   "outputs": [],
   "execution_count": 8
  },
  {
   "metadata": {
    "ExecuteTime": {
     "end_time": "2025-03-31T07:56:30.481416Z",
     "start_time": "2025-03-31T07:56:30.430719Z"
    }
   },
   "cell_type": "code",
   "source": [
    "with open(top_betweenness_file, \"r\") as f:\n",
    "    top_betweenness = json.load(f)"
   ],
   "id": "3a0bb2e80aec65b8",
   "outputs": [],
   "execution_count": 9
  },
  {
   "metadata": {
    "ExecuteTime": {
     "end_time": "2025-03-31T07:56:30.533611Z",
     "start_time": "2025-03-31T07:56:30.529897Z"
    }
   },
   "cell_type": "code",
   "source": "# top_betweenness[0]",
   "id": "7e0121df2b1fbd36",
   "outputs": [],
   "execution_count": 10
  },
  {
   "metadata": {
    "ExecuteTime": {
     "end_time": "2025-03-31T07:56:30.583011Z",
     "start_time": "2025-03-31T07:56:30.580763Z"
    }
   },
   "cell_type": "code",
   "source": "# len(top_betweenness)",
   "id": "e23e04ebbdb1dbda",
   "outputs": [],
   "execution_count": 11
  },
  {
   "metadata": {
    "ExecuteTime": {
     "end_time": "2025-03-31T07:56:35.318714Z",
     "start_time": "2025-03-31T07:56:30.629312Z"
    }
   },
   "cell_type": "code",
   "source": [
    "community_embeddings = []\n",
    "\n",
    "for top_b in top_betweenness:\n",
    "\n",
    "    embeddings = []\n",
    "\n",
    "    top_b = {int(k): v for k, v in top_b.items()}\n",
    "    keys = list(top_b.keys())\n",
    "    weights = list(top_b.values())\n",
    "    # print(keys)\n",
    "    # print(weights)\n",
    "\n",
    "    if sum(weights) != 0:\n",
    "        top_b = {int(k): v for k, v in top_b.items() if v != 0}\n",
    "        keys = list(top_b.keys())\n",
    "        weights = list(top_b.values())\n",
    "\n",
    "    for key in keys:\n",
    "        try:\n",
    "            selected_embedding = df_T.loc[key]\n",
    "            embeddings.append(selected_embedding)\n",
    "        except KeyError:\n",
    "            try:\n",
    "                selected_embedding = df_url_T.loc[key]\n",
    "                embeddings.append(selected_embedding)\n",
    "            except KeyError:\n",
    "                top_b.pop(key)\n",
    "\n",
    "    # keys = list(top_b.keys())\n",
    "    # weights = list(top_b.values())\n",
    "    # if sum(weights) == 0:\n",
    "    #     weighted_avg = np.average(embeddings, axis=0)\n",
    "    # else:\n",
    "    #     weighted_avg = np.average(embeddings, axis=0, weights=weights)\n",
    "\n",
    "    weighted_avg = np.average(embeddings, axis=0)\n",
    "\n",
    "    # print(weighted_avg)\n",
    "    community_embeddings.append(weighted_avg)\n",
    "\n",
    "# print(community_embeddings)\n",
    "\n",
    "embeddings_dict = {\n",
    "    str(i): {str(j): val for j, val in enumerate(embedding)}\n",
    "    for i, embedding in enumerate(community_embeddings)\n",
    "}\n",
    "\n",
    "with open(community_embeddings_file, \"w\") as json_file:\n",
    "    json.dump(embeddings_dict, json_file, indent=4)"
   ],
   "id": "7b1c1683ca650833",
   "outputs": [],
   "execution_count": 12
  },
  {
   "metadata": {
    "ExecuteTime": {
     "end_time": "2025-03-31T07:56:35.355828Z",
     "start_time": "2025-03-31T07:56:35.354336Z"
    }
   },
   "cell_type": "code",
   "source": "",
   "id": "ccd23a10b21444d6",
   "outputs": [],
   "execution_count": null
  }
 ],
 "metadata": {
  "kernelspec": {
   "display_name": "Python 3",
   "language": "python",
   "name": "python3"
  },
  "language_info": {
   "codemirror_mode": {
    "name": "ipython",
    "version": 2
   },
   "file_extension": ".py",
   "mimetype": "text/x-python",
   "name": "python",
   "nbconvert_exporter": "python",
   "pygments_lexer": "ipython2",
   "version": "2.7.6"
  }
 },
 "nbformat": 4,
 "nbformat_minor": 5
}
