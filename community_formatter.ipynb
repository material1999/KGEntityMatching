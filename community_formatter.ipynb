{
 "cells": [
  {
   "metadata": {
    "ExecuteTime": {
     "end_time": "2024-09-15T15:44:44.437149Z",
     "start_time": "2024-09-15T15:44:44.420473Z"
    }
   },
   "cell_type": "code",
   "source": "import json",
   "id": "ed472b7d1e004e3b",
   "outputs": [],
   "execution_count": 22
  },
  {
   "cell_type": "code",
   "id": "initial_id",
   "metadata": {
    "collapsed": true,
    "ExecuteTime": {
     "end_time": "2024-09-15T15:44:44.472371Z",
     "start_time": "2024-09-15T15:44:44.468568Z"
    }
   },
   "source": "graph = \"swtor\"",
   "outputs": [],
   "execution_count": 23
  },
  {
   "metadata": {
    "ExecuteTime": {
     "end_time": "2024-09-15T15:45:05.441466Z",
     "start_time": "2024-09-15T15:44:44.652911Z"
    }
   },
   "cell_type": "code",
   "source": [
    "communities_path = \"/Users/matevass/Documents/Projects/KGEntityMatching/data/communities/\"\n",
    "mappings_path = \"/Users/matevass/Documents/Projects/KGEntityMatching/data/triples_v2/\"\n",
    "communities_formatted_path = \"/Users/matevass/Documents/Projects/KGEntityMatching/data/communities_formatted/\"\n",
    "\n",
    "with open(communities_path + graph + \".csv\", 'r') as communities_input, open(communities_formatted_path + graph + \".csv\", 'w') as communities_output, open(mappings_path + str(graph) + \"_mapping.json\", \"r\") as m:\n",
    "    mapping = json.load(m)\n",
    "    for line in communities_input:\n",
    "        entities = line.strip().split(\";\")\n",
    "        for entity in entities:\n",
    "            key = next((key for key, value in mapping.items() if str(value) == entity), None)\n",
    "            communities_output.write(str(key) + \"\\n\")\n",
    "        communities_output.write(\"##################################################\\n\")"
   ],
   "id": "318a39a7fa583560",
   "outputs": [],
   "execution_count": 24
  },
  {
   "metadata": {
    "ExecuteTime": {
     "end_time": "2024-09-15T15:45:05.502824Z",
     "start_time": "2024-09-15T15:45:05.495819Z"
    }
   },
   "cell_type": "code",
   "source": "",
   "id": "b4d9eedd207a7db",
   "outputs": [],
   "execution_count": null
  }
 ],
 "metadata": {
  "kernelspec": {
   "display_name": "Python 3",
   "language": "python",
   "name": "python3"
  },
  "language_info": {
   "codemirror_mode": {
    "name": "ipython",
    "version": 2
   },
   "file_extension": ".py",
   "mimetype": "text/x-python",
   "name": "python",
   "nbconvert_exporter": "python",
   "pygments_lexer": "ipython2",
   "version": "2.7.6"
  }
 },
 "nbformat": 4,
 "nbformat_minor": 5
}
