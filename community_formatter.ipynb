{
 "cells": [
  {
   "metadata": {
    "ExecuteTime": {
     "end_time": "2024-10-07T11:55:32.911291Z",
     "start_time": "2024-10-07T11:55:32.901189Z"
    }
   },
   "cell_type": "code",
   "source": [
    "import json\n",
    "from tqdm import tqdm"
   ],
   "id": "ed472b7d1e004e3b",
   "outputs": [],
   "execution_count": 1
  },
  {
   "metadata": {
    "ExecuteTime": {
     "end_time": "2024-10-07T11:55:36.611383Z",
     "start_time": "2024-10-07T11:55:36.608526Z"
    }
   },
   "cell_type": "code",
   "source": [
    "#communities_path = \"./data/communities/\"\n",
    "communities_path = \"./results/communities_slpa/\"\n",
    "mappings_path = \"./data/triples_v2/\"\n",
    "#communities_formatted_path = \"./data/communities_formatted/\"\n",
    "communities_formatted_path = \"./results/communities_slpa_formatted/\"\n",
    "one_step_path = \"./data/one_step/\"\n",
    "one_step_formatted_path = \"./data/one_step_formatted/\""
   ],
   "id": "3e82eefab3c7611b",
   "outputs": [],
   "execution_count": 2
  },
  {
   "cell_type": "code",
   "id": "initial_id",
   "metadata": {
    "collapsed": true,
    "ExecuteTime": {
     "end_time": "2024-10-07T11:58:55.764188Z",
     "start_time": "2024-10-07T11:58:55.760501Z"
    }
   },
   "source": "graph = \"memoryalpha\"",
   "outputs": [],
   "execution_count": 7
  },
  {
   "metadata": {
    "ExecuteTime": {
     "end_time": "2024-10-07T12:06:10.149105Z",
     "start_time": "2024-10-07T11:58:57.318928Z"
    }
   },
   "cell_type": "code",
   "source": [
    "with open(communities_path + graph + \".csv\", 'r') as communities_input, open(communities_formatted_path + graph + \".csv\", 'w') as communities_output, open(mappings_path + str(graph) + \"_mapping.json\", \"r\") as m:\n",
    "    print(\"Processing graph \" + graph)\n",
    "    mapping = json.load(m)\n",
    "    for line in tqdm(communities_input):\n",
    "        entities = line.strip().split(\";\")\n",
    "        for entity in entities:\n",
    "            key = str(next((key for key, value in mapping.items() if str(value) == entity), None))\n",
    "            communities_output.write(key + \"\\n\")\n",
    "        communities_output.write(\"##################################################\\n\")"
   ],
   "id": "318a39a7fa583560",
   "outputs": [
    {
     "name": "stdout",
     "output_type": "stream",
     "text": [
      "Processing graph memoryalpha\n"
     ]
    },
    {
     "name": "stderr",
     "output_type": "stream",
     "text": [
      "763it [07:12,  1.76it/s]\n"
     ]
    }
   ],
   "execution_count": 8
  },
  {
   "metadata": {
    "ExecuteTime": {
     "end_time": "2024-09-24T19:06:59.104988Z",
     "start_time": "2024-09-24T19:06:27.604622Z"
    }
   },
   "cell_type": "code",
   "source": [
    "with open(one_step_path + graph + \".csv\", 'r') as one_step_input, open(one_step_formatted_path + graph + \".csv\", 'w') as one_step_output, open(mappings_path + str(graph) + \"_mapping.json\", \"r\") as m:\n",
    "    print(\"Processing graph \" + graph)\n",
    "    mapping = json.load(m)\n",
    "    for line in tqdm(one_step_input):\n",
    "        entities = line.strip().split(\";\")\n",
    "        for entity in entities:\n",
    "            key = str(next((key for key, value in mapping.items() if str(value) == entity), None))\n",
    "            # key = str(next((key for key, value in mapping.items() if str(value) == entity), None)).split(\"/resource/\")[1]\n",
    "            one_step_output.write(key + \"\\n\")\n",
    "        one_step_output.write(\"##################################################\\n\")"
   ],
   "id": "b4d9eedd207a7db",
   "outputs": [
    {
     "name": "stdout",
     "output_type": "stream",
     "text": [
      "Processing graph swtor\n"
     ]
    },
    {
     "name": "stderr",
     "output_type": "stream",
     "text": [
      "7724it [00:31, 246.06it/s]\n"
     ]
    }
   ],
   "execution_count": 4
  },
  {
   "metadata": {},
   "cell_type": "code",
   "source": "",
   "id": "1d850ce35a2e4fa1",
   "outputs": [],
   "execution_count": null
  }
 ],
 "metadata": {
  "kernelspec": {
   "display_name": "Python 3",
   "language": "python",
   "name": "python3"
  },
  "language_info": {
   "codemirror_mode": {
    "name": "ipython",
    "version": 2
   },
   "file_extension": ".py",
   "mimetype": "text/x-python",
   "name": "python",
   "nbconvert_exporter": "python",
   "pygments_lexer": "ipython2",
   "version": "2.7.6"
  }
 },
 "nbformat": 4,
 "nbformat_minor": 5
}
