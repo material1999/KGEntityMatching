{
 "cells": [
  {
   "metadata": {
    "ExecuteTime": {
     "end_time": "2025-02-24T12:33:24.135204Z",
     "start_time": "2025-02-24T12:33:24.111089Z"
    }
   },
   "cell_type": "code",
   "source": [
    "import json\n",
    "from tqdm import tqdm\n",
    "import re"
   ],
   "id": "ed472b7d1e004e3b",
   "outputs": [],
   "execution_count": 15
  },
  {
   "metadata": {
    "ExecuteTime": {
     "end_time": "2025-02-24T12:33:24.151297Z",
     "start_time": "2025-02-24T12:33:24.148093Z"
    }
   },
   "cell_type": "code",
   "source": [
    "# communities_path = \"./data/communities/\"\n",
    "# communities_path = \"./results/communities_slpa/\"\n",
    "# mappings_path = \"./data/triples_v2/\"\n",
    "# communities_formatted_path = \"./data/communities_formatted/\"\n",
    "# communities_formatted_path = \"./results/communities_slpa_formatted/\"\n",
    "# one_step_path = \"./data/one_step/\"\n",
    "# one_step_formatted_path = \"./data/one_step_formatted/\""
   ],
   "id": "3e82eefab3c7611b",
   "outputs": [],
   "execution_count": 16
  },
  {
   "cell_type": "code",
   "id": "initial_id",
   "metadata": {
    "collapsed": true,
    "ExecuteTime": {
     "end_time": "2025-02-24T12:33:26.085956Z",
     "start_time": "2025-02-24T12:33:26.080136Z"
    }
   },
   "source": [
    "mappings_path = \"./data/triples_v2/\"\n",
    "graph = \"marvel\"\n",
    "communities_path = \"./results/communities_leiden/\" + graph + \"/final.txt\"\n",
    "communities_formatted_path = \"./results/communities_leiden_formatted/\" + graph + \".csv\""
   ],
   "outputs": [],
   "execution_count": 17
  },
  {
   "metadata": {
    "ExecuteTime": {
     "end_time": "2025-02-24T12:40:09.911463Z",
     "start_time": "2025-02-24T12:33:28.468799Z"
    }
   },
   "cell_type": "code",
   "source": [
    "with open(communities_path, 'r') as communities_input, open(communities_formatted_path, 'w') as communities_output, open(mappings_path + str(graph) + \"_mapping.json\", \"r\") as m:\n",
    "    print(\"Processing graph \" + graph)\n",
    "    mapping = json.load(m)\n",
    "    for line in tqdm(communities_input):\n",
    "        # entities = line.strip().split(\";\")\n",
    "        entities = line.strip().split(\" \")\n",
    "        for entity in entities:\n",
    "            key = str(next((key for key, value in mapping.items() if str(value) == entity), None))\n",
    "            # if bool(re.search(r'Category.*/', key)):\n",
    "            #     communities_output.write(key + \"\\n\")\n",
    "            communities_output.write(key + \"\\n\")\n",
    "        communities_output.write(\"##################################################\\n\")"
   ],
   "id": "318a39a7fa583560",
   "outputs": [
    {
     "name": "stdout",
     "output_type": "stream",
     "text": [
      "Processing graph marvel\n"
     ]
    },
    {
     "name": "stderr",
     "output_type": "stream",
     "text": [
      "4360it [06:39, 10.92it/s]\n"
     ]
    },
    {
     "ename": "KeyboardInterrupt",
     "evalue": "",
     "output_type": "error",
     "traceback": [
      "\u001B[0;31m---------------------------------------------------------------------------\u001B[0m",
      "\u001B[0;31mKeyboardInterrupt\u001B[0m                         Traceback (most recent call last)",
      "Cell \u001B[0;32mIn[18], line 8\u001B[0m\n\u001B[1;32m      6\u001B[0m entities \u001B[38;5;241m=\u001B[39m line\u001B[38;5;241m.\u001B[39mstrip()\u001B[38;5;241m.\u001B[39msplit(\u001B[38;5;124m\"\u001B[39m\u001B[38;5;124m \u001B[39m\u001B[38;5;124m\"\u001B[39m)\n\u001B[1;32m      7\u001B[0m \u001B[38;5;28;01mfor\u001B[39;00m entity \u001B[38;5;129;01min\u001B[39;00m entities:\n\u001B[0;32m----> 8\u001B[0m     key \u001B[38;5;241m=\u001B[39m \u001B[38;5;28mstr\u001B[39m(\u001B[38;5;28;43mnext\u001B[39;49m\u001B[43m(\u001B[49m\u001B[43m(\u001B[49m\u001B[43mkey\u001B[49m\u001B[43m \u001B[49m\u001B[38;5;28;43;01mfor\u001B[39;49;00m\u001B[43m \u001B[49m\u001B[43mkey\u001B[49m\u001B[43m,\u001B[49m\u001B[43m \u001B[49m\u001B[43mvalue\u001B[49m\u001B[43m \u001B[49m\u001B[38;5;129;43;01min\u001B[39;49;00m\u001B[43m \u001B[49m\u001B[43mmapping\u001B[49m\u001B[38;5;241;43m.\u001B[39;49m\u001B[43mitems\u001B[49m\u001B[43m(\u001B[49m\u001B[43m)\u001B[49m\u001B[43m \u001B[49m\u001B[38;5;28;43;01mif\u001B[39;49;00m\u001B[43m \u001B[49m\u001B[38;5;28;43mstr\u001B[39;49m\u001B[43m(\u001B[49m\u001B[43mvalue\u001B[49m\u001B[43m)\u001B[49m\u001B[43m \u001B[49m\u001B[38;5;241;43m==\u001B[39;49m\u001B[43m \u001B[49m\u001B[43mentity\u001B[49m\u001B[43m)\u001B[49m\u001B[43m,\u001B[49m\u001B[43m \u001B[49m\u001B[38;5;28;43;01mNone\u001B[39;49;00m\u001B[43m)\u001B[49m)\n\u001B[1;32m      9\u001B[0m     \u001B[38;5;28;01mif\u001B[39;00m \u001B[38;5;28mbool\u001B[39m(re\u001B[38;5;241m.\u001B[39msearch(\u001B[38;5;124mr\u001B[39m\u001B[38;5;124m'\u001B[39m\u001B[38;5;124mCategory.*/\u001B[39m\u001B[38;5;124m'\u001B[39m, key)):\n\u001B[1;32m     10\u001B[0m         communities_output\u001B[38;5;241m.\u001B[39mwrite(key \u001B[38;5;241m+\u001B[39m \u001B[38;5;124m\"\u001B[39m\u001B[38;5;130;01m\\n\u001B[39;00m\u001B[38;5;124m\"\u001B[39m)\n",
      "Cell \u001B[0;32mIn[18], line 8\u001B[0m, in \u001B[0;36m<genexpr>\u001B[0;34m(.0)\u001B[0m\n\u001B[1;32m      6\u001B[0m entities \u001B[38;5;241m=\u001B[39m line\u001B[38;5;241m.\u001B[39mstrip()\u001B[38;5;241m.\u001B[39msplit(\u001B[38;5;124m\"\u001B[39m\u001B[38;5;124m \u001B[39m\u001B[38;5;124m\"\u001B[39m)\n\u001B[1;32m      7\u001B[0m \u001B[38;5;28;01mfor\u001B[39;00m entity \u001B[38;5;129;01min\u001B[39;00m entities:\n\u001B[0;32m----> 8\u001B[0m     key \u001B[38;5;241m=\u001B[39m \u001B[38;5;28mstr\u001B[39m(\u001B[38;5;28mnext\u001B[39m((key \u001B[38;5;28;01mfor\u001B[39;00m key, value \u001B[38;5;129;01min\u001B[39;00m mapping\u001B[38;5;241m.\u001B[39mitems() \u001B[38;5;28;01mif\u001B[39;00m \u001B[38;5;28;43mstr\u001B[39;49m\u001B[43m(\u001B[49m\u001B[43mvalue\u001B[49m\u001B[43m)\u001B[49m \u001B[38;5;241m==\u001B[39m entity), \u001B[38;5;28;01mNone\u001B[39;00m))\n\u001B[1;32m      9\u001B[0m     \u001B[38;5;28;01mif\u001B[39;00m \u001B[38;5;28mbool\u001B[39m(re\u001B[38;5;241m.\u001B[39msearch(\u001B[38;5;124mr\u001B[39m\u001B[38;5;124m'\u001B[39m\u001B[38;5;124mCategory.*/\u001B[39m\u001B[38;5;124m'\u001B[39m, key)):\n\u001B[1;32m     10\u001B[0m         communities_output\u001B[38;5;241m.\u001B[39mwrite(key \u001B[38;5;241m+\u001B[39m \u001B[38;5;124m\"\u001B[39m\u001B[38;5;130;01m\\n\u001B[39;00m\u001B[38;5;124m\"\u001B[39m)\n",
      "\u001B[0;31mKeyboardInterrupt\u001B[0m: "
     ]
    }
   ],
   "execution_count": 18
  },
  {
   "metadata": {
    "ExecuteTime": {
     "end_time": "2025-02-24T12:40:09.982079Z",
     "start_time": "2025-02-24T08:47:35.480929Z"
    }
   },
   "cell_type": "code",
   "source": [
    "# with open(one_step_path + graph + \".csv\", 'r') as one_step_input, open(one_step_formatted_path + graph + \".csv\", 'w') as one_step_output, open(mappings_path + str(graph) + \"_mapping.json\", \"r\") as m:\n",
    "#     print(\"Processing graph \" + graph)\n",
    "#     mapping = json.load(m)\n",
    "#     for line in tqdm(one_step_input):\n",
    "#         entities = line.strip().split(\";\")\n",
    "#         for entity in entities:\n",
    "#             key = str(next((key for key, value in mapping.items() if str(value) == entity), None))\n",
    "#             # key = str(next((key for key, value in mapping.items() if str(value) == entity), None)).split(\"/resource/\")[1]\n",
    "#             one_step_output.write(key + \"\\n\")\n",
    "#         one_step_output.write(\"##################################################\\n\")"
   ],
   "id": "b4d9eedd207a7db",
   "outputs": [],
   "execution_count": 10
  },
  {
   "metadata": {
    "ExecuteTime": {
     "end_time": "2025-02-24T12:40:09.986437Z",
     "start_time": "2025-02-24T08:47:35.546698Z"
    }
   },
   "cell_type": "code",
   "source": "",
   "id": "1d850ce35a2e4fa1",
   "outputs": [],
   "execution_count": null
  }
 ],
 "metadata": {
  "kernelspec": {
   "display_name": "Python 3",
   "language": "python",
   "name": "python3"
  },
  "language_info": {
   "codemirror_mode": {
    "name": "ipython",
    "version": 2
   },
   "file_extension": ".py",
   "mimetype": "text/x-python",
   "name": "python",
   "nbconvert_exporter": "python",
   "pygments_lexer": "ipython2",
   "version": "2.7.6"
  }
 },
 "nbformat": 4,
 "nbformat_minor": 5
}
