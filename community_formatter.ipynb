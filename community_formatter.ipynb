{
 "cells": [
  {
   "metadata": {
    "ExecuteTime": {
     "end_time": "2025-03-29T15:12:00.272547Z",
     "start_time": "2025-03-29T15:12:00.263298Z"
    }
   },
   "cell_type": "code",
   "source": [
    "import json\n",
    "from tqdm import tqdm\n",
    "import re"
   ],
   "id": "ed472b7d1e004e3b",
   "outputs": [],
   "execution_count": 1
  },
  {
   "metadata": {
    "ExecuteTime": {
     "end_time": "2025-03-29T15:12:01.386269Z",
     "start_time": "2025-03-29T15:12:01.380807Z"
    }
   },
   "cell_type": "code",
   "source": [
    "# communities_path = \"./data/communities/\"\n",
    "# communities_path = \"./results/communities_slpa/\"\n",
    "# mappings_path = \"./data/triples_v2/\"\n",
    "# communities_formatted_path = \"./data/communities_formatted/\"\n",
    "# communities_formatted_path = \"./results/communities_slpa_formatted/\"\n",
    "# one_step_path = \"./data/one_step/\"\n",
    "# one_step_formatted_path = \"./data/one_step_formatted/\""
   ],
   "id": "3e82eefab3c7611b",
   "outputs": [],
   "execution_count": 2
  },
  {
   "cell_type": "code",
   "id": "initial_id",
   "metadata": {
    "collapsed": true,
    "ExecuteTime": {
     "end_time": "2025-03-29T15:13:38.019952Z",
     "start_time": "2025-03-29T15:13:38.012439Z"
    }
   },
   "source": [
    "mappings_path = \"./data/triples_v2/\"\n",
    "graph = \"starwars\"\n",
    "communities_path = \"./results/communities_leiden/\" + graph + \"/final.txt\"\n",
    "communities_formatted_path = \"./results/communities_leiden_formatted/\" + graph + \".csv\""
   ],
   "outputs": [],
   "execution_count": 5
  },
  {
   "metadata": {
    "ExecuteTime": {
     "end_time": "2025-03-29T16:18:23.318433Z",
     "start_time": "2025-03-29T15:13:39.076368Z"
    }
   },
   "cell_type": "code",
   "source": [
    "with open(communities_path, 'r') as communities_input, open(communities_formatted_path, 'w') as communities_output, open(mappings_path + str(graph) + \"_mapping.json\", \"r\") as m:\n",
    "    print(\"Processing graph \" + graph)\n",
    "    mapping = json.load(m)\n",
    "    for line in tqdm(communities_input):\n",
    "        # entities = line.strip().split(\";\")\n",
    "        entities = line.strip().split(\" \")\n",
    "        for entity in entities:\n",
    "            key = str(next((key for key, value in mapping.items() if str(value) == entity), None))\n",
    "            # if bool(re.search(r'Category.*/', key)):\n",
    "            #     communities_output.write(key + \"\\n\")\n",
    "            communities_output.write(key + \"\\n\")\n",
    "        communities_output.write(\"##################################################\\n\")"
   ],
   "id": "318a39a7fa583560",
   "outputs": [
    {
     "name": "stdout",
     "output_type": "stream",
     "text": [
      "Processing graph starwars\n"
     ]
    },
    {
     "name": "stderr",
     "output_type": "stream",
     "text": [
      "7945it [1:04:43,  2.05it/s]\n"
     ]
    }
   ],
   "execution_count": 6
  },
  {
   "metadata": {
    "ExecuteTime": {
     "end_time": "2025-02-24T12:40:09.982079Z",
     "start_time": "2025-02-24T08:47:35.480929Z"
    }
   },
   "cell_type": "code",
   "source": [
    "# with open(one_step_path + graph + \".csv\", 'r') as one_step_input, open(one_step_formatted_path + graph + \".csv\", 'w') as one_step_output, open(mappings_path + str(graph) + \"_mapping.json\", \"r\") as m:\n",
    "#     print(\"Processing graph \" + graph)\n",
    "#     mapping = json.load(m)\n",
    "#     for line in tqdm(one_step_input):\n",
    "#         entities = line.strip().split(\";\")\n",
    "#         for entity in entities:\n",
    "#             key = str(next((key for key, value in mapping.items() if str(value) == entity), None))\n",
    "#             # key = str(next((key for key, value in mapping.items() if str(value) == entity), None)).split(\"/resource/\")[1]\n",
    "#             one_step_output.write(key + \"\\n\")\n",
    "#         one_step_output.write(\"##################################################\\n\")"
   ],
   "id": "b4d9eedd207a7db",
   "outputs": [],
   "execution_count": 10
  },
  {
   "metadata": {
    "ExecuteTime": {
     "end_time": "2025-02-24T12:40:09.986437Z",
     "start_time": "2025-02-24T08:47:35.546698Z"
    }
   },
   "cell_type": "code",
   "source": "",
   "id": "1d850ce35a2e4fa1",
   "outputs": [],
   "execution_count": null
  }
 ],
 "metadata": {
  "kernelspec": {
   "display_name": "Python 3",
   "language": "python",
   "name": "python3"
  },
  "language_info": {
   "codemirror_mode": {
    "name": "ipython",
    "version": 2
   },
   "file_extension": ".py",
   "mimetype": "text/x-python",
   "name": "python",
   "nbconvert_exporter": "python",
   "pygments_lexer": "ipython2",
   "version": "2.7.6"
  }
 },
 "nbformat": 4,
 "nbformat_minor": 5
}
