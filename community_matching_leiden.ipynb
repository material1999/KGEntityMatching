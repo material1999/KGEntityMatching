{
 "cells": [
  {
   "metadata": {
    "ExecuteTime": {
     "end_time": "2025-03-10T09:49:15.050016Z",
     "start_time": "2025-03-10T09:49:12.162110Z"
    }
   },
   "cell_type": "code",
   "source": [
    "import json\n",
    "import torch\n",
    "from sentence_transformers import util\n",
    "import os"
   ],
   "id": "d9164b8d5151b111",
   "outputs": [],
   "execution_count": 1
  },
  {
   "cell_type": "code",
   "id": "initial_id",
   "metadata": {
    "collapsed": true,
    "ExecuteTime": {
     "end_time": "2025-03-10T09:49:16.082966Z",
     "start_time": "2025-03-10T09:49:16.078066Z"
    }
   },
   "source": [
    "big = \"memoryalpha\"\n",
    "small = \"stexpanded\"\n",
    "\n",
    "top_k = 10\n",
    "\n",
    "mapping_file_big = \"./data/triples_v2/\" + big + \"_mapping.json\"\n",
    "mapping_file_small = \"./data/triples_v2/\" + small + \"_mapping.json\"\n",
    "exact_match_file = \"./data/exact_match/\" + big + \"-\" + small + \".json\"\n",
    "\n",
    "communities_big_file = \"./results/communities_leiden/\" + big + \"/final.txt\"\n",
    "communities_small_file = \"./results/communities_leiden/\" + small + \"/final.txt\"\n",
    "\n",
    "communitiy_embeddings_big_file = \"./results/community_embeddings/\" + big + \".json\"\n",
    "communitiy_embeddings_small_file = \"./results/community_embeddings/\" + small + \".json\"\n",
    "\n",
    "matched_communities_path = f\"./results/matched_communities_leiden/top_{top_k}_pairs/\""
   ],
   "outputs": [],
   "execution_count": 2
  },
  {
   "metadata": {
    "ExecuteTime": {
     "end_time": "2025-03-10T09:49:17.190464Z",
     "start_time": "2025-03-10T09:49:16.801869Z"
    }
   },
   "cell_type": "code",
   "source": [
    "with open(exact_match_file) as emf, open(mapping_file_big) as mfb, open(mapping_file_small) as mfs:\n",
    "    mapping_big = json.load(mfb)\n",
    "    mapping_small = json.load(mfs)\n",
    "    exact_match = json.load(emf)"
   ],
   "id": "e530e5547259611f",
   "outputs": [],
   "execution_count": 3
  },
  {
   "metadata": {
    "ExecuteTime": {
     "end_time": "2025-03-10T09:49:17.804396Z",
     "start_time": "2025-03-10T09:49:17.764678Z"
    }
   },
   "cell_type": "code",
   "source": [
    "small_communities = []\n",
    "big_communities = []\n",
    "\n",
    "with open(communities_big_file) as cbf, open(communities_small_file) as csf:\n",
    "    \n",
    "    for line in csf:\n",
    "        numbers_set = {int(num) for num in line.strip().split(\" \")}\n",
    "        small_communities.append(numbers_set)\n",
    "\n",
    "    for line in cbf:\n",
    "        numbers_set = {int(num) for num in line.strip().split(\" \")}\n",
    "        big_communities.append(numbers_set)"
   ],
   "id": "351ec2e9bbc0f02f",
   "outputs": [],
   "execution_count": 4
  },
  {
   "metadata": {
    "ExecuteTime": {
     "end_time": "2025-03-10T09:49:19.868736Z",
     "start_time": "2025-03-10T09:49:18.895416Z"
    }
   },
   "cell_type": "code",
   "source": [
    "with open(communitiy_embeddings_big_file) as cebf, open(communitiy_embeddings_small_file) as cesf:\n",
    "    community_embeddings_big = json.load(cebf)\n",
    "    community_embeddings_big = {k: list(v.values()) for k, v in community_embeddings_big.items()}\n",
    "    community_embeddings_small = json.load(cesf)\n",
    "    community_embeddings_small = {k: list(v.values()) for k, v in community_embeddings_small.items()}"
   ],
   "id": "7c8826d27dcbd9cb",
   "outputs": [],
   "execution_count": 5
  },
  {
   "metadata": {
    "ExecuteTime": {
     "end_time": "2025-03-10T09:49:20.727052Z",
     "start_time": "2025-03-10T09:49:20.723782Z"
    }
   },
   "cell_type": "code",
   "source": "# community_embeddings_big['0']",
   "id": "8e72a83b53c99bf3",
   "outputs": [],
   "execution_count": 6
  },
  {
   "metadata": {
    "ExecuteTime": {
     "end_time": "2025-03-10T09:49:24.811471Z",
     "start_time": "2025-03-10T09:49:21.634133Z"
    }
   },
   "cell_type": "code",
   "source": [
    "embeddings_old_file = \"./results/embeddings/stexpanded_lab_altlab_type_abs_comment_BAAI_bge-large-en-v1.5.json\"\n",
    "with open(embeddings_old_file) as eof:\n",
    "    embeddings_old = json.load(eof)"
   ],
   "id": "4791489b096f7c60",
   "outputs": [],
   "execution_count": 7
  },
  {
   "metadata": {
    "ExecuteTime": {
     "end_time": "2025-03-10T09:49:26.569337Z",
     "start_time": "2025-03-10T09:49:26.564472Z"
    }
   },
   "cell_type": "code",
   "source": "# embeddings_old['0']",
   "id": "42e6b89a2310efb3",
   "outputs": [],
   "execution_count": 8
  },
  {
   "metadata": {
    "ExecuteTime": {
     "end_time": "2025-03-10T09:49:28.154113Z",
     "start_time": "2025-03-10T09:49:27.719384Z"
    }
   },
   "cell_type": "code",
   "source": [
    "big_torch_embeds = torch.Tensor(list(community_embeddings_big.values()))\n",
    "small_torch_embeds = torch.Tensor(list(community_embeddings_small.values()))\n",
    "pair_top10 = util.semantic_search(big_torch_embeds, small_torch_embeds, top_k=top_k)\n",
    "reverse_pair_top10 = util.semantic_search(small_torch_embeds, big_torch_embeds, top_k=top_k)"
   ],
   "id": "d5617196179cba6",
   "outputs": [],
   "execution_count": 9
  },
  {
   "metadata": {
    "ExecuteTime": {
     "end_time": "2025-03-10T10:01:23.650356Z",
     "start_time": "2025-03-10T10:01:23.639832Z"
    }
   },
   "cell_type": "code",
   "source": "pair_top10[221]",
   "id": "c7be63caeab37178",
   "outputs": [
    {
     "data": {
      "text/plain": [
       "[{'corpus_id': 856, 'score': 0.8203004598617554},\n",
       " {'corpus_id': 106, 'score': 0.8190419673919678},\n",
       " {'corpus_id': 788, 'score': 0.8178088665008545},\n",
       " {'corpus_id': 714, 'score': 0.8137707114219666},\n",
       " {'corpus_id': 944, 'score': 0.8109714984893799},\n",
       " {'corpus_id': 761, 'score': 0.8090271949768066},\n",
       " {'corpus_id': 33, 'score': 0.8089162707328796},\n",
       " {'corpus_id': 965, 'score': 0.8070148229598999},\n",
       " {'corpus_id': 759, 'score': 0.8047701716423035},\n",
       " {'corpus_id': 418, 'score': 0.804398775100708}]"
      ]
     },
     "execution_count": 17,
     "metadata": {},
     "output_type": "execute_result"
    }
   ],
   "execution_count": 17
  },
  {
   "metadata": {
    "ExecuteTime": {
     "end_time": "2025-03-10T10:01:57.183572Z",
     "start_time": "2025-03-10T10:01:57.172008Z"
    }
   },
   "cell_type": "code",
   "source": "reverse_pair_top10[221]",
   "id": "37aa92e0829989f1",
   "outputs": [
    {
     "data": {
      "text/plain": [
       "[{'corpus_id': 912, 'score': 0.8845831155776978},\n",
       " {'corpus_id': 1661, 'score': 0.8809568285942078},\n",
       " {'corpus_id': 97, 'score': 0.87899249792099},\n",
       " {'corpus_id': 1665, 'score': 0.8763476014137268},\n",
       " {'corpus_id': 648, 'score': 0.8719165921211243},\n",
       " {'corpus_id': 2094, 'score': 0.8713564276695251},\n",
       " {'corpus_id': 1154, 'score': 0.8663802742958069},\n",
       " {'corpus_id': 482, 'score': 0.8649500608444214},\n",
       " {'corpus_id': 295, 'score': 0.860732913017273},\n",
       " {'corpus_id': 910, 'score': 0.859707772731781}]"
      ]
     },
     "execution_count": 18,
     "metadata": {},
     "output_type": "execute_result"
    }
   ],
   "execution_count": 18
  },
  {
   "metadata": {
    "ExecuteTime": {
     "end_time": "2025-03-10T09:49:35.418852Z",
     "start_time": "2025-03-10T09:49:35.390240Z"
    }
   },
   "cell_type": "code",
   "source": [
    "forward_dict = dict()\n",
    "backward_dict = dict()\n",
    "g1_keys = list(community_embeddings_big.keys())\n",
    "g2_keys = list(community_embeddings_small.keys())\n",
    "\n",
    "for a, b in zip(g1_keys, pair_top10):\n",
    "    row_info = list()\n",
    "    for element in b:\n",
    "        row_info.append([g2_keys[element[\"corpus_id\"]], element[\"score\"]])\n",
    "    forward_dict[str(a)] = row_info\n",
    "\n",
    "for a, b in zip(g2_keys, reverse_pair_top10):\n",
    "    row_info = list()\n",
    "    for element in b:\n",
    "        row_info.append([g1_keys[element[\"corpus_id\"]], element[\"score\"]])\n",
    "    backward_dict[str(a)] = row_info"
   ],
   "id": "d1f5643ac275909b",
   "outputs": [],
   "execution_count": 11
  },
  {
   "metadata": {
    "ExecuteTime": {
     "end_time": "2025-03-10T09:50:08.756823Z",
     "start_time": "2025-03-10T09:50:08.689598Z"
    }
   },
   "cell_type": "code",
   "source": [
    "with open(os.path.join(matched_communities_path, f\"{big}-{small}_top_{str(top_k)}_pairs.json\"), \"w\") as f:\n",
    "    json.dump(forward_dict, f)\n",
    "\n",
    "with open(os.path.join(matched_communities_path, f\"{small}-{big}_top_{str(top_k)}_pairs.json\"), \"w\") as f:\n",
    "    json.dump(backward_dict, f)"
   ],
   "id": "b868de543266ed32",
   "outputs": [],
   "execution_count": 14
  },
  {
   "metadata": {},
   "cell_type": "code",
   "source": "",
   "id": "c556018aab0fa318",
   "outputs": [],
   "execution_count": null
  }
 ],
 "metadata": {
  "kernelspec": {
   "display_name": "Python 3",
   "language": "python",
   "name": "python3"
  },
  "language_info": {
   "codemirror_mode": {
    "name": "ipython",
    "version": 2
   },
   "file_extension": ".py",
   "mimetype": "text/x-python",
   "name": "python",
   "nbconvert_exporter": "python",
   "pygments_lexer": "ipython2",
   "version": "2.7.6"
  }
 },
 "nbformat": 4,
 "nbformat_minor": 5
}
