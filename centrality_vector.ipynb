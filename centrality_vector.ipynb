{
 "cells": [
  {
   "metadata": {
    "ExecuteTime": {
     "end_time": "2024-11-29T13:24:40.733790Z",
     "start_time": "2024-11-29T13:24:40.087168Z"
    }
   },
   "cell_type": "code",
   "source": [
    "import networkx as nx\n",
    "import pandas as pd\n",
    "from networkx.algorithms.components import connected_components"
   ],
   "id": "a9194e37a2cbfedb",
   "outputs": [],
   "execution_count": 1
  },
  {
   "cell_type": "code",
   "id": "initial_id",
   "metadata": {
    "collapsed": true,
    "ExecuteTime": {
     "end_time": "2024-11-29T13:26:30.390140Z",
     "start_time": "2024-11-29T13:26:30.381747Z"
    }
   },
   "source": [
    "graph = \"stexpanded\"\n",
    "community_algorithm = \"bigclam\"\n",
    "\n",
    "graph_file = \"data/filtered_triples_weighted/\" + graph + \".triples\"\n",
    "# communities_file = \"./results/communities_\" + community_algorithm + \"/\" + graph + \"_10000.txt\""
   ],
   "outputs": [],
   "execution_count": 7
  },
  {
   "metadata": {
    "ExecuteTime": {
     "end_time": "2024-11-29T13:26:32.343209Z",
     "start_time": "2024-11-29T13:26:31.218646Z"
    }
   },
   "cell_type": "code",
   "source": [
    "graph_df = pd.read_csv(graph_file, sep=\"###\", engine=\"python\", header=None)\n",
    "G = nx.Graph()\n",
    "for row in graph_df.itertuples():\n",
    "    G.add_edge(int(row[1]), int(row[2]))\n",
    "    # G.add_edge(int(row[1]), int(row[2]), weight=int(row[3]))\n",
    "\n",
    "# communities = []\n",
    "# with open(communities_file) as cf:\n",
    "#     for line in cf:\n",
    "#         numbers_set = {int(num) for num in line.strip().split(\"\\t\")}\n",
    "#         communities.append(numbers_set)"
   ],
   "id": "ad48ee73b3cf95f0",
   "outputs": [],
   "execution_count": 8
  },
  {
   "metadata": {
    "ExecuteTime": {
     "end_time": "2024-11-29T13:27:27.338370Z",
     "start_time": "2024-11-29T13:27:27.215246Z"
    }
   },
   "cell_type": "code",
   "source": [
    "component_iterator = nx.connected_components(G)\n",
    "print(sum(1 for _ in component_iterator))\n",
    "for component in component_iterator:\n",
    "    print(component)"
   ],
   "id": "c0f59a480ad0d0b4",
   "outputs": [
    {
     "name": "stdout",
     "output_type": "stream",
     "text": [
      "3\n"
     ]
    }
   ],
   "execution_count": 10
  },
  {
   "metadata": {},
   "cell_type": "code",
   "source": "community_vector = pd.DataFrame({'id': sorted(G.nodes)})",
   "id": "5c43278505a3017b",
   "outputs": [],
   "execution_count": null
  },
  {
   "metadata": {},
   "cell_type": "code",
   "source": [
    "print(\"pagerank...\")\n",
    "centrality_dict = nx.pagerank(G)\n",
    "community_vector['pagerank'] = community_vector['id'].map(centrality_dict)"
   ],
   "id": "fee1161df75da56a",
   "outputs": [],
   "execution_count": null
  },
  {
   "metadata": {},
   "cell_type": "code",
   "outputs": [],
   "execution_count": null,
   "source": "community_vector.to_csv(\"results/centrality_vectors/\" + graph + \"_1.csv\", sep=';', index=False)",
   "id": "2a1c33459f78ef7c"
  },
  {
   "metadata": {},
   "cell_type": "code",
   "source": [
    "print(\"degree centrality...\")\n",
    "centrality_dict = nx.degree_centrality(G)\n",
    "community_vector['degree_centrality'] = community_vector['id'].map(centrality_dict)"
   ],
   "id": "1e58f101f32d801f",
   "outputs": [],
   "execution_count": null
  },
  {
   "metadata": {},
   "cell_type": "code",
   "source": "community_vector.to_csv(\"results/centrality_vectors/\" + graph + \"_2.csv\", sep=';', index=False)",
   "id": "253884408f599f69",
   "outputs": [],
   "execution_count": null
  },
  {
   "metadata": {},
   "cell_type": "code",
   "source": [
    "print(\"percolation centrality...\")\n",
    "centrality_dict = nx.percolation_centrality(G)\n",
    "community_vector['percolation_centrality'] = community_vector['id'].map(centrality_dict)"
   ],
   "id": "1ee4a4f73e9cd8ac",
   "outputs": [],
   "execution_count": null
  },
  {
   "metadata": {},
   "cell_type": "code",
   "source": "community_vector.to_csv(\"results/centrality_vectors/\" + graph + \"_3.csv\", sep=';', index=False)",
   "id": "3800002d8a986a0f",
   "outputs": [],
   "execution_count": null
  },
  {
   "metadata": {},
   "cell_type": "code",
   "source": [
    "print(\"closeness centrality...\")\n",
    "centrality_dict = nx.closeness_centrality(G, wf_improved=True)\n",
    "community_vector['closeness_centrality'] = community_vector['id'].map(centrality_dict)"
   ],
   "id": "2e21e4cb7ef79cae",
   "outputs": [],
   "execution_count": null
  },
  {
   "metadata": {},
   "cell_type": "code",
   "source": "community_vector.to_csv(\"results/centrality_vectors/\" + graph + \"_4.csv\", sep=';', index=False)",
   "id": "a9d51e2c17508b25",
   "outputs": [],
   "execution_count": null
  },
  {
   "metadata": {},
   "cell_type": "code",
   "source": [
    "print(\"betweenness centrality...\")\n",
    "centrality_dict = nx.betweenness_centrality(G)\n",
    "community_vector['betweenness_centrality'] = community_vector['id'].map(centrality_dict)"
   ],
   "id": "a811b49cb85f18ae",
   "outputs": [],
   "execution_count": null
  },
  {
   "metadata": {},
   "cell_type": "code",
   "source": "community_vector.to_csv(\"results/centrality_vectors/\" + graph + \"_5.csv\", sep=';', index=False)",
   "id": "16fbd76683f81b51",
   "outputs": [],
   "execution_count": null
  },
  {
   "metadata": {},
   "cell_type": "code",
   "outputs": [],
   "execution_count": null,
   "source": [
    "print(\"harmonic centrality...\")\n",
    "centrality_dict = nx.harmonic_centrality(G)\n",
    "community_vector['harmonic_centrality'] = community_vector['id'].map(centrality_dict)"
   ],
   "id": "d15d642088496145"
  },
  {
   "metadata": {},
   "cell_type": "code",
   "outputs": [],
   "execution_count": null,
   "source": "community_vector.to_csv(\"results/centrality_vectors/\" + graph + \"_6.csv\", sep=';', index=False)",
   "id": "71690dcb2cfbaa9d"
  },
  {
   "metadata": {},
   "cell_type": "code",
   "outputs": [],
   "execution_count": null,
   "source": [
    "print(\"clustering...\")\n",
    "centrality_dict = nx.clustering(G)\n",
    "community_vector['clustering'] = community_vector['id'].map(centrality_dict)"
   ],
   "id": "2e9df757e2a7a558"
  },
  {
   "metadata": {},
   "cell_type": "code",
   "outputs": [],
   "execution_count": null,
   "source": "community_vector.to_csv(\"results/centrality_vectors/\" + graph + \"_7.csv\", sep=';', index=False)",
   "id": "b73a7e443e22535e"
  },
  {
   "metadata": {},
   "cell_type": "code",
   "outputs": [],
   "execution_count": null,
   "source": [
    "print(\"eigenvector centrality...\")\n",
    "centrality_dict = nx.eigenvector_centrality(G)\n",
    "community_vector['eigenvector_centrality'] = community_vector['id'].map(centrality_dict)"
   ],
   "id": "607617cccf471953"
  },
  {
   "metadata": {},
   "cell_type": "code",
   "outputs": [],
   "execution_count": null,
   "source": "community_vector.to_csv(\"results/centrality_vectors/\" + graph + \"_8.csv\", sep=';', index=False)",
   "id": "8bc49b6346277abd"
  },
  {
   "metadata": {},
   "cell_type": "code",
   "outputs": [],
   "execution_count": null,
   "source": [
    "print(\"subgraph centrality...\")\n",
    "centrality_dict = nx.subgraph_centrality(G)\n",
    "community_vector['subgraph_centrality'] = community_vector['id'].map(centrality_dict)"
   ],
   "id": "2af3e8cce604a817"
  },
  {
   "metadata": {},
   "cell_type": "code",
   "outputs": [],
   "execution_count": null,
   "source": "community_vector.to_csv(\"results/centrality_vectors/\" + graph + \"_9.csv\", sep=';', index=False)",
   "id": "9cc6cd532c645dd4"
  },
  {
   "metadata": {},
   "cell_type": "code",
   "outputs": [],
   "execution_count": null,
   "source": [
    "print(\"load centrality...\")\n",
    "centrality_dict = nx.load_centrality(G)\n",
    "community_vector['load_centrality'] = community_vector['id'].map(centrality_dict)"
   ],
   "id": "fb57ad8986e08aec"
  },
  {
   "metadata": {},
   "cell_type": "code",
   "outputs": [],
   "execution_count": null,
   "source": "community_vector.to_csv(\"results/centrality_vectors/\" + graph + \"_10.csv\", sep=';', index=False)",
   "id": "4aaff8077ceb1ace"
  },
  {
   "metadata": {},
   "cell_type": "code",
   "outputs": [],
   "execution_count": null,
   "source": "# community_vector = pd.read_csv(\"results/centrality_vectors/\" + graph + \"_10.csv\", sep=';')",
   "id": "4806279e78f2a4b2"
  },
  {
   "metadata": {},
   "cell_type": "markdown",
   "source": "# BAD",
   "id": "763d8ad819a6e0bb"
  },
  {
   "metadata": {},
   "cell_type": "code",
   "outputs": [],
   "execution_count": null,
   "source": [
    "# print(\"current flow betweenness centrality...\")\n",
    "# centrality_dict = nx.current_flow_betweenness_centrality(G)\n",
    "# community_vector['current_flow_betweenness_centrality'] = community_vector['id'].map(centrality_dict)"
   ],
   "id": "33885045011b18a8"
  },
  {
   "metadata": {},
   "cell_type": "code",
   "outputs": [],
   "execution_count": null,
   "source": [
    "# print(\"katz centrality...\")\n",
    "# centrality_dict = nx.katz_centrality(G)\n",
    "# community_vector['katz_centrality'] = community_vector['id'].map(centrality_dict)"
   ],
   "id": "98cb985a288ab0d"
  },
  {
   "metadata": {},
   "cell_type": "code",
   "outputs": [],
   "execution_count": null,
   "source": [
    "# print(\"communicability betweenness centrality...\")\n",
    "# centrality_dict = nx.communicability_betweenness_centrality(G)\n",
    "# community_vector['communicability_betweenness_centrality'] = community_vector['id'].map(centrality_dict)"
   ],
   "id": "f99092eba9b0a219"
  },
  {
   "metadata": {},
   "cell_type": "code",
   "outputs": [],
   "execution_count": null,
   "source": [
    "# print(\"information centrality...\")\n",
    "# centrality_dict = nx.information_centrality(G)\n",
    "# community_vector['information_centrality'] = community_vector['id'].map(centrality_dict)"
   ],
   "id": "4988ccfa6f0fd64d"
  },
  {
   "metadata": {},
   "cell_type": "code",
   "outputs": [],
   "execution_count": null,
   "source": [
    "# print(\"second order centrality...\")\n",
    "# centrality_dict = nx.second_order_centrality(G)\n",
    "# community_vector['second_order_centrality'] = community_vector['id'].map(centrality_dict)"
   ],
   "id": "b0b3510769b720a"
  },
  {
   "metadata": {},
   "cell_type": "code",
   "outputs": [],
   "execution_count": null,
   "source": [
    "# print(\"laplacian centrality...\")\n",
    "# centrality_dict = nx.laplacian_centrality(G)\n",
    "# community_vector['laplacian_centrality'] = community_vector['id'].map(centrality_dict)"
   ],
   "id": "bc092bca552624e3"
  }
 ],
 "metadata": {
  "kernelspec": {
   "display_name": "Python 3",
   "language": "python",
   "name": "python3"
  },
  "language_info": {
   "codemirror_mode": {
    "name": "ipython",
    "version": 2
   },
   "file_extension": ".py",
   "mimetype": "text/x-python",
   "name": "python",
   "nbconvert_exporter": "python",
   "pygments_lexer": "ipython2",
   "version": "2.7.6"
  }
 },
 "nbformat": 4,
 "nbformat_minor": 5
}
