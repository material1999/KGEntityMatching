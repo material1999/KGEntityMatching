{
 "cells": [
  {
   "metadata": {
    "ExecuteTime": {
     "end_time": "2024-11-11T13:08:41.130946Z",
     "start_time": "2024-11-11T13:08:40.727766Z"
    }
   },
   "cell_type": "code",
   "source": [
    "import networkx as nx\n",
    "import pandas as pd\n",
    "from tqdm import tqdm"
   ],
   "id": "a9194e37a2cbfedb",
   "outputs": [],
   "execution_count": 1
  },
  {
   "cell_type": "code",
   "id": "initial_id",
   "metadata": {
    "collapsed": true,
    "ExecuteTime": {
     "end_time": "2024-11-11T13:08:41.733097Z",
     "start_time": "2024-11-11T13:08:41.729601Z"
    }
   },
   "source": [
    "graph = \"stexpanded\"\n",
    "community_algorithm = \"bigclam\"\n",
    "\n",
    "graph_file = \"data/filtered_triples_weighted/\" + graph + \".triples\"\n",
    "communities_file = \"./results/communities_\" + community_algorithm + \"/\" + graph + \"_10000.txt\""
   ],
   "outputs": [],
   "execution_count": 2
  },
  {
   "metadata": {
    "ExecuteTime": {
     "end_time": "2024-11-11T13:08:43.774302Z",
     "start_time": "2024-11-11T13:08:42.588489Z"
    }
   },
   "cell_type": "code",
   "source": [
    "graph_df = pd.read_csv(graph_file, sep=\"###\", engine=\"python\", header=None)\n",
    "G = nx.Graph()\n",
    "for row in graph_df.itertuples():\n",
    "    G.add_edge(int(row[1]), int(row[2]))\n",
    "    # G.add_edge(int(row[1]), int(row[2]), weight=int(row[3]))\n",
    "\n",
    "communities = []\n",
    "with open(communities_file) as cf:\n",
    "    for line in cf:\n",
    "        numbers_set = {int(num) for num in line.strip().split(\"\\t\")}\n",
    "        communities.append(numbers_set)"
   ],
   "id": "ad48ee73b3cf95f0",
   "outputs": [],
   "execution_count": 3
  },
  {
   "metadata": {
    "ExecuteTime": {
     "end_time": "2024-11-11T13:08:44.534887Z",
     "start_time": "2024-11-11T13:08:44.517302Z"
    }
   },
   "cell_type": "code",
   "source": [
    "community_vector = pd.DataFrame({'id': sorted(G.nodes)})\n",
    "# print(community_vector)"
   ],
   "id": "5c43278505a3017b",
   "outputs": [],
   "execution_count": 4
  },
  {
   "metadata": {
    "ExecuteTime": {
     "end_time": "2024-11-11T13:08:46.636782Z",
     "start_time": "2024-11-11T13:08:45.787046Z"
    }
   },
   "cell_type": "code",
   "source": [
    "centrality_dict = nx.pagerank(G)\n",
    "community_vector['pagerank'] = community_vector['id'].map(centrality_dict)"
   ],
   "id": "fee1161df75da56a",
   "outputs": [],
   "execution_count": 5
  },
  {
   "metadata": {
    "ExecuteTime": {
     "end_time": "2024-11-11T13:08:47.355555Z",
     "start_time": "2024-11-11T13:08:47.324171Z"
    }
   },
   "cell_type": "code",
   "source": [
    "centrality_dict = nx.degree_centrality(G)\n",
    "community_vector['degree_centrality'] = community_vector['id'].map(centrality_dict)"
   ],
   "id": "1e58f101f32d801f",
   "outputs": [],
   "execution_count": 6
  },
  {
   "metadata": {
    "ExecuteTime": {
     "end_time": "2024-11-11T13:17:39.321196Z",
     "start_time": "2024-11-11T13:12:54.232829Z"
    }
   },
   "cell_type": "code",
   "source": [
    "centrality_dict = nx.percolation_centrality(G)\n",
    "community_vector['percolation_centrality'] = community_vector['id'].map(centrality_dict)"
   ],
   "id": "1ee4a4f73e9cd8ac",
   "outputs": [
    {
     "ename": "KeyboardInterrupt",
     "evalue": "",
     "output_type": "error",
     "traceback": [
      "\u001B[0;31m---------------------------------------------------------------------------\u001B[0m",
      "\u001B[0;31mKeyboardInterrupt\u001B[0m                         Traceback (most recent call last)",
      "Cell \u001B[0;32mIn[10], line 1\u001B[0m\n\u001B[0;32m----> 1\u001B[0m centrality_dict \u001B[38;5;241m=\u001B[39m \u001B[43mnx\u001B[49m\u001B[38;5;241;43m.\u001B[39;49m\u001B[43mpercolation_centrality\u001B[49m\u001B[43m(\u001B[49m\u001B[43mG\u001B[49m\u001B[43m)\u001B[49m\n\u001B[1;32m      2\u001B[0m community_vector[\u001B[38;5;124m'\u001B[39m\u001B[38;5;124mpercolation_centrality\u001B[39m\u001B[38;5;124m'\u001B[39m] \u001B[38;5;241m=\u001B[39m community_vector[\u001B[38;5;124m'\u001B[39m\u001B[38;5;124mid\u001B[39m\u001B[38;5;124m'\u001B[39m]\u001B[38;5;241m.\u001B[39mmap(centrality_dict)\n",
      "File \u001B[0;32m~/Documents/Projects/KGEntityMatching/venv/lib/python3.10/site-packages/networkx/utils/decorators.py:789\u001B[0m, in \u001B[0;36margmap.__call__.<locals>.func\u001B[0;34m(_argmap__wrapper, *args, **kwargs)\u001B[0m\n\u001B[1;32m    788\u001B[0m \u001B[38;5;28;01mdef\u001B[39;00m \u001B[38;5;21mfunc\u001B[39m(\u001B[38;5;241m*\u001B[39margs, __wrapper\u001B[38;5;241m=\u001B[39m\u001B[38;5;28;01mNone\u001B[39;00m, \u001B[38;5;241m*\u001B[39m\u001B[38;5;241m*\u001B[39mkwargs):\n\u001B[0;32m--> 789\u001B[0m     \u001B[38;5;28;01mreturn\u001B[39;00m \u001B[43margmap\u001B[49m\u001B[38;5;241;43m.\u001B[39;49m\u001B[43m_lazy_compile\u001B[49m\u001B[43m(\u001B[49m\u001B[43m__wrapper\u001B[49m\u001B[43m)\u001B[49m\u001B[43m(\u001B[49m\u001B[38;5;241;43m*\u001B[39;49m\u001B[43margs\u001B[49m\u001B[43m,\u001B[49m\u001B[43m \u001B[49m\u001B[38;5;241;43m*\u001B[39;49m\u001B[38;5;241;43m*\u001B[39;49m\u001B[43mkwargs\u001B[49m\u001B[43m)\u001B[49m\n",
      "File \u001B[0;32m<class 'networkx.utils.decorators.argmap'> compilation 43:3\u001B[0m, in \u001B[0;36margmap_percolation_centrality_40\u001B[0;34m(G, attribute, states, weight, backend, **backend_kwargs)\u001B[0m\n\u001B[1;32m      1\u001B[0m \u001B[38;5;28;01mimport\u001B[39;00m \u001B[38;5;21;01mbz2\u001B[39;00m\n\u001B[1;32m      2\u001B[0m \u001B[38;5;28;01mimport\u001B[39;00m \u001B[38;5;21;01mcollections\u001B[39;00m\n\u001B[0;32m----> 3\u001B[0m \u001B[38;5;28;01mimport\u001B[39;00m \u001B[38;5;21;01mgzip\u001B[39;00m\n\u001B[1;32m      4\u001B[0m \u001B[38;5;28;01mimport\u001B[39;00m \u001B[38;5;21;01minspect\u001B[39;00m\n\u001B[1;32m      5\u001B[0m \u001B[38;5;28;01mimport\u001B[39;00m \u001B[38;5;21;01mitertools\u001B[39;00m\n",
      "File \u001B[0;32m~/Documents/Projects/KGEntityMatching/venv/lib/python3.10/site-packages/networkx/utils/backends.py:633\u001B[0m, in \u001B[0;36m_dispatchable.__call__\u001B[0;34m(self, backend, *args, **kwargs)\u001B[0m\n\u001B[1;32m    628\u001B[0m \u001B[38;5;250m\u001B[39m\u001B[38;5;124;03m\"\"\"Returns the result of the original function, or the backend function if\u001B[39;00m\n\u001B[1;32m    629\u001B[0m \u001B[38;5;124;03mthe backend is specified and that backend implements `func`.\"\"\"\u001B[39;00m\n\u001B[1;32m    631\u001B[0m \u001B[38;5;28;01mif\u001B[39;00m \u001B[38;5;129;01mnot\u001B[39;00m backends:\n\u001B[1;32m    632\u001B[0m     \u001B[38;5;66;03m# Fast path if no backends are installed\u001B[39;00m\n\u001B[0;32m--> 633\u001B[0m     \u001B[38;5;28;01mreturn\u001B[39;00m \u001B[38;5;28;43mself\u001B[39;49m\u001B[38;5;241;43m.\u001B[39;49m\u001B[43morig_func\u001B[49m\u001B[43m(\u001B[49m\u001B[38;5;241;43m*\u001B[39;49m\u001B[43margs\u001B[49m\u001B[43m,\u001B[49m\u001B[43m \u001B[49m\u001B[38;5;241;43m*\u001B[39;49m\u001B[38;5;241;43m*\u001B[39;49m\u001B[43mkwargs\u001B[49m\u001B[43m)\u001B[49m\n\u001B[1;32m    635\u001B[0m \u001B[38;5;66;03m# Use `backend_name` in this function instead of `backend`\u001B[39;00m\n\u001B[1;32m    636\u001B[0m backend_name \u001B[38;5;241m=\u001B[39m backend\n",
      "File \u001B[0;32m~/Documents/Projects/KGEntityMatching/venv/lib/python3.10/site-packages/networkx/algorithms/centrality/percolation.py:101\u001B[0m, in \u001B[0;36mpercolation_centrality\u001B[0;34m(G, attribute, states, weight)\u001B[0m\n\u001B[1;32m     98\u001B[0m \u001B[38;5;28;01mfor\u001B[39;00m s \u001B[38;5;129;01min\u001B[39;00m nodes:\n\u001B[1;32m     99\u001B[0m     \u001B[38;5;66;03m# single source shortest paths\u001B[39;00m\n\u001B[1;32m    100\u001B[0m     \u001B[38;5;28;01mif\u001B[39;00m weight \u001B[38;5;129;01mis\u001B[39;00m \u001B[38;5;28;01mNone\u001B[39;00m:  \u001B[38;5;66;03m# use BFS\u001B[39;00m\n\u001B[0;32m--> 101\u001B[0m         S, P, sigma, _ \u001B[38;5;241m=\u001B[39m \u001B[43mshortest_path\u001B[49m\u001B[43m(\u001B[49m\u001B[43mG\u001B[49m\u001B[43m,\u001B[49m\u001B[43m \u001B[49m\u001B[43ms\u001B[49m\u001B[43m)\u001B[49m\n\u001B[1;32m    102\u001B[0m     \u001B[38;5;28;01melse\u001B[39;00m:  \u001B[38;5;66;03m# use Dijkstra's algorithm\u001B[39;00m\n\u001B[1;32m    103\u001B[0m         S, P, sigma, _ \u001B[38;5;241m=\u001B[39m dijkstra(G, s, weight)\n",
      "File \u001B[0;32m~/Documents/Projects/KGEntityMatching/venv/lib/python3.10/site-packages/networkx/algorithms/centrality/betweenness.py:276\u001B[0m, in \u001B[0;36m_single_source_shortest_path_basic\u001B[0;34m(G, s)\u001B[0m\n\u001B[1;32m    274\u001B[0m         \u001B[38;5;28;01mif\u001B[39;00m D[w] \u001B[38;5;241m==\u001B[39m Dv \u001B[38;5;241m+\u001B[39m \u001B[38;5;241m1\u001B[39m:  \u001B[38;5;66;03m# this is a shortest path, count paths\u001B[39;00m\n\u001B[1;32m    275\u001B[0m             sigma[w] \u001B[38;5;241m+\u001B[39m\u001B[38;5;241m=\u001B[39m sigmav\n\u001B[0;32m--> 276\u001B[0m             \u001B[43mP\u001B[49m\u001B[43m[\u001B[49m\u001B[43mw\u001B[49m\u001B[43m]\u001B[49m\u001B[38;5;241;43m.\u001B[39;49m\u001B[43mappend\u001B[49m\u001B[43m(\u001B[49m\u001B[43mv\u001B[49m\u001B[43m)\u001B[49m  \u001B[38;5;66;03m# predecessors\u001B[39;00m\n\u001B[1;32m    277\u001B[0m \u001B[38;5;28;01mreturn\u001B[39;00m S, P, sigma, D\n",
      "\u001B[0;31mKeyboardInterrupt\u001B[0m: "
     ]
    }
   ],
   "execution_count": 10
  },
  {
   "metadata": {},
   "cell_type": "code",
   "source": [
    "centrality_dict = nx.closeness_centrality(G, wf_improved=True)\n",
    "community_vector['closeness_centrality'] = community_vector['id'].map(centrality_dict)"
   ],
   "id": "2e21e4cb7ef79cae",
   "outputs": [],
   "execution_count": null
  },
  {
   "metadata": {},
   "cell_type": "code",
   "source": [
    "centrality_dict = nx.betweenness_centrality(G)\n",
    "community_vector['betweenness_centrality'] = community_vector['id'].map(centrality_dict)"
   ],
   "id": "a811b49cb85f18ae",
   "outputs": [],
   "execution_count": null
  }
 ],
 "metadata": {
  "kernelspec": {
   "display_name": "Python 3",
   "language": "python",
   "name": "python3"
  },
  "language_info": {
   "codemirror_mode": {
    "name": "ipython",
    "version": 2
   },
   "file_extension": ".py",
   "mimetype": "text/x-python",
   "name": "python",
   "nbconvert_exporter": "python",
   "pygments_lexer": "ipython2",
   "version": "2.7.6"
  }
 },
 "nbformat": 4,
 "nbformat_minor": 5
}
