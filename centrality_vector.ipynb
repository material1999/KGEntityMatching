{
 "cells": [
  {
   "metadata": {},
   "cell_type": "code",
   "source": [
    "import networkx as nx\n",
    "import pandas as pd\n",
    "from tqdm import tqdm"
   ],
   "id": "a9194e37a2cbfedb",
   "outputs": [],
   "execution_count": null
  },
  {
   "cell_type": "code",
   "id": "initial_id",
   "metadata": {
    "collapsed": true
   },
   "source": [
    "graph = \"stexpanded\"\n",
    "community_algorithm = \"bigclam\"\n",
    "\n",
    "graph_file = \"data/filtered_triples_weighted/\" + graph + \".triples\"\n",
    "# communities_file = \"./results/communities_\" + community_algorithm + \"/\" + graph + \"_10000.txt\""
   ],
   "outputs": [],
   "execution_count": null
  },
  {
   "metadata": {},
   "cell_type": "code",
   "source": [
    "graph_df = pd.read_csv(graph_file, sep=\"###\", engine=\"python\", header=None)\n",
    "G = nx.Graph()\n",
    "for row in graph_df.itertuples():\n",
    "    G.add_edge(int(row[1]), int(row[2]))\n",
    "    # G.add_edge(int(row[1]), int(row[2]), weight=int(row[3]))\n",
    "\n",
    "# communities = []\n",
    "# with open(communities_file) as cf:\n",
    "#     for line in cf:\n",
    "#         numbers_set = {int(num) for num in line.strip().split(\"\\t\")}\n",
    "#         communities.append(numbers_set)"
   ],
   "id": "ad48ee73b3cf95f0",
   "outputs": [],
   "execution_count": null
  },
  {
   "metadata": {},
   "cell_type": "code",
   "source": "# community_vector = pd.DataFrame({'id': sorted(G.nodes)})",
   "id": "5c43278505a3017b",
   "outputs": [],
   "execution_count": null
  },
  {
   "metadata": {},
   "cell_type": "code",
   "source": [
    "# print(\"pagerank...\")\n",
    "# centrality_dict = nx.pagerank(G)\n",
    "# community_vector['pagerank'] = community_vector['id'].map(centrality_dict)"
   ],
   "id": "fee1161df75da56a",
   "outputs": [],
   "execution_count": null
  },
  {
   "metadata": {},
   "cell_type": "code",
   "source": [
    "# print(\"degree centrality...\")\n",
    "# centrality_dict = nx.degree_centrality(G)\n",
    "# community_vector['degree_centrality'] = community_vector['id'].map(centrality_dict)"
   ],
   "id": "1e58f101f32d801f",
   "outputs": [],
   "execution_count": null
  },
  {
   "metadata": {},
   "cell_type": "code",
   "source": "# community_vector.to_csv(\"results/centrality_vectors/\" + graph + \"_1.csv\", sep=';', index=False)",
   "id": "253884408f599f69",
   "outputs": [],
   "execution_count": null
  },
  {
   "metadata": {},
   "cell_type": "code",
   "source": [
    "# print(\"percolation centrality...\")\n",
    "# centrality_dict = nx.percolation_centrality(G)\n",
    "# community_vector['percolation_centrality'] = community_vector['id'].map(centrality_dict)"
   ],
   "id": "1ee4a4f73e9cd8ac",
   "outputs": [],
   "execution_count": null
  },
  {
   "metadata": {},
   "cell_type": "code",
   "source": "# community_vector.to_csv(\"results/centrality_vectors/\" + graph + \"_2.csv\", sep=';', index=False)",
   "id": "3800002d8a986a0f",
   "outputs": [],
   "execution_count": null
  },
  {
   "metadata": {},
   "cell_type": "code",
   "source": [
    "# print(\"closeness centrality...\")\n",
    "# centrality_dict = nx.closeness_centrality(G, wf_improved=True)\n",
    "# community_vector['closeness_centrality'] = community_vector['id'].map(centrality_dict)"
   ],
   "id": "2e21e4cb7ef79cae",
   "outputs": [],
   "execution_count": null
  },
  {
   "metadata": {},
   "cell_type": "code",
   "source": "# community_vector.to_csv(\"results/centrality_vectors/\" + graph + \"_3.csv\", sep=';', index=False)",
   "id": "a9d51e2c17508b25",
   "outputs": [],
   "execution_count": null
  },
  {
   "metadata": {},
   "cell_type": "code",
   "source": [
    "# print(\"betweenness centrality...\")\n",
    "# centrality_dict = nx.betweenness_centrality(G)\n",
    "# community_vector['betweenness_centrality'] = community_vector['id'].map(centrality_dict)"
   ],
   "id": "a811b49cb85f18ae",
   "outputs": [],
   "execution_count": null
  },
  {
   "metadata": {},
   "cell_type": "code",
   "source": "# community_vector.to_csv(\"results/centrality_vectors/\" + graph + \"_4.csv\", sep=';', index=False)",
   "id": "16fbd76683f81b51",
   "outputs": [],
   "execution_count": null
  },
  {
   "metadata": {},
   "cell_type": "code",
   "outputs": [],
   "execution_count": null,
   "source": "community_vector = pd.read_csv(\"results/centrality_vectors/\" + graph + \"_4.csv\", sep=';')",
   "id": "c7552a9908fed845"
  },
  {
   "metadata": {},
   "cell_type": "code",
   "outputs": [],
   "execution_count": null,
   "source": [
    "print(\"harmonic centrality...\")\n",
    "centrality_dict = nx.harmonic_centrality(G)\n",
    "community_vector['harmonic_centrality'] = community_vector['id'].map(centrality_dict)"
   ],
   "id": "d15d642088496145"
  },
  {
   "metadata": {},
   "cell_type": "code",
   "outputs": [],
   "execution_count": null,
   "source": "community_vector.to_csv(\"results/centrality_vectors/\" + graph + \"_5.csv\", sep=';', index=False)",
   "id": "71690dcb2cfbaa9d"
  },
  {
   "metadata": {},
   "cell_type": "code",
   "outputs": [],
   "execution_count": null,
   "source": [
    "print(\"katz centrality...\")\n",
    "centrality_dict = nx.katz_centrality(G)\n",
    "community_vector['katz_centrality'] = community_vector['id'].map(centrality_dict)"
   ],
   "id": "2e9df757e2a7a558"
  },
  {
   "metadata": {},
   "cell_type": "code",
   "outputs": [],
   "execution_count": null,
   "source": "community_vector.to_csv(\"results/centrality_vectors/\" + graph + \"_6.csv\", sep=';', index=False)",
   "id": "b73a7e443e22535e"
  },
  {
   "metadata": {},
   "cell_type": "code",
   "outputs": [],
   "execution_count": null,
   "source": [
    "print(\"eigenvector centrality...\")\n",
    "centrality_dict = nx.eigenvector_centrality(G)\n",
    "community_vector['eigenvector_centrality'] = community_vector['id'].map(centrality_dict)"
   ],
   "id": "607617cccf471953"
  },
  {
   "metadata": {},
   "cell_type": "code",
   "outputs": [],
   "execution_count": null,
   "source": "community_vector.to_csv(\"results/centrality_vectors/\" + graph + \"_7.csv\", sep=';', index=False)",
   "id": "8bc49b6346277abd"
  },
  {
   "metadata": {},
   "cell_type": "code",
   "outputs": [],
   "execution_count": null,
   "source": [
    "print(\"current flow betweenness centrality...\")\n",
    "centrality_dict = nx.current_flow_betweenness_centrality(G)\n",
    "community_vector['current_flow_betweenness_centrality'] = community_vector['id'].map(centrality_dict)"
   ],
   "id": "33885045011b18a8"
  },
  {
   "metadata": {},
   "cell_type": "code",
   "outputs": [],
   "execution_count": null,
   "source": "community_vector.to_csv(\"results/centrality_vectors/\" + graph + \"_8.csv\", sep=';', index=False)",
   "id": "f0a4ce4a5cf60f4f"
  },
  {
   "metadata": {},
   "cell_type": "code",
   "outputs": [],
   "execution_count": null,
   "source": [
    "print(\"clustering...\")\n",
    "centrality_dict = nx.clustering(G)\n",
    "community_vector['clustering'] = community_vector['id'].map(centrality_dict)"
   ],
   "id": "98cb985a288ab0d"
  },
  {
   "metadata": {},
   "cell_type": "code",
   "outputs": [],
   "execution_count": null,
   "source": "community_vector.to_csv(\"results/centrality_vectors/\" + graph + \"_9.csv\", sep=';', index=False)",
   "id": "e6a885a474135b93"
  }
 ],
 "metadata": {
  "kernelspec": {
   "display_name": "Python 3",
   "language": "python",
   "name": "python3"
  },
  "language_info": {
   "codemirror_mode": {
    "name": "ipython",
    "version": 2
   },
   "file_extension": ".py",
   "mimetype": "text/x-python",
   "name": "python",
   "nbconvert_exporter": "python",
   "pygments_lexer": "ipython2",
   "version": "2.7.6"
  }
 },
 "nbformat": 4,
 "nbformat_minor": 5
}
