{
 "cells": [
  {
   "metadata": {
    "ExecuteTime": {
     "end_time": "2025-03-11T17:01:00.200952Z",
     "start_time": "2025-03-11T17:00:57.121815Z"
    }
   },
   "cell_type": "code",
   "source": [
    "import json\n",
    "import torch\n",
    "from sentence_transformers import util\n",
    "import os"
   ],
   "id": "d9164b8d5151b111",
   "outputs": [],
   "execution_count": 1
  },
  {
   "cell_type": "code",
   "id": "initial_id",
   "metadata": {
    "collapsed": true,
    "ExecuteTime": {
     "end_time": "2025-03-11T17:01:00.217724Z",
     "start_time": "2025-03-11T17:01:00.212850Z"
    }
   },
   "source": [
    "big = \"memoryalpha\"\n",
    "small = \"stexpanded\"\n",
    "\n",
    "top_k = 10\n",
    "\n",
    "mapping_file_big = \"./data/triples_v2/\" + big + \"_mapping.json\"\n",
    "mapping_file_small = \"./data/triples_v2/\" + small + \"_mapping.json\"\n",
    "exact_match_file = \"./data/exact_match/\" + big + \"-\" + small + \".json\"\n",
    "\n",
    "communities_big_file = \"./results/communities_leiden/\" + big + \"/final.txt\"\n",
    "communities_small_file = \"./results/communities_leiden/\" + small + \"/final.txt\"\n",
    "\n",
    "communitiy_embeddings_big_file = \"./results/community_embeddings/\" + big + \".json\"\n",
    "communitiy_embeddings_small_file = \"./results/community_embeddings/\" + small + \".json\"\n",
    "\n",
    "node_embeddings_big_file = \"./results/embeddings/\" + big + \"_lab_altlab_type_abs_comment_BAAI_bge-large-en-v1.5.json\"\n",
    "node_embeddings_small_file = \"./results/embeddings/\" + small + \"_lab_altlab_type_abs_comment_BAAI_bge-large-en-v1.5.json\"\n",
    "\n",
    "url_embeddings_big_file = \"./results/url_embeddings_short/\" + big + \"_url_BAAI_bge-large-en-v1.5.json\"\n",
    "url_embeddings_small_file = \"./results/url_embeddings_short/\" + small + \"_url_BAAI_bge-large-en-v1.5.json\"\n",
    "\n",
    "matched_communities_path = f\"./results/matched_nodes_communities_leiden/top_{top_k}_pairs/\""
   ],
   "outputs": [],
   "execution_count": 2
  },
  {
   "metadata": {
    "ExecuteTime": {
     "end_time": "2025-03-11T17:01:00.615635Z",
     "start_time": "2025-03-11T17:01:00.226296Z"
    }
   },
   "cell_type": "code",
   "source": [
    "with open(exact_match_file) as emf, open(mapping_file_big) as mfb, open(mapping_file_small) as mfs:\n",
    "    mapping_big = json.load(mfb)\n",
    "    mapping_small = json.load(mfs)\n",
    "    exact_match = json.load(emf)"
   ],
   "id": "e530e5547259611f",
   "outputs": [],
   "execution_count": 3
  },
  {
   "metadata": {
    "ExecuteTime": {
     "end_time": "2025-03-11T17:01:01.186687Z",
     "start_time": "2025-03-11T17:01:01.162692Z"
    }
   },
   "cell_type": "code",
   "source": [
    "small_communities = []\n",
    "big_communities = []\n",
    "\n",
    "with open(communities_big_file) as cbf, open(communities_small_file) as csf:\n",
    "    \n",
    "    for line in csf:\n",
    "        numbers_set = {int(num) for num in line.strip().split(\" \")}\n",
    "        small_communities.append(numbers_set)\n",
    "\n",
    "    for line in cbf:\n",
    "        numbers_set = {int(num) for num in line.strip().split(\" \")}\n",
    "        big_communities.append(numbers_set)"
   ],
   "id": "351ec2e9bbc0f02f",
   "outputs": [],
   "execution_count": 4
  },
  {
   "metadata": {
    "ExecuteTime": {
     "end_time": "2025-03-11T17:01:02.425938Z",
     "start_time": "2025-03-11T17:01:01.412294Z"
    }
   },
   "cell_type": "code",
   "source": [
    "with open(communitiy_embeddings_big_file) as cebf, open(communitiy_embeddings_small_file) as cesf:\n",
    "    community_embeddings_big = json.load(cebf)\n",
    "    community_embeddings_big = {k: list(v.values()) for k, v in community_embeddings_big.items()}\n",
    "    community_embeddings_small = json.load(cesf)\n",
    "    community_embeddings_small = {k: list(v.values()) for k, v in community_embeddings_small.items()}"
   ],
   "id": "7c8826d27dcbd9cb",
   "outputs": [],
   "execution_count": 5
  },
  {
   "metadata": {
    "ExecuteTime": {
     "end_time": "2025-03-11T17:01:16.224224Z",
     "start_time": "2025-03-11T17:01:02.869915Z"
    }
   },
   "cell_type": "code",
   "source": [
    "with open(node_embeddings_big_file) as nebf, open(node_embeddings_small_file) as nesf:\n",
    "    node_embeddings_big = json.load(nebf)\n",
    "    node_embeddings_small = json.load(nesf)"
   ],
   "id": "4791489b096f7c60",
   "outputs": [],
   "execution_count": 6
  },
  {
   "metadata": {
    "ExecuteTime": {
     "end_time": "2025-03-11T17:01:52.935579Z",
     "start_time": "2025-03-11T17:01:16.235233Z"
    }
   },
   "cell_type": "code",
   "source": [
    "with open(url_embeddings_big_file) as uebf, open(url_embeddings_small_file) as uesf:\n",
    "    url_embeddings_big = json.load(uebf)\n",
    "    url_embeddings_small = json.load(uesf)"
   ],
   "id": "d36d30e836ff7a54",
   "outputs": [],
   "execution_count": 7
  },
  {
   "metadata": {
    "ExecuteTime": {
     "end_time": "2025-03-11T17:01:53.685994Z",
     "start_time": "2025-03-11T17:01:53.615321Z"
    }
   },
   "cell_type": "code",
   "source": [
    "merged_node_embeddings_big = {key: node_embeddings_big[key] if key in node_embeddings_big else url_embeddings_big[key] for key in set(node_embeddings_big) | set(url_embeddings_big)}\n",
    "\n",
    "merged_node_embeddings_small = {key: node_embeddings_small[key] if key in node_embeddings_small else url_embeddings_small[key] for key in set(node_embeddings_small) | set(url_embeddings_small)}"
   ],
   "id": "4c7a511fa1960029",
   "outputs": [],
   "execution_count": 8
  },
  {
   "metadata": {
    "ExecuteTime": {
     "end_time": "2025-03-11T17:03:27.178579Z",
     "start_time": "2025-03-11T17:01:53.969727Z"
    }
   },
   "cell_type": "code",
   "source": [
    "big_torch_embeds = torch.Tensor(list(community_embeddings_big.values()))\n",
    "small_torch_embeds = torch.Tensor(list(community_embeddings_small.values()))\n",
    "big_torch_node_embeds = torch.Tensor(list(merged_node_embeddings_big.values()))\n",
    "small_torch_node_embeds = torch.Tensor(list(merged_node_embeddings_small.values()))\n",
    "\n",
    "pair_top_k = util.semantic_search(big_torch_node_embeds, small_torch_embeds, top_k=top_k)\n",
    "reverse_pair_top_k = util.semantic_search(small_torch_node_embeds, big_torch_embeds, top_k=top_k)"
   ],
   "id": "d5617196179cba6",
   "outputs": [],
   "execution_count": 9
  },
  {
   "metadata": {
    "ExecuteTime": {
     "end_time": "2025-03-11T17:03:28.874651Z",
     "start_time": "2025-03-11T17:03:28.870796Z"
    }
   },
   "cell_type": "code",
   "source": "pair_top_k[0]",
   "id": "c7be63caeab37178",
   "outputs": [
    {
     "data": {
      "text/plain": [
       "[{'corpus_id': 432, 'score': 0.640677273273468},\n",
       " {'corpus_id': 437, 'score': 0.6383876800537109},\n",
       " {'corpus_id': 52, 'score': 0.6349277496337891},\n",
       " {'corpus_id': 350, 'score': 0.6262693405151367},\n",
       " {'corpus_id': 950, 'score': 0.6202042698860168},\n",
       " {'corpus_id': 683, 'score': 0.6071872115135193},\n",
       " {'corpus_id': 1103, 'score': 0.6005226969718933},\n",
       " {'corpus_id': 46, 'score': 0.597133457660675},\n",
       " {'corpus_id': 772, 'score': 0.5969273447990417},\n",
       " {'corpus_id': 68, 'score': 0.5939682722091675}]"
      ]
     },
     "execution_count": 10,
     "metadata": {},
     "output_type": "execute_result"
    }
   ],
   "execution_count": 10
  },
  {
   "metadata": {
    "ExecuteTime": {
     "end_time": "2025-03-11T17:03:29.424947Z",
     "start_time": "2025-03-11T17:03:29.421293Z"
    }
   },
   "cell_type": "code",
   "source": "reverse_pair_top_k[0]",
   "id": "37aa92e0829989f1",
   "outputs": [
    {
     "data": {
      "text/plain": [
       "[{'corpus_id': 2214, 'score': 0.6370986104011536},\n",
       " {'corpus_id': 2146, 'score': 0.6268804669380188},\n",
       " {'corpus_id': 2197, 'score': 0.625564694404602},\n",
       " {'corpus_id': 639, 'score': 0.6248593330383301},\n",
       " {'corpus_id': 947, 'score': 0.6210753917694092},\n",
       " {'corpus_id': 2086, 'score': 0.6205061674118042},\n",
       " {'corpus_id': 521, 'score': 0.6194570064544678},\n",
       " {'corpus_id': 616, 'score': 0.6187030076980591},\n",
       " {'corpus_id': 2130, 'score': 0.6185499429702759},\n",
       " {'corpus_id': 1359, 'score': 0.6160224080085754}]"
      ]
     },
     "execution_count": 11,
     "metadata": {},
     "output_type": "execute_result"
    }
   ],
   "execution_count": 11
  },
  {
   "metadata": {
    "ExecuteTime": {
     "end_time": "2025-03-11T17:05:46.889017Z",
     "start_time": "2025-03-11T17:03:29.711561Z"
    }
   },
   "cell_type": "code",
   "source": [
    "forward_dict = dict()\n",
    "backward_dict = dict()\n",
    "g1_keys = list(community_embeddings_big.keys())\n",
    "g2_keys = list(community_embeddings_small.keys())\n",
    "g1_node_keys = list(merged_node_embeddings_big.keys())\n",
    "g2_node_keys = list(merged_node_embeddings_small.keys())\n",
    "\n",
    "for a, b in zip(g1_node_keys, pair_top_k):\n",
    "    row_info = list()\n",
    "    for element in b:\n",
    "        row_info.append([g2_keys[element[\"corpus_id\"]], element[\"score\"]])\n",
    "    forward_dict[str(a)] = row_info\n",
    "\n",
    "for a, b in zip(g2_node_keys, reverse_pair_top_k):\n",
    "    row_info = list()\n",
    "    for element in b:\n",
    "        row_info.append([g1_keys[element[\"corpus_id\"]], element[\"score\"]])\n",
    "    backward_dict[str(a)] = row_info"
   ],
   "id": "d1f5643ac275909b",
   "outputs": [],
   "execution_count": 12
  },
  {
   "metadata": {
    "ExecuteTime": {
     "end_time": "2025-03-11T17:05:50.365235Z",
     "start_time": "2025-03-11T17:05:48.431353Z"
    }
   },
   "cell_type": "code",
   "source": [
    "with open(os.path.join(matched_communities_path, f\"{big}-{small}_top_{str(top_k)}_pairs.json\"), \"w\") as f:\n",
    "    json.dump(forward_dict, f)\n",
    "\n",
    "with open(os.path.join(matched_communities_path, f\"{small}-{big}_top_{str(top_k)}_pairs.json\"), \"w\") as f:\n",
    "    json.dump(backward_dict, f)"
   ],
   "id": "b868de543266ed32",
   "outputs": [],
   "execution_count": 13
  },
  {
   "metadata": {
    "ExecuteTime": {
     "end_time": "2025-03-11T17:05:50.373597Z",
     "start_time": "2025-03-11T17:05:50.371273Z"
    }
   },
   "cell_type": "code",
   "source": "",
   "id": "c556018aab0fa318",
   "outputs": [],
   "execution_count": null
  }
 ],
 "metadata": {
  "kernelspec": {
   "display_name": "Python 3",
   "language": "python",
   "name": "python3"
  },
  "language_info": {
   "codemirror_mode": {
    "name": "ipython",
    "version": 2
   },
   "file_extension": ".py",
   "mimetype": "text/x-python",
   "name": "python",
   "nbconvert_exporter": "python",
   "pygments_lexer": "ipython2",
   "version": "2.7.6"
  }
 },
 "nbformat": 4,
 "nbformat_minor": 5
}
