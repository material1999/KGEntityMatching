{
 "cells": [
  {
   "metadata": {
    "ExecuteTime": {
     "end_time": "2025-03-10T11:35:45.069778Z",
     "start_time": "2025-03-10T11:35:42.254902Z"
    }
   },
   "cell_type": "code",
   "source": [
    "import json\n",
    "import torch\n",
    "from sentence_transformers import util\n",
    "import os"
   ],
   "id": "d9164b8d5151b111",
   "outputs": [],
   "execution_count": 1
  },
  {
   "cell_type": "code",
   "id": "initial_id",
   "metadata": {
    "collapsed": true,
    "ExecuteTime": {
     "end_time": "2025-03-10T11:35:45.743552Z",
     "start_time": "2025-03-10T11:35:45.739281Z"
    }
   },
   "source": [
    "big = \"memoryalpha\"\n",
    "small = \"stexpanded\"\n",
    "\n",
    "top_k = 10\n",
    "\n",
    "mapping_file_big = \"./data/triples_v2/\" + big + \"_mapping.json\"\n",
    "mapping_file_small = \"./data/triples_v2/\" + small + \"_mapping.json\"\n",
    "exact_match_file = \"./data/exact_match/\" + big + \"-\" + small + \".json\"\n",
    "\n",
    "communities_big_file = \"./results/communities_leiden/\" + big + \"/final.txt\"\n",
    "communities_small_file = \"./results/communities_leiden/\" + small + \"/final.txt\"\n",
    "\n",
    "communitiy_embeddings_big_file = \"./results/community_embeddings/\" + big + \".json\"\n",
    "communitiy_embeddings_small_file = \"./results/community_embeddings/\" + small + \".json\"\n",
    "\n",
    "node_embeddings_big_file = \"./results/embeddings/\" + big + \"_lab_altlab_type_abs_comment_BAAI_bge-large-en-v1.5.json\"\n",
    "node_embeddings_small_file = \"./results/embeddings/\" + small + \"_lab_altlab_type_abs_comment_BAAI_bge-large-en-v1.5.json\"\n",
    "\n",
    "matched_communities_path = f\"./results/matched_communities_nodes_leiden/top_{top_k}_pairs/\""
   ],
   "outputs": [],
   "execution_count": 2
  },
  {
   "metadata": {
    "ExecuteTime": {
     "end_time": "2025-03-10T11:35:47.203829Z",
     "start_time": "2025-03-10T11:35:46.808803Z"
    }
   },
   "cell_type": "code",
   "source": [
    "with open(exact_match_file) as emf, open(mapping_file_big) as mfb, open(mapping_file_small) as mfs:\n",
    "    mapping_big = json.load(mfb)\n",
    "    mapping_small = json.load(mfs)\n",
    "    exact_match = json.load(emf)"
   ],
   "id": "e530e5547259611f",
   "outputs": [],
   "execution_count": 3
  },
  {
   "metadata": {
    "ExecuteTime": {
     "end_time": "2025-03-10T11:35:48.024902Z",
     "start_time": "2025-03-10T11:35:47.991421Z"
    }
   },
   "cell_type": "code",
   "source": [
    "small_communities = []\n",
    "big_communities = []\n",
    "\n",
    "with open(communities_big_file) as cbf, open(communities_small_file) as csf:\n",
    "    \n",
    "    for line in csf:\n",
    "        numbers_set = {int(num) for num in line.strip().split(\" \")}\n",
    "        small_communities.append(numbers_set)\n",
    "\n",
    "    for line in cbf:\n",
    "        numbers_set = {int(num) for num in line.strip().split(\" \")}\n",
    "        big_communities.append(numbers_set)"
   ],
   "id": "351ec2e9bbc0f02f",
   "outputs": [],
   "execution_count": 4
  },
  {
   "metadata": {
    "ExecuteTime": {
     "end_time": "2025-03-10T11:35:49.995383Z",
     "start_time": "2025-03-10T11:35:49.011103Z"
    }
   },
   "cell_type": "code",
   "source": [
    "with open(communitiy_embeddings_big_file) as cebf, open(communitiy_embeddings_small_file) as cesf:\n",
    "    community_embeddings_big = json.load(cebf)\n",
    "    community_embeddings_big = {k: list(v.values()) for k, v in community_embeddings_big.items()}\n",
    "    community_embeddings_small = json.load(cesf)\n",
    "    community_embeddings_small = {k: list(v.values()) for k, v in community_embeddings_small.items()}"
   ],
   "id": "7c8826d27dcbd9cb",
   "outputs": [],
   "execution_count": 5
  },
  {
   "metadata": {
    "ExecuteTime": {
     "end_time": "2025-03-10T11:36:05.045009Z",
     "start_time": "2025-03-10T11:35:51.043200Z"
    }
   },
   "cell_type": "code",
   "source": [
    "with open(node_embeddings_big_file) as nebf, open(node_embeddings_small_file) as nesf:\n",
    "    node_embeddings_big = json.load(nebf)\n",
    "    node_embeddings_small = json.load(nesf)"
   ],
   "id": "4791489b096f7c60",
   "outputs": [],
   "execution_count": 6
  },
  {
   "metadata": {
    "ExecuteTime": {
     "end_time": "2025-03-10T11:36:13.760414Z",
     "start_time": "2025-03-10T11:36:06.123329Z"
    }
   },
   "cell_type": "code",
   "source": [
    "big_torch_embeds = torch.Tensor(list(community_embeddings_big.values()))\n",
    "small_torch_embeds = torch.Tensor(list(community_embeddings_small.values()))\n",
    "big_torch_node_embeds = torch.Tensor(list(node_embeddings_big.values()))\n",
    "small_torch_node_embeds = torch.Tensor(list(node_embeddings_small.values()))\n",
    "\n",
    "pair_top_k = util.semantic_search(big_torch_node_embeds, small_torch_embeds, top_k=top_k)\n",
    "reverse_pair_top_k = util.semantic_search(small_torch_node_embeds, big_torch_embeds, top_k=top_k)"
   ],
   "id": "d5617196179cba6",
   "outputs": [],
   "execution_count": 7
  },
  {
   "metadata": {
    "ExecuteTime": {
     "end_time": "2025-03-10T11:36:14.751689Z",
     "start_time": "2025-03-10T11:36:14.739919Z"
    }
   },
   "cell_type": "code",
   "source": "pair_top_k[0]",
   "id": "c7be63caeab37178",
   "outputs": [
    {
     "data": {
      "text/plain": [
       "[{'corpus_id': 293, 'score': 0.7225422263145447},\n",
       " {'corpus_id': 507, 'score': 0.7115445733070374},\n",
       " {'corpus_id': 860, 'score': 0.7056660652160645},\n",
       " {'corpus_id': 82, 'score': 0.7054846286773682},\n",
       " {'corpus_id': 276, 'score': 0.7053211331367493},\n",
       " {'corpus_id': 452, 'score': 0.7018076777458191},\n",
       " {'corpus_id': 847, 'score': 0.7013729810714722},\n",
       " {'corpus_id': 870, 'score': 0.6981565952301025},\n",
       " {'corpus_id': 817, 'score': 0.6973156332969666},\n",
       " {'corpus_id': 1147, 'score': 0.6972415447235107}]"
      ]
     },
     "execution_count": 8,
     "metadata": {},
     "output_type": "execute_result"
    }
   ],
   "execution_count": 8
  },
  {
   "metadata": {
    "ExecuteTime": {
     "end_time": "2025-03-10T11:36:19.789782Z",
     "start_time": "2025-03-10T11:36:19.783536Z"
    }
   },
   "cell_type": "code",
   "source": "reverse_pair_top_k[0]",
   "id": "37aa92e0829989f1",
   "outputs": [
    {
     "data": {
      "text/plain": [
       "[{'corpus_id': 2158, 'score': 0.6724958419799805},\n",
       " {'corpus_id': 469, 'score': 0.6719353795051575},\n",
       " {'corpus_id': 97, 'score': 0.6714133024215698},\n",
       " {'corpus_id': 2292, 'score': 0.6701398491859436},\n",
       " {'corpus_id': 413, 'score': 0.6693156361579895},\n",
       " {'corpus_id': 1639, 'score': 0.6688380241394043},\n",
       " {'corpus_id': 319, 'score': 0.667682409286499},\n",
       " {'corpus_id': 1467, 'score': 0.6658586263656616},\n",
       " {'corpus_id': 85, 'score': 0.6651350855827332},\n",
       " {'corpus_id': 1535, 'score': 0.6643020510673523}]"
      ]
     },
     "execution_count": 9,
     "metadata": {},
     "output_type": "execute_result"
    }
   ],
   "execution_count": 9
  },
  {
   "metadata": {
    "ExecuteTime": {
     "end_time": "2025-03-10T11:36:48.096346Z",
     "start_time": "2025-03-10T11:36:38.828575Z"
    }
   },
   "cell_type": "code",
   "source": [
    "forward_dict = dict()\n",
    "backward_dict = dict()\n",
    "g1_keys = list(community_embeddings_big.keys())\n",
    "g2_keys = list(community_embeddings_small.keys())\n",
    "g1_node_keys = list(node_embeddings_big.keys())\n",
    "g2_node_keys = list(node_embeddings_small.keys())\n",
    "\n",
    "for a, b in zip(g1_node_keys, pair_top_k):\n",
    "    row_info = list()\n",
    "    for element in b:\n",
    "        row_info.append([g2_keys[element[\"corpus_id\"]], element[\"score\"]])\n",
    "    forward_dict[str(a)] = row_info\n",
    "\n",
    "for a, b in zip(g2_node_keys, reverse_pair_top_k):\n",
    "    row_info = list()\n",
    "    for element in b:\n",
    "        row_info.append([g1_keys[element[\"corpus_id\"]], element[\"score\"]])\n",
    "    backward_dict[str(a)] = row_info"
   ],
   "id": "d1f5643ac275909b",
   "outputs": [],
   "execution_count": 10
  },
  {
   "metadata": {
    "ExecuteTime": {
     "end_time": "2025-03-10T11:36:56.097397Z",
     "start_time": "2025-03-10T11:36:55.041623Z"
    }
   },
   "cell_type": "code",
   "source": [
    "with open(os.path.join(matched_communities_path, f\"{big}-{small}_top_{str(top_k)}_pairs.json\"), \"w\") as f:\n",
    "    json.dump(forward_dict, f)\n",
    "\n",
    "with open(os.path.join(matched_communities_path, f\"{small}-{big}_top_{str(top_k)}_pairs.json\"), \"w\") as f:\n",
    "    json.dump(backward_dict, f)"
   ],
   "id": "b868de543266ed32",
   "outputs": [],
   "execution_count": 11
  },
  {
   "metadata": {},
   "cell_type": "code",
   "source": "",
   "id": "c556018aab0fa318",
   "outputs": [],
   "execution_count": null
  }
 ],
 "metadata": {
  "kernelspec": {
   "display_name": "Python 3",
   "language": "python",
   "name": "python3"
  },
  "language_info": {
   "codemirror_mode": {
    "name": "ipython",
    "version": 2
   },
   "file_extension": ".py",
   "mimetype": "text/x-python",
   "name": "python",
   "nbconvert_exporter": "python",
   "pygments_lexer": "ipython2",
   "version": "2.7.6"
  }
 },
 "nbformat": 4,
 "nbformat_minor": 5
}
