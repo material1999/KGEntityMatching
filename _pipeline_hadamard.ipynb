{
 "cells": [
  {
   "cell_type": "code",
   "id": "initial_id",
   "metadata": {
    "collapsed": true,
    "ExecuteTime": {
     "end_time": "2025-05-26T07:22:03.760664Z",
     "start_time": "2025-05-26T07:22:00.618035Z"
    }
   },
   "source": [
    "import json\n",
    "import torch\n",
    "from sentence_transformers import util"
   ],
   "outputs": [],
   "execution_count": 1
  },
  {
   "metadata": {
    "ExecuteTime": {
     "end_time": "2025-05-26T07:22:03.767177Z",
     "start_time": "2025-05-26T07:22:03.764839Z"
    }
   },
   "cell_type": "code",
   "source": [
    "big = \"memoryalpha\"\n",
    "small = \"stexpanded\"\n",
    "\n",
    "embeddings = \"dogtag_bgelarge\"\n",
    "communities = \"leiden\""
   ],
   "id": "d87649d0a3987683",
   "outputs": [],
   "execution_count": 2
  },
  {
   "metadata": {
    "ExecuteTime": {
     "end_time": "2025-05-26T07:22:03.878619Z",
     "start_time": "2025-05-26T07:22:03.875771Z"
    }
   },
   "cell_type": "code",
   "source": [
    "mapping_file_big = \"./_input/mappings/\" + big + \".json\"\n",
    "mapping_file_small = \"./_input/mappings/\" + small + \".json\"\n",
    "\n",
    "node_embeddings_small_file = \"./_input/node_embeddings/\" + embeddings + \"/\" + small + \".json\"\n",
    "node_embeddings_big_file = \"./_input/node_embeddings/\" + embeddings + \"/\" + big + \".json\"\n",
    "\n",
    "hadamard_embeddings_small_file = \"./_input/hadamard_neig_embeddings/\" + communities + \"_\" + embeddings + \"/\" + small + \".json\"\n",
    "hadamard_embeddings_big_file = \"./_input/hadamard_neig_embeddings/\" + communities + \"_\" + embeddings + \"/\" + big + \".json\"\n",
    "\n",
    "exact_match_file = \"./_input/exact_match/\" + big + \"-\" + small + \".json\"\n",
    "gold_pairs_file = \"./_input/gold_pairs/\" + big + \"-\" + small + \".txt\""
   ],
   "id": "9b4a6dcbcf0757b2",
   "outputs": [],
   "execution_count": 3
  },
  {
   "metadata": {
    "ExecuteTime": {
     "end_time": "2025-05-26T07:22:41.995199Z",
     "start_time": "2025-05-26T07:22:03.889017Z"
    }
   },
   "cell_type": "code",
   "source": [
    "with open(gold_pairs_file) as gpf:\n",
    "    gold_pairs = []\n",
    "    for line in gpf:\n",
    "        numbers_list = [int(num) for num in line.strip().split(\";\")]\n",
    "        gold_pairs.append(numbers_list)\n",
    "\n",
    "with open(exact_match_file) as file:\n",
    "    exact_match = json.load(file)\n",
    "\n",
    "with open(node_embeddings_small_file) as nesf:\n",
    "    node_embeddings_small = json.load(nesf)\n",
    "\n",
    "with open(node_embeddings_big_file) as nebf:\n",
    "    node_embeddings_big = json.load(nebf)\n",
    "\n",
    "with open(hadamard_embeddings_small_file) as hesf:\n",
    "    hadamard_embeddings_small = json.load(hesf)\n",
    "\n",
    "with open(hadamard_embeddings_big_file) as hebf:\n",
    "    hadamard_embeddings_big = json.load(hebf)"
   ],
   "id": "60e1542a46daf650",
   "outputs": [],
   "execution_count": 4
  },
  {
   "metadata": {
    "ExecuteTime": {
     "end_time": "2025-05-26T07:22:42.148754Z",
     "start_time": "2025-05-26T07:22:42.106825Z"
    }
   },
   "cell_type": "code",
   "source": [
    "gold_exact = list()\n",
    "gold_not_exact = list()\n",
    "\n",
    "for p in gold_pairs:\n",
    "    if [p[0], p[1]] in exact_match:\n",
    "        gold_exact.append([p[0], p[1]])\n",
    "    else:\n",
    "        gold_not_exact.append([p[0], p[1]])"
   ],
   "id": "1bf3506ebe7eda",
   "outputs": [],
   "execution_count": 5
  },
  {
   "metadata": {
    "ExecuteTime": {
     "end_time": "2025-05-26T07:22:52.586447Z",
     "start_time": "2025-05-26T07:22:42.204007Z"
    }
   },
   "cell_type": "code",
   "source": [
    "small_torch_embeds = torch.Tensor(list(node_embeddings_small.values()))\n",
    "big_torch_embeds = torch.Tensor(list(node_embeddings_big.values()))\n",
    "order_node = util.semantic_search(small_torch_embeds, big_torch_embeds)"
   ],
   "id": "c7d55f14633aa60e",
   "outputs": [],
   "execution_count": 6
  },
  {
   "metadata": {
    "ExecuteTime": {
     "end_time": "2025-05-26T07:22:57.799771Z",
     "start_time": "2025-05-26T07:22:52.640989Z"
    }
   },
   "cell_type": "code",
   "source": [
    "top1dict_node = dict()\n",
    "for index, value in enumerate(order_node):\n",
    "    add_key = int(list(node_embeddings_small.keys())[index])\n",
    "    add_value = int(list(node_embeddings_big.keys())[order_node[index][0][\"corpus_id\"]])\n",
    "    top1dict_node[add_key] = add_value"
   ],
   "id": "e8067e320b316791",
   "outputs": [],
   "execution_count": 7
  },
  {
   "metadata": {
    "ExecuteTime": {
     "end_time": "2025-05-26T07:23:08.815516Z",
     "start_time": "2025-05-26T07:22:57.819728Z"
    }
   },
   "cell_type": "code",
   "source": [
    "small_torch_embeds = torch.Tensor(list(hadamard_embeddings_small.values()))\n",
    "big_torch_embeds = torch.Tensor(list(hadamard_embeddings_big.values()))\n",
    "order_hadamard = util.semantic_search(small_torch_embeds, big_torch_embeds)"
   ],
   "id": "9bd58c97a518bffb",
   "outputs": [],
   "execution_count": 8
  },
  {
   "metadata": {
    "ExecuteTime": {
     "end_time": "2025-05-26T07:23:14.696217Z",
     "start_time": "2025-05-26T07:23:08.828713Z"
    }
   },
   "cell_type": "code",
   "source": [
    "top1dict_hadamard = dict()\n",
    "for index, value in enumerate(order_hadamard):\n",
    "    add_key = int(list(hadamard_embeddings_small.keys())[index])\n",
    "    add_value = int(list(hadamard_embeddings_big.keys())[order_hadamard[index][0][\"corpus_id\"]])\n",
    "    top1dict_hadamard[add_key] = add_value"
   ],
   "id": "7a4a55bcf324b11b",
   "outputs": [],
   "execution_count": 9
  },
  {
   "metadata": {
    "ExecuteTime": {
     "end_time": "2025-05-26T07:23:14.741646Z",
     "start_time": "2025-05-26T07:23:14.730342Z"
    }
   },
   "cell_type": "code",
   "source": [
    "print(\"############### SETTINGS ################\")\n",
    "print(\"From:            \" + small)\n",
    "print(\"To:              \" + big)\n",
    "print(\"Embeddings:      \" + embeddings)\n",
    "print(\"Communities:     \" + communities)\n",
    "\n",
    "print(\"############ ALL GOLD PAIRS #############\")\n",
    "print(\"Count:           \" + str(len(gold_pairs)))\n",
    "\n",
    "found = 0\n",
    "all_pairs = len(gold_pairs)\n",
    "# for gold_pair in tqdm(gold_pairs):\n",
    "for gold_pair in gold_pairs:\n",
    "    if top1dict_node.get(gold_pair[1]) == gold_pair[0]:\n",
    "        found += 1\n",
    "print(\"Top 1:           \" + str(found) + \" (\" + f\"{found / all_pairs * 100:.5f}\" + \"%)\")\n",
    "\n",
    "found = 0\n",
    "all_pairs = len(gold_pairs)\n",
    "# for gold_pair in tqdm(gold_pairs):\n",
    "for gold_pair in gold_pairs:\n",
    "    if top1dict_hadamard.get(gold_pair[1]) == gold_pair[0]:\n",
    "        found += 1\n",
    "print(\"Hadamard:        \" + str(found) + \" (\" + f\"{found / all_pairs * 100:.5f}\" + \"%)\")\n",
    "\n",
    "print(\"############## EXACT MATCH ##############\")\n",
    "print(\"Count:           \" + str(len(gold_exact)))\n",
    "\n",
    "found = 0\n",
    "all_pairs = len(gold_exact)\n",
    "# for gold_pair in tqdm(gold_exact):\n",
    "for gold_pair in gold_exact:\n",
    "    if top1dict_node.get(gold_pair[1]) == gold_pair[0]:\n",
    "        found += 1\n",
    "print(\"Top 1:           \" + str(found) + \" (\" + f\"{found / all_pairs * 100:.5f}\" + \"%)\")\n",
    "\n",
    "found = 0\n",
    "all_pairs = len(gold_exact)\n",
    "# for gold_pair in tqdm(gold_exact):\n",
    "for gold_pair in gold_exact:\n",
    "    if top1dict_hadamard.get(gold_pair[1]) == gold_pair[0]:\n",
    "        found += 1\n",
    "print(\"Hadamard:        \" + str(found) + \" (\" + f\"{found / all_pairs * 100:.5f}\" + \"%)\")\n",
    "\n",
    "print(\"############ NOT EXACT MATCH ############\")\n",
    "print(\"Count:           \" + str(len(gold_not_exact)))\n",
    "\n",
    "found = 0\n",
    "all_pairs = len(gold_not_exact)\n",
    "# for gold_pair in tqdm(gold_not_exact):\n",
    "for gold_pair in gold_not_exact:\n",
    "    if top1dict_node.get(gold_pair[1]) == gold_pair[0]:\n",
    "        found += 1\n",
    "print(\"Top 1:           \" + str(found) + \" (\" + f\"{found / all_pairs * 100:.5f}\" + \"%)\")\n",
    "\n",
    "found = 0\n",
    "all_pairs = len(gold_not_exact)\n",
    "# for gold_pair in tqdm(gold_not_exact):\n",
    "for gold_pair in gold_not_exact:\n",
    "    if top1dict_hadamard.get(gold_pair[1]) == gold_pair[0]:\n",
    "        found += 1\n",
    "print(\"Hadamard:        \" + str(found) + \" (\" + f\"{found / all_pairs * 100:.5f}\" + \"%)\")"
   ],
   "id": "64fec82258ebe704",
   "outputs": [
    {
     "name": "stdout",
     "output_type": "stream",
     "text": [
      "############### SETTINGS ################\n",
      "From:            stexpanded\n",
      "To:              memoryalpha\n",
      "Embeddings:      dogtag_bgelarge\n",
      "Communities:     leiden\n",
      "############ ALL GOLD PAIRS #############\n",
      "Count:           1779\n",
      "Top 1:           1390 (78.13378%)\n",
      "Hadamard:        1390 (78.13378%)\n",
      "############## EXACT MATCH ##############\n",
      "Count:           1617\n",
      "Top 1:           1287 (79.59184%)\n",
      "Hadamard:        1282 (79.28262%)\n",
      "############ NOT EXACT MATCH ############\n",
      "Count:           162\n",
      "Top 1:           103 (63.58025%)\n",
      "Hadamard:        108 (66.66667%)\n"
     ]
    }
   ],
   "execution_count": 10
  },
  {
   "metadata": {
    "ExecuteTime": {
     "end_time": "2025-05-26T07:23:14.790091Z",
     "start_time": "2025-05-26T07:23:14.788498Z"
    }
   },
   "cell_type": "code",
   "source": "",
   "id": "8fb23fb451b66ef6",
   "outputs": [],
   "execution_count": null
  }
 ],
 "metadata": {
  "kernelspec": {
   "display_name": "Python 3",
   "language": "python",
   "name": "python3"
  },
  "language_info": {
   "codemirror_mode": {
    "name": "ipython",
    "version": 2
   },
   "file_extension": ".py",
   "mimetype": "text/x-python",
   "name": "python",
   "nbconvert_exporter": "python",
   "pygments_lexer": "ipython2",
   "version": "2.7.6"
  }
 },
 "nbformat": 4,
 "nbformat_minor": 5
}
