{
 "cells": [
  {
   "metadata": {
    "ExecuteTime": {
     "end_time": "2025-03-15T14:16:56.382678Z",
     "start_time": "2025-03-15T14:16:56.372626Z"
    }
   },
   "cell_type": "code",
   "source": [
    "import json\n",
    "from tqdm import tqdm"
   ],
   "id": "9de0d155d2dd41c1",
   "outputs": [],
   "execution_count": 1
  },
  {
   "cell_type": "code",
   "id": "initial_id",
   "metadata": {
    "collapsed": true,
    "ExecuteTime": {
     "end_time": "2025-03-15T14:16:56.413521Z",
     "start_time": "2025-03-15T14:16:56.410114Z"
    }
   },
   "source": [
    "big = \"memoryalpha\"\n",
    "small = \"stexpanded\"\n",
    "top_k = 10\n",
    "\n",
    "gold_pairs_file = \"./data/gold_pairs/\" + big + \"-\" + small + \"_formatted.txt\"\n",
    "matched_communities_file = \"./results/matched_nodes_communities_leiden/top_10_pairs/\" + big + \"-\" + small + \"_top_10_pairs.json\"\n",
    "\n",
    "communities_small_file = \"./results/communities_leiden/\" + small + \"/final.txt\"\n",
    "\n",
    "small_communities = []\n",
    "gold_pairs = []\n",
    "matched_communities = []"
   ],
   "outputs": [],
   "execution_count": 2
  },
  {
   "metadata": {
    "ExecuteTime": {
     "end_time": "2025-03-15T14:16:57.148398Z",
     "start_time": "2025-03-15T14:16:56.522406Z"
    }
   },
   "cell_type": "code",
   "source": [
    "with open(communities_small_file) as csf, open(gold_pairs_file) as gpf, open(matched_communities_file) as mcf:\n",
    "    \n",
    "    for line in csf:\n",
    "        numbers_set = {int(num) for num in line.strip().split(\" \")}\n",
    "        small_communities.append(numbers_set)\n",
    "    \n",
    "    for line in gpf:\n",
    "        numbers_list = [int(num) for num in line.strip().split(\";\")]\n",
    "        gold_pairs.append(numbers_list)\n",
    "\n",
    "    matched_communities_load = json.load(mcf)\n",
    "    matched_communities = [[int(key), [int(values[i][0]) for i in range(0, top_k)]] for key, values in matched_communities_load.items()]"
   ],
   "id": "b73e9d65362a03b5",
   "outputs": [],
   "execution_count": 3
  },
  {
   "metadata": {
    "ExecuteTime": {
     "end_time": "2025-03-15T14:36:10.423726Z",
     "start_time": "2025-03-15T14:16:57.162996Z"
    }
   },
   "cell_type": "code",
   "source": [
    "found = 0\n",
    "all_pairs = len(gold_pairs)\n",
    "\n",
    "for gold_pair in tqdm(gold_pairs):\n",
    "    for matched_community in matched_communities:\n",
    "        node = matched_community[0]\n",
    "        community = set()\n",
    "        for i in range(0, top_k):\n",
    "            community.update(small_communities[matched_community[1][i]])\n",
    "        if gold_pair[0] == node and gold_pair[1] in community:\n",
    "            found += 1\n",
    "            # print(matched_community[0], matched_community[1], gold_pair)\n",
    "            break\n",
    "            \n",
    "print(\"Gold pairs in matched communities top \" + str(top_k) + \": \" + str(found / all_pairs * 100) + \"%\")"
   ],
   "id": "d459c28adfd0baf2",
   "outputs": [
    {
     "name": "stderr",
     "output_type": "stream",
     "text": [
      "100%|██████████| 1779/1779 [19:13<00:00,  1.54it/s]"
     ]
    },
    {
     "name": "stdout",
     "output_type": "stream",
     "text": [
      "Gold pairs in matched communities top 10: 56.7734682405846%\n"
     ]
    },
    {
     "name": "stderr",
     "output_type": "stream",
     "text": [
      "\n"
     ]
    }
   ],
   "execution_count": 4
  },
  {
   "metadata": {
    "ExecuteTime": {
     "end_time": "2025-03-15T14:36:10.615637Z",
     "start_time": "2025-03-15T14:36:10.520460Z"
    }
   },
   "cell_type": "code",
   "source": [
    "found_small = 0\n",
    "for gold_pair in gold_pairs:\n",
    "    for small_community in small_communities:\n",
    "        if gold_pair[1] in small_community:\n",
    "            found_small += 1\n",
    "            break\n",
    "\n",
    "print(\"Small: \" + str(found_small / all_pairs * 100) + \"%\")"
   ],
   "id": "af723e7006d17110",
   "outputs": [
    {
     "name": "stdout",
     "output_type": "stream",
     "text": [
      "Small: 100.0%\n"
     ]
    }
   ],
   "execution_count": 5
  },
  {
   "metadata": {
    "ExecuteTime": {
     "end_time": "2025-03-15T14:36:10.640438Z",
     "start_time": "2025-03-15T14:36:10.638231Z"
    }
   },
   "cell_type": "code",
   "source": "",
   "id": "3028060c5b5b736",
   "outputs": [],
   "execution_count": null
  }
 ],
 "metadata": {
  "kernelspec": {
   "display_name": "Python 3",
   "language": "python",
   "name": "python3"
  },
  "language_info": {
   "codemirror_mode": {
    "name": "ipython",
    "version": 2
   },
   "file_extension": ".py",
   "mimetype": "text/x-python",
   "name": "python",
   "nbconvert_exporter": "python",
   "pygments_lexer": "ipython2",
   "version": "2.7.6"
  }
 },
 "nbformat": 4,
 "nbformat_minor": 5
}
