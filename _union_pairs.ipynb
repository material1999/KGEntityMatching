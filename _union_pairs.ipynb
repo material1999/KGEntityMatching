{
 "cells": [
  {
   "cell_type": "code",
   "id": "initial_id",
   "metadata": {
    "collapsed": true,
    "ExecuteTime": {
     "end_time": "2025-09-03T14:10:44.081936Z",
     "start_time": "2025-09-03T14:10:44.069687Z"
    }
   },
   "source": [
    "import json\n",
    "import statistics"
   ],
   "outputs": [],
   "execution_count": 1
  },
  {
   "metadata": {
    "ExecuteTime": {
     "end_time": "2025-09-03T14:10:44.090019Z",
     "start_time": "2025-09-03T14:10:44.087414Z"
    }
   },
   "cell_type": "code",
   "source": [
    "graph_pairs = [\n",
    "    [\"mcu\", \"marvel\"],\n",
    "    [\"memoryalpha\", \"memorybeta\"],\n",
    "    [\"stexpanded\", \"memoryalpha\"],\n",
    "    [\"swg\", \"starwars\"],\n",
    "    [\"swtor\", \"starwars\"]\n",
    "]"
   ],
   "id": "187f0d401980c7c6",
   "outputs": [],
   "execution_count": 2
  },
  {
   "metadata": {
    "ExecuteTime": {
     "end_time": "2025-09-03T14:10:44.098149Z",
     "start_time": "2025-09-03T14:10:44.095144Z"
    }
   },
   "cell_type": "code",
   "source": [
    "def union_em_found(exact_match, found_pairs):\n",
    "\n",
    "    exact_match_left = {em[0] for em in exact_match}\n",
    "    output = list()\n",
    "\n",
    "    for em in exact_match:\n",
    "        output.append(em)\n",
    "\n",
    "    for pair in found_pairs:\n",
    "        if pair[0] not in exact_match_left:\n",
    "            output.append(pair)\n",
    "\n",
    "    return output"
   ],
   "id": "94333edd1f053d03",
   "outputs": [],
   "execution_count": 3
  },
  {
   "metadata": {
    "ExecuteTime": {
     "end_time": "2025-09-03T14:10:44.108369Z",
     "start_time": "2025-09-03T14:10:44.104401Z"
    }
   },
   "cell_type": "code",
   "source": [
    "def union_em_found_mean(exact_match, found_pairs):\n",
    "\n",
    "    exact_match_left = {em[0] for em in exact_match}\n",
    "    found_pairs_nodes = [[item[0], item[1]] for item in found_pairs]\n",
    "\n",
    "    output = list()\n",
    "    scores_list = []\n",
    "\n",
    "    for em in exact_match:\n",
    "        output.append(em)\n",
    "        if em in found_pairs_nodes:\n",
    "            for pair in found_pairs:\n",
    "                if pair[0] == em[0] and pair[1] == em[1]:\n",
    "                    scores_list.append(float(pair[2]))\n",
    "\n",
    "    threshold_val = statistics.mean(scores_list)\n",
    "    print(len(scores_list), \"/\", len(exact_match), \"exact match found --> mean score:\", threshold_val)\n",
    "\n",
    "    for pair in found_pairs:\n",
    "        if pair[0] not in exact_match_left and pair[2] >= threshold_val:\n",
    "            output.append(pair)\n",
    "\n",
    "    return output"
   ],
   "id": "ffce8b5230a0bddd",
   "outputs": [],
   "execution_count": 4
  },
  {
   "metadata": {
    "ExecuteTime": {
     "end_time": "2025-09-03T14:10:44.115327Z",
     "start_time": "2025-09-03T14:10:44.111990Z"
    }
   },
   "cell_type": "code",
   "source": [
    "def union_em_found_median(exact_match, found_pairs):\n",
    "\n",
    "    exact_match_left = {em[0] for em in exact_match}\n",
    "    found_pairs_nodes = [[item[0], item[1]] for item in found_pairs]\n",
    "\n",
    "    output = list()\n",
    "    scores_list = []\n",
    "\n",
    "    for em in exact_match:\n",
    "        output.append(em)\n",
    "        if em in found_pairs_nodes:\n",
    "            for pair in found_pairs:\n",
    "                if pair[0] == em[0] and pair[1] == em[1]:\n",
    "                    scores_list.append(float(pair[2]))\n",
    "\n",
    "    threshold_val = statistics.median(scores_list)\n",
    "    print(len(scores_list), \"/\", len(exact_match), \"exact match found --> median score:\", threshold_val)\n",
    "\n",
    "    for pair in found_pairs:\n",
    "        if pair[0] not in exact_match_left and pair[2] >= threshold_val:\n",
    "            output.append(pair)\n",
    "\n",
    "    return output"
   ],
   "id": "75c70ca414e4f253",
   "outputs": [],
   "execution_count": 5
  },
  {
   "metadata": {
    "ExecuteTime": {
     "end_time": "2025-09-03T14:10:50.944825Z",
     "start_time": "2025-09-03T14:10:44.119987Z"
    }
   },
   "cell_type": "code",
   "source": [
    "for graph_pair in graph_pairs:\n",
    "\n",
    "    small = graph_pair[0]\n",
    "    big = graph_pair[1]\n",
    "\n",
    "    exact_match_file = \"./_input/exactmatch_deduplicated/\" + small + \"-\" + big + \".json\"\n",
    "    found_pairs_file = \"./_input/dogtag_long_top100_rerank_deduplicated/\" + small + \"-\" + big + \".json\"\n",
    "    output_file = \"./_input/union_em_found/\" + small + \"-\" + big + \".json\"\n",
    "\n",
    "    with open(exact_match_file) as file:\n",
    "        exact_match = json.load(file)\n",
    "\n",
    "    with open(found_pairs_file) as fpf:\n",
    "        found_pairs = json.load(fpf)\n",
    "\n",
    "    # output = union_em_found(exact_match, found_pairs)\n",
    "    # output = union_em_found_mean(exact_match, found_pairs)\n",
    "    output = union_em_found_median(exact_match, found_pairs)\n",
    "\n",
    "    with open(output_file, \"w\") as f:\n",
    "        json.dump(output, f, indent=4)"
   ],
   "id": "43c564a709a3b745",
   "outputs": [
    {
     "name": "stdout",
     "output_type": "stream",
     "text": [
      "988 / 2659 exact match found --> median score: 1.6767477989196777\n",
      "6490 / 12903 exact match found --> median score: 4.146269083023071\n",
      "1639 / 3194 exact match found --> median score: 4.332679271697998\n",
      "645 / 1687 exact match found --> median score: 2.1366326808929443\n",
      "1664 / 2746 exact match found --> median score: 4.4732160568237305\n"
     ]
    }
   ],
   "execution_count": 6
  },
  {
   "metadata": {
    "ExecuteTime": {
     "end_time": "2025-09-03T14:10:51.000206Z",
     "start_time": "2025-09-03T14:10:50.997524Z"
    }
   },
   "cell_type": "code",
   "source": "",
   "id": "834c55973a79aa3c",
   "outputs": [],
   "execution_count": null
  }
 ],
 "metadata": {
  "kernelspec": {
   "display_name": "Python 3",
   "language": "python",
   "name": "python3"
  },
  "language_info": {
   "codemirror_mode": {
    "name": "ipython",
    "version": 2
   },
   "file_extension": ".py",
   "mimetype": "text/x-python",
   "name": "python",
   "nbconvert_exporter": "python",
   "pygments_lexer": "ipython2",
   "version": "2.7.6"
  }
 },
 "nbformat": 4,
 "nbformat_minor": 5
}
