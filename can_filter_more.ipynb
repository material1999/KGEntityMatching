{
 "cells": [
  {
   "metadata": {
    "ExecuteTime": {
     "end_time": "2025-07-01T21:43:07.732368Z",
     "start_time": "2025-07-01T21:43:07.727224Z"
    }
   },
   "cell_type": "code",
   "source": "import json",
   "id": "2e9cf1e86176cc6b",
   "outputs": [],
   "execution_count": 1
  },
  {
   "cell_type": "code",
   "id": "initial_id",
   "metadata": {
    "collapsed": true,
    "ExecuteTime": {
     "end_time": "2025-07-01T21:51:07.032164Z",
     "start_time": "2025-07-01T21:51:07.013197Z"
    }
   },
   "source": [
    "small = \"swg\"\n",
    "big = \"starwars\"\n",
    "\n",
    "mappings_file_small = \"./_input/mappings/\" + small + \".json\"\n",
    "mappings_file_big = \"./_input/mappings/\" + big + \".json\"\n",
    "\n",
    "dogtags_file_small = \"./_input/dogtags/\" + small + \".json\"\n",
    "dogtags_file_big = \"./_input/dogtags/\" + big + \".json\"\n",
    "\n",
    "gold_pairs_file = \"./_input/gold_pairs/\" + big + \"-\" + small + \".txt\""
   ],
   "outputs": [],
   "execution_count": 28
  },
  {
   "metadata": {
    "ExecuteTime": {
     "end_time": "2025-07-01T21:51:09.722259Z",
     "start_time": "2025-07-01T21:51:07.896280Z"
    }
   },
   "cell_type": "code",
   "source": [
    "with open(mappings_file_small) as file:\n",
    "    mappings_small = json.load(file)\n",
    "    mappings_small_reversed = {str(v): k for k, v in mappings_small.items()}\n",
    "\n",
    "with open(mappings_file_big) as file:\n",
    "    mappings_big = json.load(file)\n",
    "    mappings_big_reversed = {str(v): k for k, v in mappings_big.items()}\n",
    "\n",
    "with open(dogtags_file_small) as file:\n",
    "    dogtags_small = json.load(file)\n",
    "\n",
    "with open(dogtags_file_big) as file:\n",
    "    dogtags_big = json.load(file)\n",
    "\n",
    "with open(gold_pairs_file) as gpf:\n",
    "    gold_pairs = []\n",
    "    for line in gpf:\n",
    "        numbers_list = [int(num) for num in line.strip().split(\";\")]\n",
    "        gold_pairs.append(numbers_list)"
   ],
   "id": "da9fe260fe06d61f",
   "outputs": [],
   "execution_count": 29
  },
  {
   "metadata": {
    "ExecuteTime": {
     "end_time": "2025-07-01T21:51:10.403821Z",
     "start_time": "2025-07-01T21:51:10.398532Z"
    }
   },
   "cell_type": "code",
   "source": [
    "count_big = 0\n",
    "count_small = 0\n",
    "for item in gold_pairs:\n",
    "    str_big = mappings_big_reversed[str(item[0])]\n",
    "    str_small = mappings_small_reversed[str(item[1])]\n",
    "    if str_big in dogtags_big:\n",
    "        count_big += 1\n",
    "    if str_small in dogtags_small:\n",
    "        count_small += 1\n",
    "    # print(str_big, \"-\", str_big in dogtags_big)\n",
    "    # print(str_small, \"-\", str_small in dogtags_small)\n",
    "\n",
    "print(\"big:\", count_big, \"/\", len(gold_pairs))\n",
    "print(\"small:\", count_small, \"/\", len(gold_pairs))"
   ],
   "id": "7ceb8f9a96b435bf",
   "outputs": [
    {
     "name": "stdout",
     "output_type": "stream",
     "text": [
      "big: 1121 / 1121\n",
      "small: 1121 / 1121\n"
     ]
    }
   ],
   "execution_count": 30
  },
  {
   "metadata": {},
   "cell_type": "code",
   "outputs": [],
   "execution_count": null,
   "source": "",
   "id": "db85064425cdf783"
  }
 ],
 "metadata": {
  "kernelspec": {
   "display_name": "Python 3",
   "language": "python",
   "name": "python3"
  },
  "language_info": {
   "codemirror_mode": {
    "name": "ipython",
    "version": 2
   },
   "file_extension": ".py",
   "mimetype": "text/x-python",
   "name": "python",
   "nbconvert_exporter": "python",
   "pygments_lexer": "ipython2",
   "version": "2.7.6"
  }
 },
 "nbformat": 4,
 "nbformat_minor": 5
}
