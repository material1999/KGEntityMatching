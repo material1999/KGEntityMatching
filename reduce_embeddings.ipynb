{
 "cells": [
  {
   "cell_type": "code",
   "id": "initial_id",
   "metadata": {
    "collapsed": true,
    "ExecuteTime": {
     "end_time": "2024-11-03T21:39:48.643482Z",
     "start_time": "2024-11-03T21:39:48.635321Z"
    }
   },
   "source": "import pandas as pd",
   "outputs": [],
   "execution_count": 7
  },
  {
   "metadata": {
    "ExecuteTime": {
     "end_time": "2024-11-03T21:39:49.106651Z",
     "start_time": "2024-11-03T21:39:49.102981Z"
    }
   },
   "cell_type": "code",
   "source": [
    "path = \"results/embeddings/stexpanded_lab_altlab_type_abs_comment_BAAI_bge-large-en-v1.5.json\"\n",
    "keep_dimensions = 10"
   ],
   "id": "56384dfd41c4a84e",
   "outputs": [],
   "execution_count": 8
  },
  {
   "metadata": {
    "ExecuteTime": {
     "end_time": "2024-11-03T21:39:52.932019Z",
     "start_time": "2024-11-03T21:39:49.607012Z"
    }
   },
   "cell_type": "code",
   "source": "df = pd.read_json(path)",
   "id": "e73539a12d8a496f",
   "outputs": [],
   "execution_count": 9
  },
  {
   "metadata": {
    "ExecuteTime": {
     "end_time": "2024-11-03T21:39:53.615727Z",
     "start_time": "2024-11-03T21:39:53.607908Z"
    }
   },
   "cell_type": "code",
   "source": "df.iloc[:, :5]",
   "id": "9372518a96f3c91b",
   "outputs": [
    {
     "data": {
      "text/plain": [
       "             0         2         6         8         9\n",
       "0     0.032848 -0.018349  0.021354 -0.008521  0.036227\n",
       "1    -0.064748 -0.024229  0.025183  0.000420  0.017489\n",
       "2     0.030845 -0.063716 -0.004776 -0.020345 -0.006952\n",
       "3     0.027461  0.015355  0.035773  0.023471 -0.022873\n",
       "4     0.002914 -0.048345 -0.027300 -0.013444 -0.029047\n",
       "...        ...       ...       ...       ...       ...\n",
       "1019 -0.029383  0.020338  0.028457 -0.002378  0.016644\n",
       "1020  0.041667 -0.008677  0.085684  0.045731  0.050162\n",
       "1021  0.023747  0.016864  0.014370  0.002556  0.017962\n",
       "1022 -0.008002 -0.011206  0.001986  0.022744 -0.011384\n",
       "1023 -0.054726 -0.045230 -0.030163 -0.035521 -0.024669\n",
       "\n",
       "[1024 rows x 5 columns]"
      ],
      "text/html": [
       "<div>\n",
       "<style scoped>\n",
       "    .dataframe tbody tr th:only-of-type {\n",
       "        vertical-align: middle;\n",
       "    }\n",
       "\n",
       "    .dataframe tbody tr th {\n",
       "        vertical-align: top;\n",
       "    }\n",
       "\n",
       "    .dataframe thead th {\n",
       "        text-align: right;\n",
       "    }\n",
       "</style>\n",
       "<table border=\"1\" class=\"dataframe\">\n",
       "  <thead>\n",
       "    <tr style=\"text-align: right;\">\n",
       "      <th></th>\n",
       "      <th>0</th>\n",
       "      <th>2</th>\n",
       "      <th>6</th>\n",
       "      <th>8</th>\n",
       "      <th>9</th>\n",
       "    </tr>\n",
       "  </thead>\n",
       "  <tbody>\n",
       "    <tr>\n",
       "      <th>0</th>\n",
       "      <td>0.032848</td>\n",
       "      <td>-0.018349</td>\n",
       "      <td>0.021354</td>\n",
       "      <td>-0.008521</td>\n",
       "      <td>0.036227</td>\n",
       "    </tr>\n",
       "    <tr>\n",
       "      <th>1</th>\n",
       "      <td>-0.064748</td>\n",
       "      <td>-0.024229</td>\n",
       "      <td>0.025183</td>\n",
       "      <td>0.000420</td>\n",
       "      <td>0.017489</td>\n",
       "    </tr>\n",
       "    <tr>\n",
       "      <th>2</th>\n",
       "      <td>0.030845</td>\n",
       "      <td>-0.063716</td>\n",
       "      <td>-0.004776</td>\n",
       "      <td>-0.020345</td>\n",
       "      <td>-0.006952</td>\n",
       "    </tr>\n",
       "    <tr>\n",
       "      <th>3</th>\n",
       "      <td>0.027461</td>\n",
       "      <td>0.015355</td>\n",
       "      <td>0.035773</td>\n",
       "      <td>0.023471</td>\n",
       "      <td>-0.022873</td>\n",
       "    </tr>\n",
       "    <tr>\n",
       "      <th>4</th>\n",
       "      <td>0.002914</td>\n",
       "      <td>-0.048345</td>\n",
       "      <td>-0.027300</td>\n",
       "      <td>-0.013444</td>\n",
       "      <td>-0.029047</td>\n",
       "    </tr>\n",
       "    <tr>\n",
       "      <th>...</th>\n",
       "      <td>...</td>\n",
       "      <td>...</td>\n",
       "      <td>...</td>\n",
       "      <td>...</td>\n",
       "      <td>...</td>\n",
       "    </tr>\n",
       "    <tr>\n",
       "      <th>1019</th>\n",
       "      <td>-0.029383</td>\n",
       "      <td>0.020338</td>\n",
       "      <td>0.028457</td>\n",
       "      <td>-0.002378</td>\n",
       "      <td>0.016644</td>\n",
       "    </tr>\n",
       "    <tr>\n",
       "      <th>1020</th>\n",
       "      <td>0.041667</td>\n",
       "      <td>-0.008677</td>\n",
       "      <td>0.085684</td>\n",
       "      <td>0.045731</td>\n",
       "      <td>0.050162</td>\n",
       "    </tr>\n",
       "    <tr>\n",
       "      <th>1021</th>\n",
       "      <td>0.023747</td>\n",
       "      <td>0.016864</td>\n",
       "      <td>0.014370</td>\n",
       "      <td>0.002556</td>\n",
       "      <td>0.017962</td>\n",
       "    </tr>\n",
       "    <tr>\n",
       "      <th>1022</th>\n",
       "      <td>-0.008002</td>\n",
       "      <td>-0.011206</td>\n",
       "      <td>0.001986</td>\n",
       "      <td>0.022744</td>\n",
       "      <td>-0.011384</td>\n",
       "    </tr>\n",
       "    <tr>\n",
       "      <th>1023</th>\n",
       "      <td>-0.054726</td>\n",
       "      <td>-0.045230</td>\n",
       "      <td>-0.030163</td>\n",
       "      <td>-0.035521</td>\n",
       "      <td>-0.024669</td>\n",
       "    </tr>\n",
       "  </tbody>\n",
       "</table>\n",
       "<p>1024 rows × 5 columns</p>\n",
       "</div>"
      ]
     },
     "execution_count": 10,
     "metadata": {},
     "output_type": "execute_result"
    }
   ],
   "execution_count": 10
  },
  {
   "metadata": {
    "ExecuteTime": {
     "end_time": "2024-11-03T21:39:54.954585Z",
     "start_time": "2024-11-03T21:39:54.710226Z"
    }
   },
   "cell_type": "code",
   "source": [
    "row_std = df.std(axis=1)\n",
    "biggest_std = row_std.nlargest(keep_dimensions)\n",
    "biggest_std_indexes = row_std.nlargest(keep_dimensions).index"
   ],
   "id": "68fb3d03c16693a4",
   "outputs": [],
   "execution_count": 11
  },
  {
   "metadata": {
    "ExecuteTime": {
     "end_time": "2024-11-03T21:39:55.784182Z",
     "start_time": "2024-11-03T21:39:55.778177Z"
    }
   },
   "cell_type": "code",
   "source": "biggest_std_df = df.loc[biggest_std_indexes]",
   "id": "3a8ee2bc82f309f",
   "outputs": [],
   "execution_count": 12
  },
  {
   "metadata": {},
   "cell_type": "code",
   "source": "",
   "id": "6e4dc1e7076f2cef",
   "outputs": [],
   "execution_count": null
  }
 ],
 "metadata": {
  "kernelspec": {
   "display_name": "Python 3",
   "language": "python",
   "name": "python3"
  },
  "language_info": {
   "codemirror_mode": {
    "name": "ipython",
    "version": 2
   },
   "file_extension": ".py",
   "mimetype": "text/x-python",
   "name": "python",
   "nbconvert_exporter": "python",
   "pygments_lexer": "ipython2",
   "version": "2.7.6"
  }
 },
 "nbformat": 4,
 "nbformat_minor": 5
}
