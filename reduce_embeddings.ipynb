{
 "cells": [
  {
   "cell_type": "code",
   "id": "initial_id",
   "metadata": {
    "collapsed": true,
    "ExecuteTime": {
     "end_time": "2024-11-08T10:13:27.037568Z",
     "start_time": "2024-11-08T10:13:26.707946Z"
    }
   },
   "source": [
    "import pandas as pd\n",
    "import json"
   ],
   "outputs": [],
   "execution_count": 1
  },
  {
   "metadata": {
    "ExecuteTime": {
     "end_time": "2024-11-08T10:16:32.254757Z",
     "start_time": "2024-11-08T10:16:32.250810Z"
    }
   },
   "cell_type": "code",
   "source": [
    "graph = \"swtor\"\n",
    "embedding_path = \"results/embeddings/\" + graph + \"_lab_altlab_type_abs_comment_BAAI_bge-large-en-v1.5.json\"\n",
    "community_vector_path = \"results/community_vectors/\" + graph + \"_v2.csv\"\n",
    "keep_dimensions = 25"
   ],
   "id": "56384dfd41c4a84e",
   "outputs": [],
   "execution_count": 80
  },
  {
   "metadata": {
    "ExecuteTime": {
     "end_time": "2024-11-08T10:16:34.087616Z",
     "start_time": "2024-11-08T10:16:32.812337Z"
    }
   },
   "cell_type": "code",
   "source": [
    "df = pd.read_json(embedding_path)\n",
    "df_T = df.T"
   ],
   "id": "e73539a12d8a496f",
   "outputs": [],
   "execution_count": 81
  },
  {
   "metadata": {
    "ExecuteTime": {
     "end_time": "2024-11-08T10:16:34.662915Z",
     "start_time": "2024-11-08T10:16:34.581665Z"
    }
   },
   "cell_type": "code",
   "source": [
    "row_std = df.std(axis=1)\n",
    "biggest_std = row_std.nlargest(keep_dimensions)\n",
    "biggest_std_indexes = row_std.nlargest(keep_dimensions).index"
   ],
   "id": "68fb3d03c16693a4",
   "outputs": [],
   "execution_count": 82
  },
  {
   "metadata": {
    "ExecuteTime": {
     "end_time": "2024-11-08T10:16:35.154331Z",
     "start_time": "2024-11-08T10:16:35.151349Z"
    }
   },
   "cell_type": "code",
   "source": "biggest_std_df = df.loc[biggest_std_indexes]",
   "id": "3a8ee2bc82f309f",
   "outputs": [],
   "execution_count": 83
  },
  {
   "metadata": {
    "ExecuteTime": {
     "end_time": "2024-11-08T10:16:35.766922Z",
     "start_time": "2024-11-08T10:16:35.756104Z"
    }
   },
   "cell_type": "code",
   "source": "community_vector = pd.read_csv(community_vector_path, sep=';')",
   "id": "6e4dc1e7076f2cef",
   "outputs": [],
   "execution_count": 84
  },
  {
   "metadata": {
    "ExecuteTime": {
     "end_time": "2024-11-08T10:16:36.366546Z",
     "start_time": "2024-11-08T10:16:36.361356Z"
    }
   },
   "cell_type": "code",
   "source": [
    "community_vector.loc[:, community_vector.columns != 'id'] = 2 * community_vector.loc[:, community_vector.columns != 'id'] - 1\n",
    "community_vector.fillna(0, inplace=True)"
   ],
   "id": "fc2227a0070f1246",
   "outputs": [],
   "execution_count": 85
  },
  {
   "metadata": {
    "ExecuteTime": {
     "end_time": "2024-11-08T10:16:37.083365Z",
     "start_time": "2024-11-08T10:16:36.912357Z"
    }
   },
   "cell_type": "code",
   "source": [
    "merged_df = biggest_std_df.T\n",
    "result_dict = {str(index): row.tolist() for index, row in merged_df.iterrows()}\n",
    "with open(\"results/modified_embeddings/\" + graph + \"_\" + str(keep_dimensions) + \".json\", 'w') as json_file:\n",
    "    json.dump(result_dict, json_file, indent=4)"
   ],
   "id": "4cc06734f7e6558d",
   "outputs": [],
   "execution_count": 86
  },
  {
   "metadata": {
    "ExecuteTime": {
     "end_time": "2024-11-08T10:16:37.541444Z",
     "start_time": "2024-11-08T10:16:37.535673Z"
    }
   },
   "cell_type": "code",
   "source": [
    "embedding_df = biggest_std_df.T\n",
    "merged_df = embedding_df.merge(community_vector.set_index(\"id\"), left_index=True, right_index=True)"
   ],
   "id": "31a8739587be0943",
   "outputs": [],
   "execution_count": 87
  },
  {
   "metadata": {
    "ExecuteTime": {
     "end_time": "2024-11-08T10:16:38.454145Z",
     "start_time": "2024-11-08T10:16:38.276439Z"
    }
   },
   "cell_type": "code",
   "source": [
    "result_dict = {str(index): row.tolist() for index, row in merged_df.iterrows()}\n",
    "with open(\"results/modified_embeddings/\" + graph + \"_\" + str(keep_dimensions) + \"_plus.json\", 'w') as json_file:\n",
    "    json.dump(result_dict, json_file, indent=4)"
   ],
   "id": "3c24bd9a9e3b053e",
   "outputs": [],
   "execution_count": 88
  },
  {
   "metadata": {
    "ExecuteTime": {
     "end_time": "2024-11-08T10:16:08.091190Z",
     "start_time": "2024-11-08T10:16:08.053355Z"
    }
   },
   "cell_type": "code",
   "source": [
    "embedding_df = df_T\n",
    "merged_df = embedding_df.merge(community_vector.set_index(\"id\"), left_index=True, right_index=True)"
   ],
   "id": "ce5d3e30ea615754",
   "outputs": [],
   "execution_count": 69
  },
  {
   "metadata": {
    "ExecuteTime": {
     "end_time": "2024-11-08T10:16:11.852046Z",
     "start_time": "2024-11-08T10:16:08.699544Z"
    }
   },
   "cell_type": "code",
   "source": [
    "result_dict = {str(index): row.tolist() for index, row in merged_df.iterrows()}\n",
    "with open(\"results/modified_embeddings/\" + graph + \"_plus.json\", 'w') as json_file:\n",
    "    json.dump(result_dict, json_file, indent=4)"
   ],
   "id": "9f2c3d2da4dcb2fc",
   "outputs": [],
   "execution_count": 70
  },
  {
   "metadata": {},
   "cell_type": "code",
   "source": "",
   "id": "4fcf9fd411aaf976",
   "outputs": [],
   "execution_count": null
  }
 ],
 "metadata": {
  "kernelspec": {
   "display_name": "Python 3",
   "language": "python",
   "name": "python3"
  },
  "language_info": {
   "codemirror_mode": {
    "name": "ipython",
    "version": 2
   },
   "file_extension": ".py",
   "mimetype": "text/x-python",
   "name": "python",
   "nbconvert_exporter": "python",
   "pygments_lexer": "ipython2",
   "version": "2.7.6"
  }
 },
 "nbformat": 4,
 "nbformat_minor": 5
}
