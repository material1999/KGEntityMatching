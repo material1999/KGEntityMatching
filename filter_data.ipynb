{
 "cells": [
  {
   "cell_type": "code",
   "id": "initial_id",
   "metadata": {
    "collapsed": true,
    "ExecuteTime": {
     "end_time": "2024-09-09T13:24:47.337290Z",
     "start_time": "2024-09-09T13:24:47.325902Z"
    }
   },
   "source": [
    "import json\n",
    "import os"
   ],
   "outputs": [],
   "execution_count": 7
  },
  {
   "metadata": {
    "ExecuteTime": {
     "end_time": "2024-09-09T13:24:47.343296Z",
     "start_time": "2024-09-09T13:24:47.339844Z"
    }
   },
   "cell_type": "code",
   "source": [
    "triples_path = \"/Users/matevass/Documents/Projects/KGEntityMatching/data/triples_v2/\"\n",
    "mappings_path = \"/Users/matevass/Documents/Projects/KGEntityMatching/data/triples_v2/\"\n",
    "filtered_triples_path = \"/Users/matevass/Documents/Projects/KGEntityMatching/data/filtered_triples/\""
   ],
   "id": "528b955391bd2449",
   "outputs": [],
   "execution_count": 8
  },
  {
   "metadata": {
    "ExecuteTime": {
     "end_time": "2024-09-09T13:24:47.349446Z",
     "start_time": "2024-09-09T13:24:47.344234Z"
    }
   },
   "cell_type": "code",
   "source": "[elem for elem in os.listdir(triples_path) if \".triples\" in elem]",
   "id": "69063a042358b080",
   "outputs": [
    {
     "data": {
      "text/plain": [
       "['stexpanded.triples',\n",
       " 'marvel.triples',\n",
       " 'memoryalpha.triples',\n",
       " 'swg.triples',\n",
       " 'memorybeta.triples',\n",
       " 'swtor.triples',\n",
       " 'starwars.triples',\n",
       " 'mcu.triples']"
      ]
     },
     "execution_count": 9,
     "metadata": {},
     "output_type": "execute_result"
    }
   ],
   "execution_count": 9
  },
  {
   "metadata": {
    "ExecuteTime": {
     "end_time": "2024-09-09T13:24:47.354144Z",
     "start_time": "2024-09-09T13:24:47.350203Z"
    }
   },
   "cell_type": "code",
   "source": "[elem for elem in os.listdir(mappings_path) if \".json\" in elem]",
   "id": "c8d53575da8ddea1",
   "outputs": [
    {
     "data": {
      "text/plain": [
       "['marvel_mapping.json',\n",
       " 'swtor_mapping.json',\n",
       " 'memoryalpha_mapping.json',\n",
       " 'memorybeta_mapping.json',\n",
       " 'stexpanded_mapping.json',\n",
       " 'starwars_mapping.json',\n",
       " 'mcu_mapping.json',\n",
       " 'swg_mapping.json']"
      ]
     },
     "execution_count": 10,
     "metadata": {},
     "output_type": "execute_result"
    }
   ],
   "execution_count": 10
  },
  {
   "metadata": {
    "ExecuteTime": {
     "end_time": "2024-09-09T13:24:47.358334Z",
     "start_time": "2024-09-09T13:24:47.355746Z"
    }
   },
   "cell_type": "code",
   "source": [
    "edges_to_keep = [\"http://dbkwik.webdatacommons.org/ontology/wikiPageWikiLink\", \"http://www.w3.org/1999/02/22-rdf-syntax-ns#type\", \"http://purl.org/dc/terms/subject\", \"http://www.w3.org/2004/02/skos/core#broader\"]\n",
    "edges_to_delete = [\"http://dbkwik.webdatacommons.org/ontology/Image\", \"http://dbkwik.webdatacommons.org/ontology/wikiPageWikiLinkText\"]\n",
    "files_to_delete = \"/File:\""
   ],
   "id": "2a3c7a2782f62edf",
   "outputs": [],
   "execution_count": 11
  },
  {
   "metadata": {
    "ExecuteTime": {
     "end_time": "2024-09-09T13:25:07.238532Z",
     "start_time": "2024-09-09T13:24:47.359204Z"
    }
   },
   "cell_type": "code",
   "source": [
    "triples = sorted([elem for elem in os.listdir(triples_path) if \".triples\" in elem])\n",
    "mappings = sorted([elem for elem in os.listdir(triples_path) if \".json\" in elem])\n",
    "num_of_files = len(triples)\n",
    "\n",
    "for i in range(num_of_files):\n",
    "    \n",
    "    print(\"Processing file \" + str(i+1) + \" of \" + str(num_of_files))\n",
    "    \n",
    "    triple = triples[i]\n",
    "    mapping = mappings[i]\n",
    "    # print(\"Triple file: \" + triple)\n",
    "    # print(\"Mapping file: \" + mapping)\n",
    "    \n",
    "    edges_to_keep_num = []\n",
    "    edges_to_delete_num = []\n",
    "    \n",
    "    kept = 0\n",
    "    deleted = 0\n",
    "    \n",
    "    with open(triples_path + triple, \"r\") as t, open(mappings_path + mapping, \"r\") as m, open(filtered_triples_path + triple, \"w\") as f:\n",
    "        \n",
    "        data = json.load(m)\n",
    "        for keep in edges_to_keep:\n",
    "            edges_to_keep_num.append(str(data.get(keep)))\n",
    "        for delete in edges_to_delete:\n",
    "            edges_to_delete_num.append(str(data.get(delete)))\n",
    "        # print(edges_to_keep_num)\n",
    "        # print(edges_to_delete_num)\n",
    "        filtered_data = {key: value for key, value in data.items() if files_to_delete in key}\n",
    "        for key, value in filtered_data.items():\n",
    "            edges_to_delete_num.append(str(value))\n",
    "        # print(len(edges_to_delete_num))\n",
    "        \n",
    "        for line in t:\n",
    "            triple_list = line.replace(\"\\n\", \"\").split(\"###\")\n",
    "            # print(triple_list)\n",
    "            if any(edge in triple_list for edge in edges_to_keep_num) and not any(edge in triple_list for edge in edges_to_delete):\n",
    "                f.write(line)\n",
    "                kept += 1\n",
    "            else:\n",
    "                deleted += 1\n",
    "        print(f\"{triple}: {deleted}/{kept + deleted} triples are deleted\")"
   ],
   "id": "fa0f783ed3bc6651",
   "outputs": [
    {
     "name": "stdout",
     "output_type": "stream",
     "text": [
      "Processing file 1 of 8\n",
      "marvel.triples: 3544412/6733366 triples are deleted\n",
      "Processing file 2 of 8\n",
      "mcu.triples: 678855/1225115 triples are deleted\n",
      "Processing file 3 of 8\n",
      "memoryalpha.triples: 837481/2526928 triples are deleted\n",
      "Processing file 4 of 8\n",
      "memorybeta.triples: 829319/2542909 triples are deleted\n",
      "Processing file 5 of 8\n",
      "starwars.triples: 3457471/8246033 triples are deleted\n",
      "Processing file 6 of 8\n",
      "stexpanded.triples: 245270/567386 triples are deleted\n",
      "Processing file 7 of 8\n",
      "swg.triples: 127665/254354 triples are deleted\n",
      "Processing file 8 of 8\n",
      "swtor.triples: 71635/146148 triples are deleted\n"
     ]
    }
   ],
   "execution_count": 12
  },
  {
   "metadata": {
    "ExecuteTime": {
     "end_time": "2024-09-09T13:25:07.241623Z",
     "start_time": "2024-09-09T13:25:07.239928Z"
    }
   },
   "cell_type": "code",
   "source": "",
   "id": "904f064d7e7d93e1",
   "outputs": [],
   "execution_count": 12
  }
 ],
 "metadata": {
  "kernelspec": {
   "display_name": "Python 3",
   "language": "python",
   "name": "python3"
  },
  "language_info": {
   "codemirror_mode": {
    "name": "ipython",
    "version": 2
   },
   "file_extension": ".py",
   "mimetype": "text/x-python",
   "name": "python",
   "nbconvert_exporter": "python",
   "pygments_lexer": "ipython2",
   "version": "2.7.6"
  }
 },
 "nbformat": 4,
 "nbformat_minor": 5
}
