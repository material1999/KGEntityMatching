{
 "cells": [
  {
   "cell_type": "code",
   "id": "initial_id",
   "metadata": {
    "collapsed": true,
    "ExecuteTime": {
     "end_time": "2024-06-29T15:24:43.577892Z",
     "start_time": "2024-06-29T15:24:43.575412Z"
    }
   },
   "source": "import os",
   "outputs": [],
   "execution_count": 5
  },
  {
   "metadata": {
    "ExecuteTime": {
     "end_time": "2024-06-29T15:24:44.078321Z",
     "start_time": "2024-06-29T15:24:44.075540Z"
    }
   },
   "cell_type": "code",
   "source": [
    "original_triples_path = \"/Users/matevass/Documents/Projects/KGEntityMatching/data/original_triples/\"\n",
    "mappings_path = \"/Users/matevass/Documents/Projects/KGEntityMatching/data/mappings/\"\n",
    "filtered_triples_path = \"/Users/matevass/Documents/Projects/KGEntityMatching/data/filtered_triples/\""
   ],
   "id": "528b955391bd2449",
   "outputs": [],
   "execution_count": 6
  },
  {
   "metadata": {},
   "cell_type": "code",
   "source": "[elem for elem in os.listdir(original_triples_path) if \".triples\" in elem]",
   "id": "69063a042358b080",
   "outputs": [],
   "execution_count": null
  },
  {
   "metadata": {},
   "cell_type": "code",
   "source": "[elem for elem in os.listdir(mappings_path) if \".json\" in elem]",
   "id": "c8d53575da8ddea1",
   "outputs": [],
   "execution_count": null
  },
  {
   "metadata": {
    "ExecuteTime": {
     "end_time": "2024-06-29T15:24:45.881190Z",
     "start_time": "2024-06-29T15:24:45.874879Z"
    }
   },
   "cell_type": "code",
   "source": [
    "edges_to_keep = [\"http://dbkwik.webdatacommons.org/ontology/wikiPageWikiLink\", \"http://www.w3.org/1999/02/22-rdf-syntax-ns#type\", \"http://purl.org/dc/terms/subject\", \"http://www.w3.org/2004/02/skos/core#broader\"]\n",
    "edges_to_delete = [\"http://dbkwik.webdatacommons.org/ontology/Image\", \"http://dbkwik.webdatacommons.org/ontology/wikiPageWikiLinkText\", \"/File:\"]"
   ],
   "id": "2a3c7a2782f62edf",
   "outputs": [],
   "execution_count": 7
  },
  {
   "metadata": {
    "ExecuteTime": {
     "end_time": "2024-06-29T15:25:15.525555Z",
     "start_time": "2024-06-29T15:24:54.553562Z"
    }
   },
   "cell_type": "code",
   "source": [
    "files = [elem for elem in os.listdir(original_triples_path) if \".triples\" in elem]\n",
    "\n",
    "for file in files:\n",
    "    kept = 0\n",
    "    deleted = 0\n",
    "    with open(original_triples_path + file, \"r\") as f, open(filtered_triples_path + file, \"w\") as g:\n",
    "        for line in f:\n",
    "            if any(edge in line for edge in edges_to_keep) and not any(edge in line for edge in edges_to_delete):\n",
    "                g.write(line)\n",
    "                kept += 1\n",
    "            else:\n",
    "                deleted += 1\n",
    "    print(f\"{file}: {deleted}/{kept + deleted} triples are deleted\")"
   ],
   "id": "fa0f783ed3bc6651",
   "outputs": [
    {
     "name": "stdout",
     "output_type": "stream",
     "text": [
      "stexpanded.triples: 243826/489249 triples are deleted\n",
      "marvel.triples: 3488849/5778444 triples are deleted\n",
      "memoryalpha.triples: 985512/2268717 triples are deleted\n",
      "swg.triples: 149618/230143 triples are deleted\n",
      "memorybeta.triples: 848032/2171306 triples are deleted\n",
      "swtor.triples: 71766/116181 triples are deleted\n",
      "starwars.triples: 2740396/5774014 triples are deleted\n",
      "mcu.triples: 770599/1031437 triples are deleted\n"
     ]
    }
   ],
   "execution_count": 8
  },
  {
   "metadata": {
    "ExecuteTime": {
     "end_time": "2024-06-29T15:24:39.819677Z",
     "start_time": "2024-06-29T15:24:39.815942Z"
    }
   },
   "cell_type": "code",
   "source": "",
   "id": "9c27b38083784b41",
   "outputs": [],
   "execution_count": 4
  }
 ],
 "metadata": {
  "kernelspec": {
   "display_name": "Python 3",
   "language": "python",
   "name": "python3"
  },
  "language_info": {
   "codemirror_mode": {
    "name": "ipython",
    "version": 2
   },
   "file_extension": ".py",
   "mimetype": "text/x-python",
   "name": "python",
   "nbconvert_exporter": "python",
   "pygments_lexer": "ipython2",
   "version": "2.7.6"
  }
 },
 "nbformat": 4,
 "nbformat_minor": 5
}
