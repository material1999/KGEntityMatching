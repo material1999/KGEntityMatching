{
 "cells": [
  {
   "cell_type": "code",
   "id": "initial_id",
   "metadata": {
    "collapsed": true,
    "ExecuteTime": {
     "end_time": "2024-09-10T11:52:53.874834Z",
     "start_time": "2024-09-10T11:52:53.867027Z"
    }
   },
   "source": [
    "import json\n",
    "import os"
   ],
   "outputs": [],
   "execution_count": 46
  },
  {
   "metadata": {
    "ExecuteTime": {
     "end_time": "2024-09-10T11:52:54.227307Z",
     "start_time": "2024-09-10T11:52:54.223315Z"
    }
   },
   "cell_type": "code",
   "source": [
    "triples_path = \"/Users/matevass/Documents/Projects/KGEntityMatching/data/triples_v2/\"\n",
    "mappings_path = \"/Users/matevass/Documents/Projects/KGEntityMatching/data/triples_v2/\"\n",
    "filtered_triples_path = \"/Users/matevass/Documents/Projects/KGEntityMatching/data/filtered_triples/\"\n",
    "filtered_triples_single_path = \"/Users/matevass/Documents/Projects/KGEntityMatching/data/filtered_triples_single/\"\n",
    "filtered_triples_type_path = \"/Users/matevass/Documents/Projects/KGEntityMatching/data/filtered_triples_type/\"\n",
    "filtered_triples_weighted_path = \"/Users/matevass/Documents/Projects/KGEntityMatching/data/filtered_triples_weighted/\""
   ],
   "id": "528b955391bd2449",
   "outputs": [],
   "execution_count": 47
  },
  {
   "metadata": {
    "ExecuteTime": {
     "end_time": "2024-09-10T11:52:54.648127Z",
     "start_time": "2024-09-10T11:52:54.646044Z"
    }
   },
   "cell_type": "code",
   "source": [
    "edges_to_keep = [\"http://dbkwik.webdatacommons.org/ontology/wikiPageWikiLink\", \"http://www.w3.org/1999/02/22-rdf-syntax-ns#type\", \"http://purl.org/dc/terms/subject\", \"http://www.w3.org/2004/02/skos/core#broader\"]\n",
    "edges_to_delete = [\"http://dbkwik.webdatacommons.org/ontology/Image\", \"http://dbkwik.webdatacommons.org/ontology/wikiPageWikiLinkText\"]\n",
    "files_to_delete = \"/File:\""
   ],
   "id": "2a3c7a2782f62edf",
   "outputs": [],
   "execution_count": 48
  },
  {
   "metadata": {
    "ExecuteTime": {
     "end_time": "2024-09-10T11:53:14.665859Z",
     "start_time": "2024-09-10T11:53:14.650882Z"
    }
   },
   "cell_type": "code",
   "source": [
    "triples = sorted([elem for elem in os.listdir(triples_path) if \".triples\" in elem])\n",
    "mappings = sorted([elem for elem in os.listdir(triples_path) if \".json\" in elem])\n",
    "filtered_triples = sorted([elem for elem in os.listdir(filtered_triples_path) if \".triples\" in elem])\n",
    "filtered_triples_single = sorted([elem for elem in os.listdir(filtered_triples_single_path) if \".triples\" in elem])\n",
    "filtered_triples_type = sorted([elem for elem in os.listdir(filtered_triples_type_path) if \".triples\" in elem])\n",
    "filtered_triples_weighted = sorted([elem for elem in os.listdir(filtered_triples_weighted_path) if \".triples\" in elem])\n",
    "num_of_files = len(triples)"
   ],
   "id": "29c0900ddf7ae85",
   "outputs": [],
   "execution_count": 49
  },
  {
   "metadata": {
    "ExecuteTime": {
     "end_time": "2024-09-10T11:25:58.269019Z",
     "start_time": "2024-09-10T11:25:38.353278Z"
    }
   },
   "cell_type": "code",
   "source": [
    "for i in range(num_of_files):\n",
    "    \n",
    "    triple = triples[i]\n",
    "    mapping = mappings[i]\n",
    "    \n",
    "    edges_to_keep_num = []\n",
    "    edges_to_delete_num = []\n",
    "    \n",
    "    kept = 0\n",
    "    deleted = 0\n",
    "    \n",
    "    with open(triples_path + triple, \"r\") as t, open(mappings_path + mapping, \"r\") as m, open(filtered_triples_path + triple, \"w\") as f:\n",
    "        \n",
    "        data = json.load(m)\n",
    "        for keep in edges_to_keep:\n",
    "            edges_to_keep_num.append(str(data.get(keep)))\n",
    "        for delete in edges_to_delete:\n",
    "            edges_to_delete_num.append(str(data.get(delete)))\n",
    "        # print(edges_to_keep_num)\n",
    "        # print(edges_to_delete_num)\n",
    "        filtered_data = {key: value for key, value in data.items() if files_to_delete in key}\n",
    "        for key, value in filtered_data.items():\n",
    "            edges_to_delete_num.append(str(value))\n",
    "        # print(len(edges_to_delete_num))\n",
    "        \n",
    "        for line in t:\n",
    "            triple_list = line.replace(\"\\n\", \"\").split(\"###\")\n",
    "            # print(triple_list)\n",
    "            if any(edge in triple_list for edge in edges_to_keep_num) and not any(edge in triple_list for edge in edges_to_delete):\n",
    "                f.write(line)\n",
    "                kept += 1\n",
    "            else:\n",
    "                deleted += 1\n",
    "        print(f\"{triple}: {deleted}/{kept + deleted} triples are deleted\")"
   ],
   "id": "fa0f783ed3bc6651",
   "outputs": [
    {
     "name": "stdout",
     "output_type": "stream",
     "text": [
      "marvel.triples: 3544412/6733366 triples are deleted\n",
      "mcu.triples: 678855/1225115 triples are deleted\n",
      "memoryalpha.triples: 837481/2526928 triples are deleted\n",
      "memorybeta.triples: 829319/2542909 triples are deleted\n",
      "starwars.triples: 3457471/8246033 triples are deleted\n",
      "stexpanded.triples: 245270/567386 triples are deleted\n",
      "swg.triples: 127665/254354 triples are deleted\n",
      "swtor.triples: 71635/146148 triples are deleted\n"
     ]
    }
   ],
   "execution_count": 41
  },
  {
   "metadata": {
    "ExecuteTime": {
     "end_time": "2024-09-10T11:26:19.366858Z",
     "start_time": "2024-09-10T11:25:59.919510Z"
    }
   },
   "cell_type": "code",
   "source": [
    "for i in range(num_of_files):\n",
    "\n",
    "    triple = triples[i]\n",
    "    filtered_triple = filtered_triples[i]\n",
    "    nodes = set()\n",
    "    nodes_filtered = set()\n",
    "    lines = 0\n",
    "    lines_filtered = 0\n",
    "\n",
    "    with open(triples_path + triple, \"r\") as t:\n",
    "        for line in t:\n",
    "            lines += 1\n",
    "            triple_list = line.replace(\"\\n\", \"\").split(\"###\")\n",
    "            nodes.add(triple_list[0])\n",
    "            nodes.add(triple_list[1])\n",
    "\n",
    "    with open(filtered_triples_path + filtered_triple, \"r\") as t:\n",
    "        for line in t:\n",
    "            lines_filtered += 1\n",
    "            triple_list = line.replace(\"\\n\", \"\").split(\"###\")\n",
    "            nodes_filtered.add(triple_list[0])\n",
    "            nodes_filtered.add(triple_list[1])\n",
    "    \n",
    "    print(f\"{triple}: {len(nodes)} --> {len(nodes_filtered)} nodes ### {lines} --> {lines_filtered} edges\")"
   ],
   "id": "904f064d7e7d93e1",
   "outputs": [
    {
     "name": "stdout",
     "output_type": "stream",
     "text": [
      "marvel.triples: 2222423 --> 1152309 nodes ### 6733366 --> 3188954 edges\n",
      "mcu.triples: 272537 --> 155378 nodes ### 1225115 --> 546260 edges\n",
      "memoryalpha.triples: 480507 --> 192464 nodes ### 2526928 --> 1689447 edges\n",
      "memorybeta.triples: 443280 --> 187661 nodes ### 2542909 --> 1713590 edges\n",
      "starwars.triples: 1158873 --> 440402 nodes ### 8246033 --> 4788562 edges\n",
      "stexpanded.triples: 125566 --> 45807 nodes ### 567386 --> 322116 edges\n",
      "swg.triples: 80400 --> 38460 nodes ### 254354 --> 126689 edges\n",
      "swtor.triples: 39684 --> 18125 nodes ### 146148 --> 74513 edges\n"
     ]
    }
   ],
   "execution_count": 42
  },
  {
   "metadata": {
    "ExecuteTime": {
     "end_time": "2024-09-10T11:26:33.524566Z",
     "start_time": "2024-09-10T11:26:21.213945Z"
    }
   },
   "cell_type": "code",
   "source": [
    "for i in range(num_of_files):\n",
    "\n",
    "    filtered_triple = filtered_triples[i]\n",
    "    edges = set()\n",
    "    lines = 0\n",
    "\n",
    "    with open(filtered_triples_path + filtered_triple, \"r\") as t:\n",
    "        for line in t:\n",
    "            lines += 1\n",
    "            triple_list = line.replace(\"\\n\", \"\").split(\"###\")\n",
    "            if str(triple_list[1]) + \"###\" + str(triple_list[0]) not in edges:\n",
    "                edges.add(str(triple_list[0]) + \"###\" + str(triple_list[1]))\n",
    "            else:\n",
    "                # print(str(triple_list[0]) + \"###\" + str(triple_list[1]))\n",
    "                pass\n",
    "                \n",
    "    print(f\"{filtered_triple}: {lines} edges with {lines - len(edges)} duplicates (without type) --> {len(edges)} edges\")\n",
    "\n",
    "    with open(filtered_triples_single_path + filtered_triple, \"w\") as fs:\n",
    "        for edge in edges:\n",
    "            fs.write(edge + \"\\n\")"
   ],
   "id": "820f0becde50139c",
   "outputs": [
    {
     "name": "stdout",
     "output_type": "stream",
     "text": [
      "marvel.triples: 3188954 edges with 256580 duplicates (without type) --> 2932374 edges\n",
      "mcu.triples: 546260 edges with 122238 duplicates (without type) --> 424022 edges\n",
      "memoryalpha.triples: 1689447 edges with 249634 duplicates (without type) --> 1439813 edges\n",
      "memorybeta.triples: 1713590 edges with 257906 duplicates (without type) --> 1455684 edges\n",
      "starwars.triples: 4788562 edges with 970938 duplicates (without type) --> 3817624 edges\n",
      "stexpanded.triples: 322116 edges with 53814 duplicates (without type) --> 268302 edges\n",
      "swg.triples: 126689 edges with 22033 duplicates (without type) --> 104656 edges\n",
      "swtor.triples: 74513 edges with 17395 duplicates (without type) --> 57118 edges\n"
     ]
    }
   ],
   "execution_count": 43
  },
  {
   "metadata": {
    "ExecuteTime": {
     "end_time": "2024-09-10T11:26:51.698164Z",
     "start_time": "2024-09-10T11:26:36.901694Z"
    }
   },
   "cell_type": "code",
   "source": [
    "for i in range(num_of_files):\n",
    "\n",
    "    filtered_triple = filtered_triples[i]\n",
    "    edges = set()\n",
    "    lines = 0\n",
    "\n",
    "    with open(filtered_triples_path + filtered_triple, \"r\") as t:\n",
    "        for line in t:\n",
    "            lines += 1\n",
    "            triple_list = line.replace(\"\\n\", \"\").split(\"###\")\n",
    "            if str(triple_list[1]) + \"###\" + str(triple_list[0]) + '###' + str(triple_list[2]) not in edges:\n",
    "                edges.add(str(triple_list[0]) + \"###\" + str(triple_list[1]) + '###' + str(triple_list[2]))\n",
    "            else:\n",
    "                # print(str(triple_list[0]) + \"###\" + str(triple_list[1]) + '###' + str(triple_list[2])\n",
    "                pass\n",
    "\n",
    "    print(f\"{filtered_triple}: {lines} edges with {lines - len(edges)} duplicates (with type) --> {len(edges)} edges\")\n",
    "\n",
    "    with open(filtered_triples_type_path + filtered_triple, \"w\") as fs:\n",
    "        for edge in edges:\n",
    "            fs.write(edge + \"\\n\")"
   ],
   "id": "348f0b40768ff12d",
   "outputs": [
    {
     "name": "stdout",
     "output_type": "stream",
     "text": [
      "marvel.triples: 3188954 edges with 108113 duplicates (with type) --> 3080841 edges\n",
      "mcu.triples: 546260 edges with 62368 duplicates (with type) --> 483892 edges\n",
      "memoryalpha.triples: 1689447 edges with 180331 duplicates (with type) --> 1509116 edges\n",
      "memorybeta.triples: 1713590 edges with 126354 duplicates (with type) --> 1587236 edges\n",
      "starwars.triples: 4788562 edges with 678447 duplicates (with type) --> 4110115 edges\n",
      "stexpanded.triples: 322116 edges with 26048 duplicates (with type) --> 296068 edges\n",
      "swg.triples: 126689 edges with 7559 duplicates (with type) --> 119130 edges\n",
      "swtor.triples: 74513 edges with 3156 duplicates (with type) --> 71357 edges\n"
     ]
    }
   ],
   "execution_count": 44
  },
  {
   "metadata": {
    "ExecuteTime": {
     "end_time": "2024-09-10T11:27:15.465511Z",
     "start_time": "2024-09-10T11:26:56.616486Z"
    }
   },
   "cell_type": "code",
   "source": [
    "for i in range(num_of_files):\n",
    "\n",
    "    triple = triples[i]\n",
    "    filtered_triple_type = filtered_triples_type[i]\n",
    "    nodes = set()\n",
    "    nodes_filtered_type = set()\n",
    "    lines = 0\n",
    "    lines_filtered_type = 0\n",
    "\n",
    "    with open(triples_path + triple, \"r\") as t:\n",
    "        for line in t:\n",
    "            lines += 1\n",
    "            triple_list = line.replace(\"\\n\", \"\").split(\"###\")\n",
    "            nodes.add(triple_list[0])\n",
    "            nodes.add(triple_list[1])\n",
    "\n",
    "    with open(filtered_triples_type_path + filtered_triple_type, \"r\") as t:\n",
    "        for line in t:\n",
    "            lines_filtered_type += 1\n",
    "            triple_list = line.replace(\"\\n\", \"\").split(\"###\")\n",
    "            nodes_filtered_type.add(triple_list[0])\n",
    "            nodes_filtered_type.add(triple_list[1])\n",
    "\n",
    "    print(f\"{triple}: {len(nodes)} --> {len(nodes_filtered_type)} nodes ### {lines} --> {lines_filtered_type} edges\")"
   ],
   "id": "cf1335d33879cd4a",
   "outputs": [
    {
     "name": "stdout",
     "output_type": "stream",
     "text": [
      "marvel.triples: 2222423 --> 1152309 nodes ### 6733366 --> 3080841 edges\n",
      "mcu.triples: 272537 --> 155378 nodes ### 1225115 --> 483892 edges\n",
      "memoryalpha.triples: 480507 --> 192464 nodes ### 2526928 --> 1509116 edges\n",
      "memorybeta.triples: 443280 --> 187661 nodes ### 2542909 --> 1587236 edges\n",
      "starwars.triples: 1158873 --> 440402 nodes ### 8246033 --> 4110115 edges\n",
      "stexpanded.triples: 125566 --> 45807 nodes ### 567386 --> 296068 edges\n",
      "swg.triples: 80400 --> 38460 nodes ### 254354 --> 119130 edges\n",
      "swtor.triples: 39684 --> 18125 nodes ### 146148 --> 71357 edges\n"
     ]
    }
   ],
   "execution_count": 45
  },
  {
   "metadata": {
    "ExecuteTime": {
     "end_time": "2024-09-10T12:30:10.342715Z",
     "start_time": "2024-09-10T12:29:56.405273Z"
    }
   },
   "cell_type": "code",
   "source": [
    "for i in range(num_of_files):\n",
    "    \n",
    "    print(\"Processing file\", i + 1, \"of\", num_of_files)\n",
    "\n",
    "    filtered_triple = filtered_triples[i]\n",
    "    edges = dict()\n",
    "    lines = 0\n",
    "\n",
    "    with open(filtered_triples_path + filtered_triple, \"r\") as t:\n",
    "        for line in t:\n",
    "            lines += 1\n",
    "            triple_list = sorted(line.replace(\"\\n\", \"\").split(\"###\")[:2])\n",
    "            key = str(triple_list[0]) + \"###\" + str(triple_list[1])\n",
    "            edges[key] = edges.get(key, 0) + 1\n",
    "\n",
    "    with open(filtered_triples_weighted_path + filtered_triple, \"w\") as fw:\n",
    "        for k, v in edges.items():\n",
    "            fw.write(str(k) + \"###\" + str(v) + \"\\n\")"
   ],
   "id": "e18b6a4d3633532d",
   "outputs": [
    {
     "name": "stdout",
     "output_type": "stream",
     "text": [
      "Processing file 1 of 8\n",
      "Processing file 2 of 8\n",
      "Processing file 3 of 8\n",
      "Processing file 4 of 8\n",
      "Processing file 5 of 8\n",
      "Processing file 6 of 8\n",
      "Processing file 7 of 8\n",
      "Processing file 8 of 8\n"
     ]
    }
   ],
   "execution_count": 54
  },
  {
   "metadata": {},
   "cell_type": "code",
   "outputs": [],
   "execution_count": null,
   "source": "",
   "id": "bee913dba4794fc5"
  }
 ],
 "metadata": {
  "kernelspec": {
   "display_name": "Python 3",
   "language": "python",
   "name": "python3"
  },
  "language_info": {
   "codemirror_mode": {
    "name": "ipython",
    "version": 2
   },
   "file_extension": ".py",
   "mimetype": "text/x-python",
   "name": "python",
   "nbconvert_exporter": "python",
   "pygments_lexer": "ipython2",
   "version": "2.7.6"
  }
 },
 "nbformat": 4,
 "nbformat_minor": 5
}
