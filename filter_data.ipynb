{
 "cells": [
  {
   "cell_type": "code",
   "id": "initial_id",
   "metadata": {
    "collapsed": true,
    "ExecuteTime": {
     "end_time": "2024-09-23T12:15:57.631154Z",
     "start_time": "2024-09-23T12:15:57.611913Z"
    }
   },
   "source": [
    "import json\n",
    "import os\n",
    "from tqdm import tqdm"
   ],
   "outputs": [],
   "execution_count": 1
  },
  {
   "metadata": {
    "ExecuteTime": {
     "end_time": "2024-09-23T12:15:57.654561Z",
     "start_time": "2024-09-23T12:15:57.652392Z"
    }
   },
   "cell_type": "code",
   "source": [
    "triples_path = \"/Users/matevass/Documents/Projects/KGEntityMatching/data/triples_v2/\"\n",
    "mappings_path = \"/Users/matevass/Documents/Projects/KGEntityMatching/data/triples_v2/\"\n",
    "filtered_triples_path = \"/Users/matevass/Documents/Projects/KGEntityMatching/data/filtered_triples/\"\n",
    "filtered_triples_weighted_path = \"/Users/matevass/Documents/Projects/KGEntityMatching/data/filtered_triples_weighted/\""
   ],
   "id": "528b955391bd2449",
   "outputs": [],
   "execution_count": 2
  },
  {
   "metadata": {
    "ExecuteTime": {
     "end_time": "2024-09-23T12:16:02.062528Z",
     "start_time": "2024-09-23T12:16:02.059048Z"
    }
   },
   "cell_type": "code",
   "source": [
    "#edges_to_keep = [\"http://dbkwik.webdatacommons.org/ontology/wikiPageWikiLink\", \"http://www.w3.org/1999/02/22-rdf-syntax-ns#type\", \"http://purl.org/dc/terms/subject\", \"http://www.w3.org/2004/02/skos/core#broader\"]\n",
    "edges_to_keep = [\"http://dbkwik.webdatacommons.org/ontology/wikiPageWikiLink\"]\n",
    "edges_to_delete = [\"http://dbkwik.webdatacommons.org/ontology/Image\", \"http://dbkwik.webdatacommons.org/ontology/wikiPageWikiLinkText\", \"/File:\", \"/Special:FilePath/\"]"
   ],
   "id": "2a3c7a2782f62edf",
   "outputs": [],
   "execution_count": 3
  },
  {
   "metadata": {
    "ExecuteTime": {
     "end_time": "2024-09-23T12:16:03.048227Z",
     "start_time": "2024-09-23T12:16:03.044223Z"
    }
   },
   "cell_type": "code",
   "source": [
    "triples = sorted([elem for elem in os.listdir(triples_path) if \".triples\" in elem])\n",
    "mappings = sorted([elem for elem in os.listdir(triples_path) if \".json\" in elem])\n",
    "filtered_triples = sorted([elem for elem in os.listdir(filtered_triples_path) if \".triples\" in elem])\n",
    "filtered_triples_weighted = sorted([elem for elem in os.listdir(filtered_triples_weighted_path) if \".triples\" in elem])\n",
    "num_of_files = len(triples)"
   ],
   "id": "29c0900ddf7ae85",
   "outputs": [],
   "execution_count": 4
  },
  {
   "metadata": {
    "ExecuteTime": {
     "end_time": "2024-09-23T12:15:39.335150Z",
     "start_time": "2024-09-23T12:15:33.163790Z"
    }
   },
   "cell_type": "code",
   "source": [
    "for i in range(num_of_files):\n",
    "\n",
    "    triple = triples[i]\n",
    "    mapping = mappings[i]\n",
    "\n",
    "    kept = 0\n",
    "    deleted = 0\n",
    "\n",
    "    with open(triples_path + triple, \"r\") as t, open(mappings_path + mapping, \"r\") as m, open(filtered_triples_path + triple, \"w\") as f:\n",
    "\n",
    "        mapping = json.load(m)\n",
    "        reversed_mapping = {str(v): k for k, v in mapping.items()}\n",
    "\n",
    "        for line in t:\n",
    "            entities = line.strip().split(\"###\")\n",
    "            edge_type = reversed_mapping.get(entities[2], None)\n",
    "            if edge_type not in edges_to_keep:\n",
    "                deleted += 1\n",
    "                continue\n",
    "            node_1 = reversed_mapping.get(entities[0], None)\n",
    "            node_2 = reversed_mapping.get(entities[1], None)\n",
    "            line_as_string = node_1 + \"###\" + node_2\n",
    "            if any(substring in line_as_string for substring in edges_to_delete):\n",
    "                deleted += 1\n",
    "            else:\n",
    "                kept += 1\n",
    "                f.write(line)\n",
    "                \n",
    "        print(f\"{triple}: {deleted}/{kept + deleted} triples are deleted\")"
   ],
   "id": "842ffcf96c2317de",
   "outputs": [
    {
     "ename": "KeyboardInterrupt",
     "evalue": "",
     "output_type": "error",
     "traceback": [
      "\u001B[0;31m---------------------------------------------------------------------------\u001B[0m",
      "\u001B[0;31mKeyboardInterrupt\u001B[0m                         Traceback (most recent call last)",
      "Cell \u001B[0;32mIn[5], line 23\u001B[0m\n\u001B[1;32m     21\u001B[0m node_2 \u001B[38;5;241m=\u001B[39m reversed_mapping\u001B[38;5;241m.\u001B[39mget(entities[\u001B[38;5;241m1\u001B[39m], \u001B[38;5;28;01mNone\u001B[39;00m)\n\u001B[1;32m     22\u001B[0m line_as_string \u001B[38;5;241m=\u001B[39m node_1 \u001B[38;5;241m+\u001B[39m \u001B[38;5;124m\"\u001B[39m\u001B[38;5;124m###\u001B[39m\u001B[38;5;124m\"\u001B[39m \u001B[38;5;241m+\u001B[39m node_2\n\u001B[0;32m---> 23\u001B[0m \u001B[38;5;28;01mif\u001B[39;00m \u001B[38;5;28many\u001B[39m(substring \u001B[38;5;129;01min\u001B[39;00m line_as_string \u001B[38;5;28;01mfor\u001B[39;00m substring \u001B[38;5;129;01min\u001B[39;00m edges_to_delete):\n\u001B[1;32m     24\u001B[0m     deleted \u001B[38;5;241m+\u001B[39m\u001B[38;5;241m=\u001B[39m \u001B[38;5;241m1\u001B[39m\n\u001B[1;32m     25\u001B[0m \u001B[38;5;28;01melse\u001B[39;00m:\n",
      "\u001B[0;31mKeyboardInterrupt\u001B[0m: "
     ]
    }
   ],
   "execution_count": 5
  },
  {
   "metadata": {},
   "cell_type": "code",
   "source": [
    "for i in range(num_of_files):\n",
    "\n",
    "    triple = triples[i]\n",
    "    filtered_triple = filtered_triples[i]\n",
    "    nodes = set()\n",
    "    nodes_filtered = set()\n",
    "    lines = 0\n",
    "    lines_filtered = 0\n",
    "\n",
    "    with open(triples_path + triple, \"r\") as t:\n",
    "        for line in t:\n",
    "            lines += 1\n",
    "            triple_list = line.replace(\"\\n\", \"\").split(\"###\")\n",
    "            nodes.add(triple_list[0])\n",
    "            nodes.add(triple_list[1])\n",
    "\n",
    "    with open(filtered_triples_path + filtered_triple, \"r\") as t:\n",
    "        for line in t:\n",
    "            lines_filtered += 1\n",
    "            triple_list = line.replace(\"\\n\", \"\").split(\"###\")\n",
    "            nodes_filtered.add(triple_list[0])\n",
    "            nodes_filtered.add(triple_list[1])\n",
    "\n",
    "    print(f\"{triple}: {len(nodes)} nodes, {lines} edges --> {len(nodes_filtered)} nodes, {lines_filtered} edges\")"
   ],
   "id": "904f064d7e7d93e1",
   "outputs": [],
   "execution_count": null
  },
  {
   "metadata": {},
   "cell_type": "code",
   "source": [
    "for i in range(num_of_files):\n",
    "    \n",
    "    print(\"Processing file\", i + 1, \"of\", num_of_files)\n",
    "\n",
    "    filtered_triple = filtered_triples[i]\n",
    "    edges = dict()\n",
    "    lines = 0\n",
    "\n",
    "    with open(filtered_triples_path + filtered_triple, \"r\") as t:\n",
    "        for line in t:\n",
    "            lines += 1\n",
    "            triple_list = sorted(line.replace(\"\\n\", \"\").split(\"###\")[:2])\n",
    "            key = str(triple_list[0]) + \"###\" + str(triple_list[1])\n",
    "            edges[key] = edges.get(key, 0) + 1\n",
    "\n",
    "    with open(filtered_triples_weighted_path + filtered_triple, \"w\") as fw:\n",
    "        for k, v in edges.items():\n",
    "            fw.write(str(k) + \"###\" + str(v) + \"\\n\")"
   ],
   "id": "e18b6a4d3633532d",
   "outputs": [],
   "execution_count": null
  },
  {
   "metadata": {},
   "cell_type": "code",
   "source": [
    "for i in range(num_of_files):\n",
    "\n",
    "    triple = triples[i]\n",
    "    filtered_triple_weighted = filtered_triples_weighted[i]\n",
    "    nodes = set()\n",
    "    nodes_filtered_weighted = set()\n",
    "    lines = 0\n",
    "    lines_filtered_weighted = 0\n",
    "\n",
    "    with open(triples_path + triple, \"r\") as t:\n",
    "        for line in t:\n",
    "            lines += 1\n",
    "            triple_list = line.replace(\"\\n\", \"\").split(\"###\")\n",
    "            nodes.add(triple_list[0])\n",
    "            nodes.add(triple_list[1])\n",
    "\n",
    "    with open(filtered_triples_weighted_path + filtered_triple_weighted, \"r\") as t:\n",
    "        for line in t:\n",
    "            lines_filtered_weighted += 1\n",
    "            triple_list = line.replace(\"\\n\", \"\").split(\"###\")\n",
    "            nodes_filtered_weighted.add(triple_list[0])\n",
    "            nodes_filtered_weighted.add(triple_list[1])\n",
    "\n",
    "    print(f\"{triple}: {len(nodes)} nodes, {lines} edges --> {len(nodes_filtered_weighted)} nodes, {lines_filtered_weighted} edges\")"
   ],
   "id": "bee913dba4794fc5",
   "outputs": [],
   "execution_count": null
  },
  {
   "metadata": {},
   "cell_type": "code",
   "source": "",
   "id": "e6585b3b21360e4e",
   "outputs": [],
   "execution_count": null
  }
 ],
 "metadata": {
  "kernelspec": {
   "display_name": "Python 3",
   "language": "python",
   "name": "python3"
  },
  "language_info": {
   "codemirror_mode": {
    "name": "ipython",
    "version": 2
   },
   "file_extension": ".py",
   "mimetype": "text/x-python",
   "name": "python",
   "nbconvert_exporter": "python",
   "pygments_lexer": "ipython2",
   "version": "2.7.6"
  }
 },
 "nbformat": 4,
 "nbformat_minor": 5
}
