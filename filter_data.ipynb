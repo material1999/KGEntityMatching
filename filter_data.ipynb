{
 "cells": [
  {
   "cell_type": "code",
   "id": "initial_id",
   "metadata": {
    "collapsed": true,
    "ExecuteTime": {
     "end_time": "2024-09-23T11:49:53.632654Z",
     "start_time": "2024-09-23T11:49:53.615886Z"
    }
   },
   "source": [
    "import json\n",
    "import os\n",
    "from tqdm import tqdm"
   ],
   "outputs": [],
   "execution_count": 1
  },
  {
   "metadata": {
    "ExecuteTime": {
     "end_time": "2024-09-23T11:49:55.243780Z",
     "start_time": "2024-09-23T11:49:55.238931Z"
    }
   },
   "cell_type": "code",
   "source": [
    "triples_path = \"/Users/matevass/Documents/Projects/KGEntityMatching/data/triples_v2/\"\n",
    "mappings_path = \"/Users/matevass/Documents/Projects/KGEntityMatching/data/triples_v2/\"\n",
    "filtered_triples_path = \"/Users/matevass/Documents/Projects/KGEntityMatching/data/filtered_triples/\"\n",
    "filtered_triples_weighted_path = \"/Users/matevass/Documents/Projects/KGEntityMatching/data/filtered_triples_weighted/\""
   ],
   "id": "528b955391bd2449",
   "outputs": [],
   "execution_count": 2
  },
  {
   "metadata": {
    "ExecuteTime": {
     "end_time": "2024-09-23T11:49:55.876878Z",
     "start_time": "2024-09-23T11:49:55.874845Z"
    }
   },
   "cell_type": "code",
   "source": [
    "edges_to_keep = [\"http://dbkwik.webdatacommons.org/ontology/wikiPageWikiLink\", \"http://www.w3.org/1999/02/22-rdf-syntax-ns#type\", \"http://purl.org/dc/terms/subject\", \"http://www.w3.org/2004/02/skos/core#broader\"]\n",
    "edges_to_delete = [\"http://dbkwik.webdatacommons.org/ontology/Image\", \"http://dbkwik.webdatacommons.org/ontology/wikiPageWikiLinkText\", \"/File:\", \"/Special:FilePath/\"]"
   ],
   "id": "2a3c7a2782f62edf",
   "outputs": [],
   "execution_count": 3
  },
  {
   "metadata": {
    "ExecuteTime": {
     "end_time": "2024-09-23T11:49:56.286694Z",
     "start_time": "2024-09-23T11:49:56.281854Z"
    }
   },
   "cell_type": "code",
   "source": [
    "triples = sorted([elem for elem in os.listdir(triples_path) if \".triples\" in elem])\n",
    "mappings = sorted([elem for elem in os.listdir(triples_path) if \".json\" in elem])\n",
    "filtered_triples = sorted([elem for elem in os.listdir(filtered_triples_path) if \".triples\" in elem])\n",
    "filtered_triples_weighted = sorted([elem for elem in os.listdir(filtered_triples_weighted_path) if \".triples\" in elem])\n",
    "num_of_files = len(triples)"
   ],
   "id": "29c0900ddf7ae85",
   "outputs": [],
   "execution_count": 4
  },
  {
   "metadata": {
    "ExecuteTime": {
     "end_time": "2024-09-23T11:50:24.981085Z",
     "start_time": "2024-09-23T11:49:56.850064Z"
    }
   },
   "cell_type": "code",
   "source": [
    "for i in range(num_of_files):\n",
    "\n",
    "    triple = triples[i]\n",
    "    mapping = mappings[i]\n",
    "\n",
    "    kept = 0\n",
    "    deleted = 0\n",
    "\n",
    "    with open(triples_path + triple, \"r\") as t, open(mappings_path + mapping, \"r\") as m, open(filtered_triples_path + triple, \"w\") as f:\n",
    "\n",
    "        mapping = json.load(m)\n",
    "        reversed_mapping = {str(v): k for k, v in mapping.items()}\n",
    "\n",
    "        for line in t:\n",
    "            entities = line.strip().split(\"###\")\n",
    "            edge_type = reversed_mapping.get(entities[2], None)\n",
    "            if edge_type not in edges_to_keep:\n",
    "                deleted += 1\n",
    "                continue\n",
    "            node_1 = reversed_mapping.get(entities[0], None)\n",
    "            node_2 = reversed_mapping.get(entities[1], None)\n",
    "            line_as_string = node_1 + \"###\" + node_2\n",
    "            if any(substring in line_as_string for substring in edges_to_delete):\n",
    "                deleted += 1\n",
    "            else:\n",
    "                kept += 1\n",
    "                f.write(line)\n",
    "                \n",
    "        print(f\"{triple}: {deleted}/{kept + deleted} triples are deleted\")"
   ],
   "id": "842ffcf96c2317de",
   "outputs": [
    {
     "name": "stdout",
     "output_type": "stream",
     "text": [
      "marvel.triples: 4165683/6733366 triples are deleted\n",
      "mcu.triples: 822177/1225115 triples are deleted\n",
      "memoryalpha.triples: 970404/2526928 triples are deleted\n",
      "memorybeta.triples: 911976/2542909 triples are deleted\n",
      "starwars.triples: 3721226/8246033 triples are deleted\n",
      "stexpanded.triples: 260741/567386 triples are deleted\n",
      "swg.triples: 149826/254354 triples are deleted\n",
      "swtor.triples: 81475/146148 triples are deleted\n"
     ]
    }
   ],
   "execution_count": 5
  },
  {
   "metadata": {
    "ExecuteTime": {
     "end_time": "2024-09-23T11:50:52.011624Z",
     "start_time": "2024-09-23T11:50:32.707896Z"
    }
   },
   "cell_type": "code",
   "source": [
    "for i in range(num_of_files):\n",
    "\n",
    "    triple = triples[i]\n",
    "    filtered_triple = filtered_triples[i]\n",
    "    nodes = set()\n",
    "    nodes_filtered = set()\n",
    "    lines = 0\n",
    "    lines_filtered = 0\n",
    "\n",
    "    with open(triples_path + triple, \"r\") as t:\n",
    "        for line in t:\n",
    "            lines += 1\n",
    "            triple_list = line.replace(\"\\n\", \"\").split(\"###\")\n",
    "            nodes.add(triple_list[0])\n",
    "            nodes.add(triple_list[1])\n",
    "\n",
    "    with open(filtered_triples_path + filtered_triple, \"r\") as t:\n",
    "        for line in t:\n",
    "            lines_filtered += 1\n",
    "            triple_list = line.replace(\"\\n\", \"\").split(\"###\")\n",
    "            nodes_filtered.add(triple_list[0])\n",
    "            nodes_filtered.add(triple_list[1])\n",
    "\n",
    "    print(f\"{triple}: {len(nodes)} nodes, {lines} edges --> {len(nodes_filtered)} nodes, {lines_filtered} edges\")"
   ],
   "id": "904f064d7e7d93e1",
   "outputs": [
    {
     "name": "stdout",
     "output_type": "stream",
     "text": [
      "marvel.triples: 2222423 nodes, 6733366 edges --> 532608 nodes, 2567683 edges\n",
      "mcu.triples: 272537 nodes, 1225115 edges --> 20264 nodes, 402938 edges\n",
      "memoryalpha.triples: 480507 nodes, 2526928 edges --> 69402 nodes, 1556524 edges\n",
      "memorybeta.triples: 443280 nodes, 2542909 edges --> 131290 nodes, 1630933 edges\n",
      "starwars.triples: 1158873 nodes, 8246033 edges --> 202047 nodes, 4524807 edges\n",
      "stexpanded.triples: 125566 nodes, 567386 edges --> 32282 nodes, 306645 edges\n",
      "swg.triples: 80400 nodes, 254354 edges --> 16936 nodes, 104528 edges\n",
      "swtor.triples: 39684 nodes, 146148 edges --> 8527 nodes, 64673 edges\n"
     ]
    }
   ],
   "execution_count": 6
  },
  {
   "metadata": {
    "ExecuteTime": {
     "end_time": "2024-09-23T11:51:05.793044Z",
     "start_time": "2024-09-23T11:50:54.063229Z"
    }
   },
   "cell_type": "code",
   "source": [
    "for i in range(num_of_files):\n",
    "    \n",
    "    print(\"Processing file\", i + 1, \"of\", num_of_files)\n",
    "\n",
    "    filtered_triple = filtered_triples[i]\n",
    "    edges = dict()\n",
    "    lines = 0\n",
    "\n",
    "    with open(filtered_triples_path + filtered_triple, \"r\") as t:\n",
    "        for line in t:\n",
    "            lines += 1\n",
    "            triple_list = sorted(line.replace(\"\\n\", \"\").split(\"###\")[:2])\n",
    "            key = str(triple_list[0]) + \"###\" + str(triple_list[1])\n",
    "            edges[key] = edges.get(key, 0) + 1\n",
    "\n",
    "    with open(filtered_triples_weighted_path + filtered_triple, \"w\") as fw:\n",
    "        for k, v in edges.items():\n",
    "            fw.write(str(k) + \"###\" + str(v) + \"\\n\")"
   ],
   "id": "e18b6a4d3633532d",
   "outputs": [
    {
     "name": "stdout",
     "output_type": "stream",
     "text": [
      "Processing file 1 of 8\n",
      "Processing file 2 of 8\n",
      "Processing file 3 of 8\n",
      "Processing file 4 of 8\n",
      "Processing file 5 of 8\n",
      "Processing file 6 of 8\n",
      "Processing file 7 of 8\n",
      "Processing file 8 of 8\n"
     ]
    }
   ],
   "execution_count": 7
  },
  {
   "metadata": {
    "ExecuteTime": {
     "end_time": "2024-09-23T11:51:26.128525Z",
     "start_time": "2024-09-23T11:51:07.428767Z"
    }
   },
   "cell_type": "code",
   "source": [
    "for i in range(num_of_files):\n",
    "\n",
    "    triple = triples[i]\n",
    "    filtered_triple_weighted = filtered_triples_weighted[i]\n",
    "    nodes = set()\n",
    "    nodes_filtered_weighted = set()\n",
    "    lines = 0\n",
    "    lines_filtered_weighted = 0\n",
    "\n",
    "    with open(triples_path + triple, \"r\") as t:\n",
    "        for line in t:\n",
    "            lines += 1\n",
    "            triple_list = line.replace(\"\\n\", \"\").split(\"###\")\n",
    "            nodes.add(triple_list[0])\n",
    "            nodes.add(triple_list[1])\n",
    "\n",
    "    with open(filtered_triples_weighted_path + filtered_triple_weighted, \"r\") as t:\n",
    "        for line in t:\n",
    "            lines_filtered_weighted += 1\n",
    "            triple_list = line.replace(\"\\n\", \"\").split(\"###\")\n",
    "            nodes_filtered_weighted.add(triple_list[0])\n",
    "            nodes_filtered_weighted.add(triple_list[1])\n",
    "\n",
    "    print(f\"{triple}: {len(nodes)} nodes, {lines} edges --> {len(nodes_filtered_weighted)} nodes, {lines_filtered_weighted} edges\")"
   ],
   "id": "bee913dba4794fc5",
   "outputs": [
    {
     "name": "stdout",
     "output_type": "stream",
     "text": [
      "marvel.triples: 2222423 nodes, 6733366 edges --> 532608 nodes, 2311103 edges\n",
      "mcu.triples: 272537 nodes, 1225115 edges --> 20264 nodes, 280700 edges\n",
      "memoryalpha.triples: 480507 nodes, 2526928 edges --> 69402 nodes, 1306890 edges\n",
      "memorybeta.triples: 443280 nodes, 2542909 edges --> 131290 nodes, 1373027 edges\n",
      "starwars.triples: 1158873 nodes, 8246033 edges --> 202047 nodes, 3553869 edges\n",
      "stexpanded.triples: 125566 nodes, 567386 edges --> 32282 nodes, 252831 edges\n",
      "swg.triples: 80400 nodes, 254354 edges --> 16936 nodes, 82495 edges\n",
      "swtor.triples: 39684 nodes, 146148 edges --> 8527 nodes, 47278 edges\n"
     ]
    }
   ],
   "execution_count": 8
  },
  {
   "metadata": {},
   "cell_type": "code",
   "source": "",
   "id": "e6585b3b21360e4e",
   "outputs": [],
   "execution_count": null
  }
 ],
 "metadata": {
  "kernelspec": {
   "display_name": "Python 3",
   "language": "python",
   "name": "python3"
  },
  "language_info": {
   "codemirror_mode": {
    "name": "ipython",
    "version": 2
   },
   "file_extension": ".py",
   "mimetype": "text/x-python",
   "name": "python",
   "nbconvert_exporter": "python",
   "pygments_lexer": "ipython2",
   "version": "2.7.6"
  }
 },
 "nbformat": 4,
 "nbformat_minor": 5
}
