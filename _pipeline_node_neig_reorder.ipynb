{
 "cells": [
  {
   "cell_type": "code",
   "id": "initial_id",
   "metadata": {
    "collapsed": true,
    "ExecuteTime": {
     "end_time": "2025-07-02T20:59:13.941259Z",
     "start_time": "2025-07-02T20:59:10.739177Z"
    }
   },
   "source": [
    "import json\n",
    "from tqdm import tqdm\n",
    "import torch\n",
    "from sentence_transformers import util\n",
    "import numpy as np"
   ],
   "outputs": [],
   "execution_count": 1
  },
  {
   "metadata": {
    "ExecuteTime": {
     "end_time": "2025-07-02T20:59:14.044972Z",
     "start_time": "2025-07-02T20:59:14.043528Z"
    }
   },
   "cell_type": "code",
   "source": [
    "big = \"memoryalpha\"\n",
    "small = \"stexpanded\"\n",
    "embeddings = \"dogtag_bgelarge\""
   ],
   "id": "d87649d0a3987683",
   "outputs": [],
   "execution_count": 2
  },
  {
   "metadata": {
    "ExecuteTime": {
     "end_time": "2025-07-02T20:59:14.058034Z",
     "start_time": "2025-07-02T20:59:14.055453Z"
    }
   },
   "cell_type": "code",
   "source": [
    "mappings_file_small = \"./_input/mappings/\" + small + \".json\"\n",
    "mappings_file_big = \"./_input/mappings/\" + big + \".json\"\n",
    "\n",
    "node_embeddings_small_file = \"./_input/node_embeddings/\" + embeddings + \"/\" + small + \".json\"\n",
    "node_embeddings_big_file = \"./_input/node_embeddings/\" + embeddings + \"/\" + big + \".json\"\n",
    "\n",
    "neig_embeddings_small_file = \"./_input/neighborhood_embeddings/\" + embeddings + \"/\" + small + \".json\"\n",
    "neig_embeddings_big_file = \"./_input/neighborhood_embeddings/\" + embeddings + \"/\" + big + \".json\"\n",
    "\n",
    "exact_match_file = \"./_input/exact_match/\" + big + \"-\" + small + \".json\"\n",
    "gold_pairs_file = \"./_input/gold_pairs/\" + big + \"-\" + small + \".txt\""
   ],
   "id": "9b4a6dcbcf0757b2",
   "outputs": [],
   "execution_count": 3
  },
  {
   "metadata": {
    "ExecuteTime": {
     "end_time": "2025-07-02T20:59:47.980003Z",
     "start_time": "2025-07-02T20:59:14.069549Z"
    }
   },
   "cell_type": "code",
   "source": [
    "with open(mappings_file_small) as file:\n",
    "    mappings_small = json.load(file)\n",
    "    mappings_small = {str(v): k for k, v in mappings_small.items()}\n",
    "\n",
    "with open(mappings_file_big) as file:\n",
    "    mappings_big = json.load(file)\n",
    "    mappings_big = {str(v): k for k, v in mappings_big.items()}\n",
    "\n",
    "with open(node_embeddings_small_file) as nesf:\n",
    "    node_embeddings_small = json.load(nesf)\n",
    "\n",
    "with open(node_embeddings_big_file) as nebf:\n",
    "    node_embeddings_big = json.load(nebf)\n",
    "\n",
    "with open(neig_embeddings_small_file) as nesf:\n",
    "    neig_embeddings_small = json.load(nesf)\n",
    "\n",
    "with open(neig_embeddings_big_file) as nebf:\n",
    "    neig_embeddings_big = json.load(nebf)\n",
    "\n",
    "with open(gold_pairs_file) as gpf:\n",
    "    gold_pairs = []\n",
    "    for line in gpf:\n",
    "        numbers_list = [int(num) for num in line.strip().split(\";\")]\n",
    "        gold_pairs.append(numbers_list)\n",
    "\n",
    "with open(exact_match_file) as file:\n",
    "    exact_match = json.load(file)"
   ],
   "id": "f12028cb602403d2",
   "outputs": [],
   "execution_count": 4
  },
  {
   "metadata": {
    "ExecuteTime": {
     "end_time": "2025-07-02T20:59:48.529073Z",
     "start_time": "2025-07-02T20:59:48.025925Z"
    }
   },
   "cell_type": "code",
   "source": [
    "gold_exact = list()\n",
    "gold_not_exact = list()\n",
    "\n",
    "for p in gold_pairs:\n",
    "    if [p[0], p[1]] in exact_match:\n",
    "        gold_exact.append([p[0], p[1]])\n",
    "    else:\n",
    "        gold_not_exact.append([p[0], p[1]])\n",
    "\n",
    "mappings_small_reversed = {v: k for k, v in mappings_small.items()}\n",
    "mappings_big_reversed = {v: k for k, v in mappings_big.items()}\n",
    "\n",
    "node_embeddings_small_list = list()\n",
    "node_ids_small_list = list()\n",
    "node_embeddings_big_list = list()\n",
    "node_ids_big_list = list()\n",
    "\n",
    "for k, v in node_embeddings_small.items():\n",
    "    node_ids_small_list.append(mappings_small_reversed[k])\n",
    "    node_embeddings_small_list.append(v)\n",
    "\n",
    "for k, v in node_embeddings_big.items():\n",
    "    node_ids_big_list.append(mappings_big_reversed[k])\n",
    "    node_embeddings_big_list.append(v)"
   ],
   "id": "1bf3506ebe7eda",
   "outputs": [],
   "execution_count": 5
  },
  {
   "metadata": {
    "ExecuteTime": {
     "end_time": "2025-07-02T21:00:01.661303Z",
     "start_time": "2025-07-02T20:59:49.084687Z"
    }
   },
   "cell_type": "code",
   "source": [
    "tensor_small = torch.Tensor(node_embeddings_small_list)\n",
    "tensor_big = torch.Tensor(node_embeddings_big_list)\n",
    "node_order = util.semantic_search(tensor_small, tensor_big, top_k=100)"
   ],
   "id": "9bd58c97a518bffb",
   "outputs": [],
   "execution_count": 6
  },
  {
   "metadata": {
    "ExecuteTime": {
     "end_time": "2025-07-02T21:00:02.522978Z",
     "start_time": "2025-07-02T21:00:02.080271Z"
    }
   },
   "cell_type": "code",
   "source": [
    "top100dict = dict()\n",
    "for idx, (node_id, order) in enumerate(zip(node_ids_small_list, node_order)):\n",
    "    items_list = list()\n",
    "    for item in order:\n",
    "        items_list.append((node_ids_big_list[item['corpus_id']], item['score']))\n",
    "    top100dict[node_id] = items_list"
   ],
   "id": "3c7c4a5d23889fad",
   "outputs": [],
   "execution_count": 7
  },
  {
   "metadata": {
    "ExecuteTime": {
     "end_time": "2025-07-02T21:15:58.638508Z",
     "start_time": "2025-07-02T21:14:05.060834Z"
    }
   },
   "cell_type": "code",
   "source": [
    "node_sim_weight = 1\n",
    "neig_sim_weight = 0.2\n",
    "\n",
    "top100dict_reordered = dict()\n",
    "for k, v in tqdm(top100dict.items()):\n",
    "    # print(mappings_small[k])\n",
    "    # print(\"-----\")\n",
    "    try:\n",
    "        embedding1 = neig_embeddings_small[k]\n",
    "    except KeyError:\n",
    "        continue\n",
    "\n",
    "    items_list = list()\n",
    "    for item in v:\n",
    "        try:\n",
    "            embedding2 = neig_embeddings_big[item[0]]\n",
    "            cosine_sim = np.dot(embedding1, embedding2)\n",
    "            new_value = float(node_sim_weight * item[1] + neig_sim_weight * cosine_sim)\n",
    "            items_list.append((item[0], new_value))\n",
    "            # print(mappings_big[item[0]])\n",
    "            # print(item[1], \"+\", cosine_sim, \"=\", new_value)\n",
    "        except KeyError:\n",
    "            items_list.append(item)\n",
    "            continue\n",
    "\n",
    "    top100dict_reordered[k] = items_list"
   ],
   "id": "d5b7d15c0edfc44e",
   "outputs": [
    {
     "name": "stderr",
     "output_type": "stream",
     "text": [
      "100%|██████████| 15514/15514 [01:53<00:00, 136.82it/s]\n"
     ]
    }
   ],
   "execution_count": 16
  },
  {
   "metadata": {
    "ExecuteTime": {
     "end_time": "2025-07-02T21:17:09.208729Z",
     "start_time": "2025-07-02T21:17:08.942791Z"
    }
   },
   "cell_type": "code",
   "source": [
    "for key in top100dict_reordered:\n",
    "    top100dict_reordered[key] = sorted(top100dict_reordered[key], key=lambda x: x[1], reverse=True)"
   ],
   "id": "6f4fe63fa78239a7",
   "outputs": [],
   "execution_count": 17
  },
  {
   "metadata": {
    "ExecuteTime": {
     "end_time": "2025-07-02T21:17:09.950712Z",
     "start_time": "2025-07-02T21:17:09.852961Z"
    }
   },
   "cell_type": "code",
   "source": [
    "print(\"############### SETTINGS ################\")\n",
    "print(\"From:            \" + small)\n",
    "print(\"To:              \" + big)\n",
    "print(\"Embeddings:      \" + embeddings)\n",
    "\n",
    "print(\"############ ALL GOLD PAIRS #############\")\n",
    "print(\"Count:           \" + str(len(gold_pairs)))\n",
    "\n",
    "found = 0\n",
    "all_pairs = len(gold_pairs)\n",
    "# for gold_pair in tqdm(gold_pairs):\n",
    "for gold_pair in gold_pairs:\n",
    "    for i in range(0, 100):\n",
    "        if top100dict.get(str(gold_pair[1]))[i][0] == str(gold_pair[0]):\n",
    "            found += 1\n",
    "            break\n",
    "print(\"In Top 100:      \" + str(found) + \" (\" + f\"{found / all_pairs * 100:.5f}\" + \"%)\")\n",
    "\n",
    "found = 0\n",
    "all_pairs = len(gold_pairs)\n",
    "# for gold_pair in tqdm(gold_pairs):\n",
    "for gold_pair in gold_pairs:\n",
    "    for i in range(0, 10):\n",
    "        if top100dict.get(str(gold_pair[1]))[i][0] == str(gold_pair[0]):\n",
    "            found += 1\n",
    "            break\n",
    "print(\"In Top 10:       \" + str(found) + \" (\" + f\"{found / all_pairs * 100:.5f}\" + \"%)\")\n",
    "\n",
    "found = 0\n",
    "all_pairs = len(gold_pairs)\n",
    "# for gold_pair in tqdm(gold_pairs):\n",
    "for gold_pair in gold_pairs:\n",
    "    if top100dict.get(str(gold_pair[1]))[0][0] == str(gold_pair[0]):\n",
    "        found += 1\n",
    "print(\"Top 1:           \" + str(found) + \" (\" + f\"{found / all_pairs * 100:.5f}\" + \"%)\")\n",
    "\n",
    "found = 0\n",
    "all_pairs = len(gold_pairs)\n",
    "# for gold_pair in tqdm(gold_pairs):\n",
    "for gold_pair in gold_pairs:\n",
    "    if str(gold_pair[1]) not in top100dict_reordered:\n",
    "        continue\n",
    "    if top100dict_reordered.get(str(gold_pair[1]))[0][0] == str(gold_pair[0]):\n",
    "        found += 1\n",
    "print(\"Reordered:       \" + str(found) + \" (\" + f\"{found / all_pairs * 100:.5f}\" + \"%)\")\n",
    "\n",
    "print(\"############## EXACT MATCH ##############\")\n",
    "print(\"Count:           \" + str(len(gold_exact)))\n",
    "\n",
    "found = 0\n",
    "all_pairs = len(gold_exact)\n",
    "# for gold_pair in tqdm(gold_exact):\n",
    "for gold_pair in gold_exact:\n",
    "    for i in range(0, 100):\n",
    "        if top100dict.get(str(gold_pair[1]))[i][0] == str(gold_pair[0]):\n",
    "            found += 1\n",
    "            break\n",
    "print(\"In Top 100:      \" + str(found) + \" (\" + f\"{found / all_pairs * 100:.5f}\" + \"%)\")\n",
    "\n",
    "found = 0\n",
    "all_pairs = len(gold_exact)\n",
    "# for gold_pair in tqdm(gold_exact):\n",
    "for gold_pair in gold_exact:\n",
    "    for i in range(0, 10):\n",
    "        if top100dict.get(str(gold_pair[1]))[i][0] == str(gold_pair[0]):\n",
    "            found += 1\n",
    "            break\n",
    "print(\"In Top 10:       \" + str(found) + \" (\" + f\"{found / all_pairs * 100:.5f}\" + \"%)\")\n",
    "\n",
    "found = 0\n",
    "all_pairs = len(gold_exact)\n",
    "# for gold_pair in tqdm(gold_exact):\n",
    "for gold_pair in gold_exact:\n",
    "    if top100dict.get(str(gold_pair[1]))[0][0] == str(gold_pair[0]):\n",
    "        found += 1\n",
    "print(\"Top 1:           \" + str(found) + \" (\" + f\"{found / all_pairs * 100:.5f}\" + \"%)\")\n",
    "\n",
    "found = 0\n",
    "all_pairs = len(gold_exact)\n",
    "# for gold_pair in tqdm(gold_exact):\n",
    "for gold_pair in gold_exact:\n",
    "    if str(gold_pair[1]) not in top100dict_reordered:\n",
    "        continue\n",
    "    if top100dict_reordered.get(str(gold_pair[1]))[0][0] == str(gold_pair[0]):\n",
    "        found += 1\n",
    "print(\"Reordered:       \" + str(found) + \" (\" + f\"{found / all_pairs * 100:.5f}\" + \"%)\")\n",
    "\n",
    "print(\"############ NOT EXACT MATCH ############\")\n",
    "print(\"Count:           \" + str(len(gold_not_exact)))\n",
    "\n",
    "found = 0\n",
    "all_pairs = len(gold_not_exact)\n",
    "# for gold_pair in tqdm(gold_not_exact):\n",
    "for gold_pair in gold_not_exact:\n",
    "    for i in range(0, 100):\n",
    "        if top100dict.get(str(gold_pair[1]))[i][0] == str(gold_pair[0]):\n",
    "            found += 1\n",
    "            break\n",
    "print(\"In Top 100:      \" + str(found) + \" (\" + f\"{found / all_pairs * 100:.5f}\" + \"%)\")\n",
    "\n",
    "found = 0\n",
    "all_pairs = len(gold_not_exact)\n",
    "# for gold_pair in tqdm(gold_not_exact):\n",
    "for gold_pair in gold_not_exact:\n",
    "    for i in range(0, 10):\n",
    "        if top100dict.get(str(gold_pair[1]))[i][0] == str(gold_pair[0]):\n",
    "            found += 1\n",
    "            break\n",
    "print(\"In Top 10:       \" + str(found) + \" (\" + f\"{found / all_pairs * 100:.5f}\" + \"%)\")\n",
    "\n",
    "found = 0\n",
    "all_pairs = len(gold_not_exact)\n",
    "# for gold_pair in tqdm(gold_not_exact):\n",
    "for gold_pair in gold_not_exact:\n",
    "    if top100dict.get(str(gold_pair[1]))[0][0] == str(gold_pair[0]):\n",
    "        found += 1\n",
    "print(\"Top 1:           \" + str(found) + \" (\" + f\"{found / all_pairs * 100:.5f}\" + \"%)\")\n",
    "\n",
    "found = 0\n",
    "all_pairs = len(gold_not_exact)\n",
    "# for gold_pair in tqdm(gold_not_exact):\n",
    "for gold_pair in gold_not_exact:\n",
    "    if str(gold_pair[1]) not in top100dict_reordered:\n",
    "        continue\n",
    "    if top100dict_reordered.get(str(gold_pair[1]))[0][0] == str(gold_pair[0]):\n",
    "        found += 1\n",
    "print(\"Reordered:       \" + str(found) + \" (\" + f\"{found / all_pairs * 100:.5f}\" + \"%)\")"
   ],
   "id": "64fec82258ebe704",
   "outputs": [
    {
     "name": "stdout",
     "output_type": "stream",
     "text": [
      "############### SETTINGS ################\n",
      "From:            stexpanded\n",
      "To:              memoryalpha\n",
      "Embeddings:      dogtag_bgelarge\n",
      "############ ALL GOLD PAIRS #############\n",
      "Count:           1779\n",
      "In Top 100:      1732 (97.35807%)\n",
      "In Top 10:       1672 (93.98539%)\n",
      "Top 1:           1474 (82.85554%)\n",
      "Reordered:       1438 (80.83193%)\n",
      "############## EXACT MATCH ##############\n",
      "Count:           1617\n",
      "In Top 100:      1581 (97.77365%)\n",
      "In Top 10:       1534 (94.86704%)\n",
      "Top 1:           1370 (84.72480%)\n",
      "Reordered:       1344 (83.11688%)\n",
      "############ NOT EXACT MATCH ############\n",
      "Count:           162\n",
      "In Top 100:      151 (93.20988%)\n",
      "In Top 10:       138 (85.18519%)\n",
      "Top 1:           104 (64.19753%)\n",
      "Reordered:       94 (58.02469%)\n"
     ]
    }
   ],
   "execution_count": 18
  },
  {
   "metadata": {},
   "cell_type": "code",
   "source": "",
   "id": "31f47c529f5212f3",
   "outputs": [],
   "execution_count": null
  }
 ],
 "metadata": {
  "kernelspec": {
   "display_name": "Python 3",
   "language": "python",
   "name": "python3"
  },
  "language_info": {
   "codemirror_mode": {
    "name": "ipython",
    "version": 2
   },
   "file_extension": ".py",
   "mimetype": "text/x-python",
   "name": "python",
   "nbconvert_exporter": "python",
   "pygments_lexer": "ipython2",
   "version": "2.7.6"
  }
 },
 "nbformat": 4,
 "nbformat_minor": 5
}
