{
 "cells": [
  {
   "cell_type": "code",
   "id": "initial_id",
   "metadata": {
    "collapsed": true,
    "ExecuteTime": {
     "end_time": "2025-07-01T16:32:24.056295Z",
     "start_time": "2025-07-01T16:32:20.161995Z"
    }
   },
   "source": [
    "import json\n",
    "from tqdm import tqdm\n",
    "import torch\n",
    "from sentence_transformers import util\n",
    "import numpy as np"
   ],
   "outputs": [],
   "execution_count": 1
  },
  {
   "metadata": {
    "ExecuteTime": {
     "end_time": "2025-07-01T16:32:24.169763Z",
     "start_time": "2025-07-01T16:32:24.167406Z"
    }
   },
   "cell_type": "code",
   "source": [
    "big = \"memoryalpha\"\n",
    "small = \"stexpanded\"\n",
    "embeddings = \"dogtag_bgelarge\""
   ],
   "id": "d87649d0a3987683",
   "outputs": [],
   "execution_count": 2
  },
  {
   "metadata": {
    "ExecuteTime": {
     "end_time": "2025-07-01T16:32:24.202132Z",
     "start_time": "2025-07-01T16:32:24.199442Z"
    }
   },
   "cell_type": "code",
   "source": [
    "mappings_file_small = \"./_input/mappings/\" + small + \".json\"\n",
    "mappings_file_big = \"./_input/mappings/\" + big + \".json\"\n",
    "\n",
    "node_embeddings_small_file = \"./_input/node_embeddings/\" + embeddings + \"/\" + small + \".json\"\n",
    "node_embeddings_big_file = \"./_input/node_embeddings/\" + embeddings + \"/\" + big + \".json\"\n",
    "\n",
    "neig_embeddings_small_file = \"./_input/neighborhood_embeddings/\" + embeddings + \"/\" + small + \".json\"\n",
    "neig_embeddings_big_file = \"./_input/neighborhood_embeddings/\" + embeddings + \"/\" + big + \".json\"\n",
    "\n",
    "exact_match_file = \"./_input/exact_match/\" + big + \"-\" + small + \".json\"\n",
    "gold_pairs_file = \"./_input/gold_pairs/\" + big + \"-\" + small + \".txt\""
   ],
   "id": "9b4a6dcbcf0757b2",
   "outputs": [],
   "execution_count": 3
  },
  {
   "metadata": {
    "ExecuteTime": {
     "end_time": "2025-07-01T16:33:14.346329Z",
     "start_time": "2025-07-01T16:32:24.210581Z"
    }
   },
   "cell_type": "code",
   "source": [
    "with open(mappings_file_small) as file:\n",
    "    mappings_small = json.load(file)\n",
    "    mappings_small = {str(v): k for k, v in mappings_small.items()}\n",
    "\n",
    "with open(mappings_file_big) as file:\n",
    "    mappings_big = json.load(file)\n",
    "    mappings_big = {str(v): k for k, v in mappings_big.items()}\n",
    "\n",
    "with open(node_embeddings_small_file) as nesf:\n",
    "    node_embeddings_small = json.load(nesf)\n",
    "\n",
    "with open(node_embeddings_big_file) as nebf:\n",
    "    node_embeddings_big = json.load(nebf)\n",
    "\n",
    "with open(neig_embeddings_small_file) as nesf:\n",
    "    neig_embeddings_small = json.load(nesf)\n",
    "\n",
    "with open(neig_embeddings_big_file) as nebf:\n",
    "    neig_embeddings_big = json.load(nebf)\n",
    "\n",
    "with open(gold_pairs_file) as gpf:\n",
    "    gold_pairs = []\n",
    "    for line in gpf:\n",
    "        numbers_list = [int(num) for num in line.strip().split(\";\")]\n",
    "        gold_pairs.append(numbers_list)\n",
    "\n",
    "with open(exact_match_file) as file:\n",
    "    exact_match = json.load(file)"
   ],
   "id": "f12028cb602403d2",
   "outputs": [],
   "execution_count": 4
  },
  {
   "metadata": {
    "ExecuteTime": {
     "end_time": "2025-07-01T16:33:14.938166Z",
     "start_time": "2025-07-01T16:33:14.526987Z"
    }
   },
   "cell_type": "code",
   "source": [
    "gold_exact = list()\n",
    "gold_not_exact = list()\n",
    "\n",
    "for p in gold_pairs:\n",
    "    if [p[0], p[1]] in exact_match:\n",
    "        gold_exact.append([p[0], p[1]])\n",
    "    else:\n",
    "        gold_not_exact.append([p[0], p[1]])\n",
    "\n",
    "mappings_small_reversed = {v: k for k, v in mappings_small.items()}\n",
    "mappings_big_reversed = {v: k for k, v in mappings_big.items()}\n",
    "\n",
    "node_embeddings_small_list = list()\n",
    "node_ids_small_list = list()\n",
    "node_embeddings_big_list = list()\n",
    "node_ids_big_list = list()\n",
    "\n",
    "for k, v in node_embeddings_small.items():\n",
    "    node_ids_small_list.append(mappings_small_reversed[k])\n",
    "    node_embeddings_small_list.append(v)\n",
    "\n",
    "for k, v in node_embeddings_big.items():\n",
    "    node_ids_big_list.append(mappings_big_reversed[k])\n",
    "    node_embeddings_big_list.append(v)"
   ],
   "id": "1bf3506ebe7eda",
   "outputs": [],
   "execution_count": 5
  },
  {
   "metadata": {
    "ExecuteTime": {
     "end_time": "2025-07-01T16:33:31.783059Z",
     "start_time": "2025-07-01T16:33:15.488613Z"
    }
   },
   "cell_type": "code",
   "source": [
    "tensor_small = torch.Tensor(node_embeddings_small_list)\n",
    "tensor_big = torch.Tensor(node_embeddings_big_list)\n",
    "node_order = util.semantic_search(tensor_small, tensor_big, top_k=100)"
   ],
   "id": "9bd58c97a518bffb",
   "outputs": [],
   "execution_count": 6
  },
  {
   "metadata": {
    "ExecuteTime": {
     "end_time": "2025-07-01T16:33:32.650107Z",
     "start_time": "2025-07-01T16:33:32.221316Z"
    }
   },
   "cell_type": "code",
   "source": [
    "top100dict = dict()\n",
    "for idx, (node_id, order) in enumerate(zip(node_ids_small_list, node_order)):\n",
    "    items_list = list()\n",
    "    for item in order:\n",
    "        items_list.append((node_ids_big_list[item['corpus_id']], item['score']))\n",
    "    top100dict[node_id] = items_list"
   ],
   "id": "3c7c4a5d23889fad",
   "outputs": [],
   "execution_count": 7
  },
  {
   "metadata": {
    "ExecuteTime": {
     "end_time": "2025-07-01T16:33:56.653990Z",
     "start_time": "2025-07-01T16:33:32.934925Z"
    }
   },
   "cell_type": "code",
   "source": [
    "node_sim_weight = 1\n",
    "neig_sim_weight = 0.2\n",
    "\n",
    "top100dict_reordered = dict()\n",
    "for k, v in tqdm(top100dict.items()):\n",
    "    # print(mappings_small[k])\n",
    "    # print(\"-----\")\n",
    "    embedding1 = neig_embeddings_small[k]\n",
    "    items_list = list()\n",
    "    for item in v:\n",
    "        embedding2 = neig_embeddings_big[item[0]]\n",
    "        cosine_sim = np.dot(embedding1, embedding2)\n",
    "        new_value = float(cosine_sim)\n",
    "        items_list.append((item[0], new_value))\n",
    "        # print(mappings_big[item[0]])\n",
    "        # print(item[1], \"+\", cosine_sim, \"=\", new_value)\n",
    "    top100dict_reordered[k] = items_list"
   ],
   "id": "d5b7d15c0edfc44e",
   "outputs": [
    {
     "name": "stderr",
     "output_type": "stream",
     "text": [
      "  1%|          | 154/15514 [00:03<05:23, 47.48it/s]\n"
     ]
    },
    {
     "ename": "KeyError",
     "evalue": "'239428'",
     "output_type": "error",
     "traceback": [
      "\u001B[0;31m---------------------------------------------------------------------------\u001B[0m",
      "\u001B[0;31mKeyError\u001B[0m                                  Traceback (most recent call last)",
      "Cell \u001B[0;32mIn[8], line 11\u001B[0m\n\u001B[1;32m      9\u001B[0m items_list \u001B[38;5;241m=\u001B[39m \u001B[38;5;28mlist\u001B[39m()\n\u001B[1;32m     10\u001B[0m \u001B[38;5;28;01mfor\u001B[39;00m item \u001B[38;5;129;01min\u001B[39;00m v:\n\u001B[0;32m---> 11\u001B[0m     embedding2 \u001B[38;5;241m=\u001B[39m \u001B[43mneig_embeddings_big\u001B[49m\u001B[43m[\u001B[49m\u001B[43mitem\u001B[49m\u001B[43m[\u001B[49m\u001B[38;5;241;43m0\u001B[39;49m\u001B[43m]\u001B[49m\u001B[43m]\u001B[49m\n\u001B[1;32m     12\u001B[0m     cosine_sim \u001B[38;5;241m=\u001B[39m np\u001B[38;5;241m.\u001B[39mdot(embedding1, embedding2)\n\u001B[1;32m     13\u001B[0m     new_value \u001B[38;5;241m=\u001B[39m \u001B[38;5;28mfloat\u001B[39m(cosine_sim)\n",
      "\u001B[0;31mKeyError\u001B[0m: '239428'"
     ]
    }
   ],
   "execution_count": 8
  },
  {
   "metadata": {
    "ExecuteTime": {
     "end_time": "2025-07-01T16:33:57.016677Z",
     "start_time": "2025-06-30T22:01:59.047887Z"
    }
   },
   "cell_type": "code",
   "source": [
    "for key in top100dict_reordered:\n",
    "    top100dict_reordered[key] = sorted(top100dict_reordered[key], key=lambda x: x[1], reverse=True)"
   ],
   "id": "6f4fe63fa78239a7",
   "outputs": [],
   "execution_count": 46
  },
  {
   "metadata": {
    "ExecuteTime": {
     "end_time": "2025-07-01T16:33:57.038466Z",
     "start_time": "2025-06-30T22:01:59.599894Z"
    }
   },
   "cell_type": "code",
   "source": [
    "print(\"############### SETTINGS ################\")\n",
    "print(\"From:            \" + small)\n",
    "print(\"To:              \" + big)\n",
    "print(\"Embeddings:      \" + embeddings)\n",
    "\n",
    "print(\"############ ALL GOLD PAIRS #############\")\n",
    "print(\"Count:           \" + str(len(gold_pairs)))\n",
    "\n",
    "found = 0\n",
    "all_pairs = len(gold_pairs)\n",
    "# for gold_pair in tqdm(gold_pairs):\n",
    "for gold_pair in gold_pairs:\n",
    "    for i in range(0, 100):\n",
    "        if top100dict.get(str(gold_pair[1]))[i][0] == str(gold_pair[0]):\n",
    "            found += 1\n",
    "            break\n",
    "print(\"In Top 100:      \" + str(found) + \" (\" + f\"{found / all_pairs * 100:.5f}\" + \"%)\")\n",
    "\n",
    "found = 0\n",
    "all_pairs = len(gold_pairs)\n",
    "# for gold_pair in tqdm(gold_pairs):\n",
    "for gold_pair in gold_pairs:\n",
    "    for i in range(0, 10):\n",
    "        if top100dict.get(str(gold_pair[1]))[i][0] == str(gold_pair[0]):\n",
    "            found += 1\n",
    "            break\n",
    "print(\"In Top 10:       \" + str(found) + \" (\" + f\"{found / all_pairs * 100:.5f}\" + \"%)\")\n",
    "\n",
    "found = 0\n",
    "all_pairs = len(gold_pairs)\n",
    "# for gold_pair in tqdm(gold_pairs):\n",
    "for gold_pair in gold_pairs:\n",
    "    if top100dict.get(str(gold_pair[1]))[0][0] == str(gold_pair[0]):\n",
    "        found += 1\n",
    "print(\"Top 1:           \" + str(found) + \" (\" + f\"{found / all_pairs * 100:.5f}\" + \"%)\")\n",
    "\n",
    "found = 0\n",
    "all_pairs = len(gold_pairs)\n",
    "# for gold_pair in tqdm(gold_pairs):\n",
    "for gold_pair in gold_pairs:\n",
    "    if top100dict_reordered.get(str(gold_pair[1]))[0][0] == str(gold_pair[0]):\n",
    "        found += 1\n",
    "print(\"Reordered:       \" + str(found) + \" (\" + f\"{found / all_pairs * 100:.5f}\" + \"%)\")\n",
    "\n",
    "print(\"############## EXACT MATCH ##############\")\n",
    "print(\"Count:           \" + str(len(gold_exact)))\n",
    "\n",
    "found = 0\n",
    "all_pairs = len(gold_exact)\n",
    "# for gold_pair in tqdm(gold_exact):\n",
    "for gold_pair in gold_exact:\n",
    "    for i in range(0, 100):\n",
    "        if top100dict.get(str(gold_pair[1]))[i][0] == str(gold_pair[0]):\n",
    "            found += 1\n",
    "            break\n",
    "print(\"In Top 100:      \" + str(found) + \" (\" + f\"{found / all_pairs * 100:.5f}\" + \"%)\")\n",
    "\n",
    "found = 0\n",
    "all_pairs = len(gold_exact)\n",
    "# for gold_pair in tqdm(gold_exact):\n",
    "for gold_pair in gold_exact:\n",
    "    for i in range(0, 10):\n",
    "        if top100dict.get(str(gold_pair[1]))[i][0] == str(gold_pair[0]):\n",
    "            found += 1\n",
    "            break\n",
    "print(\"In Top 10:       \" + str(found) + \" (\" + f\"{found / all_pairs * 100:.5f}\" + \"%)\")\n",
    "\n",
    "found = 0\n",
    "all_pairs = len(gold_exact)\n",
    "# for gold_pair in tqdm(gold_exact):\n",
    "for gold_pair in gold_exact:\n",
    "    if top100dict.get(str(gold_pair[1]))[0][0] == str(gold_pair[0]):\n",
    "        found += 1\n",
    "print(\"Top 1:           \" + str(found) + \" (\" + f\"{found / all_pairs * 100:.5f}\" + \"%)\")\n",
    "\n",
    "found = 0\n",
    "all_pairs = len(gold_exact)\n",
    "# for gold_pair in tqdm(gold_exact):\n",
    "for gold_pair in gold_exact:\n",
    "    if top100dict_reordered.get(str(gold_pair[1]))[0][0] == str(gold_pair[0]):\n",
    "        found += 1\n",
    "print(\"Reordered:       \" + str(found) + \" (\" + f\"{found / all_pairs * 100:.5f}\" + \"%)\")\n",
    "\n",
    "print(\"############ NOT EXACT MATCH ############\")\n",
    "print(\"Count:           \" + str(len(gold_not_exact)))\n",
    "\n",
    "found = 0\n",
    "all_pairs = len(gold_not_exact)\n",
    "# for gold_pair in tqdm(gold_not_exact):\n",
    "for gold_pair in gold_not_exact:\n",
    "    for i in range(0, 100):\n",
    "        if top100dict.get(str(gold_pair[1]))[i][0] == str(gold_pair[0]):\n",
    "            found += 1\n",
    "            break\n",
    "print(\"In Top 100:      \" + str(found) + \" (\" + f\"{found / all_pairs * 100:.5f}\" + \"%)\")\n",
    "\n",
    "found = 0\n",
    "all_pairs = len(gold_not_exact)\n",
    "# for gold_pair in tqdm(gold_not_exact):\n",
    "for gold_pair in gold_not_exact:\n",
    "    for i in range(0, 10):\n",
    "        if top100dict.get(str(gold_pair[1]))[i][0] == str(gold_pair[0]):\n",
    "            found += 1\n",
    "            break\n",
    "print(\"In Top 10:       \" + str(found) + \" (\" + f\"{found / all_pairs * 100:.5f}\" + \"%)\")\n",
    "\n",
    "found = 0\n",
    "all_pairs = len(gold_not_exact)\n",
    "# for gold_pair in tqdm(gold_not_exact):\n",
    "for gold_pair in gold_not_exact:\n",
    "    if top100dict.get(str(gold_pair[1]))[0][0] == str(gold_pair[0]):\n",
    "        found += 1\n",
    "print(\"Top 1:           \" + str(found) + \" (\" + f\"{found / all_pairs * 100:.5f}\" + \"%)\")\n",
    "\n",
    "found = 0\n",
    "all_pairs = len(gold_not_exact)\n",
    "# for gold_pair in tqdm(gold_not_exact):\n",
    "for gold_pair in gold_not_exact:\n",
    "    if top100dict_reordered.get(str(gold_pair[1]))[0][0] == str(gold_pair[0]):\n",
    "        found += 1\n",
    "print(\"Reordered:       \" + str(found) + \" (\" + f\"{found / all_pairs * 100:.5f}\" + \"%)\")"
   ],
   "id": "64fec82258ebe704",
   "outputs": [
    {
     "name": "stdout",
     "output_type": "stream",
     "text": [
      "############### SETTINGS ################\n",
      "From:            stexpanded\n",
      "To:              memoryalpha\n",
      "Embeddings:      dogtag_bgelarge\n",
      "############ ALL GOLD PAIRS #############\n",
      "Count:           1779\n",
      "In Top 100:      1732 (97.35807%)\n",
      "In Top 10:       1672 (93.98539%)\n",
      "Top 1:           1474 (82.85554%)\n",
      "Reordered:       1460 (82.06858%)\n",
      "############## EXACT MATCH ##############\n",
      "Count:           1617\n",
      "In Top 100:      1581 (97.77365%)\n",
      "In Top 10:       1534 (94.86704%)\n",
      "Top 1:           1370 (84.72480%)\n",
      "Reordered:       1358 (83.98268%)\n",
      "############ NOT EXACT MATCH ############\n",
      "Count:           162\n",
      "In Top 100:      151 (93.20988%)\n",
      "In Top 10:       138 (85.18519%)\n",
      "Top 1:           104 (64.19753%)\n",
      "Reordered:       102 (62.96296%)\n"
     ]
    }
   ],
   "execution_count": 47
  },
  {
   "metadata": {
    "ExecuteTime": {
     "end_time": "2025-07-01T16:33:57.042615Z",
     "start_time": "2025-06-30T15:47:54.514867Z"
    }
   },
   "cell_type": "code",
   "source": "",
   "id": "31f47c529f5212f3",
   "outputs": [],
   "execution_count": null
  }
 ],
 "metadata": {
  "kernelspec": {
   "display_name": "Python 3",
   "language": "python",
   "name": "python3"
  },
  "language_info": {
   "codemirror_mode": {
    "name": "ipython",
    "version": 2
   },
   "file_extension": ".py",
   "mimetype": "text/x-python",
   "name": "python",
   "nbconvert_exporter": "python",
   "pygments_lexer": "ipython2",
   "version": "2.7.6"
  }
 },
 "nbformat": 4,
 "nbformat_minor": 5
}
