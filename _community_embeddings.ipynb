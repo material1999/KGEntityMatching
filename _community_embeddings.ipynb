{
 "cells": [
  {
   "metadata": {
    "ExecuteTime": {
     "end_time": "2025-04-28T13:09:55.589758Z",
     "start_time": "2025-04-28T13:09:55.583688Z"
    }
   },
   "cell_type": "code",
   "source": [
    "import pandas as pd\n",
    "import numpy as np\n",
    "import json"
   ],
   "id": "85f764466cbf47c8",
   "outputs": [],
   "execution_count": 12
  },
  {
   "metadata": {
    "ExecuteTime": {
     "end_time": "2025-04-28T13:09:55.646832Z",
     "start_time": "2025-04-28T13:09:55.639819Z"
    }
   },
   "cell_type": "code",
   "source": [
    "graph = \"memoryalpha\"\n",
    "embeddings = \"dogtag_bgelarge\"\n",
    "communities = \"leiden\""
   ],
   "id": "e81312008d046faa",
   "outputs": [],
   "execution_count": 13
  },
  {
   "cell_type": "code",
   "id": "initial_id",
   "metadata": {
    "collapsed": true,
    "ExecuteTime": {
     "end_time": "2025-04-28T13:09:55.674857Z",
     "start_time": "2025-04-28T13:09:55.672943Z"
    }
   },
   "source": [
    "embeddings_file = \"./_input/node_embeddings/\" + embeddings + \"/\" + graph + \".json\"\n",
    "url_embeddings_file = \"./_input/url_embeddings/\" + graph + \".json\"\n",
    "communities_file = \"./_input/communities/\" + communities + \"/\" + graph + \".txt\"\n",
    "community_embeddings_file = \"./_input/community_embeddings/\" + communities + \"_\" + embeddings + \"/\" + graph + \".json\""
   ],
   "outputs": [],
   "execution_count": 14
  },
  {
   "metadata": {
    "ExecuteTime": {
     "end_time": "2025-04-28T13:10:08.291511Z",
     "start_time": "2025-04-28T13:09:55.702750Z"
    }
   },
   "cell_type": "code",
   "source": [
    "df = pd.read_json(embeddings_file)\n",
    "df_T = df.T"
   ],
   "id": "9e5a0e603483f68c",
   "outputs": [],
   "execution_count": 15
  },
  {
   "metadata": {
    "ExecuteTime": {
     "end_time": "2025-04-28T13:10:08.327290Z",
     "start_time": "2025-04-28T13:10:08.325630Z"
    }
   },
   "cell_type": "code",
   "source": "# df_T",
   "id": "b3f8826b1c5ddec8",
   "outputs": [],
   "execution_count": 16
  },
  {
   "metadata": {
    "ExecuteTime": {
     "end_time": "2025-04-28T13:10:08.367377Z",
     "start_time": "2025-04-28T13:10:08.365960Z"
    }
   },
   "cell_type": "code",
   "source": "# df_T.loc[0]",
   "id": "faace089b981015",
   "outputs": [],
   "execution_count": 17
  },
  {
   "metadata": {
    "ExecuteTime": {
     "end_time": "2025-04-28T13:10:33.869282Z",
     "start_time": "2025-04-28T13:10:08.405756Z"
    }
   },
   "cell_type": "code",
   "source": [
    "df_url = pd.read_json(url_embeddings_file)\n",
    "df_url_T = df_url.T"
   ],
   "id": "d0dab7e610981906",
   "outputs": [],
   "execution_count": 18
  },
  {
   "metadata": {
    "ExecuteTime": {
     "end_time": "2025-04-28T13:10:34.037569Z",
     "start_time": "2025-04-28T13:10:34.035461Z"
    }
   },
   "cell_type": "code",
   "source": "# df_url_T",
   "id": "a4d5644334f852e6",
   "outputs": [],
   "execution_count": 19
  },
  {
   "metadata": {
    "ExecuteTime": {
     "end_time": "2025-04-28T13:10:34.099404Z",
     "start_time": "2025-04-28T13:10:34.096819Z"
    }
   },
   "cell_type": "code",
   "source": "# df_url_T.loc[2239]",
   "id": "7b305c97199162dc",
   "outputs": [],
   "execution_count": 20
  },
  {
   "metadata": {
    "ExecuteTime": {
     "end_time": "2025-04-28T13:10:34.162079Z",
     "start_time": "2025-04-28T13:10:34.144627Z"
    }
   },
   "cell_type": "code",
   "source": [
    "communities = []\n",
    "with open(communities_file) as cbf:\n",
    "    for line in cbf:\n",
    "        numbers_set = {int(num) for num in line.strip().split(\" \")}\n",
    "        communities.append(numbers_set)"
   ],
   "id": "3a0bb2e80aec65b8",
   "outputs": [],
   "execution_count": 21
  },
  {
   "metadata": {
    "ExecuteTime": {
     "end_time": "2025-04-28T13:10:38.918849Z",
     "start_time": "2025-04-28T13:10:34.204720Z"
    }
   },
   "cell_type": "code",
   "source": [
    "community_embeddings = []\n",
    "\n",
    "for community in communities:\n",
    "\n",
    "    embeddings = []\n",
    "\n",
    "    for node in community:\n",
    "        try:\n",
    "            selected_embedding = df_T.loc[node]\n",
    "            embeddings.append(selected_embedding)\n",
    "        except KeyError:\n",
    "            try:\n",
    "                selected_embedding = df_url_T.loc[node]\n",
    "                embeddings.append(selected_embedding)\n",
    "            except KeyError:\n",
    "                print(str(node) + \" --- Key not found anywhere!\")\n",
    "\n",
    "    community_embedding = np.average(embeddings, axis=0)\n",
    "    community_embeddings.append(community_embedding)\n",
    "\n",
    "# embeddings_dict = {\n",
    "#     str(i): {str(j): val for j, val in enumerate(embedding)}\n",
    "#     for i, embedding in enumerate(community_embeddings)\n",
    "# }\n",
    "embeddings_dict = {\n",
    "    str(i): list(embedding)\n",
    "    for i, embedding in enumerate(community_embeddings)\n",
    "}\n",
    "\n",
    "with open(community_embeddings_file, \"w\") as json_file:\n",
    "    json.dump(embeddings_dict, json_file, indent=4)"
   ],
   "id": "7b1c1683ca650833",
   "outputs": [
    {
     "name": "stdout",
     "output_type": "stream",
     "text": [
      "373547 --- Key not found anywhere!\n",
      "64312 --- Key not found anywhere!\n",
      "163342 --- Key not found anywhere!\n",
      "391157 --- Key not found anywhere!\n"
     ]
    }
   ],
   "execution_count": 22
  },
  {
   "metadata": {
    "ExecuteTime": {
     "end_time": "2025-04-28T13:10:38.964477Z",
     "start_time": "2025-04-28T13:10:38.963134Z"
    }
   },
   "cell_type": "code",
   "source": "",
   "id": "46817734c22870a0",
   "outputs": [],
   "execution_count": null
  }
 ],
 "metadata": {
  "kernelspec": {
   "display_name": "Python 3",
   "language": "python",
   "name": "python3"
  },
  "language_info": {
   "codemirror_mode": {
    "name": "ipython",
    "version": 2
   },
   "file_extension": ".py",
   "mimetype": "text/x-python",
   "name": "python",
   "nbconvert_exporter": "python",
   "pygments_lexer": "ipython2",
   "version": "2.7.6"
  }
 },
 "nbformat": 4,
 "nbformat_minor": 5
}
