{
 "cells": [
  {
   "metadata": {
    "ExecuteTime": {
     "end_time": "2025-07-01T16:27:39.592854Z",
     "start_time": "2025-07-01T16:27:39.587404Z"
    }
   },
   "cell_type": "code",
   "source": [
    "import pandas as pd\n",
    "import numpy as np\n",
    "import json"
   ],
   "id": "85f764466cbf47c8",
   "outputs": [],
   "execution_count": 8
  },
  {
   "metadata": {
    "ExecuteTime": {
     "end_time": "2025-07-01T16:27:39.644226Z",
     "start_time": "2025-07-01T16:27:39.641153Z"
    }
   },
   "cell_type": "code",
   "source": [
    "graph = \"memoryalpha\"\n",
    "embeddings = \"dogtag_bgelarge\"\n",
    "communities = \"leiden\""
   ],
   "id": "e81312008d046faa",
   "outputs": [],
   "execution_count": 9
  },
  {
   "cell_type": "code",
   "id": "initial_id",
   "metadata": {
    "collapsed": true,
    "ExecuteTime": {
     "end_time": "2025-07-01T16:27:39.675036Z",
     "start_time": "2025-07-01T16:27:39.672969Z"
    }
   },
   "source": [
    "embeddings_file = \"./_input/node_embeddings/\" + embeddings + \"/\" + graph + \".json\"\n",
    "url_embeddings_file = \"./_input/url_embeddings/\" + graph + \".json\"\n",
    "communities_file = \"./_input/communities/\" + communities + \"/\" + graph + \".txt\"\n",
    "community_embeddings_file = \"./_input/community_embeddings/\" + communities + \"_\" + embeddings + \"/\" + graph + \".json\""
   ],
   "outputs": [],
   "execution_count": 10
  },
  {
   "metadata": {
    "ExecuteTime": {
     "end_time": "2025-07-01T16:27:52.360079Z",
     "start_time": "2025-07-01T16:27:39.705345Z"
    }
   },
   "cell_type": "code",
   "source": [
    "df = pd.read_json(embeddings_file)\n",
    "df_T = df.T"
   ],
   "id": "9e5a0e603483f68c",
   "outputs": [],
   "execution_count": 11
  },
  {
   "metadata": {
    "ExecuteTime": {
     "end_time": "2025-07-01T16:28:13.876013Z",
     "start_time": "2025-07-01T16:27:52.425953Z"
    }
   },
   "cell_type": "code",
   "source": [
    "df_url = pd.read_json(url_embeddings_file)\n",
    "df_url_T = df_url.T"
   ],
   "id": "d0dab7e610981906",
   "outputs": [],
   "execution_count": 12
  },
  {
   "metadata": {
    "ExecuteTime": {
     "end_time": "2025-07-01T16:28:13.975908Z",
     "start_time": "2025-07-01T16:28:13.960346Z"
    }
   },
   "cell_type": "code",
   "source": [
    "communities = []\n",
    "with open(communities_file) as cbf:\n",
    "    for line in cbf:\n",
    "        numbers_set = {int(num) for num in line.strip().split(\" \")}\n",
    "        communities.append(numbers_set)"
   ],
   "id": "3a0bb2e80aec65b8",
   "outputs": [],
   "execution_count": 13
  },
  {
   "metadata": {
    "ExecuteTime": {
     "end_time": "2025-07-01T16:28:17.176170Z",
     "start_time": "2025-07-01T16:28:14.038799Z"
    }
   },
   "cell_type": "code",
   "source": [
    "community_embeddings = []\n",
    "\n",
    "for community in communities:\n",
    "\n",
    "    embeddings = []\n",
    "\n",
    "    for node in community:\n",
    "        try:\n",
    "            selected_embedding = df_T.loc[node]\n",
    "            embeddings.append(selected_embedding)\n",
    "        except KeyError:\n",
    "            try:\n",
    "                selected_embedding = df_url_T.loc[node]\n",
    "                embeddings.append(selected_embedding)\n",
    "            except KeyError:\n",
    "                print(str(node) + \" --- Key not found anywhere!\")\n",
    "\n",
    "    community_embedding = np.average(embeddings, axis=0)\n",
    "    community_embeddings.append(community_embedding)\n",
    "\n",
    "# embeddings_dict = {\n",
    "#     str(i): {str(j): val for j, val in enumerate(embedding)}\n",
    "#     for i, embedding in enumerate(community_embeddings)\n",
    "# }\n",
    "embeddings_dict = {\n",
    "    str(i): list(embedding)\n",
    "    for i, embedding in enumerate(community_embeddings)\n",
    "}\n",
    "\n",
    "with open(community_embeddings_file, \"w\") as json_file:\n",
    "    json.dump(embeddings_dict, json_file, indent=4)"
   ],
   "id": "7b1c1683ca650833",
   "outputs": [
    {
     "name": "stdout",
     "output_type": "stream",
     "text": [
      "373547 --- Key not found anywhere!\n",
      "64312 --- Key not found anywhere!\n",
      "163342 --- Key not found anywhere!\n",
      "391157 --- Key not found anywhere!\n"
     ]
    }
   ],
   "execution_count": 14
  },
  {
   "metadata": {
    "ExecuteTime": {
     "end_time": "2025-07-01T16:28:17.187967Z",
     "start_time": "2025-07-01T16:28:17.186753Z"
    }
   },
   "cell_type": "code",
   "source": "",
   "id": "46817734c22870a0",
   "outputs": [],
   "execution_count": null
  }
 ],
 "metadata": {
  "kernelspec": {
   "display_name": "Python 3",
   "language": "python",
   "name": "python3"
  },
  "language_info": {
   "codemirror_mode": {
    "name": "ipython",
    "version": 2
   },
   "file_extension": ".py",
   "mimetype": "text/x-python",
   "name": "python",
   "nbconvert_exporter": "python",
   "pygments_lexer": "ipython2",
   "version": "2.7.6"
  }
 },
 "nbformat": 4,
 "nbformat_minor": 5
}
