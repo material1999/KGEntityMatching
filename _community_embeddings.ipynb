{
 "cells": [
  {
   "metadata": {
    "ExecuteTime": {
     "end_time": "2025-04-21T13:41:16.783733Z",
     "start_time": "2025-04-21T13:41:16.778059Z"
    }
   },
   "cell_type": "code",
   "source": [
    "import pandas as pd\n",
    "import numpy as np\n",
    "import json"
   ],
   "id": "85f764466cbf47c8",
   "outputs": [],
   "execution_count": 12
  },
  {
   "metadata": {
    "ExecuteTime": {
     "end_time": "2025-04-21T13:41:16.839683Z",
     "start_time": "2025-04-21T13:41:16.834616Z"
    }
   },
   "cell_type": "code",
   "source": [
    "graph = \"memoryalpha\"\n",
    "embeddings = \"dogtag_bgem3\"\n",
    "communities = \"leiden\""
   ],
   "id": "e81312008d046faa",
   "outputs": [],
   "execution_count": 13
  },
  {
   "cell_type": "code",
   "id": "initial_id",
   "metadata": {
    "collapsed": true,
    "ExecuteTime": {
     "end_time": "2025-04-21T13:41:16.871131Z",
     "start_time": "2025-04-21T13:41:16.869058Z"
    }
   },
   "source": [
    "embeddings_file = \"./_input/node_embeddings/\" + embeddings + \"/\" + graph + \".json\"\n",
    "url_embeddings_file = \"./_input/url_embeddings/\" + graph + \".json\"\n",
    "communities_file = \"./_input/communities/\" + communities + \"/\" + graph + \".txt\"\n",
    "community_embeddings_file = \"./_input/community_embeddings/\" + communities + \"_\" + embeddings + \"/\" + graph + \".json\""
   ],
   "outputs": [],
   "execution_count": 14
  },
  {
   "metadata": {
    "ExecuteTime": {
     "end_time": "2025-04-21T13:41:29.937269Z",
     "start_time": "2025-04-21T13:41:16.902955Z"
    }
   },
   "cell_type": "code",
   "source": [
    "df = pd.read_json(embeddings_file)\n",
    "df_T = df.T"
   ],
   "id": "9e5a0e603483f68c",
   "outputs": [],
   "execution_count": 15
  },
  {
   "metadata": {
    "ExecuteTime": {
     "end_time": "2025-04-21T13:41:30.000481Z",
     "start_time": "2025-04-21T13:41:29.996187Z"
    }
   },
   "cell_type": "code",
   "source": "# df_T",
   "id": "b3f8826b1c5ddec8",
   "outputs": [],
   "execution_count": 16
  },
  {
   "metadata": {
    "ExecuteTime": {
     "end_time": "2025-04-21T13:41:30.078107Z",
     "start_time": "2025-04-21T13:41:30.075671Z"
    }
   },
   "cell_type": "code",
   "source": "# df_T.loc[0]",
   "id": "faace089b981015",
   "outputs": [],
   "execution_count": 17
  },
  {
   "metadata": {
    "ExecuteTime": {
     "end_time": "2025-04-21T13:41:57.473129Z",
     "start_time": "2025-04-21T13:41:30.125358Z"
    }
   },
   "cell_type": "code",
   "source": [
    "df_url = pd.read_json(url_embeddings_file)\n",
    "df_url_T = df_url.T"
   ],
   "id": "d0dab7e610981906",
   "outputs": [],
   "execution_count": 18
  },
  {
   "metadata": {
    "ExecuteTime": {
     "end_time": "2025-04-21T13:41:57.572505Z",
     "start_time": "2025-04-21T13:41:57.569897Z"
    }
   },
   "cell_type": "code",
   "source": "# df_url_T",
   "id": "a4d5644334f852e6",
   "outputs": [],
   "execution_count": 19
  },
  {
   "metadata": {
    "ExecuteTime": {
     "end_time": "2025-04-21T13:41:57.647972Z",
     "start_time": "2025-04-21T13:41:57.645082Z"
    }
   },
   "cell_type": "code",
   "source": "# df_url_T.loc[2239]",
   "id": "7b305c97199162dc",
   "outputs": [],
   "execution_count": 20
  },
  {
   "metadata": {
    "ExecuteTime": {
     "end_time": "2025-04-21T13:41:57.704900Z",
     "start_time": "2025-04-21T13:41:57.688633Z"
    }
   },
   "cell_type": "code",
   "source": [
    "communities = []\n",
    "with open(communities_file) as cbf:\n",
    "    for line in cbf:\n",
    "        numbers_set = {int(num) for num in line.strip().split(\" \")}\n",
    "        communities.append(numbers_set)"
   ],
   "id": "3a0bb2e80aec65b8",
   "outputs": [],
   "execution_count": 21
  },
  {
   "metadata": {
    "ExecuteTime": {
     "end_time": "2025-04-21T13:42:03.294313Z",
     "start_time": "2025-04-21T13:41:57.751957Z"
    }
   },
   "cell_type": "code",
   "source": [
    "community_embeddings = []\n",
    "\n",
    "for community in communities:\n",
    "\n",
    "    embeddings = []\n",
    "\n",
    "    for node in community:\n",
    "        try:\n",
    "            selected_embedding = df_T.loc[node]\n",
    "            embeddings.append(selected_embedding)\n",
    "        except KeyError:\n",
    "            try:\n",
    "                selected_embedding = df_url_T.loc[node]\n",
    "                embeddings.append(selected_embedding)\n",
    "            except KeyError:\n",
    "                print(str(node) + \" --- Key not found anywhere!\")\n",
    "\n",
    "    community_embedding = np.average(embeddings, axis=0)\n",
    "    community_embeddings.append(community_embedding)\n",
    "\n",
    "embeddings_dict = {\n",
    "    str(i): {str(j): val for j, val in enumerate(embedding)}\n",
    "    for i, embedding in enumerate(community_embeddings)\n",
    "}\n",
    "\n",
    "with open(community_embeddings_file, \"w\") as json_file:\n",
    "    json.dump(embeddings_dict, json_file, indent=4)"
   ],
   "id": "7b1c1683ca650833",
   "outputs": [
    {
     "name": "stdout",
     "output_type": "stream",
     "text": [
      "373547 --- Key not found anywhere!\n",
      "64312 --- Key not found anywhere!\n",
      "163342 --- Key not found anywhere!\n",
      "391157 --- Key not found anywhere!\n"
     ]
    }
   ],
   "execution_count": 22
  },
  {
   "metadata": {
    "ExecuteTime": {
     "end_time": "2025-04-21T13:42:03.337062Z",
     "start_time": "2025-04-21T13:42:03.335669Z"
    }
   },
   "cell_type": "code",
   "source": "",
   "id": "46817734c22870a0",
   "outputs": [],
   "execution_count": null
  }
 ],
 "metadata": {
  "kernelspec": {
   "display_name": "Python 3",
   "language": "python",
   "name": "python3"
  },
  "language_info": {
   "codemirror_mode": {
    "name": "ipython",
    "version": 2
   },
   "file_extension": ".py",
   "mimetype": "text/x-python",
   "name": "python",
   "nbconvert_exporter": "python",
   "pygments_lexer": "ipython2",
   "version": "2.7.6"
  }
 },
 "nbformat": 4,
 "nbformat_minor": 5
}
