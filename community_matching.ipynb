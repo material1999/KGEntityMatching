{
 "cells": [
  {
   "metadata": {
    "ExecuteTime": {
     "end_time": "2024-10-18T08:29:39.262062Z",
     "start_time": "2024-10-18T08:29:39.258128Z"
    }
   },
   "cell_type": "code",
   "source": [
    "import json\n",
    "from tqdm import tqdm"
   ],
   "id": "d9164b8d5151b111",
   "outputs": [],
   "execution_count": 5
  },
  {
   "cell_type": "code",
   "id": "initial_id",
   "metadata": {
    "collapsed": true,
    "ExecuteTime": {
     "end_time": "2024-10-18T08:29:42.285927Z",
     "start_time": "2024-10-18T08:29:42.282083Z"
    }
   },
   "source": [
    "big = \"memoryalpha\"\n",
    "small = \"stexpanded\"\n",
    "\n",
    "mapping_file_big = \"./data/triples_v2/\" + big + \"_mapping.json\"\n",
    "mapping_file_small = \"./data/triples_v2/\" + small + \"_mapping.json\"\n",
    "exact_match_file = \"./data/exact_match/\" + big + \"-\" + small + \".json\"\n",
    "\n",
    "# communities_big_file = \"./data/one_step/\" + big + \".csv\"\n",
    "# communities_small_file = \"./data/one_step/\" + small + \".csv\"\n",
    "\n",
    "communities_big_file = \"./results/communities_bigclam/\" + big + \"_10000.txt\"\n",
    "communities_small_file = \"./results/communities_bigclam/\" + small + \"_10000.txt\"\n",
    "\n",
    "# communities_big_file = \"./results/communities_slpa/\" + big + \".csv\"\n",
    "# communities_small_file = \"./results/communities_slpa/\" + small + \".csv\"\n",
    "\n",
    "# communities_big_file = \"./data/one_step/\" + big + \".csv\"\n",
    "# communities_small_file = \"./data/one_step/\" + small + \".csv\"\n",
    "\n",
    "matched_communities_file = \"./results/matched_communities/\" + big + \"-\" + small + \".csv\""
   ],
   "outputs": [],
   "execution_count": 6
  },
  {
   "metadata": {
    "ExecuteTime": {
     "end_time": "2024-10-18T08:29:42.781684Z",
     "start_time": "2024-10-18T08:29:42.294965Z"
    }
   },
   "cell_type": "code",
   "source": [
    "with open(exact_match_file) as emf, open(mapping_file_big) as mfb, open(mapping_file_small) as mfs:\n",
    "    exact_match = json.load(emf)\n",
    "    mapping_big = json.load(mfb)\n",
    "    mapping_small = json.load(mfs)\n",
    "\n",
    "    big_id_dict = {key: value for key, value in mapping_big.items()}\n",
    "    small_id_dict = {key: value for key, value in mapping_small.items()}\n",
    "    \n",
    "    formatted_json = []\n",
    "    for pair in exact_match:\n",
    "        big_id = big_id_dict.get(pair[0])\n",
    "        small_id = small_id_dict.get(pair[1])\n",
    "        if big_id and small_id:\n",
    "            formatted_json.append([big_id, small_id])\n",
    "\n",
    "    # with open('formatted.json', 'w') as outfile:\n",
    "        # json.dump(formatted_json, outfile, indent=4)\n",
    "    \n",
    "# print(formatted_json)"
   ],
   "id": "e530e5547259611f",
   "outputs": [],
   "execution_count": 7
  },
  {
   "metadata": {
    "ExecuteTime": {
     "end_time": "2024-10-18T08:29:59.114686Z",
     "start_time": "2024-10-18T08:29:44.545858Z"
    }
   },
   "cell_type": "code",
   "source": [
    "small_communities = []\n",
    "big_communities = []\n",
    "\n",
    "len_small_communities = []\n",
    "len_big_communities = []\n",
    "\n",
    "with (open(communities_big_file) as cbf, open(communities_small_file) as csf,\n",
    "      open(matched_communities_file, \"w\") as mcf):\n",
    "    \n",
    "    for line in csf:\n",
    "        numbers_set = {int(num) for num in line.strip().split(\"\\t\")}\n",
    "        small_communities.append(numbers_set)\n",
    "        len_small_communities.append(len(numbers_set))\n",
    "\n",
    "    for line in cbf:\n",
    "        numbers_set = {int(num) for num in line.strip().split(\"\\t\")}\n",
    "        big_communities.append(numbers_set)\n",
    "        len_big_communities.append(len(numbers_set))\n",
    "        \n",
    "    # print(len_small_communities)\n",
    "\n",
    "    exact_match_count_dict = dict()\n",
    "    for id_big, id_small in tqdm(formatted_json):\n",
    "    # for id_big, id_small in formatted_json:\n",
    "        # print(id_big, id_small)\n",
    "        indexes_big = [index for index, s in enumerate(big_communities) if id_big in s]\n",
    "        indexes_small = [index for index, s in enumerate(small_communities) if id_small in s]\n",
    "        # print(indexes_big)\n",
    "        # print(indexes_small)\n",
    "        for i_big in indexes_big:\n",
    "            for i_small in indexes_small:\n",
    "                if (i_big, i_small) in exact_match_count_dict:\n",
    "                    exact_match_count_dict[(i_big, i_small)] += 1\n",
    "                else:\n",
    "                    exact_match_count_dict[(i_big, i_small)] = 1\n",
    "                    \n",
    "    # print(exact_match_count_dict.get((0,0)))\n",
    "\n",
    "    exact_match_percentage_dict = dict()\n",
    "    for key, value in exact_match_count_dict.items():\n",
    "        # exact_match_percentage_dict[key] = value\n",
    "        # exact_match_percentage_dict[key] = value / len_small_communities[key[1]]\n",
    "        # exact_match_percentage_dict[key] = (value\n",
    "        #                                     / (len_big_communities[key[0]] * len_small_communities[key[1]])\n",
    "        #                                     * (1 - (abs(len_big_communities[key[0]] - len_small_communities[key[1]]))\n",
    "        #                                     / max(len_big_communities[key[0]], len_small_communities[key[1]]))\n",
    "        #                                     )\n",
    "        # exact_match_percentage_dict[key] = value / (len_big_communities[key[0]] + len_small_communities[key[1]] - value)\n",
    "        exact_match_percentage_dict[key] = 2 * value / (len_big_communities[key[0]] + len_small_communities[key[1]])\n",
    "\n",
    "    exact_match_best_dict = dict()\n",
    "    for key, value in exact_match_percentage_dict.items():\n",
    "        if key[0] in exact_match_best_dict:\n",
    "            if value > exact_match_best_dict[key[0]][1]:\n",
    "                exact_match_best_dict[key[0]] = (key[1], value)\n",
    "        else:\n",
    "            exact_match_best_dict[key[0]] = (key[1], value)\n",
    "            \n",
    "    for key, value in exact_match_best_dict.items():\n",
    "        mcf.write(str(key) + \";\" + str(value[0]) + \";\" + str(value[1]) + \"\\n\")\n",
    "            \n",
    "# print(exact_match_best_dict)"
   ],
   "id": "351ec2e9bbc0f02f",
   "outputs": [
    {
     "name": "stderr",
     "output_type": "stream",
     "text": [
      "100%|██████████| 3872/3872 [00:08<00:00, 445.57it/s]\n"
     ]
    }
   ],
   "execution_count": 8
  },
  {
   "metadata": {},
   "cell_type": "code",
   "source": "exact_match_best_dict.get(7331)",
   "id": "fed0609d20e8d4b5",
   "outputs": [],
   "execution_count": null
  },
  {
   "metadata": {},
   "cell_type": "code",
   "source": "exact_match_best_dict.get(7331)",
   "id": "8bf15736ea94dc80",
   "outputs": [],
   "execution_count": null
  },
  {
   "metadata": {},
   "cell_type": "code",
   "source": [
    "print(big_communities[7331])\n",
    "print(small_communities[4639])"
   ],
   "id": "b8f2c4c880f15bcd",
   "outputs": [],
   "execution_count": null
  },
  {
   "metadata": {},
   "cell_type": "code",
   "source": "print(str(exact_match_count_dict))",
   "id": "3a085aa76c8f7ffe",
   "outputs": [],
   "execution_count": null
  },
  {
   "metadata": {},
   "cell_type": "code",
   "source": "exact_match_count_dict[(0,14)]",
   "id": "d3d1215e80387aa2",
   "outputs": [],
   "execution_count": null
  },
  {
   "metadata": {},
   "cell_type": "code",
   "source": "len_small_communities[3701]",
   "id": "4b6ccda10672f415",
   "outputs": [],
   "execution_count": null
  }
 ],
 "metadata": {
  "kernelspec": {
   "display_name": "Python 3",
   "language": "python",
   "name": "python3"
  },
  "language_info": {
   "codemirror_mode": {
    "name": "ipython",
    "version": 2
   },
   "file_extension": ".py",
   "mimetype": "text/x-python",
   "name": "python",
   "nbconvert_exporter": "python",
   "pygments_lexer": "ipython2",
   "version": "2.7.6"
  }
 },
 "nbformat": 4,
 "nbformat_minor": 5
}
