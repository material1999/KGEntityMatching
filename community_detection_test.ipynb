{
 "cells": [
  {
   "cell_type": "code",
   "id": "initial_id",
   "metadata": {
    "collapsed": true
   },
   "source": [
    "import pandas as pd\n",
    "import networkx as nx\n",
    "import numpy as np"
   ],
   "outputs": [],
   "execution_count": null
  },
  {
   "metadata": {},
   "cell_type": "code",
   "source": [
    "graph = \"stexpanded\"\n",
    "max_community_size = 20\n",
    "connected_percent = 0.75\n",
    "times_average = 1.5"
   ],
   "id": "d278f1da511029d0",
   "outputs": [],
   "execution_count": null
  },
  {
   "metadata": {},
   "cell_type": "code",
   "source": [
    "print(\"Reading graph \" + str(graph))\n",
    "graph_path = \"/Users/matevass/Documents/Projects/KGEntityMatching/data/filtered_triples_weighted/\"\n",
    "graph_df = pd.read_csv(graph_path + graph + \".triples\", sep=\"###\", engine=\"python\", header=None)\n",
    "G = nx.Graph()\n",
    "for row in graph_df.itertuples():\n",
    "    G.add_edge(int(row[1]), int(row[2]), weight=int(row[3]))"
   ],
   "id": "4527c43d48d3ff13",
   "outputs": [],
   "execution_count": null
  },
  {
   "metadata": {},
   "cell_type": "code",
   "source": [
    "print(G)\n",
    "print([n for n in G[0]])"
   ],
   "id": "e19f17734a92fa18",
   "outputs": [],
   "execution_count": null
  },
  {
   "metadata": {},
   "cell_type": "code",
   "source": [
    "mean_edge_weight = np.mean([weight for _, _, weight in G.edges(data='weight')])\n",
    "print(mean_edge_weight)"
   ],
   "id": "f009f0c33a330a8",
   "outputs": [],
   "execution_count": null
  },
  {
   "metadata": {},
   "cell_type": "code",
   "source": [
    "communities_path = \"/Users/matevass/Documents/Projects/KGEntityMatching/data/communities/\"\n",
    "communities = {frozenset([i]) for i in G.nodes}\n",
    "to_add = {frozenset([i]) for i in G.nodes}\n",
    "\n",
    "print(\"Parameters - connected_percent: \" + str(connected_percent) + \" - times_average: \" + str(times_average))\n",
    "print(\"Searching for communities in graph \" + graph)\n",
    "\n",
    "for community_size in range(2, max_community_size + 1):\n",
    "    \n",
    "    print(\"Community size: \" + str(community_size))\n",
    "    last_iteration = 0\n",
    "    communities_to_test = to_add.copy()\n",
    "    to_add.clear()\n",
    "    count = 0\n",
    "    number_to_test = len(communities_to_test)\n",
    "    print(\"Number of communities to test: \" + str(number_to_test))\n",
    "    \n",
    "    for community in communities_to_test:\n",
    "        is_expanded = False\n",
    "        count += 1\n",
    "        if count % 1000 == 0:\n",
    "            print(str(count) + \"/\" + str(number_to_test))\n",
    "        neighbors = set()\n",
    "        for node in community:\n",
    "            neighbors.update(G.neighbors(node))\n",
    "        neighbors -= community\n",
    "        for node in neighbors:\n",
    "            community_temp = community.union([node])\n",
    "            H = G.subgraph(community_temp)\n",
    "            if len(H[node]) >= (community_size - 1) * connected_percent and \\\n",
    "                    np.mean([weight for _, _, weight in H.edges(data='weight')]) > mean_edge_weight * times_average:\n",
    "                last_iteration += 1\n",
    "                to_add.add(community_temp)\n",
    "                if not is_expanded:\n",
    "                    communities.remove(community)\n",
    "                    is_expanded = True\n",
    "                    \n",
    "    if community_size == 2:\n",
    "        communities = [item for item in communities if len(item) != 1]\n",
    "        \n",
    "    if last_iteration == 0:\n",
    "        print(\"Break at community size: \" + str(community_size))\n",
    "        break\n",
    "    \n",
    "    communities.extend(to_add)\n",
    "    print(\"Total communities: \" + str(len(communities)))\n",
    "\n",
    "with open(communities_path + graph + \".csv\", 'w') as communities_output:\n",
    "    for community in communities:\n",
    "        communities_output.write(str(community)\n",
    "                                 .replace(\"frozenset({\", \"\")\n",
    "                                 .replace(\"})\", \"\")\n",
    "                                 .replace(\", \", \";\") + \"\\n\")\n",
    "\n",
    "print(\"Communities for graph \" + graph + \" found: \" + str(len(communities)))"
   ],
   "id": "360dfef6d42004b",
   "outputs": [],
   "execution_count": null
  },
  {
   "metadata": {},
   "cell_type": "code",
   "source": "",
   "id": "2dd273712d818a3d",
   "outputs": [],
   "execution_count": null
  }
 ],
 "metadata": {
  "kernelspec": {
   "display_name": "Python 3",
   "language": "python",
   "name": "python3"
  },
  "language_info": {
   "codemirror_mode": {
    "name": "ipython",
    "version": 2
   },
   "file_extension": ".py",
   "mimetype": "text/x-python",
   "name": "python",
   "nbconvert_exporter": "python",
   "pygments_lexer": "ipython2",
   "version": "2.7.6"
  }
 },
 "nbformat": 4,
 "nbformat_minor": 5
}
