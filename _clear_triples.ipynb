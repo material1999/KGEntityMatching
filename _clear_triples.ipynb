{
 "cells": [
  {
   "metadata": {
    "ExecuteTime": {
     "end_time": "2025-06-09T22:51:23.496417Z",
     "start_time": "2025-06-09T22:51:23.442846Z"
    }
   },
   "cell_type": "code",
   "source": [
    "from rdflib import Graph\n",
    "import os\n",
    "from urllib.parse import urlparse\n",
    "import re"
   ],
   "id": "63a3373d9b1c829",
   "outputs": [],
   "execution_count": 1
  },
  {
   "metadata": {
    "ExecuteTime": {
     "end_time": "2025-06-09T22:51:23.607890Z",
     "start_time": "2025-06-09T22:51:23.606305Z"
    }
   },
   "cell_type": "code",
   "source": "graph = \"stexpanded\"",
   "id": "21b9b99d5781698b",
   "outputs": [],
   "execution_count": 2
  },
  {
   "metadata": {
    "ExecuteTime": {
     "end_time": "2025-06-09T22:51:41.069836Z",
     "start_time": "2025-06-09T22:51:23.615753Z"
    }
   },
   "cell_type": "code",
   "source": [
    "g = Graph()\n",
    "g.parse(\"./_input/rdfxml/\" + graph + \".xml\", format=\"xml\")"
   ],
   "id": "cb30ea57158d04f",
   "outputs": [
    {
     "data": {
      "text/plain": [
       "<Graph identifier=Nb03656e0f4cd423080cb88b133e94bfd (<class 'rdflib.graph.Graph'>)>"
      ]
     },
     "execution_count": 3,
     "metadata": {},
     "output_type": "execute_result"
    }
   ],
   "execution_count": 3
  },
  {
   "metadata": {
    "ExecuteTime": {
     "end_time": "2025-06-09T22:51:41.093019Z",
     "start_time": "2025-06-09T22:51:41.090231Z"
    }
   },
   "cell_type": "code",
   "source": [
    "property_str = None\n",
    "\n",
    "for prefix, namespace in g.namespaces():\n",
    "    if str(prefix) == \"ns1\":\n",
    "        property_str = str(namespace)\n",
    "\n",
    "resource_str = property_str.replace(\"property\", \"resource\")\n",
    "class_str = property_str.replace(\"property\", \"class\")"
   ],
   "id": "401528da3253e527",
   "outputs": [],
   "execution_count": 4
  },
  {
   "metadata": {
    "ExecuteTime": {
     "end_time": "2025-06-09T22:51:41.148652Z",
     "start_time": "2025-06-09T22:51:41.146217Z"
    }
   },
   "cell_type": "code",
   "source": [
    "namespace_list = [\n",
    "    str(namespace)\n",
    "    for prefix, namespace in g.namespaces()\n",
    "    if str(namespace) == property_str or not str(namespace).startswith(property_str)\n",
    "]"
   ],
   "id": "5ec529eefe261224",
   "outputs": [],
   "execution_count": 5
  },
  {
   "metadata": {
    "ExecuteTime": {
     "end_time": "2025-06-09T22:51:41.166577Z",
     "start_time": "2025-06-09T22:51:41.163403Z"
    }
   },
   "cell_type": "code",
   "source": [
    "def clean_value(value):\n",
    "    s = str(value)\n",
    "    s = s.replace(resource_str, \"\")\n",
    "    s = s.replace(class_str, \"\")\n",
    "    s = re.sub(r'\\n+', '', s)\n",
    "    for sub in namespace_list:\n",
    "        s = s.replace(sub, \" \")\n",
    "    return s.strip()\n",
    "\n",
    "def is_image_url(url):\n",
    "    image_extensions = {\".jpg\", \".jpeg\", \".png\", \".gif\", \".bmp\", \".svg\", \".webp\", \".tiff\"}\n",
    "    path = urlparse(url).path\n",
    "    ext = os.path.splitext(path.lower())[1]\n",
    "    return ext in image_extensions\n",
    "\n",
    "def is_wikiPageWikiLink(value):\n",
    "    return \"wikiPageWikiLink\" in str(value)"
   ],
   "id": "d2d5f1fb9d22f933",
   "outputs": [],
   "execution_count": 6
  },
  {
   "metadata": {
    "ExecuteTime": {
     "end_time": "2025-06-09T22:51:41.179088Z",
     "start_time": "2025-06-09T22:51:41.177231Z"
    }
   },
   "cell_type": "code",
   "source": [
    "test_entity = \"http://dbkwik.webdatacommons.org/stexpanded.wikia.com/resource/Magna_Roma\"\n",
    "# test_entity = \"http://dbkwik.webdatacommons.org/stexpanded.wikia.com/resource/William_T._Riker\"\n",
    "# test_entity = \"http://dbkwik.webdatacommons.org/stexpanded.wikia.com/resource/James_T._Kirk_(Phase_II)\""
   ],
   "id": "7efe0dd77cb5e608",
   "outputs": [],
   "execution_count": 7
  },
  {
   "metadata": {
    "ExecuteTime": {
     "end_time": "2025-06-09T22:51:41.785344Z",
     "start_time": "2025-06-09T22:51:41.194153Z"
    }
   },
   "cell_type": "code",
   "source": [
    "printed_subject = False\n",
    "abstract_str = \"\"\n",
    "\n",
    "for subj, pred, obj in g:\n",
    "    if str(subj) == test_entity:\n",
    "        if is_image_url(subj) or is_image_url(obj) or is_wikiPageWikiLink(pred):\n",
    "            continue\n",
    "        cleaned_subj = clean_value(subj)\n",
    "        cleaned_pred = clean_value(pred)\n",
    "        cleaned_obj  = clean_value(obj)\n",
    "\n",
    "        if cleaned_pred == \"comment\":\n",
    "            continue\n",
    "\n",
    "        if cleaned_pred == \"abstract\":\n",
    "            abstract_str = cleaned_obj\n",
    "            continue\n",
    "\n",
    "        if not printed_subject:\n",
    "            print(f\"{cleaned_subj}\")\n",
    "            # print(f\"{subj}\")\n",
    "            printed_subject = True\n",
    "\n",
    "        print(f\" - {cleaned_pred}: {cleaned_obj}\")\n",
    "\n",
    "print(f\" - abstract: {abstract_str}\")"
   ],
   "id": "f42caf0ac5976291",
   "outputs": [
    {
     "name": "stdout",
     "output_type": "stream",
     "text": [
      "Magna_Roma\n",
      " - type: planet_info\n",
      " - subject: Category:Class_M_planets\n",
      " - planetName: Magna Roma\n",
      " - surface: Habitable\n",
      " - label: Magna Roma\n",
      " - subject: Category:Alpha_Quadrant_planets\n",
      " - system: UFC-892\n",
      " - altLabel: Magna Roma\n",
      " - class: Class_M_planet\n",
      " - altLabel: 892-IV\n",
      " - abstract: UFC 892-IV, called Magna Roma (\"Great Rome\") by its inhabitants, is a class M planet where evidence of Hodgkin's Law of Parallel Planetary Development was present in the 23rd century as a parallel of the Roman Empire existed there. (: \"Bread and Circuses\")In Orion Press continuity, the planet was called \"Tellus\" and System 892 had the Bayer classification of Beta Hydrae. It had been speculated that the planet's inhabitants had been transplanted from Earth by the Preservers 2,500 years before. (Orion Press: \"The Return\", TOS novel: Ex Machina)By the late 24th century, the Magna Romans had joined the Federation. (TNG novel: The Captains' Honor)\n"
     ]
    }
   ],
   "execution_count": 8
  },
  {
   "metadata": {
    "ExecuteTime": {
     "end_time": "2025-06-09T22:51:41.796788Z",
     "start_time": "2025-06-09T22:51:41.795326Z"
    }
   },
   "cell_type": "code",
   "source": "",
   "id": "8983be255d0aa656",
   "outputs": [],
   "execution_count": null
  }
 ],
 "metadata": {
  "kernelspec": {
   "display_name": "Python 3",
   "language": "python",
   "name": "python3"
  },
  "language_info": {
   "codemirror_mode": {
    "name": "ipython",
    "version": 2
   },
   "file_extension": ".py",
   "mimetype": "text/x-python",
   "name": "python",
   "nbconvert_exporter": "python",
   "pygments_lexer": "ipython2",
   "version": "2.7.6"
  }
 },
 "nbformat": 4,
 "nbformat_minor": 5
}
