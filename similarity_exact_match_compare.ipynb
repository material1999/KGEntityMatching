{
 "cells": [
  {
   "metadata": {
    "ExecuteTime": {
     "end_time": "2024-09-30T13:23:15.724710Z",
     "start_time": "2024-09-30T13:23:15.713760Z"
    }
   },
   "cell_type": "code",
   "source": "import json",
   "id": "52edfe1df5ed7f3b",
   "outputs": [],
   "execution_count": 1
  },
  {
   "cell_type": "code",
   "id": "initial_id",
   "metadata": {
    "collapsed": true,
    "ExecuteTime": {
     "end_time": "2024-09-30T13:23:16.915735Z",
     "start_time": "2024-09-30T13:23:16.911373Z"
    }
   },
   "source": [
    "big = \"memoryalpha\"\n",
    "small = \"stexpanded\"\n",
    "\n",
    "mapping_file_big = \"./data/triples_v2/\" + big + \"_mapping.json\"\n",
    "mapping_file_small = \"./data/triples_v2/\" + small + \"_mapping.json\"\n",
    "exact_match_file = \"./data/exact_match/\" + big + \"-\" + small + \".json\"\n",
    "\n",
    "most_similar_file = \"./data/most_similar_communities/bgelarge_average/\" + big + \"-\" + small + \".json\""
   ],
   "outputs": [],
   "execution_count": 2
  },
  {
   "metadata": {
    "ExecuteTime": {
     "end_time": "2024-09-30T13:23:18.111323Z",
     "start_time": "2024-09-30T13:23:17.492540Z"
    }
   },
   "cell_type": "code",
   "source": [
    "with open(exact_match_file) as emf, open(mapping_file_big) as mfb, open(mapping_file_small) as mfs:\n",
    "    exact_match = json.load(emf)\n",
    "    mapping_big = json.load(mfb)\n",
    "    mapping_small = json.load(mfs)\n",
    "\n",
    "    big_id_dict = {key: value for key, value in mapping_big.items()}\n",
    "    small_id_dict = {key: value for key, value in mapping_small.items()}\n",
    "\n",
    "    formatted_json = []\n",
    "    for pair in exact_match:\n",
    "        big_id = big_id_dict.get(pair[0])\n",
    "        small_id = small_id_dict.get(pair[1])\n",
    "        if big_id and small_id:\n",
    "            formatted_json.append([big_id, small_id])"
   ],
   "id": "7deb87a66242746e",
   "outputs": [],
   "execution_count": 3
  },
  {
   "metadata": {
    "ExecuteTime": {
     "end_time": "2024-09-30T13:23:18.678270Z",
     "start_time": "2024-09-30T13:23:18.627545Z"
    }
   },
   "cell_type": "code",
   "source": [
    "with open(most_similar_file) as msf:\n",
    "    most_similar_communities = json.load(msf)"
   ],
   "id": "665113d63d058fa4",
   "outputs": [],
   "execution_count": 4
  },
  {
   "metadata": {
    "ExecuteTime": {
     "end_time": "2024-09-30T13:23:20.361829Z",
     "start_time": "2024-09-30T13:23:19.585866Z"
    }
   },
   "cell_type": "code",
   "source": [
    "communities_big_file = \"./data/one_step/\" + big + \".csv\"\n",
    "communities_small_file = \"./data/one_step/\" + small + \".csv\"\n",
    "\n",
    "small_communities = []\n",
    "big_communities = []\n",
    "\n",
    "with open(communities_big_file) as cbf, open(communities_small_file) as csf:\n",
    "\n",
    "    for line in csf:\n",
    "        numbers_set = {int(num) for num in line.strip().split(';')[:-1]}\n",
    "        small_communities.append(numbers_set)\n",
    "\n",
    "    for line in cbf:\n",
    "        numbers_set = {int(num) for num in line.strip().split(';')[:-1]}\n",
    "        big_communities.append(numbers_set)"
   ],
   "id": "b86529cadd1c059f",
   "outputs": [],
   "execution_count": 5
  },
  {
   "metadata": {
    "ExecuteTime": {
     "end_time": "2024-09-30T13:31:52.388846Z",
     "start_time": "2024-09-30T13:31:37.755313Z"
    }
   },
   "cell_type": "code",
   "source": [
    "similar_with_exact_match = []\n",
    "for similar in most_similar_communities:\n",
    "    comm_1 = big_communities[similar[0]]\n",
    "    comm_2 = small_communities[similar[1]]\n",
    "    exact_match_count = 0\n",
    "    for match in formatted_json:\n",
    "        if match[0] in comm_1 and match[1] in comm_2:\n",
    "            exact_match_count += 1\n",
    "    # similar_with_exact_match.append([similar[0], similar[1], similar[2], exact_match_count])\n",
    "    similar_with_exact_match.append([str(comm_1), str(comm_2), similar[2], exact_match_count])\n",
    "\n",
    "similarity_exact_match_file = \"./data/similarity_exact_match/\" + big + \"-\" + small + \".json\"\n",
    "with open(similarity_exact_match_file, 'w') as outfile:\n",
    "    json.dump(similar_with_exact_match, outfile, indent=4)"
   ],
   "id": "1410431690928ffd",
   "outputs": [],
   "execution_count": 10
  },
  {
   "metadata": {},
   "cell_type": "code",
   "source": "",
   "id": "2bf92a0f8a6f88a3",
   "outputs": [],
   "execution_count": null
  }
 ],
 "metadata": {
  "kernelspec": {
   "display_name": "Python 3",
   "language": "python",
   "name": "python3"
  },
  "language_info": {
   "codemirror_mode": {
    "name": "ipython",
    "version": 2
   },
   "file_extension": ".py",
   "mimetype": "text/x-python",
   "name": "python",
   "nbconvert_exporter": "python",
   "pygments_lexer": "ipython2",
   "version": "2.7.6"
  }
 },
 "nbformat": 4,
 "nbformat_minor": 5
}
