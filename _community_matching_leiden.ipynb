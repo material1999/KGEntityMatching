{
 "cells": [
  {
   "metadata": {
    "ExecuteTime": {
     "end_time": "2025-03-25T18:33:52.633716Z",
     "start_time": "2025-03-25T18:33:49.479371Z"
    }
   },
   "cell_type": "code",
   "source": [
    "import json\n",
    "import torch\n",
    "from sentence_transformers import util\n",
    "import os"
   ],
   "id": "d9164b8d5151b111",
   "outputs": [],
   "execution_count": 1
  },
  {
   "cell_type": "code",
   "id": "initial_id",
   "metadata": {
    "collapsed": true,
    "ExecuteTime": {
     "end_time": "2025-03-25T18:33:52.640083Z",
     "start_time": "2025-03-25T18:33:52.637454Z"
    }
   },
   "source": [
    "big = \"memoryalpha\"\n",
    "small = \"stexpanded\"\n",
    "\n",
    "top_k = 10\n",
    "\n",
    "mapping_file_big = \"./data/triples_v2/\" + big + \"_mapping.json\"\n",
    "mapping_file_small = \"./data/triples_v2/\" + small + \"_mapping.json\"\n",
    "exact_match_file = \"./data/exact_match/\" + big + \"-\" + small + \".json\"\n",
    "\n",
    "communities_big_file = \"./results/communities_leiden/\" + big + \"/final.txt\"\n",
    "communities_small_file = \"./results/communities_leiden/\" + small + \"/final.txt\"\n",
    "\n",
    "communitiy_embeddings_big_file = \"./results/_community_embeddings/\" + big + \".json\"\n",
    "communitiy_embeddings_small_file = \"./results/_community_embeddings/\" + small + \".json\"\n",
    "\n",
    "matched_communities_path = f\"./results/_matched_communities_leiden/top_{top_k}_pairs/\""
   ],
   "outputs": [],
   "execution_count": 2
  },
  {
   "metadata": {
    "ExecuteTime": {
     "end_time": "2025-03-25T18:33:53.114237Z",
     "start_time": "2025-03-25T18:33:52.738405Z"
    }
   },
   "cell_type": "code",
   "source": [
    "with open(exact_match_file) as emf, open(mapping_file_big) as mfb, open(mapping_file_small) as mfs:\n",
    "    mapping_big = json.load(mfb)\n",
    "    mapping_small = json.load(mfs)\n",
    "    exact_match = json.load(emf)"
   ],
   "id": "e530e5547259611f",
   "outputs": [],
   "execution_count": 3
  },
  {
   "metadata": {
    "ExecuteTime": {
     "end_time": "2025-03-25T18:33:53.360768Z",
     "start_time": "2025-03-25T18:33:53.338624Z"
    }
   },
   "cell_type": "code",
   "source": [
    "small_communities = []\n",
    "big_communities = []\n",
    "\n",
    "with open(communities_big_file) as cbf, open(communities_small_file) as csf:\n",
    "    \n",
    "    for line in csf:\n",
    "        numbers_set = {int(num) for num in line.strip().split(\" \")}\n",
    "        small_communities.append(numbers_set)\n",
    "\n",
    "    for line in cbf:\n",
    "        numbers_set = {int(num) for num in line.strip().split(\" \")}\n",
    "        big_communities.append(numbers_set)"
   ],
   "id": "351ec2e9bbc0f02f",
   "outputs": [],
   "execution_count": 4
  },
  {
   "metadata": {
    "ExecuteTime": {
     "end_time": "2025-03-25T18:33:54.531067Z",
     "start_time": "2025-03-25T18:33:53.581465Z"
    }
   },
   "cell_type": "code",
   "source": [
    "with open(communitiy_embeddings_big_file) as cebf, open(communitiy_embeddings_small_file) as cesf:\n",
    "    community_embeddings_big = json.load(cebf)\n",
    "    community_embeddings_big = {k: list(v.values()) for k, v in community_embeddings_big.items()}\n",
    "    community_embeddings_small = json.load(cesf)\n",
    "    community_embeddings_small = {k: list(v.values()) for k, v in community_embeddings_small.items()}"
   ],
   "id": "7c8826d27dcbd9cb",
   "outputs": [],
   "execution_count": 5
  },
  {
   "metadata": {
    "ExecuteTime": {
     "end_time": "2025-03-25T18:33:55.003492Z",
     "start_time": "2025-03-25T18:33:55.001756Z"
    }
   },
   "cell_type": "code",
   "source": "# community_embeddings_big['0']",
   "id": "8e72a83b53c99bf3",
   "outputs": [],
   "execution_count": 6
  },
  {
   "metadata": {
    "ExecuteTime": {
     "end_time": "2025-03-25T18:33:55.238283Z",
     "start_time": "2025-03-25T18:33:55.236368Z"
    }
   },
   "cell_type": "code",
   "source": [
    "# embeddings_old_file = \"./results/embeddings/stexpanded_lab_altlab_type_abs_comment_BAAI_bge-large-en-v1.5.json\"\n",
    "# with open(embeddings_old_file) as eof:\n",
    "#     embeddings_old = json.load(eof)"
   ],
   "id": "4791489b096f7c60",
   "outputs": [],
   "execution_count": 7
  },
  {
   "metadata": {
    "ExecuteTime": {
     "end_time": "2025-03-25T18:33:55.245419Z",
     "start_time": "2025-03-25T18:33:55.243844Z"
    }
   },
   "cell_type": "code",
   "source": "# embeddings_old['0']",
   "id": "42e6b89a2310efb3",
   "outputs": [],
   "execution_count": 8
  },
  {
   "metadata": {
    "ExecuteTime": {
     "end_time": "2025-03-25T18:33:55.782751Z",
     "start_time": "2025-03-25T18:33:55.468320Z"
    }
   },
   "cell_type": "code",
   "source": [
    "big_torch_embeds = torch.Tensor(list(community_embeddings_big.values()))\n",
    "small_torch_embeds = torch.Tensor(list(community_embeddings_small.values()))\n",
    "\n",
    "pair_top_k = util.semantic_search(big_torch_embeds, small_torch_embeds, top_k=top_k)\n",
    "reverse_pair_top_k = util.semantic_search(small_torch_embeds, big_torch_embeds, top_k=top_k)"
   ],
   "id": "d5617196179cba6",
   "outputs": [],
   "execution_count": 9
  },
  {
   "metadata": {
    "ExecuteTime": {
     "end_time": "2025-03-25T18:33:56.032074Z",
     "start_time": "2025-03-25T18:33:56.028227Z"
    }
   },
   "cell_type": "code",
   "source": "pair_top_k[16]",
   "id": "c7be63caeab37178",
   "outputs": [
    {
     "data": {
      "text/plain": [
       "[{'corpus_id': 83, 'score': 0.7707483172416687},\n",
       " {'corpus_id': 846, 'score': 0.7667902708053589},\n",
       " {'corpus_id': 1092, 'score': 0.7583621144294739},\n",
       " {'corpus_id': 698, 'score': 0.7561346292495728},\n",
       " {'corpus_id': 829, 'score': 0.7486347556114197},\n",
       " {'corpus_id': 807, 'score': 0.7475183010101318},\n",
       " {'corpus_id': 1, 'score': 0.7466740608215332},\n",
       " {'corpus_id': 280, 'score': 0.7466054558753967},\n",
       " {'corpus_id': 12, 'score': 0.7463914155960083},\n",
       " {'corpus_id': 278, 'score': 0.7446763515472412}]"
      ]
     },
     "execution_count": 10,
     "metadata": {},
     "output_type": "execute_result"
    }
   ],
   "execution_count": 10
  },
  {
   "metadata": {
    "ExecuteTime": {
     "end_time": "2025-03-25T18:33:56.258342Z",
     "start_time": "2025-03-25T18:33:56.254427Z"
    }
   },
   "cell_type": "code",
   "source": "reverse_pair_top_k[25]",
   "id": "37aa92e0829989f1",
   "outputs": [
    {
     "data": {
      "text/plain": [
       "[{'corpus_id': 330, 'score': 0.8028998970985413},\n",
       " {'corpus_id': 433, 'score': 0.7985575795173645},\n",
       " {'corpus_id': 1879, 'score': 0.7983618378639221},\n",
       " {'corpus_id': 332, 'score': 0.7968781590461731},\n",
       " {'corpus_id': 1315, 'score': 0.7959682941436768},\n",
       " {'corpus_id': 331, 'score': 0.7954684495925903},\n",
       " {'corpus_id': 1893, 'score': 0.7942922115325928},\n",
       " {'corpus_id': 1887, 'score': 0.7924901843070984},\n",
       " {'corpus_id': 478, 'score': 0.7912763357162476},\n",
       " {'corpus_id': 1899, 'score': 0.7904046773910522}]"
      ]
     },
     "execution_count": 11,
     "metadata": {},
     "output_type": "execute_result"
    }
   ],
   "execution_count": 11
  },
  {
   "metadata": {
    "ExecuteTime": {
     "end_time": "2025-03-25T18:33:56.518124Z",
     "start_time": "2025-03-25T18:33:56.505965Z"
    }
   },
   "cell_type": "code",
   "source": [
    "forward_dict = dict()\n",
    "backward_dict = dict()\n",
    "g1_keys = list(community_embeddings_big.keys())\n",
    "g2_keys = list(community_embeddings_small.keys())\n",
    "\n",
    "for a, b in zip(g1_keys, pair_top_k):\n",
    "    row_info = list()\n",
    "    for element in b:\n",
    "        row_info.append([g2_keys[element[\"corpus_id\"]], element[\"score\"]])\n",
    "    forward_dict[str(a)] = row_info\n",
    "\n",
    "for a, b in zip(g2_keys, reverse_pair_top_k):\n",
    "    row_info = list()\n",
    "    for element in b:\n",
    "        row_info.append([g1_keys[element[\"corpus_id\"]], element[\"score\"]])\n",
    "    backward_dict[str(a)] = row_info"
   ],
   "id": "d1f5643ac275909b",
   "outputs": [],
   "execution_count": 12
  },
  {
   "metadata": {
    "ExecuteTime": {
     "end_time": "2025-03-25T18:33:57.033507Z",
     "start_time": "2025-03-25T18:33:56.969073Z"
    }
   },
   "cell_type": "code",
   "source": [
    "with open(os.path.join(matched_communities_path, f\"{big}-{small}_top_{str(top_k)}_pairs.json\"), \"w\") as f:\n",
    "    json.dump(forward_dict, f)\n",
    "\n",
    "with open(os.path.join(matched_communities_path, f\"{small}-{big}_top_{str(top_k)}_pairs.json\"), \"w\") as f:\n",
    "    json.dump(backward_dict, f)"
   ],
   "id": "b868de543266ed32",
   "outputs": [],
   "execution_count": 13
  },
  {
   "metadata": {
    "ExecuteTime": {
     "end_time": "2025-03-25T18:33:57.039809Z",
     "start_time": "2025-03-25T18:33:57.038259Z"
    }
   },
   "cell_type": "code",
   "source": "",
   "id": "c556018aab0fa318",
   "outputs": [],
   "execution_count": null
  }
 ],
 "metadata": {
  "kernelspec": {
   "display_name": "Python 3",
   "language": "python",
   "name": "python3"
  },
  "language_info": {
   "codemirror_mode": {
    "name": "ipython",
    "version": 2
   },
   "file_extension": ".py",
   "mimetype": "text/x-python",
   "name": "python",
   "nbconvert_exporter": "python",
   "pygments_lexer": "ipython2",
   "version": "2.7.6"
  }
 },
 "nbformat": 4,
 "nbformat_minor": 5
}
