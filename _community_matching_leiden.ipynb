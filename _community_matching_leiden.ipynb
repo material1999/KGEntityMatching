{
 "cells": [
  {
   "metadata": {
    "ExecuteTime": {
     "end_time": "2025-03-23T17:38:38.978991Z",
     "start_time": "2025-03-23T17:38:38.975004Z"
    }
   },
   "cell_type": "code",
   "source": [
    "import json\n",
    "import torch\n",
    "from sentence_transformers import util\n",
    "import os"
   ],
   "id": "d9164b8d5151b111",
   "outputs": [],
   "execution_count": 19
  },
  {
   "cell_type": "code",
   "id": "initial_id",
   "metadata": {
    "collapsed": true,
    "ExecuteTime": {
     "end_time": "2025-03-23T17:38:39.655522Z",
     "start_time": "2025-03-23T17:38:39.650179Z"
    }
   },
   "source": [
    "big = \"memoryalpha\"\n",
    "small = \"stexpanded\"\n",
    "\n",
    "top_k = 10\n",
    "\n",
    "mapping_file_big = \"./data/triples_v2/\" + big + \"_mapping.json\"\n",
    "mapping_file_small = \"./data/triples_v2/\" + small + \"_mapping.json\"\n",
    "exact_match_file = \"./data/exact_match/\" + big + \"-\" + small + \".json\"\n",
    "\n",
    "communities_big_file = \"./results/communities_leiden/\" + big + \"/level_0.txt\"\n",
    "communities_small_file = \"./results/communities_leiden/\" + small + \"/level_0.txt\"\n",
    "\n",
    "communitiy_embeddings_big_file = \"./results/_community_embeddings/\" + big + \".json\"\n",
    "communitiy_embeddings_small_file = \"./results/_community_embeddings/\" + small + \".json\"\n",
    "\n",
    "matched_communities_path = f\"./results/_matched_communities_leiden/top_{top_k}_pairs/\""
   ],
   "outputs": [],
   "execution_count": 20
  },
  {
   "metadata": {
    "ExecuteTime": {
     "end_time": "2025-03-23T17:38:40.785210Z",
     "start_time": "2025-03-23T17:38:40.369647Z"
    }
   },
   "cell_type": "code",
   "source": [
    "with open(exact_match_file) as emf, open(mapping_file_big) as mfb, open(mapping_file_small) as mfs:\n",
    "    mapping_big = json.load(mfb)\n",
    "    mapping_small = json.load(mfs)\n",
    "    exact_match = json.load(emf)"
   ],
   "id": "e530e5547259611f",
   "outputs": [],
   "execution_count": 21
  },
  {
   "metadata": {
    "ExecuteTime": {
     "end_time": "2025-03-23T17:38:41.046631Z",
     "start_time": "2025-03-23T17:38:41.027660Z"
    }
   },
   "cell_type": "code",
   "source": [
    "small_communities = []\n",
    "big_communities = []\n",
    "\n",
    "with open(communities_big_file) as cbf, open(communities_small_file) as csf:\n",
    "    \n",
    "    for line in csf:\n",
    "        numbers_set = {int(num) for num in line.strip().split(\" \")}\n",
    "        small_communities.append(numbers_set)\n",
    "\n",
    "    for line in cbf:\n",
    "        numbers_set = {int(num) for num in line.strip().split(\" \")}\n",
    "        big_communities.append(numbers_set)"
   ],
   "id": "351ec2e9bbc0f02f",
   "outputs": [],
   "execution_count": 22
  },
  {
   "metadata": {
    "ExecuteTime": {
     "end_time": "2025-03-23T17:38:41.494386Z",
     "start_time": "2025-03-23T17:38:41.469186Z"
    }
   },
   "cell_type": "code",
   "source": [
    "with open(communitiy_embeddings_big_file) as cebf, open(communitiy_embeddings_small_file) as cesf:\n",
    "    community_embeddings_big = json.load(cebf)\n",
    "    community_embeddings_big = {k: list(v.values()) for k, v in community_embeddings_big.items()}\n",
    "    community_embeddings_small = json.load(cesf)\n",
    "    community_embeddings_small = {k: list(v.values()) for k, v in community_embeddings_small.items()}"
   ],
   "id": "7c8826d27dcbd9cb",
   "outputs": [],
   "execution_count": 23
  },
  {
   "metadata": {
    "ExecuteTime": {
     "end_time": "2025-03-23T17:38:41.844210Z",
     "start_time": "2025-03-23T17:38:41.842337Z"
    }
   },
   "cell_type": "code",
   "source": "# community_embeddings_big['0']",
   "id": "8e72a83b53c99bf3",
   "outputs": [],
   "execution_count": 24
  },
  {
   "metadata": {
    "ExecuteTime": {
     "end_time": "2025-03-23T17:38:42.111980Z",
     "start_time": "2025-03-23T17:38:42.110225Z"
    }
   },
   "cell_type": "code",
   "source": [
    "# embeddings_old_file = \"./results/embeddings/stexpanded_lab_altlab_type_abs_comment_BAAI_bge-large-en-v1.5.json\"\n",
    "# with open(embeddings_old_file) as eof:\n",
    "#     embeddings_old = json.load(eof)"
   ],
   "id": "4791489b096f7c60",
   "outputs": [],
   "execution_count": 25
  },
  {
   "metadata": {
    "ExecuteTime": {
     "end_time": "2025-03-23T17:38:42.355838Z",
     "start_time": "2025-03-23T17:38:42.353581Z"
    }
   },
   "cell_type": "code",
   "source": "# embeddings_old['0']",
   "id": "42e6b89a2310efb3",
   "outputs": [],
   "execution_count": 26
  },
  {
   "metadata": {
    "ExecuteTime": {
     "end_time": "2025-03-23T17:38:42.632935Z",
     "start_time": "2025-03-23T17:38:42.626217Z"
    }
   },
   "cell_type": "code",
   "source": [
    "big_torch_embeds = torch.Tensor(list(community_embeddings_big.values()))\n",
    "small_torch_embeds = torch.Tensor(list(community_embeddings_small.values()))\n",
    "\n",
    "pair_top_k = util.semantic_search(big_torch_embeds, small_torch_embeds, top_k=top_k)\n",
    "reverse_pair_top_k = util.semantic_search(small_torch_embeds, big_torch_embeds, top_k=top_k)"
   ],
   "id": "d5617196179cba6",
   "outputs": [],
   "execution_count": 27
  },
  {
   "metadata": {
    "ExecuteTime": {
     "end_time": "2025-03-23T17:38:42.652924Z",
     "start_time": "2025-03-23T17:38:42.648580Z"
    }
   },
   "cell_type": "code",
   "source": "pair_top_k[16]",
   "id": "c7be63caeab37178",
   "outputs": [
    {
     "data": {
      "text/plain": [
       "[{'corpus_id': 25, 'score': 0.9999995231628418},\n",
       " {'corpus_id': 6, 'score': 0.6928253173828125},\n",
       " {'corpus_id': 8, 'score': 0.6265830397605896},\n",
       " {'corpus_id': 2, 'score': 0.5902332663536072},\n",
       " {'corpus_id': 11, 'score': 0.574837327003479},\n",
       " {'corpus_id': 5, 'score': 0.5597947239875793},\n",
       " {'corpus_id': 1, 'score': 0.5595784783363342},\n",
       " {'corpus_id': 9, 'score': 0.5594757199287415},\n",
       " {'corpus_id': 0, 'score': 0.557192862033844},\n",
       " {'corpus_id': 12, 'score': 0.5565229058265686}]"
      ]
     },
     "execution_count": 28,
     "metadata": {},
     "output_type": "execute_result"
    }
   ],
   "execution_count": 28
  },
  {
   "metadata": {
    "ExecuteTime": {
     "end_time": "2025-03-23T17:38:43.121504Z",
     "start_time": "2025-03-23T17:38:43.118799Z"
    }
   },
   "cell_type": "code",
   "source": "reverse_pair_top_k[25]",
   "id": "37aa92e0829989f1",
   "outputs": [
    {
     "data": {
      "text/plain": [
       "[{'corpus_id': 16, 'score': 0.9999995231628418},\n",
       " {'corpus_id': 13, 'score': 0.5901646018028259},\n",
       " {'corpus_id': 2, 'score': 0.5879038572311401},\n",
       " {'corpus_id': 9, 'score': 0.5656415820121765},\n",
       " {'corpus_id': 6, 'score': 0.5614608526229858},\n",
       " {'corpus_id': 0, 'score': 0.5612963438034058},\n",
       " {'corpus_id': 10, 'score': 0.5603558421134949},\n",
       " {'corpus_id': 12, 'score': 0.5521239042282104},\n",
       " {'corpus_id': 4, 'score': 0.549360990524292},\n",
       " {'corpus_id': 5, 'score': 0.5492114424705505}]"
      ]
     },
     "execution_count": 29,
     "metadata": {},
     "output_type": "execute_result"
    }
   ],
   "execution_count": 29
  },
  {
   "metadata": {
    "ExecuteTime": {
     "end_time": "2025-03-23T17:38:44.481413Z",
     "start_time": "2025-03-23T17:38:44.476205Z"
    }
   },
   "cell_type": "code",
   "source": [
    "forward_dict = dict()\n",
    "backward_dict = dict()\n",
    "g1_keys = list(community_embeddings_big.keys())\n",
    "g2_keys = list(community_embeddings_small.keys())\n",
    "\n",
    "for a, b in zip(g1_keys, pair_top_k):\n",
    "    row_info = list()\n",
    "    for element in b:\n",
    "        row_info.append([g2_keys[element[\"corpus_id\"]], element[\"score\"]])\n",
    "    forward_dict[str(a)] = row_info\n",
    "\n",
    "for a, b in zip(g2_keys, reverse_pair_top_k):\n",
    "    row_info = list()\n",
    "    for element in b:\n",
    "        row_info.append([g1_keys[element[\"corpus_id\"]], element[\"score\"]])\n",
    "    backward_dict[str(a)] = row_info"
   ],
   "id": "d1f5643ac275909b",
   "outputs": [],
   "execution_count": 30
  },
  {
   "metadata": {
    "ExecuteTime": {
     "end_time": "2025-03-23T17:38:45.651659Z",
     "start_time": "2025-03-23T17:38:45.644520Z"
    }
   },
   "cell_type": "code",
   "source": [
    "with open(os.path.join(matched_communities_path, f\"{big}-{small}_top_{str(top_k)}_pairs.json\"), \"w\") as f:\n",
    "    json.dump(forward_dict, f)\n",
    "\n",
    "with open(os.path.join(matched_communities_path, f\"{small}-{big}_top_{str(top_k)}_pairs.json\"), \"w\") as f:\n",
    "    json.dump(backward_dict, f)"
   ],
   "id": "b868de543266ed32",
   "outputs": [],
   "execution_count": 31
  },
  {
   "metadata": {
    "ExecuteTime": {
     "end_time": "2025-03-10T11:16:54.789584Z",
     "start_time": "2025-03-10T11:16:54.788082Z"
    }
   },
   "cell_type": "code",
   "source": "",
   "id": "c556018aab0fa318",
   "outputs": [],
   "execution_count": null
  }
 ],
 "metadata": {
  "kernelspec": {
   "display_name": "Python 3",
   "language": "python",
   "name": "python3"
  },
  "language_info": {
   "codemirror_mode": {
    "name": "ipython",
    "version": 2
   },
   "file_extension": ".py",
   "mimetype": "text/x-python",
   "name": "python",
   "nbconvert_exporter": "python",
   "pygments_lexer": "ipython2",
   "version": "2.7.6"
  }
 },
 "nbformat": 4,
 "nbformat_minor": 5
}
