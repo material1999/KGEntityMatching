{
 "cells": [
  {
   "metadata": {
    "ExecuteTime": {
     "end_time": "2025-03-23T17:54:09.809257Z",
     "start_time": "2025-03-23T17:54:06.529759Z"
    }
   },
   "cell_type": "code",
   "source": [
    "import json\n",
    "import torch\n",
    "from sentence_transformers import util\n",
    "import os"
   ],
   "id": "d9164b8d5151b111",
   "outputs": [],
   "execution_count": 1
  },
  {
   "cell_type": "code",
   "id": "initial_id",
   "metadata": {
    "collapsed": true,
    "ExecuteTime": {
     "end_time": "2025-03-23T17:54:10.748971Z",
     "start_time": "2025-03-23T17:54:10.743318Z"
    }
   },
   "source": [
    "big = \"memoryalpha\"\n",
    "small = \"stexpanded\"\n",
    "\n",
    "top_k = 10\n",
    "\n",
    "mapping_file_big = \"./data/triples_v2/\" + big + \"_mapping.json\"\n",
    "mapping_file_small = \"./data/triples_v2/\" + small + \"_mapping.json\"\n",
    "exact_match_file = \"./data/exact_match/\" + big + \"-\" + small + \".json\"\n",
    "\n",
    "communities_big_file = \"./results/communities_leiden/\" + big + \"/level_0.txt\"\n",
    "communities_small_file = \"./results/communities_leiden/\" + small + \"/level_0.txt\"\n",
    "\n",
    "communitiy_embeddings_big_file = \"./results/_community_embeddings/\" + big + \".json\"\n",
    "communitiy_embeddings_small_file = \"./results/_community_embeddings/\" + small + \".json\"\n",
    "\n",
    "node_embeddings_big_file = \"./results/embeddings/\" + big + \"_lab_altlab_type_abs_comment_BAAI_bge-large-en-v1.5.json\"\n",
    "node_embeddings_small_file = \"./results/embeddings/\" + small + \"_lab_altlab_type_abs_comment_BAAI_bge-large-en-v1.5.json\"\n",
    "\n",
    "url_embeddings_big_file = \"./results/url_embeddings_short/\" + big + \"_url_BAAI_bge-large-en-v1.5.json\"\n",
    "url_embeddings_small_file = \"./results/url_embeddings_short/\" + small + \"_url_BAAI_bge-large-en-v1.5.json\"\n",
    "\n",
    "matched_communities_path = f\"./results/_matched_nodes_communities_leiden/top_{top_k}_pairs/\""
   ],
   "outputs": [],
   "execution_count": 2
  },
  {
   "metadata": {
    "ExecuteTime": {
     "end_time": "2025-03-23T17:54:12.427085Z",
     "start_time": "2025-03-23T17:54:12.040765Z"
    }
   },
   "cell_type": "code",
   "source": [
    "with open(exact_match_file) as emf, open(mapping_file_big) as mfb, open(mapping_file_small) as mfs:\n",
    "    mapping_big = json.load(mfb)\n",
    "    mapping_small = json.load(mfs)\n",
    "    exact_match = json.load(emf)"
   ],
   "id": "e530e5547259611f",
   "outputs": [],
   "execution_count": 3
  },
  {
   "metadata": {
    "ExecuteTime": {
     "end_time": "2025-03-23T17:54:13.185473Z",
     "start_time": "2025-03-23T17:54:13.166147Z"
    }
   },
   "cell_type": "code",
   "source": [
    "small_communities = []\n",
    "big_communities = []\n",
    "\n",
    "with open(communities_big_file) as cbf, open(communities_small_file) as csf:\n",
    "    \n",
    "    for line in csf:\n",
    "        numbers_set = {int(num) for num in line.strip().split(\" \")}\n",
    "        small_communities.append(numbers_set)\n",
    "\n",
    "    for line in cbf:\n",
    "        numbers_set = {int(num) for num in line.strip().split(\" \")}\n",
    "        big_communities.append(numbers_set)"
   ],
   "id": "351ec2e9bbc0f02f",
   "outputs": [],
   "execution_count": 4
  },
  {
   "metadata": {
    "ExecuteTime": {
     "end_time": "2025-03-23T17:54:14.130310Z",
     "start_time": "2025-03-23T17:54:14.105139Z"
    }
   },
   "cell_type": "code",
   "source": [
    "with open(communitiy_embeddings_big_file) as cebf, open(communitiy_embeddings_small_file) as cesf:\n",
    "    community_embeddings_big = json.load(cebf)\n",
    "    community_embeddings_big = {k: list(v.values()) for k, v in community_embeddings_big.items()}\n",
    "    community_embeddings_small = json.load(cesf)\n",
    "    community_embeddings_small = {k: list(v.values()) for k, v in community_embeddings_small.items()}"
   ],
   "id": "7c8826d27dcbd9cb",
   "outputs": [],
   "execution_count": 5
  },
  {
   "metadata": {
    "ExecuteTime": {
     "end_time": "2025-03-23T17:54:28.593100Z",
     "start_time": "2025-03-23T17:54:15.322683Z"
    }
   },
   "cell_type": "code",
   "source": [
    "with open(node_embeddings_big_file) as nebf, open(node_embeddings_small_file) as nesf:\n",
    "    node_embeddings_big = json.load(nebf)\n",
    "    node_embeddings_small = json.load(nesf)"
   ],
   "id": "4791489b096f7c60",
   "outputs": [],
   "execution_count": 6
  },
  {
   "metadata": {
    "ExecuteTime": {
     "end_time": "2025-03-23T17:55:27.337341Z",
     "start_time": "2025-03-23T17:54:49.593353Z"
    }
   },
   "cell_type": "code",
   "source": [
    "with open(url_embeddings_big_file) as uebf, open(url_embeddings_small_file) as uesf:\n",
    "    url_embeddings_big = json.load(uebf)\n",
    "    url_embeddings_small = json.load(uesf)"
   ],
   "id": "d36d30e836ff7a54",
   "outputs": [],
   "execution_count": 7
  },
  {
   "metadata": {
    "ExecuteTime": {
     "end_time": "2025-03-23T17:56:04.636870Z",
     "start_time": "2025-03-23T17:56:04.476061Z"
    }
   },
   "cell_type": "code",
   "source": [
    "merged_node_embeddings_big = {key: node_embeddings_big[key] if key in node_embeddings_big else url_embeddings_big[key] for key in set(node_embeddings_big) | set(url_embeddings_big)}\n",
    "merged_node_embeddings_big = {str(k): merged_node_embeddings_big[str(k)] for k in sorted(map(int, merged_node_embeddings_big.keys()))}\n",
    "\n",
    "merged_node_embeddings_small = {key: node_embeddings_small[key] if key in node_embeddings_small else url_embeddings_small[key] for key in set(node_embeddings_small) | set(url_embeddings_small)}\n",
    "merged_node_embeddings_small = {str(k): merged_node_embeddings_small[str(k)] for k in sorted(map(int, merged_node_embeddings_small.keys()))}"
   ],
   "id": "4c7a511fa1960029",
   "outputs": [],
   "execution_count": 8
  },
  {
   "metadata": {
    "ExecuteTime": {
     "end_time": "2025-03-23T17:56:28.652739Z",
     "start_time": "2025-03-23T17:56:08.083747Z"
    }
   },
   "cell_type": "code",
   "source": [
    "big_torch_embeds = torch.Tensor(list(community_embeddings_big.values()))\n",
    "small_torch_embeds = torch.Tensor(list(community_embeddings_small.values()))\n",
    "big_torch_node_embeds = torch.Tensor(list(merged_node_embeddings_big.values()))\n",
    "small_torch_node_embeds = torch.Tensor(list(merged_node_embeddings_small.values()))\n",
    "\n",
    "pair_top_k = util.semantic_search(big_torch_node_embeds, small_torch_embeds, top_k=top_k)\n",
    "reverse_pair_top_k = util.semantic_search(small_torch_node_embeds, big_torch_embeds, top_k=top_k)"
   ],
   "id": "d5617196179cba6",
   "outputs": [],
   "execution_count": 9
  },
  {
   "metadata": {
    "ExecuteTime": {
     "end_time": "2025-03-23T17:57:01.588245Z",
     "start_time": "2025-03-23T17:57:01.573499Z"
    }
   },
   "cell_type": "code",
   "source": "pair_top_k[0]",
   "id": "c7be63caeab37178",
   "outputs": [
    {
     "data": {
      "text/plain": [
       "[{'corpus_id': 10, 'score': 0.7219588756561279},\n",
       " {'corpus_id': 13, 'score': 0.7081436514854431},\n",
       " {'corpus_id': 3, 'score': 0.7067534923553467},\n",
       " {'corpus_id': 14, 'score': 0.7005595564842224},\n",
       " {'corpus_id': 9, 'score': 0.6992205381393433},\n",
       " {'corpus_id': 15, 'score': 0.6989471912384033},\n",
       " {'corpus_id': 1, 'score': 0.6945807933807373},\n",
       " {'corpus_id': 5, 'score': 0.6929985284805298},\n",
       " {'corpus_id': 8, 'score': 0.6862058639526367},\n",
       " {'corpus_id': 11, 'score': 0.6744645237922668}]"
      ]
     },
     "execution_count": 10,
     "metadata": {},
     "output_type": "execute_result"
    }
   ],
   "execution_count": 10
  },
  {
   "metadata": {
    "ExecuteTime": {
     "end_time": "2025-03-23T17:57:03.893704Z",
     "start_time": "2025-03-23T17:57:03.876760Z"
    }
   },
   "cell_type": "code",
   "source": "reverse_pair_top_k[0]",
   "id": "37aa92e0829989f1",
   "outputs": [
    {
     "data": {
      "text/plain": [
       "[{'corpus_id': 0, 'score': 0.6692227721214294},\n",
       " {'corpus_id': 6, 'score': 0.6472312211990356},\n",
       " {'corpus_id': 5, 'score': 0.6347743272781372},\n",
       " {'corpus_id': 7, 'score': 0.6261351704597473},\n",
       " {'corpus_id': 4, 'score': 0.6219273209571838},\n",
       " {'corpus_id': 3, 'score': 0.6183636784553528},\n",
       " {'corpus_id': 11, 'score': 0.6127293109893799},\n",
       " {'corpus_id': 1, 'score': 0.6127233505249023},\n",
       " {'corpus_id': 10, 'score': 0.6110921502113342},\n",
       " {'corpus_id': 2, 'score': 0.6101992130279541}]"
      ]
     },
     "execution_count": 11,
     "metadata": {},
     "output_type": "execute_result"
    }
   ],
   "execution_count": 11
  },
  {
   "metadata": {
    "ExecuteTime": {
     "end_time": "2025-03-23T17:58:52.487281Z",
     "start_time": "2025-03-23T17:57:04.982592Z"
    }
   },
   "cell_type": "code",
   "source": [
    "forward_dict = dict()\n",
    "backward_dict = dict()\n",
    "g1_keys = list(community_embeddings_big.keys())\n",
    "g2_keys = list(community_embeddings_small.keys())\n",
    "g1_node_keys = list(merged_node_embeddings_big.keys())\n",
    "g2_node_keys = list(merged_node_embeddings_small.keys())\n",
    "\n",
    "for a, b in zip(g1_node_keys, pair_top_k):\n",
    "    row_info = list()\n",
    "    for element in b:\n",
    "        row_info.append([g2_keys[element[\"corpus_id\"]], element[\"score\"]])\n",
    "    forward_dict[str(a)] = row_info\n",
    "\n",
    "for a, b in zip(g2_node_keys, reverse_pair_top_k):\n",
    "    row_info = list()\n",
    "    for element in b:\n",
    "        row_info.append([g1_keys[element[\"corpus_id\"]], element[\"score\"]])\n",
    "    backward_dict[str(a)] = row_info"
   ],
   "id": "d1f5643ac275909b",
   "outputs": [],
   "execution_count": 12
  },
  {
   "metadata": {
    "ExecuteTime": {
     "end_time": "2025-03-23T17:58:59.949447Z",
     "start_time": "2025-03-23T17:58:57.957420Z"
    }
   },
   "cell_type": "code",
   "source": [
    "with open(os.path.join(matched_communities_path, f\"{big}-{small}_top_{str(top_k)}_pairs.json\"), \"w\") as f:\n",
    "    json.dump(forward_dict, f)\n",
    "\n",
    "with open(os.path.join(matched_communities_path, f\"{small}-{big}_top_{str(top_k)}_pairs.json\"), \"w\") as f:\n",
    "    json.dump(backward_dict, f)"
   ],
   "id": "b868de543266ed32",
   "outputs": [],
   "execution_count": 13
  },
  {
   "metadata": {},
   "cell_type": "code",
   "source": "",
   "id": "c556018aab0fa318",
   "outputs": [],
   "execution_count": null
  }
 ],
 "metadata": {
  "kernelspec": {
   "display_name": "Python 3",
   "language": "python",
   "name": "python3"
  },
  "language_info": {
   "codemirror_mode": {
    "name": "ipython",
    "version": 2
   },
   "file_extension": ".py",
   "mimetype": "text/x-python",
   "name": "python",
   "nbconvert_exporter": "python",
   "pygments_lexer": "ipython2",
   "version": "2.7.6"
  }
 },
 "nbformat": 4,
 "nbformat_minor": 5
}
