{
 "cells": [
  {
   "cell_type": "code",
   "id": "initial_id",
   "metadata": {
    "collapsed": true,
    "ExecuteTime": {
     "end_time": "2025-04-12T15:01:04.817135Z",
     "start_time": "2025-04-12T15:01:04.805040Z"
    }
   },
   "source": [
    "import json\n",
    "from tqdm import tqdm\n",
    "import torch\n",
    "from sentence_transformers import util"
   ],
   "outputs": [],
   "execution_count": 5
  },
  {
   "metadata": {
    "ExecuteTime": {
     "end_time": "2025-04-12T15:01:05.508528Z",
     "start_time": "2025-04-12T15:01:05.501418Z"
    }
   },
   "cell_type": "code",
   "source": [
    "big = \"starwars\"\n",
    "small = \"swg\"\n",
    "\n",
    "mapping_file_big = \"./data/triples_v2/\" + big + \"_mapping.json\"\n",
    "mapping_file_small = \"./data/triples_v2/\" + small + \"_mapping.json\"\n",
    "\n",
    "communities_big_file = \"./results/communities_leiden/\" + big + \"/final.txt\"\n",
    "communitiy_embeddings_big_file = \"./results/community_embeddings/\" + big + \".json\"\n",
    "\n",
    "node_embeddings_small_file = \"./results/embeddings/\" + small + \"_lab_altlab_type_abs_comment_BAAI_bge-large-en-v1.5.json\"\n",
    "url_embeddings_small_file = \"./results/url_embeddings_short/\" + small + \"_url_BAAI_bge-large-en-v1.5.json\"\n",
    "\n",
    "exact_match_file = \"./data/exact_match/\" + big + \"-\" + small + \"-formatted.json\"\n",
    "gold_pairs_file = \"./data/gold_pairs/\" + big + \"-\" + small + \"_formatted.txt\"\n",
    "\n",
    "top10pairs_file = \"./results/top10pairs/\" + small + \"-\" + big + \"_top10pairs.json\""
   ],
   "id": "499fbfcdeb9e15c2",
   "outputs": [],
   "execution_count": 6
  },
  {
   "metadata": {
    "ExecuteTime": {
     "end_time": "2025-04-12T15:01:14.934462Z",
     "start_time": "2025-04-12T15:01:06.175269Z"
    }
   },
   "cell_type": "code",
   "source": [
    "big_communities = []\n",
    "gold_pairs = []\n",
    "\n",
    "with open(communities_big_file) as cbf, open(gold_pairs_file) as gpf:\n",
    "\n",
    "    for line in cbf:\n",
    "        numbers_set = {int(num) for num in line.strip().split(\" \")}\n",
    "        big_communities.append(numbers_set)\n",
    "\n",
    "    for line in gpf:\n",
    "        numbers_list = [int(num) for num in line.strip().split(\";\")]\n",
    "        gold_pairs.append(numbers_list)\n",
    "\n",
    "with open(exact_match_file) as file:\n",
    "    exact_match = json.load(file)\n",
    "\n",
    "gold_not_exact = list()\n",
    "for p in gold_pairs:\n",
    "    if [p[0], p[1]] not in exact_match:\n",
    "        gold_not_exact.append([p[0], p[1]])\n",
    "\n",
    "with open(communitiy_embeddings_big_file) as cebf:\n",
    "    community_embeddings_big = json.load(cebf)\n",
    "    community_embeddings_big = {k: list(v.values()) for k, v in community_embeddings_big.items()}\n",
    "\n",
    "with open(top10pairs_file) as file:\n",
    "    top10pairs = json.load(file)\n",
    "\n",
    "with open(node_embeddings_small_file) as nesf:\n",
    "    node_embeddings_small = json.load(nesf)\n",
    "\n",
    "with open(url_embeddings_small_file) as uesf:\n",
    "    url_embeddings_small = json.load(uesf)\n",
    "\n",
    "merged_node_embeddings_small = {key: node_embeddings_small[key] if key in node_embeddings_small else url_embeddings_small[key] for key in set(node_embeddings_small) | set(url_embeddings_small)}\n",
    "merged_node_embeddings_small = {str(k): merged_node_embeddings_small[str(k)] for k in sorted(map(int, merged_node_embeddings_small.keys()))}"
   ],
   "id": "d436b14ffb457380",
   "outputs": [],
   "execution_count": 7
  },
  {
   "metadata": {
    "ExecuteTime": {
     "end_time": "2025-04-12T15:01:16.849954Z",
     "start_time": "2025-04-12T15:01:16.837012Z"
    }
   },
   "cell_type": "code",
   "source": [
    "top1dict = dict()\n",
    "\n",
    "for k, v in top10pairs.items():\n",
    "    top1dict[int(k)] = int(v[0][0])"
   ],
   "id": "867daf83f5986b41",
   "outputs": [],
   "execution_count": 8
  },
  {
   "metadata": {
    "ExecuteTime": {
     "end_time": "2025-04-12T15:02:35.576624Z",
     "start_time": "2025-04-12T15:02:35.553086Z"
    }
   },
   "cell_type": "code",
   "source": [
    "found = 0\n",
    "all_pairs = len(gold_pairs)\n",
    "# all_pairs = len(gold_not_exact)\n",
    "\n",
    "for gold_pair in tqdm(gold_pairs):\n",
    "# for gold_pair in tqdm(gold_not_exact):\n",
    "    if top1dict.get(gold_pair[1]) == gold_pair[0]:\n",
    "        found += 1\n",
    "    # else:\n",
    "    #     print(gold_pair)\n",
    "\n",
    "print(\"Gold pairs in top 1: \" + str(found / all_pairs * 100) + \"% (\" + str(found) + \")\")"
   ],
   "id": "2fe177cac778474e",
   "outputs": [
    {
     "name": "stderr",
     "output_type": "stream",
     "text": [
      "100%|██████████| 1121/1121 [00:00<00:00, 777930.97it/s]"
     ]
    },
    {
     "name": "stdout",
     "output_type": "stream",
     "text": [
      "Gold pairs in top 1: 72.97056199821587% (818)\n"
     ]
    },
    {
     "name": "stderr",
     "output_type": "stream",
     "text": [
      "\n"
     ]
    }
   ],
   "execution_count": 14
  },
  {
   "metadata": {
    "ExecuteTime": {
     "end_time": "2025-04-12T15:02:36.409582Z",
     "start_time": "2025-04-12T15:02:36.331687Z"
    }
   },
   "cell_type": "code",
   "source": [
    "node_to_community_embeddings = dict()\n",
    "index = 0\n",
    "for community in big_communities:\n",
    "    for node in community:\n",
    "        node_to_community_embeddings[node] = community_embeddings_big[str(index)]\n",
    "    index += 1"
   ],
   "id": "894a2cafa84dba7a",
   "outputs": [],
   "execution_count": 15
  },
  {
   "metadata": {
    "ExecuteTime": {
     "end_time": "2025-04-12T15:03:15.486961Z",
     "start_time": "2025-04-12T15:03:10.795471Z"
    }
   },
   "cell_type": "code",
   "source": [
    "top1dict_reordered = dict()\n",
    "\n",
    "for k in tqdm(top10pairs.keys()):\n",
    "\n",
    "    node_embeds = torch.Tensor(merged_node_embeddings_small[str(k)])\n",
    "    # compare_list = [node_to_community_embeddings[int(item[0])] for item in top10pairs[str(k)]]\n",
    "    compare_list = [\n",
    "        node_to_community_embeddings.get(int(item[0]))\n",
    "        for item in top10pairs[str(k)]\n",
    "        if int(item[0]) in node_to_community_embeddings\n",
    "    ]\n",
    "    big_torch_embeds = torch.Tensor(compare_list)\n",
    "\n",
    "    community_order = util.semantic_search(node_embeds, big_torch_embeds)\n",
    "\n",
    "    best_score = 0\n",
    "\n",
    "    for item in community_order[0]:\n",
    "        score = top10pairs[str(k)][item['corpus_id']][1] + 0.2 * item['score']\n",
    "        id_node = top10pairs[str(k)][item['corpus_id']][0]\n",
    "        if score > best_score:\n",
    "            best_score = score\n",
    "            top1dict_reordered[int(str(k))] = int(id_node)"
   ],
   "id": "9bdbfce20f17f505",
   "outputs": [
    {
     "name": "stderr",
     "output_type": "stream",
     "text": [
      "100%|██████████| 10497/10497 [00:04<00:00, 2241.95it/s]\n"
     ]
    }
   ],
   "execution_count": 20
  },
  {
   "metadata": {
    "ExecuteTime": {
     "end_time": "2025-04-12T15:03:16.133159Z",
     "start_time": "2025-04-12T15:03:16.125488Z"
    }
   },
   "cell_type": "code",
   "source": [
    "found = 0\n",
    "all_pairs = len(gold_pairs)\n",
    "# all_pairs = len(gold_not_exact)\n",
    "\n",
    "for gold_pair in tqdm(gold_pairs):\n",
    "# for gold_pair in tqdm(gold_not_exact):\n",
    "    if top1dict_reordered.get(gold_pair[1]) == gold_pair[0]:\n",
    "        found += 1\n",
    "\n",
    "print(\"Gold pairs in reordered top 1: \" + str(found / all_pairs * 100) + \"% (\" + str(found) + \")\")"
   ],
   "id": "26e8a416bfcbd80b",
   "outputs": [
    {
     "name": "stderr",
     "output_type": "stream",
     "text": [
      "100%|██████████| 1121/1121 [00:00<00:00, 988606.98it/s]"
     ]
    },
    {
     "name": "stdout",
     "output_type": "stream",
     "text": [
      "Gold pairs in reordered top 1: 71.72167707404104% (804)\n"
     ]
    },
    {
     "name": "stderr",
     "output_type": "stream",
     "text": [
      "\n"
     ]
    }
   ],
   "execution_count": 21
  },
  {
   "metadata": {
    "ExecuteTime": {
     "end_time": "2025-03-31T20:41:55.833256Z",
     "start_time": "2025-03-31T20:41:55.830968Z"
    }
   },
   "cell_type": "code",
   "source": [
    "# node_embeds = torch.Tensor(merged_node_embeddings_small['2440'])\n",
    "# compare_list = [node_to_community_embeddings[int(item[0])] for item in top10pairs['2440']]\n",
    "# big_torch_embeds = torch.Tensor(compare_list)\n",
    "#\n",
    "# community_order = util.semantic_search(node_embeds, big_torch_embeds)"
   ],
   "id": "ed95168a4255d92b",
   "outputs": [],
   "execution_count": 9
  },
  {
   "metadata": {
    "ExecuteTime": {
     "end_time": "2025-03-31T20:41:55.962399Z",
     "start_time": "2025-03-31T20:41:55.959988Z"
    }
   },
   "cell_type": "code",
   "source": "# top10pairs['2440']",
   "id": "5364d9fa62e1afed",
   "outputs": [],
   "execution_count": 10
  },
  {
   "metadata": {
    "ExecuteTime": {
     "end_time": "2025-03-31T20:41:55.970263Z",
     "start_time": "2025-03-31T20:41:55.968623Z"
    }
   },
   "cell_type": "code",
   "source": "# community_order",
   "id": "fc00d9ddd5e8cb0a",
   "outputs": [],
   "execution_count": 11
  },
  {
   "metadata": {
    "ExecuteTime": {
     "end_time": "2025-03-31T20:41:55.993349Z",
     "start_time": "2025-03-31T20:41:55.991135Z"
    }
   },
   "cell_type": "code",
   "source": [
    "# top1dict_reordered = dict()\n",
    "# best_score = 0\n",
    "#\n",
    "# for item in community_order[0]:\n",
    "#     score = top10pairs['2440'][item['corpus_id']][1] + 0.5 * item['score']\n",
    "#     id_node = top10pairs['2440'][item['corpus_id']][0]\n",
    "#     print(id_node, score)\n",
    "#     if score > best_score:\n",
    "#         best_score = score\n",
    "#         top1dict_reordered[int('2440')] = int(id_node)"
   ],
   "id": "94fe2229ffc67209",
   "outputs": [],
   "execution_count": 12
  },
  {
   "metadata": {
    "ExecuteTime": {
     "end_time": "2025-03-31T20:41:56.016104Z",
     "start_time": "2025-03-31T20:41:56.013698Z"
    }
   },
   "cell_type": "code",
   "source": "# top1dict_reordered",
   "id": "37aebcc683a0c329",
   "outputs": [],
   "execution_count": 13
  },
  {
   "metadata": {
    "ExecuteTime": {
     "end_time": "2025-03-31T20:41:56.037636Z",
     "start_time": "2025-03-31T20:41:56.036166Z"
    }
   },
   "cell_type": "code",
   "source": "",
   "id": "29aad77700584e3a",
   "outputs": [],
   "execution_count": null
  }
 ],
 "metadata": {
  "kernelspec": {
   "display_name": "Python 3",
   "language": "python",
   "name": "python3"
  },
  "language_info": {
   "codemirror_mode": {
    "name": "ipython",
    "version": 2
   },
   "file_extension": ".py",
   "mimetype": "text/x-python",
   "name": "python",
   "nbconvert_exporter": "python",
   "pygments_lexer": "ipython2",
   "version": "2.7.6"
  }
 },
 "nbformat": 4,
 "nbformat_minor": 5
}
