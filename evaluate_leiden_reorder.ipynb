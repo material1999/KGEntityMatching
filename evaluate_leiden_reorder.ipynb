{
 "cells": [
  {
   "cell_type": "code",
   "id": "initial_id",
   "metadata": {
    "collapsed": true,
    "ExecuteTime": {
     "end_time": "2025-03-31T19:33:54.140214Z",
     "start_time": "2025-03-31T19:33:50.755279Z"
    }
   },
   "source": [
    "import json\n",
    "from tqdm import tqdm\n",
    "import torch\n",
    "from sentence_transformers import util"
   ],
   "outputs": [],
   "execution_count": 1
  },
  {
   "metadata": {
    "ExecuteTime": {
     "end_time": "2025-03-31T19:33:54.773885Z",
     "start_time": "2025-03-31T19:33:54.767755Z"
    }
   },
   "cell_type": "code",
   "source": [
    "big = \"memoryalpha\"\n",
    "small = \"stexpanded\"\n",
    "\n",
    "mapping_file_big = \"./data/triples_v2/\" + big + \"_mapping.json\"\n",
    "mapping_file_small = \"./data/triples_v2/\" + small + \"_mapping.json\"\n",
    "\n",
    "communities_big_file = \"./results/communities_leiden/\" + big + \"/final.txt\"\n",
    "communitiy_embeddings_big_file = \"./results/community_embeddings/\" + big + \".json\"\n",
    "\n",
    "node_embeddings_small_file = \"./results/embeddings/\" + small + \"_lab_altlab_type_abs_comment_BAAI_bge-large-en-v1.5.json\"\n",
    "url_embeddings_small_file = \"./results/url_embeddings_short/\" + small + \"_url_BAAI_bge-large-en-v1.5.json\"\n",
    "\n",
    "exact_match_file = \"./data/exact_match/\" + big + \"-\" + small + \"-formatted.json\"\n",
    "gold_pairs_file = \"./data/gold_pairs/\" + big + \"-\" + small + \"_formatted.txt\"\n",
    "\n",
    "top10pairs_file = \"./results/top10pairs/\" + small + \"-\" + big + \"_top10pairs.json\""
   ],
   "id": "499fbfcdeb9e15c2",
   "outputs": [],
   "execution_count": 2
  },
  {
   "metadata": {
    "ExecuteTime": {
     "end_time": "2025-03-31T19:34:07.600252Z",
     "start_time": "2025-03-31T19:33:55.425601Z"
    }
   },
   "cell_type": "code",
   "source": [
    "big_communities = []\n",
    "gold_pairs = []\n",
    "\n",
    "with open(communities_big_file) as cbf, open(gold_pairs_file) as gpf:\n",
    "\n",
    "    for line in cbf:\n",
    "        numbers_set = {int(num) for num in line.strip().split(\" \")}\n",
    "        big_communities.append(numbers_set)\n",
    "\n",
    "    for line in gpf:\n",
    "        numbers_list = [int(num) for num in line.strip().split(\";\")]\n",
    "        gold_pairs.append(numbers_list)\n",
    "\n",
    "with open(exact_match_file) as file:\n",
    "    exact_match = json.load(file)\n",
    "\n",
    "gold_not_exact = list()\n",
    "for p in gold_pairs:\n",
    "    if [p[0], p[1]] not in exact_match:\n",
    "        gold_not_exact.append([p[0], p[1]])\n",
    "\n",
    "with open(communitiy_embeddings_big_file) as cebf:\n",
    "    community_embeddings_big = json.load(cebf)\n",
    "    community_embeddings_big = {k: list(v.values()) for k, v in community_embeddings_big.items()}\n",
    "\n",
    "with open(top10pairs_file) as file:\n",
    "    top10pairs = json.load(file)\n",
    "\n",
    "with open(node_embeddings_small_file) as nesf:\n",
    "    node_embeddings_small = json.load(nesf)\n",
    "\n",
    "with open(url_embeddings_small_file) as uesf:\n",
    "    url_embeddings_small = json.load(uesf)\n",
    "\n",
    "merged_node_embeddings_small = {key: node_embeddings_small[key] if key in node_embeddings_small else url_embeddings_small[key] for key in set(node_embeddings_small) | set(url_embeddings_small)}\n",
    "merged_node_embeddings_small = {str(k): merged_node_embeddings_small[str(k)] for k in sorted(map(int, merged_node_embeddings_small.keys()))}"
   ],
   "id": "d436b14ffb457380",
   "outputs": [],
   "execution_count": 3
  },
  {
   "metadata": {
    "ExecuteTime": {
     "end_time": "2025-03-31T19:34:10.267084Z",
     "start_time": "2025-03-31T19:34:10.250171Z"
    }
   },
   "cell_type": "code",
   "source": [
    "top1dict = dict()\n",
    "\n",
    "for k, v in top10pairs.items():\n",
    "    top1dict[int(k)] = int(v[0][0])"
   ],
   "id": "867daf83f5986b41",
   "outputs": [],
   "execution_count": 4
  },
  {
   "metadata": {
    "ExecuteTime": {
     "end_time": "2025-03-31T19:34:12.082102Z",
     "start_time": "2025-03-31T19:34:12.028667Z"
    }
   },
   "cell_type": "code",
   "source": [
    "found = 0\n",
    "all_pairs = len(gold_pairs)\n",
    "# all_pairs = len(gold_not_exact)\n",
    "\n",
    "for gold_pair in tqdm(gold_pairs):\n",
    "# for gold_pair in tqdm(gold_not_exact):\n",
    "    if top1dict.get(gold_pair[1]) == gold_pair[0]:\n",
    "        found += 1\n",
    "    # else:\n",
    "    #     print(gold_pair)\n",
    "\n",
    "print(\"Gold pairs in top 1: \" + str(found / all_pairs * 100) + \"%\")"
   ],
   "id": "2fe177cac778474e",
   "outputs": [
    {
     "name": "stderr",
     "output_type": "stream",
     "text": [
      "100%|██████████| 1779/1779 [00:00<00:00, 1135372.31it/s]"
     ]
    },
    {
     "name": "stdout",
     "output_type": "stream",
     "text": [
      "Gold pairs in top 1: 78.13378302417088%\n"
     ]
    },
    {
     "name": "stderr",
     "output_type": "stream",
     "text": [
      "\n"
     ]
    }
   ],
   "execution_count": 5
  },
  {
   "metadata": {
    "ExecuteTime": {
     "end_time": "2025-03-31T19:34:14.117454Z",
     "start_time": "2025-03-31T19:34:14.085577Z"
    }
   },
   "cell_type": "code",
   "source": [
    "node_to_community_embeddings = dict()\n",
    "index = 0\n",
    "for community in big_communities:\n",
    "    for node in community:\n",
    "        node_to_community_embeddings[node] = community_embeddings_big[str(index)]\n",
    "    index += 1"
   ],
   "id": "894a2cafa84dba7a",
   "outputs": [],
   "execution_count": 6
  },
  {
   "metadata": {},
   "cell_type": "code",
   "outputs": [],
   "execution_count": null,
   "source": "#TODO",
   "id": "9bdbfce20f17f505"
  },
  {
   "metadata": {
    "ExecuteTime": {
     "end_time": "2025-03-31T19:46:05.621907Z",
     "start_time": "2025-03-31T19:46:05.593834Z"
    }
   },
   "cell_type": "code",
   "source": [
    "node_embeds = torch.Tensor(merged_node_embeddings_small['2440'])\n",
    "compare_list = [node_to_community_embeddings[int(item[0])] for item in top10pairs['0']]\n",
    "big_torch_embeds = torch.Tensor(compare_list)\n",
    "\n",
    "community_order = util.semantic_search(node_embeds, big_torch_embeds)"
   ],
   "id": "ed95168a4255d92b",
   "outputs": [],
   "execution_count": 32
  },
  {
   "metadata": {
    "ExecuteTime": {
     "end_time": "2025-03-31T19:46:06.187067Z",
     "start_time": "2025-03-31T19:46:06.181880Z"
    }
   },
   "cell_type": "code",
   "source": "top10pairs['2440']",
   "id": "5364d9fa62e1afed",
   "outputs": [
    {
     "data": {
      "text/plain": [
       "[['73628', 0.7748620510101318],\n",
       " ['34463', 0.7659156918525696],\n",
       " ['139583', 0.710580050945282],\n",
       " ['92236', 0.7008298635482788],\n",
       " ['22527', 0.6984464526176453],\n",
       " ['93865', 0.6762269735336304],\n",
       " ['15660', 0.6759642362594604],\n",
       " ['54670', 0.6698982119560242],\n",
       " ['9430', 0.6697186827659607],\n",
       " ['67271', 0.6663190722465515]]"
      ]
     },
     "execution_count": 33,
     "metadata": {},
     "output_type": "execute_result"
    }
   ],
   "execution_count": 33
  },
  {
   "metadata": {
    "ExecuteTime": {
     "end_time": "2025-03-31T19:46:06.738977Z",
     "start_time": "2025-03-31T19:46:06.734068Z"
    }
   },
   "cell_type": "code",
   "source": "community_order",
   "id": "fc00d9ddd5e8cb0a",
   "outputs": [
    {
     "data": {
      "text/plain": [
       "[[{'corpus_id': 8, 'score': 0.6746936440467834},\n",
       "  {'corpus_id': 1, 'score': 0.6725383996963501},\n",
       "  {'corpus_id': 9, 'score': 0.6617224216461182},\n",
       "  {'corpus_id': 5, 'score': 0.6589083671569824},\n",
       "  {'corpus_id': 4, 'score': 0.652053713798523},\n",
       "  {'corpus_id': 2, 'score': 0.6348870992660522},\n",
       "  {'corpus_id': 7, 'score': 0.6225403547286987},\n",
       "  {'corpus_id': 0, 'score': 0.6225403547286987},\n",
       "  {'corpus_id': 6, 'score': 0.6205182075500488},\n",
       "  {'corpus_id': 3, 'score': 0.6166427135467529}]]"
      ]
     },
     "execution_count": 34,
     "metadata": {},
     "output_type": "execute_result"
    }
   ],
   "execution_count": 34
  },
  {
   "metadata": {
    "ExecuteTime": {
     "end_time": "2025-03-31T19:50:59.619377Z",
     "start_time": "2025-03-31T19:50:59.610802Z"
    }
   },
   "cell_type": "code",
   "source": [
    "top1dict_reordered = dict()\n",
    "best_score = 0\n",
    "\n",
    "for item in community_order[0]:\n",
    "    score = top10pairs['2440'][item['corpus_id']][1] + 0.5 * item['score']\n",
    "    id_node = top10pairs['2440'][item['corpus_id']][0]\n",
    "    print(id_node, score)\n",
    "    if score > best_score:\n",
    "        best_score = score\n",
    "        top1dict_reordered[int('2440')] = int(id_node)"
   ],
   "id": "94fe2229ffc67209",
   "outputs": [
    {
     "name": "stdout",
     "output_type": "stream",
     "text": [
      "9430 1.0070655047893524\n",
      "34463 1.1021848917007446\n",
      "67271 0.9971802830696106\n",
      "93865 1.0056811571121216\n",
      "22527 1.0244733095169067\n",
      "139583 1.028023600578308\n",
      "54670 0.9811683893203735\n",
      "73628 1.0861322283744812\n",
      "15660 0.9862233400344849\n",
      "92236 1.0091512203216553\n"
     ]
    }
   ],
   "execution_count": 38
  },
  {
   "metadata": {
    "ExecuteTime": {
     "end_time": "2025-03-31T19:51:00.424335Z",
     "start_time": "2025-03-31T19:51:00.419220Z"
    }
   },
   "cell_type": "code",
   "source": "top1dict_reordered",
   "id": "37aebcc683a0c329",
   "outputs": [
    {
     "data": {
      "text/plain": [
       "{2440: 34463}"
      ]
     },
     "execution_count": 39,
     "metadata": {},
     "output_type": "execute_result"
    }
   ],
   "execution_count": 39
  },
  {
   "metadata": {},
   "cell_type": "code",
   "outputs": [],
   "execution_count": null,
   "source": "",
   "id": "29aad77700584e3a"
  }
 ],
 "metadata": {
  "kernelspec": {
   "display_name": "Python 3",
   "language": "python",
   "name": "python3"
  },
  "language_info": {
   "codemirror_mode": {
    "name": "ipython",
    "version": 2
   },
   "file_extension": ".py",
   "mimetype": "text/x-python",
   "name": "python",
   "nbconvert_exporter": "python",
   "pygments_lexer": "ipython2",
   "version": "2.7.6"
  }
 },
 "nbformat": 4,
 "nbformat_minor": 5
}
