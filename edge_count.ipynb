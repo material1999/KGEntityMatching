{
 "cells": [
  {
   "metadata": {
    "ExecuteTime": {
     "end_time": "2025-07-14T13:44:00.806237Z",
     "start_time": "2025-07-14T13:44:00.799447Z"
    }
   },
   "cell_type": "code",
   "source": "import json",
   "id": "8b04d60c4ca1234b",
   "outputs": [],
   "execution_count": 8
  },
  {
   "cell_type": "code",
   "id": "initial_id",
   "metadata": {
    "collapsed": true,
    "ExecuteTime": {
     "end_time": "2025-07-14T13:44:01.088142Z",
     "start_time": "2025-07-14T13:44:01.083494Z"
    }
   },
   "source": [
    "graph = \"memoryalpha\"\n",
    "triples_file = \"_input/triples/\" + graph + \".triples\"\n",
    "mappings_file = \"./_input/mappings/\" + graph + \".json\""
   ],
   "outputs": [],
   "execution_count": 9
  },
  {
   "metadata": {
    "ExecuteTime": {
     "end_time": "2025-07-14T13:44:01.881224Z",
     "start_time": "2025-07-14T13:44:01.426477Z"
    }
   },
   "cell_type": "code",
   "source": [
    "with open(mappings_file) as file:\n",
    "    mappings = json.load(file)\n",
    "    mappings = {str(v): k for k, v in mappings.items()}\n",
    "    mappings_reversed = {v: k for k, v in mappings.items()}"
   ],
   "id": "84bbbf9201959b30",
   "outputs": [],
   "execution_count": 10
  },
  {
   "metadata": {
    "ExecuteTime": {
     "end_time": "2025-07-14T13:44:03.001305Z",
     "start_time": "2025-07-14T13:44:02.451841Z"
    }
   },
   "cell_type": "code",
   "source": [
    "count_dict = dict()\n",
    "with open(triples_file) as triples_file:\n",
    "    for line in triples_file:\n",
    "        edgetype = str(line.strip().split(\"###\")[2])\n",
    "        if edgetype not in count_dict:\n",
    "            count_dict[edgetype] = 1\n",
    "        else:\n",
    "            count_dict[edgetype] += 1\n",
    "\n",
    "sorted_dict = dict(sorted(count_dict.items(), key=lambda item: item[1], reverse=True))"
   ],
   "id": "b465f8fed0723b4c",
   "outputs": [],
   "execution_count": 11
  },
  {
   "metadata": {
    "ExecuteTime": {
     "end_time": "2025-07-14T13:44:03.586181Z",
     "start_time": "2025-07-14T13:44:03.580208Z"
    }
   },
   "cell_type": "code",
   "source": "len(sorted_dict)",
   "id": "ccee23b469ed9228",
   "outputs": [
    {
     "data": {
      "text/plain": [
       "173"
      ]
     },
     "execution_count": 12,
     "metadata": {},
     "output_type": "execute_result"
    }
   ],
   "execution_count": 12
  },
  {
   "metadata": {
    "ExecuteTime": {
     "end_time": "2025-07-14T13:44:04.281142Z",
     "start_time": "2025-07-14T13:44:04.277337Z"
    }
   },
   "cell_type": "code",
   "source": "sorted_dict = {mappings[k]: v for k, v in sorted_dict.items()}",
   "id": "fc17bcc94bc74f1c",
   "outputs": [],
   "execution_count": 13
  },
  {
   "metadata": {
    "ExecuteTime": {
     "end_time": "2025-07-14T13:44:05.082596Z",
     "start_time": "2025-07-14T13:44:05.073546Z"
    }
   },
   "cell_type": "code",
   "source": "sorted_dict",
   "id": "7e9a6519589007b0",
   "outputs": [
    {
     "data": {
      "text/plain": [
       "{'http://dbkwik.webdatacommons.org/ontology/wikiPageWikiLink': 1389844,\n",
       " 'http://purl.org/dc/terms/subject': 74005,\n",
       " 'http://www.w3.org/1999/02/22-rdf-syntax-ns#type': 45800,\n",
       " 'http://dbkwik.webdatacommons.org/memory-alpha.wikia.com/property/characters': 5228,\n",
       " 'http://dbkwik.webdatacommons.org/memory-alpha.wikia.com/property/roles': 4263,\n",
       " 'http://dbkwik.webdatacommons.org/memory-alpha.wikia.com/property/affiliation': 3518,\n",
       " 'http://www.w3.org/2004/02/skos/core#broader': 3451,\n",
       " 'http://dbkwik.webdatacommons.org/memory-alpha.wikia.com/property/occupation': 3429,\n",
       " 'http://dbkwik.webdatacommons.org/memory-alpha.wikia.com/property/publisher': 3408,\n",
       " 'http://dbkwik.webdatacommons.org/memory-alpha.wikia.com/property/actor': 3273,\n",
       " 'http://dbkwik.webdatacommons.org/memory-alpha.wikia.com/property/series': 3213,\n",
       " 'http://dbkwik.webdatacommons.org/memory-alpha.wikia.com/property/species': 3095,\n",
       " 'http://dbkwik.webdatacommons.org/memory-alpha.wikia.com/property/gender': 2557,\n",
       " 'http://dbkwik.webdatacommons.org/memory-alpha.wikia.com/property/next': 2002,\n",
       " 'http://dbkwik.webdatacommons.org/memory-alpha.wikia.com/property/artist': 1981,\n",
       " 'http://dbkwik.webdatacommons.org/memory-alpha.wikia.com/property/prev': 1933,\n",
       " 'http://dbkwik.webdatacommons.org/memory-alpha.wikia.com/property/author': 1526,\n",
       " 'http://dbkwik.webdatacommons.org/memory-alpha.wikia.com/property/imagecap': 1348,\n",
       " 'http://dbkwik.webdatacommons.org/memory-alpha.wikia.com/property/writer': 1222,\n",
       " 'http://dbkwik.webdatacommons.org/ontology/wikiPageDisambiguates': 1176,\n",
       " 'http://dbkwik.webdatacommons.org/memory-alpha.wikia.com/property/type': 1165,\n",
       " 'http://dbkwik.webdatacommons.org/memory-alpha.wikia.com/property/rank': 1094,\n",
       " 'http://dbkwik.webdatacommons.org/memory-alpha.wikia.com/property/operator': 823,\n",
       " 'http://dbkwik.webdatacommons.org/memory-alpha.wikia.com/property/location': 804,\n",
       " 'http://dbkwik.webdatacommons.org/memory-alpha.wikia.com/property/wsdirectedby': 750,\n",
       " 'http://dbkwik.webdatacommons.org/memory-alpha.wikia.com/property/relative': 574,\n",
       " 'http://dbkwik.webdatacommons.org/memory-alpha.wikia.com/property/editor': 562,\n",
       " 'http://dbkwik.webdatacommons.org/memory-alpha.wikia.com/property/wswrittenby': 546,\n",
       " 'http://dbkwik.webdatacommons.org/memory-alpha.wikia.com/property/wsstoryby': 543,\n",
       " 'http://dbkwik.webdatacommons.org/memory-alpha.wikia.com/property/publication': 497,\n",
       " 'http://dbkwik.webdatacommons.org/memory-alpha.wikia.com/property/wsteleplayby': 488,\n",
       " 'http://dbkwik.webdatacommons.org/memory-alpha.wikia.com/property/class': 374,\n",
       " 'http://dbkwik.webdatacommons.org/memory-alpha.wikia.com/property/status': 364,\n",
       " 'http://dbkwik.webdatacommons.org/memory-alpha.wikia.com/property/children': 345,\n",
       " 'http://dbkwik.webdatacommons.org/memory-alpha.wikia.com/property/owner': 327,\n",
       " 'http://dbkwik.webdatacommons.org/memory-alpha.wikia.com/property/planet': 312,\n",
       " 'http://dbkwik.webdatacommons.org/memory-alpha.wikia.com/property/nativeSpecies': 300,\n",
       " 'http://dbkwik.webdatacommons.org/memory-alpha.wikia.com/property/spouse': 299,\n",
       " 'http://dbkwik.webdatacommons.org/memory-alpha.wikia.com/property/died': 278,\n",
       " 'http://dbkwik.webdatacommons.org/memory-alpha.wikia.com/property/registry': 274,\n",
       " 'http://dbkwik.webdatacommons.org/memory-alpha.wikia.com/property/maritalStatus': 266,\n",
       " 'http://dbkwik.webdatacommons.org/memory-alpha.wikia.com/property/sibling': 260,\n",
       " 'http://dbkwik.webdatacommons.org/memory-alpha.wikia.com/property/father': 260,\n",
       " 'http://dbkwik.webdatacommons.org/memory-alpha.wikia.com/property/appearance': 253,\n",
       " 'http://dbkwik.webdatacommons.org/memory-alpha.wikia.com/property/commander': 218,\n",
       " 'http://dbkwik.webdatacommons.org/memory-alpha.wikia.com/property/director': 215,\n",
       " 'http://dbkwik.webdatacommons.org/memory-alpha.wikia.com/property/format': 208,\n",
       " 'http://dbkwik.webdatacommons.org/memory-alpha.wikia.com/property/mother': 186,\n",
       " 'http://dbkwik.webdatacommons.org/memory-alpha.wikia.com/property/born': 176,\n",
       " 'http://dbkwik.webdatacommons.org/memory-alpha.wikia.com/property/defenses': 159,\n",
       " 'http://dbkwik.webdatacommons.org/memory-alpha.wikia.com/property/combatant': 158,\n",
       " 'http://dbkwik.webdatacommons.org/memory-alpha.wikia.com/property/quadrant': 156,\n",
       " 'http://dbkwik.webdatacommons.org/memory-alpha.wikia.com/property/creator': 156,\n",
       " 'http://dbkwik.webdatacommons.org/memory-alpha.wikia.com/property/wsarc0desc': 155,\n",
       " 'http://dbkwik.webdatacommons.org/memory-alpha.wikia.com/property/composer': 152,\n",
       " 'http://dbkwik.webdatacommons.org/memory-alpha.wikia.com/property/armament': 146,\n",
       " 'http://www.w3.org/2004/02/skos/core#related': 143,\n",
       " 'http://dbkwik.webdatacommons.org/memory-alpha.wikia.com/property/abreadby': 130,\n",
       " 'http://dbkwik.webdatacommons.org/memory-alpha.wikia.com/property/holoprogram': 119,\n",
       " 'http://dbkwik.webdatacommons.org/memory-alpha.wikia.com/property/coverDate': 111,\n",
       " 'http://dbkwik.webdatacommons.org/memory-alpha.wikia.com/property/name': 110,\n",
       " 'http://dbkwik.webdatacommons.org/memory-alpha.wikia.com/property/satellites': 108,\n",
       " 'http://dbkwik.webdatacommons.org/memory-alpha.wikia.com/property/abpublisher': 104,\n",
       " 'http://dbkwik.webdatacommons.org/memory-alpha.wikia.com/property/year': 103,\n",
       " 'http://dbkwik.webdatacommons.org/memory-alpha.wikia.com/property/season': 100,\n",
       " 'http://dbkwik.webdatacommons.org/memory-alpha.wikia.com/property/developer': 94,\n",
       " 'http://dbkwik.webdatacommons.org/memory-alpha.wikia.com/property/speed': 92,\n",
       " 'http://dbkwik.webdatacommons.org/memory-alpha.wikia.com/property/awardsForTrek': 87,\n",
       " 'http://dbkwik.webdatacommons.org/memory-alpha.wikia.com/property/result': 80,\n",
       " 'http://dbkwik.webdatacommons.org/memory-alpha.wikia.com/property/stitle': 73,\n",
       " 'http://dbkwik.webdatacommons.org/memory-alpha.wikia.com/property/aself': 73,\n",
       " 'http://dbkwik.webdatacommons.org/memory-alpha.wikia.com/property/last': 66,\n",
       " 'http://dbkwik.webdatacommons.org/memory-alpha.wikia.com/property/sseries': 63,\n",
       " 'http://dbkwik.webdatacommons.org/memory-alpha.wikia.com/property/label': 62,\n",
       " 'http://dbkwik.webdatacommons.org/memory-alpha.wikia.com/property/strength': 55,\n",
       " 'http://dbkwik.webdatacommons.org/memory-alpha.wikia.com/property/originalPurpose': 55,\n",
       " 'http://dbkwik.webdatacommons.org/memory-alpha.wikia.com/property/actualSpecies': 54,\n",
       " 'http://dbkwik.webdatacommons.org/memory-alpha.wikia.com/property/from': 53,\n",
       " 'http://dbkwik.webdatacommons.org/memory-alpha.wikia.com/property/planets': 51,\n",
       " 'http://dbkwik.webdatacommons.org/memory-alpha.wikia.com/property/character': 49,\n",
       " 'http://dbkwik.webdatacommons.org/memory-alpha.wikia.com/property/snext': 46,\n",
       " 'http://dbkwik.webdatacommons.org/memory-alpha.wikia.com/property/actualIdentity': 45,\n",
       " 'http://dbkwik.webdatacommons.org/memory-alpha.wikia.com/property/sprev': 40,\n",
       " 'http://dbkwik.webdatacommons.org/memory-alpha.wikia.com/property/wsarc1desc': 38,\n",
       " 'http://dbkwik.webdatacommons.org/memory-alpha.wikia.com/property/addmusic': 30,\n",
       " 'http://dbkwik.webdatacommons.org/memory-alpha.wikia.com/property/losses': 28,\n",
       " 'http://dbkwik.webdatacommons.org/memory-alpha.wikia.com/property/majorSpecies': 28,\n",
       " 'http://dbkwik.webdatacommons.org/memory-alpha.wikia.com/property/serialNumber': 27,\n",
       " 'http://dbkwik.webdatacommons.org/memory-alpha.wikia.com/property/partOf': 27,\n",
       " 'http://dbkwik.webdatacommons.org/memory-alpha.wikia.com/property/wsproducedby': 22,\n",
       " 'http://dbkwik.webdatacommons.org/memory-alpha.wikia.com/property/language': 20,\n",
       " 'http://dbkwik.webdatacommons.org/memory-alpha.wikia.com/property/capital': 19,\n",
       " 'http://dbkwik.webdatacommons.org/memory-alpha.wikia.com/property/wsdate': 18,\n",
       " 'http://dbkwik.webdatacommons.org/memory-alpha.wikia.com/property/intelligenceService': 18,\n",
       " 'http://dbkwik.webdatacommons.org/memory-alpha.wikia.com/property/military': 17,\n",
       " 'http://dbkwik.webdatacommons.org/memory-alpha.wikia.com/property/prevchrono': 17,\n",
       " 'http://dbkwik.webdatacommons.org/memory-alpha.wikia.com/property/nextchrono': 16,\n",
       " 'http://dbkwik.webdatacommons.org/memory-alpha.wikia.com/property/headOfState': 15,\n",
       " 'http://dbkwik.webdatacommons.org/memory-alpha.wikia.com/property/wsscreenplayby': 15,\n",
       " 'http://dbkwik.webdatacommons.org/memory-alpha.wikia.com/property/orchestrator': 14,\n",
       " 'http://dbkwik.webdatacommons.org/memory-alpha.wikia.com/property/aprevreleasedinseries': 13,\n",
       " 'http://dbkwik.webdatacommons.org/memory-alpha.wikia.com/property/headOfGovernment': 13,\n",
       " 'http://dbkwik.webdatacommons.org/memory-alpha.wikia.com/property/legislature': 12,\n",
       " 'http://dbkwik.webdatacommons.org/memory-alpha.wikia.com/property/active': 11,\n",
       " 'http://dbkwik.webdatacommons.org/memory-alpha.wikia.com/property/studio': 10,\n",
       " 'http://dbkwik.webdatacommons.org/memory-alpha.wikia.com/property/wsarc2desc': 10,\n",
       " 'http://dbkwik.webdatacommons.org/memory-alpha.wikia.com/property/aprevproducedinseries': 10,\n",
       " 'http://dbkwik.webdatacommons.org/memory-alpha.wikia.com/property/anextreleasedinseries': 10,\n",
       " 'http://dbkwik.webdatacommons.org/memory-alpha.wikia.com/property/currency': 8,\n",
       " 'http://dbkwik.webdatacommons.org/memory-alpha.wikia.com/property/castcap': 8,\n",
       " 'http://dbkwik.webdatacommons.org/memory-alpha.wikia.com/property/aprevreleasedinall': 8,\n",
       " 'http://dbkwik.webdatacommons.org/memory-alpha.wikia.com/property/bloodType': 8,\n",
       " 'http://dbkwik.webdatacommons.org/memory-alpha.wikia.com/property/aarc0prevpart': 8,\n",
       " 'http://dbkwik.webdatacommons.org/memory-alpha.wikia.com/property/network': 8,\n",
       " 'http://dbkwik.webdatacommons.org/memory-alpha.wikia.com/property/anextproducedinseries': 7,\n",
       " 'http://dbkwik.webdatacommons.org/memory-alpha.wikia.com/property/anextinuniversetimeline': 7,\n",
       " 'http://dbkwik.webdatacommons.org/memory-alpha.wikia.com/property/date': 7,\n",
       " 'http://dbkwik.webdatacommons.org/memory-alpha.wikia.com/property/aprevinuniversetimeline': 7,\n",
       " 'http://dbkwik.webdatacommons.org/memory-alpha.wikia.com/property/disambig': 7,\n",
       " 'http://dbkwik.webdatacommons.org/memory-alpha.wikia.com/property/cast2cap': 6,\n",
       " 'http://dbkwik.webdatacommons.org/memory-alpha.wikia.com/property/image2cap': 6,\n",
       " 'http://dbkwik.webdatacommons.org/memory-alpha.wikia.com/property/aarc0nextpart': 6,\n",
       " 'http://dbkwik.webdatacommons.org/memory-alpha.wikia.com/property/anextreleasedinall': 6,\n",
       " 'http://dbkwik.webdatacommons.org/memory-alpha.wikia.com/property/aarc1nextpart': 5,\n",
       " 'http://dbkwik.webdatacommons.org/memory-alpha.wikia.com/property/shipcap': 5,\n",
       " 'http://dbkwik.webdatacommons.org/memory-alpha.wikia.com/property/orbitalcap': 5,\n",
       " 'http://xmlns.com/foaf/0.1/thumbnail': 4,\n",
       " 'http://dbkwik.webdatacommons.org/ontology/thumbnail': 4,\n",
       " 'http://xmlns.com/foaf/0.1/depiction': 4,\n",
       " 'http://dbkwik.webdatacommons.org/memory-alpha.wikia.com/property/relatives': 4,\n",
       " 'http://dbkwik.webdatacommons.org/memory-alpha.wikia.com/property/sairdatemonth': 3,\n",
       " 'http://dbkwik.webdatacommons.org/memory-alpha.wikia.com/property/placeOfBirth': 3,\n",
       " 'http://dbkwik.webdatacommons.org/memory-alpha.wikia.com/property/judiciary': 3,\n",
       " 'http://dbkwik.webdatacommons.org/memory-alpha.wikia.com/property/sairdatemonthRemastered': 3,\n",
       " 'http://dbkwik.webdatacommons.org/memory-alpha.wikia.com/property/cast3cap': 2,\n",
       " 'http://dbkwik.webdatacommons.org/memory-alpha.wikia.com/property/title': 2,\n",
       " 'http://dbkwik.webdatacommons.org/memory-alpha.wikia.com/property/affilaition': 2,\n",
       " 'http://dbkwik.webdatacommons.org/memory-alpha.wikia.com/property/wsarc3desc': 2,\n",
       " 'http://dbkwik.webdatacommons.org/memory-alpha.wikia.com/property/readby': 2,\n",
       " 'http://dbkwik.webdatacommons.org/memory-alpha.wikia.com/property/other': 2,\n",
       " 'http://dbkwik.webdatacommons.org/memory-alpha.wikia.com/property/character(s)_': 2,\n",
       " 'http://dbkwik.webdatacommons.org/memory-alpha.wikia.com/property/dis': 2,\n",
       " 'http://dbkwik.webdatacommons.org/memory-alpha.wikia.com/property/birthName': 2,\n",
       " 'http://dbkwik.webdatacommons.org/memory-alpha.wikia.com/property/maritialStatus': 2,\n",
       " 'http://dbkwik.webdatacommons.org/memory-alpha.wikia.com/property/aarc2nextpart': 2,\n",
       " 'http://dbkwik.webdatacommons.org/memory-alpha.wikia.com/property/parents': 2,\n",
       " 'http://dbkwik.webdatacommons.org/memory-alpha.wikia.com/property/conductor': 2,\n",
       " 'http://dbkwik.webdatacommons.org/memory-alpha.wikia.com/property/dt': 2,\n",
       " 'http://dbkwik.webdatacommons.org/memory-alpha.wikia.com/property/crew': 1,\n",
       " 'http://dbkwik.webdatacommons.org/memory-alpha.wikia.com/property/rack': 1,\n",
       " 'http://dbkwik.webdatacommons.org/memory-alpha.wikia.com/property/timespan': 1,\n",
       " 'http://dbkwik.webdatacommons.org/memory-alpha.wikia.com/property/docking': 1,\n",
       " 'http://dbkwik.webdatacommons.org/memory-alpha.wikia.com/property/martialStatus': 1,\n",
       " 'http://dbkwik.webdatacommons.org/memory-alpha.wikia.com/property/perpack': 1,\n",
       " 'http://dbkwik.webdatacommons.org/memory-alpha.wikia.com/property/awards': 1,\n",
       " 'http://dbkwik.webdatacommons.org/memory-alpha.wikia.com/property/written': 1,\n",
       " 'http://dbkwik.webdatacommons.org/memory-alpha.wikia.com/property/mass': 1,\n",
       " 'http://dbkwik.webdatacommons.org/memory-alpha.wikia.com/property/aarc1prevpart': 1,\n",
       " 'http://dbkwik.webdatacommons.org/memory-alpha.wikia.com/property/surfacecap': 1,\n",
       " 'http://dbkwik.webdatacommons.org/memory-alpha.wikia.com/property/spouse(s)_': 1,\n",
       " 'http://dbkwik.webdatacommons.org/memory-alpha.wikia.com/property/text': 1,\n",
       " 'http://dbkwik.webdatacommons.org/memory-alpha.wikia.com/property/pop': 1,\n",
       " 'http://dbkwik.webdatacommons.org/memory-alpha.wikia.com/property/perbox': 1,\n",
       " 'http://dbkwik.webdatacommons.org/memory-alpha.wikia.com/property/occcupation': 1,\n",
       " 'http://dbkwik.webdatacommons.org/memory-alpha.wikia.com/property/image3cap': 1,\n",
       " 'http://dbkwik.webdatacommons.org/memory-alpha.wikia.com/property/aarc2prevpart': 1,\n",
       " 'http://dbkwik.webdatacommons.org/memory-alpha.wikia.com/property/imageCaption': 1,\n",
       " 'http://dbkwik.webdatacommons.org/memory-alpha.wikia.com/property/genres': 1,\n",
       " 'http://dbkwik.webdatacommons.org/memory-alpha.wikia.com/property/affilation': 1,\n",
       " 'http://dbkwik.webdatacommons.org/memory-alpha.wikia.com/property/guest': 1,\n",
       " 'http://dbkwik.webdatacommons.org/memory-alpha.wikia.com/property/conflictName': 1,\n",
       " 'http://dbkwik.webdatacommons.org/memory-alpha.wikia.com/property/series-_': 1,\n",
       " 'http://dbkwik.webdatacommons.org/memory-alpha.wikia.com/property/founded': 1}"
      ]
     },
     "execution_count": 14,
     "metadata": {},
     "output_type": "execute_result"
    }
   ],
   "execution_count": 14
  },
  {
   "metadata": {},
   "cell_type": "code",
   "source": "",
   "id": "45b176bfeb546c55",
   "outputs": [],
   "execution_count": null
  }
 ],
 "metadata": {
  "kernelspec": {
   "display_name": "Python 3",
   "language": "python",
   "name": "python3"
  },
  "language_info": {
   "codemirror_mode": {
    "name": "ipython",
    "version": 2
   },
   "file_extension": ".py",
   "mimetype": "text/x-python",
   "name": "python",
   "nbconvert_exporter": "python",
   "pygments_lexer": "ipython2",
   "version": "2.7.6"
  }
 },
 "nbformat": 4,
 "nbformat_minor": 5
}
